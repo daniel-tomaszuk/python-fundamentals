{
 "cells": [
  {
   "cell_type": "code",
   "execution_count": 1,
   "id": "bfecdee1-bfeb-4cca-978f-ac47fc2bbd34",
   "metadata": {},
   "outputs": [],
   "source": [
    "# args / kwargs"
   ]
  },
  {
   "cell_type": "code",
   "execution_count": 2,
   "id": "48811ca8-cecf-4756-b77a-85af7f493d26",
   "metadata": {},
   "outputs": [],
   "source": [
    " def  my_func(a, b, c):\n",
    "    print(\"a={0}, b={1}, c={2}\".format(a, b, c))"
   ]
  },
  {
   "cell_type": "code",
   "execution_count": 3,
   "id": "6f755dcf-4d39-4b97-aa38-9e51e04fa49e",
   "metadata": {},
   "outputs": [
    {
     "name": "stdout",
     "output_type": "stream",
     "text": [
      "a=1, b=2, c=3\n"
     ]
    }
   ],
   "source": [
    "my_func(1, 2, 3)"
   ]
  },
  {
   "cell_type": "code",
   "execution_count": 4,
   "id": "66de0d3b-784d-49be-99c5-3277b5be896c",
   "metadata": {},
   "outputs": [],
   "source": [
    "def my_func(a=1, b=2, c=3):\n",
    "    print(\"a={0}, b={1}, c={2}\")"
   ]
  },
  {
   "cell_type": "code",
   "execution_count": 5,
   "id": "493012ed-8395-4b7b-a130-6b4e447a800d",
   "metadata": {},
   "outputs": [
    {
     "name": "stdout",
     "output_type": "stream",
     "text": [
      "a={0}, b={1}, c={2}\n"
     ]
    }
   ],
   "source": [
    "my_func()"
   ]
  },
  {
   "cell_type": "code",
   "execution_count": 6,
   "id": "d833c511-33f0-497a-879c-55cf46314020",
   "metadata": {},
   "outputs": [],
   "source": [
    "# packed values, unpacking iterables"
   ]
  },
  {
   "cell_type": "code",
   "execution_count": 7,
   "id": "d7d03c11-6334-4bdc-b4ea-a4e3157def4a",
   "metadata": {},
   "outputs": [],
   "source": [
    "a, b, c = \"XYZ\""
   ]
  },
  {
   "cell_type": "code",
   "execution_count": 8,
   "id": "0dade211-d183-4112-8dd1-439dafa9d3b7",
   "metadata": {},
   "outputs": [
    {
     "name": "stdout",
     "output_type": "stream",
     "text": [
      "X Y Z\n"
     ]
    }
   ],
   "source": [
    "print(a, b, c)"
   ]
  },
  {
   "cell_type": "code",
   "execution_count": 9,
   "id": "646a9173-1318-494c-b78a-c9b9e932f226",
   "metadata": {},
   "outputs": [],
   "source": [
    "# unpack dict keys\n",
    "d = {\"a\": 1, \"b\": 2, \"c\": 3, \"d\": 4}\n",
    "a, b, c, d = d"
   ]
  },
  {
   "cell_type": "code",
   "execution_count": 10,
   "id": "2d491304-2236-4f4c-b23f-6dea3a35d741",
   "metadata": {},
   "outputs": [
    {
     "name": "stdout",
     "output_type": "stream",
     "text": [
      "a b c d\n"
     ]
    }
   ],
   "source": [
    "print(a, b, c, d)"
   ]
  },
  {
   "cell_type": "code",
   "execution_count": 11,
   "id": "4577350b-9571-4bbe-a9fe-1408af313559",
   "metadata": {},
   "outputs": [],
   "source": [
    "# extended unpacking with * and **"
   ]
  },
  {
   "cell_type": "code",
   "execution_count": 12,
   "id": "c1e8c833-8649-4fa0-81da-ae9dadfc7307",
   "metadata": {},
   "outputs": [
    {
     "name": "stdout",
     "output_type": "stream",
     "text": [
      "1 [2, 3, 4, 5, 6, 7]\n"
     ]
    }
   ],
   "source": [
    "l = [1, 2, 3, 4, 5, 6, 7]\n",
    "a, *b = l  # neat! The same as a, b = l[0], l[1::], l.pop(0)\n",
    "print(a, b)"
   ]
  },
  {
   "cell_type": "code",
   "execution_count": 13,
   "id": "2c19a47a-475e-484a-a48f-24d322e972ad",
   "metadata": {},
   "outputs": [
    {
     "name": "stdout",
     "output_type": "stream",
     "text": [
      "1 2 [3, 4, 5, 6, 7]\n"
     ]
    }
   ],
   "source": [
    "a, b, *c = l\n",
    "print(a, b, c)"
   ]
  },
  {
   "cell_type": "code",
   "execution_count": 14,
   "id": "a2f5d7e4-6e16-4e06-950e-9067dfbbd61e",
   "metadata": {},
   "outputs": [
    {
     "name": "stdout",
     "output_type": "stream",
     "text": [
      "1 2 [3, 4, 5, 6] 7\n"
     ]
    }
   ],
   "source": [
    "a, b, *c, d = l\n",
    "print(a, b, c, d)"
   ]
  },
  {
   "cell_type": "code",
   "execution_count": 15,
   "id": "87c3bc0e-92bb-4b5e-9ad5-8d01cdc4e6a2",
   "metadata": {},
   "outputs": [
    {
     "name": "stdout",
     "output_type": "stream",
     "text": [
      "[1, 2, 3, 4, 5, 6, 7, 8]\n"
     ]
    }
   ],
   "source": [
    "l1 = [1,2,3,4]\n",
    "l2 = [5,6,7,8]\n",
    "l = [*l1, *l2]\n",
    "print(l)"
   ]
  },
  {
   "cell_type": "code",
   "execution_count": 16,
   "id": "0b49799d-389f-42c3-a38c-16bbd5cf66c0",
   "metadata": {},
   "outputs": [
    {
     "name": "stdout",
     "output_type": "stream",
     "text": [
      "Counter({'p': 1, 'y': 1, 't': 1, 'h': 1, 'o': 1, 'n': 1})\n"
     ]
    }
   ],
   "source": [
    "from collections import Counter\n",
    "\n",
    "\n",
    "c = Counter(\"python\")\n",
    "print(c)"
   ]
  },
  {
   "cell_type": "code",
   "execution_count": 17,
   "id": "8332d839-08ce-48f8-a672-aec191551837",
   "metadata": {},
   "outputs": [
    {
     "data": {
      "text/plain": [
       "{'p': 1, 'y': 1, 't': 1, 'h': 1, 'o': 1, 'n': 1}"
      ]
     },
     "execution_count": 17,
     "metadata": {},
     "output_type": "execute_result"
    }
   ],
   "source": [
    "dict(**c)"
   ]
  },
  {
   "cell_type": "code",
   "execution_count": 18,
   "id": "da3d6ec2-a9cb-4d07-83bc-3e4754663a27",
   "metadata": {},
   "outputs": [],
   "source": [
    "# nested unpacking - using () on the expression left hand side"
   ]
  },
  {
   "cell_type": "code",
   "execution_count": 19,
   "id": "c0059b54-f529-456d-9b3e-0f1a80a0426d",
   "metadata": {},
   "outputs": [
    {
     "data": {
      "text/plain": [
       "(1, 2, 3, 4)"
      ]
     },
     "execution_count": 19,
     "metadata": {},
     "output_type": "execute_result"
    }
   ],
   "source": [
    "a, b, (c, d) = [1, 2, [3, 4]]\n",
    "a, b, c, d"
   ]
  },
  {
   "cell_type": "code",
   "execution_count": 20,
   "id": "1563d662-1da9-4ff4-8351-5318fb149e00",
   "metadata": {},
   "outputs": [
    {
     "data": {
      "text/plain": [
       "(1, [2, 3], 'X', 'Y', 'Z')"
      ]
     },
     "execution_count": 20,
     "metadata": {},
     "output_type": "execute_result"
    }
   ],
   "source": [
    "a, *b, (c, d, e) = [1, 2, 3, \"XYZ\"]\n",
    "a, b, c, d, e"
   ]
  },
  {
   "cell_type": "code",
   "execution_count": 21,
   "id": "0caf2529-e305-4ccd-bdf1-332a1f4a3297",
   "metadata": {},
   "outputs": [
    {
     "data": {
      "text/plain": [
       "(1, [2, 3], 'p', ['y', 't', 'h', 'o', 'n'])"
      ]
     },
     "execution_count": 21,
     "metadata": {},
     "output_type": "execute_result"
    }
   ],
   "source": [
    "a, *b, (c, *d) = [1, 2, 3, \"python\"]\n",
    "a, b, c, d"
   ]
  },
  {
   "cell_type": "code",
   "execution_count": 22,
   "id": "c6d15250-4d76-4420-b286-6ee3dd707d86",
   "metadata": {},
   "outputs": [
    {
     "data": {
      "text/plain": [
       "['p', 'y', 't', 'h', 'o', 'n']"
      ]
     },
     "execution_count": 22,
     "metadata": {},
     "output_type": "execute_result"
    }
   ],
   "source": [
    "x = \"python\"\n",
    "*x, = x  # neat trick! unpacks string into a list, also works for different types\n",
    "x  "
   ]
  },
  {
   "cell_type": "code",
   "execution_count": 23,
   "id": "b423ccf3-6c29-4e75-893a-c35224ebebcc",
   "metadata": {},
   "outputs": [
    {
     "data": {
      "text/plain": [
       "['o', 'y', 'p', 'n', 'h', 't']"
      ]
     },
     "execution_count": 23,
     "metadata": {},
     "output_type": "execute_result"
    }
   ],
   "source": [
    "*l, = set(\"python\")\n",
    "l"
   ]
  },
  {
   "cell_type": "code",
   "execution_count": 24,
   "id": "d7eefa3d-c003-475c-aaf6-911f02edd204",
   "metadata": {},
   "outputs": [],
   "source": [
    "#  *args"
   ]
  },
  {
   "cell_type": "code",
   "execution_count": 25,
   "id": "449ac892-77cf-4e99-b091-60f09b8c5a2b",
   "metadata": {},
   "outputs": [],
   "source": [
    "def func1(a, b, *args):\n",
    "    print(a, b, args)\n"
   ]
  },
  {
   "cell_type": "code",
   "execution_count": 26,
   "id": "16267d66-a96d-45c5-bdbe-d2e41705d2af",
   "metadata": {},
   "outputs": [
    {
     "name": "stdout",
     "output_type": "stream",
     "text": [
      "a b ()\n"
     ]
    }
   ],
   "source": [
    "func1(\"a\", \"b\")"
   ]
  },
  {
   "cell_type": "code",
   "execution_count": 27,
   "id": "70135876-1b1d-4588-b2b9-d8844cb91318",
   "metadata": {},
   "outputs": [
    {
     "name": "stdout",
     "output_type": "stream",
     "text": [
      "1 2 (3, 4, 5, 6, 7, 8)\n"
     ]
    }
   ],
   "source": [
    "func1(1, 2, 3, 4, 5, 6, 7, 8)"
   ]
  },
  {
   "cell_type": "code",
   "execution_count": 28,
   "id": "2c6211a6-6c21-41ba-a314-b88cbbef9d23",
   "metadata": {},
   "outputs": [],
   "source": [
    "#  **kwargs"
   ]
  },
  {
   "cell_type": "code",
   "execution_count": 29,
   "id": "dc5eea65-5bce-4ecb-88f8-05031840a748",
   "metadata": {},
   "outputs": [],
   "source": [
    "def func1(a, b, c):\n",
    "    print(a, b, c)\n"
   ]
  },
  {
   "cell_type": "code",
   "execution_count": 30,
   "id": "402fc22c-451d-414d-9afb-6982c656e0a8",
   "metadata": {},
   "outputs": [
    {
     "name": "stdout",
     "output_type": "stream",
     "text": [
      "1 2 3\n"
     ]
    }
   ],
   "source": [
    "func1(1, 2, 3)"
   ]
  },
  {
   "cell_type": "code",
   "execution_count": 31,
   "id": "bc5a6f47-4021-43cd-beba-a93a955b7da0",
   "metadata": {},
   "outputs": [
    {
     "name": "stdout",
     "output_type": "stream",
     "text": [
      "1 5 3\n"
     ]
    }
   ],
   "source": [
    "func1(1, c=3, b=5)"
   ]
  },
  {
   "cell_type": "code",
   "execution_count": 32,
   "id": "d10cb4e0-1ff7-460c-80b3-bd61509bd2e6",
   "metadata": {},
   "outputs": [],
   "source": [
    "def func1(a, b, *args, d):\n",
    "    print(a, b, args, d)"
   ]
  },
  {
   "cell_type": "code",
   "execution_count": 33,
   "id": "cae8199c-ce3e-4918-8712-ad3610f541b7",
   "metadata": {},
   "outputs": [
    {
     "name": "stdout",
     "output_type": "stream",
     "text": [
      "1 2 (3, 4) 5\n"
     ]
    }
   ],
   "source": [
    "func1(1,2,3,4, d=5)"
   ]
  },
  {
   "cell_type": "code",
   "execution_count": 34,
   "id": "c84829a9-f580-431a-a0c6-de4d01098af3",
   "metadata": {},
   "outputs": [
    {
     "name": "stdout",
     "output_type": "stream",
     "text": [
      "(1, 2, 3, 4, 5) a\n"
     ]
    }
   ],
   "source": [
    "def func1(*args, d):\n",
    "    print(args, d)\n",
    "\n",
    "func1(1,2,3,4,5,d=\"a\")"
   ]
  },
  {
   "cell_type": "code",
   "execution_count": 35,
   "id": "808fb06b-89cf-4a92-9cd5-1cca8d343159",
   "metadata": {},
   "outputs": [
    {
     "name": "stdout",
     "output_type": "stream",
     "text": [
      "() x\n"
     ]
    }
   ],
   "source": [
    "func1(d=\"x\")"
   ]
  },
  {
   "cell_type": "code",
   "execution_count": 36,
   "id": "b79ef055-8b4b-4749-9ff0-86208227853e",
   "metadata": {},
   "outputs": [],
   "source": [
    "def func1(*, k1=\"a\", k2=\"b\"):\n",
    "    print(k1, k2)"
   ]
  },
  {
   "cell_type": "code",
   "execution_count": 37,
   "id": "c17a69b5-d517-4e25-9f55-679beaa94b37",
   "metadata": {},
   "outputs": [
    {
     "name": "stdout",
     "output_type": "stream",
     "text": [
      "d m\n"
     ]
    }
   ],
   "source": [
    "func1(k1=\"d\", k2=\"m\")"
   ]
  },
  {
   "cell_type": "code",
   "execution_count": 38,
   "id": "59329f31-3400-41e4-97cf-3b07f334d0b1",
   "metadata": {},
   "outputs": [],
   "source": [
    "def func(a, b=2, *args, d):  # d has no default but it will still work as long as *args is present \n",
    "    print(a,b,args,d)\n",
    "    "
   ]
  },
  {
   "cell_type": "code",
   "execution_count": 39,
   "id": "080c56c2-ba31-4c5a-904f-d05c48dc6e85",
   "metadata": {},
   "outputs": [
    {
     "name": "stdout",
     "output_type": "stream",
     "text": [
      "1 2 () 6\n"
     ]
    }
   ],
   "source": [
    "func(1, d=6)"
   ]
  },
  {
   "cell_type": "code",
   "execution_count": 40,
   "id": "bc1151d0-55be-4c55-94d9-64f949c52001",
   "metadata": {},
   "outputs": [],
   "source": [
    "def func(*args, **kwargs):\n",
    "    print(args, kwargs)"
   ]
  },
  {
   "cell_type": "code",
   "execution_count": 41,
   "id": "d9edc7a7-8c5d-4b92-99b7-4005287ac126",
   "metadata": {},
   "outputs": [
    {
     "name": "stdout",
     "output_type": "stream",
     "text": [
      "(1, 2, 3, 4, 5) {'k': 'a', 'b': 'c', 'd': 1234}\n"
     ]
    }
   ],
   "source": [
    "func(1,2,3,4,5,k=\"a\", b=\"c\", d=1234)"
   ]
  },
  {
   "cell_type": "code",
   "execution_count": 42,
   "id": "91153cd5-86ff-4994-84c9-bf47c23058d4",
   "metadata": {},
   "outputs": [],
   "source": [
    "def func(*, d, **kwargs):\n",
    "    print(d, kwargs)"
   ]
  },
  {
   "cell_type": "code",
   "execution_count": 43,
   "id": "1212a685-ba2f-4167-8c66-22b14df8013d",
   "metadata": {},
   "outputs": [
    {
     "name": "stdout",
     "output_type": "stream",
     "text": [
      "func() takes 0 positional arguments but 4 positional arguments (and 1 keyword-only argument) were given\n"
     ]
    }
   ],
   "source": [
    "try:\n",
    "    # * in func signature prohibits any positional args\n",
    "    func(1,2,3,4,d=6,z=dict(x=1, y=2))\n",
    "except TypeError as e:\n",
    "    print(e)"
   ]
  },
  {
   "cell_type": "code",
   "execution_count": 44,
   "id": "4c7559ae-06b0-4ff7-a01e-bab66f5b013d",
   "metadata": {},
   "outputs": [],
   "source": [
    "# a simple function timer\n",
    "\n",
    "import time \n",
    "\n",
    "def time_it(fn):\n",
    "\n",
    "    def inner(*args, **kwargs):\n",
    "        start = time.perf_counter()\n",
    "        result = fn(*args, **kwargs)\n",
    "        duration = time.perf_counter() - start\n",
    "        print(f\"Function {fn.__name__} took {duration:.8f} seconds\")\n",
    "        return result\n",
    "    return inner\n"
   ]
  },
  {
   "cell_type": "code",
   "execution_count": 45,
   "id": "c504a00b-dba8-4f8a-b9a6-1e1d00806c09",
   "metadata": {},
   "outputs": [],
   "source": [
    "def factorial(n: int):\n",
    "    result = n\n",
    "    while n > 1:\n",
    "        n -= 1\n",
    "        result *= n\n",
    "        \n",
    "    return result\n",
    "\n",
    "factorial = time_it(factorial)"
   ]
  },
  {
   "cell_type": "code",
   "execution_count": 46,
   "id": "b8eb90a5-57f6-4479-bcec-3003801eca9e",
   "metadata": {},
   "outputs": [
    {
     "data": {
      "text/plain": [
       "('fn',)"
      ]
     },
     "execution_count": 46,
     "metadata": {},
     "output_type": "execute_result"
    }
   ],
   "source": [
    "factorial.__code__.co_freevars"
   ]
  },
  {
   "cell_type": "code",
   "execution_count": 47,
   "id": "f0913357-74ad-4b20-8deb-40a304d02a43",
   "metadata": {},
   "outputs": [
    {
     "name": "stdout",
     "output_type": "stream",
     "text": [
      "Function factorial took 0.00000209 seconds\n"
     ]
    },
    {
     "data": {
      "text/plain": [
       "120"
      ]
     },
     "execution_count": 47,
     "metadata": {},
     "output_type": "execute_result"
    }
   ],
   "source": [
    "factorial(5)"
   ]
  },
  {
   "cell_type": "code",
   "execution_count": 48,
   "id": "402ade72-d29f-4eb3-b053-28e1eb96e27b",
   "metadata": {},
   "outputs": [],
   "source": [
    "from datetime import datetime, timezone\n",
    "from time import sleep\n",
    "\n",
    "# default mutalbe values - Beware!\n",
    "\n",
    "def func(*, dt=datetime.now(timezone.utc)):\n",
    "    print(dt)"
   ]
  },
  {
   "cell_type": "code",
   "execution_count": 49,
   "id": "6c4bd6e6-780c-4d73-a95c-39727465e435",
   "metadata": {},
   "outputs": [
    {
     "name": "stdout",
     "output_type": "stream",
     "text": [
      "2024-08-26 16:33:46.253718+00:00\n",
      "2024-08-26 16:33:46.253718+00:00\n"
     ]
    }
   ],
   "source": [
    "# first call \n",
    "func()\n",
    "sleep(2)\n",
    "\n",
    "# second call - \"old\" default is used, dt taken from creation of a module, not when function is called\n",
    "func()"
   ]
  },
  {
   "cell_type": "code",
   "execution_count": null,
   "id": "3e0b65f0-61a4-4e1c-9005-fcaed8b96f75",
   "metadata": {},
   "outputs": [],
   "source": []
  }
 ],
 "metadata": {
  "kernelspec": {
   "display_name": "Python 3 (ipykernel)",
   "language": "python",
   "name": "python3"
  },
  "language_info": {
   "codemirror_mode": {
    "name": "ipython",
    "version": 3
   },
   "file_extension": ".py",
   "mimetype": "text/x-python",
   "name": "python",
   "nbconvert_exporter": "python",
   "pygments_lexer": "ipython3",
   "version": "3.12.3"
  }
 },
 "nbformat": 4,
 "nbformat_minor": 5
}
