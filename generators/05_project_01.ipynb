{
 "cells": [
  {
   "cell_type": "markdown",
   "id": "2c8dfa7b-23af-4bce-b377-8b94cd3f3bd4",
   "metadata": {},
   "source": [
    "#### Create tickets.csv iterator with data parsing"
   ]
  },
  {
   "cell_type": "code",
   "execution_count": 1,
   "id": "7bb8aaec-a3a4-493a-b988-293a9052f569",
   "metadata": {},
   "outputs": [],
   "source": [
    "import datetime\n",
    "import contextlib\n",
    "from collections import namedtuple\n",
    "\n",
    "\n",
    "class TicketsDataIterator:\n",
    "    def __init__(self, file_name: str):\n",
    "        self.file_name = file_name\n",
    "        with open(self.file_name) as f:\n",
    "            header_names = next(f, None)\n",
    "            if not header_names:\n",
    "                raise ValueError(\"File must not be empty.\")\n",
    "\n",
    "        header_names = header_names.replace(\"\\n\", \"\").replace(\" \", \"_\")\n",
    "        header_names = \",\".join([h.casefold().strip() for h in header_names.split(\",\")])\n",
    "        self.DataRow = namedtuple(\n",
    "            \"DataRow\", \n",
    "            header_names,\n",
    "        )\n",
    "\n",
    "        self.data_row_gen = self._get_data_row()\n",
    "\n",
    "    def __iter__(self):\n",
    "        return self\n",
    "\n",
    "    def __next__(self):\n",
    "        row = next(self.data_row_gen, None)\n",
    "        if not row:\n",
    "            raise StopIteration\n",
    "\n",
    "        return self.DataRow(*row)\n",
    "\n",
    "    def _get_data_row(self):\n",
    "        with open(self.file_name) as f:\n",
    "            next(f)  # ignore headers\n",
    "            for row in f:\n",
    "                row = row.replace(\"\\n\", \"\").split(\",\")\n",
    "                yield from self._parse_data_types(row)\n",
    "\n",
    "    def _parse_data_types(self, row: list[str]) -> list[str | int | datetime.date]:\n",
    "        data_row = []\n",
    "        for el in row:\n",
    "            with contextlib.suppress(ValueError):\n",
    "                data_row.append(datetime.datetime.strptime(el, \"%m/%d/%Y\").date())\n",
    "                continue\n",
    "                \n",
    "            if el.isdigit():\n",
    "                data_row.append(int(el))\n",
    "            else:\n",
    "                data_row.append(str(el))\n",
    "        yield data_row\n"
   ]
  },
  {
   "cell_type": "code",
   "execution_count": 2,
   "id": "c52a2fc4-5668-45e1-8845-b08ada597281",
   "metadata": {},
   "outputs": [],
   "source": [
    "tdi = TicketsDataIterator(\"tickets.csv\")"
   ]
  },
  {
   "cell_type": "code",
   "execution_count": 3,
   "id": "5aa300a6-fd0b-425f-aa76-73219ee168d2",
   "metadata": {},
   "outputs": [
    {
     "data": {
      "text/plain": [
       "(DataRow(summons_number=4006478550, plate_id='VAD7274', registration_state='VA', plate_type='PAS', issue_date=datetime.date(2016, 10, 5), violation_code=5, vehicle_body_type='4D', vehicle_make='BMW', violation_description='BUS LANE VIOLATION'),\n",
       " DataRow(summons_number=4006462396, plate_id='22834JK', registration_state='NY', plate_type='COM', issue_date=datetime.date(2016, 9, 30), violation_code=5, vehicle_body_type='VAN', vehicle_make='CHEVR', violation_description='BUS LANE VIOLATION'),\n",
       " DataRow(summons_number=4007117810, plate_id='21791MG', registration_state='NY', plate_type='COM', issue_date=datetime.date(2017, 4, 10), violation_code=5, vehicle_body_type='VAN', vehicle_make='DODGE', violation_description='BUS LANE VIOLATION'))"
      ]
     },
     "execution_count": 3,
     "metadata": {},
     "output_type": "execute_result"
    }
   ],
   "source": [
    "next(tdi), next(tdi), next(tdi)"
   ]
  },
  {
   "cell_type": "code",
   "execution_count": 4,
   "id": "ba56c61f-e0ef-4b27-b07c-4b38ef20d4dc",
   "metadata": {},
   "outputs": [],
   "source": [
    "# violations per car make\n",
    "violations = {}\n",
    "for data_row in TicketsDataIterator(\"tickets.csv\"):\n",
    "    violations[data_row.vehicle_make] = violations.get(data_row.vehicle_make, 0) + 1"
   ]
  },
  {
   "cell_type": "code",
   "execution_count": 5,
   "id": "ecb398ad-c2a6-4a70-bee2-e3c442ed5dff",
   "metadata": {},
   "outputs": [
    {
     "data": {
      "text/plain": [
       "{'BMW': 34,\n",
       " 'CHEVR': 76,\n",
       " 'DODGE': 45,\n",
       " 'FORD': 104,\n",
       " 'FRUEH': 44,\n",
       " 'HONDA': 106,\n",
       " 'LINCO': 12,\n",
       " 'TOYOT': 112,\n",
       " 'CADIL': 9,\n",
       " 'CHRYS': 12,\n",
       " 'FIR': 1,\n",
       " 'GMC': 35,\n",
       " 'HYUND': 35,\n",
       " 'JAGUA': 3,\n",
       " 'JEEP': 22,\n",
       " 'LEXUS': 26,\n",
       " 'ME/BE': 38,\n",
       " 'MERCU': 4,\n",
       " 'MITSU': 11,\n",
       " 'NISSA': 70,\n",
       " 'HIN': 6,\n",
       " 'NS/OT': 18,\n",
       " 'WORKH': 2,\n",
       " 'ACURA': 12,\n",
       " 'AUDI': 12,\n",
       " 'INTER': 25,\n",
       " 'ISUZU': 10,\n",
       " 'KENWO': 5,\n",
       " 'KIA': 8,\n",
       " 'OLDSM': 1,\n",
       " 'SUBAR': 18,\n",
       " 'VOLVO': 12,\n",
       " 'SATUR': 2,\n",
       " 'SMART': 3,\n",
       " 'INFIN': 13,\n",
       " 'PETER': 1,\n",
       " '': 5,\n",
       " 'CITRO': 1,\n",
       " 'ROVER': 5,\n",
       " 'BUICK': 5,\n",
       " 'GEO': 1,\n",
       " 'MAZDA': 5,\n",
       " 'PORSC': 3,\n",
       " 'VOLKS': 8,\n",
       " 'YAMAH': 1,\n",
       " 'BSA': 1,\n",
       " 'MINI': 1,\n",
       " 'PONTI': 1,\n",
       " 'SPRI': 1,\n",
       " 'PLYMO': 1,\n",
       " 'SCION': 2,\n",
       " 'UPS': 1,\n",
       " 'FIAT': 1,\n",
       " 'UD': 1,\n",
       " 'UTILI': 1,\n",
       " 'GMCQ': 1,\n",
       " 'SAAB': 2,\n",
       " 'HINO': 2,\n",
       " 'STAR': 1,\n",
       " 'AM/T': 1,\n",
       " 'MI/F': 1}"
      ]
     },
     "execution_count": 5,
     "metadata": {},
     "output_type": "execute_result"
    }
   ],
   "source": [
    "violations"
   ]
  },
  {
   "cell_type": "code",
   "execution_count": 6,
   "id": "ca7a48d0-ed5f-4389-b3a7-07094111db13",
   "metadata": {},
   "outputs": [
    {
     "data": {
      "text/plain": [
       "[('TOYOT', 112),\n",
       " ('HONDA', 106),\n",
       " ('FORD', 104),\n",
       " ('CHEVR', 76),\n",
       " ('NISSA', 70),\n",
       " ('DODGE', 45),\n",
       " ('FRUEH', 44),\n",
       " ('ME/BE', 38),\n",
       " ('GMC', 35),\n",
       " ('HYUND', 35),\n",
       " ('BMW', 34),\n",
       " ('LEXUS', 26),\n",
       " ('INTER', 25),\n",
       " ('JEEP', 22),\n",
       " ('NS/OT', 18),\n",
       " ('SUBAR', 18),\n",
       " ('INFIN', 13),\n",
       " ('LINCO', 12),\n",
       " ('CHRYS', 12),\n",
       " ('ACURA', 12),\n",
       " ('AUDI', 12),\n",
       " ('VOLVO', 12),\n",
       " ('MITSU', 11),\n",
       " ('ISUZU', 10),\n",
       " ('CADIL', 9),\n",
       " ('KIA', 8),\n",
       " ('VOLKS', 8),\n",
       " ('HIN', 6),\n",
       " ('KENWO', 5),\n",
       " ('', 5),\n",
       " ('ROVER', 5),\n",
       " ('BUICK', 5),\n",
       " ('MAZDA', 5),\n",
       " ('MERCU', 4),\n",
       " ('JAGUA', 3),\n",
       " ('SMART', 3),\n",
       " ('PORSC', 3),\n",
       " ('WORKH', 2),\n",
       " ('SATUR', 2),\n",
       " ('SCION', 2),\n",
       " ('SAAB', 2),\n",
       " ('HINO', 2),\n",
       " ('FIR', 1),\n",
       " ('OLDSM', 1),\n",
       " ('PETER', 1),\n",
       " ('CITRO', 1),\n",
       " ('GEO', 1),\n",
       " ('YAMAH', 1),\n",
       " ('BSA', 1),\n",
       " ('MINI', 1),\n",
       " ('PONTI', 1),\n",
       " ('SPRI', 1),\n",
       " ('PLYMO', 1),\n",
       " ('UPS', 1),\n",
       " ('FIAT', 1),\n",
       " ('UD', 1),\n",
       " ('UTILI', 1),\n",
       " ('GMCQ', 1),\n",
       " ('STAR', 1),\n",
       " ('AM/T', 1),\n",
       " ('MI/F', 1)]"
      ]
     },
     "execution_count": 6,
     "metadata": {},
     "output_type": "execute_result"
    }
   ],
   "source": [
    "sorted(violations.items(), key=lambda t: t[1], reverse=True)"
   ]
  },
  {
   "cell_type": "code",
   "execution_count": null,
   "id": "2fe4bd2f-709a-466e-928e-4a9b914b914b",
   "metadata": {},
   "outputs": [],
   "source": []
  }
 ],
 "metadata": {
  "kernelspec": {
   "display_name": "Python 3 (ipykernel)",
   "language": "python",
   "name": "python3"
  },
  "language_info": {
   "codemirror_mode": {
    "name": "ipython",
    "version": 3
   },
   "file_extension": ".py",
   "mimetype": "text/x-python",
   "name": "python",
   "nbconvert_exporter": "python",
   "pygments_lexer": "ipython3",
   "version": "3.12.3"
  }
 },
 "nbformat": 4,
 "nbformat_minor": 5
}
