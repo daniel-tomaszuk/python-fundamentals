{
 "cells": [
  {
   "cell_type": "markdown",
   "id": "7cb4878e-ea4b-4393-9df3-6e23bdf024d3",
   "metadata": {},
   "source": [
    "### Generator expressions and their preformance"
   ]
  },
  {
   "cell_type": "code",
   "execution_count": 1,
   "id": "4819855b-9522-4d2f-8398-64541455880e",
   "metadata": {},
   "outputs": [
    {
     "data": {
      "text/plain": [
       "[10000, 10201, 10404, 10609, 10816]"
      ]
     },
     "execution_count": 1,
     "metadata": {},
     "output_type": "execute_result"
    }
   ],
   "source": [
    "l = [i ** 2 for i in range(100, 105)]\n",
    "l"
   ]
  },
  {
   "cell_type": "code",
   "execution_count": 2,
   "id": "ed3ef615-69bb-4d8d-aa9f-b75d0288e0e1",
   "metadata": {},
   "outputs": [
    {
     "data": {
      "text/plain": [
       "(<generator object <genexpr> at 0x109cfb780>,\n",
       " generator,\n",
       " ['__class__',\n",
       "  '__del__',\n",
       "  '__delattr__',\n",
       "  '__dir__',\n",
       "  '__doc__',\n",
       "  '__eq__',\n",
       "  '__format__',\n",
       "  '__ge__',\n",
       "  '__getattribute__',\n",
       "  '__getstate__',\n",
       "  '__gt__',\n",
       "  '__hash__',\n",
       "  '__init__',\n",
       "  '__init_subclass__',\n",
       "  '__iter__',\n",
       "  '__le__',\n",
       "  '__lt__',\n",
       "  '__name__',\n",
       "  '__ne__',\n",
       "  '__new__',\n",
       "  '__next__',\n",
       "  '__qualname__',\n",
       "  '__reduce__',\n",
       "  '__reduce_ex__',\n",
       "  '__repr__',\n",
       "  '__setattr__',\n",
       "  '__sizeof__',\n",
       "  '__str__',\n",
       "  '__subclasshook__',\n",
       "  'close',\n",
       "  'gi_code',\n",
       "  'gi_frame',\n",
       "  'gi_running',\n",
       "  'gi_suspended',\n",
       "  'gi_yieldfrom',\n",
       "  'send',\n",
       "  'throw'])"
      ]
     },
     "execution_count": 2,
     "metadata": {},
     "output_type": "execute_result"
    }
   ],
   "source": [
    "l = (i ** 2 for i in range(100, 105))\n",
    "l, type(l), dir(l)"
   ]
  },
  {
   "cell_type": "code",
   "execution_count": 3,
   "id": "337d955e-c408-4525-83a0-ec0ae2e69e95",
   "metadata": {},
   "outputs": [
    {
     "data": {
      "text/plain": [
       "(10000, 10201)"
      ]
     },
     "execution_count": 3,
     "metadata": {},
     "output_type": "execute_result"
    }
   ],
   "source": [
    "next(l), next(l)"
   ]
  },
  {
   "cell_type": "code",
   "execution_count": 4,
   "id": "91a722a5-f759-4ec1-8104-b98730c50094",
   "metadata": {},
   "outputs": [
    {
     "data": {
      "text/plain": [
       "[10404, 10609, 10816]"
      ]
     },
     "execution_count": 4,
     "metadata": {},
     "output_type": "execute_result"
    }
   ],
   "source": [
    "list(l)"
   ]
  },
  {
   "cell_type": "code",
   "execution_count": 5,
   "id": "c685fd32-e891-4e72-b97f-9f9b9eb9a018",
   "metadata": {},
   "outputs": [],
   "source": [
    "import dis\n",
    "\n",
    "exp = compile(\"(i ** 2 for i in range(5))\", filename=\"<string>\", mode=\"eval\")"
   ]
  },
  {
   "cell_type": "code",
   "execution_count": 6,
   "id": "7d3dba88-7fa9-4e00-9922-694ebc9d39e6",
   "metadata": {},
   "outputs": [
    {
     "name": "stdout",
     "output_type": "stream",
     "text": [
      "  0           0 RESUME                   0\n",
      "\n",
      "  1           2 LOAD_CONST               0 (<code object <genexpr> at 0x109b29020, file \"<string>\", line 1>)\n",
      "              4 MAKE_FUNCTION            0\n",
      "              6 PUSH_NULL\n",
      "              8 LOAD_NAME                0 (range)\n",
      "             10 LOAD_CONST               1 (5)\n",
      "             12 CALL                     1\n",
      "             20 GET_ITER\n",
      "             22 CALL                     0\n",
      "             30 RETURN_VALUE\n",
      "\n",
      "Disassembly of <code object <genexpr> at 0x109b29020, file \"<string>\", line 1>:\n",
      "  1           0 RETURN_GENERATOR\n",
      "              2 POP_TOP\n",
      "              4 RESUME                   0\n",
      "              6 LOAD_FAST                0 (.0)\n",
      "        >>    8 FOR_ITER                 9 (to 30)\n",
      "             12 STORE_FAST               1 (i)\n",
      "             14 LOAD_FAST                1 (i)\n",
      "             16 LOAD_CONST               0 (2)\n",
      "             18 BINARY_OP                8 (**)\n",
      "             22 YIELD_VALUE              1\n",
      "             24 RESUME                   1\n",
      "             26 POP_TOP\n",
      "             28 JUMP_BACKWARD           11 (to 8)\n",
      "        >>   30 END_FOR\n",
      "             32 RETURN_CONST             1 (None)\n",
      "        >>   34 CALL_INTRINSIC_1         3 (INTRINSIC_STOPITERATION_ERROR)\n",
      "             36 RERAISE                  1\n",
      "ExceptionTable:\n",
      "  4 to 32 -> 34 [0] lasti\n"
     ]
    }
   ],
   "source": [
    "dis.dis(exp)  # generator expression make a function underneeth, just like list comprehentions"
   ]
  },
  {
   "cell_type": "code",
   "execution_count": 7,
   "id": "a975f7d9-77ae-477e-9235-30be6fa414f1",
   "metadata": {},
   "outputs": [],
   "source": [
    "start = 1\n",
    "stop = 10\n",
    "mult_list = [[i * j for j in range(start, stop + 1)] for i in range(start, stop + 1)]"
   ]
  },
  {
   "cell_type": "code",
   "execution_count": 8,
   "id": "72a48886-84b8-4e83-9b99-2575847b766f",
   "metadata": {},
   "outputs": [
    {
     "data": {
      "text/plain": [
       "[[1, 2, 3, 4, 5, 6, 7, 8, 9, 10],\n",
       " [2, 4, 6, 8, 10, 12, 14, 16, 18, 20],\n",
       " [3, 6, 9, 12, 15, 18, 21, 24, 27, 30],\n",
       " [4, 8, 12, 16, 20, 24, 28, 32, 36, 40],\n",
       " [5, 10, 15, 20, 25, 30, 35, 40, 45, 50],\n",
       " [6, 12, 18, 24, 30, 36, 42, 48, 54, 60],\n",
       " [7, 14, 21, 28, 35, 42, 49, 56, 63, 70],\n",
       " [8, 16, 24, 32, 40, 48, 56, 64, 72, 80],\n",
       " [9, 18, 27, 36, 45, 54, 63, 72, 81, 90],\n",
       " [10, 20, 30, 40, 50, 60, 70, 80, 90, 100]]"
      ]
     },
     "execution_count": 8,
     "metadata": {},
     "output_type": "execute_result"
    }
   ],
   "source": [
    "mult_list"
   ]
  },
  {
   "cell_type": "code",
   "execution_count": 9,
   "id": "4941b9ec-ea05-458c-9a7b-176791da5dbd",
   "metadata": {},
   "outputs": [],
   "source": [
    "start = 1\n",
    "stop = 10\n",
    "mult_list = ((i * j for j in range(start, stop + 1)) for i in range(start, stop + 1))"
   ]
  },
  {
   "cell_type": "code",
   "execution_count": 10,
   "id": "8495de7b-f11d-4f5e-a33e-428dadb5d197",
   "metadata": {},
   "outputs": [
    {
     "data": {
      "text/plain": [
       "<generator object <genexpr> at 0x109b29a80>"
      ]
     },
     "execution_count": 10,
     "metadata": {},
     "output_type": "execute_result"
    }
   ],
   "source": [
    "mult_list"
   ]
  },
  {
   "cell_type": "code",
   "execution_count": 11,
   "id": "6dda86e9-1e4c-4827-acb2-416cfedda07d",
   "metadata": {},
   "outputs": [
    {
     "data": {
      "text/plain": [
       "<generator object <genexpr>.<genexpr> at 0x109cfb850>"
      ]
     },
     "execution_count": 11,
     "metadata": {},
     "output_type": "execute_result"
    }
   ],
   "source": [
    "g = next(mult_list)\n",
    "g"
   ]
  },
  {
   "cell_type": "code",
   "execution_count": 12,
   "id": "06de0009-4180-4012-a93c-ec5a833feeb3",
   "metadata": {},
   "outputs": [
    {
     "data": {
      "text/plain": [
       "(1, 2, [3, 4, 5, 6, 7, 8, 9, 10])"
      ]
     },
     "execution_count": 12,
     "metadata": {},
     "output_type": "execute_result"
    }
   ],
   "source": [
    "next(g), next(g), list(g)"
   ]
  },
  {
   "cell_type": "code",
   "execution_count": 13,
   "id": "4905dca0-e2a5-457d-ac17-341cd0da3059",
   "metadata": {},
   "outputs": [],
   "source": [
    "start = 1\n",
    "stop = 10\n",
    "mult_list = list(list(i * j for j in range(start, stop + 1)) for i in range(start, stop + 1))"
   ]
  },
  {
   "cell_type": "code",
   "execution_count": 14,
   "id": "a1774e74-5b71-422f-acfa-0e39fe7a659d",
   "metadata": {},
   "outputs": [
    {
     "data": {
      "text/plain": [
       "[[1, 2, 3, 4, 5, 6, 7, 8, 9, 10],\n",
       " [2, 4, 6, 8, 10, 12, 14, 16, 18, 20],\n",
       " [3, 6, 9, 12, 15, 18, 21, 24, 27, 30],\n",
       " [4, 8, 12, 16, 20, 24, 28, 32, 36, 40],\n",
       " [5, 10, 15, 20, 25, 30, 35, 40, 45, 50],\n",
       " [6, 12, 18, 24, 30, 36, 42, 48, 54, 60],\n",
       " [7, 14, 21, 28, 35, 42, 49, 56, 63, 70],\n",
       " [8, 16, 24, 32, 40, 48, 56, 64, 72, 80],\n",
       " [9, 18, 27, 36, 45, 54, 63, 72, 81, 90],\n",
       " [10, 20, 30, 40, 50, 60, 70, 80, 90, 100]]"
      ]
     },
     "execution_count": 14,
     "metadata": {},
     "output_type": "execute_result"
    }
   ],
   "source": [
    "mult_list"
   ]
  },
  {
   "cell_type": "markdown",
   "id": "bf3f380e-022c-4ac2-819a-8b82091ee0ee",
   "metadata": {},
   "source": [
    "### Pascal Triangle\n",
    "C(n, k) = n! / (k! * (n-k)!)\n",
    "\n",
    "C(0,0)\n",
    "\n",
    "C(1,0), C(1,1)\n",
    "\n",
    "C(2,0), C(2,1), C(2,2)\n",
    "\n",
    "C(3,0), C(3,1), C(3,2), C(3,3)\n",
    "\n",
    "..."
   ]
  },
  {
   "cell_type": "code",
   "execution_count": 15,
   "id": "242edd87-614f-40b0-a42a-1704c4c2505a",
   "metadata": {},
   "outputs": [],
   "source": [
    "import math\n",
    "\n",
    "\n",
    "def combo(n,k):\n",
    "    return math.factorial(n) // (math.factorial(k) * math.factorial(n-k))\n",
    "\n",
    "\n",
    "def triangle(rows_count):\n",
    "    rows = []\n",
    "    for i in range(1, rows_count + 1):\n",
    "        rows.append([combo(i, j) for j in range(i)])\n",
    "    return rows\n"
   ]
  },
  {
   "cell_type": "code",
   "execution_count": 16,
   "id": "eecce1f6-af03-499d-b2d6-4fb86bb79663",
   "metadata": {},
   "outputs": [
    {
     "name": "stdout",
     "output_type": "stream",
     "text": [
      "[1]\n",
      "[1, 2]\n",
      "[1, 3, 3]\n",
      "[1, 4, 6, 4]\n",
      "[1, 5, 10, 10, 5]\n",
      "[1, 6, 15, 20, 15, 6]\n",
      "[1, 7, 21, 35, 35, 21, 7]\n",
      "[1, 8, 28, 56, 70, 56, 28, 8]\n",
      "[1, 9, 36, 84, 126, 126, 84, 36, 9]\n",
      "[1, 10, 45, 120, 210, 252, 210, 120, 45, 10]\n"
     ]
    }
   ],
   "source": [
    "result = triangle(10)\n",
    "for el in result:\n",
    "    print(el)"
   ]
  },
  {
   "cell_type": "code",
   "execution_count": 17,
   "id": "6b6d917b-c05b-4f95-a523-32485e780e40",
   "metadata": {},
   "outputs": [],
   "source": [
    "# now using generators\n",
    "size = 10  # global\n",
    "pascal = ((combo(n,k) for k in range(n+1)) for n in range(size+1))"
   ]
  },
  {
   "cell_type": "code",
   "execution_count": 18,
   "id": "c98588f6-4c49-4d08-ba78-516056c195d4",
   "metadata": {},
   "outputs": [
    {
     "data": {
      "text/plain": [
       "(<generator object <genexpr> at 0x109d50040>,\n",
       " <generator object <genexpr>.<genexpr> at 0x109d50660>,\n",
       " <generator object <genexpr>.<genexpr> at 0x109d503c0>,\n",
       " <generator object <genexpr>.<genexpr> at 0x109d50200>,\n",
       " <generator object <genexpr>.<genexpr> at 0x109d502e0>)"
      ]
     },
     "execution_count": 18,
     "metadata": {},
     "output_type": "execute_result"
    }
   ],
   "source": [
    "pascal, next(pascal), next(pascal), next(pascal), next(pascal)"
   ]
  },
  {
   "cell_type": "code",
   "execution_count": 19,
   "id": "98e4716d-5ea7-4667-b532-c5ee2718a3a8",
   "metadata": {},
   "outputs": [],
   "source": [
    "inner_gen = next(pascal)"
   ]
  },
  {
   "cell_type": "code",
   "execution_count": 20,
   "id": "0a965ef5-f05e-47ba-8e25-2aa516a3c654",
   "metadata": {},
   "outputs": [
    {
     "data": {
      "text/plain": [
       "(1, 4, [6, 4, 1])"
      ]
     },
     "execution_count": 20,
     "metadata": {},
     "output_type": "execute_result"
    }
   ],
   "source": [
    "next(inner_gen), next(inner_gen), list(inner_gen)"
   ]
  },
  {
   "cell_type": "code",
   "execution_count": 21,
   "id": "bda252cd-4f64-483e-8515-e122d623d8fc",
   "metadata": {},
   "outputs": [
    {
     "data": {
      "text/plain": [
       "[[1],\n",
       " [1, 1],\n",
       " [1, 2, 1],\n",
       " [1, 3, 3, 1],\n",
       " [1, 4, 6, 4, 1],\n",
       " [1, 5, 10, 10, 5, 1],\n",
       " [1, 6, 15, 20, 15, 6, 1],\n",
       " [1, 7, 21, 35, 35, 21, 7, 1],\n",
       " [1, 8, 28, 56, 70, 56, 28, 8, 1],\n",
       " [1, 9, 36, 84, 126, 126, 84, 36, 9, 1],\n",
       " [1, 10, 45, 120, 210, 252, 210, 120, 45, 10, 1]]"
      ]
     },
     "execution_count": 21,
     "metadata": {},
     "output_type": "execute_result"
    }
   ],
   "source": [
    "pascal = ((combo(n,k) for k in range(n+1)) for n in range(size+1))\n",
    "[list(row) for row in pascal]"
   ]
  },
  {
   "cell_type": "code",
   "execution_count": 22,
   "id": "fe4ad775-5a6a-4879-a0fd-80b1c19e9562",
   "metadata": {},
   "outputs": [
    {
     "data": {
      "text/plain": [
       "4.156963872999768"
      ]
     },
     "execution_count": 22,
     "metadata": {},
     "output_type": "execute_result"
    }
   ],
   "source": [
    "from timeit import timeit\n",
    "\n",
    "size = 600\n",
    "\n",
    "# list comprehention - all triangle is generated at once \n",
    "timeit(\n",
    "    '[[combo(n,k) for k in range(n+1)] for n in range(size+1)]', \n",
    "    globals={\"size\": size, \"combo\": combo}, \n",
    "    number=1,\n",
    ")\n"
   ]
  },
  {
   "cell_type": "code",
   "execution_count": 23,
   "id": "92b9f994-0b8d-46d2-a1c7-cc939b627db0",
   "metadata": {},
   "outputs": [
    {
     "data": {
      "text/plain": [
       "5.128000339027494e-06"
      ]
     },
     "execution_count": 23,
     "metadata": {},
     "output_type": "execute_result"
    }
   ],
   "source": [
    "# generators - nothing really happened, triangle is not generated\n",
    "timeit(\n",
    "    '((combo(n,k) for k in range(n+1)) for n in range(size+1))', \n",
    "    globals={\"size\": size, \"combo\": combo}, \n",
    "    number=1,\n",
    ")"
   ]
  },
  {
   "cell_type": "code",
   "execution_count": 24,
   "id": "33a81bd1-4065-4a90-9d38-2a17f2cb53a8",
   "metadata": {},
   "outputs": [
    {
     "data": {
      "text/plain": [
       "2.748000042629428e-06"
      ]
     },
     "execution_count": 24,
     "metadata": {},
     "output_type": "execute_result"
    }
   ],
   "source": [
    "timeit(\n",
    "    '([combo(n,k) for k in range(n+1)] for n in range(size+1))', \n",
    "    globals={\"size\": size, \"combo\": combo}, \n",
    "    number=1,\n",
    ")"
   ]
  },
  {
   "cell_type": "code",
   "execution_count": 25,
   "id": "af334e12-e4f8-45d8-9c0e-c2e316672437",
   "metadata": {},
   "outputs": [],
   "source": [
    "# if we generate every row for the generator, times will be basically same\n",
    "def pascal_list(size):\n",
    "    return [[combo(n,k) for k in range(n+1)] for n in range(size+1)]\n",
    "\n",
    "def pascal_gen(size):\n",
    "    gens = ((combo(n,k) for k in range(n+1)) for n in range(size+1))\n",
    "    for row in gens:\n",
    "        list(row)\n"
   ]
  },
  {
   "cell_type": "code",
   "execution_count": 26,
   "id": "8d64dee8-671c-4d02-9e6e-be5de8351ede",
   "metadata": {},
   "outputs": [
    {
     "data": {
      "text/plain": [
       "4.305483210999228"
      ]
     },
     "execution_count": 26,
     "metadata": {},
     "output_type": "execute_result"
    }
   ],
   "source": [
    "timeit(\n",
    "    'pascal_list(size)', \n",
    "    globals=globals(), \n",
    "    number=1,\n",
    ")"
   ]
  },
  {
   "cell_type": "code",
   "execution_count": 27,
   "id": "19ad0dfc-fc0d-4598-a2ba-2d8911dae902",
   "metadata": {},
   "outputs": [
    {
     "data": {
      "text/plain": [
       "4.217947697001364"
      ]
     },
     "execution_count": 27,
     "metadata": {},
     "output_type": "execute_result"
    }
   ],
   "source": [
    "timeit(\n",
    "    'pascal_gen(size)', \n",
    "    globals=globals(), \n",
    "    number=1,\n",
    ")"
   ]
  },
  {
   "cell_type": "code",
   "execution_count": 28,
   "id": "ff7416c2-e296-482d-af83-1c2820ed5933",
   "metadata": {},
   "outputs": [],
   "source": [
    "# memory whise, generators are more efficient because they take up space for only one element,\n",
    "# not all of them\n",
    "\n",
    "import tracemalloc  # allows looking at number of bytes used by the process\n",
    "\n",
    "\n",
    "def pascal_list(size):\n",
    "    l = [[combo(n,k) for k in range(n+1)] for n in range(size+1)]\n",
    "    for row in l:\n",
    "        for item in row:\n",
    "            pass\n",
    "\n",
    "    stats = tracemalloc.take_snapshot().statistics(\"lineno\")\n",
    "    print(\"List stats\", stats[0].size, \"bytes\")  # 0 index has the biggest bytes value\n",
    "\n",
    "\n",
    "def pascal_gen(size):\n",
    "    gens = ((combo(n,k) for k in range(n+1)) for n in range(size+1))\n",
    "    for row in gens:\n",
    "        list(row)\n",
    "\n",
    "    stats = tracemalloc.take_snapshot().statistics(\"lineno\")\n",
    "    print(\"Gen stats\", stats[0].size, \"bytes\")  # 0 index has the biggest bytes value\n"
   ]
  },
  {
   "cell_type": "code",
   "execution_count": 29,
   "id": "f0865cce-ef2c-4648-bd0b-41c0abdbc247",
   "metadata": {},
   "outputs": [
    {
     "name": "stdout",
     "output_type": "stream",
     "text": [
      "List stats 1998644 bytes\n"
     ]
    }
   ],
   "source": [
    "# start the trace\n",
    "tracemalloc.stop()\n",
    "tracemalloc.clear_traces()\n",
    "tracemalloc.start()\n",
    "\n",
    "pascal_list(300)"
   ]
  },
  {
   "cell_type": "code",
   "execution_count": 30,
   "id": "c7be7810-a3f1-4208-aa42-ac779eebce80",
   "metadata": {},
   "outputs": [
    {
     "data": {
      "text/plain": [
       "1.9060554504394531"
      ]
     },
     "execution_count": 30,
     "metadata": {},
     "output_type": "execute_result"
    }
   ],
   "source": [
    "1998644 / 1024 / 1024  # megabytes"
   ]
  },
  {
   "cell_type": "code",
   "execution_count": 31,
   "id": "646a80c2-5b7b-4cc9-9279-51b8b5c5b6de",
   "metadata": {},
   "outputs": [
    {
     "name": "stdout",
     "output_type": "stream",
     "text": [
      "Gen stats 728 bytes\n"
     ]
    }
   ],
   "source": [
    "# start the trace\n",
    "tracemalloc.stop()\n",
    "tracemalloc.clear_traces()\n",
    "tracemalloc.start()\n",
    "\n",
    "pascal_gen(300)  # much more smaller!!"
   ]
  },
  {
   "cell_type": "code",
   "execution_count": null,
   "id": "c962060d-d537-4548-a680-d3b700f3a7e8",
   "metadata": {},
   "outputs": [],
   "source": []
  }
 ],
 "metadata": {
  "kernelspec": {
   "display_name": "Python 3 (ipykernel)",
   "language": "python",
   "name": "python3"
  },
  "language_info": {
   "codemirror_mode": {
    "name": "ipython",
    "version": 3
   },
   "file_extension": ".py",
   "mimetype": "text/x-python",
   "name": "python",
   "nbconvert_exporter": "python",
   "pygments_lexer": "ipython3",
   "version": "3.12.3"
  }
 },
 "nbformat": 4,
 "nbformat_minor": 5
}
