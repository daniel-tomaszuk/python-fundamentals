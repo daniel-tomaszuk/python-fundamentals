{
 "cells": [
  {
   "cell_type": "markdown",
   "id": "9d4d491a-5308-48b1-bdb3-da09abb17367",
   "metadata": {},
   "source": [
    "### yield from\n",
    "Basically allows delegating elements to another iterator."
   ]
  },
  {
   "cell_type": "code",
   "execution_count": 1,
   "id": "4cfb0eb6-fbaf-4a00-822d-f253c2e3d0b9",
   "metadata": {},
   "outputs": [],
   "source": [
    "def matrix(n):\n",
    "    gen = (\n",
    "        (i * j for j in range(1, n + 1))\n",
    "        for i in range(1, n + 1)\n",
    "    )\n",
    "    return gen"
   ]
  },
  {
   "cell_type": "code",
   "execution_count": 2,
   "id": "afb5c067-d21b-4e56-a7d2-b530a8ccc0a6",
   "metadata": {},
   "outputs": [
    {
     "data": {
      "text/plain": [
       "[<generator object matrix.<locals>.<genexpr>.<genexpr> at 0x110fb25a0>,\n",
       " <generator object matrix.<locals>.<genexpr>.<genexpr> at 0x110fb24d0>,\n",
       " <generator object matrix.<locals>.<genexpr>.<genexpr> at 0x110fb2190>,\n",
       " <generator object matrix.<locals>.<genexpr>.<genexpr> at 0x110fb2400>,\n",
       " <generator object matrix.<locals>.<genexpr>.<genexpr> at 0x110fb2330>]"
      ]
     },
     "execution_count": 2,
     "metadata": {},
     "output_type": "execute_result"
    }
   ],
   "source": [
    "m = list(matrix(5))\n",
    "m"
   ]
  },
  {
   "cell_type": "code",
   "execution_count": 3,
   "id": "df4d8e8e-03da-41b9-b3f1-b92201d948e8",
   "metadata": {},
   "outputs": [
    {
     "name": "stdout",
     "output_type": "stream",
     "text": [
      "[5, 10, 15, 20, 25]\n",
      "[5, 10, 15, 20, 25]\n",
      "[5, 10, 15, 20, 25]\n",
      "[5, 10, 15, 20, 25]\n",
      "[5, 10, 15, 20, 25]\n"
     ]
    }
   ],
   "source": [
    "for g in m:\n",
    "    print(list(g))"
   ]
  },
  {
   "cell_type": "code",
   "execution_count": 4,
   "id": "b0f157d0-b577-4a17-8de9-dd38ce6b91f4",
   "metadata": {},
   "outputs": [],
   "source": [
    "def matrix_iterator(n):\n",
    "    for row in matrix(n):\n",
    "        for item in row:\n",
    "            yield item"
   ]
  },
  {
   "cell_type": "code",
   "execution_count": 5,
   "id": "539712cb-e86b-4a01-8556-15a401ba4f6d",
   "metadata": {},
   "outputs": [
    {
     "name": "stdout",
     "output_type": "stream",
     "text": [
      "1\n",
      "2\n",
      "3\n",
      "2\n",
      "4\n",
      "6\n",
      "3\n",
      "6\n",
      "9\n"
     ]
    }
   ],
   "source": [
    "for item in matrix_iterator(3):\n",
    "    print(item)"
   ]
  },
  {
   "cell_type": "code",
   "execution_count": 6,
   "id": "c0e6ca2c-f83d-44dc-8b44-f7cb7f745cf3",
   "metadata": {},
   "outputs": [],
   "source": [
    "def matrix_iterator(n):\n",
    "    for row in matrix(n):\n",
    "        #for item in row:\n",
    "        #    yield item\n",
    "        yield from row\n",
    "        "
   ]
  },
  {
   "cell_type": "code",
   "execution_count": 7,
   "id": "c9b2189b-1380-46fa-9783-aadeb5f7ff78",
   "metadata": {},
   "outputs": [
    {
     "name": "stdout",
     "output_type": "stream",
     "text": [
      "1\n",
      "2\n",
      "3\n",
      "2\n",
      "4\n",
      "6\n",
      "3\n",
      "6\n",
      "9\n"
     ]
    }
   ],
   "source": [
    "for item in matrix_iterator(3):\n",
    "    print(item)"
   ]
  },
  {
   "cell_type": "code",
   "execution_count": null,
   "id": "04cc5879-bee2-4980-a96c-1b26c233c4d9",
   "metadata": {},
   "outputs": [],
   "source": []
  }
 ],
 "metadata": {
  "kernelspec": {
   "display_name": "Python 3 (ipykernel)",
   "language": "python",
   "name": "python3"
  },
  "language_info": {
   "codemirror_mode": {
    "name": "ipython",
    "version": 3
   },
   "file_extension": ".py",
   "mimetype": "text/x-python",
   "name": "python",
   "nbconvert_exporter": "python",
   "pygments_lexer": "ipython3",
   "version": "3.12.3"
  }
 },
 "nbformat": 4,
 "nbformat_minor": 5
}
