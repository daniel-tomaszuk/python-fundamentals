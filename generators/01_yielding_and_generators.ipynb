{
 "cells": [
  {
   "cell_type": "code",
   "execution_count": 1,
   "id": "ca6ceaeb-e5f3-4e2a-ab09-49b40cd09ff8",
   "metadata": {},
   "outputs": [],
   "source": [
    "import math\n",
    "\n",
    "def fact(n):\n",
    "    for i in range(n):\n",
    "        yield math.factorial(i)"
   ]
  },
  {
   "cell_type": "code",
   "execution_count": 2,
   "id": "8a3e72ac-831a-4f0b-961e-464590116753",
   "metadata": {},
   "outputs": [
    {
     "data": {
      "text/plain": [
       "(1, 1, 2)"
      ]
     },
     "execution_count": 2,
     "metadata": {},
     "output_type": "execute_result"
    }
   ],
   "source": [
    "gen = fact(8)\n",
    "next(gen), next(gen), next(gen)"
   ]
  },
  {
   "cell_type": "code",
   "execution_count": 3,
   "id": "35690a6b-46a0-474e-9b72-e0b577bb9e53",
   "metadata": {},
   "outputs": [
    {
     "data": {
      "text/plain": [
       "[6, 24, 120, 720, 5040]"
      ]
     },
     "execution_count": 3,
     "metadata": {},
     "output_type": "execute_result"
    }
   ],
   "source": [
    "list(gen)"
   ]
  },
  {
   "cell_type": "code",
   "execution_count": 4,
   "id": "b955935e-bb54-40b4-97de-982b76fa263a",
   "metadata": {},
   "outputs": [],
   "source": [
    "def fact(n):\n",
    "    for i in range(n):\n",
    "        yield math.factorial(i)\n",
    "    return \"Custom StopIteration message\""
   ]
  },
  {
   "cell_type": "code",
   "execution_count": 5,
   "id": "d377fe7f-e1a3-4078-9a77-602c92cf8710",
   "metadata": {},
   "outputs": [
    {
     "data": {
      "text/plain": [
       "(1, 1, 2)"
      ]
     },
     "execution_count": 5,
     "metadata": {},
     "output_type": "execute_result"
    }
   ],
   "source": [
    "gen = fact(3)\n",
    "next(gen), next(gen), next(gen)"
   ]
  },
  {
   "cell_type": "code",
   "execution_count": 6,
   "id": "9332d9a4-0deb-492e-9552-09967558908d",
   "metadata": {},
   "outputs": [
    {
     "name": "stdout",
     "output_type": "stream",
     "text": [
      "Custom StopIteration message\n"
     ]
    }
   ],
   "source": [
    "try:\n",
    "    next(gen)\n",
    "except StopIteration as e:\n",
    "    print(e)"
   ]
  },
  {
   "cell_type": "code",
   "execution_count": 7,
   "id": "7700bd42-3353-43a8-8f74-aab270d92716",
   "metadata": {},
   "outputs": [],
   "source": [
    "def my_func():\n",
    "    print(\"line1\")\n",
    "    yield \"yield 1\"\n",
    "    print(\"line2\")\n",
    "    yield \"yield 2\"\n",
    "    "
   ]
  },
  {
   "cell_type": "code",
   "execution_count": 8,
   "id": "d3686892-6dba-4f0c-b3f8-58efd48218d0",
   "metadata": {},
   "outputs": [],
   "source": [
    "g = my_func()"
   ]
  },
  {
   "cell_type": "code",
   "execution_count": 9,
   "id": "59969cf3-c026-4178-8930-3d3dd4d81ad6",
   "metadata": {},
   "outputs": [
    {
     "name": "stdout",
     "output_type": "stream",
     "text": [
      "line1\n"
     ]
    },
    {
     "data": {
      "text/plain": [
       "'yield 1'"
      ]
     },
     "execution_count": 9,
     "metadata": {},
     "output_type": "execute_result"
    }
   ],
   "source": [
    "next(g)"
   ]
  },
  {
   "cell_type": "code",
   "execution_count": 10,
   "id": "8461c339-9164-43e1-9d66-fad2d9a17561",
   "metadata": {},
   "outputs": [
    {
     "name": "stdout",
     "output_type": "stream",
     "text": [
      "line2\n"
     ]
    },
    {
     "data": {
      "text/plain": [
       "'yield 2'"
      ]
     },
     "execution_count": 10,
     "metadata": {},
     "output_type": "execute_result"
    }
   ],
   "source": [
    "next(g)"
   ]
  },
  {
   "cell_type": "code",
   "execution_count": 11,
   "id": "496e25c5-0794-421f-9b6e-4168893f1a9e",
   "metadata": {},
   "outputs": [
    {
     "data": {
      "text/plain": [
       "generator"
      ]
     },
     "execution_count": 11,
     "metadata": {},
     "output_type": "execute_result"
    }
   ],
   "source": [
    "f = my_func()\n",
    "type(f)"
   ]
  },
  {
   "cell_type": "code",
   "execution_count": 12,
   "id": "687a0ca8-54bd-4ec0-91c3-1b2edd6d9184",
   "metadata": {},
   "outputs": [
    {
     "data": {
      "text/plain": [
       "True"
      ]
     },
     "execution_count": 12,
     "metadata": {},
     "output_type": "execute_result"
    }
   ],
   "source": [
    "iter(f) is f  # so f is an iterator! generators implement iterators interface"
   ]
  },
  {
   "cell_type": "code",
   "execution_count": 13,
   "id": "5ffe77cd-9ee8-4a42-9783-891c6cdcab95",
   "metadata": {},
   "outputs": [],
   "source": [
    "def my_func():\n",
    "    print(\"line1\")\n",
    "    yield \"yield 1\"\n",
    "    return \"Early return. End of iteration\"\n",
    "    print(\"line2\")\n",
    "    yield \"yield 2\""
   ]
  },
  {
   "cell_type": "code",
   "execution_count": 14,
   "id": "cec485c0-e515-436b-b4c3-9581cb4efe32",
   "metadata": {},
   "outputs": [
    {
     "name": "stdout",
     "output_type": "stream",
     "text": [
      "line1\n"
     ]
    },
    {
     "data": {
      "text/plain": [
       "'yield 1'"
      ]
     },
     "execution_count": 14,
     "metadata": {},
     "output_type": "execute_result"
    }
   ],
   "source": [
    "g = my_func()\n",
    "next(g)"
   ]
  },
  {
   "cell_type": "code",
   "execution_count": 15,
   "id": "5290509d-7bee-416b-8323-f71ce9080b5a",
   "metadata": {},
   "outputs": [
    {
     "ename": "StopIteration",
     "evalue": "Early return. End of iteration",
     "output_type": "error",
     "traceback": [
      "\u001b[0;31m---------------------------------------------------------------------------\u001b[0m",
      "\u001b[0;31mStopIteration\u001b[0m                             Traceback (most recent call last)",
      "Cell \u001b[0;32mIn[15], line 1\u001b[0m\n\u001b[0;32m----> 1\u001b[0m \u001b[38;5;28;43mnext\u001b[39;49m\u001b[43m(\u001b[49m\u001b[43mg\u001b[49m\u001b[43m)\u001b[49m\n",
      "\u001b[0;31mStopIteration\u001b[0m: Early return. End of iteration"
     ]
    }
   ],
   "source": [
    "next(g)"
   ]
  },
  {
   "cell_type": "code",
   "execution_count": null,
   "id": "0d5a7b6d-f6e0-4614-a04e-107eb9ac23c2",
   "metadata": {},
   "outputs": [],
   "source": []
  }
 ],
 "metadata": {
  "kernelspec": {
   "display_name": "Python 3 (ipykernel)",
   "language": "python",
   "name": "python3"
  },
  "language_info": {
   "codemirror_mode": {
    "name": "ipython",
    "version": 3
   },
   "file_extension": ".py",
   "mimetype": "text/x-python",
   "name": "python",
   "nbconvert_exporter": "python",
   "pygments_lexer": "ipython3",
   "version": "3.12.3"
  }
 },
 "nbformat": 4,
 "nbformat_minor": 5
}
