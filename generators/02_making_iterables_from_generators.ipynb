{
 "cells": [
  {
   "cell_type": "code",
   "execution_count": 1,
   "id": "aebf5bac-9049-475b-96e8-1129c6efb5b6",
   "metadata": {},
   "outputs": [],
   "source": [
    "def squares_gen(n):\n",
    "    for i in range(n):\n",
    "        yield i ** 2\n"
   ]
  },
  {
   "cell_type": "code",
   "execution_count": 2,
   "id": "18eae906-1fdf-42ad-b2ac-cfabe4a99c04",
   "metadata": {},
   "outputs": [
    {
     "data": {
      "text/plain": [
       "(0, 1)"
      ]
     },
     "execution_count": 2,
     "metadata": {},
     "output_type": "execute_result"
    }
   ],
   "source": [
    "sq = squares_gen(5)\n",
    "next(sq), next(sq)"
   ]
  },
  {
   "cell_type": "code",
   "execution_count": 3,
   "id": "ff1fa6c4-b941-458f-af98-65b8d6cc0770",
   "metadata": {},
   "outputs": [
    {
     "data": {
      "text/plain": [
       "[4, 9, 16]"
      ]
     },
     "execution_count": 3,
     "metadata": {},
     "output_type": "execute_result"
    }
   ],
   "source": [
    "list(sq)"
   ]
  },
  {
   "cell_type": "code",
   "execution_count": 4,
   "id": "a17496e2-ba67-4a20-a508-4be6b09a6d0e",
   "metadata": {},
   "outputs": [],
   "source": [
    "class Squares:\n",
    "    def __init__(self, len_):\n",
    "        self.len_ = len_\n",
    "\n",
    "    def __iter__(self):\n",
    "        return squares_gen(self.len_)\n",
    "\n"
   ]
  },
  {
   "cell_type": "code",
   "execution_count": 5,
   "id": "aad54137-8e1d-4780-82b9-b3acff8f8026",
   "metadata": {},
   "outputs": [
    {
     "data": {
      "text/plain": [
       "[0, 1, 4, 9, 16, 25, 36, 49, 64, 81]"
      ]
     },
     "execution_count": 5,
     "metadata": {},
     "output_type": "execute_result"
    }
   ],
   "source": [
    "sq = Squares(10)\n",
    "list(sq)"
   ]
  },
  {
   "cell_type": "code",
   "execution_count": 6,
   "id": "c350e4c7-19e2-4e34-ae7b-00a3636182d0",
   "metadata": {},
   "outputs": [
    {
     "data": {
      "text/plain": [
       "[0, 1, 4, 9, 16, 25, 36, 49, 64, 81]"
      ]
     },
     "execution_count": 6,
     "metadata": {},
     "output_type": "execute_result"
    }
   ],
   "source": [
    "list(sq)"
   ]
  },
  {
   "cell_type": "code",
   "execution_count": 7,
   "id": "3d0bc43d-075c-4d02-8a8b-27b58112a08e",
   "metadata": {},
   "outputs": [],
   "source": [
    "class Squares:\n",
    "    def __init__(self, len_):\n",
    "        self.len_ = len_\n",
    "\n",
    "    def __iter__(self):\n",
    "        return self.__squares_gen(self.len_)\n",
    "\n",
    "    @staticmethod\n",
    "    def __squares_gen(n):\n",
    "        for i in range(n):\n",
    "            yield i ** 2\n"
   ]
  },
  {
   "cell_type": "code",
   "execution_count": 8,
   "id": "8425a97b-270b-448f-b55d-8e14c62a5f8c",
   "metadata": {},
   "outputs": [
    {
     "data": {
      "text/plain": [
       "[0, 1, 4, 9, 16]"
      ]
     },
     "execution_count": 8,
     "metadata": {},
     "output_type": "execute_result"
    }
   ],
   "source": [
    "sq = Squares(5)\n",
    "list(sq)"
   ]
  },
  {
   "cell_type": "markdown",
   "id": "4d5aad75-d8b4-4a88-8cbd-6fc88ac66676",
   "metadata": {},
   "source": [
    "### Example - Card Deck with generators"
   ]
  },
  {
   "cell_type": "code",
   "execution_count": 9,
   "id": "1d937d34-5d4f-4d17-af21-8c235e77d02a",
   "metadata": {},
   "outputs": [],
   "source": [
    "from collections import namedtuple\n",
    "\n",
    "\n",
    "Card = namedtuple(\"Card\", \"rank suit\")\n",
    "\n",
    "\n",
    "class CardDeck:\n",
    "    RANKS = tuple(str(r) for r in range(2, 11)) + tuple(\"JQKA\")\n",
    "    SUITS = (\"Spades\", \"Hearts\", \"Diamonds\", \"Clubs\")\n",
    "\n",
    "    def __iter__(self):\n",
    "        return self.DeckIter()\n",
    "\n",
    "    class DeckIter:\n",
    "        def __init__(self):\n",
    "            self._i = 0\n",
    "            self.len_ = len(CardDeck.RANKS) *  len(CardDeck.SUITS)\n",
    "            self._gen = self.__gen()\n",
    "\n",
    "        def __iter__(self):\n",
    "            return self\n",
    "\n",
    "        def __next__(self):\n",
    "            return next(self._gen)\n",
    "\n",
    "        def __gen(self):\n",
    "            for i in range(0, self.len_):\n",
    "                rank = CardDeck.RANKS[i % len(CardDeck.RANKS)]\n",
    "                suit = CardDeck.SUITS[i // len(CardDeck.RANKS)]\n",
    "                yield Card(rank, suit)\n"
   ]
  },
  {
   "cell_type": "code",
   "execution_count": 10,
   "id": "88813ac5-bb63-4fc0-8a3f-ffa59f927cae",
   "metadata": {},
   "outputs": [],
   "source": [
    "cd = CardDeck()"
   ]
  },
  {
   "cell_type": "code",
   "execution_count": 11,
   "id": "ce05e6f3-07f5-420e-83f6-3882143467a1",
   "metadata": {},
   "outputs": [
    {
     "name": "stdout",
     "output_type": "stream",
     "text": [
      "Card(rank='2', suit='Spades')\n",
      "Card(rank='3', suit='Spades')\n",
      "Card(rank='4', suit='Spades')\n",
      "Card(rank='5', suit='Spades')\n",
      "Card(rank='6', suit='Spades')\n",
      "Card(rank='7', suit='Spades')\n",
      "Card(rank='8', suit='Spades')\n",
      "Card(rank='9', suit='Spades')\n",
      "Card(rank='10', suit='Spades')\n",
      "Card(rank='J', suit='Spades')\n",
      "Card(rank='Q', suit='Spades')\n",
      "Card(rank='K', suit='Spades')\n",
      "Card(rank='A', suit='Spades')\n",
      "Card(rank='2', suit='Hearts')\n",
      "Card(rank='3', suit='Hearts')\n",
      "Card(rank='4', suit='Hearts')\n"
     ]
    }
   ],
   "source": [
    "i = 0\n",
    "for c in cd:\n",
    "    print(c)\n",
    "    i += 1\n",
    "    if i > 15:\n",
    "        break"
   ]
  },
  {
   "cell_type": "code",
   "execution_count": 12,
   "id": "1ff54bd6-0d01-4bc6-a13d-58ce34670ef0",
   "metadata": {},
   "outputs": [],
   "source": [
    "def card_gen():\n",
    "    for suit in (\"Spades\", \"Hearts\", \"Diamonds\", \"Clubs\"):\n",
    "        for rank in tuple(str(r) for r in range(2, 11)) + tuple(\"JQKA\"):\n",
    "            yield Card(rank, suit)\n"
   ]
  },
  {
   "cell_type": "code",
   "execution_count": 13,
   "id": "aad5b348-6ef4-4200-8726-803738342429",
   "metadata": {},
   "outputs": [
    {
     "name": "stdout",
     "output_type": "stream",
     "text": [
      "Card(rank='2', suit='Spades')\n",
      "Card(rank='3', suit='Spades')\n",
      "Card(rank='4', suit='Spades')\n",
      "Card(rank='5', suit='Spades')\n",
      "Card(rank='6', suit='Spades')\n",
      "Card(rank='7', suit='Spades')\n",
      "Card(rank='8', suit='Spades')\n",
      "Card(rank='9', suit='Spades')\n",
      "Card(rank='10', suit='Spades')\n",
      "Card(rank='J', suit='Spades')\n",
      "Card(rank='Q', suit='Spades')\n",
      "Card(rank='K', suit='Spades')\n",
      "Card(rank='A', suit='Spades')\n",
      "Card(rank='2', suit='Hearts')\n",
      "Card(rank='3', suit='Hearts')\n",
      "Card(rank='4', suit='Hearts')\n",
      "Card(rank='5', suit='Hearts')\n",
      "Card(rank='6', suit='Hearts')\n",
      "Card(rank='7', suit='Hearts')\n",
      "Card(rank='8', suit='Hearts')\n",
      "Card(rank='9', suit='Hearts')\n",
      "Card(rank='10', suit='Hearts')\n",
      "Card(rank='J', suit='Hearts')\n",
      "Card(rank='Q', suit='Hearts')\n",
      "Card(rank='K', suit='Hearts')\n",
      "Card(rank='A', suit='Hearts')\n",
      "Card(rank='2', suit='Diamonds')\n",
      "Card(rank='3', suit='Diamonds')\n",
      "Card(rank='4', suit='Diamonds')\n",
      "Card(rank='5', suit='Diamonds')\n",
      "Card(rank='6', suit='Diamonds')\n",
      "Card(rank='7', suit='Diamonds')\n",
      "Card(rank='8', suit='Diamonds')\n",
      "Card(rank='9', suit='Diamonds')\n",
      "Card(rank='10', suit='Diamonds')\n",
      "Card(rank='J', suit='Diamonds')\n",
      "Card(rank='Q', suit='Diamonds')\n",
      "Card(rank='K', suit='Diamonds')\n",
      "Card(rank='A', suit='Diamonds')\n",
      "Card(rank='2', suit='Clubs')\n",
      "Card(rank='3', suit='Clubs')\n",
      "Card(rank='4', suit='Clubs')\n",
      "Card(rank='5', suit='Clubs')\n",
      "Card(rank='6', suit='Clubs')\n",
      "Card(rank='7', suit='Clubs')\n",
      "Card(rank='8', suit='Clubs')\n",
      "Card(rank='9', suit='Clubs')\n",
      "Card(rank='10', suit='Clubs')\n",
      "Card(rank='J', suit='Clubs')\n",
      "Card(rank='Q', suit='Clubs')\n",
      "Card(rank='K', suit='Clubs')\n",
      "Card(rank='A', suit='Clubs')\n"
     ]
    }
   ],
   "source": [
    "for c in card_gen():\n",
    "    print(c)"
   ]
  },
  {
   "cell_type": "code",
   "execution_count": 14,
   "id": "8bfa80b3-8e1a-43ab-aa67-af9d5a87efa2",
   "metadata": {},
   "outputs": [],
   "source": [
    "from collections import namedtuple\n",
    "\n",
    "\n",
    "Card = namedtuple(\"Card\", \"rank suit\")\n",
    "\n",
    "\n",
    "class CardDeck:\n",
    "    RANKS = tuple(str(r) for r in range(2, 11)) + tuple(\"JQKA\")\n",
    "    SUITS = (\"Spades\", \"Hearts\", \"Diamonds\", \"Clubs\")\n",
    "\n",
    "    def __iter__(self):\n",
    "        return self.DeckIter()\n",
    "\n",
    "    class DeckIter:\n",
    "        def __init__(self):\n",
    "            self._i = 0\n",
    "            self.len_ = len(CardDeck.RANKS) *  len(CardDeck.SUITS)\n",
    "            self.gen_ = card_gen()\n",
    "\n",
    "        def __iter__(self):\n",
    "            return self\n",
    "\n",
    "        def __next__(self):\n",
    "            return next(self.gen_)\n",
    "    \n",
    "        @staticmethod\n",
    "        def card_gen(self):\n",
    "            for suit in (\"Spades\", \"Hearts\", \"Diamonds\", \"Clubs\"):\n",
    "                for rank in tuple(str(r) for r in range(2, 11)) + tuple(\"JQKA\"):\n",
    "                    yield Card(rank, suit)\n"
   ]
  },
  {
   "cell_type": "code",
   "execution_count": 15,
   "id": "6e5f989a-a799-47e9-8378-ca39c4497fd3",
   "metadata": {},
   "outputs": [
    {
     "name": "stdout",
     "output_type": "stream",
     "text": [
      "Card(rank='2', suit='Spades')\n",
      "Card(rank='3', suit='Spades')\n",
      "Card(rank='4', suit='Spades')\n",
      "Card(rank='5', suit='Spades')\n",
      "Card(rank='6', suit='Spades')\n",
      "Card(rank='7', suit='Spades')\n",
      "Card(rank='8', suit='Spades')\n",
      "Card(rank='9', suit='Spades')\n",
      "Card(rank='10', suit='Spades')\n",
      "Card(rank='J', suit='Spades')\n",
      "Card(rank='Q', suit='Spades')\n",
      "Card(rank='K', suit='Spades')\n",
      "Card(rank='A', suit='Spades')\n",
      "Card(rank='2', suit='Hearts')\n",
      "Card(rank='3', suit='Hearts')\n",
      "Card(rank='4', suit='Hearts')\n",
      "Card(rank='5', suit='Hearts')\n",
      "Card(rank='6', suit='Hearts')\n",
      "Card(rank='7', suit='Hearts')\n",
      "Card(rank='8', suit='Hearts')\n",
      "Card(rank='9', suit='Hearts')\n",
      "Card(rank='10', suit='Hearts')\n",
      "Card(rank='J', suit='Hearts')\n",
      "Card(rank='Q', suit='Hearts')\n",
      "Card(rank='K', suit='Hearts')\n",
      "Card(rank='A', suit='Hearts')\n",
      "Card(rank='2', suit='Diamonds')\n",
      "Card(rank='3', suit='Diamonds')\n",
      "Card(rank='4', suit='Diamonds')\n",
      "Card(rank='5', suit='Diamonds')\n",
      "Card(rank='6', suit='Diamonds')\n",
      "Card(rank='7', suit='Diamonds')\n",
      "Card(rank='8', suit='Diamonds')\n",
      "Card(rank='9', suit='Diamonds')\n",
      "Card(rank='10', suit='Diamonds')\n",
      "Card(rank='J', suit='Diamonds')\n",
      "Card(rank='Q', suit='Diamonds')\n",
      "Card(rank='K', suit='Diamonds')\n",
      "Card(rank='A', suit='Diamonds')\n",
      "Card(rank='2', suit='Clubs')\n",
      "Card(rank='3', suit='Clubs')\n",
      "Card(rank='4', suit='Clubs')\n",
      "Card(rank='5', suit='Clubs')\n",
      "Card(rank='6', suit='Clubs')\n",
      "Card(rank='7', suit='Clubs')\n",
      "Card(rank='8', suit='Clubs')\n",
      "Card(rank='9', suit='Clubs')\n",
      "Card(rank='10', suit='Clubs')\n",
      "Card(rank='J', suit='Clubs')\n",
      "Card(rank='Q', suit='Clubs')\n",
      "Card(rank='K', suit='Clubs')\n",
      "Card(rank='A', suit='Clubs')\n"
     ]
    }
   ],
   "source": [
    "for c in CardDeck():\n",
    "    print(c)"
   ]
  },
  {
   "cell_type": "code",
   "execution_count": 16,
   "id": "08c0a55b-18df-4a61-a9ea-016029c22590",
   "metadata": {},
   "outputs": [],
   "source": [
    "from collections import namedtuple\n",
    "\n",
    "\n",
    "Card = namedtuple(\"Card\", \"rank suit\")\n",
    "\n",
    "\n",
    "class CardDeck:\n",
    "    RANKS = tuple(str(r) for r in range(2, 11)) + tuple(\"JQKA\")\n",
    "    SUITS = (\"Spades\", \"Hearts\", \"Diamonds\", \"Clubs\")\n",
    "\n",
    "    def __iter__(self):\n",
    "        return self.card_gen()\n",
    "\n",
    "    def card_gen(self):\n",
    "        for suit in self.SUITS:\n",
    "            for rank in self.RANKS:\n",
    "                yield Card(rank, suit)"
   ]
  },
  {
   "cell_type": "code",
   "execution_count": 17,
   "id": "1e08c0fa-6203-460e-a8c1-a499b15fd4c5",
   "metadata": {},
   "outputs": [
    {
     "name": "stdout",
     "output_type": "stream",
     "text": [
      "Card(rank='2', suit='Spades')\n",
      "Card(rank='3', suit='Spades')\n",
      "Card(rank='4', suit='Spades')\n",
      "Card(rank='5', suit='Spades')\n",
      "Card(rank='6', suit='Spades')\n",
      "Card(rank='7', suit='Spades')\n",
      "Card(rank='8', suit='Spades')\n",
      "Card(rank='9', suit='Spades')\n",
      "Card(rank='10', suit='Spades')\n",
      "Card(rank='J', suit='Spades')\n",
      "Card(rank='Q', suit='Spades')\n",
      "Card(rank='K', suit='Spades')\n",
      "Card(rank='A', suit='Spades')\n",
      "Card(rank='2', suit='Hearts')\n",
      "Card(rank='3', suit='Hearts')\n",
      "Card(rank='4', suit='Hearts')\n",
      "Card(rank='5', suit='Hearts')\n",
      "Card(rank='6', suit='Hearts')\n",
      "Card(rank='7', suit='Hearts')\n",
      "Card(rank='8', suit='Hearts')\n",
      "Card(rank='9', suit='Hearts')\n",
      "Card(rank='10', suit='Hearts')\n",
      "Card(rank='J', suit='Hearts')\n",
      "Card(rank='Q', suit='Hearts')\n",
      "Card(rank='K', suit='Hearts')\n",
      "Card(rank='A', suit='Hearts')\n",
      "Card(rank='2', suit='Diamonds')\n",
      "Card(rank='3', suit='Diamonds')\n",
      "Card(rank='4', suit='Diamonds')\n",
      "Card(rank='5', suit='Diamonds')\n",
      "Card(rank='6', suit='Diamonds')\n",
      "Card(rank='7', suit='Diamonds')\n",
      "Card(rank='8', suit='Diamonds')\n",
      "Card(rank='9', suit='Diamonds')\n",
      "Card(rank='10', suit='Diamonds')\n",
      "Card(rank='J', suit='Diamonds')\n",
      "Card(rank='Q', suit='Diamonds')\n",
      "Card(rank='K', suit='Diamonds')\n",
      "Card(rank='A', suit='Diamonds')\n",
      "Card(rank='2', suit='Clubs')\n",
      "Card(rank='3', suit='Clubs')\n",
      "Card(rank='4', suit='Clubs')\n",
      "Card(rank='5', suit='Clubs')\n",
      "Card(rank='6', suit='Clubs')\n",
      "Card(rank='7', suit='Clubs')\n",
      "Card(rank='8', suit='Clubs')\n",
      "Card(rank='9', suit='Clubs')\n",
      "Card(rank='10', suit='Clubs')\n",
      "Card(rank='J', suit='Clubs')\n",
      "Card(rank='Q', suit='Clubs')\n",
      "Card(rank='K', suit='Clubs')\n",
      "Card(rank='A', suit='Clubs')\n"
     ]
    }
   ],
   "source": [
    "for c in CardDeck():\n",
    "    print(c)"
   ]
  },
  {
   "cell_type": "code",
   "execution_count": 18,
   "id": "3030b2b2-c2cf-45d9-800f-f4244ef37393",
   "metadata": {},
   "outputs": [],
   "source": [
    "from collections import namedtuple\n",
    "\n",
    "\n",
    "Card = namedtuple(\"Card\", \"rank suit\")\n",
    "\n",
    "\n",
    "class CardDeck:\n",
    "    RANKS = tuple(str(r) for r in range(2, 11)) + tuple(\"JQKA\")\n",
    "    SUITS = (\"Spades\", \"Hearts\", \"Diamonds\", \"Clubs\")\n",
    "\n",
    "    def __iter__(self):\n",
    "        return self.card_gen()\n",
    "\n",
    "    def __reversed__(self):\n",
    "        return self.reversed_card_gen()\n",
    "\n",
    "    def card_gen(self):\n",
    "        for suit in self.SUITS:\n",
    "            for rank in self.RANKS:\n",
    "                yield Card(rank, suit)\n",
    "\n",
    "    def reversed_card_gen(self):\n",
    "        for suit in reversed(self.SUITS):\n",
    "            for rank in reversed(self.RANKS):\n",
    "                yield Card(rank, suit)"
   ]
  },
  {
   "cell_type": "code",
   "execution_count": 19,
   "id": "a1994fab-ce16-4a6c-b038-3ed7f02a84e8",
   "metadata": {},
   "outputs": [
    {
     "name": "stdout",
     "output_type": "stream",
     "text": [
      "Card(rank='A', suit='Clubs')\n",
      "Card(rank='K', suit='Clubs')\n",
      "Card(rank='Q', suit='Clubs')\n",
      "Card(rank='J', suit='Clubs')\n",
      "Card(rank='10', suit='Clubs')\n",
      "Card(rank='9', suit='Clubs')\n",
      "Card(rank='8', suit='Clubs')\n",
      "Card(rank='7', suit='Clubs')\n",
      "Card(rank='6', suit='Clubs')\n",
      "Card(rank='5', suit='Clubs')\n",
      "Card(rank='4', suit='Clubs')\n",
      "Card(rank='3', suit='Clubs')\n",
      "Card(rank='2', suit='Clubs')\n",
      "Card(rank='A', suit='Diamonds')\n",
      "Card(rank='K', suit='Diamonds')\n",
      "Card(rank='Q', suit='Diamonds')\n",
      "Card(rank='J', suit='Diamonds')\n",
      "Card(rank='10', suit='Diamonds')\n",
      "Card(rank='9', suit='Diamonds')\n",
      "Card(rank='8', suit='Diamonds')\n",
      "Card(rank='7', suit='Diamonds')\n",
      "Card(rank='6', suit='Diamonds')\n",
      "Card(rank='5', suit='Diamonds')\n",
      "Card(rank='4', suit='Diamonds')\n",
      "Card(rank='3', suit='Diamonds')\n",
      "Card(rank='2', suit='Diamonds')\n",
      "Card(rank='A', suit='Hearts')\n",
      "Card(rank='K', suit='Hearts')\n",
      "Card(rank='Q', suit='Hearts')\n",
      "Card(rank='J', suit='Hearts')\n",
      "Card(rank='10', suit='Hearts')\n",
      "Card(rank='9', suit='Hearts')\n",
      "Card(rank='8', suit='Hearts')\n",
      "Card(rank='7', suit='Hearts')\n",
      "Card(rank='6', suit='Hearts')\n",
      "Card(rank='5', suit='Hearts')\n",
      "Card(rank='4', suit='Hearts')\n",
      "Card(rank='3', suit='Hearts')\n",
      "Card(rank='2', suit='Hearts')\n",
      "Card(rank='A', suit='Spades')\n",
      "Card(rank='K', suit='Spades')\n",
      "Card(rank='Q', suit='Spades')\n",
      "Card(rank='J', suit='Spades')\n",
      "Card(rank='10', suit='Spades')\n",
      "Card(rank='9', suit='Spades')\n",
      "Card(rank='8', suit='Spades')\n",
      "Card(rank='7', suit='Spades')\n",
      "Card(rank='6', suit='Spades')\n",
      "Card(rank='5', suit='Spades')\n",
      "Card(rank='4', suit='Spades')\n",
      "Card(rank='3', suit='Spades')\n",
      "Card(rank='2', suit='Spades')\n"
     ]
    }
   ],
   "source": [
    "for c in reversed(CardDeck()):\n",
    "    print(c)"
   ]
  },
  {
   "cell_type": "code",
   "execution_count": null,
   "id": "8f6057f3-0491-4a2b-b756-c67e9f2de18e",
   "metadata": {},
   "outputs": [],
   "source": []
  }
 ],
 "metadata": {
  "kernelspec": {
   "display_name": "Python 3 (ipykernel)",
   "language": "python",
   "name": "python3"
  },
  "language_info": {
   "codemirror_mode": {
    "name": "ipython",
    "version": 3
   },
   "file_extension": ".py",
   "mimetype": "text/x-python",
   "name": "python",
   "nbconvert_exporter": "python",
   "pygments_lexer": "ipython3",
   "version": "3.12.3"
  }
 },
 "nbformat": 4,
 "nbformat_minor": 5
}
