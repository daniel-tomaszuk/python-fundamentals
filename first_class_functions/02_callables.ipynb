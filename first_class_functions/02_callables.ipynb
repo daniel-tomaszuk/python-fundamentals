{
 "cells": [
  {
   "cell_type": "code",
   "execution_count": 1,
   "id": "f48d9ce1-0220-4074-9fe2-753c18996fd6",
   "metadata": {},
   "outputs": [],
   "source": [
    "# callable - any object on which () operator can be used, every callable returns a value (None by default)\n",
    "# that means that result of a callable can be assigned to a value"
   ]
  },
  {
   "cell_type": "code",
   "execution_count": 2,
   "id": "bbd7f97c-5496-4078-bbd2-a557318bc3a0",
   "metadata": {},
   "outputs": [
    {
     "data": {
      "text/plain": [
       "True"
      ]
     },
     "execution_count": 2,
     "metadata": {},
     "output_type": "execute_result"
    }
   ],
   "source": [
    "callable(print)"
   ]
  },
  {
   "cell_type": "code",
   "execution_count": 3,
   "id": "7bd360a9-1a57-470c-8286-95f1881c8e09",
   "metadata": {},
   "outputs": [
    {
     "data": {
      "text/plain": [
       "True"
      ]
     },
     "execution_count": 3,
     "metadata": {},
     "output_type": "execute_result"
    }
   ],
   "source": [
    "l = [1,2,3,4]\n",
    "callable(l.append)"
   ]
  },
  {
   "cell_type": "code",
   "execution_count": 4,
   "id": "576e2d02-e310-446d-8f8b-5e0e2606f948",
   "metadata": {},
   "outputs": [
    {
     "data": {
      "text/plain": [
       "True"
      ]
     },
     "execution_count": 4,
     "metadata": {},
     "output_type": "execute_result"
    }
   ],
   "source": [
    "callable(type)"
   ]
  },
  {
   "cell_type": "code",
   "execution_count": 5,
   "id": "5c9f7ada-36b9-4811-b7a7-1a5bfe2fcb0a",
   "metadata": {},
   "outputs": [],
   "source": [
    "class  MyClass:\n",
    "    def __init__(self, x=0):\n",
    "        print(\"__init__\")\n",
    "        self.counter  =  x\n",
    "\n",
    "    def __call__(self):\n",
    "        print(f\"__call__ on instance of {type(self)}\")\n",
    "        self.counter += 1\n"
   ]
  },
  {
   "cell_type": "code",
   "execution_count": 6,
   "id": "3989c993-6313-4760-98da-37c5040dc0e1",
   "metadata": {},
   "outputs": [
    {
     "data": {
      "text/plain": [
       "True"
      ]
     },
     "execution_count": 6,
     "metadata": {},
     "output_type": "execute_result"
    }
   ],
   "source": [
    "callable(MyClass)"
   ]
  },
  {
   "cell_type": "code",
   "execution_count": 7,
   "id": "9e615ed3-220b-4224-9a74-97511af091dc",
   "metadata": {},
   "outputs": [
    {
     "name": "stdout",
     "output_type": "stream",
     "text": [
      "__init__\n"
     ]
    },
    {
     "data": {
      "text/plain": [
       "True"
      ]
     },
     "execution_count": 7,
     "metadata": {},
     "output_type": "execute_result"
    }
   ],
   "source": [
    "instance = MyClass(5)\n",
    "callable(instance)"
   ]
  },
  {
   "cell_type": "code",
   "execution_count": 8,
   "id": "edae2c24-c05b-4290-885f-ef1f4824d176",
   "metadata": {},
   "outputs": [
    {
     "name": "stdout",
     "output_type": "stream",
     "text": [
      "__call__ on instance of <class '__main__.MyClass'>\n"
     ]
    }
   ],
   "source": [
    "instance()"
   ]
  },
  {
   "cell_type": "code",
   "execution_count": 9,
   "id": "444c0b51-6660-456f-a0eb-d54b89ac7566",
   "metadata": {},
   "outputs": [
    {
     "data": {
      "text/plain": [
       "6"
      ]
     },
     "execution_count": 9,
     "metadata": {},
     "output_type": "execute_result"
    }
   ],
   "source": [
    "instance.counter"
   ]
  },
  {
   "cell_type": "code",
   "execution_count": 10,
   "id": "0dd0652f-39ba-4611-81c6-e1430f9309eb",
   "metadata": {},
   "outputs": [],
   "source": [
    "# map, filter, zip"
   ]
  },
  {
   "cell_type": "code",
   "execution_count": 11,
   "id": "4aff4f03-150c-4bfd-b957-1304c26031dd",
   "metadata": {},
   "outputs": [],
   "source": [
    "def fact(n):\n",
    "    return 1 if n < 2 else n * fact(n-1)"
   ]
  },
  {
   "cell_type": "code",
   "execution_count": 12,
   "id": "182af320-4997-47f4-826d-346a12461b9b",
   "metadata": {},
   "outputs": [
    {
     "data": {
      "text/plain": [
       "map"
      ]
     },
     "execution_count": 12,
     "metadata": {},
     "output_type": "execute_result"
    }
   ],
   "source": [
    "result = map(fact, range(10))\n",
    "type(result)   # generator"
   ]
  },
  {
   "cell_type": "code",
   "execution_count": 13,
   "id": "45a2f3f3-3dee-4b5d-afb1-6d94c1fdad41",
   "metadata": {},
   "outputs": [
    {
     "name": "stdout",
     "output_type": "stream",
     "text": [
      "1\n",
      "1\n",
      "2\n",
      "6\n",
      "24\n",
      "120\n",
      "720\n",
      "5040\n",
      "40320\n",
      "362880\n"
     ]
    }
   ],
   "source": [
    "for x in result:\n",
    "    print(x)"
   ]
  },
  {
   "cell_type": "code",
   "execution_count": 14,
   "id": "dde02503-12b2-4a96-9902-d1379658f624",
   "metadata": {},
   "outputs": [],
   "source": [
    "# generator is empty  after iteration\n",
    "for x in result:\n",
    "    print(x)"
   ]
  },
  {
   "cell_type": "code",
   "execution_count": 15,
   "id": "61585fa2-d937-4ec5-ab68-773fc1c97e0f",
   "metadata": {},
   "outputs": [],
   "source": [
    "l1 = [1,2,3,4,5,6]\n",
    "l2 = [10,20,30]\n",
    "l3 = [111,222,333,455]\n",
    "results = list(map(lambda x, y, z: x + y + z, l1, l2, l3))  # runs as long as one of the lists is not exhausted"
   ]
  },
  {
   "cell_type": "code",
   "execution_count": 16,
   "id": "795d1401-6c13-467f-aa09-1751635484a3",
   "metadata": {},
   "outputs": [
    {
     "name": "stdout",
     "output_type": "stream",
     "text": [
      "[122, 244, 366]\n"
     ]
    }
   ],
   "source": [
    "print(results)"
   ]
  },
  {
   "cell_type": "code",
   "execution_count": 17,
   "id": "59ef01ec-fb5d-4a01-9df1-9bdd5d1020f3",
   "metadata": {},
   "outputs": [
    {
     "data": {
      "text/plain": [
       "[0, 3, 6, 9, 12, 15, 18, 21, 24]"
      ]
     },
     "execution_count": 17,
     "metadata": {},
     "output_type": "execute_result"
    }
   ],
   "source": [
    "list(filter(lambda x: x % 3  == 0, range(25)))"
   ]
  },
  {
   "cell_type": "code",
   "execution_count": 18,
   "id": "9bc55ee0-313f-4766-9263-5756c6755bd7",
   "metadata": {},
   "outputs": [
    {
     "data": {
      "text/plain": [
       "[1, 4, 'a']"
      ]
     },
     "execution_count": 18,
     "metadata": {},
     "output_type": "execute_result"
    }
   ],
   "source": [
    "# if None is passed, filter checks `truthy` of passed values\n",
    "list(filter(None, [1, 0, 4, \"a\", \"\", None, False]))"
   ]
  },
  {
   "cell_type": "code",
   "execution_count": 19,
   "id": "b3cf7111-46ef-4368-b316-ca81109ccf2f",
   "metadata": {},
   "outputs": [],
   "source": [
    "l1 = [1,2,3,4,5]\n",
    "l2  = [10,20,30,40]\n",
    "l3 = 'python'\n",
    "r = zip(l1,l2,l3)"
   ]
  },
  {
   "cell_type": "code",
   "execution_count": 20,
   "id": "a549adcb-393a-4ec5-94af-26f4c594934b",
   "metadata": {},
   "outputs": [
    {
     "name": "stdout",
     "output_type": "stream",
     "text": [
      "(1, 10, 'p')\n",
      "(2, 20, 'y')\n",
      "(3, 30, 't')\n",
      "(4, 40, 'h')\n"
     ]
    }
   ],
   "source": [
    "for x in r:\n",
    "    print(x)"
   ]
  },
  {
   "cell_type": "code",
   "execution_count": 21,
   "id": "0bc38e53-cbc1-4d4d-892b-8db63177cf83",
   "metadata": {},
   "outputs": [],
   "source": [
    "r = [fact(i) for i in range(10)]"
   ]
  },
  {
   "cell_type": "code",
   "execution_count": 22,
   "id": "f13b5846-7965-44aa-be8c-b6956075f33f",
   "metadata": {},
   "outputs": [
    {
     "name": "stdout",
     "output_type": "stream",
     "text": [
      "[1, 1, 2, 6, 24, 120, 720, 5040, 40320, 362880]\n"
     ]
    }
   ],
   "source": [
    "print(r)"
   ]
  },
  {
   "cell_type": "code",
   "execution_count": 23,
   "id": "e5a9ebb6-3739-431d-bf8a-1b44acd535c6",
   "metadata": {},
   "outputs": [
    {
     "name": "stdout",
     "output_type": "stream",
     "text": [
      "<generator object <genexpr> at 0x10ebedb10>\n"
     ]
    }
   ],
   "source": [
    "r = (fact(i) for i in range(10))\n",
    "print(r)"
   ]
  },
  {
   "cell_type": "code",
   "execution_count": 24,
   "id": "ec32de4c-1e06-42d1-9081-a5130e5c57c0",
   "metadata": {},
   "outputs": [
    {
     "name": "stdout",
     "output_type": "stream",
     "text": [
      "1\n",
      "1\n",
      "2\n",
      "6\n",
      "24\n",
      "120\n",
      "720\n",
      "5040\n",
      "40320\n",
      "362880\n"
     ]
    }
   ],
   "source": [
    "for i in r:\n",
    "    print(i)"
   ]
  },
  {
   "cell_type": "code",
   "execution_count": 25,
   "id": "45ffdf10-bf03-4820-8b5b-a742a521b3a3",
   "metadata": {},
   "outputs": [
    {
     "data": {
      "text/plain": [
       "[11, 22, 33, 44]"
      ]
     },
     "execution_count": 25,
     "metadata": {},
     "output_type": "execute_result"
    }
   ],
   "source": [
    "[x  + y for x, y in zip(l1, l2)]"
   ]
  },
  {
   "cell_type": "code",
   "execution_count": 26,
   "id": "d0ce9ae0-49fa-4d3e-98d5-10afa335d21f",
   "metadata": {},
   "outputs": [
    {
     "data": {
      "text/plain": [
       "[11, 22]"
      ]
     },
     "execution_count": 26,
     "metadata": {},
     "output_type": "execute_result"
    }
   ],
   "source": [
    "[x  + y for x, y in zip(l1, l2) if x  + y < 33]"
   ]
  },
  {
   "cell_type": "code",
   "execution_count": 27,
   "id": "a36a98db-5d9a-4697-88e8-122b4faef15b",
   "metadata": {},
   "outputs": [],
   "source": [
    "# reduce function"
   ]
  },
  {
   "cell_type": "code",
   "execution_count": 28,
   "id": "49f8a95a-e75b-4598-9c28-81547867ece4",
   "metadata": {},
   "outputs": [],
   "source": [
    "l = [5,6,8,10,9]"
   ]
  },
  {
   "cell_type": "code",
   "execution_count": 29,
   "id": "2f7a1b2f-cf50-4c79-836f-3fee3404520e",
   "metadata": {},
   "outputs": [],
   "source": [
    "_max = lambda x, y:  x if x > y else y"
   ]
  },
  {
   "cell_type": "code",
   "execution_count": 30,
   "id": "6e8ccbf5-df98-49ae-95b9-db654f8cc24a",
   "metadata": {},
   "outputs": [
    {
     "data": {
      "text/plain": [
       "4"
      ]
     },
     "execution_count": 30,
     "metadata": {},
     "output_type": "execute_result"
    }
   ],
   "source": [
    "_max(3, 4)"
   ]
  },
  {
   "cell_type": "code",
   "execution_count": 31,
   "id": "ebec1a96-b2a1-4190-bcea-8fe5a9f7120e",
   "metadata": {},
   "outputs": [
    {
     "data": {
      "text/plain": [
       "10"
      ]
     },
     "execution_count": 31,
     "metadata": {},
     "output_type": "execute_result"
    }
   ],
   "source": [
    "_max(10, 1)"
   ]
  },
  {
   "cell_type": "code",
   "execution_count": 32,
   "id": "39d5fa53-cceb-4d01-8c08-5ce4a12817cd",
   "metadata": {},
   "outputs": [],
   "source": [
    "def _reduce(sequence, fn):\n",
    "    result = sequence[0]\n",
    "    for x in sequence[1::]:\n",
    "        result = fn(result, x)\n",
    "    return result\n"
   ]
  },
  {
   "cell_type": "code",
   "execution_count": 33,
   "id": "b7cfe8bd-06bf-4d36-89db-57e318bf2cf6",
   "metadata": {},
   "outputs": [
    {
     "data": {
      "text/plain": [
       "10"
      ]
     },
     "execution_count": 33,
     "metadata": {},
     "output_type": "execute_result"
    }
   ],
   "source": [
    "_reduce(l, _max)"
   ]
  },
  {
   "cell_type": "code",
   "execution_count": 34,
   "id": "833df672-e127-4262-a98a-d7b613ea96c7",
   "metadata": {},
   "outputs": [
    {
     "data": {
      "text/plain": [
       "5"
      ]
     },
     "execution_count": 34,
     "metadata": {},
     "output_type": "execute_result"
    }
   ],
   "source": [
    "_reduce(l, min)"
   ]
  },
  {
   "cell_type": "code",
   "execution_count": 35,
   "id": "1e990fbf-7a4b-43b4-9515-ae5571ba8a83",
   "metadata": {},
   "outputs": [],
   "source": [
    "from functools import reduce"
   ]
  },
  {
   "cell_type": "code",
   "execution_count": 36,
   "id": "21ec41ad-e567-4044-a770-e3551c48647b",
   "metadata": {},
   "outputs": [
    {
     "data": {
      "text/plain": [
       "'z'"
      ]
     },
     "execution_count": 36,
     "metadata": {},
     "output_type": "execute_result"
    }
   ],
   "source": [
    "reduce(max, \"abcdz\")"
   ]
  },
  {
   "cell_type": "code",
   "execution_count": 37,
   "id": "f37af4ae-7b5f-468f-acd5-19efbcb60ccc",
   "metadata": {},
   "outputs": [
    {
     "data": {
      "text/plain": [
       "5"
      ]
     },
     "execution_count": 37,
     "metadata": {},
     "output_type": "execute_result"
    }
   ],
   "source": [
    "reduce(min, l)"
   ]
  },
  {
   "cell_type": "code",
   "execution_count": 38,
   "id": "f50e736c-30ac-4b16-99e8-c273b0271338",
   "metadata": {},
   "outputs": [
    {
     "data": {
      "text/plain": [
       "(False, True)"
      ]
     },
     "execution_count": 38,
     "metadata": {},
     "output_type": "execute_result"
    }
   ],
   "source": [
    "s = {1,2,3,4,5,0}\n",
    "\n",
    "all(s), any(s)"
   ]
  },
  {
   "cell_type": "code",
   "execution_count": 39,
   "id": "878dac04-f878-49ac-851a-8c50041b56b4",
   "metadata": {},
   "outputs": [
    {
     "data": {
      "text/plain": [
       "1"
      ]
     },
     "execution_count": 39,
     "metadata": {},
     "output_type": "execute_result"
    }
   ],
   "source": [
    "# reduce function accepts 3rd arg, called initializer\n",
    "# it's threaten as a first / initial value\n",
    "\n",
    "reduce(lambda x, y: x * y, [], 1)"
   ]
  },
  {
   "cell_type": "code",
   "execution_count": 40,
   "id": "724550c4-66d3-4a17-a846-c27ea16cfc45",
   "metadata": {},
   "outputs": [
    {
     "data": {
      "text/plain": [
       "3628800"
      ]
     },
     "execution_count": 40,
     "metadata": {},
     "output_type": "execute_result"
    }
   ],
   "source": [
    "reduce(lambda x, y: x * y, range(1, 11), 1)"
   ]
  },
  {
   "cell_type": "code",
   "execution_count": 41,
   "id": "6a4f8bda-baf6-4c62-a14b-501c0b15043f",
   "metadata": {},
   "outputs": [],
   "source": [
    "# partials - creates a passed function factory with default arg value set\n",
    "\n",
    "from functools import partial"
   ]
  },
  {
   "cell_type": "code",
   "execution_count": 42,
   "id": "69059eab-e460-4723-bfac-aca4d4ffa346",
   "metadata": {},
   "outputs": [],
   "source": [
    "def my_func(a,b,c):\n",
    "    print(a,b,c)\n"
   ]
  },
  {
   "cell_type": "code",
   "execution_count": 43,
   "id": "9b3a9b49-0259-4755-a28b-7bcf9af4b957",
   "metadata": {},
   "outputs": [
    {
     "name": "stdout",
     "output_type": "stream",
     "text": [
      "10 20 30\n"
     ]
    }
   ],
   "source": [
    "my_func(10, 20, 30)"
   ]
  },
  {
   "cell_type": "code",
   "execution_count": 44,
   "id": "bd9521db-2e88-4673-b422-6069d3b9cbd6",
   "metadata": {},
   "outputs": [],
   "source": [
    "p1 =  partial(my_func, \"x\")"
   ]
  },
  {
   "cell_type": "code",
   "execution_count": 45,
   "id": "7db12db9-9592-4d5f-bca1-ebc651339365",
   "metadata": {},
   "outputs": [
    {
     "name": "stdout",
     "output_type": "stream",
     "text": [
      "x y z\n"
     ]
    }
   ],
   "source": [
    "p1(\"y\", \"z\")"
   ]
  },
  {
   "cell_type": "code",
   "execution_count": 46,
   "id": "5cc61d6b-e8bf-4076-a920-9a7478f383bd",
   "metadata": {},
   "outputs": [],
   "source": [
    "def my_func(a,b,*args, k1,k2,**kwargs):\n",
    "    print(a,b,args,k1,k2,kwargs)"
   ]
  },
  {
   "cell_type": "code",
   "execution_count": 47,
   "id": "958e46f0-0de0-4c5f-8c43-918467fc5451",
   "metadata": {},
   "outputs": [
    {
     "name": "stdout",
     "output_type": "stream",
     "text": [
      "10 20 (100, 200) a b {'k3': 1000, 'k4': 2000}\n"
     ]
    }
   ],
   "source": [
    "my_func(10,20,100,200,k1=\"a\",k2=\"b\",k3=1000,k4=2000)"
   ]
  },
  {
   "cell_type": "code",
   "execution_count": 48,
   "id": "a23edff1-28dc-4098-a368-f1ec5a0b93bd",
   "metadata": {},
   "outputs": [
    {
     "name": "stdout",
     "output_type": "stream",
     "text": [
      "11 b () k1 k2 {}\n"
     ]
    }
   ],
   "source": [
    "r1 = partial(my_func, b=\"b\", k2=\"k2\")\n",
    "r1(11, k1=\"k1\")"
   ]
  },
  {
   "cell_type": "code",
   "execution_count": 49,
   "id": "0c7b53ca-2c2d-4966-bab1-5c50f1e13361",
   "metadata": {},
   "outputs": [],
   "source": [
    "def pow(base, exponent):\n",
    "    return base ** exponent"
   ]
  },
  {
   "cell_type": "code",
   "execution_count": 50,
   "id": "bb4b92b6-024b-494e-b7ac-01e53e419a1f",
   "metadata": {},
   "outputs": [],
   "source": [
    "sq = partial(pow, exponent=2)"
   ]
  },
  {
   "cell_type": "code",
   "execution_count": 51,
   "id": "60b45c96-7266-4982-b7cc-bfd8c06077ab",
   "metadata": {},
   "outputs": [
    {
     "data": {
      "text/plain": [
       "100"
      ]
     },
     "execution_count": 51,
     "metadata": {},
     "output_type": "execute_result"
    }
   ],
   "source": [
    "sq(10)"
   ]
  },
  {
   "cell_type": "code",
   "execution_count": 52,
   "id": "75ad5362-fae9-479a-afd3-578aa7d2aaac",
   "metadata": {},
   "outputs": [
    {
     "data": {
      "text/plain": [
       "100000"
      ]
     },
     "execution_count": 52,
     "metadata": {},
     "output_type": "execute_result"
    }
   ],
   "source": [
    "sq(10, exponent=5)  # it's possible to override default from partial"
   ]
  },
  {
   "cell_type": "code",
   "execution_count": 53,
   "id": "d3648e80-e2e8-4494-aad9-d0996b95a31e",
   "metadata": {},
   "outputs": [],
   "source": [
    "origin  = (0,0)\n",
    "l = [(1,1), (0,2), (-3, 2), (0,0), (10, 10)]"
   ]
  },
  {
   "cell_type": "code",
   "execution_count": 54,
   "id": "1802f162-8bf9-40d6-9a47-f4db8edee216",
   "metadata": {},
   "outputs": [],
   "source": [
    "dist2 = lambda p1, p2:  (p1[0] -  p2[0]) ** 2 + (p1[1] - p2[1]) ** 2"
   ]
  },
  {
   "cell_type": "code",
   "execution_count": 55,
   "id": "64c248fd-9116-47d2-852b-9c2abf67ae4b",
   "metadata": {},
   "outputs": [
    {
     "data": {
      "text/plain": [
       "2"
      ]
     },
     "execution_count": 55,
     "metadata": {},
     "output_type": "execute_result"
    }
   ],
   "source": [
    "dist2((1,1), origin)"
   ]
  },
  {
   "cell_type": "code",
   "execution_count": 56,
   "id": "19868560-ecef-4b95-ae33-e6e59c9576e9",
   "metadata": {},
   "outputs": [],
   "source": [
    "distance_from_origin  = partial(dist2, (0,0))"
   ]
  },
  {
   "cell_type": "code",
   "execution_count": 57,
   "id": "c47b4236-cad2-46fa-aa4a-e55d36c0d5ed",
   "metadata": {},
   "outputs": [
    {
     "data": {
      "text/plain": [
       "[(0, 0), (1, 1), (0, 2), (-3, 2), (10, 10)]"
      ]
     },
     "execution_count": 57,
     "metadata": {},
     "output_type": "execute_result"
    }
   ],
   "source": [
    "sorted(l, key=distance_from_origin)"
   ]
  },
  {
   "cell_type": "code",
   "execution_count": 58,
   "id": "a890089f-feea-428d-89b7-0acd282b836a",
   "metadata": {},
   "outputs": [],
   "source": [
    "# operators\n",
    "import operator\n"
   ]
  },
  {
   "cell_type": "code",
   "execution_count": 59,
   "id": "29030454-ef2d-4050-a0f8-e718d74bb7c3",
   "metadata": {},
   "outputs": [
    {
     "data": {
      "text/plain": [
       "['__abs__',\n",
       " '__add__',\n",
       " '__all__',\n",
       " '__and__',\n",
       " '__builtins__',\n",
       " '__cached__',\n",
       " '__call__',\n",
       " '__concat__',\n",
       " '__contains__',\n",
       " '__delitem__',\n",
       " '__doc__',\n",
       " '__eq__',\n",
       " '__file__',\n",
       " '__floordiv__',\n",
       " '__ge__',\n",
       " '__getitem__',\n",
       " '__gt__',\n",
       " '__iadd__',\n",
       " '__iand__',\n",
       " '__iconcat__',\n",
       " '__ifloordiv__',\n",
       " '__ilshift__',\n",
       " '__imatmul__',\n",
       " '__imod__',\n",
       " '__imul__',\n",
       " '__index__',\n",
       " '__inv__',\n",
       " '__invert__',\n",
       " '__ior__',\n",
       " '__ipow__',\n",
       " '__irshift__',\n",
       " '__isub__',\n",
       " '__itruediv__',\n",
       " '__ixor__',\n",
       " '__le__',\n",
       " '__loader__',\n",
       " '__lshift__',\n",
       " '__lt__',\n",
       " '__matmul__',\n",
       " '__mod__',\n",
       " '__mul__',\n",
       " '__name__',\n",
       " '__ne__',\n",
       " '__neg__',\n",
       " '__not__',\n",
       " '__or__',\n",
       " '__package__',\n",
       " '__pos__',\n",
       " '__pow__',\n",
       " '__rshift__',\n",
       " '__setitem__',\n",
       " '__spec__',\n",
       " '__sub__',\n",
       " '__truediv__',\n",
       " '__xor__',\n",
       " '_abs',\n",
       " 'abs',\n",
       " 'add',\n",
       " 'and_',\n",
       " 'attrgetter',\n",
       " 'call',\n",
       " 'concat',\n",
       " 'contains',\n",
       " 'countOf',\n",
       " 'delitem',\n",
       " 'eq',\n",
       " 'floordiv',\n",
       " 'ge',\n",
       " 'getitem',\n",
       " 'gt',\n",
       " 'iadd',\n",
       " 'iand',\n",
       " 'iconcat',\n",
       " 'ifloordiv',\n",
       " 'ilshift',\n",
       " 'imatmul',\n",
       " 'imod',\n",
       " 'imul',\n",
       " 'index',\n",
       " 'indexOf',\n",
       " 'inv',\n",
       " 'invert',\n",
       " 'ior',\n",
       " 'ipow',\n",
       " 'irshift',\n",
       " 'is_',\n",
       " 'is_not',\n",
       " 'isub',\n",
       " 'itemgetter',\n",
       " 'itruediv',\n",
       " 'ixor',\n",
       " 'le',\n",
       " 'length_hint',\n",
       " 'lshift',\n",
       " 'lt',\n",
       " 'matmul',\n",
       " 'methodcaller',\n",
       " 'mod',\n",
       " 'mul',\n",
       " 'ne',\n",
       " 'neg',\n",
       " 'not_',\n",
       " 'or_',\n",
       " 'pos',\n",
       " 'pow',\n",
       " 'rshift',\n",
       " 'setitem',\n",
       " 'sub',\n",
       " 'truediv',\n",
       " 'truth',\n",
       " 'xor']"
      ]
     },
     "execution_count": 59,
     "metadata": {},
     "output_type": "execute_result"
    }
   ],
   "source": [
    "dir(operator)"
   ]
  },
  {
   "cell_type": "code",
   "execution_count": 60,
   "id": "13a3e59d-2fd9-425d-91c1-6d80df771a3b",
   "metadata": {},
   "outputs": [
    {
     "data": {
      "text/plain": [
       "3"
      ]
     },
     "execution_count": 60,
     "metadata": {},
     "output_type": "execute_result"
    }
   ],
   "source": [
    "operator.add(1,2)"
   ]
  },
  {
   "cell_type": "code",
   "execution_count": 61,
   "id": "b426e549-6936-4066-ae1d-529f20b41a95",
   "metadata": {},
   "outputs": [
    {
     "data": {
      "text/plain": [
       "6"
      ]
     },
     "execution_count": 61,
     "metadata": {},
     "output_type": "execute_result"
    }
   ],
   "source": [
    "operator.mul(3,2)"
   ]
  },
  {
   "cell_type": "code",
   "execution_count": 62,
   "id": "dd200bc6-df9d-4bb2-a56e-2e63027382ef",
   "metadata": {},
   "outputs": [],
   "source": [
    "from functools import reduce"
   ]
  },
  {
   "cell_type": "code",
   "execution_count": 63,
   "id": "2907c979-5727-4fca-b823-abe29eab82fc",
   "metadata": {},
   "outputs": [
    {
     "data": {
      "text/plain": [
       "5040"
      ]
     },
     "execution_count": 63,
     "metadata": {},
     "output_type": "execute_result"
    }
   ],
   "source": [
    "reduce(lambda x,y: x*y, [1,2,3,4,5,6,7])"
   ]
  },
  {
   "cell_type": "code",
   "execution_count": 64,
   "id": "a79257b4-5060-4f75-abc2-c84f502400c5",
   "metadata": {},
   "outputs": [
    {
     "data": {
      "text/plain": [
       "5040"
      ]
     },
     "execution_count": 64,
     "metadata": {},
     "output_type": "execute_result"
    }
   ],
   "source": [
    "reduce(operator.mul, [1,2,3,4,5,6,7])"
   ]
  },
  {
   "cell_type": "code",
   "execution_count": 65,
   "id": "9f789f8c-66c8-445f-b5ee-514c1639a43a",
   "metadata": {},
   "outputs": [
    {
     "data": {
      "text/plain": [
       "False"
      ]
     },
     "execution_count": 65,
     "metadata": {},
     "output_type": "execute_result"
    }
   ],
   "source": [
    "operator.lt(10, 3)"
   ]
  },
  {
   "cell_type": "code",
   "execution_count": 66,
   "id": "a42dad8a-ae10-4dc2-91d5-537cdc4a60fa",
   "metadata": {},
   "outputs": [
    {
     "data": {
      "text/plain": [
       "False"
      ]
     },
     "execution_count": 66,
     "metadata": {},
     "output_type": "execute_result"
    }
   ],
   "source": [
    "operator.is_(\"abc\", \"def\")"
   ]
  },
  {
   "cell_type": "code",
   "execution_count": 67,
   "id": "32d6967b-01bb-481a-a217-8519ef0bd9c6",
   "metadata": {},
   "outputs": [
    {
     "data": {
      "text/plain": [
       "False"
      ]
     },
     "execution_count": 67,
     "metadata": {},
     "output_type": "execute_result"
    }
   ],
   "source": [
    "operator.truth([])"
   ]
  },
  {
   "cell_type": "code",
   "execution_count": 68,
   "id": "2826c93f-0ea9-402f-9dbc-7e26c1b9b122",
   "metadata": {},
   "outputs": [
    {
     "data": {
      "text/plain": [
       "2"
      ]
     },
     "execution_count": 68,
     "metadata": {},
     "output_type": "execute_result"
    }
   ],
   "source": [
    "my_list = [1,2,3,4]\n",
    "my_list[1]"
   ]
  },
  {
   "cell_type": "code",
   "execution_count": 69,
   "id": "fab18223-64c2-46ca-a3eb-60a7c45739df",
   "metadata": {},
   "outputs": [
    {
     "data": {
      "text/plain": [
       "2"
      ]
     },
     "execution_count": 69,
     "metadata": {},
     "output_type": "execute_result"
    }
   ],
   "source": [
    "operator.getitem(my_list, 1)"
   ]
  },
  {
   "cell_type": "code",
   "execution_count": 70,
   "id": "96d9f508-8fa1-4e03-a402-9a13fd895569",
   "metadata": {},
   "outputs": [],
   "source": [
    "operator.setitem(my_list, 1, 100)"
   ]
  },
  {
   "cell_type": "code",
   "execution_count": 71,
   "id": "2a24791d-7146-4605-98c3-d0497a2f4035",
   "metadata": {},
   "outputs": [
    {
     "data": {
      "text/plain": [
       "[1, 100, 3, 4]"
      ]
     },
     "execution_count": 71,
     "metadata": {},
     "output_type": "execute_result"
    }
   ],
   "source": [
    "my_list"
   ]
  },
  {
   "cell_type": "code",
   "execution_count": 72,
   "id": "3abeaaa0-1aac-4ba9-9587-8142f8cfba26",
   "metadata": {},
   "outputs": [],
   "source": [
    "operator.delitem(my_list, 3)"
   ]
  },
  {
   "cell_type": "code",
   "execution_count": 73,
   "id": "d296c915-64e2-437c-af94-09866c8f6d1a",
   "metadata": {},
   "outputs": [
    {
     "data": {
      "text/plain": [
       "[1, 100, 3]"
      ]
     },
     "execution_count": 73,
     "metadata": {},
     "output_type": "execute_result"
    }
   ],
   "source": [
    "my_list"
   ]
  },
  {
   "cell_type": "code",
   "execution_count": 74,
   "id": "77c96966-4790-4df9-9d5d-3bd832ff9709",
   "metadata": {},
   "outputs": [
    {
     "data": {
      "text/plain": [
       "3"
      ]
     },
     "execution_count": 74,
     "metadata": {},
     "output_type": "execute_result"
    }
   ],
   "source": [
    "item_getter = operator.itemgetter(2)\n",
    "item_getter(my_list)"
   ]
  },
  {
   "cell_type": "code",
   "execution_count": 75,
   "id": "6ee1d479-de04-4811-8bc3-0c57aa159a80",
   "metadata": {},
   "outputs": [
    {
     "data": {
      "text/plain": [
       "'t'"
      ]
     },
     "execution_count": 75,
     "metadata": {},
     "output_type": "execute_result"
    }
   ],
   "source": [
    "item_getter(\"python\")"
   ]
  },
  {
   "cell_type": "code",
   "execution_count": 76,
   "id": "a07ce8ed-8a2c-47ad-bcbc-91977b3ccf34",
   "metadata": {},
   "outputs": [],
   "source": [
    "f = operator.itemgetter(2,3)"
   ]
  },
  {
   "cell_type": "code",
   "execution_count": 77,
   "id": "7221a02f-0511-4fdf-91fb-6b5b471c6900",
   "metadata": {},
   "outputs": [
    {
     "data": {
      "text/plain": [
       "('c', 'd')"
      ]
     },
     "execution_count": 77,
     "metadata": {},
     "output_type": "execute_result"
    }
   ],
   "source": [
    "f(\"abcdefgh\")"
   ]
  },
  {
   "cell_type": "code",
   "execution_count": 78,
   "id": "45734321-39ad-43ae-95df-7b277f7ec060",
   "metadata": {},
   "outputs": [],
   "source": [
    "class MyClass:\n",
    "    def __init__(self):\n",
    "        self.a =  10\n",
    "        self.b = 20\n",
    "        self.c = 30\n",
    "    \n",
    "    def test(self):\n",
    "        print(\"test method called...\")\n",
    "\n",
    "    def test_with_param(self, x):\n",
    "        print(\"test with param:\", x)"
   ]
  },
  {
   "cell_type": "code",
   "execution_count": 79,
   "id": "5f4a079e-d21c-4931-a794-a0667b461bd8",
   "metadata": {},
   "outputs": [],
   "source": [
    "obj = MyClass()"
   ]
  },
  {
   "cell_type": "code",
   "execution_count": 80,
   "id": "15c9ae3e-acbb-480d-bc3d-23cf020747ce",
   "metadata": {},
   "outputs": [
    {
     "data": {
      "text/plain": [
       "(10,\n",
       " 20,\n",
       " 30,\n",
       " <bound method MyClass.test of <__main__.MyClass object at 0x10ec1f650>>)"
      ]
     },
     "execution_count": 80,
     "metadata": {},
     "output_type": "execute_result"
    }
   ],
   "source": [
    "obj.a, obj.b, obj.c, obj.test"
   ]
  },
  {
   "cell_type": "code",
   "execution_count": 81,
   "id": "87530272-558d-461f-a41a-9e356ec5efe1",
   "metadata": {},
   "outputs": [],
   "source": [
    "getter = operator.attrgetter(\"a\", \"b\", \"test\")"
   ]
  },
  {
   "cell_type": "code",
   "execution_count": 82,
   "id": "593ba6a5-c564-4f12-8d02-72ae62e1cfc0",
   "metadata": {},
   "outputs": [
    {
     "data": {
      "text/plain": [
       "(10,\n",
       " 20,\n",
       " <bound method MyClass.test of <__main__.MyClass object at 0x10ec1f650>>)"
      ]
     },
     "execution_count": 82,
     "metadata": {},
     "output_type": "execute_result"
    }
   ],
   "source": [
    "getter(obj)"
   ]
  },
  {
   "cell_type": "code",
   "execution_count": 83,
   "id": "ed09682b-ddde-4eca-ab15-f0aaa30a56d4",
   "metadata": {},
   "outputs": [
    {
     "data": {
      "text/plain": [
       "([(2+2j), (5-10j), (11+4j)], [(5-10j), (2+2j), (11+4j)])"
      ]
     },
     "execution_count": 83,
     "metadata": {},
     "output_type": "execute_result"
    }
   ],
   "source": [
    "l = [5-10j, 2+2j, 11+4j]\n",
    "sorted(l, key=operator.attrgetter(\"real\")), sorted(l, key=operator.attrgetter(\"imag\"))"
   ]
  },
  {
   "cell_type": "code",
   "execution_count": 84,
   "id": "4a3fcc51-bb88-40a5-ada4-41c7ae672983",
   "metadata": {},
   "outputs": [],
   "source": [
    "op  = operator.methodcaller(\"test\")"
   ]
  },
  {
   "cell_type": "code",
   "execution_count": 85,
   "id": "cd6c58e2-74ed-4ffd-a375-35892f3c622a",
   "metadata": {},
   "outputs": [
    {
     "name": "stdout",
     "output_type": "stream",
     "text": [
      "test method called...\n"
     ]
    }
   ],
   "source": [
    "op(obj)"
   ]
  },
  {
   "cell_type": "code",
   "execution_count": 86,
   "id": "84b6dac2-bf52-452e-8654-e0d0d41be0d2",
   "metadata": {},
   "outputs": [],
   "source": [
    "op  = operator.methodcaller(\"test_with_param\", 20)"
   ]
  },
  {
   "cell_type": "code",
   "execution_count": 87,
   "id": "cfdf2d46-cebe-4a2d-8515-f902a629863e",
   "metadata": {},
   "outputs": [
    {
     "name": "stdout",
     "output_type": "stream",
     "text": [
      "test with param: 20\n"
     ]
    }
   ],
   "source": [
    "op(obj)"
   ]
  },
  {
   "cell_type": "code",
   "execution_count": null,
   "id": "7342beee-16d4-485e-b5e3-6bfe78b26a4f",
   "metadata": {},
   "outputs": [],
   "source": []
  }
 ],
 "metadata": {
  "kernelspec": {
   "display_name": "Python 3 (ipykernel)",
   "language": "python",
   "name": "python3"
  },
  "language_info": {
   "codemirror_mode": {
    "name": "ipython",
    "version": 3
   },
   "file_extension": ".py",
   "mimetype": "text/x-python",
   "name": "python",
   "nbconvert_exporter": "python",
   "pygments_lexer": "ipython3",
   "version": "3.12.3"
  }
 },
 "nbformat": 4,
 "nbformat_minor": 5
}
