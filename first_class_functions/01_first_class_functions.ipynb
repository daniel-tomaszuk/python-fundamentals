{
 "cells": [
  {
   "cell_type": "code",
   "execution_count": 1,
   "id": "5c098c8c-ea38-421c-b75e-4a5ac6a4c5a2",
   "metadata": {},
   "outputs": [],
   "source": [
    "# first class object\n",
    "# - can be passed to a funciton\n",
    "# - can be returned from a function\n",
    "# - can be assigned to a variable\n",
    "# - can be stored in a data structure (eg. list, tuple etc)\n",
    "\n",
    "# All functions in Python are first class objects\n",
    "\n",
    "# Higher order function - takes a function as an argument or returns a function"
   ]
  },
  {
   "cell_type": "code",
   "execution_count": 2,
   "id": "34ec0a0a-af63-4faa-b5cf-772798aa9e33",
   "metadata": {},
   "outputs": [],
   "source": [
    "# docstirng and annotationd\n",
    "\n",
    "def my_func(a, b=1):\n",
    "    \"\"\"\n",
    "    returns a * b\n",
    "    \n",
    "    Some additional info here...\n",
    "    \"\"\"\n",
    "    return a * b"
   ]
  },
  {
   "cell_type": "code",
   "execution_count": 3,
   "id": "f180b53b-ffe3-4f0d-b947-a41548655983",
   "metadata": {},
   "outputs": [
    {
     "name": "stdout",
     "output_type": "stream",
     "text": [
      "Help on function my_func in module __main__:\n",
      "\n",
      "my_func(a, b=1)\n",
      "    returns a * b\n",
      "\n",
      "    Some additional info here...\n",
      "\n"
     ]
    }
   ],
   "source": [
    "help(my_func)"
   ]
  },
  {
   "cell_type": "code",
   "execution_count": 4,
   "id": "b37f2d9e-672c-45f4-bf77-bee54c79cae9",
   "metadata": {},
   "outputs": [
    {
     "data": {
      "text/plain": [
       "'\\n    returns a * b\\n    \\n    Some additional info here...\\n    '"
      ]
     },
     "execution_count": 4,
     "metadata": {},
     "output_type": "execute_result"
    }
   ],
   "source": [
    "my_func.__doc__"
   ]
  },
  {
   "cell_type": "code",
   "execution_count": 5,
   "id": "86bc0d47-15c4-43a7-84dd-501632d8ec39",
   "metadata": {},
   "outputs": [],
   "source": [
    "def my_func(a: \"annotation for a\", b: \"annotation for b\" = 1) -> \"some return value annotations\":\n",
    "    \"\"\"\n",
    "    Docs for my func.\n",
    "    \"\"\"\n",
    "    return a * b\n",
    "    "
   ]
  },
  {
   "cell_type": "code",
   "execution_count": 6,
   "id": "50c9e786-1d51-490a-a7b9-2a56c19bd1a7",
   "metadata": {},
   "outputs": [
    {
     "name": "stdout",
     "output_type": "stream",
     "text": [
      "Help on function my_func in module __main__:\n",
      "\n",
      "my_func(a: 'annotation for a', b: 'annotation for b' = 1) -> 'some return value annotations'\n",
      "    Docs for my func.\n",
      "\n"
     ]
    }
   ],
   "source": [
    "help(my_func)"
   ]
  },
  {
   "cell_type": "code",
   "execution_count": 7,
   "id": "92649dbd-2716-41c7-ac27-77e2eea073ea",
   "metadata": {},
   "outputs": [
    {
     "data": {
      "text/plain": [
       "('\\n    Docs for my func.\\n    ',\n",
       " {'a': 'annotation for a',\n",
       "  'b': 'annotation for b',\n",
       "  'return': 'some return value annotations'})"
      ]
     },
     "execution_count": 7,
     "metadata": {},
     "output_type": "execute_result"
    }
   ],
   "source": [
    "my_func.__doc__, my_func.__annotations__"
   ]
  },
  {
   "cell_type": "code",
   "execution_count": 8,
   "id": "938ff294-7c12-4dd3-b5ba-76347924a1ce",
   "metadata": {},
   "outputs": [],
   "source": [
    "x = 3\n",
    "y = 5\n",
    "\n",
    "# annotations allow expressions\n",
    "def my_func(a, b) -> \"returns a times \" + str(max(x, y)): \n",
    "    # my test comment\n",
    "    #\"\"\"My test doc\"\"\"\n",
    "    return a * max(x, y)"
   ]
  },
  {
   "cell_type": "code",
   "execution_count": 9,
   "id": "c21599bc-4ff9-4f6d-85ac-998621459cb8",
   "metadata": {},
   "outputs": [
    {
     "name": "stdout",
     "output_type": "stream",
     "text": [
      "Help on function my_func in module __main__:\n",
      "\n",
      "my_func(a, b) -> 'returns a times 5'\n",
      "    # annotations allow expressions\n",
      "\n"
     ]
    },
    {
     "data": {
      "text/plain": [
       "(None, None)"
      ]
     },
     "execution_count": 9,
     "metadata": {},
     "output_type": "execute_result"
    }
   ],
   "source": [
    "help(my_func), my_func.__doc__  # comment is visible in the help, but it's not part of the __doc__"
   ]
  },
  {
   "cell_type": "code",
   "execution_count": 10,
   "id": "01193f48-b87e-4efd-9adc-fc2a09b19976",
   "metadata": {},
   "outputs": [
    {
     "data": {
      "text/plain": [
       "(function, <function __main__.sq(x)>)"
      ]
     },
     "execution_count": 10,
     "metadata": {},
     "output_type": "execute_result"
    }
   ],
   "source": [
    "# lambda expressions\n",
    "\n",
    "def sq(x):\n",
    "    return x ** 2\n",
    "\n",
    "type(sq), sq"
   ]
  },
  {
   "cell_type": "code",
   "execution_count": 11,
   "id": "23b4750c-ddc4-48a8-8cb8-0f14dafc5533",
   "metadata": {},
   "outputs": [],
   "source": [
    "lam = lambda x: x ** 2"
   ]
  },
  {
   "cell_type": "code",
   "execution_count": 12,
   "id": "11faec20-781f-4843-aba2-a9f0012d7d43",
   "metadata": {},
   "outputs": [
    {
     "data": {
      "text/plain": [
       "(function, <function __main__.<lambda>(x)>)"
      ]
     },
     "execution_count": 12,
     "metadata": {},
     "output_type": "execute_result"
    }
   ],
   "source": [
    "type(lam), lam"
   ]
  },
  {
   "cell_type": "code",
   "execution_count": 13,
   "id": "c9e46338-22ed-4710-9593-013a19469c4a",
   "metadata": {},
   "outputs": [
    {
     "name": "stdout",
     "output_type": "stream",
     "text": [
      "Help on function <lambda> in module __main__:\n",
      "\n",
      "<lambda> lambda x\n",
      "\n"
     ]
    }
   ],
   "source": [
    "help(lam)"
   ]
  },
  {
   "cell_type": "code",
   "execution_count": 14,
   "id": "b7615d70-f8f3-4490-8269-474f7e2be185",
   "metadata": {},
   "outputs": [
    {
     "data": {
      "text/plain": [
       "25"
      ]
     },
     "execution_count": 14,
     "metadata": {},
     "output_type": "execute_result"
    }
   ],
   "source": [
    "(lambda x: x ** 2)(5)"
   ]
  },
  {
   "cell_type": "code",
   "execution_count": 15,
   "id": "c5063546-e190-471b-831b-09d267617f89",
   "metadata": {},
   "outputs": [
    {
     "data": {
      "text/plain": [
       "27"
      ]
     },
     "execution_count": 15,
     "metadata": {},
     "output_type": "execute_result"
    }
   ],
   "source": [
    "(lambda x = 3: x ** 3)()"
   ]
  },
  {
   "cell_type": "code",
   "execution_count": 16,
   "id": "0e899703-aef5-4bdc-a438-b96dca360255",
   "metadata": {},
   "outputs": [],
   "source": [
    "f = lambda x, *args, y, **kwargs: (x, args, y, kwargs)"
   ]
  },
  {
   "cell_type": "code",
   "execution_count": 17,
   "id": "a3a03773-259d-4ba3-a249-2cbf42d1daf9",
   "metadata": {},
   "outputs": [
    {
     "data": {
      "text/plain": [
       "(1, (2, 3, 4), 'abcd', {'test': 'test', 'aa': '100'})"
      ]
     },
     "execution_count": 17,
     "metadata": {},
     "output_type": "execute_result"
    }
   ],
   "source": [
    "f(1, 2, 3, 4, y=\"abcd\", test=\"test\", aa=\"100\")"
   ]
  },
  {
   "cell_type": "code",
   "execution_count": 18,
   "id": "082bd9d8-c1cb-4233-abb3-26e419322e53",
   "metadata": {},
   "outputs": [],
   "source": [
    "def apply_func(x, fn):\n",
    "    return fn(x)"
   ]
  },
  {
   "cell_type": "code",
   "execution_count": 19,
   "id": "77d00213-5b66-4b89-81a4-cad4b9c414b1",
   "metadata": {},
   "outputs": [
    {
     "data": {
      "text/plain": [
       "9"
      ]
     },
     "execution_count": 19,
     "metadata": {},
     "output_type": "execute_result"
    }
   ],
   "source": [
    "apply_func(3, sq)"
   ]
  },
  {
   "cell_type": "code",
   "execution_count": 20,
   "id": "b57541f0-bd31-466f-b5dd-2e057c41f46f",
   "metadata": {},
   "outputs": [
    {
     "data": {
      "text/plain": [
       "'aaa'"
      ]
     },
     "execution_count": 20,
     "metadata": {},
     "output_type": "execute_result"
    }
   ],
   "source": [
    "apply_func(3, lambda x: \"a\" * x)"
   ]
  },
  {
   "cell_type": "code",
   "execution_count": 21,
   "id": "b201ba0a-f36c-48ec-8b77-ee96a374cb47",
   "metadata": {},
   "outputs": [],
   "source": [
    "def apply_func(fn, *args, **kwargs):\n",
    "    return fn(*args, **kwargs)\n"
   ]
  },
  {
   "cell_type": "code",
   "execution_count": 22,
   "id": "f058ce60-c6ec-420e-83cc-4ca27f5b1df0",
   "metadata": {},
   "outputs": [
    {
     "data": {
      "text/plain": [
       "9"
      ]
     },
     "execution_count": 22,
     "metadata": {},
     "output_type": "execute_result"
    }
   ],
   "source": [
    "apply_func(sq, 3)"
   ]
  },
  {
   "cell_type": "code",
   "execution_count": 23,
   "id": "55faacd0-5637-4815-ac7c-0483125d6ebe",
   "metadata": {},
   "outputs": [
    {
     "data": {
      "text/plain": [
       "[8, 10, 6, 4, 1, 3, 5, 7, 2, 9]"
      ]
     },
     "execution_count": 23,
     "metadata": {},
     "output_type": "execute_result"
    }
   ],
   "source": [
    "# use sorted + lambda to randomize an iterable\n",
    "from random import random\n",
    "\n",
    "\n",
    "l = [1,2,3,4,5,6,7,8,9,10]\n",
    "sorted(l, key=lambda x: random())"
   ]
  },
  {
   "cell_type": "code",
   "execution_count": 24,
   "id": "7b9717ae-0f12-43a1-9bd9-e388de704a2b",
   "metadata": {},
   "outputs": [],
   "source": [
    "# function introspection\n",
    "def my_func(\n",
    "    a: \"mandatory positional arg\", \n",
    "    b: \"optional positional\" = 1, \n",
    "    c=2, \n",
    "    *args: \"extra positional\", \n",
    "    kw1, kw2=100, kw3=200, \n",
    "    **kwargs: \"extra kwargs\"\n",
    ") -> None:\n",
    "    \"\"\"Does nothing but has a lot of vars\"\"\"\n",
    "    i = 10\n",
    "    j = 100\n",
    "    print(\"Just chillin'\")\n"
   ]
  },
  {
   "cell_type": "code",
   "execution_count": 25,
   "id": "003be0f2-1268-4286-9ed7-f52b7495f57a",
   "metadata": {},
   "outputs": [
    {
     "data": {
      "text/plain": [
       "'Does nothing but has a lot of vars'"
      ]
     },
     "execution_count": 25,
     "metadata": {},
     "output_type": "execute_result"
    }
   ],
   "source": [
    "my_func.__doc__"
   ]
  },
  {
   "cell_type": "code",
   "execution_count": 26,
   "id": "14df2ec5-9acf-4279-8d4b-211813682082",
   "metadata": {},
   "outputs": [
    {
     "data": {
      "text/plain": [
       "{'a': 'mandatory positional arg',\n",
       " 'b': 'optional positional',\n",
       " 'args': 'extra positional',\n",
       " 'kwargs': 'extra kwargs',\n",
       " 'return': None}"
      ]
     },
     "execution_count": 26,
     "metadata": {},
     "output_type": "execute_result"
    }
   ],
   "source": [
    "my_func.__annotations__"
   ]
  },
  {
   "cell_type": "code",
   "execution_count": 27,
   "id": "74846c89-4e20-49fa-8f8e-90ded67db032",
   "metadata": {},
   "outputs": [
    {
     "data": {
      "text/plain": [
       "['__annotations__',\n",
       " '__builtins__',\n",
       " '__call__',\n",
       " '__class__',\n",
       " '__closure__',\n",
       " '__code__',\n",
       " '__defaults__',\n",
       " '__delattr__',\n",
       " '__dict__',\n",
       " '__dir__',\n",
       " '__doc__',\n",
       " '__eq__',\n",
       " '__format__',\n",
       " '__ge__',\n",
       " '__get__',\n",
       " '__getattribute__',\n",
       " '__getstate__',\n",
       " '__globals__',\n",
       " '__gt__',\n",
       " '__hash__',\n",
       " '__init__',\n",
       " '__init_subclass__',\n",
       " '__kwdefaults__',\n",
       " '__le__',\n",
       " '__lt__',\n",
       " '__module__',\n",
       " '__name__',\n",
       " '__ne__',\n",
       " '__new__',\n",
       " '__qualname__',\n",
       " '__reduce__',\n",
       " '__reduce_ex__',\n",
       " '__repr__',\n",
       " '__setattr__',\n",
       " '__sizeof__',\n",
       " '__str__',\n",
       " '__subclasshook__',\n",
       " '__type_params__']"
      ]
     },
     "execution_count": 27,
     "metadata": {},
     "output_type": "execute_result"
    }
   ],
   "source": [
    "dir(my_func)"
   ]
  },
  {
   "cell_type": "code",
   "execution_count": 28,
   "id": "16e83ca5-1bc1-4fdc-bb5d-8254e6042637",
   "metadata": {},
   "outputs": [
    {
     "data": {
      "text/plain": [
       "'my_func'"
      ]
     },
     "execution_count": 28,
     "metadata": {},
     "output_type": "execute_result"
    }
   ],
   "source": [
    "my_func.__name__"
   ]
  },
  {
   "cell_type": "code",
   "execution_count": 29,
   "id": "b87b4cf0-8f57-4d6b-9b9b-1f60a91f3376",
   "metadata": {},
   "outputs": [
    {
     "data": {
      "text/plain": [
       "(1, 2)"
      ]
     },
     "execution_count": 29,
     "metadata": {},
     "output_type": "execute_result"
    }
   ],
   "source": [
    "my_func.__defaults__"
   ]
  },
  {
   "cell_type": "code",
   "execution_count": 30,
   "id": "dc9ec4d5-f68a-4649-a3f3-c8e5e9995798",
   "metadata": {},
   "outputs": [
    {
     "data": {
      "text/plain": [
       "{'kw2': 100, 'kw3': 200}"
      ]
     },
     "execution_count": 30,
     "metadata": {},
     "output_type": "execute_result"
    }
   ],
   "source": [
    "my_func.__kwdefaults__"
   ]
  },
  {
   "cell_type": "code",
   "execution_count": 31,
   "id": "797fe3ee-c107-414e-9adf-ca469f3e44ae",
   "metadata": {},
   "outputs": [
    {
     "data": {
      "text/plain": [
       "<code object my_func at 0x1074da4c0, file \"/var/folders/54/lrgwxr353tj57qmbtt2jwqdm0000gn/T/ipykernel_41575/473952290.py\", line 2>"
      ]
     },
     "execution_count": 31,
     "metadata": {},
     "output_type": "execute_result"
    }
   ],
   "source": [
    "my_func.__code__"
   ]
  },
  {
   "cell_type": "code",
   "execution_count": 32,
   "id": "f3d2bb15-053c-466e-ac22-8fe66ba43d3e",
   "metadata": {},
   "outputs": [
    {
     "data": {
      "text/plain": [
       "['__class__',\n",
       " '__delattr__',\n",
       " '__dir__',\n",
       " '__doc__',\n",
       " '__eq__',\n",
       " '__format__',\n",
       " '__ge__',\n",
       " '__getattribute__',\n",
       " '__getstate__',\n",
       " '__gt__',\n",
       " '__hash__',\n",
       " '__init__',\n",
       " '__init_subclass__',\n",
       " '__le__',\n",
       " '__lt__',\n",
       " '__ne__',\n",
       " '__new__',\n",
       " '__reduce__',\n",
       " '__reduce_ex__',\n",
       " '__repr__',\n",
       " '__setattr__',\n",
       " '__sizeof__',\n",
       " '__str__',\n",
       " '__subclasshook__',\n",
       " '_co_code_adaptive',\n",
       " '_varname_from_oparg',\n",
       " 'co_argcount',\n",
       " 'co_cellvars',\n",
       " 'co_code',\n",
       " 'co_consts',\n",
       " 'co_exceptiontable',\n",
       " 'co_filename',\n",
       " 'co_firstlineno',\n",
       " 'co_flags',\n",
       " 'co_freevars',\n",
       " 'co_kwonlyargcount',\n",
       " 'co_lines',\n",
       " 'co_linetable',\n",
       " 'co_lnotab',\n",
       " 'co_name',\n",
       " 'co_names',\n",
       " 'co_nlocals',\n",
       " 'co_positions',\n",
       " 'co_posonlyargcount',\n",
       " 'co_qualname',\n",
       " 'co_stacksize',\n",
       " 'co_varnames',\n",
       " 'replace']"
      ]
     },
     "execution_count": 32,
     "metadata": {},
     "output_type": "execute_result"
    }
   ],
   "source": [
    "dir(my_func.__code__)"
   ]
  },
  {
   "cell_type": "code",
   "execution_count": 33,
   "id": "d39307cb-ab1d-4599-b407-7ef4ea3588c3",
   "metadata": {},
   "outputs": [
    {
     "data": {
      "text/plain": [
       "('a', 'b', 'c', 'kw1', 'kw2', 'kw3', 'args', 'kwargs', 'i', 'j')"
      ]
     },
     "execution_count": 33,
     "metadata": {},
     "output_type": "execute_result"
    }
   ],
   "source": [
    "my_func.__code__.co_varnames  # inpout parameters + locals"
   ]
  },
  {
   "cell_type": "code",
   "execution_count": 34,
   "id": "9d551630-a380-4c9a-a469-68905c73b6f4",
   "metadata": {},
   "outputs": [],
   "source": [
    "from inspect import isfunction, ismethod, isroutine"
   ]
  },
  {
   "cell_type": "code",
   "execution_count": 35,
   "id": "4f131d97-b868-4ee5-94f2-de07c9e377e9",
   "metadata": {},
   "outputs": [
    {
     "data": {
      "text/plain": [
       "(False, True)"
      ]
     },
     "execution_count": 35,
     "metadata": {},
     "output_type": "execute_result"
    }
   ],
   "source": [
    "a = 10\n",
    "\n",
    "isfunction(a), isfunction(my_func)"
   ]
  },
  {
   "cell_type": "code",
   "execution_count": 36,
   "id": "3addefd6-3ccd-42f8-8e66-fc06ceb5f50e",
   "metadata": {},
   "outputs": [
    {
     "data": {
      "text/plain": [
       "False"
      ]
     },
     "execution_count": 36,
     "metadata": {},
     "output_type": "execute_result"
    }
   ],
   "source": [
    "ismethod(my_func)"
   ]
  },
  {
   "cell_type": "code",
   "execution_count": 37,
   "id": "bf8c4cec-7f84-4808-9446-902673cd4599",
   "metadata": {},
   "outputs": [],
   "source": [
    "class MyClass:\n",
    "    def f(self):\n",
    "        pass\n",
    "    "
   ]
  },
  {
   "cell_type": "code",
   "execution_count": 38,
   "id": "b9bd518f-b258-425f-a49e-858a7f240078",
   "metadata": {},
   "outputs": [
    {
     "data": {
      "text/plain": [
       "True"
      ]
     },
     "execution_count": 38,
     "metadata": {},
     "output_type": "execute_result"
    }
   ],
   "source": [
    "isfunction(MyClass.f)"
   ]
  },
  {
   "cell_type": "code",
   "execution_count": 39,
   "id": "3848bf48-28b4-4c0b-9f5e-f349df480be7",
   "metadata": {},
   "outputs": [
    {
     "data": {
      "text/plain": [
       "False"
      ]
     },
     "execution_count": 39,
     "metadata": {},
     "output_type": "execute_result"
    }
   ],
   "source": [
    "my_obj = MyClass()\n",
    "isfunction(my_obj.f)"
   ]
  },
  {
   "cell_type": "code",
   "execution_count": 40,
   "id": "b8f72134-0720-45d4-b601-be63d1b2c6bd",
   "metadata": {},
   "outputs": [
    {
     "data": {
      "text/plain": [
       "True"
      ]
     },
     "execution_count": 40,
     "metadata": {},
     "output_type": "execute_result"
    }
   ],
   "source": [
    "ismethod(my_obj.f)"
   ]
  },
  {
   "cell_type": "code",
   "execution_count": 41,
   "id": "ec94f954-1c13-4112-8937-d4b4feea33bd",
   "metadata": {},
   "outputs": [
    {
     "data": {
      "text/plain": [
       "(True, True)"
      ]
     },
     "execution_count": 41,
     "metadata": {},
     "output_type": "execute_result"
    }
   ],
   "source": [
    "isroutine(my_obj.f), isroutine(MyClass.f)"
   ]
  },
  {
   "cell_type": "code",
   "execution_count": 42,
   "id": "ec13cdb4-fed4-4db7-bb1c-ac5e7f68ca12",
   "metadata": {},
   "outputs": [
    {
     "name": "stdout",
     "output_type": "stream",
     "text": [
      "def my_func(\n",
      "    a: \"mandatory positional arg\", \n",
      "    b: \"optional positional\" = 1, \n",
      "    c=2, \n",
      "    *args: \"extra positional\", \n",
      "    kw1, kw2=100, kw3=200, \n",
      "    **kwargs: \"extra kwargs\"\n",
      ") -> None:\n",
      "    \"\"\"Does nothing but has a lot of vars\"\"\"\n",
      "    i = 10\n",
      "    j = 100\n",
      "    print(\"Just chillin'\")\n",
      "\n"
     ]
    }
   ],
   "source": [
    "import inspect\n",
    "\n",
    "\n",
    "print(inspect.getsource(my_func))"
   ]
  },
  {
   "cell_type": "code",
   "execution_count": 43,
   "id": "5b327eeb-9f5f-42f5-9e73-7acaaaa78128",
   "metadata": {},
   "outputs": [
    {
     "data": {
      "text/plain": [
       "<module '__main__'>"
      ]
     },
     "execution_count": 43,
     "metadata": {},
     "output_type": "execute_result"
    }
   ],
   "source": [
    "inspect.getmodule(my_func)"
   ]
  },
  {
   "cell_type": "code",
   "execution_count": 44,
   "id": "b9caeec7-b7c6-4f5f-ade8-b2ded5c1bf37",
   "metadata": {},
   "outputs": [
    {
     "data": {
      "text/plain": [
       "<module 'builtins' (built-in)>"
      ]
     },
     "execution_count": 44,
     "metadata": {},
     "output_type": "execute_result"
    }
   ],
   "source": [
    "inspect.getmodule(print)"
   ]
  },
  {
   "cell_type": "code",
   "execution_count": 45,
   "id": "90f0450f-cc73-4ba1-998f-cd11d0e2efe7",
   "metadata": {},
   "outputs": [
    {
     "data": {
      "text/plain": [
       "<module 'math' from '/Library/Frameworks/Python.framework/Versions/3.12/lib/python3.12/lib-dynload/math.cpython-312-darwin.so'>"
      ]
     },
     "execution_count": 45,
     "metadata": {},
     "output_type": "execute_result"
    }
   ],
   "source": [
    "import math\n",
    "inspect.getmodule(math.sin)"
   ]
  },
  {
   "cell_type": "code",
   "execution_count": 46,
   "id": "c65139be-3720-4715-983a-2bc38234b077",
   "metadata": {},
   "outputs": [],
   "source": [
    "# TODO: fix me - comment that is `attached` to the function\n",
    "# second line of the comment\n",
    "def to_be_fixed():\n",
    "    print(\"I need to be fixed\")"
   ]
  },
  {
   "cell_type": "code",
   "execution_count": 47,
   "id": "ea308194-c403-49cd-9f26-9c8252b14848",
   "metadata": {},
   "outputs": [
    {
     "name": "stdout",
     "output_type": "stream",
     "text": [
      "Help on function to_be_fixed in module __main__:\n",
      "\n",
      "to_be_fixed()\n",
      "    # TODO: fix me - comment that is `attached` to the function\n",
      "    # second line of the comment\n",
      "\n"
     ]
    }
   ],
   "source": [
    "help(to_be_fixed)"
   ]
  },
  {
   "cell_type": "code",
   "execution_count": 48,
   "id": "5e699891-6654-45f0-9620-277fabf45a6c",
   "metadata": {},
   "outputs": [
    {
     "data": {
      "text/plain": [
       "'# TODO: fix me - comment that is `attached` to the function\\n# second line of the comment\\n'"
      ]
     },
     "execution_count": 48,
     "metadata": {},
     "output_type": "execute_result"
    }
   ],
   "source": [
    "inspect.getcomments(to_be_fixed)"
   ]
  },
  {
   "cell_type": "code",
   "execution_count": 49,
   "id": "ac151f60-ebb8-4bc3-b797-3bcfecad25a7",
   "metadata": {},
   "outputs": [
    {
     "name": "stdout",
     "output_type": "stream",
     "text": [
      "<class 'inspect.Signature'> (a: 'mandatory positional arg', b: 'optional positional' = 1, c=2, *args: 'extra positional', kw1, kw2=100, kw3=200, **kwargs: 'extra kwargs') -> None\n"
     ]
    }
   ],
   "source": [
    "signature = inspect.signature(my_func)\n",
    "print(type(signature), signature)"
   ]
  },
  {
   "cell_type": "code",
   "execution_count": 50,
   "id": "578fdbb6-5d13-455c-9c5a-bf23324ecd0a",
   "metadata": {},
   "outputs": [
    {
     "data": {
      "text/plain": [
       "['__class__',\n",
       " '__delattr__',\n",
       " '__dir__',\n",
       " '__doc__',\n",
       " '__eq__',\n",
       " '__format__',\n",
       " '__ge__',\n",
       " '__getattribute__',\n",
       " '__getstate__',\n",
       " '__gt__',\n",
       " '__hash__',\n",
       " '__init__',\n",
       " '__init_subclass__',\n",
       " '__le__',\n",
       " '__lt__',\n",
       " '__module__',\n",
       " '__ne__',\n",
       " '__new__',\n",
       " '__reduce__',\n",
       " '__reduce_ex__',\n",
       " '__repr__',\n",
       " '__setattr__',\n",
       " '__setstate__',\n",
       " '__sizeof__',\n",
       " '__slots__',\n",
       " '__str__',\n",
       " '__subclasshook__',\n",
       " '_bind',\n",
       " '_bound_arguments_cls',\n",
       " '_hash_basis',\n",
       " '_parameter_cls',\n",
       " '_parameters',\n",
       " '_return_annotation',\n",
       " 'bind',\n",
       " 'bind_partial',\n",
       " 'empty',\n",
       " 'from_callable',\n",
       " 'parameters',\n",
       " 'replace',\n",
       " 'return_annotation']"
      ]
     },
     "execution_count": 50,
     "metadata": {},
     "output_type": "execute_result"
    }
   ],
   "source": [
    "dir(signature)"
   ]
  },
  {
   "cell_type": "code",
   "execution_count": 51,
   "id": "e74335ec-14c9-4447-87e6-fd5972b9bbb6",
   "metadata": {},
   "outputs": [
    {
     "data": {
      "text/plain": [
       "mappingproxy({'a': <Parameter \"a: 'mandatory positional arg'\">,\n",
       "              'b': <Parameter \"b: 'optional positional' = 1\">,\n",
       "              'c': <Parameter \"c=2\">,\n",
       "              'args': <Parameter \"*args: 'extra positional'\">,\n",
       "              'kw1': <Parameter \"kw1\">,\n",
       "              'kw2': <Parameter \"kw2=100\">,\n",
       "              'kw3': <Parameter \"kw3=200\">,\n",
       "              'kwargs': <Parameter \"**kwargs: 'extra kwargs'\">})"
      ]
     },
     "execution_count": 51,
     "metadata": {},
     "output_type": "execute_result"
    }
   ],
   "source": [
    "signature.parameters"
   ]
  },
  {
   "cell_type": "code",
   "execution_count": 52,
   "id": "d9be8b4f-53b0-40ee-8b59-47049642c3e6",
   "metadata": {},
   "outputs": [
    {
     "name": "stdout",
     "output_type": "stream",
     "text": [
      "['KEYWORD_ONLY', 'POSITIONAL_ONLY', 'POSITIONAL_OR_KEYWORD', 'VAR_KEYWORD', 'VAR_POSITIONAL', '__class__', '__delattr__', '__dir__', '__doc__', '__eq__', '__format__', '__ge__', '__getattribute__', '__getstate__', '__gt__', '__hash__', '__init__', '__init_subclass__', '__le__', '__lt__', '__module__', '__ne__', '__new__', '__reduce__', '__reduce_ex__', '__repr__', '__setattr__', '__setstate__', '__sizeof__', '__slots__', '__str__', '__subclasshook__', '_annotation', '_default', '_kind', '_name', 'annotation', 'default', 'empty', 'kind', 'name', 'replace']\n"
     ]
    }
   ],
   "source": [
    "for k, v in signature.parameters.items():\n",
    "    print(dir(v))\n",
    "    break"
   ]
  },
  {
   "cell_type": "code",
   "execution_count": 53,
   "id": "daa6eed5-a61e-489e-bbed-66fe66797c37",
   "metadata": {},
   "outputs": [
    {
     "name": "stdout",
     "output_type": "stream",
     "text": [
      "Key: a\n",
      "Name: a\n",
      "Default: <class 'inspect._empty'>\n",
      "Annotation: mandatory positional arg\n",
      "Kind: POSITIONAL_OR_KEYWORD\n",
      "-------------\n",
      "Key: b\n",
      "Name: b\n",
      "Default: 1\n",
      "Annotation: optional positional\n",
      "Kind: POSITIONAL_OR_KEYWORD\n",
      "-------------\n",
      "Key: c\n",
      "Name: c\n",
      "Default: 2\n",
      "Annotation: <class 'inspect._empty'>\n",
      "Kind: POSITIONAL_OR_KEYWORD\n",
      "-------------\n",
      "Key: args\n",
      "Name: args\n",
      "Default: <class 'inspect._empty'>\n",
      "Annotation: extra positional\n",
      "Kind: VAR_POSITIONAL\n",
      "-------------\n",
      "Key: kw1\n",
      "Name: kw1\n",
      "Default: <class 'inspect._empty'>\n",
      "Annotation: <class 'inspect._empty'>\n",
      "Kind: KEYWORD_ONLY\n",
      "-------------\n",
      "Key: kw2\n",
      "Name: kw2\n",
      "Default: 100\n",
      "Annotation: <class 'inspect._empty'>\n",
      "Kind: KEYWORD_ONLY\n",
      "-------------\n",
      "Key: kw3\n",
      "Name: kw3\n",
      "Default: 200\n",
      "Annotation: <class 'inspect._empty'>\n",
      "Kind: KEYWORD_ONLY\n",
      "-------------\n",
      "Key: kwargs\n",
      "Name: kwargs\n",
      "Default: <class 'inspect._empty'>\n",
      "Annotation: extra kwargs\n",
      "Kind: VAR_KEYWORD\n",
      "-------------\n"
     ]
    }
   ],
   "source": [
    "for k, v in signature.parameters.items():\n",
    "    print(\"Key:\", k)\n",
    "    print(\"Name:\", v.name)\n",
    "    print(\"Default:\", v.default)\n",
    "    print(\"Annotation:\", v.annotation)\n",
    "    print(\"Kind:\", v.kind)\n",
    "    print(\"-------------\")"
   ]
  },
  {
   "cell_type": "code",
   "execution_count": 54,
   "id": "e7b5d355-0156-43b1-9ea2-d8b56e453bdc",
   "metadata": {},
   "outputs": [
    {
     "name": "stdout",
     "output_type": "stream",
     "text": [
      "Help on built-in function divmod in module builtins:\n",
      "\n",
      "divmod(x, y, /)\n",
      "    Return the tuple (x//y, x%y).  Invariant: div*y + mod == x.\n",
      "\n"
     ]
    }
   ],
   "source": [
    "help(divmod)  # there is POSITIONAL_ONLY type - marked as `/` in the docs\n",
    "# it's not possible to pass divmod(x=2, y=3)"
   ]
  },
  {
   "cell_type": "code",
   "execution_count": 55,
   "id": "39fc9c30-146f-476a-8205-320a73618a8b",
   "metadata": {},
   "outputs": [
    {
     "name": "stdout",
     "output_type": "stream",
     "text": [
      "POSITIONAL_ONLY\n",
      "POSITIONAL_ONLY\n"
     ]
    }
   ],
   "source": [
    "for p in inspect.signature(divmod).parameters.values():\n",
    "    print(p.kind)"
   ]
  },
  {
   "cell_type": "code",
   "execution_count": null,
   "id": "8d6909f0-17f0-4aaa-a76f-dab56592479e",
   "metadata": {},
   "outputs": [],
   "source": [
    "\n"
   ]
  }
 ],
 "metadata": {
  "kernelspec": {
   "display_name": "Python 3 (ipykernel)",
   "language": "python",
   "name": "python3"
  },
  "language_info": {
   "codemirror_mode": {
    "name": "ipython",
    "version": 3
   },
   "file_extension": ".py",
   "mimetype": "text/x-python",
   "name": "python",
   "nbconvert_exporter": "python",
   "pygments_lexer": "ipython3",
   "version": "3.12.3"
  }
 },
 "nbformat": 4,
 "nbformat_minor": 5
}
