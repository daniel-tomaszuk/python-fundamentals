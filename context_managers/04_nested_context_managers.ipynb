{
 "cells": [
  {
   "cell_type": "code",
   "execution_count": 1,
   "id": "52ab86ee-a00a-4fbe-a1c3-d06d24ab1b8e",
   "metadata": {},
   "outputs": [
    {
     "name": "stdout",
     "output_type": "stream",
     "text": [
      "['file1 line1\\n', 'file1 line2\\n', 'file1 line3']\n",
      "['file2 line1\\n', 'file2 line2\\n', 'file2 line3']\n",
      "['file3 line1\\n', 'file3 line2\\n', 'file3 line3']\n"
     ]
    }
   ],
   "source": [
    "with open(\"file1.txt\") as f:\n",
    "    print(f.readlines())\n",
    "\n",
    "with open(\"file2.txt\") as f:\n",
    "    print(f.readlines())\n",
    "\n",
    "with open(\"file3.txt\") as f:\n",
    "    print(f.readlines())"
   ]
  },
  {
   "cell_type": "code",
   "execution_count": 2,
   "id": "9f44ce35-bff6-420a-af06-c8fe3ed8583f",
   "metadata": {},
   "outputs": [
    {
     "name": "stdout",
     "output_type": "stream",
     "text": [
      "['file1 line1\\n', 'file1 line2\\n', 'file1 line3']\n",
      "['file2 line1\\n', 'file2 line2\\n', 'file2 line3']\n"
     ]
    }
   ],
   "source": [
    "with open(\"file1.txt\") as f1, open(\"file2.txt\") as f2:\n",
    "    print(f1.readlines())\n",
    "    print(f2.readlines())"
   ]
  },
  {
   "cell_type": "code",
   "execution_count": 3,
   "id": "b86a4efe-2836-48c7-9368-9f41107f0f11",
   "metadata": {},
   "outputs": [
    {
     "name": "stdout",
     "output_type": "stream",
     "text": [
      "['file1 line1\\n', 'file1 line2\\n', 'file1 line3']\n",
      "['file2 line1\\n', 'file2 line2\\n', 'file2 line3']\n",
      "['file3 line1\\n', 'file3 line2\\n', 'file3 line3']\n"
     ]
    }
   ],
   "source": [
    "with open(\"file1.txt\") as f1:\n",
    "    with open(\"file2.txt\") as f2:\n",
    "        with open(\"file3.txt\") as f3:\n",
    "            print(f1.readlines())\n",
    "            print(f2.readlines())\n",
    "            print(f3.readlines())"
   ]
  },
  {
   "cell_type": "code",
   "execution_count": 4,
   "id": "c97cffc1-af84-41c4-919d-509557d4c97d",
   "metadata": {},
   "outputs": [],
   "source": [
    "# what if we don't know how many files we have? "
   ]
  },
  {
   "cell_type": "code",
   "execution_count": 5,
   "id": "9b964cbf-bbdc-47ba-9cb0-caa2744d531f",
   "metadata": {},
   "outputs": [],
   "source": [
    "from contextlib import contextmanager\n",
    "\n",
    "\n",
    "@contextmanager\n",
    "def open_file(fname):\n",
    "    print(f\"opening {fname}\")\n",
    "    f = open(fname)\n",
    "    try:\n",
    "        yield f\n",
    "    finally:\n",
    "        print(f\"closing {fname}\")\n",
    "        f.close()"
   ]
  },
  {
   "cell_type": "code",
   "execution_count": 6,
   "id": "7bf16f6e-3f98-44d1-8f55-658670bf44d8",
   "metadata": {},
   "outputs": [],
   "source": [
    "f_names = \"file1.txt\", \"file2.txt\", \"file3.txt\"\n",
    "exits = []\n",
    "enters = []\n",
    "\n",
    "for f_name in f_names:\n",
    "    ctx = open_file(f_name)  # creates context object (but doesn't fires the __enter__ yet)\n",
    "    enters.append(ctx.__enter__)\n",
    "    exits.append(ctx.__exit__)"
   ]
  },
  {
   "cell_type": "code",
   "execution_count": 7,
   "id": "6f1a4bf4-c3f0-450a-ad6c-a04dff43555f",
   "metadata": {},
   "outputs": [
    {
     "name": "stdout",
     "output_type": "stream",
     "text": [
      "opening file1.txt\n",
      "opening file2.txt\n",
      "opening file3.txt\n"
     ]
    }
   ],
   "source": [
    "files = [enter() for enter in enters]"
   ]
  },
  {
   "cell_type": "code",
   "execution_count": 8,
   "id": "d7f398bd-f25b-4e4e-89a6-8fe2e405bf83",
   "metadata": {},
   "outputs": [
    {
     "name": "stdout",
     "output_type": "stream",
     "text": [
      "file1 line1, file2 line1, file3 line1\n",
      "file1 line2, file2 line2, file3 line2\n",
      "file1 line3, file2 line3, file3 line3\n"
     ]
    }
   ],
   "source": [
    "while True:\n",
    "    try:\n",
    "        rows = [next(f).strip(\"\\n\") for f in files]\n",
    "    except StopIteration:\n",
    "        break\n",
    "    else:\n",
    "        row = \", \".join(rows)\n",
    "        print(row)"
   ]
  },
  {
   "cell_type": "code",
   "execution_count": 9,
   "id": "cfdeb316-f7bd-48a4-8b5f-ab957903d1af",
   "metadata": {},
   "outputs": [
    {
     "name": "stdout",
     "output_type": "stream",
     "text": [
      "closing file3.txt\n",
      "closing file2.txt\n",
      "closing file1.txt\n"
     ]
    }
   ],
   "source": [
    "for context_exit in exits[::-1]:\n",
    "    context_exit(None, None, None)"
   ]
  },
  {
   "cell_type": "code",
   "execution_count": 10,
   "id": "8d264350-b3ab-474f-ac55-d4f4fd87a66e",
   "metadata": {},
   "outputs": [
    {
     "name": "stdout",
     "output_type": "stream",
     "text": [
      "opening file1.txt\n",
      "opening file2.txt\n",
      "opening file3.txt\n",
      "file1 line1, file2 line1, file3 line1\n",
      "file1 line2, file2 line2, file3 line2\n",
      "file1 line3, file2 line3, file3 line3\n",
      "closing file3.txt\n",
      "closing file2.txt\n",
      "closing file1.txt\n"
     ]
    }
   ],
   "source": [
    "# variable number of files, eg. taken from scrapping the dir\n",
    "f_names = \"file1.txt\", \"file2.txt\", \"file3.txt\"  \n",
    "exits = []\n",
    "enters = []\n",
    "\n",
    "# creating context managers\n",
    "for f_name in f_names:\n",
    "    ctx = open_file(f_name)  # creates context object (but doesn't fires the __enter__ yet)\n",
    "    enters.append(ctx.__enter__)\n",
    "    exits.append(ctx.__exit__)\n",
    "\n",
    "# entering context managers\n",
    "files = [enter() for enter in enters]\n",
    "\n",
    "# doing the work\n",
    "while True:\n",
    "    try:\n",
    "        rows = [next(f).strip(\"\\n\") for f in files]\n",
    "    except StopIteration:\n",
    "        # will stop as soon as shortest file is exhausted\n",
    "        break\n",
    "    else:\n",
    "        row = \", \".join(rows)\n",
    "        print(row)\n",
    "\n",
    "# exiting context managers\n",
    "for context_exit in exits[::-1]:\n",
    "    context_exit(None, None, None)"
   ]
  },
  {
   "cell_type": "code",
   "execution_count": 11,
   "id": "d23b2f0a-4c7e-4f29-8418-ffa7d3eefba3",
   "metadata": {},
   "outputs": [],
   "source": [
    "# context manager that manages context managers :) \n",
    "\n",
    "class NestedContests:\n",
    "    def __init__(self, *contexts):\n",
    "        self._enters = []\n",
    "        self._exits = []\n",
    "        self._values = []\n",
    "\n",
    "        for ctx in contexts:\n",
    "            self._enters.append(ctx.__enter__)\n",
    "            self._exits.append(ctx.__exit__)\n",
    "\n",
    "    def __enter__(self):\n",
    "        for enter in self._enters:\n",
    "            self._values.append(enter())\n",
    "        return self._values\n",
    "\n",
    "    def __exit__(self, exc_type, exc_value, exc_tb):\n",
    "        for exit in self._exits[::-1]:\n",
    "            exit(exc_type, exc_value, exc_tb)\n",
    "        return False\n"
   ]
  },
  {
   "cell_type": "code",
   "execution_count": 12,
   "id": "9272fcff-7088-4d36-8d46-88801eb1a633",
   "metadata": {},
   "outputs": [
    {
     "name": "stdout",
     "output_type": "stream",
     "text": [
      "opening file1.txt\n",
      "opening file2.txt\n",
      "opening file3.txt\n",
      "file1 line1, file2 line1, file3 line1\n",
      "file1 line2, file2 line2, file3 line2\n",
      "file1 line3, file2 line3, file3 line3\n",
      "closing file3.txt\n",
      "closing file2.txt\n",
      "closing file1.txt\n"
     ]
    }
   ],
   "source": [
    "with NestedContests(\n",
    "    open_file(\"file1.txt\"),\n",
    "    open_file(\"file2.txt\"),\n",
    "    open_file(\"file3.txt\"),\n",
    ") as files:\n",
    "    while True:\n",
    "        try:\n",
    "            rows = [next(f).strip(\"\\n\") for f in files]\n",
    "        except StopIteration:\n",
    "            # will stop as soon as shortest file is exhausted\n",
    "            break\n",
    "        else:\n",
    "            row = \", \".join(rows)\n",
    "            print(row)"
   ]
  },
  {
   "cell_type": "code",
   "execution_count": 13,
   "id": "f08da944-2f3c-46ff-99c1-33e6848d4203",
   "metadata": {},
   "outputs": [
    {
     "name": "stdout",
     "output_type": "stream",
     "text": [
      "opening file1.txt\n",
      "opening file2.txt\n",
      "opening file3.txt\n",
      "do the work\n",
      "closing file3.txt\n",
      "closing file2.txt\n",
      "closing file1.txt\n"
     ]
    }
   ],
   "source": [
    "file_names = (\"file1.txt\", \"file2.txt\", \"file3.txt\")\n",
    "contexts = [open_file(fname) for fname in file_names]\n",
    "\n",
    "with NestedContests(*contexts) as files:\n",
    "    print(\"do the work\")"
   ]
  },
  {
   "cell_type": "code",
   "execution_count": 14,
   "id": "9d4dad2c-5fd0-4fbe-a7d4-3bae32104c52",
   "metadata": {},
   "outputs": [],
   "source": [
    "# version with dynamic number of contexts\n",
    "class NestedContexts:\n",
    "    def __init__(self):\n",
    "        self._exits = []\n",
    "\n",
    "    def __enter__(self):\n",
    "        return self\n",
    "\n",
    "    def enter_context(self, ctx):\n",
    "        self._exits.append(ctx.__exit__)\n",
    "        value = ctx.__enter__()\n",
    "        return value\n",
    "\n",
    "    def __exit__(self, exc_type, exc_value, exc_tb):\n",
    "        for exit in self._exits[::-1]:\n",
    "            exit(exc_type, exc_value, exc_tb)\n",
    "        return False\n"
   ]
  },
  {
   "cell_type": "code",
   "execution_count": 15,
   "id": "be602af1-ac4c-4018-8afc-1b9d6ffecab9",
   "metadata": {},
   "outputs": [
    {
     "name": "stdout",
     "output_type": "stream",
     "text": [
      "opening file1.txt\n",
      "opening file2.txt\n",
      "opening file3.txt\n",
      "do the work on files\n",
      "closing file3.txt\n",
      "closing file2.txt\n",
      "closing file1.txt\n"
     ]
    }
   ],
   "source": [
    "file_names = (\"file1.txt\", \"file2.txt\", \"file3.txt\")\n",
    "with NestedContexts() as context_stack:\n",
    "    files = [context_stack.enter_context(open_file(f)) for f in file_names]\n",
    "    print(\"do the work on files\")\n"
   ]
  },
  {
   "cell_type": "code",
   "execution_count": 16,
   "id": "6c5e8070-092c-40c4-9361-229611093b3d",
   "metadata": {},
   "outputs": [
    {
     "name": "stdout",
     "output_type": "stream",
     "text": [
      "Help on class ExitStack in module contextlib:\n",
      "\n",
      "class ExitStack(_BaseExitStack, AbstractContextManager)\n",
      " |  Context manager for dynamic management of a stack of exit callbacks.\n",
      " |\n",
      " |  For example:\n",
      " |      with ExitStack() as stack:\n",
      " |          files = [stack.enter_context(open(fname)) for fname in filenames]\n",
      " |          # All opened files will automatically be closed at the end of\n",
      " |          # the with statement, even if attempts to open files later\n",
      " |          # in the list raise an exception.\n",
      " |\n",
      " |  Method resolution order:\n",
      " |      ExitStack\n",
      " |      _BaseExitStack\n",
      " |      AbstractContextManager\n",
      " |      abc.ABC\n",
      " |      builtins.object\n",
      " |\n",
      " |  Methods defined here:\n",
      " |\n",
      " |  __enter__(self)\n",
      " |      Return `self` upon entering the runtime context.\n",
      " |\n",
      " |  __exit__(self, *exc_details)\n",
      " |      Raise any exception triggered within the runtime context.\n",
      " |\n",
      " |  close(self)\n",
      " |      Immediately unwind the context stack.\n",
      " |\n",
      " |  ----------------------------------------------------------------------\n",
      " |  Data and other attributes defined here:\n",
      " |\n",
      " |  __abstractmethods__ = frozenset()\n",
      " |\n",
      " |  ----------------------------------------------------------------------\n",
      " |  Methods inherited from _BaseExitStack:\n",
      " |\n",
      " |  __init__(self)\n",
      " |      Initialize self.  See help(type(self)) for accurate signature.\n",
      " |\n",
      " |  callback(self, callback, /, *args, **kwds)\n",
      " |      Registers an arbitrary callback and arguments.\n",
      " |\n",
      " |      Cannot suppress exceptions.\n",
      " |\n",
      " |  enter_context(self, cm)\n",
      " |      Enters the supplied context manager.\n",
      " |\n",
      " |      If successful, also pushes its __exit__ method as a callback and\n",
      " |      returns the result of the __enter__ method.\n",
      " |\n",
      " |  pop_all(self)\n",
      " |      Preserve the context stack by transferring it to a new instance.\n",
      " |\n",
      " |  push(self, exit)\n",
      " |      Registers a callback with the standard __exit__ method signature.\n",
      " |\n",
      " |      Can suppress exceptions the same way __exit__ method can.\n",
      " |      Also accepts any object with an __exit__ method (registering a call\n",
      " |      to the method instead of the object itself).\n",
      " |\n",
      " |  ----------------------------------------------------------------------\n",
      " |  Data descriptors inherited from _BaseExitStack:\n",
      " |\n",
      " |  __dict__\n",
      " |      dictionary for instance variables\n",
      " |\n",
      " |  __weakref__\n",
      " |      list of weak references to the object\n",
      " |\n",
      " |  ----------------------------------------------------------------------\n",
      " |  Class methods inherited from AbstractContextManager:\n",
      " |\n",
      " |  __class_getitem__ = GenericAlias(...)\n",
      " |      Represent a PEP 585 generic type\n",
      " |\n",
      " |      E.g. for t = list[int], t.__origin__ is list and t.__args__ is (int,).\n",
      " |\n",
      " |  __subclasshook__(C)\n",
      " |      Abstract classes can override this to customize issubclass().\n",
      " |\n",
      " |      This is invoked early on by abc.ABCMeta.__subclasscheck__().\n",
      " |      It should return True, False or NotImplemented.  If it returns\n",
      " |      NotImplemented, the normal algorithm is used.  Otherwise, it\n",
      " |      overrides the normal algorithm (and the outcome is cached).\n",
      "\n"
     ]
    }
   ],
   "source": [
    "# this nested stack behaviour is already implemented in python :)\n",
    "from contextlib import ExitStack\n",
    "\n",
    "\n",
    "help(ExitStack)"
   ]
  },
  {
   "cell_type": "code",
   "execution_count": 18,
   "id": "877c1328-8e2b-422b-9e47-80f4b8c87401",
   "metadata": {},
   "outputs": [
    {
     "name": "stdout",
     "output_type": "stream",
     "text": [
      "do the work on files\n"
     ]
    }
   ],
   "source": [
    "from contextlib import ExitStack\n",
    "\n",
    "file_names = (\"file1.txt\", \"file2.txt\", \"file3.txt\")\n",
    "with ExitStack() as context_stack:\n",
    "    files = [context_stack.enter_context(open(f)) for f in file_names]\n",
    "    print(\"do the work on files\")"
   ]
  },
  {
   "cell_type": "code",
   "execution_count": null,
   "id": "7347b7cd-8d09-4187-b006-d83065c692f9",
   "metadata": {},
   "outputs": [],
   "source": []
  }
 ],
 "metadata": {
  "kernelspec": {
   "display_name": "Python 3 (ipykernel)",
   "language": "python",
   "name": "python3"
  },
  "language_info": {
   "codemirror_mode": {
    "name": "ipython",
    "version": 3
   },
   "file_extension": ".py",
   "mimetype": "text/x-python",
   "name": "python",
   "nbconvert_exporter": "python",
   "pygments_lexer": "ipython3",
   "version": "3.12.3"
  }
 },
 "nbformat": 4,
 "nbformat_minor": 5
}
