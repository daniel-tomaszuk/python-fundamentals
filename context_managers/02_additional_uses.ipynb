{
 "cells": [
  {
   "cell_type": "code",
   "execution_count": 1,
   "id": "a4eb9f7e-ac69-428f-9ceb-aa4f0194008c",
   "metadata": {},
   "outputs": [
    {
     "data": {
      "text/plain": [
       "Context(prec=28, rounding=ROUND_HALF_EVEN, Emin=-999999, Emax=999999, capitals=1, clamp=0, flags=[], traps=[InvalidOperation, DivisionByZero, Overflow])"
      ]
     },
     "execution_count": 1,
     "metadata": {},
     "output_type": "execute_result"
    }
   ],
   "source": [
    "# it's possible to recover and change decimal numbers context\n",
    "# for example to change rounding / precision settings\n",
    "\n",
    "import decimal\n",
    "from decimal import Decimal\n",
    "\n",
    "\n",
    "decimal.getcontext()  # this is a global context"
   ]
  },
  {
   "cell_type": "code",
   "execution_count": 2,
   "id": "6a5fa19b-763f-4ac0-8001-645561844fda",
   "metadata": {},
   "outputs": [
    {
     "data": {
      "text/plain": [
       "Context(prec=14, rounding=ROUND_HALF_EVEN, Emin=-999999, Emax=999999, capitals=1, clamp=0, flags=[], traps=[InvalidOperation, DivisionByZero, Overflow])"
      ]
     },
     "execution_count": 2,
     "metadata": {},
     "output_type": "execute_result"
    }
   ],
   "source": [
    "decimal.getcontext().prec = 14\n",
    "decimal.getcontext()"
   ]
  },
  {
   "cell_type": "code",
   "execution_count": 3,
   "id": "9da0c5f8-556e-489d-848b-c7988f5b147b",
   "metadata": {},
   "outputs": [
    {
     "data": {
      "text/plain": [
       "Context(prec=28, rounding=ROUND_HALF_EVEN, Emin=-999999, Emax=999999, capitals=1, clamp=0, flags=[], traps=[InvalidOperation, DivisionByZero, Overflow])"
      ]
     },
     "execution_count": 3,
     "metadata": {},
     "output_type": "execute_result"
    }
   ],
   "source": [
    "decimal.getcontext().prec = 28\n",
    "decimal.getcontext()"
   ]
  },
  {
   "cell_type": "code",
   "execution_count": 4,
   "id": "6c1bf605-9132-4fd9-b9f1-0159116c0869",
   "metadata": {},
   "outputs": [
    {
     "name": "stdout",
     "output_type": "stream",
     "text": [
      "0.3333\n"
     ]
    }
   ],
   "source": [
    "old_prec = decimal.getcontext().prec\n",
    "decimal.getcontext().prec = 4\n",
    "print(Decimal(Decimal(1) / Decimal(3)))"
   ]
  },
  {
   "cell_type": "code",
   "execution_count": 5,
   "id": "f6daae91-af60-4513-91e4-0839f919c754",
   "metadata": {},
   "outputs": [
    {
     "name": "stdout",
     "output_type": "stream",
     "text": [
      "0.3333333333333333333333333333\n"
     ]
    }
   ],
   "source": [
    "decimal.getcontext().prec = old_prec\n",
    "print(Decimal(Decimal(1) / Decimal(3)))"
   ]
  },
  {
   "cell_type": "code",
   "execution_count": 6,
   "id": "543e5a90-9b16-490c-8ab8-509bc0162d31",
   "metadata": {},
   "outputs": [],
   "source": [
    "class precision:\n",
    "    def __init__(self, prec):\n",
    "        self.prec = prec\n",
    "        self.current_prec = decimal.getcontext().prec\n",
    "\n",
    "    def __enter__(self):\n",
    "        print(\"__enter__\", \"instance ID:\", id(self))\n",
    "        decimal.getcontext().prec = self.prec\n",
    "\n",
    "    def __exit__(self, exc_type, exc_value, exc_tb):\n",
    "        decimal.getcontext().prec = self.current_prec\n",
    "        return False\n"
   ]
  },
  {
   "cell_type": "code",
   "execution_count": 7,
   "id": "1eaea363-1e36-4408-96c3-983872a31207",
   "metadata": {},
   "outputs": [
    {
     "name": "stdout",
     "output_type": "stream",
     "text": [
      "__enter__ instance ID: 4527271920\n",
      "0.333\n"
     ]
    }
   ],
   "source": [
    "with precision(3):\n",
    "    print(Decimal(Decimal(1) / Decimal(3)))"
   ]
  },
  {
   "cell_type": "code",
   "execution_count": 8,
   "id": "e9b0e317-0f72-4975-bdf9-2c2f5ece9d8b",
   "metadata": {},
   "outputs": [
    {
     "name": "stdout",
     "output_type": "stream",
     "text": [
      "0.3333333333333333333333333333\n",
      "__enter__ instance ID: 4527270144\n",
      "0.333\n",
      "__enter__ instance ID: 4527455264\n",
      "0.33333\n",
      "__enter__ instance ID: 4527607248\n",
      "0.3\n",
      "0.33333\n",
      "0.333\n",
      "0.3333333333333333333333333333\n"
     ]
    }
   ],
   "source": [
    "print(Decimal(Decimal(1) / Decimal(3)))\n",
    "with precision(3):  # new context manager instance every time\n",
    "    print(Decimal(Decimal(1) / Decimal(3)))\n",
    "    with precision(5):\n",
    "        print(Decimal(Decimal(1) / Decimal(3)))\n",
    "        with precision(1):\n",
    "            print(Decimal(Decimal(1) / Decimal(3)))\n",
    "        print(Decimal(Decimal(1) / Decimal(3)))\n",
    "    print(Decimal(Decimal(1) / Decimal(3)))\n",
    "print(Decimal(Decimal(1) / Decimal(3)))"
   ]
  },
  {
   "cell_type": "code",
   "execution_count": 9,
   "id": "980792be-0824-4712-915a-f1d7d3d73510",
   "metadata": {},
   "outputs": [
    {
     "name": "stdout",
     "output_type": "stream",
     "text": [
      "0.333\n",
      "0.333333\n",
      "0.3333333333333333333333333333\n"
     ]
    }
   ],
   "source": [
    "# decimal has it's own context manager\n",
    "\n",
    "with decimal.localcontext() as ctx1:\n",
    "    ctx1.prec = 3\n",
    "    print(Decimal(Decimal(1) / Decimal(3)))\n",
    "    with decimal.localcontext() as ctx2:\n",
    "        ctx2.prec = 6\n",
    "        print(Decimal(Decimal(1) / Decimal(3)))\n",
    "print(Decimal(Decimal(1) / Decimal(3)))"
   ]
  },
  {
   "cell_type": "markdown",
   "id": "425aeb80-f7f7-4513-abb4-b12ad54ccc67",
   "metadata": {},
   "source": [
    "#### context managers can be used for timing things"
   ]
  },
  {
   "cell_type": "code",
   "execution_count": 10,
   "id": "eaec3114-6df2-45e4-9506-7d44fc3062c9",
   "metadata": {},
   "outputs": [],
   "source": [
    "from time import perf_counter, sleep\n",
    "\n",
    "\n",
    "class Timer:\n",
    "    def __init__(self):\n",
    "        self.elapsed = 0\n",
    "        self.start = None\n",
    "        self.stop = None\n",
    "\n",
    "    def __enter__(self):\n",
    "        self.start = perf_counter()\n",
    "        return self\n",
    "\n",
    "    def __exit__(self, exc_type, exc_value, exc_tb):\n",
    "        self.stop = perf_counter()\n",
    "        self.elapsed = self.stop - self.start\n",
    "        return False\n",
    "   "
   ]
  },
  {
   "cell_type": "code",
   "execution_count": 11,
   "id": "2843e487-bc3f-4b6a-99b7-0fabcf78e234",
   "metadata": {},
   "outputs": [
    {
     "name": "stdout",
     "output_type": "stream",
     "text": [
      "T3 0.03851009900245117\n",
      "T2 0.051063437000266276\n",
      "T1 0.07606779499474214\n"
     ]
    }
   ],
   "source": [
    "with Timer() as t1:\n",
    "    sleep(0.02)\n",
    "    with Timer() as t2:\n",
    "        sleep(0.01)\n",
    "        with Timer() as t3:\n",
    "            sleep(0.033)\n",
    "        print(\"T3\", t3.elapsed)\n",
    "    print(\"T2\", t2.elapsed)\n",
    "print(\"T1\", t1.elapsed)"
   ]
  },
  {
   "cell_type": "markdown",
   "id": "e3f663ca-a92a-469d-a6ff-f5893b8ae642",
   "metadata": {},
   "source": [
    "#### Redirecting standard out"
   ]
  },
  {
   "cell_type": "code",
   "execution_count": 12,
   "id": "c358129b-f896-41be-8ef4-0866d18954d6",
   "metadata": {},
   "outputs": [],
   "source": [
    "import sys\n",
    "\n",
    "\n",
    "class OutToFile:\n",
    "    DEFAULT_FILE_STDOUT = \"std-context-manager.txt\"\n",
    "\n",
    "    def __init__(self, file_name: str = \"\"):\n",
    "        self._file_name = file_name or self.DEFAULT_FILE_STDOUT\n",
    "        self._file = None\n",
    "        self._current_stdout = sys.stdout\n",
    "\n",
    "    def __enter__(self):\n",
    "        self._file = open(self._file_name, \"w\")\n",
    "        sys.stdout = self._file\n",
    "\n",
    "    def __exit__(self, exc_type, exc_value, exc_tb):\n",
    "        sys.stdout = self._current_stdout\n",
    "        self._file.close()\n",
    "        return False\n"
   ]
  },
  {
   "cell_type": "code",
   "execution_count": 13,
   "id": "e7e96024-6fcb-4544-a638-c3ab4e1d728c",
   "metadata": {},
   "outputs": [],
   "source": [
    "with OutToFile():\n",
    "    print(sys.stdout)\n",
    "    print(\"Line 1\")\n",
    "    print(\"Line 2\")\n"
   ]
  },
  {
   "cell_type": "code",
   "execution_count": 14,
   "id": "7d5bdcb7-08e5-44ea-b101-603be35bf255",
   "metadata": {},
   "outputs": [
    {
     "name": "stdout",
     "output_type": "stream",
     "text": [
      "<_io.TextIOWrapper name='std-context-manager.txt' mode='w' encoding='UTF-8'>\n",
      "Line 1\n",
      "Line 2\n"
     ]
    }
   ],
   "source": [
    "with open(OutToFile.DEFAULT_FILE_STDOUT) as f:\n",
    "    print(next(f), end=\"\")\n",
    "    print(next(f), end=\"\")\n",
    "    print(next(f), end=\"\")"
   ]
  },
  {
   "cell_type": "markdown",
   "id": "607044cc-1011-427a-8734-2661d228de25",
   "metadata": {},
   "source": [
    "#### Inject HTML tags around prints"
   ]
  },
  {
   "cell_type": "code",
   "execution_count": 15,
   "id": "54708db3-51d4-4e71-afa9-48c0a9121313",
   "metadata": {},
   "outputs": [],
   "source": [
    "class Tag:\n",
    "    def __init__(self, tag_name: str):\n",
    "        self._tag = tag_name\n",
    "\n",
    "    def __enter__(self):\n",
    "        print(f\"<{self._tag}>\", end=\"\")\n",
    "\n",
    "    def __exit__(self, exc_type, exc_value, exc_tb):\n",
    "        print(f\"</{self._tag}>\")\n",
    "        return False"
   ]
  },
  {
   "cell_type": "code",
   "execution_count": 16,
   "id": "74325be4-b9a0-43f2-bbe2-558f43065f0d",
   "metadata": {},
   "outputs": [
    {
     "name": "stdout",
     "output_type": "stream",
     "text": [
      "<div>test\n",
      "<ul>My list\n",
      "<li>el 1</li>\n",
      "<li>el 2</li>\n",
      "<li>el 3\n",
      "</li>\n",
      "</ul>\n",
      "</div>\n"
     ]
    }
   ],
   "source": [
    "with Tag(\"div\"):\n",
    "    print(\"test\")\n",
    "    with Tag(\"ul\"):\n",
    "        print(\"My list\")\n",
    "        with Tag(\"li\"):\n",
    "            print(\"el 1\", end=\"\")\n",
    "        with Tag(\"li\"):\n",
    "            print(\"el 2\", end=\"\")\n",
    "        with Tag(\"li\"):\n",
    "            print(\"el 3\")"
   ]
  },
  {
   "cell_type": "code",
   "execution_count": 17,
   "id": "b93ad797-b5cc-4e73-83bb-928b061b9754",
   "metadata": {},
   "outputs": [],
   "source": [
    "#### Using same context manager instance multiple times - identation levels\n",
    "\n",
    "\n",
    "class ListMaker:\n",
    "    def __init__(self, title: str, prefix: str = \"- \", indent: int = 3):\n",
    "        self._title = title\n",
    "        self._prefix = prefix\n",
    "        self._indent = indent\n",
    "        self._current_indantation = 0\n",
    "        print(title)\n",
    "\n",
    "    def __enter__(self):\n",
    "        self._current_indantation += self._indent\n",
    "        return self\n",
    "\n",
    "    def __exit__(self, exc_type, exc_value, exc_tb):\n",
    "        self._current_indantation -= self._indent\n",
    "        return False\n",
    "\n",
    "    def print(self, arg):\n",
    "        print(\" \" * self._current_indantation + self._prefix + str(arg))\n"
   ]
  },
  {
   "cell_type": "code",
   "execution_count": 18,
   "id": "834a0ff2-676c-4c7f-9684-aef38b720ed5",
   "metadata": {},
   "outputs": [
    {
     "name": "stdout",
     "output_type": "stream",
     "text": [
      "My cool list\n",
      "   - item 1\n",
      "   - item 2\n",
      "      - subitem 2.1\n",
      "      - subitem 2.2\n",
      "      - subitem 2.3\n",
      "         - subitem 2.3.1\n",
      "         - subitem 2.3.2\n",
      "      - subitem 2.4\n",
      "   - item 3\n"
     ]
    }
   ],
   "source": [
    "with ListMaker(\"My cool list\") as lm:\n",
    "    lm.print(\"item 1\")\n",
    "    lm.print(\"item 2\")\n",
    "    with lm as lm:\n",
    "        lm.print(\"subitem 2.1\")\n",
    "        lm.print(\"subitem 2.2\")\n",
    "        lm.print(\"subitem 2.3\")\n",
    "        with lm as lm:\n",
    "            lm.print(\"subitem 2.3.1\")\n",
    "            lm.print(\"subitem 2.3.2\")\n",
    "        lm.print(\"subitem 2.4\")\n",
    "    lm.print(\"item 3\")"
   ]
  },
  {
   "cell_type": "code",
   "execution_count": null,
   "id": "d75276b8-a521-4622-987e-fca6dd3d3cca",
   "metadata": {},
   "outputs": [],
   "source": []
  }
 ],
 "metadata": {
  "kernelspec": {
   "display_name": "Python 3 (ipykernel)",
   "language": "python",
   "name": "python3"
  },
  "language_info": {
   "codemirror_mode": {
    "name": "ipython",
    "version": 3
   },
   "file_extension": ".py",
   "mimetype": "text/x-python",
   "name": "python",
   "nbconvert_exporter": "python",
   "pygments_lexer": "ipython3",
   "version": "3.12.3"
  }
 },
 "nbformat": 4,
 "nbformat_minor": 5
}
