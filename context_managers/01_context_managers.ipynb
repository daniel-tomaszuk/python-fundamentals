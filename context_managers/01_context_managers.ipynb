{
 "cells": [
  {
   "cell_type": "markdown",
   "id": "f1334804-5889-47ae-be16-e8413e43c3c8",
   "metadata": {},
   "source": [
    "### Context managers"
   ]
  },
  {
   "cell_type": "code",
   "execution_count": 1,
   "id": "7f10d337-796e-4a75-94f3-4a6a990f91bf",
   "metadata": {},
   "outputs": [
    {
     "name": "stdout",
     "output_type": "stream",
     "text": [
      "finally run\n"
     ]
    }
   ],
   "source": [
    "try:\n",
    "    10 / 2\n",
    "except ZeroDivisionError as e:\n",
    "    print(f\"Zero division exception occured: {e}\")\n",
    "finally:\n",
    "    print(\"finally run\")\n"
   ]
  },
  {
   "cell_type": "code",
   "execution_count": 2,
   "id": "941e7f5b-bfc3-485e-bf06-dc3bfcab109e",
   "metadata": {},
   "outputs": [
    {
     "name": "stdout",
     "output_type": "stream",
     "text": [
      "Zero division exception occured: division by zero\n",
      "finally run\n"
     ]
    }
   ],
   "source": [
    "try:\n",
    "    10 / 0\n",
    "except ZeroDivisionError as e:\n",
    "    print(f\"Zero division exception occured: {e}\")\n",
    "finally:\n",
    "    print(\"finally run\")"
   ]
  },
  {
   "cell_type": "code",
   "execution_count": 3,
   "id": "e2d0ad5e-833a-48c9-be15-57d81f207188",
   "metadata": {},
   "outputs": [],
   "source": [
    "def my_func():\n",
    "    try:\n",
    "        10 / 0\n",
    "    except ZeroDivisionError as e:\n",
    "        print(f\"Zero division exception occured: {e}\")\n",
    "        return e\n",
    "    finally:\n",
    "        print(\"finally run\")"
   ]
  },
  {
   "cell_type": "code",
   "execution_count": 4,
   "id": "c4d28cfb-f25b-4a46-8087-67742b810b99",
   "metadata": {},
   "outputs": [
    {
     "name": "stdout",
     "output_type": "stream",
     "text": [
      "Zero division exception occured: division by zero\n",
      "finally run\n"
     ]
    },
    {
     "data": {
      "text/plain": [
       "ZeroDivisionError('division by zero')"
      ]
     },
     "execution_count": 4,
     "metadata": {},
     "output_type": "execute_result"
    }
   ],
   "source": [
    "my_func()"
   ]
  },
  {
   "cell_type": "code",
   "execution_count": 5,
   "id": "2cddd33f-50d6-4716-8375-12d3d77f7fa2",
   "metadata": {},
   "outputs": [
    {
     "name": "stdout",
     "output_type": "stream",
     "text": [
      "Is file closed? False\n",
      "Exception division by zero\n",
      "Closing the file\n",
      "Is file closed? True\n"
     ]
    }
   ],
   "source": [
    "try:\n",
    "    f = open(\"text.txt\", \"w\")\n",
    "    print(f\"Is file closed?\", f.closed)\n",
    "    a = 1 / 0\n",
    "except Exception as e:\n",
    "    print(f\"Exception {e}\")\n",
    "finally:\n",
    "    print(\"Closing the file\")\n",
    "    f.close()\n",
    "    print(f\"Is file closed?\", f.closed)\n"
   ]
  },
  {
   "cell_type": "code",
   "execution_count": 6,
   "id": "aceab38b-a0e3-4a2a-95a3-8b7c15256127",
   "metadata": {},
   "outputs": [
    {
     "name": "stdout",
     "output_type": "stream",
     "text": [
      "Is file closed? False\n",
      "Closing the file\n",
      "Is file closed? True\n"
     ]
    }
   ],
   "source": [
    "try:\n",
    "\n",
    "    try:\n",
    "        f = open(\"text.txt\", \"w\")\n",
    "        print(f\"Is file closed?\", f.closed)\n",
    "        a = 1 / 0\n",
    "    finally:\n",
    "        print(\"Closing the file\")\n",
    "        f.close()\n",
    "        print(f\"Is file closed?\", f.closed)\n",
    "\n",
    "except:\n",
    "    pass"
   ]
  },
  {
   "cell_type": "code",
   "execution_count": 7,
   "id": "3d606cca-42bc-47d5-a42b-6f04277ad209",
   "metadata": {},
   "outputs": [
    {
     "name": "stdout",
     "output_type": "stream",
     "text": [
      "Is file closed? False\n"
     ]
    },
    {
     "ename": "ZeroDivisionError",
     "evalue": "division by zero",
     "output_type": "error",
     "traceback": [
      "\u001b[0;31m---------------------------------------------------------------------------\u001b[0m",
      "\u001b[0;31mZeroDivisionError\u001b[0m                         Traceback (most recent call last)",
      "Cell \u001b[0;32mIn[7], line 3\u001b[0m\n\u001b[1;32m      1\u001b[0m \u001b[38;5;28;01mwith\u001b[39;00m \u001b[38;5;28mopen\u001b[39m(\u001b[38;5;124m\"\u001b[39m\u001b[38;5;124mtext.txt\u001b[39m\u001b[38;5;124m\"\u001b[39m, \u001b[38;5;124m\"\u001b[39m\u001b[38;5;124mw\u001b[39m\u001b[38;5;124m\"\u001b[39m) \u001b[38;5;28;01mas\u001b[39;00m f:\n\u001b[1;32m      2\u001b[0m     \u001b[38;5;28mprint\u001b[39m(\u001b[38;5;124m\"\u001b[39m\u001b[38;5;124mIs file closed?\u001b[39m\u001b[38;5;124m\"\u001b[39m, f\u001b[38;5;241m.\u001b[39mclosed)\n\u001b[0;32m----> 3\u001b[0m     \u001b[38;5;241;43m1\u001b[39;49m\u001b[43m \u001b[49m\u001b[38;5;241;43m/\u001b[39;49m\u001b[43m \u001b[49m\u001b[38;5;241;43m0\u001b[39;49m\n",
      "\u001b[0;31mZeroDivisionError\u001b[0m: division by zero"
     ]
    }
   ],
   "source": [
    "with open(\"text.txt\", \"w\") as f:\n",
    "    print(\"Is file closed?\", f.closed)\n",
    "    1 / 0"
   ]
  },
  {
   "cell_type": "code",
   "execution_count": 8,
   "id": "805b87ed-9ffd-43f8-b072-df78f18f8e88",
   "metadata": {},
   "outputs": [
    {
     "name": "stdout",
     "output_type": "stream",
     "text": [
      "Is file closed? True\n"
     ]
    }
   ],
   "source": [
    "print(\"Is file closed?\", f.closed)"
   ]
  },
  {
   "cell_type": "code",
   "execution_count": 9,
   "id": "8ef1c3f6-23f6-4233-9b8f-63142eafe03b",
   "metadata": {},
   "outputs": [],
   "source": [
    "def test():\n",
    "    with open(\"test.txt\", \"w\") as f:\n",
    "        print(\"Inside wtih - is file closed?\", f.closed)\n",
    "        return f\n"
   ]
  },
  {
   "cell_type": "code",
   "execution_count": 10,
   "id": "3136bf1b-7a8f-45cf-9ef4-c79bebc04c29",
   "metadata": {},
   "outputs": [
    {
     "name": "stdout",
     "output_type": "stream",
     "text": [
      "Inside wtih - is file closed? False\n"
     ]
    },
    {
     "data": {
      "text/plain": [
       "True"
      ]
     },
     "execution_count": 10,
     "metadata": {},
     "output_type": "execute_result"
    }
   ],
   "source": [
    "f = test()\n",
    "f.closed  # file is already closed when context manager is closed"
   ]
  },
  {
   "cell_type": "code",
   "execution_count": 11,
   "id": "0995b759-7a7b-484f-810d-3e4b15c23153",
   "metadata": {},
   "outputs": [],
   "source": [
    "# with doesn't have it's own local scope\n",
    "with open(\"test.txt\", \"w\") as f:\n",
    "    f.writelines(\"this is a test\")"
   ]
  },
  {
   "cell_type": "code",
   "execution_count": 12,
   "id": "366a2c90-2863-4a4b-b524-f0f9c3fa5571",
   "metadata": {},
   "outputs": [
    {
     "name": "stdout",
     "output_type": "stream",
     "text": [
      "True\n",
      "this is a test\n"
     ]
    }
   ],
   "source": [
    "with open(\"test.txt\") as f:\n",
    "    row = next(f)\n",
    "print(f.closed)\n",
    "print(row)"
   ]
  },
  {
   "cell_type": "code",
   "execution_count": 13,
   "id": "a90d8f11-25f5-4821-acb1-086770ea6de0",
   "metadata": {},
   "outputs": [],
   "source": [
    "class MyContext:\n",
    "\n",
    "    def __init__(self):\n",
    "        self.obj = None\n",
    "\n",
    "    def __enter__(self):\n",
    "        print(\"entering context...\")\n",
    "        self.obj = \"the return object\"\n",
    "        return self.obj\n",
    "\n",
    "    def __exit__(self, exc_type, exc_value, exc_tb):\n",
    "        print(\"exiting context...\")\n",
    "        if exc_type:\n",
    "            print(f\"Error occured: {exc_type}: {exc_value}\")\n",
    "        return False  # False means the exception won't be suppressed!"
   ]
  },
  {
   "cell_type": "code",
   "execution_count": 14,
   "id": "5c359c20-b6b0-44af-90c6-e4bd2b704146",
   "metadata": {},
   "outputs": [
    {
     "name": "stdout",
     "output_type": "stream",
     "text": [
      "entering context...\n",
      "inside with block: the return object\n",
      "exiting context...\n",
      "Error occured: <class 'ValueError'>: Custom message\n"
     ]
    },
    {
     "ename": "ValueError",
     "evalue": "Custom message",
     "output_type": "error",
     "traceback": [
      "\u001b[0;31m---------------------------------------------------------------------------\u001b[0m",
      "\u001b[0;31mValueError\u001b[0m                                Traceback (most recent call last)",
      "Cell \u001b[0;32mIn[14], line 3\u001b[0m\n\u001b[1;32m      1\u001b[0m \u001b[38;5;28;01mwith\u001b[39;00m MyContext() \u001b[38;5;28;01mas\u001b[39;00m obj:\n\u001b[1;32m      2\u001b[0m     \u001b[38;5;28mprint\u001b[39m(\u001b[38;5;124m\"\u001b[39m\u001b[38;5;124minside with block:\u001b[39m\u001b[38;5;124m\"\u001b[39m, obj)\n\u001b[0;32m----> 3\u001b[0m     \u001b[38;5;28;01mraise\u001b[39;00m \u001b[38;5;167;01mValueError\u001b[39;00m(\u001b[38;5;124m\"\u001b[39m\u001b[38;5;124mCustom message\u001b[39m\u001b[38;5;124m\"\u001b[39m)\n",
      "\u001b[0;31mValueError\u001b[0m: Custom message"
     ]
    }
   ],
   "source": [
    "with MyContext() as obj:\n",
    "    print(\"inside with block:\", obj)\n",
    "    raise ValueError(\"Custom message\")"
   ]
  },
  {
   "cell_type": "code",
   "execution_count": 15,
   "id": "dbafb334-9a5d-4530-a5cb-11748e7bd101",
   "metadata": {},
   "outputs": [],
   "source": [
    "class ErrorSuppressedContext(MyContext):\n",
    "    def __exit__(self, exc_type, exc_value, exc_tb):\n",
    "        super().__exit__(exc_type, exc_value, exc_tb)\n",
    "        print(\"Returning `True` will suppress the exception!\")\n",
    "        return True\n",
    "    "
   ]
  },
  {
   "cell_type": "code",
   "execution_count": 16,
   "id": "6e183220-35e0-4930-9e67-a2c6bb91bffe",
   "metadata": {},
   "outputs": [
    {
     "name": "stdout",
     "output_type": "stream",
     "text": [
      "entering context...\n",
      "inside with block: the return object\n",
      "exiting context...\n",
      "Error occured: <class 'ValueError'>: Custom message\n",
      "Returning `True` will suppress the exception!\n"
     ]
    }
   ],
   "source": [
    "with ErrorSuppressedContext() as obj:\n",
    "    print(\"inside with block:\", obj)\n",
    "    raise ValueError(\"Custom message\")"
   ]
  },
  {
   "cell_type": "code",
   "execution_count": 17,
   "id": "e9ba9ebe-2794-47e9-8a1a-a572d939d40d",
   "metadata": {},
   "outputs": [],
   "source": [
    "class Resource:\n",
    "    def __init__(self, name):\n",
    "        self.name = name\n",
    "        self.state = None\n",
    "\n",
    "    def __repr__(self):\n",
    "        return f\"{type(self).__name__}, name={self.name}, state={self.state}\"\n",
    "\n",
    "\n",
    "class ResourceManager:\n",
    "    def __init__(self, name):\n",
    "        self.name = name\n",
    "        self.resource = None\n",
    "\n",
    "    def __enter__(self):\n",
    "        print(\"__enter__\")\n",
    "        self.resource = Resource(self.name)\n",
    "        self.resource.state = \"created\"\n",
    "        return self.resource\n",
    "\n",
    "    def __exit__(self, exc_type,  exc_value, exc_tb):\n",
    "        print(\"__exit__\")\n",
    "        self.resource.state = \"destroyed\"\n",
    "        if exc_type:\n",
    "            print(\"error occured\", exc_type)\n",
    "        return False\n",
    "    \n",
    "        "
   ]
  },
  {
   "cell_type": "code",
   "execution_count": 18,
   "id": "d216cfa7-59f9-4af2-b368-3993eadb987c",
   "metadata": {},
   "outputs": [
    {
     "name": "stdout",
     "output_type": "stream",
     "text": [
      "__enter__\n",
      "Resource, name=spam, state=created\n",
      "__exit__\n"
     ]
    }
   ],
   "source": [
    "with ResourceManager(\"spam\") as res:\n",
    "    print(res)\n",
    "    "
   ]
  },
  {
   "cell_type": "code",
   "execution_count": 19,
   "id": "804b0370-c5b8-42e3-a5f7-84ba7fbfed20",
   "metadata": {},
   "outputs": [
    {
     "name": "stdout",
     "output_type": "stream",
     "text": [
      "Resource, name=spam, state=destroyed\n"
     ]
    }
   ],
   "source": [
    "print(res)"
   ]
  },
  {
   "cell_type": "code",
   "execution_count": 20,
   "id": "3bcfb490-bfc1-4d9b-9ce8-ec0d51eacb6c",
   "metadata": {},
   "outputs": [],
   "source": [
    "class File:\n",
    "    def __init__(self, name, mode = \"r\"):\n",
    "        self.name = name\n",
    "        self.mode = mode\n",
    "        self.f = None\n",
    "\n",
    "    def __enter__(self):\n",
    "        self.f = open(self.name, self.mode)\n",
    "        print(\"Opening the file\", self.f)\n",
    "        return self.f\n",
    "\n",
    "    def __exit__(self, ext_type, exc_value, exc_tb):\n",
    "        print(\"Closing the file\", self.f)\n",
    "        self.f.close()\n",
    "        return False\n"
   ]
  },
  {
   "cell_type": "code",
   "execution_count": 21,
   "id": "fa247300-a30b-45a2-a0ab-ead27d430ff8",
   "metadata": {},
   "outputs": [
    {
     "name": "stdout",
     "output_type": "stream",
     "text": [
      "Opening the file <_io.TextIOWrapper name='test.txt' mode='w' encoding='UTF-8'>\n",
      "Closing the file <_io.TextIOWrapper name='test.txt' mode='w' encoding='UTF-8'>\n"
     ]
    }
   ],
   "source": [
    "with File(\"test.txt\", \"w\") as f:\n",
    "    f.write(\"This is a test\")\n",
    "    "
   ]
  },
  {
   "cell_type": "code",
   "execution_count": 22,
   "id": "5798259e-f538-4b51-9617-6c2a4d0df5ed",
   "metadata": {},
   "outputs": [
    {
     "data": {
      "text/plain": [
       "True"
      ]
     },
     "execution_count": 22,
     "metadata": {},
     "output_type": "execute_result"
    }
   ],
   "source": [
    "f.closed"
   ]
  },
  {
   "cell_type": "code",
   "execution_count": 23,
   "id": "39277664-b69c-47cd-b7b1-3868dd43f4dc",
   "metadata": {},
   "outputs": [
    {
     "name": "stdout",
     "output_type": "stream",
     "text": [
      "Opening the file <_io.TextIOWrapper name='test.txt' mode='r' encoding='UTF-8'>\n",
      "This is a test\n",
      "Closing the file <_io.TextIOWrapper name='test.txt' mode='r' encoding='UTF-8'>\n"
     ]
    }
   ],
   "source": [
    "with File(\"test.txt\") as f:\n",
    "    print(next(f))"
   ]
  },
  {
   "cell_type": "code",
   "execution_count": null,
   "id": "b48febc2-a45c-4f88-abf2-4ff79df5b88a",
   "metadata": {},
   "outputs": [],
   "source": []
  }
 ],
 "metadata": {
  "kernelspec": {
   "display_name": "Python 3 (ipykernel)",
   "language": "python",
   "name": "python3"
  },
  "language_info": {
   "codemirror_mode": {
    "name": "ipython",
    "version": 3
   },
   "file_extension": ".py",
   "mimetype": "text/x-python",
   "name": "python",
   "nbconvert_exporter": "python",
   "pygments_lexer": "ipython3",
   "version": "3.12.3"
  }
 },
 "nbformat": 4,
 "nbformat_minor": 5
}
