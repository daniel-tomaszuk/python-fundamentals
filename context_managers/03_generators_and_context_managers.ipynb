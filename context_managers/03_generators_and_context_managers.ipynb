{
 "cells": [
  {
   "cell_type": "markdown",
   "id": "d27de66b-c734-4e5b-978b-e11087d6dadf",
   "metadata": {},
   "source": [
    "#### Context manager with generator function"
   ]
  },
  {
   "cell_type": "code",
   "execution_count": 1,
   "id": "d79b29d3-c68e-4c82-857c-895bceec79dd",
   "metadata": {},
   "outputs": [],
   "source": [
    "def my_gen():\n",
    "    try:\n",
    "        print(\"Creating context and  yielding object\")\n",
    "        # exception can get into the generator (will be discussed later)\n",
    "        yield [1,2,3,4,5,6]\n",
    "    finally:\n",
    "        print(\"Exiting context and cleaning up\")\n"
   ]
  },
  {
   "cell_type": "code",
   "execution_count": 2,
   "id": "ebb8c56a-034b-460e-beaa-94e08d1c81fd",
   "metadata": {},
   "outputs": [
    {
     "name": "stdout",
     "output_type": "stream",
     "text": [
      "Creating context and  yielding object\n"
     ]
    }
   ],
   "source": [
    "gen = my_gen()\n",
    "list_ = next(gen)"
   ]
  },
  {
   "cell_type": "code",
   "execution_count": 3,
   "id": "fe654cdf-939d-43e6-9d77-fa2958801ee0",
   "metadata": {},
   "outputs": [
    {
     "data": {
      "text/plain": [
       "[1, 2, 3, 4, 5, 6]"
      ]
     },
     "execution_count": 3,
     "metadata": {},
     "output_type": "execute_result"
    }
   ],
   "source": [
    "list_"
   ]
  },
  {
   "cell_type": "code",
   "execution_count": 4,
   "id": "753d6922-c507-4967-af66-5a2b9f8e7092",
   "metadata": {},
   "outputs": [
    {
     "name": "stdout",
     "output_type": "stream",
     "text": [
      "Exiting context and cleaning up\n",
      "\n"
     ]
    }
   ],
   "source": [
    "try:\n",
    "    next(gen)\n",
    "except StopIteration as e:\n",
    "    print(e)"
   ]
  },
  {
   "cell_type": "code",
   "execution_count": 5,
   "id": "4481675b-735c-4e4b-b651-d213960b6357",
   "metadata": {},
   "outputs": [
    {
     "name": "stdout",
     "output_type": "stream",
     "text": [
      "Creating context and  yielding object\n",
      "[1, 2, 3, 4, 5, 6]\n",
      "Exiting context and cleaning up\n"
     ]
    }
   ],
   "source": [
    "gen = my_gen()\n",
    "# enter the context\n",
    "list_ = next(gen)\n",
    "print(list_)\n",
    "# exit the context\n",
    "try:\n",
    "    next(gen)\n",
    "except StopIteration:\n",
    "    pass\n"
   ]
  },
  {
   "cell_type": "code",
   "execution_count": 6,
   "id": "f235843a-3cda-4740-a093-33c3c8b76080",
   "metadata": {},
   "outputs": [],
   "source": [
    "class GenCtxManager:\n",
    "    def __init__(self, gen_func):\n",
    "        self._gen = gen_func()  # generator with try - finally is expected\n",
    "\n",
    "    def __enter__(self):\n",
    "        return next(self._gen)\n",
    "\n",
    "    def __exit__(self, exc_type, exc_value, exc_tb):\n",
    "        try:\n",
    "            next(self._gen)\n",
    "        except StopIteration:\n",
    "            pass\n",
    "        return False\n"
   ]
  },
  {
   "cell_type": "code",
   "execution_count": 7,
   "id": "4c252a54-1e00-46a7-b766-37b81fa13e74",
   "metadata": {},
   "outputs": [],
   "source": [
    "def my_gen():\n",
    "    try:\n",
    "        print(\"Creating context and  yielding object\")\n",
    "        # exception can get into the generator (will be discussed later)\n",
    "        yield [1,2,3,4,5,6]\n",
    "    finally:\n",
    "        print(\"Exiting context and cleaning up\")\n"
   ]
  },
  {
   "cell_type": "code",
   "execution_count": 8,
   "id": "b39f362b-7e63-4557-9b5d-a6e7286ce811",
   "metadata": {},
   "outputs": [
    {
     "name": "stdout",
     "output_type": "stream",
     "text": [
      "Creating context and  yielding object\n",
      "[1, 2, 3, 4, 5, 6]\n",
      "Exiting context and cleaning up\n"
     ]
    }
   ],
   "source": [
    "with GenCtxManager(my_gen) as obj:\n",
    "    print(obj)"
   ]
  },
  {
   "cell_type": "code",
   "execution_count": 9,
   "id": "5ca36c41-b60d-4526-a87b-475e2303c54f",
   "metadata": {},
   "outputs": [],
   "source": [
    "class GenCtxManager:\n",
    "    def __init__(self, gen_func, *args, **kwargs):\n",
    "        self._gen = gen_func(*args, **kwargs)  # generator with try - finally is expected\n",
    "\n",
    "    def __enter__(self):\n",
    "        return next(self._gen)\n",
    "\n",
    "    def __exit__(self, exc_type, exc_value, exc_tb):\n",
    "        try:\n",
    "            next(self._gen)\n",
    "        except StopIteration:\n",
    "            pass\n",
    "        return False"
   ]
  },
  {
   "cell_type": "code",
   "execution_count": 10,
   "id": "0a2b5599-7525-4128-bdf5-e4f5807f6981",
   "metadata": {},
   "outputs": [],
   "source": [
    "def open_file(fname, mode = \"r\"):\n",
    "    f = open(fname, mode)\n",
    "    try:\n",
    "        print(\"Yielding the file\")\n",
    "        yield f\n",
    "    finally:\n",
    "        print(\"Closing the file\")\n",
    "        f.close()"
   ]
  },
  {
   "cell_type": "code",
   "execution_count": 11,
   "id": "73fde50b-dd82-41d0-9afc-761c2b4708ff",
   "metadata": {},
   "outputs": [
    {
     "name": "stdout",
     "output_type": "stream",
     "text": [
      "Yielding the file\n",
      "Closing the file\n"
     ]
    }
   ],
   "source": [
    "with GenCtxManager(open_file, \"test.txt\", \"w\") as f:\n",
    "    f.write(\"Writing from context manager :)\")\n",
    "    "
   ]
  },
  {
   "cell_type": "code",
   "execution_count": 12,
   "id": "d2af504a-8d00-4b21-a16c-8693dbb55416",
   "metadata": {},
   "outputs": [
    {
     "name": "stdout",
     "output_type": "stream",
     "text": [
      "Yielding the file\n",
      "['Writing from context manager :)']\n",
      "Closing the file\n"
     ]
    }
   ],
   "source": [
    "with GenCtxManager(open_file, \"test.txt\") as f:\n",
    "    print(f.readlines())"
   ]
  },
  {
   "cell_type": "markdown",
   "id": "b3c83f9c-4b06-40f1-a26b-f7aee46eaa8e",
   "metadata": {},
   "source": [
    "#### Contextmanager decorator\n",
    "Generator has to follow try / finally format!"
   ]
  },
  {
   "cell_type": "code",
   "execution_count": 13,
   "id": "f0de921a-db2a-43aa-b06a-2ca99bb66e37",
   "metadata": {},
   "outputs": [],
   "source": [
    "def open_file(fname, mode=\"r\"):\n",
    "    print(\"Opening the file\")\n",
    "    f = open(fname, mode)\n",
    "    try:\n",
    "        yield f\n",
    "    finally:\n",
    "        print(\"Closing the file\")\n",
    "        f.close()"
   ]
  },
  {
   "cell_type": "code",
   "execution_count": 14,
   "id": "87a8b26a-241b-4fb1-bbf2-41eb4941c811",
   "metadata": {},
   "outputs": [],
   "source": [
    "class GenContextManager:\n",
    "    def __init__(self, gen_instance):\n",
    "        self.gen = gen_instance\n",
    "\n",
    "    def __enter__(self):\n",
    "        print(\"__enter__\")\n",
    "        return next(self.gen)\n",
    "\n",
    "    def __exit__(self, exc_type, exc_value, exc_tb):\n",
    "        print(\"__exit__\")\n",
    "        try:\n",
    "            next(self.gen)\n",
    "        except StopIteration:\n",
    "            pass\n",
    "        return False\n"
   ]
  },
  {
   "cell_type": "code",
   "execution_count": 15,
   "id": "307e2cc0-2db1-4d3c-af9d-72ec1983f194",
   "metadata": {},
   "outputs": [
    {
     "name": "stdout",
     "output_type": "stream",
     "text": [
      "__enter__\n",
      "Opening the file\n",
      "__exit__\n",
      "Closing the file\n"
     ]
    }
   ],
   "source": [
    "file_gen = open_file(\"test.txt\", \"w\")\n",
    "with GenContextManager(file_gen) as f:\n",
    "    f.write(\"Writing lines from context manager!\")\n"
   ]
  },
  {
   "cell_type": "code",
   "execution_count": 16,
   "id": "8587d0da-a71a-47df-9429-d19d1b8cdbdf",
   "metadata": {},
   "outputs": [
    {
     "name": "stdout",
     "output_type": "stream",
     "text": [
      "__enter__\n",
      "Opening the file\n",
      "['Writing lines from context manager!']\n",
      "__exit__\n",
      "Closing the file\n"
     ]
    }
   ],
   "source": [
    "file_gen = open_file(\"test.txt\")\n",
    "with GenContextManager(file_gen) as f:\n",
    "    print(f.readlines())"
   ]
  },
  {
   "cell_type": "code",
   "execution_count": 17,
   "id": "9981b67a-96de-4e61-a6af-88fdfb04586f",
   "metadata": {},
   "outputs": [],
   "source": [
    "# now let's try to create context manager as decorator\n",
    "\n",
    "from functools import wraps\n",
    "\n",
    "\n",
    "def context_manager_dec(gen_fn):\n",
    "    @wraps(gen_fn)\n",
    "    def wrapper(*args, **kwargs):\n",
    "        gen_instance = gen_fn(*args, **kwargs)  # instance of the gen function\n",
    "        ctx = GenContextManager(gen_instance)\n",
    "        return ctx\n",
    "    return wrapper\n"
   ]
  },
  {
   "cell_type": "code",
   "execution_count": 18,
   "id": "a27230c7-eb45-4ae0-8423-b059d1f52728",
   "metadata": {},
   "outputs": [],
   "source": [
    "# open_file = context_manager_dec(open_file)\n",
    "\n",
    "@context_manager_dec\n",
    "def open_file(fname, mode=\"r\"):\n",
    "    print(\"Opening the file\")\n",
    "    f = open(fname, mode)\n",
    "    try:\n",
    "        yield f\n",
    "    finally:\n",
    "        print(\"Closing the file\")\n",
    "        f.close()"
   ]
  },
  {
   "cell_type": "code",
   "execution_count": 19,
   "id": "276568bc-39be-4ca5-8893-e85cfea32555",
   "metadata": {},
   "outputs": [
    {
     "name": "stdout",
     "output_type": "stream",
     "text": [
      "__enter__\n",
      "Opening the file\n",
      "['Writing lines from context manager!']\n",
      "__exit__\n",
      "Closing the file\n"
     ]
    }
   ],
   "source": [
    "with open_file(\"test.txt\") as f:\n",
    "    print(f.readlines())"
   ]
  },
  {
   "cell_type": "code",
   "execution_count": 20,
   "id": "4e1f8d97-ae0e-4772-9607-72e4ea24bf46",
   "metadata": {},
   "outputs": [],
   "source": [
    "from contextlib import contextmanager\n",
    "\n",
    "@contextmanager\n",
    "def open_file(fname, mode=\"r\"):\n",
    "    print(\"Opening the file\")\n",
    "    f = open(fname, mode)\n",
    "    try:\n",
    "        yield f\n",
    "    finally:\n",
    "        print(\"Closing the file\")\n",
    "        f.close()"
   ]
  },
  {
   "cell_type": "code",
   "execution_count": 21,
   "id": "3c5ab20c-da28-4723-b1eb-bb5f659d0c73",
   "metadata": {},
   "outputs": [
    {
     "name": "stdout",
     "output_type": "stream",
     "text": [
      "Opening the file\n",
      "['Writing lines from context manager!']\n",
      "Closing the file\n"
     ]
    }
   ],
   "source": [
    "with open_file(\"test.txt\") as f:\n",
    "    print(f.readlines())"
   ]
  },
  {
   "cell_type": "code",
   "execution_count": 22,
   "id": "064630a2-6a56-4ea7-a72e-6b026c5b2bf2",
   "metadata": {},
   "outputs": [],
   "source": [
    "from time import perf_counter, sleep\n",
    "\n",
    "\n",
    "@contextmanager\n",
    "def timer():\n",
    "    stats = {\"start\": perf_counter()}\n",
    "    try:\n",
    "        yield stats\n",
    "    finally:\n",
    "        stats[\"end\"] = perf_counter()\n",
    "        stats[\"elapsed\"] = stats[\"end\"] - stats[\"start\"]\n",
    "        "
   ]
  },
  {
   "cell_type": "code",
   "execution_count": 23,
   "id": "ef9169a4-5a54-4474-83e3-ddceacfa5537",
   "metadata": {},
   "outputs": [],
   "source": [
    "with timer() as stats:\n",
    "    sleep(2)"
   ]
  },
  {
   "cell_type": "code",
   "execution_count": 24,
   "id": "e08b247b-6755-4c3f-b5bb-3e3f43487152",
   "metadata": {},
   "outputs": [
    {
     "data": {
      "text/plain": [
       "{'start': 79258.28944308, 'end': 79260.293438951, 'elapsed': 2.003995871011284}"
      ]
     },
     "execution_count": 24,
     "metadata": {},
     "output_type": "execute_result"
    }
   ],
   "source": [
    "stats"
   ]
  },
  {
   "cell_type": "code",
   "execution_count": 25,
   "id": "81b5d8f6-4f39-4fa6-aa61-fb300f8f1f31",
   "metadata": {},
   "outputs": [],
   "source": [
    "import sys\n",
    "\n",
    "\n",
    "@contextmanager\n",
    "def out_to_file(fname: str):\n",
    "    current_stdout = sys.stdout\n",
    "    file = open(fname, \"w\")\n",
    "    sys.stdout = file\n",
    "    try:\n",
    "        yield None\n",
    "    finally:\n",
    "        sys.stdout = current_stdout\n",
    "        file.close()\n",
    "    "
   ]
  },
  {
   "cell_type": "code",
   "execution_count": 26,
   "id": "b78324eb-da94-4ef5-9193-d593f78fa2a0",
   "metadata": {},
   "outputs": [],
   "source": [
    "with out_to_file(\"std-to-file.txt\"):\n",
    "    print(\"stdout 1\")\n",
    "    print(\"stdout 2\")"
   ]
  },
  {
   "cell_type": "code",
   "execution_count": 27,
   "id": "33ba4d96-0817-4bc2-b106-3ad32ed5436f",
   "metadata": {},
   "outputs": [
    {
     "name": "stdout",
     "output_type": "stream",
     "text": [
      "Opening the file\n",
      "['stdout 1\\n', 'stdout 2\\n']\n",
      "Closing the file\n"
     ]
    }
   ],
   "source": [
    "with open_file(\"std-to-file.txt\") as f:\n",
    "    print(f.readlines())"
   ]
  },
  {
   "cell_type": "code",
   "execution_count": 28,
   "id": "f6c4baa7-0535-47c5-8af8-f0ed08f190ad",
   "metadata": {},
   "outputs": [
    {
     "name": "stdout",
     "output_type": "stream",
     "text": [
      "Help on class redirect_stdout in module contextlib:\n",
      "\n",
      "class redirect_stdout(_RedirectStream)\n",
      " |  redirect_stdout(new_target)\n",
      " |\n",
      " |  Context manager for temporarily redirecting stdout to another file.\n",
      " |\n",
      " |  # How to send help() to stderr\n",
      " |  with redirect_stdout(sys.stderr):\n",
      " |      help(dir)\n",
      " |\n",
      " |  # How to write help() to a file\n",
      " |  with open('help.txt', 'w') as f:\n",
      " |      with redirect_stdout(f):\n",
      " |          help(pow)\n",
      " |\n",
      " |  Method resolution order:\n",
      " |      redirect_stdout\n",
      " |      _RedirectStream\n",
      " |      AbstractContextManager\n",
      " |      abc.ABC\n",
      " |      builtins.object\n",
      " |\n",
      " |  Data and other attributes defined here:\n",
      " |\n",
      " |  __abstractmethods__ = frozenset()\n",
      " |\n",
      " |  ----------------------------------------------------------------------\n",
      " |  Methods inherited from _RedirectStream:\n",
      " |\n",
      " |  __enter__(self)\n",
      " |      Return `self` upon entering the runtime context.\n",
      " |\n",
      " |  __exit__(self, exctype, excinst, exctb)\n",
      " |      Raise any exception triggered within the runtime context.\n",
      " |\n",
      " |  __init__(self, new_target)\n",
      " |      Initialize self.  See help(type(self)) for accurate signature.\n",
      " |\n",
      " |  ----------------------------------------------------------------------\n",
      " |  Class methods inherited from AbstractContextManager:\n",
      " |\n",
      " |  __class_getitem__ = GenericAlias(...)\n",
      " |      Represent a PEP 585 generic type\n",
      " |\n",
      " |      E.g. for t = list[int], t.__origin__ is list and t.__args__ is (int,).\n",
      " |\n",
      " |  __subclasshook__(C)\n",
      " |      Abstract classes can override this to customize issubclass().\n",
      " |\n",
      " |      This is invoked early on by abc.ABCMeta.__subclasscheck__().\n",
      " |      It should return True, False or NotImplemented.  If it returns\n",
      " |      NotImplemented, the normal algorithm is used.  Otherwise, it\n",
      " |      overrides the normal algorithm (and the outcome is cached).\n",
      " |\n",
      " |  ----------------------------------------------------------------------\n",
      " |  Data descriptors inherited from AbstractContextManager:\n",
      " |\n",
      " |  __dict__\n",
      " |      dictionary for instance variables\n",
      " |\n",
      " |  __weakref__\n",
      " |      list of weak references to the object\n",
      "\n"
     ]
    }
   ],
   "source": [
    "from contextlib import redirect_stdout\n",
    "\n",
    "help(redirect_stdout)"
   ]
  },
  {
   "cell_type": "code",
   "execution_count": 29,
   "id": "343f2bf6-1a25-43bd-afb9-9e8d23be95d2",
   "metadata": {},
   "outputs": [],
   "source": [
    "with open(\"std-to-file.txt\", \"w\") as f:\n",
    "    with redirect_stdout(f):\n",
    "        print(\"I'm redirected to a file!\")\n"
   ]
  },
  {
   "cell_type": "code",
   "execution_count": 30,
   "id": "c9cde4f4-da9e-4049-878a-61d03cc11011",
   "metadata": {},
   "outputs": [
    {
     "name": "stdout",
     "output_type": "stream",
     "text": [
      "[\"I'm redirected to a file!\\n\"]\n"
     ]
    }
   ],
   "source": [
    "with open(\"std-to-file.txt\") as f:\n",
    "    print(f.readlines())"
   ]
  },
  {
   "cell_type": "code",
   "execution_count": null,
   "id": "b3a08479-00a9-40f9-a816-7492562714cc",
   "metadata": {},
   "outputs": [],
   "source": []
  }
 ],
 "metadata": {
  "kernelspec": {
   "display_name": "Python 3 (ipykernel)",
   "language": "python",
   "name": "python3"
  },
  "language_info": {
   "codemirror_mode": {
    "name": "ipython",
    "version": 3
   },
   "file_extension": ".py",
   "mimetype": "text/x-python",
   "name": "python",
   "nbconvert_exporter": "python",
   "pygments_lexer": "ipython3",
   "version": "3.12.3"
  }
 },
 "nbformat": 4,
 "nbformat_minor": 5
}
