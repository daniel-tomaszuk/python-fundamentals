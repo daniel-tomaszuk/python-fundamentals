{
 "cells": [
  {
   "cell_type": "markdown",
   "id": "0db5a94e-3998-4517-9edc-849b6fce32ed",
   "metadata": {},
   "source": [
    "### Implementing custom sequences\n",
    "- we need to be able to get the length of a sequence\n",
    "- we need to be able to get element by index of it\n",
    "Thanks to this we should be able to iteratate through elements and get element by index using []\n",
    "\n",
    "`__len__`\n",
    "`__getitem__`"
   ]
  },
  {
   "cell_type": "code",
   "execution_count": 1,
   "id": "2aa7f05a-c21e-4b97-acbb-afbfcf11c8dd",
   "metadata": {},
   "outputs": [
    {
     "data": {
      "text/plain": [
       "(3, 6)"
      ]
     },
     "execution_count": 1,
     "metadata": {},
     "output_type": "execute_result"
    }
   ],
   "source": [
    "my_list = [1,2,3,4,5,6]\n",
    "my_list.__getitem__(2), my_list.__len__()"
   ]
  },
  {
   "cell_type": "code",
   "execution_count": 2,
   "id": "4f159666-fb89-48ab-a871-afbe1f935cf9",
   "metadata": {},
   "outputs": [
    {
     "data": {
      "text/plain": [
       "[6, 5, 4, 3, 2, 1]"
      ]
     },
     "execution_count": 2,
     "metadata": {},
     "output_type": "execute_result"
    }
   ],
   "source": [
    "my_list.__getitem__(slice(None, None, -1))"
   ]
  },
  {
   "cell_type": "code",
   "execution_count": 3,
   "id": "16bb0b78-5451-4f7f-b696-350eb62692a0",
   "metadata": {},
   "outputs": [
    {
     "name": "stdout",
     "output_type": "stream",
     "text": [
      "1\n",
      "2\n",
      "3\n",
      "4\n",
      "5\n",
      "6\n"
     ]
    }
   ],
   "source": [
    "index_ = 0\n",
    "while True:\n",
    "    try:\n",
    "        print(my_list.__getitem__(index_))\n",
    "    except IndexError:\n",
    "        break\n",
    "    index_ += 1\n",
    "\n"
   ]
  },
  {
   "cell_type": "code",
   "execution_count": 4,
   "id": "50ecad1c-0a4e-4c99-96fb-fbdb2f2dc209",
   "metadata": {},
   "outputs": [],
   "source": [
    "class Silly:\n",
    "    def __init__(self, n):\n",
    "        self.n = n\n",
    "\n",
    "    def __len__(self):\n",
    "        print(\"Called __len__\")\n",
    "        return \"this is silly\"\n",
    "\n",
    "    def __getitem__(self, value: int):\n",
    "        print(f\"Called __getitem__ with index at {value}\")\n",
    "        return \"This is a silly element\""
   ]
  },
  {
   "cell_type": "code",
   "execution_count": 5,
   "id": "3975cd4f-2a11-4eba-85a2-46e60f0ccbfa",
   "metadata": {},
   "outputs": [],
   "source": [
    "s = Silly(10)"
   ]
  },
  {
   "cell_type": "code",
   "execution_count": 6,
   "id": "91be13e8-5083-43ee-b89d-c119cf7afaa7",
   "metadata": {},
   "outputs": [
    {
     "name": "stdout",
     "output_type": "stream",
     "text": [
      "Called __len__\n",
      "'str' object cannot be interpreted as an integer\n"
     ]
    }
   ],
   "source": [
    "try:\n",
    "    len(s)\n",
    "except TypeError as e:\n",
    "    print(e)\n",
    "    "
   ]
  },
  {
   "cell_type": "code",
   "execution_count": 7,
   "id": "1bbbddbe-47d8-44e6-a501-6e4a939cec9b",
   "metadata": {},
   "outputs": [],
   "source": [
    "class Silly:\n",
    "    def __init__(self, n):\n",
    "        self.n = n\n",
    "\n",
    "    def __len__(self):\n",
    "        print(\"Called __len__\")\n",
    "        return self.n\n",
    "\n",
    "    def __getitem__(self, value: int):\n",
    "        print(f\"print: >> Called __getitem__ with index at {value}\")\n",
    "        if isinstance(value, int) and (value < 0 or value >= self.n):\n",
    "            print(\"print: >> IndexError\")\n",
    "            raise IndexError\n",
    "        return \"This is a silly element\""
   ]
  },
  {
   "cell_type": "code",
   "execution_count": 8,
   "id": "cb6f6354-1c37-468e-a317-2cefdeb8bbdb",
   "metadata": {},
   "outputs": [],
   "source": [
    "s = Silly(5)"
   ]
  },
  {
   "cell_type": "code",
   "execution_count": 9,
   "id": "22cf44de-c537-486c-9184-c75b9d7738e1",
   "metadata": {},
   "outputs": [
    {
     "name": "stdout",
     "output_type": "stream",
     "text": [
      "print: >> Called __getitem__ with index at 4\n"
     ]
    },
    {
     "data": {
      "text/plain": [
       "'This is a silly element'"
      ]
     },
     "execution_count": 9,
     "metadata": {},
     "output_type": "execute_result"
    }
   ],
   "source": [
    "s.__getitem__(4)"
   ]
  },
  {
   "cell_type": "code",
   "execution_count": 10,
   "id": "cd468de8-4481-47c6-b48c-b1078ae38b11",
   "metadata": {},
   "outputs": [
    {
     "name": "stdout",
     "output_type": "stream",
     "text": [
      "print: >> Called __getitem__ with index at 0\n",
      "This is a silly element\n",
      "print: >> Called __getitem__ with index at 1\n",
      "This is a silly element\n",
      "print: >> Called __getitem__ with index at 2\n",
      "This is a silly element\n",
      "print: >> Called __getitem__ with index at 3\n",
      "This is a silly element\n",
      "print: >> Called __getitem__ with index at 4\n",
      "This is a silly element\n",
      "print: >> Called __getitem__ with index at 5\n",
      "print: >> IndexError\n"
     ]
    }
   ],
   "source": [
    "# for loop passes expected index value automatically!\n",
    "for item in s:\n",
    "    print(item)"
   ]
  },
  {
   "cell_type": "code",
   "execution_count": 11,
   "id": "7663c203-5581-46e4-9755-11799d1a3778",
   "metadata": {},
   "outputs": [
    {
     "name": "stdout",
     "output_type": "stream",
     "text": [
      "print: >> Called __getitem__ with index at slice(1, 3, None)\n"
     ]
    },
    {
     "data": {
      "text/plain": [
       "'This is a silly element'"
      ]
     },
     "execution_count": 11,
     "metadata": {},
     "output_type": "execute_result"
    }
   ],
   "source": [
    "s[1:3]  # slice is passed as a value"
   ]
  },
  {
   "cell_type": "code",
   "execution_count": 12,
   "id": "b9d508be-ec6e-4491-80bf-efe40813088e",
   "metadata": {},
   "outputs": [],
   "source": [
    "from functools import lru_cache\n",
    "\n",
    "\n",
    "class Fib:\n",
    "    def __init__(self, n):\n",
    "        self.n = n\n",
    "\n",
    "    def __len__(self):\n",
    "        return self.n\n",
    "\n",
    "    def __getitem__(self, s: int | slice):\n",
    "        if isinstance(s, int):\n",
    "            if s < 0 or s >= self.n:\n",
    "                raise IndexError\n",
    "            \n",
    "            return self._fib(s)\n",
    "\n",
    "    @lru_cache((2 ** 31) - 1)\n",
    "    def _fib(self, n):\n",
    "        if n < 2:\n",
    "            return 1\n",
    "        return self._fib(n - 1) + self._fib(n - 2)\n",
    "            "
   ]
  },
  {
   "cell_type": "code",
   "execution_count": 13,
   "id": "b8c677bb-115f-4cdb-accb-918c86b59d82",
   "metadata": {},
   "outputs": [],
   "source": [
    "f = Fib(8)"
   ]
  },
  {
   "cell_type": "code",
   "execution_count": 14,
   "id": "299776a2-77f9-49f4-9ba5-26bdac1852f5",
   "metadata": {},
   "outputs": [
    {
     "data": {
      "text/plain": [
       "(1, 3)"
      ]
     },
     "execution_count": 14,
     "metadata": {},
     "output_type": "execute_result"
    }
   ],
   "source": [
    "f[0], f[3]"
   ]
  },
  {
   "cell_type": "code",
   "execution_count": 15,
   "id": "4e8b34af-dfa4-4ece-8ff4-046100c5f3a5",
   "metadata": {},
   "outputs": [
    {
     "data": {
      "text/plain": [
       "[1, 1, 2, 3, 5, 8, 13, 21]"
      ]
     },
     "execution_count": 15,
     "metadata": {},
     "output_type": "execute_result"
    }
   ],
   "source": [
    "list(f)"
   ]
  },
  {
   "cell_type": "code",
   "execution_count": 16,
   "id": "47180c0f-5d8a-4316-bb7a-32cd05ac2214",
   "metadata": {},
   "outputs": [
    {
     "name": "stdout",
     "output_type": "stream",
     "text": [
      "1\n",
      "1\n",
      "2\n",
      "3\n",
      "5\n",
      "8\n",
      "13\n",
      "21\n"
     ]
    }
   ],
   "source": [
    "for item in f:\n",
    "    print(item)"
   ]
  },
  {
   "cell_type": "code",
   "execution_count": 17,
   "id": "7570eecd-58a7-477b-96aa-fe5a4dca8664",
   "metadata": {},
   "outputs": [],
   "source": [
    "from functools import lru_cache\n",
    "\n",
    "\n",
    "class Fib:\n",
    "    def __init__(self, n):\n",
    "        self.n = n\n",
    "\n",
    "    def __len__(self):\n",
    "        return self.n\n",
    "\n",
    "    def __getitem__(self, s: int | slice) -> int | list:\n",
    "        if isinstance(s, int):\n",
    "            if s < 0:\n",
    "                # handle negative indexes\n",
    "                s = self.n + s\n",
    "\n",
    "            if s < 0 or s >= self.n:\n",
    "                raise IndexError\n",
    "            \n",
    "            return self._fib(s)\n",
    "\n",
    "        # handle slices (or any object that implements slice interface)\n",
    "        start_inx, end_inx, step_size = s.indices(self.n)\n",
    "        return [self._fib(i) for i in range(start_inx, end_inx, step_size)]\n",
    "\n",
    "    @lru_cache((2 ** 31) - 1)\n",
    "    def _fib(self, n):\n",
    "        if n < 2:\n",
    "            return 1\n",
    "        return self._fib(n - 1) + self._fib(n - 2)"
   ]
  },
  {
   "cell_type": "code",
   "execution_count": 18,
   "id": "cfc7fe53-2172-4ccc-9c88-f8b3d84208a3",
   "metadata": {},
   "outputs": [],
   "source": [
    "f = Fib(10)"
   ]
  },
  {
   "cell_type": "code",
   "execution_count": 19,
   "id": "78a850cb-237c-488e-90b1-6d9c214ec58c",
   "metadata": {},
   "outputs": [
    {
     "name": "stdout",
     "output_type": "stream",
     "text": [
      "55 [1, 1, 2, 3, 5, 8, 13, 21, 34, 55]\n"
     ]
    }
   ],
   "source": [
    "print(f[-1], list(f))"
   ]
  },
  {
   "cell_type": "code",
   "execution_count": 20,
   "id": "822aea64-5e3c-41b2-95cb-0b82ede923dd",
   "metadata": {},
   "outputs": [
    {
     "data": {
      "text/plain": [
       "[2, 3, 5, 8, 13]"
      ]
     },
     "execution_count": 20,
     "metadata": {},
     "output_type": "execute_result"
    }
   ],
   "source": [
    "f[2:7]"
   ]
  },
  {
   "cell_type": "code",
   "execution_count": 21,
   "id": "6b67f6ad-e113-4cce-b102-ba1e3dc8d407",
   "metadata": {},
   "outputs": [
    {
     "data": {
      "text/plain": [
       "[8, 13, 21, 34, 55]"
      ]
     },
     "execution_count": 21,
     "metadata": {},
     "output_type": "execute_result"
    }
   ],
   "source": [
    "f[5:100]"
   ]
  },
  {
   "cell_type": "code",
   "execution_count": 22,
   "id": "ddce3d85-1780-4987-8bf6-4ef6568380c1",
   "metadata": {},
   "outputs": [
    {
     "data": {
      "text/plain": [
       "[55, 34, 21, 13, 8, 5, 3, 2, 1, 1]"
      ]
     },
     "execution_count": 22,
     "metadata": {},
     "output_type": "execute_result"
    }
   ],
   "source": [
    "f[::-1]"
   ]
  },
  {
   "cell_type": "markdown",
   "id": "bbbde9b8-94fa-4508-8fa4-761e10533a6d",
   "metadata": {},
   "source": [
    "### Assignments in Mutable Sequences\n",
    "This will only work for mutable sequence types!"
   ]
  },
  {
   "cell_type": "code",
   "execution_count": 23,
   "id": "28957700-8148-4b86-a5f8-cf3e938ac2c5",
   "metadata": {},
   "outputs": [
    {
     "data": {
      "text/plain": [
       "(4473316416, [1, 2, 3])"
      ]
     },
     "execution_count": 23,
     "metadata": {},
     "output_type": "execute_result"
    }
   ],
   "source": [
    "l = [1,2,3,4,5]\n",
    "id(l), l[0:3]\n"
   ]
  },
  {
   "cell_type": "code",
   "execution_count": 24,
   "id": "5b0a2122-83d8-49d3-93b2-ca79aa935948",
   "metadata": {},
   "outputs": [
    {
     "data": {
      "text/plain": [
       "(4473316416, [6, 7, 8, 9, 4, 5])"
      ]
     },
     "execution_count": 24,
     "metadata": {},
     "output_type": "execute_result"
    }
   ],
   "source": [
    "l[0:3] = (6,7,8,9)\n",
    "id(l), l"
   ]
  },
  {
   "cell_type": "code",
   "execution_count": 25,
   "id": "87464b72-549d-44dc-a7bb-7c1286d32458",
   "metadata": {},
   "outputs": [
    {
     "data": {
      "text/plain": [
       "4472825216"
      ]
     },
     "execution_count": 25,
     "metadata": {},
     "output_type": "execute_result"
    }
   ],
   "source": [
    "l =  [1,2,3,4,5,6]\n",
    "id(l)"
   ]
  },
  {
   "cell_type": "code",
   "execution_count": 26,
   "id": "010cc00b-b3db-497f-8d2b-acd5b9b54f07",
   "metadata": {},
   "outputs": [
    {
     "data": {
      "text/plain": [
       "(4472825216, [1, 2, 6])"
      ]
     },
     "execution_count": 26,
     "metadata": {},
     "output_type": "execute_result"
    }
   ],
   "source": [
    "l[2:5] = \"\"  # empty iterable will remove elements from the list\n",
    "id(l), l"
   ]
  },
  {
   "cell_type": "code",
   "execution_count": 27,
   "id": "4b9a31d4-f782-43c2-82dc-b172ec13a5c0",
   "metadata": {},
   "outputs": [
    {
     "data": {
      "text/plain": [
       "(4472825216, ['p', 'y', 't', 'h', 'o', 'n', 1, 2, 6])"
      ]
     },
     "execution_count": 27,
     "metadata": {},
     "output_type": "execute_result"
    }
   ],
   "source": [
    "l[0:0] = \"python\"  # neat trick to insert elements into the list\n",
    "id(l), l"
   ]
  },
  {
   "cell_type": "code",
   "execution_count": 28,
   "id": "453c68d9-7f1c-44b3-8932-44bfb0c2a31c",
   "metadata": {},
   "outputs": [
    {
     "data": {
      "text/plain": [
       "(4472825216, ['p', 'y', 'a', 100, 200, 't', 'h', 'o', 'n', 1, 2, 6])"
      ]
     },
     "execution_count": 28,
     "metadata": {},
     "output_type": "execute_result"
    }
   ],
   "source": [
    "l[2:2] = (\"a\", 100, 200)\n",
    "id(l), l"
   ]
  },
  {
   "cell_type": "code",
   "execution_count": 29,
   "id": "30114c3e-bb45-4caf-8f6d-8efd0167d008",
   "metadata": {},
   "outputs": [
    {
     "data": {
      "text/plain": [
       "(4473210048, [1, 2, 3, 4, 5, 6, 7])"
      ]
     },
     "execution_count": 29,
     "metadata": {},
     "output_type": "execute_result"
    }
   ],
   "source": [
    "l = [1,2,3,4,5,6,7]\n",
    "id(l), l"
   ]
  },
  {
   "cell_type": "code",
   "execution_count": 30,
   "id": "fd190b20-ef5f-4414-b9a5-ef1ea602f688",
   "metadata": {},
   "outputs": [
    {
     "data": {
      "text/plain": [
       "(4473210048, ['x', 100, 'a', 4, 5, 6, 7])"
      ]
     },
     "execution_count": 30,
     "metadata": {},
     "output_type": "execute_result"
    }
   ],
   "source": [
    "l[0:3] = {100, \"x\", \"a\"}\n",
    "id(l), l"
   ]
  },
  {
   "cell_type": "markdown",
   "id": "1095515d-b4b5-4934-9327-b7d75eae6b1f",
   "metadata": {},
   "source": [
    "### Extended slices - length of the slice and length of replaced slice must be the same"
   ]
  },
  {
   "cell_type": "code",
   "execution_count": 31,
   "id": "918c5c28-0e08-4acd-8890-09ae82aa5fdb",
   "metadata": {},
   "outputs": [
    {
     "data": {
      "text/plain": [
       "(4473396736, [1, 2, 3, 4, 5, 6, 7])"
      ]
     },
     "execution_count": 31,
     "metadata": {},
     "output_type": "execute_result"
    }
   ],
   "source": [
    "l = [1,2,3,4,5,6,7]\n",
    "id(l), l"
   ]
  },
  {
   "cell_type": "code",
   "execution_count": 32,
   "id": "e5339e5b-e80d-43ff-9c20-5951d815e682",
   "metadata": {},
   "outputs": [
    {
     "data": {
      "text/plain": [
       "[1, 3, 5]"
      ]
     },
     "execution_count": 32,
     "metadata": {},
     "output_type": "execute_result"
    }
   ],
   "source": [
    "l[0:5:2]"
   ]
  },
  {
   "cell_type": "code",
   "execution_count": 33,
   "id": "2df56fce-08c8-467a-a0d2-1d2246176ce4",
   "metadata": {},
   "outputs": [
    {
     "data": {
      "text/plain": [
       "(4473396736, ['a', 2, 'b', 4, 'c', 6, 7])"
      ]
     },
     "execution_count": 33,
     "metadata": {},
     "output_type": "execute_result"
    }
   ],
   "source": [
    "l[0:5:2] = \"abc\"\n",
    "id(l), l"
   ]
  },
  {
   "cell_type": "code",
   "execution_count": 34,
   "id": "43a645de-d2e0-4121-99ad-9abedfc58021",
   "metadata": {},
   "outputs": [
    {
     "name": "stdout",
     "output_type": "stream",
     "text": [
      "attempt to assign sequence of size 6 to extended slice of size 3\n"
     ]
    }
   ],
   "source": [
    "try:\n",
    "    l[0:5:2] = \"python\"\n",
    "except ValueError as e:\n",
    "    print(e)"
   ]
  },
  {
   "cell_type": "markdown",
   "id": "67814617-54d5-41f0-93b2-7684edc68314",
   "metadata": {},
   "source": [
    "### Implementing Custom Sequences, Part 2"
   ]
  },
  {
   "cell_type": "code",
   "execution_count": 35,
   "id": "837f4e56-bd4c-4657-bd84-3a0f93bd9a33",
   "metadata": {},
   "outputs": [],
   "source": [
    "class MyClass:\n",
    "\n",
    "    def __init__(self, name):\n",
    "        self.name = name\n",
    "\n",
    "    def __repr__(self):\n",
    "        return f\"<{type(self).__name__}, name={self.name}>\"\n",
    "\n",
    "    def __add__(self, other):\n",
    "        print(f\"__add__ called with {other}\")\n",
    "        return \"hello from __add__\"\n",
    "\n",
    "    def __iadd__(self, other):\n",
    "        print(f\"__iadd__ called with {other}\")\n",
    "        return \"hello from __iadd__\"\n",
    "\n",
    "\n",
    "c1 = MyClass(\"c1\")\n",
    "c2 = MyClass(\"c2\")"
   ]
  },
  {
   "cell_type": "code",
   "execution_count": 36,
   "id": "7bf68d4e-a860-4e4d-8374-d6a0540f8724",
   "metadata": {},
   "outputs": [
    {
     "name": "stdout",
     "output_type": "stream",
     "text": [
      "__add__ called with <MyClass, name=c2>\n"
     ]
    },
    {
     "data": {
      "text/plain": [
       "'hello from __add__'"
      ]
     },
     "execution_count": 36,
     "metadata": {},
     "output_type": "execute_result"
    }
   ],
   "source": [
    "c1 + c2"
   ]
  },
  {
   "cell_type": "code",
   "execution_count": 37,
   "id": "98140ade-567c-4a8e-b54e-f8de5de58bfb",
   "metadata": {},
   "outputs": [
    {
     "name": "stdout",
     "output_type": "stream",
     "text": [
      "__iadd__ called with <MyClass, name=c2>\n"
     ]
    }
   ],
   "source": [
    "c1 += c2"
   ]
  },
  {
   "cell_type": "code",
   "execution_count": 38,
   "id": "9d99ec19-6470-4e0c-b33b-d31bda1c2b96",
   "metadata": {},
   "outputs": [
    {
     "data": {
      "text/plain": [
       "('hello from __iadd__', <MyClass, name=c2>)"
      ]
     },
     "execution_count": 38,
     "metadata": {},
     "output_type": "execute_result"
    }
   ],
   "source": [
    "c1, c2"
   ]
  },
  {
   "cell_type": "code",
   "execution_count": 39,
   "id": "70275416-3ff2-4284-acf5-063017659475",
   "metadata": {},
   "outputs": [],
   "source": [
    "class MyClass:\n",
    "    def __init__(self, name):\n",
    "        self.name = name\n",
    "\n",
    "    def __repr__(self):\n",
    "        return f\"<{type(self).__name__}, name={self.name}>\"\n",
    "\n",
    "    def __add__(self, other: MyClass) -> MyClass:\n",
    "        return MyClass(self.name + str(other.name))\n",
    "\n",
    "    def __iadd__(self, other: MyClass) -> MyClass:\n",
    "        self.name += str(other.name)\n",
    "        return self"
   ]
  },
  {
   "cell_type": "code",
   "execution_count": 40,
   "id": "b1f7f4c1-4c8f-4e4f-b1ff-0c7326d677bc",
   "metadata": {},
   "outputs": [],
   "source": [
    "c1 = MyClass(\"c1\")\n",
    "c2 = MyClass(\"c2\")"
   ]
  },
  {
   "cell_type": "code",
   "execution_count": 41,
   "id": "cd7d9982-e87e-4de6-8a67-b6340261caeb",
   "metadata": {},
   "outputs": [
    {
     "name": "stdout",
     "output_type": "stream",
     "text": [
      "4473491040 <MyClass, name=c1c2>\n"
     ]
    }
   ],
   "source": [
    "c3 = c1 + c2\n",
    "print(id(c3), c3)"
   ]
  },
  {
   "cell_type": "code",
   "execution_count": 42,
   "id": "410e00de-3511-411a-8688-723c1fd64aa5",
   "metadata": {},
   "outputs": [
    {
     "name": "stdout",
     "output_type": "stream",
     "text": [
      "4473488496\n",
      "4473488496 <MyClass, name=c1c2>\n"
     ]
    }
   ],
   "source": [
    "print(id(c1))\n",
    "c1 += c2\n",
    "print(id(c1), c1)"
   ]
  },
  {
   "cell_type": "code",
   "execution_count": 43,
   "id": "59351a7c-6fc6-41d7-9050-98242c6c1e5b",
   "metadata": {},
   "outputs": [],
   "source": [
    "class MyClass:\n",
    "    def __init__(self, name):\n",
    "        self.name = name\n",
    "\n",
    "    def __repr__(self):\n",
    "        return f\"<{type(self).__name__}, name={self.name}>\"\n",
    "\n",
    "    def __add__(self, other: MyClass) -> MyClass:\n",
    "        return MyClass(self.name + str(other.name))\n",
    "\n",
    "    def __iadd__(self, other: MyClass) -> MyClass:\n",
    "        self.name += str(other.name)\n",
    "        return self\n",
    "\n",
    "    def __mul__(self, other: int) -> MyClass:\n",
    "        return MyClass(self.name * other)\n",
    "\n",
    "    def __imul(self, other: int) -> MyClass:\n",
    "        self.name *= other\n",
    "        return self"
   ]
  },
  {
   "cell_type": "code",
   "execution_count": 44,
   "id": "49ec5872-1daf-4ad6-be00-f8dd61eb3c54",
   "metadata": {},
   "outputs": [],
   "source": [
    "c1 = MyClass(\"python\")"
   ]
  },
  {
   "cell_type": "code",
   "execution_count": 45,
   "id": "80c77b43-9f2f-4002-9bad-281711640ad1",
   "metadata": {},
   "outputs": [
    {
     "data": {
      "text/plain": [
       "<MyClass, name=pythonpythonpythonpythonpython>"
      ]
     },
     "execution_count": 45,
     "metadata": {},
     "output_type": "execute_result"
    }
   ],
   "source": [
    "c1 *  5"
   ]
  },
  {
   "cell_type": "code",
   "execution_count": 46,
   "id": "5d8670de-94c3-4a46-a986-033450e4956b",
   "metadata": {},
   "outputs": [
    {
     "data": {
      "text/plain": [
       "<MyClass, name=pythonpython>"
      ]
     },
     "execution_count": 46,
     "metadata": {},
     "output_type": "execute_result"
    }
   ],
   "source": [
    "c1 *= 2\n",
    "c1"
   ]
  },
  {
   "cell_type": "code",
   "execution_count": 47,
   "id": "fb678082-077e-4e47-aedb-91b24f58ce82",
   "metadata": {},
   "outputs": [],
   "source": [
    "c1 = MyClass(\"abcd\")"
   ]
  },
  {
   "cell_type": "code",
   "execution_count": 48,
   "id": "eb179b22-7327-4f99-b381-5aa762584287",
   "metadata": {},
   "outputs": [
    {
     "name": "stdout",
     "output_type": "stream",
     "text": [
      "unsupported operand type(s) for *: 'int' and 'MyClass'\n"
     ]
    }
   ],
   "source": [
    "try:\n",
    "    3 * c1  # __rmul__ not implemented\n",
    "except TypeError as e:\n",
    "    print(e)"
   ]
  },
  {
   "cell_type": "code",
   "execution_count": 49,
   "id": "7b1a33ad-2416-4636-8d67-08ea934161e8",
   "metadata": {},
   "outputs": [],
   "source": [
    "class MyClass:\n",
    "    def __init__(self, name):\n",
    "        self.name = name\n",
    "\n",
    "    def __repr__(self):\n",
    "        return f\"<{type(self).__name__}, name={self.name}>\"\n",
    "\n",
    "    def __add__(self, other: MyClass) -> MyClass:\n",
    "        return MyClass(self.name + str(other.name))\n",
    "\n",
    "    def __iadd__(self, other: MyClass) -> MyClass:\n",
    "        self.name += str(other.name)\n",
    "        return self\n",
    "\n",
    "    def __mul__(self, other: int) -> MyClass:\n",
    "        return MyClass(self.name * other)\n",
    "\n",
    "    def __rmul__(self, other: int) -> MyClass:\n",
    "        return self.__mul__(other)\n",
    "\n",
    "    def __imul(self, other: int) -> MyClass:\n",
    "        self.name *= other\n",
    "        return self"
   ]
  },
  {
   "cell_type": "code",
   "execution_count": 50,
   "id": "d424f11e-f767-4552-8a71-7c88bd65cb8e",
   "metadata": {},
   "outputs": [
    {
     "data": {
      "text/plain": [
       "<MyClass, name=abcdabcdabcd>"
      ]
     },
     "execution_count": 50,
     "metadata": {},
     "output_type": "execute_result"
    }
   ],
   "source": [
    "c1 =  MyClass(\"abcd\")\n",
    "3 * c1"
   ]
  },
  {
   "cell_type": "markdown",
   "id": "91ef3dc9-2099-4762-85ea-437ffe55a64c",
   "metadata": {},
   "source": [
    "### `in` operator"
   ]
  },
  {
   "cell_type": "code",
   "execution_count": 51,
   "id": "ab0aac87-3441-4cad-943e-12a2a3db91f7",
   "metadata": {},
   "outputs": [],
   "source": [
    "class MyClass:\n",
    "    def __init__(self, name):\n",
    "        self.name = name\n",
    "\n",
    "    def __repr__(self):\n",
    "        return f\"<{type(self).__name__}, name={self.name}>\"\n",
    "\n",
    "    def __add__(self, other: MyClass) -> MyClass:\n",
    "        return MyClass(self.name + str(other.name))\n",
    "\n",
    "    def __iadd__(self, other: MyClass) -> MyClass:\n",
    "        self.name += str(other.name)\n",
    "        return self\n",
    "\n",
    "    def __mul__(self, other: int) -> MyClass:\n",
    "        return MyClass(self.name * other)\n",
    "\n",
    "    def __rmul__(self, other: int) -> MyClass:\n",
    "        return self.__mul__(other)\n",
    "\n",
    "    def __imul(self, other: int) -> MyClass:\n",
    "        self.name *= other\n",
    "        return self\n",
    "\n",
    "    def __contains__(self, value):\n",
    "        return value in self.name"
   ]
  },
  {
   "cell_type": "code",
   "execution_count": 52,
   "id": "2aa1fda2-bc1e-4f87-b4ef-394a6b2fb490",
   "metadata": {},
   "outputs": [
    {
     "data": {
      "text/plain": [
       "True"
      ]
     },
     "execution_count": 52,
     "metadata": {},
     "output_type": "execute_result"
    }
   ],
   "source": [
    "c1 = MyClass(\"abcd\")\n",
    "\"a\" in c1"
   ]
  },
  {
   "cell_type": "code",
   "execution_count": 53,
   "id": "f48ce345-13a8-47cb-a4d4-11cd385e5eff",
   "metadata": {},
   "outputs": [
    {
     "name": "stdout",
     "output_type": "stream",
     "text": [
      "'in <string>' requires string as left operand, not int\n"
     ]
    }
   ],
   "source": [
    "try:\n",
    "    1 in c1  # let python handle the exception\n",
    "except TypeError as e:\n",
    "    print(e)"
   ]
  },
  {
   "cell_type": "markdown",
   "id": "a8f3e0cf-f81a-4a69-bca2-e50db9dad0bf",
   "metadata": {},
   "source": [
    "### Custom class for polygon implementation"
   ]
  },
  {
   "cell_type": "code",
   "execution_count": 54,
   "id": "39624e2b-4aba-4a18-8c7e-f75d2a170aee",
   "metadata": {},
   "outputs": [],
   "source": [
    "import numbers\n",
    "\n",
    "\n",
    "class Point:\n",
    "    def __init__(self, x, y):\n",
    "        if isinstance(x, numbers.Real) and isinstance(y, numbers.Real):\n",
    "            self.x = x\n",
    "            self.y = y\n",
    "            self._pt = (x, y)\n",
    "        else:\n",
    "            raise TypeError(\"Point coordinates must be real numbers\")\n",
    "\n",
    "    def __repr__(self):\n",
    "        return f\"{type(self).__name__}(x={self.x}, y={self.y})\"\n",
    "\n",
    "    def __len__(self):\n",
    "        return len(self._pt)\n",
    "\n",
    "    def __getitem__(self, s: int | slice):\n",
    "        return self._pt[s]\n"
   ]
  },
  {
   "cell_type": "code",
   "execution_count": 55,
   "id": "0d55e5af-e9b2-4a9e-840b-dc2d5c0132f2",
   "metadata": {},
   "outputs": [],
   "source": [
    "p1 = Point(10, 2)"
   ]
  },
  {
   "cell_type": "code",
   "execution_count": 56,
   "id": "3192807a-ad83-448d-80b0-f7147fbf5b10",
   "metadata": {},
   "outputs": [
    {
     "data": {
      "text/plain": [
       "(10, 2)"
      ]
     },
     "execution_count": 56,
     "metadata": {},
     "output_type": "execute_result"
    }
   ],
   "source": [
    "x, y = p1   # thanks to __getitem__ it's possible to unpack\n",
    "x, y"
   ]
  },
  {
   "cell_type": "code",
   "execution_count": 57,
   "id": "e1566d94-2749-46a5-9381-14038e7056a2",
   "metadata": {},
   "outputs": [],
   "source": [
    "p2 = Point(*p1)"
   ]
  },
  {
   "cell_type": "code",
   "execution_count": 58,
   "id": "cd1ee061-bb12-425b-a408-3549e0ccd2db",
   "metadata": {},
   "outputs": [
    {
     "data": {
      "text/plain": [
       "(Point(x=10, y=2), Point(x=10, y=2))"
      ]
     },
     "execution_count": 58,
     "metadata": {},
     "output_type": "execute_result"
    }
   ],
   "source": [
    "p1, p2"
   ]
  },
  {
   "cell_type": "code",
   "execution_count": 59,
   "id": "9597ee8b-e07f-4ef4-8361-8a2d87df4256",
   "metadata": {},
   "outputs": [],
   "source": [
    "class Polygon:\n",
    "    def __init__(self, *pts):\n",
    "        self._pts = []\n",
    "        if pts:\n",
    "            self._pts = [Point(*p) for p in pts]\n",
    "\n",
    "    def __repr__(self):\n",
    "        # make it so it's possible to copy str __repr__ and create valid objects!\n",
    "        points_str = \",\".join([str(p) for p in self._pts])\n",
    "        return f\"{type(self).__name__}({points_str})\"\n",
    "\n",
    "    def __len__(self):\n",
    "        return len(self._pts)\n"
   ]
  },
  {
   "cell_type": "code",
   "execution_count": 60,
   "id": "dd28cae2-47c2-404c-94e8-ac7afb753169",
   "metadata": {},
   "outputs": [
    {
     "data": {
      "text/plain": [
       "Polygon(Point(x=0, y=0),Point(x=10, y=2),Point(x=10, y=2),Point(x=-5, y=-2))"
      ]
     },
     "execution_count": 60,
     "metadata": {},
     "output_type": "execute_result"
    }
   ],
   "source": [
    "p = Polygon((0,0), p1, p2, (-5, -2))\n",
    "p"
   ]
  },
  {
   "cell_type": "code",
   "execution_count": 61,
   "id": "42ae6cee-ac57-4e9f-afb4-de8d9a4dc1a2",
   "metadata": {},
   "outputs": [],
   "source": [
    "x = Polygon(Point(x=0, y=0),Point(x=10, y=2),Point(x=10, y=2),Point(x=-5, y=-2))"
   ]
  },
  {
   "cell_type": "code",
   "execution_count": 62,
   "id": "4a6f576b-497e-4f9c-8a86-0dc238f65cb8",
   "metadata": {},
   "outputs": [
    {
     "data": {
      "text/plain": [
       "Polygon(Point(x=0, y=0),Point(x=10, y=2),Point(x=10, y=2),Point(x=-5, y=-2))"
      ]
     },
     "execution_count": 62,
     "metadata": {},
     "output_type": "execute_result"
    }
   ],
   "source": [
    "x"
   ]
  },
  {
   "cell_type": "code",
   "execution_count": 63,
   "id": "1d711f4f-5f9e-43c6-8fc5-0cacc8f381af",
   "metadata": {},
   "outputs": [],
   "source": [
    "class Polygon:\n",
    "    def __init__(self, *pts):\n",
    "        self._pts = []\n",
    "        if pts:\n",
    "            self._pts = [Point(*p) for p in pts]\n",
    "\n",
    "    def __repr__(self):\n",
    "        # make it so it's possible to copy str __repr__ and create valid objects!\n",
    "        points_str = \",\".join([str(p) for p in self._pts])\n",
    "        return f\"{type(self).__name__}({points_str})\"\n",
    "\n",
    "    def __len__(self):\n",
    "        return len(self._pts)\n",
    "\n",
    "    def __getitem__(self, s: int | slice):\n",
    "        return self._pts[s]"
   ]
  },
  {
   "cell_type": "code",
   "execution_count": 64,
   "id": "2e58b1f8-fb8b-44f5-84ce-07850044585c",
   "metadata": {},
   "outputs": [],
   "source": [
    "p = Polygon(Point(x=0, y=0),Point(x=10, y=2),Point(x=10, y=2),Point(x=-5, y=-2))"
   ]
  },
  {
   "cell_type": "code",
   "execution_count": 65,
   "id": "79bd653f-d656-4893-bf60-49d3678cf2ef",
   "metadata": {},
   "outputs": [
    {
     "data": {
      "text/plain": [
       "[Point(x=0, y=0), Point(x=10, y=2), Point(x=10, y=2), Point(x=-5, y=-2)]"
      ]
     },
     "execution_count": 65,
     "metadata": {},
     "output_type": "execute_result"
    }
   ],
   "source": [
    "list(p)"
   ]
  },
  {
   "cell_type": "code",
   "execution_count": 66,
   "id": "7b0082a8-8e0c-4f63-a506-cb7448d84af6",
   "metadata": {},
   "outputs": [
    {
     "data": {
      "text/plain": [
       "[Point(x=-5, y=-2), Point(x=10, y=2), Point(x=10, y=2), Point(x=0, y=0)]"
      ]
     },
     "execution_count": 66,
     "metadata": {},
     "output_type": "execute_result"
    }
   ],
   "source": [
    "p[::-1]"
   ]
  },
  {
   "cell_type": "code",
   "execution_count": 67,
   "id": "8381b2d6-a3f2-449a-a507-8a023b5536a0",
   "metadata": {},
   "outputs": [],
   "source": [
    "class Polygon:\n",
    "    def __init__(self, *pts):\n",
    "        self._pts = []\n",
    "        if pts:\n",
    "            self._pts = [Point(*p) for p in pts]\n",
    "\n",
    "    def __repr__(self):\n",
    "        # make it so it's possible to copy str __repr__ and create valid objects!\n",
    "        points_str = \",\".join([str(p) for p in self._pts])\n",
    "        return f\"{type(self).__name__}({points_str})\"\n",
    "\n",
    "    def __len__(self):\n",
    "        return len(self._pts)\n",
    "\n",
    "    def __getitem__(self, s: int | slice):\n",
    "        return self._pts[s]\n",
    "\n",
    "    def __add__(self, other: Polygon) -> Polygon:\n",
    "        if isinstance(other, Polygon):\n",
    "            new_points = list(self) + list(other)\n",
    "            return Polygon(*new_points)\n",
    "        else:\n",
    "            raise TypeError(f\"add operator expects {type(self)} type\")\n",
    "    "
   ]
  },
  {
   "cell_type": "code",
   "execution_count": 68,
   "id": "0275cb59-5dfe-4f14-897e-178b661b0aec",
   "metadata": {},
   "outputs": [],
   "source": [
    "p1 = Polygon(Point(x=0, y=0), Point(x=10, y=2), Point(x=10, y=2), Point(x=-5, y=-2))\n",
    "p2 = Polygon(Point(x=-5, y=-2), Point(x=10, y=2), Point(x=10, y=2), Point(x=0, y=0))"
   ]
  },
  {
   "cell_type": "code",
   "execution_count": 69,
   "id": "33181d79-535e-4945-9676-0df1f42f61a0",
   "metadata": {},
   "outputs": [
    {
     "data": {
      "text/plain": [
       "(Polygon(Point(x=0, y=0),Point(x=10, y=2),Point(x=10, y=2),Point(x=-5, y=-2)),\n",
       " Polygon(Point(x=-5, y=-2),Point(x=10, y=2),Point(x=10, y=2),Point(x=0, y=0)))"
      ]
     },
     "execution_count": 69,
     "metadata": {},
     "output_type": "execute_result"
    }
   ],
   "source": [
    "p1, p2"
   ]
  },
  {
   "cell_type": "code",
   "execution_count": 70,
   "id": "ca2bf3f6-6066-4a51-a27a-0a3e1904ee04",
   "metadata": {},
   "outputs": [
    {
     "data": {
      "text/plain": [
       "Polygon(Point(x=0, y=0),Point(x=10, y=2),Point(x=10, y=2),Point(x=-5, y=-2),Point(x=-5, y=-2),Point(x=10, y=2),Point(x=10, y=2),Point(x=0, y=0))"
      ]
     },
     "execution_count": 70,
     "metadata": {},
     "output_type": "execute_result"
    }
   ],
   "source": [
    "p1 + p2"
   ]
  },
  {
   "cell_type": "code",
   "execution_count": 71,
   "id": "cb1937f2-568e-48e4-ab1a-bbe24dff4460",
   "metadata": {},
   "outputs": [
    {
     "name": "stdout",
     "output_type": "stream",
     "text": [
      "add operator expects <class '__main__.Polygon'> type\n"
     ]
    }
   ],
   "source": [
    "try:\n",
    "    p1 + 10\n",
    "except TypeError as e:\n",
    "    print(e)"
   ]
  },
  {
   "cell_type": "code",
   "execution_count": 72,
   "id": "9da8e8bb-bacc-4319-9567-148e84e819f7",
   "metadata": {},
   "outputs": [],
   "source": [
    "class Polygon:\n",
    "    def __init__(self, *pts):\n",
    "        self._pts = []\n",
    "        if pts:\n",
    "            self._pts = [Point(*p) for p in pts]\n",
    "\n",
    "    def __repr__(self):\n",
    "        # make it so it's possible to copy str __repr__ and create valid objects!\n",
    "        points_str = \",\".join([str(p) for p in self._pts])\n",
    "        return f\"{type(self).__name__}({points_str})\"\n",
    "\n",
    "    def __len__(self):\n",
    "        return len(self._pts)\n",
    "\n",
    "    def __getitem__(self, s: int | slice):\n",
    "        return self._pts[s]\n",
    "\n",
    "    def __add__(self, other: Polygon) -> Polygon:\n",
    "        if isinstance(other, Polygon):\n",
    "            new_points = list(self) + list(other)\n",
    "            return Polygon(*new_points)\n",
    "        else:\n",
    "            raise TypeError(f\"add operator expects {type(self)} type\")\n",
    "\n",
    "    def __iadd__(self, other):\n",
    "        if isinstance(other, Polygon):\n",
    "            self._pts += list(other)\n",
    "            return self\n",
    "        else:\n",
    "            raise TypeError(f\"add operator expects {type(self)} type\")\n"
   ]
  },
  {
   "cell_type": "code",
   "execution_count": 73,
   "id": "ef6d7030-f668-482f-90c2-d5500957a913",
   "metadata": {},
   "outputs": [
    {
     "name": "stdout",
     "output_type": "stream",
     "text": [
      "4472944400\n",
      "4472944400\n"
     ]
    }
   ],
   "source": [
    "p1 = Polygon(Point(x=0, y=0), Point(x=10, y=2), Point(x=10, y=2), Point(x=-5, y=-2))\n",
    "p2 = Polygon(Point(x=-5, y=-2), Point(x=10, y=2), Point(x=10, y=2), Point(x=0, y=0))\n",
    "print(id(p1))\n",
    "p1 += p2\n",
    "print(id(p1))"
   ]
  },
  {
   "cell_type": "code",
   "execution_count": 74,
   "id": "33502f89-f7f4-406b-ac0d-7f7bfe589177",
   "metadata": {},
   "outputs": [
    {
     "data": {
      "text/plain": [
       "Polygon(Point(x=0, y=0),Point(x=10, y=2),Point(x=10, y=2),Point(x=-5, y=-2),Point(x=-5, y=-2),Point(x=10, y=2),Point(x=10, y=2),Point(x=0, y=0))"
      ]
     },
     "execution_count": 74,
     "metadata": {},
     "output_type": "execute_result"
    }
   ],
   "source": [
    "p1"
   ]
  },
  {
   "cell_type": "code",
   "execution_count": 75,
   "id": "eeebe259-d56a-4248-b387-fa50968f941f",
   "metadata": {},
   "outputs": [],
   "source": [
    "class Polygon:\n",
    "    def __init__(self, *pts):\n",
    "        self._pts = []\n",
    "        if pts:\n",
    "            self._pts = [Point(*p) for p in pts]\n",
    "\n",
    "    def __repr__(self):\n",
    "        # make it so it's possible to copy str __repr__ and create valid objects!\n",
    "        points_str = \",\".join([str(p) for p in self._pts])\n",
    "        return f\"{type(self).__name__}({points_str})\"\n",
    "\n",
    "    def __len__(self):\n",
    "        return len(self._pts)\n",
    "\n",
    "    def __getitem__(self, s: int | slice):\n",
    "        return self._pts[s]\n",
    "\n",
    "    def __add__(self, other: Polygon) -> Polygon:\n",
    "        if isinstance(other, Polygon):\n",
    "            new_points = list(self) + list(other)\n",
    "            return Polygon(*new_points)\n",
    "        else:\n",
    "            raise TypeError(f\"add operator expects {type(self)} type\")\n",
    "\n",
    "    def __iadd__(self, other):\n",
    "        if isinstance(other, Polygon):\n",
    "            self._pts += list(other)\n",
    "            return self\n",
    "        else:\n",
    "            raise TypeError(f\"add operator expects {type(self)} type\")\n",
    "\n",
    "    def __contains__(self, pt):\n",
    "        return Point(*pt) in self._pts\n",
    "\n",
    "    def append(self, pt):\n",
    "        self._pts.append(Point(*pt))\n",
    "\n",
    "    def insert(self, i, pt):\n",
    "        self._pts.insert(i, Point(*pt))\n",
    "\n",
    "    def extend(self, pts):\n",
    "        if isinstance(pts, Polygon):\n",
    "            self._pts += list(pts)\n",
    "        else:\n",
    "            self._pts += [Point(*p) for p in pts]\n"
   ]
  },
  {
   "cell_type": "code",
   "execution_count": 76,
   "id": "d08e84da-0239-4ce9-acf4-ce1964ba6fd2",
   "metadata": {},
   "outputs": [],
   "source": [
    "p1 = Polygon(Point(x=0, y=0), Point(x=10, y=2), Point(x=10, y=2), Point(x=-5, y=-2))\n",
    "p2 = Polygon(Point(x=-5, y=-2), Point(x=10, y=2), Point(x=10, y=2), Point(x=0, y=0))"
   ]
  },
  {
   "cell_type": "code",
   "execution_count": 77,
   "id": "200df35b-8878-4931-bace-daa22ed29179",
   "metadata": {},
   "outputs": [],
   "source": [
    "p1.append((10, 100))"
   ]
  },
  {
   "cell_type": "code",
   "execution_count": 78,
   "id": "f340b098-943a-438c-a5d7-eb4780b1f317",
   "metadata": {},
   "outputs": [
    {
     "data": {
      "text/plain": [
       "Polygon(Point(x=0, y=0),Point(x=10, y=2),Point(x=10, y=2),Point(x=-5, y=-2),Point(x=10, y=100))"
      ]
     },
     "execution_count": 78,
     "metadata": {},
     "output_type": "execute_result"
    }
   ],
   "source": [
    "p1"
   ]
  },
  {
   "cell_type": "code",
   "execution_count": 79,
   "id": "652bf8bc-fb6c-40ec-938a-f39d72ed0e36",
   "metadata": {},
   "outputs": [],
   "source": [
    "p1.insert(1, (-100, -100))"
   ]
  },
  {
   "cell_type": "code",
   "execution_count": 80,
   "id": "a5841267-bdc3-4120-abed-d1f278f278b7",
   "metadata": {},
   "outputs": [
    {
     "data": {
      "text/plain": [
       "Polygon(Point(x=0, y=0),Point(x=-100, y=-100),Point(x=10, y=2),Point(x=10, y=2),Point(x=-5, y=-2),Point(x=10, y=100))"
      ]
     },
     "execution_count": 80,
     "metadata": {},
     "output_type": "execute_result"
    }
   ],
   "source": [
    "p1"
   ]
  },
  {
   "cell_type": "code",
   "execution_count": 81,
   "id": "fb9d7afe-ee22-4947-b1af-e64be55858c2",
   "metadata": {},
   "outputs": [],
   "source": [
    "p1.extend([Point(25, 25), (55, 55)])"
   ]
  },
  {
   "cell_type": "code",
   "execution_count": 82,
   "id": "909bc184-675b-4770-9073-e07b1922f7bc",
   "metadata": {},
   "outputs": [
    {
     "data": {
      "text/plain": [
       "Polygon(Point(x=0, y=0),Point(x=-100, y=-100),Point(x=10, y=2),Point(x=10, y=2),Point(x=-5, y=-2),Point(x=10, y=100),Point(x=25, y=25),Point(x=55, y=55))"
      ]
     },
     "execution_count": 82,
     "metadata": {},
     "output_type": "execute_result"
    }
   ],
   "source": [
    "p1"
   ]
  },
  {
   "cell_type": "code",
   "execution_count": 83,
   "id": "15ce1bef-632c-4be6-853a-4ae3bd5fa396",
   "metadata": {},
   "outputs": [],
   "source": [
    "p1.extend(p2)"
   ]
  },
  {
   "cell_type": "code",
   "execution_count": 84,
   "id": "7ac30b43-68a7-41cd-b5c6-a6281e1f390d",
   "metadata": {},
   "outputs": [
    {
     "data": {
      "text/plain": [
       "Polygon(Point(x=0, y=0),Point(x=-100, y=-100),Point(x=10, y=2),Point(x=10, y=2),Point(x=-5, y=-2),Point(x=10, y=100),Point(x=25, y=25),Point(x=55, y=55),Point(x=-5, y=-2),Point(x=10, y=2),Point(x=10, y=2),Point(x=0, y=0))"
      ]
     },
     "execution_count": 84,
     "metadata": {},
     "output_type": "execute_result"
    }
   ],
   "source": [
    "p1"
   ]
  },
  {
   "cell_type": "code",
   "execution_count": 85,
   "id": "c356b09b-2e9c-4f7e-b99d-6f4798578144",
   "metadata": {},
   "outputs": [],
   "source": [
    "class Polygon:\n",
    "    def __init__(self, *pts):\n",
    "        self._pts = []\n",
    "        if pts:\n",
    "            self._pts = [Point(*p) for p in pts]\n",
    "\n",
    "    def __repr__(self):\n",
    "        # make it so it's possible to copy str __repr__ and create valid objects!\n",
    "        points_str = \",\".join([str(p) for p in self._pts])\n",
    "        return f\"{type(self).__name__}({points_str})\"\n",
    "\n",
    "    def __len__(self):\n",
    "        return len(self._pts)\n",
    "\n",
    "    def __getitem__(self, s: int | slice):\n",
    "        return self._pts[s]\n",
    "\n",
    "    def __setitem__(self, s: int | slice, value: Point | tuple | list):\n",
    "        is_single =  False\n",
    "        try:\n",
    "            rhs = [Point(*pt) for pt in value]\n",
    "            is_single = False\n",
    "        except TypeError:\n",
    "            try:\n",
    "                rhs = Point(*value)\n",
    "                is_single = True\n",
    "            except TypeError:\n",
    "                raise TypeError(\"Invalid Point or iterable of Points\")\n",
    "\n",
    "        if (isinstance(s, int) and is_single) or (isinstance(s, slice) and not is_single):\n",
    "            self._pts[s] = rhs    \n",
    "        else:\n",
    "            raise TypeError(\"Incompatibile index/slice assignment\")\n",
    "\n",
    "    def __delitem__(self, s: int | slice):\n",
    "        del self._pts[s]\n",
    "\n",
    "    def __add__(self, other: Polygon) -> Polygon:\n",
    "        if isinstance(other, Polygon):\n",
    "            new_points = list(self) + list(other)\n",
    "            return Polygon(*new_points)\n",
    "        else:\n",
    "            raise TypeError(f\"add operator expects {type(self)} type\")\n",
    "\n",
    "    def __iadd__(self, other):\n",
    "        if isinstance(other, Polygon):\n",
    "            self._pts += list(other)\n",
    "            return self\n",
    "        else:\n",
    "            raise TypeError(f\"add operator expects {type(self)} type\")\n",
    "\n",
    "    def __contains__(self, pt):\n",
    "        return Point(*pt) in self._pts\n",
    "\n",
    "    def append(self, pt):\n",
    "        self._pts.append(Point(*pt))\n",
    "\n",
    "    def insert(self, i, pt):\n",
    "        self._pts.insert(i, Point(*pt))\n",
    "\n",
    "    def extend(self, pts):\n",
    "        if isinstance(pts, Polygon):\n",
    "            self._pts += list(pts)\n",
    "        else:\n",
    "            self._pts += [Point(*p) for p in pts]\n",
    "\n",
    "    def pop(self, i):\n",
    "        return self._pts.pop(i)\n"
   ]
  },
  {
   "cell_type": "code",
   "execution_count": null,
   "id": "76ba4e30-700e-4658-9a04-c55c76742d4d",
   "metadata": {},
   "outputs": [],
   "source": []
  }
 ],
 "metadata": {
  "kernelspec": {
   "display_name": "Python 3 (ipykernel)",
   "language": "python",
   "name": "python3"
  },
  "language_info": {
   "codemirror_mode": {
    "name": "ipython",
    "version": 3
   },
   "file_extension": ".py",
   "mimetype": "text/x-python",
   "name": "python",
   "nbconvert_exporter": "python",
   "pygments_lexer": "ipython3",
   "version": "3.12.3"
  }
 },
 "nbformat": 4,
 "nbformat_minor": 5
}
