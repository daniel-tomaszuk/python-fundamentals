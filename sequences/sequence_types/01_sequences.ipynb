{
 "cells": [
  {
   "cell_type": "markdown",
   "id": "c6bac0f4-542b-425e-9853-0d254d381690",
   "metadata": {},
   "source": [
    "### Sequence - elements can be referenced by index (iterables can not)"
   ]
  },
  {
   "cell_type": "code",
   "execution_count": 1,
   "id": "6c6f7d4f-32cd-4a44-b158-027a7d6c5ec7",
   "metadata": {},
   "outputs": [
    {
     "name": "stdout",
     "output_type": "stream",
     "text": [
      "1\n",
      "2\n",
      "3\n",
      "\n",
      "\n",
      "p\n",
      "y\n",
      "t\n",
      "h\n",
      "o\n",
      "n\n",
      "\n",
      "\n",
      "1\n",
      "2\n",
      "3\n"
     ]
    }
   ],
   "source": [
    "l = [1,2,3]\n",
    "s = \"python\"\n",
    "t = 1,2,3\n",
    "\n",
    "for x in l:\n",
    "    print(x)\n",
    "print(\"\\n\")\n",
    "\n",
    "for x in s:\n",
    "    print(x)\n",
    "print(\"\\n\")\n",
    "\n",
    "for x in t:\n",
    "    print(x)"
   ]
  },
  {
   "cell_type": "markdown",
   "id": "1e2a8f3b-e3f3-40bb-b75f-261286ac9111",
   "metadata": {},
   "source": [
    "### Concatenation of mulable elements can be unexpected!"
   ]
  },
  {
   "cell_type": "code",
   "execution_count": 2,
   "id": "943846fe-722d-414a-a105-ccbb3ddfb1ad",
   "metadata": {},
   "outputs": [
    {
     "name": "stdout",
     "output_type": "stream",
     "text": [
      "[[0, 0], [0, 0]]\n"
     ]
    }
   ],
   "source": [
    "\n",
    "x = [[0, 0]]\n",
    "a = x + x\n",
    "print(a)"
   ]
  },
  {
   "cell_type": "code",
   "execution_count": 3,
   "id": "1c2905d1-acb5-4a73-b8cd-b41809369faa",
   "metadata": {},
   "outputs": [
    {
     "data": {
      "text/plain": [
       "True"
      ]
     },
     "execution_count": 3,
     "metadata": {},
     "output_type": "execute_result"
    }
   ],
   "source": [
    "a[0] is a[1]"
   ]
  },
  {
   "cell_type": "code",
   "execution_count": 4,
   "id": "93d6f56a-d471-426c-96ac-cd4781342e8e",
   "metadata": {},
   "outputs": [
    {
     "name": "stdout",
     "output_type": "stream",
     "text": [
      "[[10, 0], [10, 0]]\n"
     ]
    }
   ],
   "source": [
    "a[0][0] = 10\n",
    "print(a)  # !!!"
   ]
  },
  {
   "cell_type": "code",
   "execution_count": 5,
   "id": "59e4e1e9-5a0a-4436-90bd-67d7903998c3",
   "metadata": {},
   "outputs": [
    {
     "data": {
      "text/plain": [
       "([100, 2], 3, 4)"
      ]
     },
     "execution_count": 5,
     "metadata": {},
     "output_type": "execute_result"
    }
   ],
   "source": [
    "t = ([1,2], 3, 4)\n",
    "t[0][0] = 100\n",
    "t"
   ]
  },
  {
   "cell_type": "code",
   "execution_count": 6,
   "id": "bfb89a64-2906-43fc-9aab-fc9394107fe9",
   "metadata": {},
   "outputs": [
    {
     "data": {
      "text/plain": [
       "True"
      ]
     },
     "execution_count": 6,
     "metadata": {},
     "output_type": "execute_result"
    }
   ],
   "source": [
    "100 in range(200)  # it's possible to check if element is inside a range"
   ]
  },
  {
   "cell_type": "markdown",
   "id": "8e892c95-10c9-48eb-b4c4-9fd8a850caa4",
   "metadata": {},
   "source": [
    "### Mutable sequence types"
   ]
  },
  {
   "cell_type": "code",
   "execution_count": 7,
   "id": "278ea193-b4d0-4057-9421-d15b1afef049",
   "metadata": {},
   "outputs": [
    {
     "name": "stdout",
     "output_type": "stream",
     "text": [
      "4606546752\n"
     ]
    }
   ],
   "source": [
    "l = [1,2,3,4,5]\n",
    "print(id(l))"
   ]
  },
  {
   "cell_type": "code",
   "execution_count": 8,
   "id": "c10c19c0-86af-4e00-a8d2-ed68256d3a48",
   "metadata": {},
   "outputs": [
    {
     "data": {
      "text/plain": [
       "1"
      ]
     },
     "execution_count": 8,
     "metadata": {},
     "output_type": "execute_result"
    }
   ],
   "source": [
    "l[0]"
   ]
  },
  {
   "cell_type": "code",
   "execution_count": 9,
   "id": "18c39a0a-9ec5-414e-bd0b-15066329f258",
   "metadata": {},
   "outputs": [
    {
     "data": {
      "text/plain": [
       "['a', 2, 3, 4, 5]"
      ]
     },
     "execution_count": 9,
     "metadata": {},
     "output_type": "execute_result"
    }
   ],
   "source": [
    "l[0] = \"a\"\n",
    "l"
   ]
  },
  {
   "cell_type": "code",
   "execution_count": 10,
   "id": "0b255d27-59ec-4e26-bf97-3903269ee0b3",
   "metadata": {},
   "outputs": [
    {
     "data": {
      "text/plain": [
       "4606546752"
      ]
     },
     "execution_count": 10,
     "metadata": {},
     "output_type": "execute_result"
    }
   ],
   "source": [
    "id(l)  # still the same object"
   ]
  },
  {
   "cell_type": "code",
   "execution_count": 11,
   "id": "60f8a70a-5c4c-46e9-8839-aca6210d0de8",
   "metadata": {},
   "outputs": [
    {
     "data": {
      "text/plain": [
       "([], 4606546752)"
      ]
     },
     "execution_count": 11,
     "metadata": {},
     "output_type": "execute_result"
    }
   ],
   "source": [
    "l.clear()\n",
    "l, id(l)"
   ]
  },
  {
   "cell_type": "code",
   "execution_count": 12,
   "id": "53f811d3-e096-419b-aa24-38bdeaa74776",
   "metadata": {},
   "outputs": [
    {
     "data": {
      "text/plain": [
       "4606710208"
      ]
     },
     "execution_count": 12,
     "metadata": {},
     "output_type": "execute_result"
    }
   ],
   "source": [
    "l = [1,2,3,4,5]\n",
    "id(l)"
   ]
  },
  {
   "cell_type": "code",
   "execution_count": 13,
   "id": "2006332f-fff6-437a-a924-e06a516b1b94",
   "metadata": {},
   "outputs": [
    {
     "data": {
      "text/plain": [
       "4602767488"
      ]
     },
     "execution_count": 13,
     "metadata": {},
     "output_type": "execute_result"
    }
   ],
   "source": [
    "l = []  # new empty list\n",
    "id(l)"
   ]
  },
  {
   "cell_type": "code",
   "execution_count": 14,
   "id": "1c3931d3-398b-4faa-ba5c-535056946d85",
   "metadata": {},
   "outputs": [],
   "source": [
    "suits = [\"Spades\", \"Hearts\", \"Diamonds\", \"Clubs\"]\n",
    "alias = suits"
   ]
  },
  {
   "cell_type": "code",
   "execution_count": 15,
   "id": "2e5b06e1-c9b9-4f22-b54e-876e044f21ce",
   "metadata": {},
   "outputs": [
    {
     "data": {
      "text/plain": [
       "(4606998912, 4606998912)"
      ]
     },
     "execution_count": 15,
     "metadata": {},
     "output_type": "execute_result"
    }
   ],
   "source": [
    "id(alias), id(suits)"
   ]
  },
  {
   "cell_type": "code",
   "execution_count": 16,
   "id": "b8ec97a0-dabc-47b7-89d7-494cd49de1ef",
   "metadata": {},
   "outputs": [
    {
     "data": {
      "text/plain": [
       "([], [])"
      ]
     },
     "execution_count": 16,
     "metadata": {},
     "output_type": "execute_result"
    }
   ],
   "source": [
    "alias.clear()\n",
    "alias, suits"
   ]
  },
  {
   "cell_type": "code",
   "execution_count": 17,
   "id": "fdeaa8b2-9578-4f90-a956-0312fcb80d5c",
   "metadata": {},
   "outputs": [
    {
     "data": {
      "text/plain": [
       "['Spades', 'Hearts', 'Diamonds', 'Clubs', None]"
      ]
     },
     "execution_count": 17,
     "metadata": {},
     "output_type": "execute_result"
    }
   ],
   "source": [
    "suits = [\"Spades\", \"Hearts\", \"Diamonds\", \"Clubs\"]\n",
    "def my_func(l):\n",
    "    l.append(None)\n",
    "\n",
    "my_func(suits)\n",
    "suits"
   ]
  },
  {
   "cell_type": "code",
   "execution_count": 18,
   "id": "fb6fdd38-ff5b-4744-a51c-0cd0980eaaee",
   "metadata": {},
   "outputs": [
    {
     "name": "stdout",
     "output_type": "stream",
     "text": [
      "[1, 2, 3, 4, 5, 6]\n"
     ]
    }
   ],
   "source": [
    "l = [1,2,3,4,5,6]\n",
    "print(l)"
   ]
  },
  {
   "cell_type": "code",
   "execution_count": 19,
   "id": "1498bc9b-1b13-4ed8-afa7-7b7799bdb893",
   "metadata": {},
   "outputs": [
    {
     "data": {
      "text/plain": [
       "[1, 2]"
      ]
     },
     "execution_count": 19,
     "metadata": {},
     "output_type": "execute_result"
    }
   ],
   "source": [
    "l[0:2]"
   ]
  },
  {
   "cell_type": "code",
   "execution_count": 20,
   "id": "fb8c2448-18d2-4f2a-b858-79770d6b8663",
   "metadata": {},
   "outputs": [],
   "source": [
    "l[0:2] = \"abcd\"  # remove slice and instead place iterable elements"
   ]
  },
  {
   "cell_type": "code",
   "execution_count": 21,
   "id": "897e59bb-33c4-4d31-8fa9-7f0ea58227d4",
   "metadata": {},
   "outputs": [
    {
     "data": {
      "text/plain": [
       "['a', 'b', 'c', 'd', 3, 4, 5, 6]"
      ]
     },
     "execution_count": 21,
     "metadata": {},
     "output_type": "execute_result"
    }
   ],
   "source": [
    "l"
   ]
  },
  {
   "cell_type": "code",
   "execution_count": 22,
   "id": "ee032c3a-5977-46fb-9372-737f6ff83814",
   "metadata": {},
   "outputs": [
    {
     "data": {
      "text/plain": [
       "4606705600"
      ]
     },
     "execution_count": 22,
     "metadata": {},
     "output_type": "execute_result"
    }
   ],
   "source": [
    "l = [1,2,3]\n",
    "id(l)"
   ]
  },
  {
   "cell_type": "code",
   "execution_count": 23,
   "id": "593fc99c-968b-4957-a2a3-66a20298bc26",
   "metadata": {},
   "outputs": [
    {
     "data": {
      "text/plain": [
       "([1, 2, 3, 4], 4606702272)"
      ]
     },
     "execution_count": 23,
     "metadata": {},
     "output_type": "execute_result"
    }
   ],
   "source": [
    "l = l + [4]\n",
    "l, id(l)"
   ]
  },
  {
   "cell_type": "code",
   "execution_count": 24,
   "id": "b614d73d-bafc-40d2-8ee0-98a5a312ed3c",
   "metadata": {},
   "outputs": [
    {
     "data": {
      "text/plain": [
       "4606702272"
      ]
     },
     "execution_count": 24,
     "metadata": {},
     "output_type": "execute_result"
    }
   ],
   "source": [
    "l.append(5)\n",
    "id(l)"
   ]
  },
  {
   "cell_type": "code",
   "execution_count": 25,
   "id": "65cb6f9e-77c2-42d2-bfa5-dca95248be19",
   "metadata": {},
   "outputs": [
    {
     "data": {
      "text/plain": [
       "(4606702272, [1, 2, 3, 4, 5, 11, 12, 13, 14, 15])"
      ]
     },
     "execution_count": 25,
     "metadata": {},
     "output_type": "execute_result"
    }
   ],
   "source": [
    "l.extend([11,12,13,14,15])\n",
    "id(l), l"
   ]
  },
  {
   "cell_type": "markdown",
   "id": "ff946e59-08ef-4c13-ac7f-93164d36076b",
   "metadata": {},
   "source": [
    "### Lists vs tuples\n",
    "\n",
    "Tuples use `constant folding` - tuples are evaluated at the compile time rather than computed during runtime.\n",
    "Because of that, tuples will be a bit faster than lists"
   ]
  },
  {
   "cell_type": "code",
   "execution_count": 26,
   "id": "9f8256a2-15a4-411d-9979-df592f2da0ec",
   "metadata": {},
   "outputs": [],
   "source": [
    "from dis import dis  # import dissasembly"
   ]
  },
  {
   "cell_type": "code",
   "execution_count": 27,
   "id": "d2426d35-86e7-4d40-8ab5-5bb580f3697a",
   "metadata": {},
   "outputs": [
    {
     "name": "stdout",
     "output_type": "stream",
     "text": [
      "  0           0 RESUME                   0\n",
      "\n",
      "  1           2 RETURN_CONST             0 ((1, 2, 3, 4, 'abc'))\n"
     ]
    }
   ],
   "source": [
    "dis(compile(\"(1,2,3,4,'abc')\", \"string\", \"eval\"))"
   ]
  },
  {
   "cell_type": "code",
   "execution_count": 28,
   "id": "8a4d38b7-035c-4619-8b76-531ded541330",
   "metadata": {},
   "outputs": [
    {
     "name": "stdout",
     "output_type": "stream",
     "text": [
      "  0           0 RESUME                   0\n",
      "\n",
      "  1           2 BUILD_LIST               0\n",
      "              4 LOAD_CONST               0 ((11, 12, 13, 14, 15, 17, 'a', 'b', 'c'))\n",
      "              6 LIST_EXTEND              1\n",
      "              8 RETURN_VALUE\n"
     ]
    }
   ],
   "source": [
    "# list requires more steps\n",
    "dis(compile(\"[11,12,13,14,15,17,'a','b','c']\", \"string\", \"eval\"))"
   ]
  },
  {
   "cell_type": "code",
   "execution_count": 29,
   "id": "faca4609-83be-4ad3-a209-af8a4480dbae",
   "metadata": {},
   "outputs": [
    {
     "name": "stdout",
     "output_type": "stream",
     "text": [
      "  0           0 RESUME                   0\n",
      "\n",
      "  1           2 LOAD_CONST               0 (1)\n",
      "              4 LOAD_CONST               1 (2)\n",
      "              6 LOAD_CONST               2 (3)\n",
      "              8 LOAD_CONST               3 (4)\n",
      "             10 LOAD_CONST               4 (10)\n",
      "             12 LOAD_CONST               5 (14)\n",
      "             14 BUILD_LIST               2\n",
      "             16 BUILD_TUPLE              5\n",
      "             18 RETURN_VALUE\n"
     ]
    }
   ],
   "source": [
    "dis(compile(\"(1,2,3,4,[10,14])\", \"string\", \"eval\"))"
   ]
  },
  {
   "cell_type": "code",
   "execution_count": 30,
   "id": "f0685455-ef7a-4277-9a05-9e8db20a4de6",
   "metadata": {},
   "outputs": [
    {
     "data": {
      "text/plain": [
       "0.10898390199872665"
      ]
     },
     "execution_count": 30,
     "metadata": {},
     "output_type": "execute_result"
    }
   ],
   "source": [
    "from timeit import timeit\n",
    "\n",
    "timeit(\"(1,2,3,4,5,6,7,8,9)\", number=10_000_000)"
   ]
  },
  {
   "cell_type": "code",
   "execution_count": 31,
   "id": "1ed1fcd1-d942-48bc-845b-c6b2ce91d74d",
   "metadata": {},
   "outputs": [
    {
     "data": {
      "text/plain": [
       "0.7149422719994618"
      ]
     },
     "execution_count": 31,
     "metadata": {},
     "output_type": "execute_result"
    }
   ],
   "source": [
    "timeit(\"[1,2,3,4,5,6,7,8,9]\", number=10_000_000)"
   ]
  },
  {
   "cell_type": "code",
   "execution_count": 32,
   "id": "2857bce8-d901-474f-b51e-1827d80bae76",
   "metadata": {},
   "outputs": [],
   "source": [
    "def my_func1():\n",
    "    pass"
   ]
  },
  {
   "cell_type": "code",
   "execution_count": 33,
   "id": "628ae33e-95a9-4f7f-a82e-f4498311ebee",
   "metadata": {},
   "outputs": [
    {
     "name": "stdout",
     "output_type": "stream",
     "text": [
      "  0           0 RESUME                   0\n",
      "\n",
      "  1           2 LOAD_NAME                0 (my_func1)\n",
      "              4 LOAD_CONST               0 (10)\n",
      "              6 LOAD_CONST               1 (20)\n",
      "              8 LOAD_CONST               2 (30)\n",
      "             10 BUILD_TUPLE              4\n",
      "             12 RETURN_VALUE\n"
     ]
    }
   ],
   "source": [
    "# if function is inside the container, list and tuple are threated the same\n",
    "\n",
    "dis(compile('(my_func1,10,20,30)', \"string\", \"eval\"))"
   ]
  },
  {
   "cell_type": "code",
   "execution_count": 34,
   "id": "130f8b74-da37-4638-a133-f11930ceeb7e",
   "metadata": {},
   "outputs": [
    {
     "name": "stdout",
     "output_type": "stream",
     "text": [
      "  0           0 RESUME                   0\n",
      "\n",
      "  1           2 LOAD_NAME                0 (my_func1)\n",
      "              4 LOAD_CONST               0 (10)\n",
      "              6 LOAD_CONST               1 (20)\n",
      "              8 LOAD_CONST               2 (30)\n",
      "             10 BUILD_LIST               4\n",
      "             12 RETURN_VALUE\n"
     ]
    }
   ],
   "source": [
    "dis(compile('[my_func1,10,20,30]', \"string\", \"eval\"))"
   ]
  },
  {
   "cell_type": "code",
   "execution_count": 35,
   "id": "043bae1b-ff0d-41bf-9ad6-5d1a23e1294e",
   "metadata": {},
   "outputs": [
    {
     "data": {
      "text/plain": [
       "0.09088218599936226"
      ]
     },
     "execution_count": 35,
     "metadata": {},
     "output_type": "execute_result"
    }
   ],
   "source": [
    "timeit(\"([1,2],3,4,5,6)\", number=1_000_000)"
   ]
  },
  {
   "cell_type": "code",
   "execution_count": 36,
   "id": "b416244b-0b4b-4df3-8ecf-5a92129e0dbe",
   "metadata": {},
   "outputs": [
    {
     "data": {
      "text/plain": [
       "0.11094144600065192"
      ]
     },
     "execution_count": 36,
     "metadata": {},
     "output_type": "execute_result"
    }
   ],
   "source": [
    "timeit(\"[[1,2],3,4,5,6]\", number=1_000_000)"
   ]
  },
  {
   "cell_type": "code",
   "execution_count": 37,
   "id": "1ed82c9f-5d4b-4ff8-b122-b69359b0b032",
   "metadata": {},
   "outputs": [
    {
     "data": {
      "text/plain": [
       "(4606702336, 4606331968)"
      ]
     },
     "execution_count": 37,
     "metadata": {},
     "output_type": "execute_result"
    }
   ],
   "source": [
    "l1 = [1,2,3,4,5,6]\n",
    "t1 = (1,2,3,4,5,6)\n",
    "\n",
    "id(l1), id(t1)"
   ]
  },
  {
   "cell_type": "code",
   "execution_count": 38,
   "id": "2c1821d9-ee38-4d46-8833-1cc1fac825d6",
   "metadata": {},
   "outputs": [
    {
     "data": {
      "text/plain": [
       "(4607198656, 4606702336)"
      ]
     },
     "execution_count": 38,
     "metadata": {},
     "output_type": "execute_result"
    }
   ],
   "source": [
    "l2 = list(l1)\n",
    "id(l2), id(l1)"
   ]
  },
  {
   "cell_type": "code",
   "execution_count": 39,
   "id": "b4210ac7-235b-4993-a1a2-b995fa65ee6e",
   "metadata": {},
   "outputs": [
    {
     "data": {
      "text/plain": [
       "(4606331968, 4606331968)"
      ]
     },
     "execution_count": 39,
     "metadata": {},
     "output_type": "execute_result"
    }
   ],
   "source": [
    "t2 = tuple(t1)\n",
    "id(t2), id(t1)  # same id -> no point of making copy of an immutable object"
   ]
  },
  {
   "cell_type": "code",
   "execution_count": 40,
   "id": "38211ab8-5074-45a9-8239-8408c7cb274c",
   "metadata": {},
   "outputs": [
    {
     "data": {
      "text/plain": [
       "0.1288323330009007"
      ]
     },
     "execution_count": 40,
     "metadata": {},
     "output_type": "execute_result"
    }
   ],
   "source": [
    "timeit(\"tuple((1,2,3,4,5))\", number=5_000_000)"
   ]
  },
  {
   "cell_type": "code",
   "execution_count": 41,
   "id": "ab7a63f8-8922-4228-a0f0-96a57ede680d",
   "metadata": {},
   "outputs": [
    {
     "data": {
      "text/plain": [
       "0.48961916899861535"
      ]
     },
     "execution_count": 41,
     "metadata": {},
     "output_type": "execute_result"
    }
   ],
   "source": [
    "timeit(\"list((1,2,3,4,5))\", number=5_000_000)"
   ]
  },
  {
   "cell_type": "markdown",
   "id": "ac7e2b01-ec89-4471-a62b-01cb02581fae",
   "metadata": {},
   "source": [
    "### Storage Efficiency"
   ]
  },
  {
   "cell_type": "code",
   "execution_count": 42,
   "id": "db4329cd-5704-4883-a6e9-0bf4af348370",
   "metadata": {},
   "outputs": [
    {
     "name": "stdout",
     "output_type": "stream",
     "text": [
      "1 items: 48 bytes, delta=8\n",
      "2 items: 56 bytes, delta=8\n",
      "3 items: 64 bytes, delta=8\n",
      "4 items: 72 bytes, delta=8\n",
      "5 items: 80 bytes, delta=8\n",
      "6 items: 88 bytes, delta=8\n",
      "7 items: 96 bytes, delta=8\n",
      "8 items: 104 bytes, delta=8\n",
      "9 items: 112 bytes, delta=8\n",
      "10 items: 120 bytes, delta=8\n"
     ]
    }
   ],
   "source": [
    "import sys\n",
    "\n",
    "t = tuple()\n",
    "prev = sys.getsizeof(t)\n",
    "\n",
    "for i in range(10):\n",
    "    c = tuple(range(i+1))\n",
    "    size_c = sys.getsizeof(c)\n",
    "    delta, prev = size_c - prev, size_c\n",
    "    print(f\"{i+1} items: {size_c} bytes, delta={delta}\")"
   ]
  },
  {
   "cell_type": "code",
   "execution_count": 43,
   "id": "1d20c45b-c63d-40f5-a3c3-e775efcb5b66",
   "metadata": {},
   "outputs": [
    {
     "name": "stdout",
     "output_type": "stream",
     "text": [
      "1 items: 72 bytes, delta=16\n",
      "2 items: 72 bytes, delta=0\n",
      "3 items: 88 bytes, delta=16\n",
      "4 items: 88 bytes, delta=0\n",
      "5 items: 104 bytes, delta=16\n",
      "6 items: 104 bytes, delta=0\n",
      "7 items: 120 bytes, delta=16\n",
      "8 items: 120 bytes, delta=0\n",
      "9 items: 136 bytes, delta=16\n",
      "10 items: 136 bytes, delta=0\n"
     ]
    }
   ],
   "source": [
    "l = list()\n",
    "prev = sys.getsizeof(l)\n",
    "for i in range(10):\n",
    "    l = list(range(i+1))\n",
    "    size_l = sys.getsizeof(l)\n",
    "    delta, prev = size_l - prev, size_l\n",
    "    print(f\"{i+1} items: {size_l} bytes, delta={delta}\")"
   ]
  },
  {
   "cell_type": "code",
   "execution_count": 44,
   "id": "50674a20-4c2b-41fe-b01a-81ff77b55dd1",
   "metadata": {},
   "outputs": [
    {
     "name": "stdout",
     "output_type": "stream",
     "text": [
      "0 items: 56\n",
      "1 items: 88 bytes, delta=32\n",
      "2 items: 88 bytes, delta=0\n",
      "3 items: 88 bytes, delta=0\n",
      "4 items: 88 bytes, delta=0\n",
      "5 items: 120 bytes, delta=32\n",
      "6 items: 120 bytes, delta=0\n",
      "7 items: 120 bytes, delta=0\n",
      "8 items: 120 bytes, delta=0\n",
      "9 items: 184 bytes, delta=64\n",
      "10 items: 184 bytes, delta=0\n",
      "11 items: 184 bytes, delta=0\n",
      "12 items: 184 bytes, delta=0\n",
      "13 items: 184 bytes, delta=0\n",
      "14 items: 184 bytes, delta=0\n",
      "15 items: 184 bytes, delta=0\n",
      "16 items: 184 bytes, delta=0\n",
      "17 items: 248 bytes, delta=64\n",
      "18 items: 248 bytes, delta=0\n",
      "19 items: 248 bytes, delta=0\n",
      "20 items: 248 bytes, delta=0\n",
      "21 items: 248 bytes, delta=0\n",
      "22 items: 248 bytes, delta=0\n",
      "23 items: 248 bytes, delta=0\n",
      "24 items: 248 bytes, delta=0\n",
      "25 items: 312 bytes, delta=64\n",
      "26 items: 312 bytes, delta=0\n",
      "27 items: 312 bytes, delta=0\n",
      "28 items: 312 bytes, delta=0\n",
      "29 items: 312 bytes, delta=0\n",
      "30 items: 312 bytes, delta=0\n",
      "31 items: 312 bytes, delta=0\n",
      "32 items: 312 bytes, delta=0\n",
      "33 items: 376 bytes, delta=64\n",
      "34 items: 376 bytes, delta=0\n",
      "35 items: 376 bytes, delta=0\n",
      "36 items: 376 bytes, delta=0\n",
      "37 items: 376 bytes, delta=0\n",
      "38 items: 376 bytes, delta=0\n",
      "39 items: 376 bytes, delta=0\n",
      "40 items: 376 bytes, delta=0\n",
      "41 items: 472 bytes, delta=96\n",
      "42 items: 472 bytes, delta=0\n",
      "43 items: 472 bytes, delta=0\n",
      "44 items: 472 bytes, delta=0\n",
      "45 items: 472 bytes, delta=0\n",
      "46 items: 472 bytes, delta=0\n",
      "47 items: 472 bytes, delta=0\n",
      "48 items: 472 bytes, delta=0\n",
      "49 items: 472 bytes, delta=0\n",
      "50 items: 472 bytes, delta=0\n",
      "51 items: 472 bytes, delta=0\n",
      "52 items: 472 bytes, delta=0\n",
      "53 items: 568 bytes, delta=96\n",
      "54 items: 568 bytes, delta=0\n",
      "55 items: 568 bytes, delta=0\n",
      "56 items: 568 bytes, delta=0\n",
      "57 items: 568 bytes, delta=0\n",
      "58 items: 568 bytes, delta=0\n",
      "59 items: 568 bytes, delta=0\n",
      "60 items: 568 bytes, delta=0\n",
      "61 items: 568 bytes, delta=0\n",
      "62 items: 568 bytes, delta=0\n",
      "63 items: 568 bytes, delta=0\n",
      "64 items: 568 bytes, delta=0\n",
      "65 items: 664 bytes, delta=96\n",
      "66 items: 664 bytes, delta=0\n",
      "67 items: 664 bytes, delta=0\n",
      "68 items: 664 bytes, delta=0\n",
      "69 items: 664 bytes, delta=0\n",
      "70 items: 664 bytes, delta=0\n",
      "71 items: 664 bytes, delta=0\n",
      "72 items: 664 bytes, delta=0\n",
      "73 items: 664 bytes, delta=0\n",
      "74 items: 664 bytes, delta=0\n",
      "75 items: 664 bytes, delta=0\n",
      "76 items: 664 bytes, delta=0\n",
      "77 items: 792 bytes, delta=128\n",
      "78 items: 792 bytes, delta=0\n",
      "79 items: 792 bytes, delta=0\n",
      "80 items: 792 bytes, delta=0\n",
      "81 items: 792 bytes, delta=0\n",
      "82 items: 792 bytes, delta=0\n",
      "83 items: 792 bytes, delta=0\n",
      "84 items: 792 bytes, delta=0\n",
      "85 items: 792 bytes, delta=0\n",
      "86 items: 792 bytes, delta=0\n",
      "87 items: 792 bytes, delta=0\n",
      "88 items: 792 bytes, delta=0\n",
      "89 items: 792 bytes, delta=0\n",
      "90 items: 792 bytes, delta=0\n",
      "91 items: 792 bytes, delta=0\n",
      "92 items: 792 bytes, delta=0\n",
      "93 items: 920 bytes, delta=128\n",
      "94 items: 920 bytes, delta=0\n",
      "95 items: 920 bytes, delta=0\n",
      "96 items: 920 bytes, delta=0\n",
      "97 items: 920 bytes, delta=0\n",
      "98 items: 920 bytes, delta=0\n",
      "99 items: 920 bytes, delta=0\n",
      "100 items: 920 bytes, delta=0\n",
      "101 items: 920 bytes, delta=0\n",
      "102 items: 920 bytes, delta=0\n",
      "103 items: 920 bytes, delta=0\n",
      "104 items: 920 bytes, delta=0\n",
      "105 items: 920 bytes, delta=0\n",
      "106 items: 920 bytes, delta=0\n",
      "107 items: 920 bytes, delta=0\n",
      "108 items: 920 bytes, delta=0\n",
      "109 items: 1080 bytes, delta=160\n",
      "110 items: 1080 bytes, delta=0\n",
      "111 items: 1080 bytes, delta=0\n",
      "112 items: 1080 bytes, delta=0\n",
      "113 items: 1080 bytes, delta=0\n",
      "114 items: 1080 bytes, delta=0\n",
      "115 items: 1080 bytes, delta=0\n",
      "116 items: 1080 bytes, delta=0\n",
      "117 items: 1080 bytes, delta=0\n",
      "118 items: 1080 bytes, delta=0\n",
      "119 items: 1080 bytes, delta=0\n",
      "120 items: 1080 bytes, delta=0\n",
      "121 items: 1080 bytes, delta=0\n",
      "122 items: 1080 bytes, delta=0\n",
      "123 items: 1080 bytes, delta=0\n",
      "124 items: 1080 bytes, delta=0\n",
      "125 items: 1080 bytes, delta=0\n",
      "126 items: 1080 bytes, delta=0\n",
      "127 items: 1080 bytes, delta=0\n",
      "128 items: 1080 bytes, delta=0\n",
      "129 items: 1240 bytes, delta=160\n",
      "130 items: 1240 bytes, delta=0\n",
      "131 items: 1240 bytes, delta=0\n",
      "132 items: 1240 bytes, delta=0\n",
      "133 items: 1240 bytes, delta=0\n",
      "134 items: 1240 bytes, delta=0\n",
      "135 items: 1240 bytes, delta=0\n",
      "136 items: 1240 bytes, delta=0\n",
      "137 items: 1240 bytes, delta=0\n",
      "138 items: 1240 bytes, delta=0\n",
      "139 items: 1240 bytes, delta=0\n",
      "140 items: 1240 bytes, delta=0\n",
      "141 items: 1240 bytes, delta=0\n",
      "142 items: 1240 bytes, delta=0\n",
      "143 items: 1240 bytes, delta=0\n",
      "144 items: 1240 bytes, delta=0\n",
      "145 items: 1240 bytes, delta=0\n",
      "146 items: 1240 bytes, delta=0\n",
      "147 items: 1240 bytes, delta=0\n",
      "148 items: 1240 bytes, delta=0\n",
      "149 items: 1432 bytes, delta=192\n",
      "150 items: 1432 bytes, delta=0\n",
      "151 items: 1432 bytes, delta=0\n",
      "152 items: 1432 bytes, delta=0\n",
      "153 items: 1432 bytes, delta=0\n",
      "154 items: 1432 bytes, delta=0\n",
      "155 items: 1432 bytes, delta=0\n",
      "156 items: 1432 bytes, delta=0\n",
      "157 items: 1432 bytes, delta=0\n",
      "158 items: 1432 bytes, delta=0\n",
      "159 items: 1432 bytes, delta=0\n",
      "160 items: 1432 bytes, delta=0\n",
      "161 items: 1432 bytes, delta=0\n",
      "162 items: 1432 bytes, delta=0\n",
      "163 items: 1432 bytes, delta=0\n",
      "164 items: 1432 bytes, delta=0\n",
      "165 items: 1432 bytes, delta=0\n",
      "166 items: 1432 bytes, delta=0\n",
      "167 items: 1432 bytes, delta=0\n",
      "168 items: 1432 bytes, delta=0\n",
      "169 items: 1432 bytes, delta=0\n",
      "170 items: 1432 bytes, delta=0\n",
      "171 items: 1432 bytes, delta=0\n",
      "172 items: 1432 bytes, delta=0\n",
      "173 items: 1656 bytes, delta=224\n",
      "174 items: 1656 bytes, delta=0\n",
      "175 items: 1656 bytes, delta=0\n",
      "176 items: 1656 bytes, delta=0\n",
      "177 items: 1656 bytes, delta=0\n",
      "178 items: 1656 bytes, delta=0\n",
      "179 items: 1656 bytes, delta=0\n",
      "180 items: 1656 bytes, delta=0\n",
      "181 items: 1656 bytes, delta=0\n",
      "182 items: 1656 bytes, delta=0\n",
      "183 items: 1656 bytes, delta=0\n",
      "184 items: 1656 bytes, delta=0\n",
      "185 items: 1656 bytes, delta=0\n",
      "186 items: 1656 bytes, delta=0\n",
      "187 items: 1656 bytes, delta=0\n",
      "188 items: 1656 bytes, delta=0\n",
      "189 items: 1656 bytes, delta=0\n",
      "190 items: 1656 bytes, delta=0\n",
      "191 items: 1656 bytes, delta=0\n",
      "192 items: 1656 bytes, delta=0\n",
      "193 items: 1656 bytes, delta=0\n",
      "194 items: 1656 bytes, delta=0\n",
      "195 items: 1656 bytes, delta=0\n",
      "196 items: 1656 bytes, delta=0\n",
      "197 items: 1656 bytes, delta=0\n",
      "198 items: 1656 bytes, delta=0\n",
      "199 items: 1656 bytes, delta=0\n",
      "200 items: 1656 bytes, delta=0\n",
      "201 items: 1912 bytes, delta=256\n",
      "202 items: 1912 bytes, delta=0\n",
      "203 items: 1912 bytes, delta=0\n",
      "204 items: 1912 bytes, delta=0\n",
      "205 items: 1912 bytes, delta=0\n",
      "206 items: 1912 bytes, delta=0\n",
      "207 items: 1912 bytes, delta=0\n",
      "208 items: 1912 bytes, delta=0\n",
      "209 items: 1912 bytes, delta=0\n",
      "210 items: 1912 bytes, delta=0\n",
      "211 items: 1912 bytes, delta=0\n",
      "212 items: 1912 bytes, delta=0\n",
      "213 items: 1912 bytes, delta=0\n",
      "214 items: 1912 bytes, delta=0\n",
      "215 items: 1912 bytes, delta=0\n",
      "216 items: 1912 bytes, delta=0\n",
      "217 items: 1912 bytes, delta=0\n",
      "218 items: 1912 bytes, delta=0\n",
      "219 items: 1912 bytes, delta=0\n",
      "220 items: 1912 bytes, delta=0\n",
      "221 items: 1912 bytes, delta=0\n",
      "222 items: 1912 bytes, delta=0\n",
      "223 items: 1912 bytes, delta=0\n",
      "224 items: 1912 bytes, delta=0\n",
      "225 items: 1912 bytes, delta=0\n",
      "226 items: 1912 bytes, delta=0\n",
      "227 items: 1912 bytes, delta=0\n",
      "228 items: 1912 bytes, delta=0\n",
      "229 items: 1912 bytes, delta=0\n",
      "230 items: 1912 bytes, delta=0\n",
      "231 items: 1912 bytes, delta=0\n",
      "232 items: 1912 bytes, delta=0\n",
      "233 items: 2200 bytes, delta=288\n",
      "234 items: 2200 bytes, delta=0\n",
      "235 items: 2200 bytes, delta=0\n",
      "236 items: 2200 bytes, delta=0\n",
      "237 items: 2200 bytes, delta=0\n",
      "238 items: 2200 bytes, delta=0\n",
      "239 items: 2200 bytes, delta=0\n",
      "240 items: 2200 bytes, delta=0\n",
      "241 items: 2200 bytes, delta=0\n",
      "242 items: 2200 bytes, delta=0\n",
      "243 items: 2200 bytes, delta=0\n",
      "244 items: 2200 bytes, delta=0\n",
      "245 items: 2200 bytes, delta=0\n",
      "246 items: 2200 bytes, delta=0\n",
      "247 items: 2200 bytes, delta=0\n",
      "248 items: 2200 bytes, delta=0\n",
      "249 items: 2200 bytes, delta=0\n",
      "250 items: 2200 bytes, delta=0\n",
      "251 items: 2200 bytes, delta=0\n",
      "252 items: 2200 bytes, delta=0\n",
      "253 items: 2200 bytes, delta=0\n",
      "254 items: 2200 bytes, delta=0\n",
      "255 items: 2200 bytes, delta=0\n"
     ]
    }
   ],
   "source": [
    "l = list()\n",
    "prev = sys.getsizeof(l)\n",
    "print(f\"0 items: {prev}\")\n",
    "for i in range(255):\n",
    "    l.append(i)\n",
    "    size_l = sys.getsizeof(l)\n",
    "    delta, prev = size_l - prev, size_l\n",
    "    print(f\"{i+1} items: {size_l} bytes, delta={delta}\")\n",
    "    "
   ]
  },
  {
   "cell_type": "code",
   "execution_count": 45,
   "id": "ac4ae889-b5aa-4caf-8bdf-b346d7bfda29",
   "metadata": {},
   "outputs": [],
   "source": [
    "# check wiki - dynamic arrays!"
   ]
  },
  {
   "cell_type": "code",
   "execution_count": 46,
   "id": "2d7cf5ad-fff4-4bb8-8ec0-d4e9baed797d",
   "metadata": {},
   "outputs": [],
   "source": [
    "t = tuple(range(100_000))\n",
    "l = list(t)"
   ]
  },
  {
   "cell_type": "code",
   "execution_count": 47,
   "id": "9b046651-5d79-4fc1-a50b-e6cb470678ee",
   "metadata": {},
   "outputs": [
    {
     "data": {
      "text/plain": [
       "0.0457077120008762"
      ]
     },
     "execution_count": 47,
     "metadata": {},
     "output_type": "execute_result"
    }
   ],
   "source": [
    "# tuples are a tiny bit quicker to retrieve the element \n",
    "# they basically have direct access to each element while list has more indirect route\n",
    "\n",
    "timeit(\"t[99_999]\", globals={\"t\": t})"
   ]
  },
  {
   "cell_type": "code",
   "execution_count": 48,
   "id": "6f73c1e6-4e57-456b-933a-9a3d83079df8",
   "metadata": {},
   "outputs": [
    {
     "data": {
      "text/plain": [
       "0.025553335002769018"
      ]
     },
     "execution_count": 48,
     "metadata": {},
     "output_type": "execute_result"
    }
   ],
   "source": [
    "timeit(\"l[99_999]\", globals={\"l\": l})"
   ]
  },
  {
   "cell_type": "code",
   "execution_count": null,
   "id": "707b9b73-e417-4785-bd76-379b0a7d559d",
   "metadata": {},
   "outputs": [],
   "source": []
  }
 ],
 "metadata": {
  "kernelspec": {
   "display_name": "Python 3 (ipykernel)",
   "language": "python",
   "name": "python3"
  },
  "language_info": {
   "codemirror_mode": {
    "name": "ipython",
    "version": 3
   },
   "file_extension": ".py",
   "mimetype": "text/x-python",
   "name": "python",
   "nbconvert_exporter": "python",
   "pygments_lexer": "ipython3",
   "version": "3.12.3"
  }
 },
 "nbformat": 4,
 "nbformat_minor": 5
}
