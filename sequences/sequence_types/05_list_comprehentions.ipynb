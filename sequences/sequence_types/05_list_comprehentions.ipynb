{
 "cells": [
  {
   "cell_type": "markdown",
   "id": "ce5d4d8e-2cc4-4aa2-992c-7c86210808d5",
   "metadata": {},
   "source": [
    "### List Comprehentions"
   ]
  },
  {
   "cell_type": "code",
   "execution_count": 1,
   "id": "5a7046ca-5019-484a-88a1-776f321c6c45",
   "metadata": {},
   "outputs": [
    {
     "data": {
      "text/plain": [
       "[0, 1, 4, 9, 16, 25, 36, 49, 64, 81]"
      ]
     },
     "execution_count": 1,
     "metadata": {},
     "output_type": "execute_result"
    }
   ],
   "source": [
    "sq = [x ** 2 for x in range(10)]\n",
    "sq"
   ]
  },
  {
   "cell_type": "code",
   "execution_count": 2,
   "id": "456f0814-6af8-4496-80f6-2aa7c7a90a11",
   "metadata": {},
   "outputs": [
    {
     "data": {
      "text/plain": [
       "[1, 11, 13, 17, 19, 23, 29, 31, 37, 41, 43, 47]"
      ]
     },
     "execution_count": 2,
     "metadata": {},
     "output_type": "execute_result"
    }
   ],
   "source": [
    "sq = [x for x in range(50) if x % 2 and x % 3 and x % 5 and x % 7]\n",
    "sq"
   ]
  },
  {
   "cell_type": "markdown",
   "id": "8934b959-9d52-4da4-a021-b1e70163966c",
   "metadata": {},
   "source": [
    "#### Comprehentions are functions in it's roots"
   ]
  },
  {
   "cell_type": "code",
   "execution_count": 3,
   "id": "84a181ff-2305-46e9-aefd-2bb15da8172b",
   "metadata": {},
   "outputs": [
    {
     "data": {
      "text/plain": [
       "<code object <module> at 0x1108e3730, file \"string\", line 1>"
      ]
     },
     "execution_count": 3,
     "metadata": {},
     "output_type": "execute_result"
    }
   ],
   "source": [
    "compiled_code = compile(\"[i ** 2 for i in (1,2,3)]\", filename=\"string\", mode=\"eval\")\n",
    "compiled_code"
   ]
  },
  {
   "cell_type": "code",
   "execution_count": 4,
   "id": "4c264855-1391-4cbe-804f-3ffd0c99ebe0",
   "metadata": {},
   "outputs": [
    {
     "name": "stdout",
     "output_type": "stream",
     "text": [
      "  0           0 RESUME                   0\n",
      "\n",
      "  1           2 LOAD_CONST               0 ((1, 2, 3))\n",
      "              4 GET_ITER\n",
      "              6 LOAD_FAST_AND_CLEAR      0 (i)\n",
      "              8 SWAP                     2\n",
      "             10 BUILD_LIST               0\n",
      "             12 SWAP                     2\n",
      "        >>   14 FOR_ITER                 7 (to 32)\n",
      "             18 STORE_FAST               0 (i)\n",
      "             20 LOAD_FAST                0 (i)\n",
      "             22 LOAD_CONST               1 (2)\n",
      "             24 BINARY_OP                8 (**)\n",
      "             28 LIST_APPEND              2\n",
      "             30 JUMP_BACKWARD            9 (to 14)\n",
      "        >>   32 END_FOR\n",
      "             34 SWAP                     2\n",
      "             36 STORE_FAST               0 (i)\n",
      "             38 RETURN_VALUE\n",
      "        >>   40 SWAP                     2\n",
      "             42 POP_TOP\n",
      "             44 SWAP                     2\n",
      "             46 STORE_FAST               0 (i)\n",
      "             48 RERAISE                  0\n",
      "ExceptionTable:\n",
      "  10 to 32 -> 40 [2]\n"
     ]
    }
   ],
   "source": [
    "import dis\n",
    "dis.dis(compiled_code)"
   ]
  },
  {
   "cell_type": "code",
   "execution_count": 5,
   "id": "aa78c08e-17cc-44bf-a242-8d2afd4e4c9a",
   "metadata": {},
   "outputs": [
    {
     "data": {
      "text/plain": [
       "[1, 4, 9]"
      ]
     },
     "execution_count": 5,
     "metadata": {},
     "output_type": "execute_result"
    }
   ],
   "source": [
    "eval(compiled_code)"
   ]
  },
  {
   "cell_type": "code",
   "execution_count": 6,
   "id": "d1a995eb-48ad-4f52-85a6-04c50e9a2bc4",
   "metadata": {},
   "outputs": [],
   "source": [
    "table = []\n",
    "for i in range(1, 11):\n",
    "    row = []\n",
    "    for j in range(1, 11):\n",
    "        row.append(i * j)\n",
    "    table.append(row)\n"
   ]
  },
  {
   "cell_type": "code",
   "execution_count": 7,
   "id": "1a507996-902d-4030-a206-9c879cd1f0d9",
   "metadata": {},
   "outputs": [
    {
     "data": {
      "text/plain": [
       "[[1, 2, 3, 4, 5, 6, 7, 8, 9, 10],\n",
       " [2, 4, 6, 8, 10, 12, 14, 16, 18, 20],\n",
       " [3, 6, 9, 12, 15, 18, 21, 24, 27, 30],\n",
       " [4, 8, 12, 16, 20, 24, 28, 32, 36, 40],\n",
       " [5, 10, 15, 20, 25, 30, 35, 40, 45, 50],\n",
       " [6, 12, 18, 24, 30, 36, 42, 48, 54, 60],\n",
       " [7, 14, 21, 28, 35, 42, 49, 56, 63, 70],\n",
       " [8, 16, 24, 32, 40, 48, 56, 64, 72, 80],\n",
       " [9, 18, 27, 36, 45, 54, 63, 72, 81, 90],\n",
       " [10, 20, 30, 40, 50, 60, 70, 80, 90, 100]]"
      ]
     },
     "execution_count": 7,
     "metadata": {},
     "output_type": "execute_result"
    }
   ],
   "source": [
    "table"
   ]
  },
  {
   "cell_type": "code",
   "execution_count": 8,
   "id": "02f135ae-92c9-4f6a-8c1e-339dcd6fc6fc",
   "metadata": {},
   "outputs": [
    {
     "data": {
      "text/plain": [
       "[[1, 2, 3, 4, 5, 6, 7, 8, 9, 10],\n",
       " [2, 4, 6, 8, 10, 12, 14, 16, 18, 20],\n",
       " [3, 6, 9, 12, 15, 18, 21, 24, 27, 30],\n",
       " [4, 8, 12, 16, 20, 24, 28, 32, 36, 40],\n",
       " [5, 10, 15, 20, 25, 30, 35, 40, 45, 50],\n",
       " [6, 12, 18, 24, 30, 36, 42, 48, 54, 60],\n",
       " [7, 14, 21, 28, 35, 42, 49, 56, 63, 70],\n",
       " [8, 16, 24, 32, 40, 48, 56, 64, 72, 80],\n",
       " [9, 18, 27, 36, 45, 54, 63, 72, 81, 90],\n",
       " [10, 20, 30, 40, 50, 60, 70, 80, 90, 100]]"
      ]
     },
     "execution_count": 8,
     "metadata": {},
     "output_type": "execute_result"
    }
   ],
   "source": [
    "[[i * j for j in range(1, 11)] for i in range(1, 11)]"
   ]
  },
  {
   "cell_type": "code",
   "execution_count": 9,
   "id": "5375a267-e0a2-4746-adb0-a45392af288f",
   "metadata": {},
   "outputs": [
    {
     "name": "stdout",
     "output_type": "stream",
     "text": [
      "  0           0 RESUME                   0\n",
      "\n",
      "  1           2 PUSH_NULL\n",
      "              4 LOAD_NAME                0 (range)\n",
      "              6 LOAD_CONST               0 (1)\n",
      "              8 LOAD_CONST               1 (11)\n",
      "             10 CALL                     2\n",
      "             18 GET_ITER\n",
      "             20 LOAD_FAST_AND_CLEAR      0 (i)\n",
      "             22 LOAD_FAST_AND_CLEAR      1 (j)\n",
      "             24 SWAP                     3\n",
      "             26 BUILD_LIST               0\n",
      "             28 SWAP                     2\n",
      "        >>   30 FOR_ITER                28 (to 90)\n",
      "             34 STORE_FAST               0 (i)\n",
      "             36 PUSH_NULL\n",
      "             38 LOAD_NAME                0 (range)\n",
      "             40 LOAD_CONST               0 (1)\n",
      "             42 LOAD_CONST               1 (11)\n",
      "             44 CALL                     2\n",
      "             52 GET_ITER\n",
      "             54 LOAD_FAST_AND_CLEAR      1 (j)\n",
      "             56 SWAP                     2\n",
      "             58 BUILD_LIST               0\n",
      "             60 SWAP                     2\n",
      "        >>   62 FOR_ITER                 7 (to 80)\n",
      "             66 STORE_FAST               1 (j)\n",
      "             68 LOAD_FAST                0 (i)\n",
      "             70 LOAD_FAST                1 (j)\n",
      "             72 BINARY_OP                5 (*)\n",
      "             76 LIST_APPEND              2\n",
      "             78 JUMP_BACKWARD            9 (to 62)\n",
      "        >>   80 END_FOR\n",
      "             82 SWAP                     2\n",
      "             84 STORE_FAST               1 (j)\n",
      "             86 LIST_APPEND              2\n",
      "             88 JUMP_BACKWARD           30 (to 30)\n",
      "        >>   90 END_FOR\n",
      "             92 SWAP                     3\n",
      "             94 STORE_FAST               1 (j)\n",
      "             96 STORE_FAST               0 (i)\n",
      "             98 RETURN_VALUE\n",
      "        >>  100 SWAP                     2\n",
      "            102 POP_TOP\n",
      "            104 SWAP                     2\n",
      "            106 STORE_FAST               1 (j)\n",
      "            108 RERAISE                  0\n",
      "        >>  110 SWAP                     2\n",
      "            112 POP_TOP\n",
      "            114 SWAP                     3\n",
      "            116 STORE_FAST               1 (j)\n",
      "            118 STORE_FAST               0 (i)\n",
      "            120 RERAISE                  0\n",
      "ExceptionTable:\n",
      "  26 to 56 -> 110 [3]\n",
      "  58 to 80 -> 100 [6]\n",
      "  82 to 90 -> 110 [3]\n",
      "  100 to 108 -> 110 [3]\n"
     ]
    }
   ],
   "source": [
    "compiled_code = compile(\"[[i * j for j in range(1, 11)] for i in range(1, 11)]\", filename=\"string\", mode=\"eval\")\n",
    "dis.dis(compiled_code)"
   ]
  },
  {
   "cell_type": "code",
   "execution_count": 10,
   "id": "ae76611e-03c1-4cb8-8fc9-11855047b8cc",
   "metadata": {},
   "outputs": [],
   "source": [
    "# pascal triangle\n",
    "# C(n, k) = n! / (k! * (n - k)!)\n",
    "# C(0,0)\n",
    "# C(1, 0), C(1,1)\n",
    "# C(2,0), C(2,1), C(2,2)\n",
    "# C(3, 0), C(3,1), C(3,2), C(3,3)\n"
   ]
  },
  {
   "cell_type": "code",
   "execution_count": 11,
   "id": "38c91f57-2877-4972-9a4a-329c10a9c193",
   "metadata": {},
   "outputs": [],
   "source": [
    "from math import factorial\n",
    "\n",
    "def combo(n, k):\n",
    "    return factorial(n) // (factorial(k) * factorial(n-k))"
   ]
  },
  {
   "cell_type": "code",
   "execution_count": 12,
   "id": "de52a8d8-6106-412a-b463-9b51c8631112",
   "metadata": {},
   "outputs": [
    {
     "data": {
      "text/plain": [
       "[[1],\n",
       " [1, 1],\n",
       " [1, 2, 1],\n",
       " [1, 3, 3, 1],\n",
       " [1, 4, 6, 4, 1],\n",
       " [1, 5, 10, 10, 5, 1],\n",
       " [1, 6, 15, 20, 15, 6, 1],\n",
       " [1, 7, 21, 35, 35, 21, 7, 1],\n",
       " [1, 8, 28, 56, 70, 56, 28, 8, 1],\n",
       " [1, 9, 36, 84, 126, 126, 84, 36, 9, 1],\n",
       " [1, 10, 45, 120, 210, 252, 210, 120, 45, 10, 1],\n",
       " [1, 11, 55, 165, 330, 462, 462, 330, 165, 55, 11, 1],\n",
       " [1, 12, 66, 220, 495, 792, 924, 792, 495, 220, 66, 12, 1]]"
      ]
     },
     "execution_count": 12,
     "metadata": {},
     "output_type": "execute_result"
    }
   ],
   "source": [
    "size = 12\n",
    "pascal = [[combo(row, col) for col in range(row + 1)] for row in range(size + 1)]\n",
    "pascal\n"
   ]
  },
  {
   "cell_type": "markdown",
   "id": "059dc850-271e-4162-8c6a-71809eb0ebf9",
   "metadata": {},
   "source": [
    "### Nested loops"
   ]
  },
  {
   "cell_type": "code",
   "execution_count": 13,
   "id": "e3d6b7d6-fa07-490c-a7bb-2858fe651133",
   "metadata": {},
   "outputs": [],
   "source": [
    "l1 = [\"a\", \"b\", \"c\"]\n",
    "l2 = [\"x\", \"y\", \"z\"]"
   ]
  },
  {
   "cell_type": "code",
   "execution_count": 14,
   "id": "00c94cd3-189a-4c62-8433-cdf70e6e1116",
   "metadata": {},
   "outputs": [
    {
     "data": {
      "text/plain": [
       "['ax', 'ay', 'az', 'bx', 'by', 'bz', 'cx', 'cy', 'cz']"
      ]
     },
     "execution_count": 14,
     "metadata": {},
     "output_type": "execute_result"
    }
   ],
   "source": [
    "[char_1 + char_2 for char_1 in l1 for char_2 in l2]"
   ]
  },
  {
   "cell_type": "code",
   "execution_count": 15,
   "id": "5f5f5201-8f8b-4e47-8dc3-f751c4c13e76",
   "metadata": {},
   "outputs": [
    {
     "data": {
      "text/plain": [
       "[(1, 'a'), (2, 'b'), (3, 'c'), (4, 'd')]"
      ]
     },
     "execution_count": 15,
     "metadata": {},
     "output_type": "execute_result"
    }
   ],
   "source": [
    "l1 = [1,2,3,4,5,6,7,8,9]\n",
    "l2 = [\"a\",\"b\",\"c\",\"d\"]\n",
    "\n",
    "list(zip(l1, l2))"
   ]
  },
  {
   "cell_type": "code",
   "execution_count": 16,
   "id": "beb534c8-bf86-497b-a0d1-d0e028f4ee28",
   "metadata": {},
   "outputs": [
    {
     "data": {
      "text/plain": [
       "[(1, 'a'), (2, 'b'), (3, 'c'), (4, 'd')]"
      ]
     },
     "execution_count": 16,
     "metadata": {},
     "output_type": "execute_result"
    }
   ],
   "source": [
    "[(el_1, el_2) for i_1, el_1 in enumerate(l1) for i_2, el_2 in enumerate(l2) if i_1 == i_2]"
   ]
  },
  {
   "cell_type": "code",
   "execution_count": 17,
   "id": "fc6b192c-58e2-4d81-bd22-a10706e55ab7",
   "metadata": {},
   "outputs": [
    {
     "data": {
      "text/plain": [
       "120"
      ]
     },
     "execution_count": 17,
     "metadata": {},
     "output_type": "execute_result"
    }
   ],
   "source": [
    "# calculate the dot product of two vectors of n space\n",
    "# v1 . v2 = c1 * d1 + c2 * d2 + ... + cn * dn\n",
    "v1 = [1,2,3,4,5,6,7,8]\n",
    "v2 = [8,7,6,5,4,3,2,1]\n",
    "\n",
    "\n",
    "sum(i * j for i, j in zip(v1, v2))"
   ]
  },
  {
   "cell_type": "markdown",
   "id": "b617e5fa-d331-4e45-a245-8ecabce6f70e",
   "metadata": {},
   "source": [
    "### Watch out! List comprehentions can be a closure (since it's a regular function underneeth)"
   ]
  },
  {
   "cell_type": "code",
   "execution_count": 18,
   "id": "f3ee47bb-9ef9-4840-a054-a8fd17cc359e",
   "metadata": {},
   "outputs": [],
   "source": [
    "l = []\n",
    "for number in range(5):\n",
    "    l.append(number ** 2)"
   ]
  },
  {
   "cell_type": "code",
   "execution_count": 19,
   "id": "2a9ca84d-bc65-4cf3-87fd-c4a04ae29530",
   "metadata": {},
   "outputs": [
    {
     "data": {
      "text/plain": [
       "(4, [0, 1, 4, 9, 16])"
      ]
     },
     "execution_count": 19,
     "metadata": {},
     "output_type": "execute_result"
    }
   ],
   "source": [
    "number, l"
   ]
  },
  {
   "cell_type": "code",
   "execution_count": 20,
   "id": "ff07d3b2-f6be-4603-82f6-ee4544f8c767",
   "metadata": {},
   "outputs": [],
   "source": [
    "if \"number\" in globals():\n",
    "    del number"
   ]
  },
  {
   "cell_type": "code",
   "execution_count": 21,
   "id": "754ab896-2276-446a-b4c2-b99fa817947f",
   "metadata": {},
   "outputs": [],
   "source": [
    "l = [number ** 2 for number in range(5)]"
   ]
  },
  {
   "cell_type": "code",
   "execution_count": 22,
   "id": "a7c90101-5e38-40cb-8359-101e17cd4635",
   "metadata": {},
   "outputs": [
    {
     "data": {
      "text/plain": [
       "[0, 1, 4, 9, 16]"
      ]
     },
     "execution_count": 22,
     "metadata": {},
     "output_type": "execute_result"
    }
   ],
   "source": [
    "l"
   ]
  },
  {
   "cell_type": "code",
   "execution_count": 23,
   "id": "b9a10cce-40e9-48b1-9899-a138546c08a5",
   "metadata": {},
   "outputs": [
    {
     "data": {
      "text/plain": [
       "False"
      ]
     },
     "execution_count": 23,
     "metadata": {},
     "output_type": "execute_result"
    }
   ],
   "source": [
    "# number symbol is local to the comprehention, doesn't exist in global scope\n",
    "\"number\" in globals()"
   ]
  },
  {
   "cell_type": "code",
   "execution_count": 24,
   "id": "0c001d38-69d8-4dc8-9690-7e6d9a24fe0f",
   "metadata": {},
   "outputs": [
    {
     "data": {
      "text/plain": [
       "[0, 1, 4, 9, 16]"
      ]
     },
     "execution_count": 24,
     "metadata": {},
     "output_type": "execute_result"
    }
   ],
   "source": [
    "number = 100\n",
    "[number ** 2 for number in range(5)]"
   ]
  },
  {
   "cell_type": "code",
   "execution_count": 25,
   "id": "f449fe20-2878-4262-b4df-800369f9f44b",
   "metadata": {},
   "outputs": [
    {
     "data": {
      "text/plain": [
       "100"
      ]
     },
     "execution_count": 25,
     "metadata": {},
     "output_type": "execute_result"
    }
   ],
   "source": [
    "number"
   ]
  },
  {
   "cell_type": "code",
   "execution_count": 26,
   "id": "54289da9-a321-42bc-88a4-8491c2136392",
   "metadata": {},
   "outputs": [
    {
     "data": {
      "text/plain": [
       "[0, 100, 200, 300, 400]"
      ]
     },
     "execution_count": 26,
     "metadata": {},
     "output_type": "execute_result"
    }
   ],
   "source": [
    "[number * i for i in range(5)]"
   ]
  },
  {
   "cell_type": "code",
   "execution_count": 27,
   "id": "0c726697-0af0-49fe-a7dd-5b4953bdbd24",
   "metadata": {},
   "outputs": [],
   "source": [
    "# creation of many functions - maybe we should use a loop? ;)\n",
    "fn_0 = lambda x: x ** 0\n",
    "fn_1 = lambda x: x ** 1\n",
    "fn_2 = lambda x: x ** 2\n",
    "fn_3 = lambda x: x ** 3"
   ]
  },
  {
   "cell_type": "code",
   "execution_count": 28,
   "id": "cd23342a-e2e5-42f6-b09e-ea97d2554842",
   "metadata": {},
   "outputs": [],
   "source": [
    "# i is extarnal to the lambda!\n",
    "funcs = [lambda x: x ** i for i in range(5)]"
   ]
  },
  {
   "cell_type": "code",
   "execution_count": 29,
   "id": "85b99922-bac0-4c71-8838-e495d6671f02",
   "metadata": {},
   "outputs": [
    {
     "data": {
      "text/plain": [
       "[<function __main__.<lambda>(x)>,\n",
       " <function __main__.<lambda>(x)>,\n",
       " <function __main__.<lambda>(x)>,\n",
       " <function __main__.<lambda>(x)>,\n",
       " <function __main__.<lambda>(x)>]"
      ]
     },
     "execution_count": 29,
     "metadata": {},
     "output_type": "execute_result"
    }
   ],
   "source": [
    "funcs"
   ]
  },
  {
   "cell_type": "code",
   "execution_count": 30,
   "id": "bb4642b8-ab4f-4bd9-8f51-7dd6341cbe5b",
   "metadata": {},
   "outputs": [
    {
     "name": "stdout",
     "output_type": "stream",
     "text": [
      "10000\n",
      "10000\n",
      "10000\n",
      "10000\n",
      "10000\n"
     ]
    }
   ],
   "source": [
    "# now unexpected happends :) - every function has exponent equal to last value of i!\n",
    "for n in range(5):\n",
    "    print(funcs[n](10))\n",
    "\n",
    "# that happens because `i` is extarnal to the lambda function, each lambda references same i"
   ]
  },
  {
   "cell_type": "code",
   "execution_count": 31,
   "id": "62f8e12c-bf04-4bf3-9f91-04cc7eb8c773",
   "metadata": {},
   "outputs": [],
   "source": [
    "# it can be fixed by passing default value into the lambda\n",
    "# so now when function is compuled, default value will be asigned\n",
    "funcs = [lambda x, p=i: x ** p for i in range(5)]"
   ]
  },
  {
   "cell_type": "code",
   "execution_count": 32,
   "id": "9335f7c3-be37-40ec-b779-fae16ade6c9a",
   "metadata": {},
   "outputs": [
    {
     "name": "stdout",
     "output_type": "stream",
     "text": [
      "1\n",
      "10\n",
      "100\n",
      "1000\n",
      "10000\n"
     ]
    }
   ],
   "source": [
    "for n in range(5):\n",
    "    print(funcs[n](10))"
   ]
  },
  {
   "cell_type": "code",
   "execution_count": null,
   "id": "d856c56f-4e3f-46a8-9f99-74878dc623a2",
   "metadata": {},
   "outputs": [],
   "source": []
  }
 ],
 "metadata": {
  "kernelspec": {
   "display_name": "Python 3 (ipykernel)",
   "language": "python",
   "name": "python3"
  },
  "language_info": {
   "codemirror_mode": {
    "name": "ipython",
    "version": 3
   },
   "file_extension": ".py",
   "mimetype": "text/x-python",
   "name": "python",
   "nbconvert_exporter": "python",
   "pygments_lexer": "ipython3",
   "version": "3.12.3"
  }
 },
 "nbformat": 4,
 "nbformat_minor": 5
}
