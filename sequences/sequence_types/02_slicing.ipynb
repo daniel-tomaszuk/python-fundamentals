{
 "cells": [
  {
   "cell_type": "markdown",
   "id": "a0df1b0a-ffb1-4d0c-909e-ee5afe4ea238",
   "metadata": {},
   "source": [
    "### Slicing\n",
    "    - depends on indexing - only works for sequence types\n",
    "    - slice definition [i:j] is an object of type slice"
   ]
  },
  {
   "cell_type": "code",
   "execution_count": 2,
   "id": "76d1ca9d-0a4f-48e9-937f-c77196707dcd",
   "metadata": {},
   "outputs": [
    {
     "data": {
      "text/plain": [
       "slice"
      ]
     },
     "execution_count": 2,
     "metadata": {},
     "output_type": "execute_result"
    }
   ],
   "source": [
    "s = slice(0,2)\n",
    "type(s)"
   ]
  },
  {
   "cell_type": "code",
   "execution_count": 3,
   "id": "d327beb1-2a98-4980-8bf0-3d4dc72c3863",
   "metadata": {},
   "outputs": [
    {
     "data": {
      "text/plain": [
       "(0, 2, None)"
      ]
     },
     "execution_count": 3,
     "metadata": {},
     "output_type": "execute_result"
    }
   ],
   "source": [
    "s.start, s.stop, s.step"
   ]
  },
  {
   "cell_type": "code",
   "execution_count": 4,
   "id": "7aea8db1-aff9-4f05-a89a-9393996f1205",
   "metadata": {},
   "outputs": [
    {
     "data": {
      "text/plain": [
       "[1, 2]"
      ]
     },
     "execution_count": 4,
     "metadata": {},
     "output_type": "execute_result"
    }
   ],
   "source": [
    "l = [1,2,3,4,5]\n",
    "l[0:2]"
   ]
  },
  {
   "cell_type": "code",
   "execution_count": 5,
   "id": "963cde73-2c88-49e2-8e7b-aad52448b559",
   "metadata": {},
   "outputs": [
    {
     "data": {
      "text/plain": [
       "[1, 2]"
      ]
     },
     "execution_count": 5,
     "metadata": {},
     "output_type": "execute_result"
    }
   ],
   "source": [
    "l[s]"
   ]
  },
  {
   "cell_type": "code",
   "execution_count": 8,
   "id": "70faf8d8-1468-417b-b16c-2f6f697fa52d",
   "metadata": {},
   "outputs": [],
   "source": [
    "# hardcoded incexes are not perfect..\n",
    "\n",
    "data = []\n",
    "for row in data:\n",
    "    first_name = row[0:51]\n",
    "    last_name = row[51:101]\n",
    "    social_security = row[101:111]\n",
    "\n",
    "# cleaner way\n",
    "range_first_name = slice(0, 51)\n",
    "range_last_name = slice(51, 101)\n",
    "range_social = slice(101, 111)\n"
   ]
  },
  {
   "cell_type": "code",
   "execution_count": 9,
   "id": "12886f9b-9549-4912-96f5-df7e714cb9b4",
   "metadata": {},
   "outputs": [
    {
     "data": {
      "text/plain": [
       "'p'"
      ]
     },
     "execution_count": 9,
     "metadata": {},
     "output_type": "execute_result"
    }
   ],
   "source": [
    "l = \"python\"\n",
    "l[0:1]"
   ]
  },
  {
   "cell_type": "code",
   "execution_count": 10,
   "id": "ed4f6aac-cf85-409a-b5bc-70bf24951144",
   "metadata": {},
   "outputs": [
    {
     "data": {
      "text/plain": [
       "''"
      ]
     },
     "execution_count": 10,
     "metadata": {},
     "output_type": "execute_result"
    }
   ],
   "source": [
    "l[1:1]"
   ]
  },
  {
   "cell_type": "code",
   "execution_count": 11,
   "id": "1fcab033-5f94-4b31-acd6-67bfab3c5c9d",
   "metadata": {},
   "outputs": [
    {
     "data": {
      "text/plain": [
       "'python'"
      ]
     },
     "execution_count": 11,
     "metadata": {},
     "output_type": "execute_result"
    }
   ],
   "source": [
    "l[0:100]"
   ]
  },
  {
   "cell_type": "code",
   "execution_count": 13,
   "id": "13035ce1-a1bb-4da6-b3d2-33beba548594",
   "metadata": {},
   "outputs": [
    {
     "data": {
      "text/plain": [
       "'pto'"
      ]
     },
     "execution_count": 13,
     "metadata": {},
     "output_type": "execute_result"
    }
   ],
   "source": [
    "l[0:6:2]"
   ]
  },
  {
   "cell_type": "code",
   "execution_count": 14,
   "id": "01a9f397-c918-4ea5-a7e3-2747e04d13b1",
   "metadata": {},
   "outputs": [
    {
     "data": {
      "text/plain": [
       "'pto'"
      ]
     },
     "execution_count": 14,
     "metadata": {},
     "output_type": "execute_result"
    }
   ],
   "source": [
    "s1 = slice(0,6,2)\n",
    "l[s1]"
   ]
  },
  {
   "cell_type": "code",
   "execution_count": 16,
   "id": "afbc8cd3-e899-4bd3-878c-95abbb11b9c5",
   "metadata": {},
   "outputs": [
    {
     "data": {
      "text/plain": [
       "'python'"
      ]
     },
     "execution_count": 16,
     "metadata": {},
     "output_type": "execute_result"
    }
   ],
   "source": [
    "l[:]"
   ]
  },
  {
   "cell_type": "code",
   "execution_count": 17,
   "id": "73ec8555-d87f-4f43-bd59-477b9bcba869",
   "metadata": {},
   "outputs": [],
   "source": [
    "s1 = slice(None, 4)"
   ]
  },
  {
   "cell_type": "code",
   "execution_count": 18,
   "id": "320ea124-7d91-4897-b418-a225f00a63f1",
   "metadata": {},
   "outputs": [
    {
     "data": {
      "text/plain": [
       "'pyth'"
      ]
     },
     "execution_count": 18,
     "metadata": {},
     "output_type": "execute_result"
    }
   ],
   "source": [
    "l[s1]"
   ]
  },
  {
   "cell_type": "code",
   "execution_count": 19,
   "id": "ae7fd18e-8d62-4804-98f4-287d15c50d35",
   "metadata": {},
   "outputs": [
    {
     "data": {
      "text/plain": [
       "'pyth'"
      ]
     },
     "execution_count": 19,
     "metadata": {},
     "output_type": "execute_result"
    }
   ],
   "source": [
    "l[None:4]"
   ]
  },
  {
   "cell_type": "code",
   "execution_count": 20,
   "id": "94063d8d-6999-4e32-aa4d-5f755287db4b",
   "metadata": {},
   "outputs": [
    {
     "data": {
      "text/plain": [
       "'hon'"
      ]
     },
     "execution_count": 20,
     "metadata": {},
     "output_type": "execute_result"
    }
   ],
   "source": [
    "l[3:]"
   ]
  },
  {
   "cell_type": "code",
   "execution_count": 21,
   "id": "7ab36c89-1c9a-45a3-a91c-a272df1191ce",
   "metadata": {},
   "outputs": [
    {
     "data": {
      "text/plain": [
       "'hty'"
      ]
     },
     "execution_count": 21,
     "metadata": {},
     "output_type": "execute_result"
    }
   ],
   "source": [
    "l[3:0:-1]"
   ]
  },
  {
   "cell_type": "code",
   "execution_count": 22,
   "id": "058a70d5-5874-4cd5-ba65-b779c0eac33b",
   "metadata": {},
   "outputs": [
    {
     "data": {
      "text/plain": [
       "'htyp'"
      ]
     },
     "execution_count": 22,
     "metadata": {},
     "output_type": "execute_result"
    }
   ],
   "source": [
    "l[3::-1]"
   ]
  },
  {
   "cell_type": "code",
   "execution_count": 23,
   "id": "0c107f1c-f89c-4574-9dda-ff03bcbe2101",
   "metadata": {},
   "outputs": [
    {
     "data": {
      "text/plain": [
       "''"
      ]
     },
     "execution_count": 23,
     "metadata": {},
     "output_type": "execute_result"
    }
   ],
   "source": [
    "l[3:-1:-1]  # -1 on second place represents last element "
   ]
  },
  {
   "cell_type": "code",
   "execution_count": 24,
   "id": "fa432bd7-c7df-44ce-8e15-64e6f6eec77e",
   "metadata": {},
   "outputs": [
    {
     "data": {
      "text/plain": [
       "'htyp'"
      ]
     },
     "execution_count": 24,
     "metadata": {},
     "output_type": "execute_result"
    }
   ],
   "source": [
    "l[3:-100:-1]"
   ]
  },
  {
   "cell_type": "code",
   "execution_count": 25,
   "id": "10d9eb5e-6de6-4055-92f8-174953bf3d17",
   "metadata": {},
   "outputs": [
    {
     "data": {
      "text/plain": [
       "(0, 2, None)"
      ]
     },
     "execution_count": 25,
     "metadata": {},
     "output_type": "execute_result"
    }
   ],
   "source": [
    "s1 = slice(1,5)\n",
    "s.start, s.stop, s.step"
   ]
  },
  {
   "cell_type": "code",
   "execution_count": 29,
   "id": "b58d4907-f2c6-4cc7-9c14-0ba2b5dac33e",
   "metadata": {},
   "outputs": [
    {
     "data": {
      "text/plain": [
       "(1, 5, 1)"
      ]
     },
     "execution_count": 29,
     "metadata": {},
     "output_type": "execute_result"
    }
   ],
   "source": [
    "s1.indices(10)"
   ]
  },
  {
   "cell_type": "code",
   "execution_count": 31,
   "id": "4612e006-9e95-4802-92dd-83bbb12e46fd",
   "metadata": {},
   "outputs": [
    {
     "data": {
      "text/plain": [
       "(1, 4, 1)"
      ]
     },
     "execution_count": 31,
     "metadata": {},
     "output_type": "execute_result"
    }
   ],
   "source": [
    "s1.indices(4)"
   ]
  },
  {
   "cell_type": "code",
   "execution_count": 33,
   "id": "dabd9c89-35cb-4f38-b15a-da803ef38946",
   "metadata": {},
   "outputs": [
    {
     "data": {
      "text/plain": [
       "[0, 2, 4, 6, 8]"
      ]
     },
     "execution_count": 33,
     "metadata": {},
     "output_type": "execute_result"
    }
   ],
   "source": [
    "list(range(*slice(0,100,2).indices(10)))"
   ]
  },
  {
   "cell_type": "code",
   "execution_count": 35,
   "id": "6fcca523-bb86-4c2e-982f-f882ff45ba8f",
   "metadata": {},
   "outputs": [
    {
     "data": {
      "text/plain": [
       "(3, 5, -1)"
      ]
     },
     "execution_count": 35,
     "metadata": {},
     "output_type": "execute_result"
    }
   ],
   "source": [
    "s1 = slice(3, -1, -1)\n",
    "l = 6\n",
    "\n",
    "s1.indices(l)  # it's not possible to get from 3 to 5 goint in a -1 step! Returned object will be empty"
   ]
  }
 ],
 "metadata": {
  "kernelspec": {
   "display_name": "Python 3 (ipykernel)",
   "language": "python",
   "name": "python3"
  },
  "language_info": {
   "codemirror_mode": {
    "name": "ipython",
    "version": 3
   },
   "file_extension": ".py",
   "mimetype": "text/x-python",
   "name": "python",
   "nbconvert_exporter": "python",
   "pygments_lexer": "ipython3",
   "version": "3.12.3"
  }
 },
 "nbformat": 4,
 "nbformat_minor": 5
}
