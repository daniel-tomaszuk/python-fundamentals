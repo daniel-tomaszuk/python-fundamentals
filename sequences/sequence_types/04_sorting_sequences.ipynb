{
 "cells": [
  {
   "cell_type": "markdown",
   "id": "50845443-1988-4e25-be41-426373aaeea2",
   "metadata": {},
   "source": [
    "### Sorting sequences"
   ]
  },
  {
   "cell_type": "code",
   "execution_count": 1,
   "id": "4ea8a9a9-3b9c-4f91-9499-f7ebac38f84f",
   "metadata": {},
   "outputs": [
    {
     "data": {
      "text/plain": [
       "[-1234, -1231, -10, 1, 10, 22, 23, 123, 123, 1245124]"
      ]
     },
     "execution_count": 1,
     "metadata": {},
     "output_type": "execute_result"
    }
   ],
   "source": [
    "t = 10,22,1,23,-10,123,-1234,123,-1231,1245124\n",
    "sorted(t)  # uses powersort (timsort in previous Python versions)"
   ]
  },
  {
   "cell_type": "code",
   "execution_count": 2,
   "id": "c2ef6cdf-05e5-4ac7-9909-743c71112836",
   "metadata": {},
   "outputs": [
    {
     "data": {
      "text/plain": [
       "[1, 2, 3]"
      ]
     },
     "execution_count": 2,
     "metadata": {},
     "output_type": "execute_result"
    }
   ],
   "source": [
    "d = {3: 100, 2: 200, 1:10}\n",
    "sorted(d)"
   ]
  },
  {
   "cell_type": "code",
   "execution_count": 3,
   "id": "42126246-d26e-41f4-bc5f-8eb45b25e121",
   "metadata": {},
   "outputs": [
    {
     "data": {
      "text/plain": [
       "['c', 'b', 'a']"
      ]
     },
     "execution_count": 3,
     "metadata": {},
     "output_type": "execute_result"
    }
   ],
   "source": [
    "d = {\"a\": 100, \"b\": 50, \"c\": 2}\n",
    "sorted(d, key=lambda k: d[k])"
   ]
  },
  {
   "cell_type": "code",
   "execution_count": 4,
   "id": "68e778a2-1978-438d-bb0d-c20bb475223c",
   "metadata": {},
   "outputs": [
    {
     "data": {
      "text/plain": [
       "['A', 'bird', 'is', 'late', 'parrot', 'this']"
      ]
     },
     "execution_count": 4,
     "metadata": {},
     "output_type": "execute_result"
    }
   ],
   "source": [
    "t = \"this\", \"parrot\", \"is\", \"A\", \"late\", \"bird\"\n",
    "sorted(t)"
   ]
  },
  {
   "cell_type": "code",
   "execution_count": 5,
   "id": "68f0b65e-b098-4512-a64a-054b6d7b2fab",
   "metadata": {},
   "outputs": [
    {
     "data": {
      "text/plain": [
       "['A', 'is', 'this', 'late', 'bird', 'parrot']"
      ]
     },
     "execution_count": 5,
     "metadata": {},
     "output_type": "execute_result"
    }
   ],
   "source": [
    "sorted(t, key=lambda s: len(s))"
   ]
  },
  {
   "cell_type": "code",
   "execution_count": 6,
   "id": "a0ab92f0-f41f-4d66-869c-bb67e84cb076",
   "metadata": {},
   "outputs": [
    {
     "data": {
      "text/plain": [
       "[(1+1j), (2+2j), (3+10j)]"
      ]
     },
     "execution_count": 6,
     "metadata": {},
     "output_type": "execute_result"
    }
   ],
   "source": [
    "\n",
    "t = 1+1j, 2+2j, 3+10j\n",
    "sorted(t, key=abs)"
   ]
  },
  {
   "cell_type": "code",
   "execution_count": 7,
   "id": "67f04649-bf5b-4c08-94d4-917a0eaf591c",
   "metadata": {},
   "outputs": [
    {
     "data": {
      "text/plain": [
       "[(3+10j), (2+2j), (1+1j)]"
      ]
     },
     "execution_count": 7,
     "metadata": {},
     "output_type": "execute_result"
    }
   ],
   "source": [
    "sorted(t, key=lambda c: c.imag, reverse=True)"
   ]
  },
  {
   "cell_type": "code",
   "execution_count": 8,
   "id": "8a327292-c067-4884-8753-652141c07cbd",
   "metadata": {},
   "outputs": [],
   "source": [
    "l = [1,3,-1,-10,33,13,-123]\n",
    "l.sort()  # mutates, does not create a new list"
   ]
  },
  {
   "cell_type": "code",
   "execution_count": 9,
   "id": "26f60927-e0a3-40bc-98f2-58bd2d5b088e",
   "metadata": {},
   "outputs": [
    {
     "data": {
      "text/plain": [
       "[-123, -10, -1, 1, 3, 13, 33]"
      ]
     },
     "execution_count": 9,
     "metadata": {},
     "output_type": "execute_result"
    }
   ],
   "source": [
    "l"
   ]
  },
  {
   "cell_type": "code",
   "execution_count": 10,
   "id": "53f8d1c6-4803-430d-9426-c0ecc0083e95",
   "metadata": {},
   "outputs": [],
   "source": [
    "import random\n",
    "from timeit import timeit\n",
    "\n",
    "random.seed(0)\n",
    "n = 10_000_000\n",
    "l = [random.randint(0, 100) for n in range(n)]"
   ]
  },
  {
   "cell_type": "code",
   "execution_count": 11,
   "id": "bbc45feb-d542-4d3f-a748-854c05eb1eb0",
   "metadata": {},
   "outputs": [
    {
     "data": {
      "text/plain": [
       "1.369348804000765"
      ]
     },
     "execution_count": 11,
     "metadata": {},
     "output_type": "execute_result"
    }
   ],
   "source": [
    "timeit(stmt=\"sorted(l)\", globals={\"l\": l}, number=1)"
   ]
  },
  {
   "cell_type": "code",
   "execution_count": 12,
   "id": "6d2f1a37-0093-4729-a819-ca5bec4c7cf7",
   "metadata": {},
   "outputs": [
    {
     "data": {
      "text/plain": [
       "1.2411329700044007"
      ]
     },
     "execution_count": 12,
     "metadata": {},
     "output_type": "execute_result"
    }
   ],
   "source": [
    "timeit(stmt=\"l.sort()\", globals={\"l\": l}, number=1)"
   ]
  },
  {
   "cell_type": "code",
   "execution_count": 13,
   "id": "09883712-d4ee-4502-8524-c3cecce4c457",
   "metadata": {},
   "outputs": [
    {
     "data": {
      "text/plain": [
       "0.04324915399774909"
      ]
     },
     "execution_count": 13,
     "metadata": {},
     "output_type": "execute_result"
    }
   ],
   "source": [
    "timeit(stmt=\"l.sort()\", globals={\"l\": l}, number=1)"
   ]
  },
  {
   "cell_type": "code",
   "execution_count": 14,
   "id": "29d9a092-974c-43dc-817c-978f5bcf2402",
   "metadata": {},
   "outputs": [],
   "source": [
    "class MyClass:\n",
    "    def __init__(self, name, value):\n",
    "        self.name = name\n",
    "        self.value = value\n",
    "\n",
    "    def __repr__(self):\n",
    "        return f\"{type(self).__name__}(name={self.name}, value={self.value})\"\n",
    "\n",
    "    def __lt__(self, other):\n",
    "        return self.value < other.value\n",
    "\n",
    "    def __eq__(self, other):\n",
    "        return self.value == other.value\n",
    "        "
   ]
  },
  {
   "cell_type": "code",
   "execution_count": 15,
   "id": "7a81860e-df38-4300-95cf-5922cb0a22bb",
   "metadata": {},
   "outputs": [],
   "source": [
    "c1 = MyClass(\"c1\", 20)\n",
    "c2 = MyClass(\"c2\", 10)\n",
    "c3 = MyClass(\"c3\", 200)\n",
    "c4 = MyClass(\"c4\", 10)"
   ]
  },
  {
   "cell_type": "code",
   "execution_count": 16,
   "id": "4eace4fe-860e-4d0e-86f9-3a373f05a929",
   "metadata": {},
   "outputs": [
    {
     "data": {
      "text/plain": [
       "[MyClass(name=c2, value=10),\n",
       " MyClass(name=c4, value=10),\n",
       " MyClass(name=c1, value=20),\n",
       " MyClass(name=c3, value=200)]"
      ]
     },
     "execution_count": 16,
     "metadata": {},
     "output_type": "execute_result"
    }
   ],
   "source": [
    "l = [c1, c2, c3, c4]\n",
    "sorted(l)"
   ]
  },
  {
   "cell_type": "code",
   "execution_count": 17,
   "id": "a217bf4f-7bc4-4a43-8622-b5ea5368d2d1",
   "metadata": {},
   "outputs": [
    {
     "data": {
      "text/plain": [
       "[MyClass(name=c1, value=20),\n",
       " MyClass(name=c2, value=10),\n",
       " MyClass(name=c3, value=200),\n",
       " MyClass(name=c4, value=10)]"
      ]
     },
     "execution_count": 17,
     "metadata": {},
     "output_type": "execute_result"
    }
   ],
   "source": [
    "sorted(l, key=lambda c: c.name)"
   ]
  },
  {
   "cell_type": "code",
   "execution_count": null,
   "id": "fca22305-1971-485b-a072-0006e6a54364",
   "metadata": {},
   "outputs": [],
   "source": []
  }
 ],
 "metadata": {
  "kernelspec": {
   "display_name": "Python 3 (ipykernel)",
   "language": "python",
   "name": "python3"
  },
  "language_info": {
   "codemirror_mode": {
    "name": "ipython",
    "version": 3
   },
   "file_extension": ".py",
   "mimetype": "text/x-python",
   "name": "python",
   "nbconvert_exporter": "python",
   "pygments_lexer": "ipython3",
   "version": "3.12.3"
  }
 },
 "nbformat": 4,
 "nbformat_minor": 5
}
