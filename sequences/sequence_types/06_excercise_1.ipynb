{
 "cells": [
  {
   "cell_type": "code",
   "execution_count": 1,
   "id": "822e9f1a-2a85-4e7d-bb53-7b0c9a95d426",
   "metadata": {},
   "outputs": [],
   "source": [
    "import math\n",
    "\n",
    "\n",
    "class Polygon:\n",
    "    \"\"\"\n",
    "    Implememnt strictly convex polygon. All sides have equal len and all angles are less than 180 deg\n",
    "    \"\"\"\n",
    "    def __init__(self, n: int, r: float):\n",
    "        \"\"\"\n",
    "        n: int - number of edges / vertices\n",
    "        r: circumradious \n",
    "        \"\"\"\n",
    "        if n <= 2 or r <= 0:\n",
    "            raise ValueError(\n",
    "                f\"{type(self).__name__} expects edges / vertices and circumradious values to be positive. Number of edges / vertices must be greater than 2.\"\n",
    "            )\n",
    "        self._n = n\n",
    "        self._r = r\n",
    "\n",
    "    @property\n",
    "    def edges(self):\n",
    "        return self._n\n",
    "\n",
    "    @property\n",
    "    def vertices(self):\n",
    "        return self._n\n",
    "\n",
    "    @property\n",
    "    def circumradious(self):\n",
    "        return self._r\n",
    "    \n",
    "    @property\n",
    "    def interior_angle(self):\n",
    "        \"\"\"\n",
    "        Interior angle = (n - 2) * 180 / n\n",
    "        \"\"\"\n",
    "        return (self.edges - 2) * (180 / self.edges)\n",
    "\n",
    "    @property\n",
    "    def edge_length(self):\n",
    "        \"\"\"\n",
    "        edge length: s = 2rsin(pi / n)\n",
    "        \"\"\"\n",
    "        return 2 * self.circumradious * math.sin(math.pi / self.edges)\n",
    "\n",
    "    @property\n",
    "    def apothem(self):\n",
    "        \"\"\"\n",
    "        apothem a = rcos(pi / n)\n",
    "        \"\"\"\n",
    "        return self.circumradious * math.cos(math.pi / self.edges)\n",
    "\n",
    "    @property\n",
    "    def area(self):\n",
    "        \"\"\"\n",
    "        area = 0.5 * edges_count * edge_length * apothem\n",
    "        \"\"\"\n",
    "        return 0.5 * self.edges * self.edge_length * self.apothem\n",
    "\n",
    "    @property\n",
    "    def perimeter(self):\n",
    "        \"\"\"\n",
    "        perimater = n * s\n",
    "        \"\"\"\n",
    "        return self.edges * self.edge_length\n",
    "        \n",
    "    def __repr__(self):\n",
    "        return f\"{type(self).__name__}({self.edges},{self.circumradious})\"\n",
    "\n",
    "    def __eq__(self, other: \"Polygon\") -> bool:\n",
    "        return self.edges == other.edges and self.circumradious == other.circumradious\n",
    "\n",
    "    def __gt__(self, other: \"Polygon\") -> bool:\n",
    "        return self.edges == other.edges\n"
   ]
  },
  {
   "cell_type": "code",
   "execution_count": 2,
   "id": "e17c69bf-56e4-443e-af98-7e940e5562f2",
   "metadata": {},
   "outputs": [],
   "source": [
    "p1 = Polygon(10, 5)\n",
    "p2 = Polygon(4, 10)"
   ]
  },
  {
   "cell_type": "code",
   "execution_count": 3,
   "id": "1fe717a0-87ab-4cd8-83fa-05dae3a2a441",
   "metadata": {},
   "outputs": [
    {
     "data": {
      "text/plain": [
       "(Polygon(10,5), Polygon(4,10))"
      ]
     },
     "execution_count": 3,
     "metadata": {},
     "output_type": "execute_result"
    }
   ],
   "source": [
    "p1, p2"
   ]
  },
  {
   "cell_type": "code",
   "execution_count": 4,
   "id": "c5794af4-e5ac-40cb-99e7-e8f5d8ae2a30",
   "metadata": {},
   "outputs": [
    {
     "data": {
      "text/plain": [
       "(10, 10, 144.0, 4.755282581475767, 73.47315653655913, 30.90169943749474)"
      ]
     },
     "execution_count": 4,
     "metadata": {},
     "output_type": "execute_result"
    }
   ],
   "source": [
    "p1.edges, p1.vertices, p1.interior_angle, p1.apothem, p1.area, p1.perimeter"
   ]
  },
  {
   "cell_type": "code",
   "execution_count": 5,
   "id": "fab50eb2-e58a-434e-ad90-de392057ebc6",
   "metadata": {},
   "outputs": [
    {
     "data": {
      "text/plain": [
       "[Polygon(10,5), Polygon(4,10)]"
      ]
     },
     "execution_count": 5,
     "metadata": {},
     "output_type": "execute_result"
    }
   ],
   "source": [
    "sorted([p1, p2])"
   ]
  },
  {
   "cell_type": "code",
   "execution_count": 6,
   "id": "1e3cdd08-8e86-4c9a-9890-4163c13cdcb5",
   "metadata": {},
   "outputs": [
    {
     "name": "stdout",
     "output_type": "stream",
     "text": [
      "Polygon expects edges / vertices and circumradious values to be positive. Number of edges / vertices must be greater than 2.\n"
     ]
    }
   ],
   "source": [
    "try:\n",
    "    Polygon(2, 10)\n",
    "except ValueError as e:\n",
    "    print(e)"
   ]
  },
  {
   "cell_type": "code",
   "execution_count": 7,
   "id": "9d0f0167-c3f2-4ee3-89c1-d95e33495ebc",
   "metadata": {},
   "outputs": [],
   "source": [
    "class Polygons:\n",
    "    def __init__(self, max_vertices: int, circumradious: float):\n",
    "        if max_vertices <= 2 or circumradious <= 0:\n",
    "            raise ValueError(\n",
    "                \"Polygons sequence must be initialized with max vertices greater than 2 and circumradious grater than 0.\"\n",
    "            )\n",
    "        \n",
    "        self.max_vertices = max_vertices\n",
    "        self.circumradious = circumradious\n",
    "        self.polygons = [Polygon(v, self.circumradious) for v in range(3, self.max_vertices + 1)]\n",
    "\n",
    "    @property\n",
    "    def max_efficiency_polygon(self):\n",
    "        return sorted(self.polygons, key=lambda p: p.area / p.perimeter, reverse=True)[0]\n",
    "\n",
    "    def __getitem__(self, s: int | slice):\n",
    "        return self.polygons[s]\n",
    "\n",
    "    def __len__(self):\n",
    "        return len(self.polygons)\n",
    "\n",
    "    def __repr__(self):\n",
    "        return f\"{type(self).__name__}({self.max_vertices},{self.circumradious})\""
   ]
  },
  {
   "cell_type": "code",
   "execution_count": 8,
   "id": "ccf2254e-fb50-4aca-be37-dfd3ee1ea8e0",
   "metadata": {},
   "outputs": [
    {
     "data": {
      "text/plain": [
       "Polygons(1000000,1)"
      ]
     },
     "execution_count": 8,
     "metadata": {},
     "output_type": "execute_result"
    }
   ],
   "source": [
    "pp = Polygons(1_000_000, 1)\n",
    "pp"
   ]
  },
  {
   "cell_type": "code",
   "execution_count": 9,
   "id": "05c87688-c813-4eb9-8b9a-29b881f536aa",
   "metadata": {},
   "outputs": [
    {
     "data": {
      "text/plain": [
       "Polygon(999992,1)"
      ]
     },
     "execution_count": 9,
     "metadata": {},
     "output_type": "execute_result"
    }
   ],
   "source": [
    "max_ = pp.max_efficiency_polygon\n",
    "max_ "
   ]
  },
  {
   "cell_type": "code",
   "execution_count": 10,
   "id": "7f0fb716-6f68-4bcf-a44d-5d5e3d6f6180",
   "metadata": {},
   "outputs": [
    {
     "data": {
      "text/plain": [
       "3.141592653569122"
      ]
     },
     "execution_count": 10,
     "metadata": {},
     "output_type": "execute_result"
    }
   ],
   "source": [
    "max_.area  # ;)"
   ]
  },
  {
   "cell_type": "code",
   "execution_count": 11,
   "id": "95ac32d4-9f81-47bb-af1e-bdab1aace9fb",
   "metadata": {},
   "outputs": [
    {
     "data": {
      "text/plain": [
       "(6.283235573053835e-06, 179.99963999711997)"
      ]
     },
     "execution_count": 11,
     "metadata": {},
     "output_type": "execute_result"
    }
   ],
   "source": [
    "max_.edge_length, max_.interior_angle  # basically a circle"
   ]
  },
  {
   "cell_type": "code",
   "execution_count": null,
   "id": "02209a8a-5c80-400e-859c-2fe2c229e78d",
   "metadata": {},
   "outputs": [],
   "source": []
  }
 ],
 "metadata": {
  "kernelspec": {
   "display_name": "Python 3 (ipykernel)",
   "language": "python",
   "name": "python3"
  },
  "language_info": {
   "codemirror_mode": {
    "name": "ipython",
    "version": 3
   },
   "file_extension": ".py",
   "mimetype": "text/x-python",
   "name": "python",
   "nbconvert_exporter": "python",
   "pygments_lexer": "ipython3",
   "version": "3.12.3"
  }
 },
 "nbformat": 4,
 "nbformat_minor": 5
}
