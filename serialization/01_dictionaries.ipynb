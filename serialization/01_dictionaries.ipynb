{
 "cells": [
  {
   "cell_type": "code",
   "execution_count": 1,
   "id": "391840cb-98c5-4a6e-8f39-a7e9a6ed1c07",
   "metadata": {},
   "outputs": [],
   "source": [
    "a = {\"k1\": 100, \"k2\": 200}  # keys insertion order holds for python above v3.5"
   ]
  },
  {
   "cell_type": "code",
   "execution_count": 2,
   "id": "bf004e29-33e8-4cb9-85a9-5949cf2ee69e",
   "metadata": {},
   "outputs": [
    {
     "name": "stdout",
     "output_type": "stream",
     "text": [
      "{'k1': 100, 'k2': 200}\n"
     ]
    },
    {
     "data": {
      "text/plain": [
       "(dict, None)"
      ]
     },
     "execution_count": 2,
     "metadata": {},
     "output_type": "execute_result"
    }
   ],
   "source": [
    "type(a), print(a)"
   ]
  },
  {
   "cell_type": "code",
   "execution_count": 3,
   "id": "4b9050b7-3ffc-48e0-ae3b-efd8a307c62c",
   "metadata": {},
   "outputs": [
    {
     "data": {
      "text/plain": [
       "529344067295497451"
      ]
     },
     "execution_count": 3,
     "metadata": {},
     "output_type": "execute_result"
    }
   ],
   "source": [
    "hash((1,2,3))"
   ]
  },
  {
   "cell_type": "code",
   "execution_count": 4,
   "id": "25aba67b-e4df-4556-8644-6d58dee3baff",
   "metadata": {},
   "outputs": [
    {
     "data": {
      "text/plain": [
       "529344067295497451"
      ]
     },
     "execution_count": 4,
     "metadata": {},
     "output_type": "execute_result"
    }
   ],
   "source": [
    "hash((1,2,3))"
   ]
  },
  {
   "cell_type": "code",
   "execution_count": 5,
   "id": "577892a1-ace0-44ba-8c35-35ae8b2c3669",
   "metadata": {},
   "outputs": [],
   "source": [
    "d = {(1,2,3): \"my tuple key - value pair\"}"
   ]
  },
  {
   "cell_type": "code",
   "execution_count": 6,
   "id": "b4921ed6-d441-4255-99f7-6685369dff98",
   "metadata": {},
   "outputs": [
    {
     "data": {
      "text/plain": [
       "'my tuple key - value pair'"
      ]
     },
     "execution_count": 6,
     "metadata": {},
     "output_type": "execute_result"
    }
   ],
   "source": [
    "d[(1,2,3)]"
   ]
  },
  {
   "cell_type": "code",
   "execution_count": 7,
   "id": "6157ee5c-adac-4637-9b83-4392617686e9",
   "metadata": {},
   "outputs": [
    {
     "data": {
      "text/plain": [
       "True"
      ]
     },
     "execution_count": 7,
     "metadata": {},
     "output_type": "execute_result"
    }
   ],
   "source": [
    "t1 = (1,2,3)\n",
    "t2 = (1,2,3)\n",
    "\n",
    "hash(t1) == hash(t2)"
   ]
  },
  {
   "cell_type": "code",
   "execution_count": 8,
   "id": "bb581bce-8750-4d52-9b64-abbfb72350a2",
   "metadata": {},
   "outputs": [
    {
     "data": {
      "text/plain": [
       "False"
      ]
     },
     "execution_count": 8,
     "metadata": {},
     "output_type": "execute_result"
    }
   ],
   "source": [
    "id(t1) == id(t2)"
   ]
  },
  {
   "cell_type": "code",
   "execution_count": 9,
   "id": "62ab2da6-4d88-471b-89c2-f4ca9f59cbb6",
   "metadata": {},
   "outputs": [
    {
     "data": {
      "text/plain": [
       "('my tuple key - value pair', 'my tuple key - value pair')"
      ]
     },
     "execution_count": 9,
     "metadata": {},
     "output_type": "execute_result"
    }
   ],
   "source": [
    "d[t1], d[t2]"
   ]
  },
  {
   "cell_type": "code",
   "execution_count": 10,
   "id": "759876be-b969-468d-92cf-0f12cc60b096",
   "metadata": {},
   "outputs": [],
   "source": [
    "def my_func(a,b,c):\n",
    "    print(a,b,c)"
   ]
  },
  {
   "cell_type": "code",
   "execution_count": 11,
   "id": "6bb8080d-246d-4afd-b4e7-009ff22ae650",
   "metadata": {},
   "outputs": [
    {
     "data": {
      "text/plain": [
       "286462426"
      ]
     },
     "execution_count": 11,
     "metadata": {},
     "output_type": "execute_result"
    }
   ],
   "source": [
    "hash(my_func)"
   ]
  },
  {
   "cell_type": "code",
   "execution_count": 12,
   "id": "52d33106-ff6d-4847-b0c9-3f54cc4ce463",
   "metadata": {},
   "outputs": [],
   "source": [
    "# functions can be used as keys!\n",
    "d = {my_func: [10, 20, 30]}"
   ]
  },
  {
   "cell_type": "code",
   "execution_count": 13,
   "id": "7d70727d-5fa2-4be0-8a93-09e93fe04578",
   "metadata": {},
   "outputs": [
    {
     "name": "stdout",
     "output_type": "stream",
     "text": [
      "{<function my_func at 0x111311da0>: [10, 20, 30]}\n"
     ]
    }
   ],
   "source": [
    "print(d)"
   ]
  },
  {
   "cell_type": "code",
   "execution_count": 14,
   "id": "cc2d3915-4ecf-420f-be16-44593c8ad6fb",
   "metadata": {},
   "outputs": [],
   "source": [
    "def fn_add(a, b):\n",
    "    return a + b\n",
    "\n",
    "def fn_mul(a, b):\n",
    "    return a * b\n",
    "\n",
    "def fn_inv(a):\n",
    "    return 1 / a"
   ]
  },
  {
   "cell_type": "code",
   "execution_count": 15,
   "id": "3dbd699b-d2ef-4de7-b241-6be2bfc9f5c1",
   "metadata": {},
   "outputs": [],
   "source": [
    "d = {\n",
    "    fn_add: (10, 20),  # tricky ;) Notice same key used twice, Python doesn't complain!\n",
    "    fn_add: (150, 16),\n",
    "    fn_inv: (2,),\n",
    "    fn_mul: (5, 6),\n",
    "}"
   ]
  },
  {
   "cell_type": "code",
   "execution_count": 16,
   "id": "84e018cb-789d-408e-9791-00ce01f8ec37",
   "metadata": {},
   "outputs": [
    {
     "name": "stdout",
     "output_type": "stream",
     "text": [
      "{<function fn_add at 0x111312e80>: (150, 16), <function fn_inv at 0x111312fc0>: (2,), <function fn_mul at 0x111312f20>: (5, 6)}\n"
     ]
    }
   ],
   "source": [
    "print(d)"
   ]
  },
  {
   "cell_type": "code",
   "execution_count": 17,
   "id": "2edce399-5005-489e-9362-7bd8020302cf",
   "metadata": {},
   "outputs": [
    {
     "name": "stdout",
     "output_type": "stream",
     "text": [
      "166\n",
      "0.5\n",
      "30\n"
     ]
    }
   ],
   "source": [
    "for f, args in d.items():\n",
    "    print(f(*args))"
   ]
  },
  {
   "cell_type": "code",
   "execution_count": 18,
   "id": "16830f98-a251-4799-905c-830810eeeef1",
   "metadata": {},
   "outputs": [
    {
     "name": "stdout",
     "output_type": "stream",
     "text": [
      "{'k1': 100, 'k2': 'abc'}\n"
     ]
    }
   ],
   "source": [
    "d = dict(k1=100, k2=\"abc\")\n",
    "print(d)"
   ]
  },
  {
   "cell_type": "code",
   "execution_count": 19,
   "id": "fcab0bf0-261e-474f-9d2f-75273393d2db",
   "metadata": {},
   "outputs": [
    {
     "name": "stdout",
     "output_type": "stream",
     "text": [
      "{'k1': 100, 'k2': 200}\n"
     ]
    }
   ],
   "source": [
    "d = dict([(\"k1\", 100), [\"k2\", 200]])\n",
    "print(d)"
   ]
  },
  {
   "cell_type": "code",
   "execution_count": 20,
   "id": "280a7c5c-51f9-4f29-97c9-7b5264d7e75c",
   "metadata": {},
   "outputs": [],
   "source": [
    "d = {\"a\": 200, \"b\": 300}\n",
    "d1 = dict(d)"
   ]
  },
  {
   "cell_type": "code",
   "execution_count": 21,
   "id": "26d27aa9-049a-4b60-8b1d-89f24691ce0e",
   "metadata": {},
   "outputs": [
    {
     "data": {
      "text/plain": [
       "(4583369408, 4429025920)"
      ]
     },
     "execution_count": 21,
     "metadata": {},
     "output_type": "execute_result"
    }
   ],
   "source": [
    "id(d), id(d1)"
   ]
  },
  {
   "cell_type": "code",
   "execution_count": 22,
   "id": "f7b6166a-78ba-4f3c-87ad-4505c38fb773",
   "metadata": {},
   "outputs": [],
   "source": [
    "d = {\"a\": 100, \"b\": {\"x\": 1, \"y\": 2}, \"c\": [1,2,3]}"
   ]
  },
  {
   "cell_type": "code",
   "execution_count": 23,
   "id": "35d813b1-7894-43f2-966f-241dcd3268ce",
   "metadata": {},
   "outputs": [],
   "source": [
    "d1 = dict(d)  # creates a shallow copy!"
   ]
  },
  {
   "cell_type": "code",
   "execution_count": 24,
   "id": "6e6c8150-1ea1-42d1-81de-68be9526d034",
   "metadata": {},
   "outputs": [
    {
     "name": "stdout",
     "output_type": "stream",
     "text": [
      "{'a': 100, 'b': {'x': 1, 'y': 2}, 'c': [1, 2, 3]}\n",
      "{'a': 100, 'b': {'x': 1, 'y': 2}, 'c': [1, 2, 3]}\n"
     ]
    },
    {
     "data": {
      "text/plain": [
       "(None, None)"
      ]
     },
     "execution_count": 24,
     "metadata": {},
     "output_type": "execute_result"
    }
   ],
   "source": [
    "print(d), print(d1)"
   ]
  },
  {
   "cell_type": "code",
   "execution_count": 25,
   "id": "de26b677-1e72-405e-b1ad-0397e5371117",
   "metadata": {},
   "outputs": [
    {
     "data": {
      "text/plain": [
       "False"
      ]
     },
     "execution_count": 25,
     "metadata": {},
     "output_type": "execute_result"
    }
   ],
   "source": [
    "d is d1"
   ]
  },
  {
   "cell_type": "code",
   "execution_count": 26,
   "id": "4b2a84b2-4a36-4b27-9768-e79d7f173312",
   "metadata": {},
   "outputs": [],
   "source": [
    "d[\"b\"] = \"abcd\""
   ]
  },
  {
   "cell_type": "code",
   "execution_count": 27,
   "id": "814ec433-2269-45f9-80cc-9ac3682c8392",
   "metadata": {},
   "outputs": [
    {
     "data": {
      "text/plain": [
       "({'a': 100, 'b': 'abcd', 'c': [1, 2, 3]},\n",
       " {'a': 100, 'b': {'x': 1, 'y': 2}, 'c': [1, 2, 3]})"
      ]
     },
     "execution_count": 27,
     "metadata": {},
     "output_type": "execute_result"
    }
   ],
   "source": [
    "d, d1"
   ]
  },
  {
   "cell_type": "code",
   "execution_count": 28,
   "id": "87e968c2-20a4-4163-b5c9-065fecc3b711",
   "metadata": {},
   "outputs": [],
   "source": [
    "# but\n",
    "\n",
    "d[\"c\"].append(\"lists are mutable\")"
   ]
  },
  {
   "cell_type": "code",
   "execution_count": 29,
   "id": "77c5ea39-eb1c-4053-b5f5-300f5e1ea4be",
   "metadata": {},
   "outputs": [
    {
     "data": {
      "text/plain": [
       "({'a': 100, 'b': 'abcd', 'c': [1, 2, 3, 'lists are mutable']},\n",
       " {'a': 100, 'b': {'x': 1, 'y': 2}, 'c': [1, 2, 3, 'lists are mutable']})"
      ]
     },
     "execution_count": 29,
     "metadata": {},
     "output_type": "execute_result"
    }
   ],
   "source": [
    "d, d1"
   ]
  },
  {
   "cell_type": "code",
   "execution_count": 30,
   "id": "480007f1-03b9-44cf-88d2-865bba8fbade",
   "metadata": {},
   "outputs": [
    {
     "data": {
      "text/plain": [
       "True"
      ]
     },
     "execution_count": 30,
     "metadata": {},
     "output_type": "execute_result"
    }
   ],
   "source": [
    "d[\"c\"] is d1[\"c\"]"
   ]
  },
  {
   "cell_type": "code",
   "execution_count": 31,
   "id": "2d295d06-a376-4cc8-b4e1-b09041e9773d",
   "metadata": {},
   "outputs": [],
   "source": [
    "keys = [\"a\", \"b\", \"c\"]\n",
    "values = (1, 2, 3)"
   ]
  },
  {
   "cell_type": "code",
   "execution_count": 32,
   "id": "8e7ed2b6-9f43-4641-a83b-ea46888aac4b",
   "metadata": {},
   "outputs": [
    {
     "data": {
      "text/plain": [
       "{'a': 1, 'b': 2, 'c': 3}"
      ]
     },
     "execution_count": 32,
     "metadata": {},
     "output_type": "execute_result"
    }
   ],
   "source": [
    "d = {k: v for k, v in zip(keys, values)}\n",
    "d"
   ]
  },
  {
   "cell_type": "code",
   "execution_count": 33,
   "id": "86f41753-630d-49e3-a725-af14c385cc47",
   "metadata": {},
   "outputs": [
    {
     "data": {
      "text/plain": [
       "{'a': 1, 'c': 3}"
      ]
     },
     "execution_count": 33,
     "metadata": {},
     "output_type": "execute_result"
    }
   ],
   "source": [
    "d = {k: v for k, v in zip(keys, values) if k != \"b\"}\n",
    "d"
   ]
  },
  {
   "cell_type": "code",
   "execution_count": 34,
   "id": "d96f61e4-2333-4e76-983f-ef882130d462",
   "metadata": {},
   "outputs": [],
   "source": [
    "x_cords = (-2, -1, 0, 1, 2)\n",
    "y_cords = (-2, -1, 0, 1, 2)"
   ]
  },
  {
   "cell_type": "code",
   "execution_count": 35,
   "id": "12dfdb00-1393-4e25-b069-d58622140684",
   "metadata": {},
   "outputs": [],
   "source": [
    "grid = [(x, y)\n",
    "        for x in x_cords\n",
    "        for y in y_cords]"
   ]
  },
  {
   "cell_type": "code",
   "execution_count": 36,
   "id": "3d388d84-78d2-44e2-acef-26fe2311febd",
   "metadata": {},
   "outputs": [
    {
     "name": "stdout",
     "output_type": "stream",
     "text": [
      "[(-2, -2), (-2, -1), (-2, 0), (-2, 1), (-2, 2), (-1, -2), (-1, -1), (-1, 0), (-1, 1), (-1, 2), (0, -2), (0, -1), (0, 0), (0, 1), (0, 2), (1, -2), (1, -1), (1, 0), (1, 1), (1, 2), (2, -2), (2, -1), (2, 0), (2, 1), (2, 2)]\n"
     ]
    }
   ],
   "source": [
    "print(grid)"
   ]
  },
  {
   "cell_type": "code",
   "execution_count": 37,
   "id": "cbc15a97-8df0-4bb7-9006-acda6c40a708",
   "metadata": {},
   "outputs": [
    {
     "data": {
      "text/plain": [
       "1.4142135623730951"
      ]
     },
     "execution_count": 37,
     "metadata": {},
     "output_type": "execute_result"
    }
   ],
   "source": [
    "import math\n",
    "\n",
    "math.hypot(1,1)  # distance from (0,0)"
   ]
  },
  {
   "cell_type": "code",
   "execution_count": 38,
   "id": "88b5dbf2-7c58-4abd-91cf-f54e44bbf340",
   "metadata": {},
   "outputs": [],
   "source": [
    "grid_extended = [(x, y, math.hypot(x,y)) for x, y in grid]"
   ]
  },
  {
   "cell_type": "code",
   "execution_count": 39,
   "id": "9901bffd-a296-4521-8a25-500dbd7706cf",
   "metadata": {},
   "outputs": [
    {
     "data": {
      "text/plain": [
       "[(-2, -2, 2.8284271247461903),\n",
       " (-2, -1, 2.23606797749979),\n",
       " (-2, 0, 2.0),\n",
       " (-2, 1, 2.23606797749979),\n",
       " (-2, 2, 2.8284271247461903),\n",
       " (-1, -2, 2.23606797749979),\n",
       " (-1, -1, 1.4142135623730951),\n",
       " (-1, 0, 1.0),\n",
       " (-1, 1, 1.4142135623730951),\n",
       " (-1, 2, 2.23606797749979),\n",
       " (0, -2, 2.0),\n",
       " (0, -1, 1.0),\n",
       " (0, 0, 0.0),\n",
       " (0, 1, 1.0),\n",
       " (0, 2, 2.0),\n",
       " (1, -2, 2.23606797749979),\n",
       " (1, -1, 1.4142135623730951),\n",
       " (1, 0, 1.0),\n",
       " (1, 1, 1.4142135623730951),\n",
       " (1, 2, 2.23606797749979),\n",
       " (2, -2, 2.8284271247461903),\n",
       " (2, -1, 2.23606797749979),\n",
       " (2, 0, 2.0),\n",
       " (2, 1, 2.23606797749979),\n",
       " (2, 2, 2.8284271247461903)]"
      ]
     },
     "execution_count": 39,
     "metadata": {},
     "output_type": "execute_result"
    }
   ],
   "source": [
    "grid_extended"
   ]
  },
  {
   "cell_type": "code",
   "execution_count": 40,
   "id": "07b76c0e-3f64-4a64-a0d9-13fb3973ba19",
   "metadata": {},
   "outputs": [],
   "source": [
    "grid_extended = {(x, y): math.hypot(x,y) for x, y in grid}"
   ]
  },
  {
   "cell_type": "code",
   "execution_count": 41,
   "id": "0b9ca07c-c155-4405-bfd5-b7d35e0a0f9c",
   "metadata": {},
   "outputs": [
    {
     "data": {
      "text/plain": [
       "{(-2, -2): 2.8284271247461903,\n",
       " (-2, -1): 2.23606797749979,\n",
       " (-2, 0): 2.0,\n",
       " (-2, 1): 2.23606797749979,\n",
       " (-2, 2): 2.8284271247461903,\n",
       " (-1, -2): 2.23606797749979,\n",
       " (-1, -1): 1.4142135623730951,\n",
       " (-1, 0): 1.0,\n",
       " (-1, 1): 1.4142135623730951,\n",
       " (-1, 2): 2.23606797749979,\n",
       " (0, -2): 2.0,\n",
       " (0, -1): 1.0,\n",
       " (0, 0): 0.0,\n",
       " (0, 1): 1.0,\n",
       " (0, 2): 2.0,\n",
       " (1, -2): 2.23606797749979,\n",
       " (1, -1): 1.4142135623730951,\n",
       " (1, 0): 1.0,\n",
       " (1, 1): 1.4142135623730951,\n",
       " (1, 2): 2.23606797749979,\n",
       " (2, -2): 2.8284271247461903,\n",
       " (2, -1): 2.23606797749979,\n",
       " (2, 0): 2.0,\n",
       " (2, 1): 2.23606797749979,\n",
       " (2, 2): 2.8284271247461903}"
      ]
     },
     "execution_count": 41,
     "metadata": {},
     "output_type": "execute_result"
    }
   ],
   "source": [
    "grid_extended"
   ]
  },
  {
   "cell_type": "code",
   "execution_count": 42,
   "id": "0db64b28-6ccd-419e-88a5-dfc23431d88b",
   "metadata": {},
   "outputs": [],
   "source": [
    "counters = dict.fromkeys([\"a\", \"b\", \"c\"], 0)"
   ]
  },
  {
   "cell_type": "code",
   "execution_count": 43,
   "id": "4088045b-c9d1-4b38-b640-43ed89f8a80c",
   "metadata": {},
   "outputs": [
    {
     "data": {
      "text/plain": [
       "{'a': 0, 'b': 0, 'c': 0}"
      ]
     },
     "execution_count": 43,
     "metadata": {},
     "output_type": "execute_result"
    }
   ],
   "source": [
    "counters"
   ]
  },
  {
   "cell_type": "code",
   "execution_count": 44,
   "id": "e1e088c7-4a4b-4065-aeea-1b65d1ed93b5",
   "metadata": {},
   "outputs": [],
   "source": [
    "counters = dict.fromkeys(\"xyz\", 0)"
   ]
  },
  {
   "cell_type": "code",
   "execution_count": 45,
   "id": "ed05caec-8054-4f01-bb93-4d8c6194c78d",
   "metadata": {},
   "outputs": [
    {
     "data": {
      "text/plain": [
       "{'x': 0, 'y': 0, 'z': 0}"
      ]
     },
     "execution_count": 45,
     "metadata": {},
     "output_type": "execute_result"
    }
   ],
   "source": [
    "counters"
   ]
  },
  {
   "cell_type": "code",
   "execution_count": 46,
   "id": "81a1daf6-43b9-4f91-b7f2-e64c756d274e",
   "metadata": {},
   "outputs": [
    {
     "name": "stdout",
     "output_type": "stream",
     "text": [
      "{'p': None, 'y': None, 't': None, 'h': None, 'o': None, 'n': None}\n"
     ]
    }
   ],
   "source": [
    "d = dict.fromkeys(\"python\")\n",
    "print(d)"
   ]
  },
  {
   "cell_type": "code",
   "execution_count": null,
   "id": "f106cba2-4eb8-405e-9881-56fcb7725324",
   "metadata": {},
   "outputs": [],
   "source": [
    " "
   ]
  }
 ],
 "metadata": {
  "kernelspec": {
   "display_name": "Python 3 (ipykernel)",
   "language": "python",
   "name": "python3"
  },
  "language_info": {
   "codemirror_mode": {
    "name": "ipython",
    "version": 3
   },
   "file_extension": ".py",
   "mimetype": "text/x-python",
   "name": "python",
   "nbconvert_exporter": "python",
   "pygments_lexer": "ipython3",
   "version": "3.11.9"
  }
 },
 "nbformat": 4,
 "nbformat_minor": 5
}
