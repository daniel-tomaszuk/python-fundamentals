{
 "cells": [
  {
   "cell_type": "code",
   "execution_count": 1,
   "id": "5d054146-717e-4715-b2e4-4fc942145b28",
   "metadata": {},
   "outputs": [
    {
     "data": {
      "text/plain": [
       "{'a': 1, 'b': 2, 'c': 3}"
      ]
     },
     "execution_count": 1,
     "metadata": {},
     "output_type": "execute_result"
    }
   ],
   "source": [
    "d = dict(zip(\"abc\", range(1,4)))\n",
    "d"
   ]
  },
  {
   "cell_type": "code",
   "execution_count": 2,
   "id": "63461e0a-d55d-47fe-96eb-f21f55a46c7e",
   "metadata": {},
   "outputs": [
    {
     "data": {
      "text/plain": [
       "3"
      ]
     },
     "execution_count": 2,
     "metadata": {},
     "output_type": "execute_result"
    }
   ],
   "source": [
    "len(d)"
   ]
  },
  {
   "cell_type": "code",
   "execution_count": 3,
   "id": "d992052c-88a5-4f1c-967d-e3f52a4ba3f2",
   "metadata": {},
   "outputs": [
    {
     "data": {
      "text/plain": [
       "2"
      ]
     },
     "execution_count": 3,
     "metadata": {},
     "output_type": "execute_result"
    }
   ],
   "source": [
    "d[\"b\"]"
   ]
  },
  {
   "cell_type": "code",
   "execution_count": 4,
   "id": "ffd47804-2411-4d77-88e4-5832397825ac",
   "metadata": {},
   "outputs": [
    {
     "name": "stdout",
     "output_type": "stream",
     "text": [
      "None\n"
     ]
    }
   ],
   "source": [
    "print(d.get(\"z\"))"
   ]
  },
  {
   "cell_type": "code",
   "execution_count": 5,
   "id": "2b635d86-7315-474b-9258-8f81aec769d9",
   "metadata": {},
   "outputs": [
    {
     "data": {
      "text/plain": [
       "100"
      ]
     },
     "execution_count": 5,
     "metadata": {},
     "output_type": "execute_result"
    }
   ],
   "source": [
    "v = d.setdefault(\"z\", 100)\n",
    "v"
   ]
  },
  {
   "cell_type": "code",
   "execution_count": 6,
   "id": "251d6dde-fe5b-4e9e-b581-8dc05444f7dd",
   "metadata": {},
   "outputs": [
    {
     "data": {
      "text/plain": [
       "{'a': 1, 'b': 2, 'c': 3, 'z': 100}"
      ]
     },
     "execution_count": 6,
     "metadata": {},
     "output_type": "execute_result"
    }
   ],
   "source": [
    "d"
   ]
  },
  {
   "cell_type": "code",
   "execution_count": 7,
   "id": "2b9e2e02-7d3b-404f-a11f-54cea1ba2107",
   "metadata": {},
   "outputs": [],
   "source": [
    "text = \"Lorem ipsum dolor sit amet, consectetur adipiscing elit, sed do eiusmod tempor incididunt ut labore et dolore magna aliqua. Ut enim ad minim veniam, quis nostrud exercitation ullamco laboris nisi ut aliquip ex ea commodo consequat. Duis aute irure dolor in reprehenderit in voluptate velit esse cillum dolore eu fugiat nulla pariatur. Excepteur sint occaecat cupidatat non proident, sunt in culpa qui officia deserunt mollit anim id est laborum.\""
   ]
  },
  {
   "cell_type": "code",
   "execution_count": 8,
   "id": "29e0545a-16bd-4089-9aff-7612f083c426",
   "metadata": {},
   "outputs": [],
   "source": [
    "from collections import Counter\n",
    "\n",
    "c = Counter(text)"
   ]
  },
  {
   "cell_type": "code",
   "execution_count": 9,
   "id": "e8213b47-0a85-4ebd-be3e-a0eeb2a03e1d",
   "metadata": {},
   "outputs": [
    {
     "data": {
      "text/plain": [
       "Counter({' ': 68,\n",
       "         'i': 42,\n",
       "         'e': 37,\n",
       "         't': 32,\n",
       "         'o': 29,\n",
       "         'a': 29,\n",
       "         'u': 28,\n",
       "         'n': 24,\n",
       "         'r': 22,\n",
       "         'l': 21,\n",
       "         's': 18,\n",
       "         'd': 18,\n",
       "         'm': 17,\n",
       "         'c': 16,\n",
       "         'p': 11,\n",
       "         'q': 5,\n",
       "         ',': 4,\n",
       "         '.': 4,\n",
       "         'g': 3,\n",
       "         'b': 3,\n",
       "         'v': 3,\n",
       "         'x': 3,\n",
       "         'f': 3,\n",
       "         'L': 1,\n",
       "         'U': 1,\n",
       "         'D': 1,\n",
       "         'h': 1,\n",
       "         'E': 1})"
      ]
     },
     "execution_count": 9,
     "metadata": {},
     "output_type": "execute_result"
    }
   ],
   "source": [
    "c"
   ]
  },
  {
   "cell_type": "code",
   "execution_count": 10,
   "id": "48fd094b-390f-404c-a64b-b267dd7c1c44",
   "metadata": {},
   "outputs": [],
   "source": [
    "d = {}\n",
    "for char_ in text:\n",
    "    d[char_] = d.get(char_, 0) + 1"
   ]
  },
  {
   "cell_type": "code",
   "execution_count": 11,
   "id": "23715295-57b0-42ed-813f-1f1fd026224b",
   "metadata": {},
   "outputs": [
    {
     "data": {
      "text/plain": [
       "{'L': 1,\n",
       " 'o': 29,\n",
       " 'r': 22,\n",
       " 'e': 37,\n",
       " 'm': 17,\n",
       " ' ': 68,\n",
       " 'i': 42,\n",
       " 'p': 11,\n",
       " 's': 18,\n",
       " 'u': 28,\n",
       " 'd': 18,\n",
       " 'l': 21,\n",
       " 't': 32,\n",
       " 'a': 29,\n",
       " ',': 4,\n",
       " 'c': 16,\n",
       " 'n': 24,\n",
       " 'g': 3,\n",
       " 'b': 3,\n",
       " 'q': 5,\n",
       " '.': 4,\n",
       " 'U': 1,\n",
       " 'v': 3,\n",
       " 'x': 3,\n",
       " 'D': 1,\n",
       " 'h': 1,\n",
       " 'f': 3,\n",
       " 'E': 1}"
      ]
     },
     "execution_count": 11,
     "metadata": {},
     "output_type": "execute_result"
    }
   ],
   "source": [
    "d"
   ]
  },
  {
   "cell_type": "code",
   "execution_count": 12,
   "id": "0c54bb0e-e0d2-4c87-955a-ddbe4a9a430d",
   "metadata": {},
   "outputs": [
    {
     "data": {
      "text/plain": [
       "1"
      ]
     },
     "execution_count": 12,
     "metadata": {},
     "output_type": "execute_result"
    }
   ],
   "source": [
    "x = d.pop(\"E\")\n",
    "x"
   ]
  },
  {
   "cell_type": "code",
   "execution_count": 13,
   "id": "88d68e1c-52e0-4ff4-8cc8-7f34ce0901cb",
   "metadata": {},
   "outputs": [
    {
     "data": {
      "text/plain": [
       "{'L': 1,\n",
       " 'o': 29,\n",
       " 'r': 22,\n",
       " 'e': 37,\n",
       " 'm': 17,\n",
       " ' ': 68,\n",
       " 'i': 42,\n",
       " 'p': 11,\n",
       " 's': 18,\n",
       " 'u': 28,\n",
       " 'd': 18,\n",
       " 'l': 21,\n",
       " 't': 32,\n",
       " 'a': 29,\n",
       " ',': 4,\n",
       " 'c': 16,\n",
       " 'n': 24,\n",
       " 'g': 3,\n",
       " 'b': 3,\n",
       " 'q': 5,\n",
       " '.': 4,\n",
       " 'U': 1,\n",
       " 'v': 3,\n",
       " 'x': 3,\n",
       " 'D': 1,\n",
       " 'h': 1,\n",
       " 'f': 3}"
      ]
     },
     "execution_count": 13,
     "metadata": {},
     "output_type": "execute_result"
    }
   ],
   "source": [
    "d"
   ]
  },
  {
   "cell_type": "code",
   "execution_count": 14,
   "id": "193758f9-ab0a-4c28-b098-a1a9796c08d0",
   "metadata": {},
   "outputs": [
    {
     "name": "stdout",
     "output_type": "stream",
     "text": [
      "None\n"
     ]
    }
   ],
   "source": [
    "print(d.pop(\"test\", None))  # default value for pop"
   ]
  },
  {
   "cell_type": "code",
   "execution_count": 15,
   "id": "74611845-12d4-4135-a05c-47fa14a5e156",
   "metadata": {},
   "outputs": [],
   "source": [
    "d = dict({i: i**2 for i in range(1, 5)})"
   ]
  },
  {
   "cell_type": "code",
   "execution_count": 16,
   "id": "7a65a445-11cc-43a5-b162-b7c3bc7f21b3",
   "metadata": {},
   "outputs": [
    {
     "data": {
      "text/plain": [
       "(4, 16)"
      ]
     },
     "execution_count": 16,
     "metadata": {},
     "output_type": "execute_result"
    }
   ],
   "source": [
    "d.popitem()  # pops last item added to the dictionray! Order is preserved"
   ]
  },
  {
   "cell_type": "code",
   "execution_count": 17,
   "id": "ce40a848-6d3a-410b-b52b-b8935cc3e085",
   "metadata": {},
   "outputs": [
    {
     "data": {
      "text/plain": [
       "(3, 9)"
      ]
     },
     "execution_count": 17,
     "metadata": {},
     "output_type": "execute_result"
    }
   ],
   "source": [
    "d.popitem()"
   ]
  },
  {
   "cell_type": "code",
   "execution_count": 18,
   "id": "2b730f6b-27e1-4567-8b63-97b12bf12f85",
   "metadata": {},
   "outputs": [
    {
     "data": {
      "text/plain": [
       "(2, 4)"
      ]
     },
     "execution_count": 18,
     "metadata": {},
     "output_type": "execute_result"
    }
   ],
   "source": [
    "d.popitem()"
   ]
  },
  {
   "cell_type": "code",
   "execution_count": 19,
   "id": "33b7e5db-e08f-47d3-a3c5-161e2de7aaad",
   "metadata": {},
   "outputs": [
    {
     "data": {
      "text/plain": [
       "{1: 1}"
      ]
     },
     "execution_count": 19,
     "metadata": {},
     "output_type": "execute_result"
    }
   ],
   "source": [
    "d"
   ]
  },
  {
   "cell_type": "code",
   "execution_count": 20,
   "id": "20494908-97f0-4835-b2cc-edb705bb5837",
   "metadata": {},
   "outputs": [
    {
     "data": {
      "text/plain": [
       "(1, 1)"
      ]
     },
     "execution_count": 20,
     "metadata": {},
     "output_type": "execute_result"
    }
   ],
   "source": [
    "d.popitem()"
   ]
  },
  {
   "cell_type": "code",
   "execution_count": 21,
   "id": "480ca5bd-0cc8-4c9f-a2bf-137f0cacfb0f",
   "metadata": {},
   "outputs": [
    {
     "name": "stdout",
     "output_type": "stream",
     "text": [
      "'popitem(): dictionary is empty'\n"
     ]
    }
   ],
   "source": [
    "try:\n",
    "    d.popitem()\n",
    "except KeyError as e:\n",
    "    print(e)"
   ]
  },
  {
   "cell_type": "code",
   "execution_count": 22,
   "id": "979a48dd-26b9-42d7-924e-4d113ef22755",
   "metadata": {},
   "outputs": [],
   "source": [
    "import string\n",
    "from itertools import chain\n",
    "\n",
    "\n",
    "def cat_key(char_):\n",
    "    cat_1 = {\" \": None}\n",
    "    cat_2 = dict.fromkeys(string.ascii_lowercase, \"lower\")\n",
    "    cat_3 = dict.fromkeys(string.ascii_uppercase, \"upper\")\n",
    "    d = {**cat_1, **cat_2, **cat_3}\n",
    "    return d.get(char_, \"other\")\n"
   ]
  },
  {
   "cell_type": "code",
   "execution_count": 23,
   "id": "a4fc2066-056b-4801-b673-27f3fbe589b5",
   "metadata": {},
   "outputs": [
    {
     "data": {
      "text/plain": [
       "{'upper': 4, 'lower': 365, None: 68, 'other': 8}"
      ]
     },
     "execution_count": 23,
     "metadata": {},
     "output_type": "execute_result"
    }
   ],
   "source": [
    "d = {}\n",
    "for char_ in text:\n",
    "    char_category = cat_key(char_)\n",
    "    d[char_category] = d.get(char_category, 0) + 1\n",
    "d"
   ]
  },
  {
   "cell_type": "code",
   "execution_count": 24,
   "id": "2b0d7972-7d94-4576-a6b5-36d0e263e816",
   "metadata": {},
   "outputs": [
    {
     "data": {
      "text/plain": [
       "4409433920"
      ]
     },
     "execution_count": 24,
     "metadata": {},
     "output_type": "execute_result"
    }
   ],
   "source": [
    "id(d)"
   ]
  },
  {
   "cell_type": "code",
   "execution_count": 25,
   "id": "696db406-e0a3-46bd-84fa-cd96b24367e1",
   "metadata": {},
   "outputs": [],
   "source": [
    "d.clear()"
   ]
  },
  {
   "cell_type": "code",
   "execution_count": 26,
   "id": "9943bbd0-d50d-48dd-bca1-0c325650fc79",
   "metadata": {},
   "outputs": [
    {
     "data": {
      "text/plain": [
       "{}"
      ]
     },
     "execution_count": 26,
     "metadata": {},
     "output_type": "execute_result"
    }
   ],
   "source": [
    "d"
   ]
  },
  {
   "cell_type": "code",
   "execution_count": 27,
   "id": "1f0810ba-9804-4443-a069-ef57ba2f683f",
   "metadata": {},
   "outputs": [
    {
     "data": {
      "text/plain": [
       "4409433920"
      ]
     },
     "execution_count": 27,
     "metadata": {},
     "output_type": "execute_result"
    }
   ],
   "source": [
    "id(d)"
   ]
  },
  {
   "cell_type": "code",
   "execution_count": null,
   "id": "2ba21e03-da1f-4397-84d5-b30ff60e0caf",
   "metadata": {},
   "outputs": [],
   "source": []
  }
 ],
 "metadata": {
  "kernelspec": {
   "display_name": "Python 3 (ipykernel)",
   "language": "python",
   "name": "python3"
  },
  "language_info": {
   "codemirror_mode": {
    "name": "ipython",
    "version": 3
   },
   "file_extension": ".py",
   "mimetype": "text/x-python",
   "name": "python",
   "nbconvert_exporter": "python",
   "pygments_lexer": "ipython3",
   "version": "3.11.9"
  }
 },
 "nbformat": 4,
 "nbformat_minor": 5
}
