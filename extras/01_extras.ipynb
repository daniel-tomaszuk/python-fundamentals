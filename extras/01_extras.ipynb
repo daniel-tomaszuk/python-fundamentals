{
 "cells": [
  {
   "cell_type": "markdown",
   "id": "52eae099-5b48-4e72-b372-ab7086247b42",
   "metadata": {},
   "source": [
    "### Random seeds"
   ]
  },
  {
   "cell_type": "code",
   "execution_count": 1,
   "id": "9b6da314-1690-4805-80d9-1f2497e1c207",
   "metadata": {},
   "outputs": [
    {
     "name": "stdout",
     "output_type": "stream",
     "text": [
      "16 0.6775099503095856\n",
      "10 0.7628347210897715\n",
      "15 0.8404394741089661\n",
      "12 0.021042497128149096\n",
      "11 0.9445529857161129\n",
      "13 0.7123131369162945\n",
      "18 0.7241916575175223\n",
      "11 0.6784520067826144\n",
      "12 0.6463588382521296\n",
      "20 0.08980064034679214\n"
     ]
    }
   ],
   "source": [
    "import random\n",
    "\n",
    "# dffeerent value each time - seed depends on the system time\n",
    "for _ in range(10):\n",
    "    print(random.randint(10, 20), random.random())"
   ]
  },
  {
   "cell_type": "code",
   "execution_count": 2,
   "id": "0c8a89e1-572a-483d-9359-013c9eb22e0a",
   "metadata": {},
   "outputs": [
    {
     "name": "stdout",
     "output_type": "stream",
     "text": [
      "16 0.7579544029403025\n",
      "16 0.04048437818077755\n",
      "18 0.48592769656281265\n",
      "14 0.9677999949201714\n",
      "15 0.5833820394550312\n",
      "13 0.5046868558173903\n",
      "14 0.1397457849666789\n",
      "11 0.6183689966753316\n",
      "14 0.9872592010330129\n",
      "18 0.9827854760376531\n"
     ]
    }
   ],
   "source": [
    "random.seed(0)\n",
    "for _ in range(10):\n",
    "    print(random.randint(10, 20), random.random())"
   ]
  },
  {
   "cell_type": "code",
   "execution_count": 3,
   "id": "22d89679-455a-4d83-8ed9-316ccb0ce6de",
   "metadata": {},
   "outputs": [
    {
     "name": "stdout",
     "output_type": "stream",
     "text": [
      "16 0.7579544029403025\n",
      "16 0.04048437818077755\n",
      "18 0.48592769656281265\n",
      "14 0.9677999949201714\n",
      "15 0.5833820394550312\n",
      "13 0.5046868558173903\n",
      "14 0.1397457849666789\n",
      "11 0.6183689966753316\n",
      "14 0.9872592010330129\n",
      "18 0.9827854760376531\n"
     ]
    }
   ],
   "source": [
    "random.seed(0)\n",
    "for _ in range(10):\n",
    "    print(random.randint(10, 20), random.random())"
   ]
  },
  {
   "cell_type": "code",
   "execution_count": 4,
   "id": "51c1bbc6-c7b1-4f7b-a2ae-66ee361ef285",
   "metadata": {},
   "outputs": [],
   "source": [
    "def generate_random_stuff(seed=None):\n",
    "    random.seed(seed)\n",
    "    results = []\n",
    "    for _ in range(5):\n",
    "        results.append(random.randint(0, 5))\n",
    "\n",
    "    characters = list(\"abc\")\n",
    "    random.shuffle(characters)\n",
    "    results.append(characters)\n",
    "\n",
    "    for _ in range(5):\n",
    "        results.append(random.gauss(0, 1))\n",
    "\n",
    "    return results"
   ]
  },
  {
   "cell_type": "code",
   "execution_count": 5,
   "id": "91949d18-255c-4c0f-a89a-67a6fef8c7bf",
   "metadata": {},
   "outputs": [
    {
     "data": {
      "text/plain": [
       "[0,\n",
       " 4,\n",
       " 4,\n",
       " 0,\n",
       " 1,\n",
       " ['a', 'c', 'b'],\n",
       " 1.9470094974534466,\n",
       " -0.2696167683193983,\n",
       " -0.7264208602788624,\n",
       " 0.1731442023870005,\n",
       " 0.10302702035914907]"
      ]
     },
     "execution_count": 5,
     "metadata": {},
     "output_type": "execute_result"
    }
   ],
   "source": [
    "generate_random_stuff()"
   ]
  },
  {
   "cell_type": "code",
   "execution_count": 6,
   "id": "cd11f1e3-146b-420a-9629-80ee65dd7b94",
   "metadata": {},
   "outputs": [
    {
     "data": {
      "text/plain": [
       "[1,\n",
       " 4,\n",
       " 4,\n",
       " 1,\n",
       " 5,\n",
       " ['b', 'a', 'c'],\n",
       " -1.1954134216716301,\n",
       " 0.48140843900385716,\n",
       " -1.8407224185452953,\n",
       " -0.6533224275987233,\n",
       " -0.6985422022350283]"
      ]
     },
     "execution_count": 6,
     "metadata": {},
     "output_type": "execute_result"
    }
   ],
   "source": [
    "generate_random_stuff()"
   ]
  },
  {
   "cell_type": "code",
   "execution_count": 7,
   "id": "d3efad8a-5976-4ca8-86e0-5def21b06c28",
   "metadata": {},
   "outputs": [
    {
     "data": {
      "text/plain": [
       "[3,\n",
       " 3,\n",
       " 0,\n",
       " 2,\n",
       " 4,\n",
       " ['a', 'c', 'b'],\n",
       " 1.6391095109274887,\n",
       " -0.9249345372119703,\n",
       " 0.9223306019157185,\n",
       " -0.1891931090669293,\n",
       " 0.5456115709634167]"
      ]
     },
     "execution_count": 7,
     "metadata": {},
     "output_type": "execute_result"
    }
   ],
   "source": [
    "generate_random_stuff(0)"
   ]
  },
  {
   "cell_type": "code",
   "execution_count": 8,
   "id": "945b7fc6-ac83-4bd8-8754-1aba01257819",
   "metadata": {},
   "outputs": [
    {
     "data": {
      "text/plain": [
       "[3,\n",
       " 3,\n",
       " 0,\n",
       " 2,\n",
       " 4,\n",
       " ['a', 'c', 'b'],\n",
       " 1.6391095109274887,\n",
       " -0.9249345372119703,\n",
       " 0.9223306019157185,\n",
       " -0.1891931090669293,\n",
       " 0.5456115709634167]"
      ]
     },
     "execution_count": 8,
     "metadata": {},
     "output_type": "execute_result"
    }
   ],
   "source": [
    "generate_random_stuff(0)"
   ]
  },
  {
   "cell_type": "code",
   "execution_count": 9,
   "id": "2c8312bf-5e3d-449a-a938-c337628657d2",
   "metadata": {},
   "outputs": [],
   "source": [
    "def freq_analysis(list_):\n",
    "    return  {k: list_.count(k) for k in set(list_)}"
   ]
  },
  {
   "cell_type": "code",
   "execution_count": 10,
   "id": "f4daf2e4-360d-40c6-b9d5-a2ba68837ab1",
   "metadata": {},
   "outputs": [],
   "source": [
    "list_ = [random.randint(0, 10)  for _ in range(1_000_000)]"
   ]
  },
  {
   "cell_type": "code",
   "execution_count": 11,
   "id": "798ab721-3faf-459e-848f-850c9fa4b5fd",
   "metadata": {},
   "outputs": [],
   "source": [
    "d = freq_analysis(list_)  # uniform distribution of randint"
   ]
  },
  {
   "cell_type": "code",
   "execution_count": 12,
   "id": "761831cf-4fa8-43bd-b2f4-383db064a694",
   "metadata": {},
   "outputs": [
    {
     "name": "stdout",
     "output_type": "stream",
     "text": [
      "{0: 90935, 1: 91186, 2: 91004, 3: 91043, 4: 90764, 5: 91072, 6: 90675, 7: 90984, 8: 90411, 9: 91382, 10: 90544}\n"
     ]
    }
   ],
   "source": [
    "print(d)"
   ]
  },
  {
   "cell_type": "code",
   "execution_count": 13,
   "id": "b2e082a2-71c6-4033-bd40-570e8adda683",
   "metadata": {},
   "outputs": [
    {
     "name": "stdout",
     "output_type": "stream",
     "text": [
      "1000000\n"
     ]
    }
   ],
   "source": [
    "total = sum(d.values())\n",
    "print(total)"
   ]
  },
  {
   "cell_type": "code",
   "execution_count": 14,
   "id": "6d100337-5f71-48e4-bfb2-b3fdac94579c",
   "metadata": {},
   "outputs": [
    {
     "data": {
      "text/plain": [
       "{0: 9.0935,\n",
       " 1: 9.1186,\n",
       " 2: 9.1004,\n",
       " 3: 9.1043,\n",
       " 4: 9.0764,\n",
       " 5: 9.1072,\n",
       " 6: 9.0675,\n",
       " 7: 9.0984,\n",
       " 8: 9.0411,\n",
       " 9: 9.1382,\n",
       " 10: 9.0544}"
      ]
     },
     "execution_count": 14,
     "metadata": {},
     "output_type": "execute_result"
    }
   ],
   "source": [
    "{k: round((v / total) * 100, 4) for k, v in d.items()}  # distribution as item percentage"
   ]
  },
  {
   "cell_type": "code",
   "execution_count": 15,
   "id": "9c42f6e3-d4a0-4d7a-9841-9bf9a2923c65",
   "metadata": {},
   "outputs": [
    {
     "data": {
      "text/plain": [
       "Counter({19: 91367,\n",
       "         17: 91164,\n",
       "         10: 91160,\n",
       "         14: 91103,\n",
       "         11: 91016,\n",
       "         20: 90990,\n",
       "         12: 90945,\n",
       "         13: 90669,\n",
       "         18: 90668,\n",
       "         16: 90548,\n",
       "         15: 90370})"
      ]
     },
     "execution_count": 15,
     "metadata": {},
     "output_type": "execute_result"
    }
   ],
   "source": [
    "from collections import Counter\n",
    "\n",
    "Counter([random.randint(10, 20) for _ in range(1_000_000)])"
   ]
  },
  {
   "cell_type": "markdown",
   "id": "318c43bb-0c08-4a69-8885-c4304be2689b",
   "metadata": {},
   "source": [
    "### Random choices from an iterable / sequence\n",
    "How to pick a random element from a list?"
   ]
  },
  {
   "cell_type": "code",
   "execution_count": 16,
   "id": "83802190-81b4-4ab7-b3f7-5e8b47f89b4f",
   "metadata": {},
   "outputs": [
    {
     "name": "stdout",
     "output_type": "stream",
     "text": [
      "[0, 10, 20, 30, 40, 50, 60, 70, 80, 90]\n"
     ]
    }
   ],
   "source": [
    "import random\n",
    "\n",
    "l = [i for i in range(0, 100, 10)]\n",
    "print(l)"
   ]
  },
  {
   "cell_type": "code",
   "execution_count": 17,
   "id": "42bed630-3c03-4e48-8e00-1d9f472a282b",
   "metadata": {},
   "outputs": [
    {
     "data": {
      "text/plain": [
       "10"
      ]
     },
     "execution_count": 17,
     "metadata": {},
     "output_type": "execute_result"
    }
   ],
   "source": [
    "random_index = random.randrange(len(l))\n",
    "l[random_index]"
   ]
  },
  {
   "cell_type": "code",
   "execution_count": 18,
   "id": "9816ba0c-1114-448c-8f82-a16b340a43fc",
   "metadata": {},
   "outputs": [
    {
     "data": {
      "text/plain": [
       "[90, 80, 20, 20, 40]"
      ]
     },
     "execution_count": 18,
     "metadata": {},
     "output_type": "execute_result"
    }
   ],
   "source": [
    "[random.choice(l) for _ in range(5)]"
   ]
  },
  {
   "cell_type": "code",
   "execution_count": 19,
   "id": "5c7a3ca3-e818-42ee-9197-14c49a327f60",
   "metadata": {},
   "outputs": [
    {
     "data": {
      "text/plain": [
       "[60, 60, 30, 70, 50, 30, 60, 30, 0, 10]"
      ]
     },
     "execution_count": 19,
     "metadata": {},
     "output_type": "execute_result"
    }
   ],
   "source": [
    "random.choices(l, k=10)  # just use choices"
   ]
  },
  {
   "cell_type": "code",
   "execution_count": 20,
   "id": "4a0aab2e-edac-4b60-a60d-0288ca8e306e",
   "metadata": {},
   "outputs": [
    {
     "name": "stdout",
     "output_type": "stream",
     "text": [
      "['c', 'c', 'b', 'c', 'c']\n",
      "['a', 'a', 'c', 'a', 'a']\n",
      "['a', 'a', 'b', 'a', 'b']\n",
      "['c', 'a', 'c', 'a', 'c']\n",
      "['a', 'b', 'c', 'a', 'b']\n",
      "['c', 'c', 'b', 'b', 'c']\n",
      "['b', 'c', 'c', 'a', 'c']\n",
      "['a', 'b', 'c', 'a', 'c']\n",
      "['a', 'b', 'a', 'c', 'b']\n",
      "['b', 'b', 'c', 'a', 'b']\n"
     ]
    }
   ],
   "source": [
    "# it's possible to decide how often given item should pop up, for example:\n",
    "l = [\"a\", \"b\", \"c\"]\n",
    "for _ in range(10):\n",
    "    print(random.choices(l, k=5))"
   ]
  },
  {
   "cell_type": "code",
   "execution_count": 21,
   "id": "7eedc924-7a46-4124-8b41-05a0f74a46e8",
   "metadata": {},
   "outputs": [
    {
     "name": "stdout",
     "output_type": "stream",
     "text": [
      "['a', 'a', 'a', 'a', 'a']\n",
      "['a', 'a', 'a', 'c', 'a']\n",
      "['a', 'a', 'a', 'a', 'a']\n",
      "['a', 'a', 'a', 'a', 'a']\n",
      "['a', 'a', 'a', 'a', 'a']\n",
      "['a', 'a', 'a', 'a', 'a']\n",
      "['a', 'b', 'a', 'a', 'a']\n",
      "['a', 'a', 'a', 'a', 'b']\n",
      "['a', 'a', 'a', 'a', 'a']\n",
      "['a', 'a', 'a', 'a', 'a']\n"
     ]
    }
   ],
   "source": [
    "weights = [10, 1, 1]  # each element has default weight of 1\n",
    "for _ in range(10):\n",
    "    print(random.choices(l, k=5, weights=weights))"
   ]
  },
  {
   "cell_type": "code",
   "execution_count": 22,
   "id": "1f723296-1865-4067-a66d-f1cbe989a4f9",
   "metadata": {},
   "outputs": [],
   "source": [
    "from collections import namedtuple\n",
    "\n",
    "Freq = namedtuple(\"Freq\", \"count freq\")"
   ]
  },
  {
   "cell_type": "code",
   "execution_count": 23,
   "id": "3974cb9c-bbf4-4d21-9448-9a39e5f25107",
   "metadata": {},
   "outputs": [],
   "source": [
    "def freq_counts(list_):\n",
    "    total = len(list_)\n",
    "    return {k: Freq(list_.count(k), 100 * list_.count(k) / total) for k in set(list_)}"
   ]
  },
  {
   "cell_type": "code",
   "execution_count": 24,
   "id": "461eed87-6f1b-437c-ae72-41c197c2679e",
   "metadata": {},
   "outputs": [
    {
     "data": {
      "text/plain": [
       "{'a': Freq(count=333898, freq=33.3898),\n",
       " 'b': Freq(count=333571, freq=33.3571),\n",
       " 'c': Freq(count=332531, freq=33.2531)}"
      ]
     },
     "execution_count": 24,
     "metadata": {},
     "output_type": "execute_result"
    }
   ],
   "source": [
    "freq_counts(random.choices(l, k=1_000_000))"
   ]
  },
  {
   "cell_type": "code",
   "execution_count": 25,
   "id": "50377306-75da-43ae-b24c-8150fc9e554c",
   "metadata": {},
   "outputs": [
    {
     "data": {
      "text/plain": [
       "{'a': Freq(count=799842, freq=79.9842),\n",
       " 'b': Freq(count=100403, freq=10.0403),\n",
       " 'c': Freq(count=99755, freq=9.9755)}"
      ]
     },
     "execution_count": 25,
     "metadata": {},
     "output_type": "execute_result"
    }
   ],
   "source": [
    "freq_counts(random.choices(l, k=1_000_000, weights=[8, 1, 1]))  # 80%, 10%, 10%"
   ]
  },
  {
   "cell_type": "code",
   "execution_count": 26,
   "id": "5058363f-0b97-4cc2-a8f4-2b389579cb85",
   "metadata": {},
   "outputs": [
    {
     "data": {
      "text/plain": [
       "{'a': Freq(count=700497, freq=70.0497),\n",
       " 'b': Freq(count=100012, freq=10.0012),\n",
       " 'c': Freq(count=199491, freq=19.9491)}"
      ]
     },
     "execution_count": 26,
     "metadata": {},
     "output_type": "execute_result"
    }
   ],
   "source": [
    "cumulative_weights = [7, 8, 10]\n",
    "freq_counts(random.choices(l, k=1_000_000, cum_weights=cumulative_weights))"
   ]
  },
  {
   "cell_type": "markdown",
   "id": "81f1bdca-0969-45c5-b0d0-cb7e7c7ac3b9",
   "metadata": {},
   "source": [
    "### Check difference between `if` and `try..except`"
   ]
  },
  {
   "cell_type": "code",
   "execution_count": 27,
   "id": "d3646f97-6b7b-4185-b671-ca829d33e3c0",
   "metadata": {},
   "outputs": [
    {
     "name": "stdout",
     "output_type": "stream",
     "text": [
      "Avg elapsed timer for one loop: 0.000000079825732\n"
     ]
    }
   ],
   "source": [
    "from time import perf_counter\n",
    "\n",
    "\n",
    "random.seed(0)\n",
    "denoms = random.choices([0, 1], k= 10_000_000)\n",
    "\n",
    "start = perf_counter()\n",
    "for d in denoms:\n",
    "    if d == 0:\n",
    "        continue\n",
    "    10 / d\n",
    "end = perf_counter()\n",
    "print(f\"Avg elapsed timer for one loop: {(end - start)/len(denoms):.15f}\")\n"
   ]
  },
  {
   "cell_type": "code",
   "execution_count": 28,
   "id": "e7b1db80-8f55-49db-b521-53be720446af",
   "metadata": {},
   "outputs": [
    {
     "name": "stdout",
     "output_type": "stream",
     "text": [
      "Avg elapsed timer for one loop: 0.000000207920862\n"
     ]
    }
   ],
   "source": [
    "# try / except is slower\n",
    "\n",
    "random.seed(0)\n",
    "denoms = random.choices([0, 1], k= 10_000_000)\n",
    "\n",
    "start = perf_counter()\n",
    "for d in denoms:\n",
    "    try:\n",
    "        10 / d\n",
    "    except ZeroDivisionError:\n",
    "        pass\n",
    "\n",
    "end = perf_counter()\n",
    "print(f\"Avg elapsed timer for one loop: {(end - start)/len(denoms):.15f}\")  "
   ]
  },
  {
   "cell_type": "code",
   "execution_count": 29,
   "id": "6d490c40-6a14-4e9c-9206-bae476574347",
   "metadata": {},
   "outputs": [
    {
     "name": "stdout",
     "output_type": "stream",
     "text": [
      "Avg elapsed timer for one loop: 0.000000087884166\n"
     ]
    }
   ],
   "source": [
    "# if zeros are rare, then results are almost the same - if has to be checked on every loop\n",
    "# while try / catch happens only when required\n",
    "random.seed(0)\n",
    "denoms = random.choices([0, 1], k= 10_000_000, weights=[1, 9])\n",
    "start = perf_counter()\n",
    "for d in denoms:\n",
    "    if d == 0:\n",
    "        continue\n",
    "    10 / d\n",
    "end = perf_counter()\n",
    "print(f\"Avg elapsed timer for one loop: {(end - start)/len(denoms):.15f}\")"
   ]
  },
  {
   "cell_type": "code",
   "execution_count": 30,
   "id": "8a1cae1e-c79a-4a70-986f-f48a9d5338a6",
   "metadata": {},
   "outputs": [
    {
     "name": "stdout",
     "output_type": "stream",
     "text": [
      "Avg elapsed timer for one loop: 0.000000096040238\n"
     ]
    }
   ],
   "source": [
    "\n",
    "start = perf_counter()\n",
    "for d in denoms:\n",
    "    try:\n",
    "        10 / d\n",
    "    except ZeroDivisionError:\n",
    "        pass\n",
    "\n",
    "end = perf_counter()\n",
    "print(f\"Avg elapsed timer for one loop: {(end - start)/len(denoms):.15f}\")  "
   ]
  },
  {
   "cell_type": "markdown",
   "id": "b4882d6c-e997-463e-bc11-19f1d66d9630",
   "metadata": {},
   "source": [
    "### Random samples, with or without repeated elements"
   ]
  },
  {
   "cell_type": "code",
   "execution_count": 31,
   "id": "a9645195-2ed2-4c90-b4a7-b6a49d06acbe",
   "metadata": {},
   "outputs": [],
   "source": [
    "l = list(range(10))"
   ]
  },
  {
   "cell_type": "code",
   "execution_count": 32,
   "id": "d9b7c883-7ead-4aec-bff0-34c8e1d870ad",
   "metadata": {},
   "outputs": [
    {
     "data": {
      "text/plain": [
       "[9, 1, 5, 0, 4]"
      ]
     },
     "execution_count": 32,
     "metadata": {},
     "output_type": "execute_result"
    }
   ],
   "source": [
    "random.sample(l, k=5)  # without repeated elements!"
   ]
  },
  {
   "cell_type": "code",
   "execution_count": 33,
   "id": "3e834eab-7064-4ef7-a960-97dbacd73b92",
   "metadata": {},
   "outputs": [],
   "source": [
    "# create a deck of cards\n",
    "suits = \"C\", \"D\", \"H\", \"S\"\n",
    "ranks = tuple(range(2, 11)) + (\"J\", \"Q\", \"K\", \"A\")"
   ]
  },
  {
   "cell_type": "code",
   "execution_count": 34,
   "id": "2db33e1e-02fc-45fe-b170-763c6c4b02a0",
   "metadata": {},
   "outputs": [
    {
     "data": {
      "text/plain": [
       "(('C', 'D', 'H', 'S'), (2, 3, 4, 5, 6, 7, 8, 9, 10, 'J', 'Q', 'K', 'A'))"
      ]
     },
     "execution_count": 34,
     "metadata": {},
     "output_type": "execute_result"
    }
   ],
   "source": [
    "suits, ranks"
   ]
  },
  {
   "cell_type": "code",
   "execution_count": 35,
   "id": "8310f3d5-1d8e-4fe1-926c-d698eeaf8236",
   "metadata": {},
   "outputs": [
    {
     "name": "stdout",
     "output_type": "stream",
     "text": [
      "['2C', '3C', '4C', '5C', '6C', '7C', '8C', '9C', '10C', 'JC', 'QC', 'KC', 'AC', '2D', '3D', '4D', '5D', '6D', '7D', '8D', '9D', '10D', 'JD', 'QD', 'KD', 'AD', '2H', '3H', '4H', '5H', '6H', '7H', '8H', '9H', '10H', 'JH', 'QH', 'KH', 'AH', '2S', '3S', '4S', '5S', '6S', '7S', '8S', '9S', '10S', 'JS', 'QS', 'KS', 'AS']\n"
     ]
    }
   ],
   "source": [
    "deck  = []\n",
    "for suit in suits:\n",
    "    for rank  in  ranks:\n",
    "        deck.append(str(rank) + str(suit))\n",
    "print(deck)"
   ]
  },
  {
   "cell_type": "code",
   "execution_count": 36,
   "id": "b761c697-5289-44b5-b6fe-975b195ffab3",
   "metadata": {},
   "outputs": [
    {
     "data": {
      "text/plain": [
       "(['QC'], ['QD', '5S', 'JD', 'KD', 'AC', '4H', '7S', 'AS', '4D', '7C', '5H'])"
      ]
     },
     "execution_count": 36,
     "metadata": {},
     "output_type": "execute_result"
    }
   ],
   "source": [
    "random.sample(deck, 1), random.sample(deck, 11)"
   ]
  },
  {
   "cell_type": "code",
   "execution_count": 37,
   "id": "76ab62c5-9858-4338-859b-761941b29a5f",
   "metadata": {},
   "outputs": [],
   "source": [
    "deck = [str(rank) + str(suit) for suit in suits for rank in ranks]"
   ]
  },
  {
   "cell_type": "code",
   "execution_count": 38,
   "id": "dd09333a-4adf-48f5-9896-ef33d4d0baa3",
   "metadata": {},
   "outputs": [
    {
     "data": {
      "text/plain": [
       "(['JH', '4H', '9S', '5S', '2H'],\n",
       " ['3H', '9C', '8H', '2S', 'AS', 'JH', '4S', 'QD', 'AC', '7C'])"
      ]
     },
     "execution_count": 38,
     "metadata": {},
     "output_type": "execute_result"
    }
   ],
   "source": [
    "random.sample(deck, 5), random.sample(deck, 10)"
   ]
  },
  {
   "cell_type": "markdown",
   "id": "20e27be3-846c-4d09-8325-05c0ea0fc222",
   "metadata": {},
   "source": [
    "### Timing code using `timeit`"
   ]
  },
  {
   "cell_type": "code",
   "execution_count": 39,
   "id": "3d7f1607-3399-4f5f-be65-50003d952682",
   "metadata": {},
   "outputs": [],
   "source": [
    "from timeit import timeit"
   ]
  },
  {
   "cell_type": "code",
   "execution_count": 40,
   "id": "677e60e2-5d01-4c2e-ad99-42a6d487beca",
   "metadata": {},
   "outputs": [
    {
     "name": "stdout",
     "output_type": "stream",
     "text": [
      "Help on function timeit in module timeit:\n",
      "\n",
      "timeit(stmt='pass', setup='pass', timer=<built-in function perf_counter>, number=1000000, globals=None)\n",
      "    Convenience function to create Timer object and call timeit method.\n",
      "\n"
     ]
    }
   ],
   "source": [
    "help(timeit)"
   ]
  },
  {
   "cell_type": "code",
   "execution_count": 41,
   "id": "bf500290-c414-41b6-8db0-4cb1717cc230",
   "metadata": {},
   "outputs": [
    {
     "data": {
      "text/plain": [
       "0.05936645699694054"
      ]
     },
     "execution_count": 41,
     "metadata": {},
     "output_type": "execute_result"
    }
   ],
   "source": [
    "timeit(stmt=\"math.sqrt(2)\", setup=\"import math\")"
   ]
  },
  {
   "cell_type": "code",
   "execution_count": 42,
   "id": "847e2135-d5eb-4fee-99cc-e1e6b9388810",
   "metadata": {},
   "outputs": [
    {
     "data": {
      "text/plain": [
       "0.06002503700074158"
      ]
     },
     "execution_count": 42,
     "metadata": {},
     "output_type": "execute_result"
    }
   ],
   "source": [
    "timeit(stmt=\"sqrt(2)\", setup=\"from math import sqrt\")"
   ]
  },
  {
   "cell_type": "code",
   "execution_count": 43,
   "id": "8079da95-0325-44f8-b5fe-c723351b4536",
   "metadata": {},
   "outputs": [
    {
     "data": {
      "text/plain": [
       "0.06646913599979598"
      ]
     },
     "execution_count": 43,
     "metadata": {},
     "output_type": "execute_result"
    }
   ],
   "source": [
    "import math\n",
    "timeit(stmt=\"math.sqrt(2)\", globals={\"math\": math})"
   ]
  },
  {
   "cell_type": "code",
   "execution_count": 44,
   "id": "4a348d5b-dfc5-4546-b1ad-e3bfd3035677",
   "metadata": {},
   "outputs": [],
   "source": [
    "import random\n",
    "l = random.choices(list(\"python\"), k=500)"
   ]
  },
  {
   "cell_type": "code",
   "execution_count": 45,
   "id": "474cc21e-8d5b-4f1d-b492-4f3bff52a9fc",
   "metadata": {},
   "outputs": [
    {
     "data": {
      "text/plain": [
       "True"
      ]
     },
     "execution_count": 45,
     "metadata": {},
     "output_type": "execute_result"
    }
   ],
   "source": [
    "\"l\" in globals()"
   ]
  },
  {
   "cell_type": "code",
   "execution_count": 46,
   "id": "1aa15319-2e3f-453c-88a9-3022c2474d5c",
   "metadata": {},
   "outputs": [
    {
     "data": {
      "text/plain": [
       "0.4129325219983002"
      ]
     },
     "execution_count": 46,
     "metadata": {},
     "output_type": "execute_result"
    }
   ],
   "source": [
    "timeit(stmt=\"random.choice(l)\", setup=\"import random\", globals={\"l\": l})"
   ]
  },
  {
   "cell_type": "code",
   "execution_count": 47,
   "id": "33e01331-628f-451b-9672-30542ca6ffc5",
   "metadata": {},
   "outputs": [],
   "source": [
    "def pick_random():\n",
    "    randoms = random.choices(list(\"python\"), k=500)\n",
    "    print(timeit(stmt=\"random.choice(randoms)\", setup=\"import random\", globals=locals()))"
   ]
  },
  {
   "cell_type": "code",
   "execution_count": 48,
   "id": "d58fee3c-ec1f-4fd2-a558-c6622a94fcc8",
   "metadata": {},
   "outputs": [
    {
     "name": "stdout",
     "output_type": "stream",
     "text": [
      "0.3807381869992241\n"
     ]
    }
   ],
   "source": [
    "pick_random()"
   ]
  },
  {
   "cell_type": "markdown",
   "id": "a848c87c-ac09-48ad-9ff3-90e4144609da",
   "metadata": {},
   "source": [
    "### Usage of `*args` and `**kwargs` - think!"
   ]
  },
  {
   "cell_type": "code",
   "execution_count": 49,
   "id": "86969dc4-557d-4888-831a-6de29951c68d",
   "metadata": {},
   "outputs": [],
   "source": [
    "def audit(func):\n",
    "    def inner(*args, **kwargs):\n",
    "        print(f\"Called {func.__name__}\")\n",
    "        return func(*args, **kwargs)\n",
    "    return inner\n"
   ]
  },
  {
   "cell_type": "code",
   "execution_count": 50,
   "id": "6cdc65df-2c53-495b-84b3-328603288982",
   "metadata": {},
   "outputs": [],
   "source": [
    "@audit\n",
    "def say_hello(name):\n",
    "    return f\"Hello {name}\"\n",
    "\n",
    "from operator import mul\n",
    "from functools import reduce\n",
    "\n",
    "@audit\n",
    "def product(*values):\n",
    "    return reduce(mul, values)"
   ]
  },
  {
   "cell_type": "code",
   "execution_count": 51,
   "id": "2b0ad288-2601-40e5-9a5a-266a5bad203a",
   "metadata": {},
   "outputs": [
    {
     "name": "stdout",
     "output_type": "stream",
     "text": [
      "Called say_hello\n"
     ]
    },
    {
     "data": {
      "text/plain": [
       "'Hello Python'"
      ]
     },
     "execution_count": 51,
     "metadata": {},
     "output_type": "execute_result"
    }
   ],
   "source": [
    "say_hello(\"Python\")"
   ]
  },
  {
   "cell_type": "code",
   "execution_count": 52,
   "id": "aed4e709-b44b-4e10-8cc2-64f8027f8f82",
   "metadata": {},
   "outputs": [
    {
     "name": "stdout",
     "output_type": "stream",
     "text": [
      "Called product\n"
     ]
    },
    {
     "data": {
      "text/plain": [
       "120"
      ]
     },
     "execution_count": 52,
     "metadata": {},
     "output_type": "execute_result"
    }
   ],
   "source": [
    "product(1,2,3,4,5)"
   ]
  },
  {
   "cell_type": "code",
   "execution_count": 53,
   "id": "38281be6-0c46-4596-b08c-88182d6d53a4",
   "metadata": {},
   "outputs": [],
   "source": [
    "class Person:\n",
    "    def __init__(self, name, age, **custom_attrs):  # could be just kwargs, but custom_attrs makes more sense\n",
    "        self.name = name\n",
    "        self.age = age\n",
    "        for attr_name, attr_value in custom_attrs.items():\n",
    "            setattr(self, attr_name, attr_value)\n"
   ]
  },
  {
   "cell_type": "code",
   "execution_count": 54,
   "id": "4031eb4e-3f38-45b3-8f41-f2a2397819fb",
   "metadata": {},
   "outputs": [],
   "source": [
    "parrot = Person(\"Polly\", 101, status=\"stiff\", vooms=False)"
   ]
  },
  {
   "cell_type": "code",
   "execution_count": 55,
   "id": "a06ffb80-346e-44f3-a944-04cbb5a29568",
   "metadata": {},
   "outputs": [
    {
     "data": {
      "text/plain": [
       "{'name': 'Polly', 'age': 101, 'status': 'stiff', 'vooms': False}"
      ]
     },
     "execution_count": 55,
     "metadata": {},
     "output_type": "execute_result"
    }
   ],
   "source": [
    "parrot.__dict__"
   ]
  },
  {
   "cell_type": "code",
   "execution_count": null,
   "id": "d4da0324-04bb-48c9-92af-71c11b222d55",
   "metadata": {},
   "outputs": [],
   "source": []
  }
 ],
 "metadata": {
  "kernelspec": {
   "display_name": "Python 3 (ipykernel)",
   "language": "python",
   "name": "python3"
  },
  "language_info": {
   "codemirror_mode": {
    "name": "ipython",
    "version": 3
   },
   "file_extension": ".py",
   "mimetype": "text/x-python",
   "name": "python",
   "nbconvert_exporter": "python",
   "pygments_lexer": "ipython3",
   "version": "3.12.3"
  }
 },
 "nbformat": 4,
 "nbformat_minor": 5
}
