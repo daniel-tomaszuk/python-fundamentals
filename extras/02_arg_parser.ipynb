{
 "cells": [
  {
   "cell_type": "markdown",
   "id": "351b6f49-4f31-49b5-9512-6cedbeefadd5",
   "metadata": {},
   "source": [
    "### How to use input argparser"
   ]
  },
  {
   "cell_type": "code",
   "execution_count": 1,
   "id": "1e49a86b-2105-4aa7-8911-9501c3780421",
   "metadata": {},
   "outputs": [
    {
     "name": "stdout",
     "output_type": "stream",
     "text": [
      "Example1 says hello! Vars that got passed into the module: ['/Users/d.tomaszuk/workbench/python-fundamentals/venv/lib/python3.12/site-packages/ipykernel_launcher.py', '-f', '/Users/d.tomaszuk/Library/Jupyter/runtime/kernel-9693e184-08d3-405c-8c8e-00c49d2a670d.json']\n"
     ]
    },
    {
     "data": {
      "text/plain": [
       "<module 'example1' from '/Users/d.tomaszuk/workbench/python-fundamentals/python-fundamentals/extras/example1.py'>"
      ]
     },
     "execution_count": 1,
     "metadata": {},
     "output_type": "execute_result"
    }
   ],
   "source": [
    "import example1\n",
    "\n",
    "example1"
   ]
  },
  {
   "cell_type": "markdown",
   "id": "0c1e4e33-8b56-4718-93f6-02e4c431c197",
   "metadata": {},
   "source": [
    "It's possible to pass vars into python module:\n",
    "`python3 example2.py 10 20 30`\n",
    "\n",
    "Check example3.py"
   ]
  },
  {
   "cell_type": "code",
   "execution_count": null,
   "id": "364a9475-bd80-4170-a041-d7e2440750cf",
   "metadata": {},
   "outputs": [],
   "source": []
  }
 ],
 "metadata": {
  "kernelspec": {
   "display_name": "Python 3 (ipykernel)",
   "language": "python",
   "name": "python3"
  },
  "language_info": {
   "codemirror_mode": {
    "name": "ipython",
    "version": 3
   },
   "file_extension": ".py",
   "mimetype": "text/x-python",
   "name": "python",
   "nbconvert_exporter": "python",
   "pygments_lexer": "ipython3",
   "version": "3.12.3"
  }
 },
 "nbformat": 4,
 "nbformat_minor": 5
}
