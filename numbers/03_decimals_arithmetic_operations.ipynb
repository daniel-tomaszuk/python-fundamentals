{
 "cells": [
  {
   "cell_type": "code",
   "execution_count": 1,
   "id": "70beb390-a106-4786-8309-a332c42b3366",
   "metadata": {},
   "outputs": [],
   "source": [
    "import decimal\n",
    "from decimal import Decimal"
   ]
  },
  {
   "cell_type": "code",
   "execution_count": 2,
   "id": "7a2bd82e-c2a4-4534-aa1d-b00182e76e8e",
   "metadata": {},
   "outputs": [],
   "source": [
    "# div // and mod % work different for Decimals and for floats\n",
    "# it still satisfies n = d * (n // d) + (n % d) \n",
    "# where n - fraction numerator, d - fraction denumerator"
   ]
  },
  {
   "cell_type": "code",
   "execution_count": 6,
   "id": "9b5f1d0e-dc9e-4e82-a557-aa1911aeaeca",
   "metadata": {},
   "outputs": [
    {
     "name": "stdout",
     "output_type": "stream",
     "text": [
      "3 1 (3, 1)\n",
      "True\n"
     ]
    }
   ],
   "source": [
    "x = 10\n",
    "y = 3\n",
    "print(x // y, x % y, divmod(x, y))\n",
    "print(x == (x // y) * y + (x % y))"
   ]
  },
  {
   "cell_type": "code",
   "execution_count": 7,
   "id": "41a98480-7530-4fb5-aa45-342b6a5cbe5d",
   "metadata": {},
   "outputs": [
    {
     "name": "stdout",
     "output_type": "stream",
     "text": [
      "3 1 (Decimal('3'), Decimal('1'))\n",
      "True\n"
     ]
    }
   ],
   "source": [
    "x = Decimal(\"10\")\n",
    "y = Decimal(\"3\")\n",
    "print(x // y, x % y, divmod(x, y))\n",
    "print(x == (x // y) * y + (x % y))"
   ]
  },
  {
   "cell_type": "code",
   "execution_count": 8,
   "id": "7a3067fb-035e-4537-8501-598a032ca6eb",
   "metadata": {},
   "outputs": [
    {
     "name": "stdout",
     "output_type": "stream",
     "text": [
      "-4 2 (-4, 2)\n",
      "True\n"
     ]
    }
   ],
   "source": [
    "x = -10\n",
    "y = 3\n",
    "print(x // y, x % y, divmod(x, y))\n",
    "print(x == (x // y) * y + (x % y))"
   ]
  },
  {
   "cell_type": "code",
   "execution_count": 9,
   "id": "b68ff55a-68c6-48ec-853d-d6e08adacc3a",
   "metadata": {},
   "outputs": [
    {
     "name": "stdout",
     "output_type": "stream",
     "text": [
      "-3 -1 (Decimal('-3'), Decimal('-1'))\n",
      "True\n"
     ]
    }
   ],
   "source": [
    "x = Decimal(\"-10\")\n",
    "y = Decimal(\"3\")\n",
    "print(x // y, x % y, divmod(x, y))\n",
    "print(x == (x // y) * y + (x % y))"
   ]
  },
  {
   "cell_type": "code",
   "execution_count": 10,
   "id": "dc168f02-c87d-444d-b1c7-b5492f6bb6f6",
   "metadata": {},
   "outputs": [
    {
     "data": {
      "text/plain": [
       "Decimal('0.4054651081081643819780131155')"
      ]
     },
     "execution_count": 10,
     "metadata": {},
     "output_type": "execute_result"
    }
   ],
   "source": [
    "a = Decimal(\"1.5\")\n",
    "a.ln()"
   ]
  },
  {
   "cell_type": "code",
   "execution_count": 11,
   "id": "7f8c8d21-80f3-42fa-be8c-ef9676496085",
   "metadata": {},
   "outputs": [
    {
     "data": {
      "text/plain": [
       "Decimal('4.481689070338064822602055460')"
      ]
     },
     "execution_count": 11,
     "metadata": {},
     "output_type": "execute_result"
    }
   ],
   "source": [
    "a.exp()"
   ]
  },
  {
   "cell_type": "code",
   "execution_count": 12,
   "id": "571e9592-d7e8-41c0-b70b-9af7cde58b1f",
   "metadata": {},
   "outputs": [
    {
     "data": {
      "text/plain": [
       "Decimal('1.224744871391589049098642037')"
      ]
     },
     "execution_count": 12,
     "metadata": {},
     "output_type": "execute_result"
    }
   ],
   "source": [
    "a.sqrt()"
   ]
  },
  {
   "cell_type": "code",
   "execution_count": 13,
   "id": "18dbc5b2-4ad5-4b9d-91b9-149b2e806af5",
   "metadata": {},
   "outputs": [
    {
     "data": {
      "text/plain": [
       "False"
      ]
     },
     "execution_count": 13,
     "metadata": {},
     "output_type": "execute_result"
    }
   ],
   "source": [
    "a.is_zero()"
   ]
  },
  {
   "cell_type": "code",
   "execution_count": 25,
   "id": "07eebd5c-ee95-4729-b9f2-ba091f8bbe5c",
   "metadata": {},
   "outputs": [
    {
     "name": "stdout",
     "output_type": "stream",
     "text": [
      "1.414213562373095145474621859\n",
      "1.414213562373095145474621859\n",
      "1.414213562373095048801688724\n"
     ]
    }
   ],
   "source": [
    "import math\n",
    "\n",
    "x = 2\n",
    "x_dec = Decimal(str(x))\n",
    "root_float = math.sqrt(x)\n",
    "root_mixed = math.sqrt(x_dec)\n",
    "root_dec = x_dec.sqrt()\n",
    "print(format(root_float, \"1.27f\"))\n",
    "print(format(root_mixed, \"1.27f\"))\n",
    "print(format(root_dec, \"1.27f\"))"
   ]
  },
  {
   "cell_type": "code",
   "execution_count": 26,
   "id": "824d4fad-93e7-4a88-bc31-0e5877b587ae",
   "metadata": {},
   "outputs": [
    {
     "name": "stdout",
     "output_type": "stream",
     "text": [
      "2.000000000000000444089209850\n",
      "2.000000000000000444089209850\n",
      "1.999999999999999999999999999\n"
     ]
    }
   ],
   "source": [
    "# should give original number back\n",
    "print(format(root_float * root_float, \"1.27f\"))\n",
    "print(format(root_mixed * root_mixed, \"1.27f\"))\n",
    "print(format(root_dec * root_dec, \"1.27f\"))"
   ]
  },
  {
   "cell_type": "code",
   "execution_count": 27,
   "id": "65838409-9e4d-47b9-9c3f-13f189613d4f",
   "metadata": {},
   "outputs": [
    {
     "name": "stdout",
     "output_type": "stream",
     "text": [
      "0.100000000000000005551115123\n",
      "0.100000000000000005551115123\n",
      "0.100000000000000000000000000\n"
     ]
    }
   ],
   "source": [
    "x = 0.01\n",
    "x_dec = Decimal(str(x))\n",
    "root_float = math.sqrt(x)\n",
    "root_mixed = math.sqrt(x_dec)\n",
    "root_dec = x_dec.sqrt()\n",
    "print(format(root_float, \"1.27f\"))\n",
    "print(format(root_mixed, \"1.27f\"))\n",
    "print(format(root_dec, \"1.27f\"))"
   ]
  },
  {
   "cell_type": "code",
   "execution_count": 28,
   "id": "8f707333-38e6-44eb-83da-775c3c84d31c",
   "metadata": {},
   "outputs": [
    {
     "name": "stdout",
     "output_type": "stream",
     "text": [
      "0.010000000000000001942890293\n",
      "0.010000000000000001942890293\n",
      "0.010000000000000000000000000\n"
     ]
    }
   ],
   "source": [
    "print(format(root_float * root_float, \"1.27f\"))\n",
    "print(format(root_mixed * root_mixed, \"1.27f\"))\n",
    "print(format(root_dec * root_dec, \"1.27f\"))"
   ]
  },
  {
   "cell_type": "code",
   "execution_count": null,
   "id": "999e228c-dbef-42d3-959c-0b2e75aeb005",
   "metadata": {},
   "outputs": [],
   "source": []
  }
 ],
 "metadata": {
  "kernelspec": {
   "display_name": "Python 3 (ipykernel)",
   "language": "python",
   "name": "python3"
  },
  "language_info": {
   "codemirror_mode": {
    "name": "ipython",
    "version": 3
   },
   "file_extension": ".py",
   "mimetype": "text/x-python",
   "name": "python",
   "nbconvert_exporter": "python",
   "pygments_lexer": "ipython3",
   "version": "3.12.3"
  }
 },
 "nbformat": 4,
 "nbformat_minor": 5
}
