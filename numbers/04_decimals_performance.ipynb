{
 "cells": [
  {
   "cell_type": "code",
   "execution_count": 1,
   "id": "ffd70348-84f5-463a-8e11-1f192ba00f9e",
   "metadata": {},
   "outputs": [],
   "source": [
    "import sys\n",
    "from decimal import Decimal"
   ]
  },
  {
   "cell_type": "code",
   "execution_count": 2,
   "id": "509f60f8-26ee-47b7-b300-589aca579a1b",
   "metadata": {},
   "outputs": [],
   "source": [
    "a = 3.14159\n",
    "b = Decimal(\"3.14159\")"
   ]
  },
  {
   "cell_type": "code",
   "execution_count": 3,
   "id": "7a6dde63-9623-4d8d-a515-615d2a834f3b",
   "metadata": {},
   "outputs": [
    {
     "data": {
      "text/plain": [
       "24"
      ]
     },
     "execution_count": 3,
     "metadata": {},
     "output_type": "execute_result"
    }
   ],
   "source": [
    "sys.getsizeof(a)"
   ]
  },
  {
   "cell_type": "code",
   "execution_count": 5,
   "id": "d8717c8d-e732-43b3-a9c8-e39dc02d1a21",
   "metadata": {},
   "outputs": [
    {
     "data": {
      "text/plain": [
       "104"
      ]
     },
     "execution_count": 5,
     "metadata": {},
     "output_type": "execute_result"
    }
   ],
   "source": [
    "sys.getsizeof(b)  # every Decimal requires 104 bytes!"
   ]
  },
  {
   "cell_type": "code",
   "execution_count": 7,
   "id": "e6690920-4a0b-45b4-8157-9e99ae030b62",
   "metadata": {},
   "outputs": [],
   "source": [
    "from time import perf_counter"
   ]
  },
  {
   "cell_type": "code",
   "execution_count": 8,
   "id": "539a6dd7-d413-4738-9460-51d9706f7203",
   "metadata": {},
   "outputs": [],
   "source": [
    "def run_float(n=1):\n",
    "    for i in range(n):\n",
    "        a = 3.14159\n",
    "\n",
    "def run_decimal(n=1):\n",
    "    for i in range(n):\n",
    "        a = Decimal(\"3.14159\")"
   ]
  },
  {
   "cell_type": "code",
   "execution_count": 17,
   "id": "9cc343d4-2709-4c87-aaf5-09a10ff043ab",
   "metadata": {},
   "outputs": [
    {
     "name": "stdout",
     "output_type": "stream",
     "text": [
      "float 6.066799960535718e-05\n"
     ]
    }
   ],
   "source": [
    "n = 10000000000\n",
    "start = perf_counter()\n",
    "run_float()\n",
    "end = perf_counter()\n",
    "print(\"float\", end-start)"
   ]
  },
  {
   "cell_type": "code",
   "execution_count": 18,
   "id": "1738dfcb-9ac8-4914-9f7b-09954801971d",
   "metadata": {},
   "outputs": [
    {
     "name": "stdout",
     "output_type": "stream",
     "text": [
      "decimal 6.884199956402881e-05\n"
     ]
    }
   ],
   "source": [
    "n = 10000000000\n",
    "start = perf_counter()\n",
    "run_decimal()\n",
    "end = perf_counter()\n",
    "print(\"decimal\", end-start)"
   ]
  },
  {
   "cell_type": "code",
   "execution_count": 19,
   "id": "bec105ee-8bdc-4cc5-991d-8c3efb3c47fd",
   "metadata": {},
   "outputs": [],
   "source": [
    "def run_float(n=1):\n",
    "    a = 3.14159\n",
    "    for i in range(n):\n",
    "        a + a\n",
    "\n",
    "def run_decimal(n=1):\n",
    "    a = Decimal(\"3.14159\")\n",
    "    for i in range(n):\n",
    "        a + a"
   ]
  },
  {
   "cell_type": "code",
   "execution_count": 20,
   "id": "95a353a3-c8df-48d1-811b-2687dc45b5f4",
   "metadata": {},
   "outputs": [
    {
     "name": "stdout",
     "output_type": "stream",
     "text": [
      "float 0.00019260699991718866\n"
     ]
    }
   ],
   "source": [
    "n = 10000000000\n",
    "start = perf_counter()\n",
    "run_float()\n",
    "end = perf_counter()\n",
    "print(\"float\", end-start)"
   ]
  },
  {
   "cell_type": "code",
   "execution_count": 21,
   "id": "255153ba-dca3-4bed-a146-8493908300da",
   "metadata": {},
   "outputs": [
    {
     "name": "stdout",
     "output_type": "stream",
     "text": [
      "decimal 0.0002274409998790361\n"
     ]
    }
   ],
   "source": [
    "n = 10000000000\n",
    "start = perf_counter()\n",
    "run_decimal()\n",
    "end = perf_counter()\n",
    "print(\"decimal\", end-start)"
   ]
  },
  {
   "cell_type": "code",
   "execution_count": null,
   "id": "6d79452c-93be-4451-8c3e-f3d1145c4a67",
   "metadata": {},
   "outputs": [],
   "source": []
  }
 ],
 "metadata": {
  "kernelspec": {
   "display_name": "Python 3 (ipykernel)",
   "language": "python",
   "name": "python3"
  },
  "language_info": {
   "codemirror_mode": {
    "name": "ipython",
    "version": 3
   },
   "file_extension": ".py",
   "mimetype": "text/x-python",
   "name": "python",
   "nbconvert_exporter": "python",
   "pygments_lexer": "ipython3",
   "version": "3.12.3"
  }
 },
 "nbformat": 4,
 "nbformat_minor": 5
}
