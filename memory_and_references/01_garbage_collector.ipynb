{
 "cells": [
  {
   "cell_type": "code",
   "execution_count": 1,
   "id": "d1e553d5-cff7-43a8-8e1e-ef72e717a0ef",
   "metadata": {},
   "outputs": [],
   "source": [
    "import ctypes\n",
    "import gc\n",
    "\n",
    "\n",
    "def ref_count(address: int):\n",
    "    return ctypes.c_long.from_address(address).value\n",
    "\n",
    "\n",
    "def object_by_id(object_id: int):\n",
    "    for obj in gc.get_objects():\n",
    "        if id(obj) == object_id:\n",
    "            return \"Object exists\"\n",
    "    return \"Not found\"\n"
   ]
  },
  {
   "cell_type": "code",
   "execution_count": 2,
   "id": "4c204316-8a97-4427-954f-005dd404623c",
   "metadata": {},
   "outputs": [],
   "source": [
    "class A:\n",
    "    def __init__(self):\n",
    "        self.b = B(self)\n",
    "        print(f\"A: {id(self)}, B: {id(self.b)}\")\n",
    "\n",
    "\n",
    "class B:\n",
    "    def __init__(self, a):\n",
    "        self.a = a\n",
    "        print(f\"B: {id(self)}, A: {id(self.a)}\")\n"
   ]
  },
  {
   "cell_type": "code",
   "execution_count": 3,
   "id": "daa2d98f-58a4-402b-a205-59fa0f176088",
   "metadata": {},
   "outputs": [],
   "source": [
    "gc.disable()  # disables garbage collector"
   ]
  },
  {
   "cell_type": "code",
   "execution_count": 4,
   "id": "41947d8e-0637-4550-884a-4c98eb5a2b6c",
   "metadata": {},
   "outputs": [
    {
     "name": "stdout",
     "output_type": "stream",
     "text": [
      "B: 4372183376, A: 4372171472\n",
      "A: 4372171472, B: 4372183376\n"
     ]
    }
   ],
   "source": [
    "my_var = A()"
   ]
  },
  {
   "cell_type": "code",
   "execution_count": 5,
   "id": "65b3f24f-ce90-4470-9981-abd336314fe4",
   "metadata": {},
   "outputs": [
    {
     "name": "stdout",
     "output_type": "stream",
     "text": [
      "4372171472 4372183376\n"
     ]
    }
   ],
   "source": [
    "print(id(my_var), id(my_var.b))"
   ]
  },
  {
   "cell_type": "code",
   "execution_count": 6,
   "id": "d8c12b8b-3cd8-446e-8175-825b637b3243",
   "metadata": {},
   "outputs": [],
   "source": [
    "a_id = id(my_var)\n",
    "b_id = id(my_var.b)"
   ]
  },
  {
   "cell_type": "code",
   "execution_count": 7,
   "id": "49f5c096-7210-4b45-8af2-eeae44652e0b",
   "metadata": {},
   "outputs": [
    {
     "data": {
      "text/plain": [
       "2"
      ]
     },
     "execution_count": 7,
     "metadata": {},
     "output_type": "execute_result"
    }
   ],
   "source": [
    "ref_count(a_id)"
   ]
  },
  {
   "cell_type": "code",
   "execution_count": 8,
   "id": "29c89112-d1ac-4c4c-bb81-c66d1d2c7d04",
   "metadata": {},
   "outputs": [
    {
     "data": {
      "text/plain": [
       "1"
      ]
     },
     "execution_count": 8,
     "metadata": {},
     "output_type": "execute_result"
    }
   ],
   "source": [
    "ref_count(b_id)"
   ]
  },
  {
   "cell_type": "code",
   "execution_count": 9,
   "id": "a1cf037a-78a6-4a89-9d0c-c1b28ae63644",
   "metadata": {},
   "outputs": [
    {
     "data": {
      "text/plain": [
       "'Object exists'"
      ]
     },
     "execution_count": 9,
     "metadata": {},
     "output_type": "execute_result"
    }
   ],
   "source": [
    "object_by_id(a_id)"
   ]
  },
  {
   "cell_type": "code",
   "execution_count": 10,
   "id": "4e143c5f-bf76-4c7c-ad1d-f7d99c1ba4c5",
   "metadata": {},
   "outputs": [
    {
     "data": {
      "text/plain": [
       "'Object exists'"
      ]
     },
     "execution_count": 10,
     "metadata": {},
     "output_type": "execute_result"
    }
   ],
   "source": [
    "object_by_id(b_id)"
   ]
  },
  {
   "cell_type": "code",
   "execution_count": 11,
   "id": "703ae96e-43f9-4ceb-8799-fdde6c8dbb9f",
   "metadata": {},
   "outputs": [],
   "source": [
    "my_var = None"
   ]
  },
  {
   "cell_type": "code",
   "execution_count": 12,
   "id": "bacd29ed-0cd0-4ee2-b293-de13324e55b9",
   "metadata": {},
   "outputs": [
    {
     "data": {
      "text/plain": [
       "(1, 1)"
      ]
     },
     "execution_count": 12,
     "metadata": {},
     "output_type": "execute_result"
    }
   ],
   "source": [
    "ref_count(a_id), ref_count(b_id)"
   ]
  },
  {
   "cell_type": "code",
   "execution_count": 13,
   "id": "e2c60263-e3a5-494e-9a1e-9d33f2eeb1b3",
   "metadata": {},
   "outputs": [
    {
     "data": {
      "text/plain": [
       "('Object exists', 'Object exists')"
      ]
     },
     "execution_count": 13,
     "metadata": {},
     "output_type": "execute_result"
    }
   ],
   "source": [
    "object_by_id(a_id), object_by_id(b_id)"
   ]
  },
  {
   "cell_type": "code",
   "execution_count": 14,
   "id": "980b8341-30cb-4394-ace8-09940427553c",
   "metadata": {},
   "outputs": [
    {
     "data": {
      "text/plain": [
       "5"
      ]
     },
     "execution_count": 14,
     "metadata": {},
     "output_type": "execute_result"
    }
   ],
   "source": [
    "gc.collect()"
   ]
  },
  {
   "cell_type": "code",
   "execution_count": 15,
   "id": "763a0a8f-5340-4170-b203-e871f509aa41",
   "metadata": {},
   "outputs": [
    {
     "data": {
      "text/plain": [
       "('Not found', 'Not found')"
      ]
     },
     "execution_count": 15,
     "metadata": {},
     "output_type": "execute_result"
    }
   ],
   "source": [
    "object_by_id(a_id), object_by_id(b_id)"
   ]
  },
  {
   "cell_type": "code",
   "execution_count": 16,
   "id": "9d134712-04c3-41ef-b29e-1fd5411070f1",
   "metadata": {},
   "outputs": [
    {
     "data": {
      "text/plain": [
       "(1, 4338568548)"
      ]
     },
     "execution_count": 16,
     "metadata": {},
     "output_type": "execute_result"
    }
   ],
   "source": [
    "ref_count(a_id), ref_count(b_id)  # gibersih memory values after cleanup"
   ]
  },
  {
   "cell_type": "code",
   "execution_count": null,
   "id": "0fc6808b-c2cd-4270-a184-5e574ac28b34",
   "metadata": {},
   "outputs": [],
   "source": []
  }
 ],
 "metadata": {
  "kernelspec": {
   "display_name": "Python 3 (ipykernel)",
   "language": "python",
   "name": "python3"
  },
  "language_info": {
   "codemirror_mode": {
    "name": "ipython",
    "version": 3
   },
   "file_extension": ".py",
   "mimetype": "text/x-python",
   "name": "python",
   "nbconvert_exporter": "python",
   "pygments_lexer": "ipython3",
   "version": "3.12.3"
  }
 },
 "nbformat": 4,
 "nbformat_minor": 5
}
