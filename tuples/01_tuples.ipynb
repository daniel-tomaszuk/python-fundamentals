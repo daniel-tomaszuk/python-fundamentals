{
 "cells": [
  {
   "cell_type": "code",
   "execution_count": 1,
   "id": "89c059fa-fa3e-4773-b480-1d6d17637237",
   "metadata": {},
   "outputs": [],
   "source": [
    "# tuples as data structures"
   ]
  },
  {
   "cell_type": "code",
   "execution_count": 2,
   "id": "ffa97210-1da1-44d3-ad47-22845bb32996",
   "metadata": {},
   "outputs": [
    {
     "data": {
      "text/plain": [
       "tuple"
      ]
     },
     "execution_count": 2,
     "metadata": {},
     "output_type": "execute_result"
    }
   ],
   "source": [
    "a = 1,2,3,4\n",
    "type(a)"
   ]
  },
  {
   "cell_type": "code",
   "execution_count": 3,
   "id": "aa89f5d4-2fc1-4591-b34c-de46e2577744",
   "metadata": {},
   "outputs": [
    {
     "name": "stdout",
     "output_type": "stream",
     "text": [
      "1 2 [3, 4]\n"
     ]
    }
   ],
   "source": [
    "x,y,*z = a\n",
    "print(x,y,z)"
   ]
  },
  {
   "cell_type": "code",
   "execution_count": 4,
   "id": "c6a547cd-0e50-4d46-b2ba-5529c88d48de",
   "metadata": {},
   "outputs": [],
   "source": [
    "a = ([1,2,3,4], [\"a\", \"b\"])\n",
    "a[0].append(5)  # element will be added"
   ]
  },
  {
   "cell_type": "code",
   "execution_count": 5,
   "id": "51f52db5-8913-4044-bf87-c27e64b3b8d6",
   "metadata": {},
   "outputs": [
    {
     "data": {
      "text/plain": [
       "([1, 2, 3, 4, 5], ['a', 'b'])"
      ]
     },
     "execution_count": 5,
     "metadata": {},
     "output_type": "execute_result"
    }
   ],
   "source": [
    "a"
   ]
  },
  {
   "cell_type": "code",
   "execution_count": 6,
   "id": "ef020f5f-54c3-4b76-8eeb-d88357f40cd1",
   "metadata": {},
   "outputs": [
    {
     "data": {
      "text/plain": [
       "4473874432"
      ]
     },
     "execution_count": 6,
     "metadata": {},
     "output_type": "execute_result"
    }
   ],
   "source": [
    "a = 1,2,3\n",
    "id(a)"
   ]
  },
  {
   "cell_type": "code",
   "execution_count": 7,
   "id": "b4f628a1-b4f4-4545-a8fe-3a8462a4d135",
   "metadata": {},
   "outputs": [
    {
     "data": {
      "text/plain": [
       "(4473429488, (1, 2, 3, 4, 5))"
      ]
     },
     "execution_count": 7,
     "metadata": {},
     "output_type": "execute_result"
    }
   ],
   "source": [
    "a += 4,5  # new tuple is created!\n",
    "id(a), a"
   ]
  },
  {
   "cell_type": "code",
   "execution_count": 8,
   "id": "8747e327-b5df-40d0-93df-57019e69d15f",
   "metadata": {},
   "outputs": [],
   "source": [
    "class Point3D:\n",
    "    def __init__(self, x, y, z):\n",
    "        self.x = x\n",
    "        self.y = y\n",
    "        self.z = z"
   ]
  },
  {
   "cell_type": "code",
   "execution_count": 9,
   "id": "bb5b58f1-0eff-4a22-af71-04806bea4784",
   "metadata": {},
   "outputs": [],
   "source": [
    "from collections import namedtuple"
   ]
  },
  {
   "cell_type": "code",
   "execution_count": 10,
   "id": "72e855ed-b6d5-4f01-98b3-1a2e7a593f38",
   "metadata": {},
   "outputs": [],
   "source": [
    "Point2D = namedtuple(\"Point2D\", [\"x\", \"y\"])"
   ]
  },
  {
   "cell_type": "code",
   "execution_count": 11,
   "id": "4a19d2d6-6f34-4165-a93c-63f87a3935b3",
   "metadata": {},
   "outputs": [
    {
     "data": {
      "text/plain": [
       "mappingproxy({'__doc__': 'Point2D(x, y)',\n",
       "              '__slots__': (),\n",
       "              '_fields': ('x', 'y'),\n",
       "              '_field_defaults': {},\n",
       "              '__new__': <staticmethod(<function Point2D.__new__ at 0x10aaa4a40>)>,\n",
       "              '_make': <classmethod(<function Point2D._make at 0x10aaa49a0>)>,\n",
       "              '_replace': <function collections.Point2D._replace(self, /, **kwds)>,\n",
       "              '__repr__': <function collections.Point2D.__repr__(self)>,\n",
       "              '_asdict': <function collections.Point2D._asdict(self)>,\n",
       "              '__getnewargs__': <function collections.Point2D.__getnewargs__(self)>,\n",
       "              '__match_args__': ('x', 'y'),\n",
       "              'x': _tuplegetter(0, 'Alias for field number 0'),\n",
       "              'y': _tuplegetter(1, 'Alias for field number 1'),\n",
       "              '__module__': '__main__'})"
      ]
     },
     "execution_count": 11,
     "metadata": {},
     "output_type": "execute_result"
    }
   ],
   "source": [
    "Point2D.__dict__"
   ]
  },
  {
   "cell_type": "code",
   "execution_count": 12,
   "id": "9888cd61-c81f-485a-ad15-1004cc1d713f",
   "metadata": {},
   "outputs": [],
   "source": [
    "pt1 = Point2D(10, 20)"
   ]
  },
  {
   "cell_type": "code",
   "execution_count": 13,
   "id": "4bd21b81-9577-4e45-a27a-baa584451f2a",
   "metadata": {},
   "outputs": [
    {
     "data": {
      "text/plain": [
       "Point2D(x=10, y=20)"
      ]
     },
     "execution_count": 13,
     "metadata": {},
     "output_type": "execute_result"
    }
   ],
   "source": [
    "pt1"
   ]
  },
  {
   "cell_type": "code",
   "execution_count": 14,
   "id": "467d812c-bf49-49f9-9b09-cd59c4440238",
   "metadata": {},
   "outputs": [
    {
     "data": {
      "text/plain": [
       "(10, 20)"
      ]
     },
     "execution_count": 14,
     "metadata": {},
     "output_type": "execute_result"
    }
   ],
   "source": [
    "pt1.x, pt1.y"
   ]
  },
  {
   "cell_type": "code",
   "execution_count": 15,
   "id": "35ebde73-fc80-47b8-9d6f-06f7eb92d85d",
   "metadata": {},
   "outputs": [],
   "source": [
    "Pt2D = namedtuple(\"Point2D\", (\"x\", \"y\"))"
   ]
  },
  {
   "cell_type": "code",
   "execution_count": 16,
   "id": "b5549e9d-1ba0-41f0-916c-a88ebb92fb2c",
   "metadata": {},
   "outputs": [],
   "source": [
    "pt2 = Pt2D(10, 20)"
   ]
  },
  {
   "cell_type": "code",
   "execution_count": 17,
   "id": "53275b6c-d4da-4b81-b1e8-03c7fb61ae0f",
   "metadata": {},
   "outputs": [
    {
     "data": {
      "text/plain": [
       "Point2D(x=10, y=20)"
      ]
     },
     "execution_count": 17,
     "metadata": {},
     "output_type": "execute_result"
    }
   ],
   "source": [
    "pt2"
   ]
  },
  {
   "cell_type": "code",
   "execution_count": 18,
   "id": "d920422c-c3ea-4bfd-b1c9-524d65f08ddc",
   "metadata": {},
   "outputs": [
    {
     "data": {
      "text/plain": [
       "True"
      ]
     },
     "execution_count": 18,
     "metadata": {},
     "output_type": "execute_result"
    }
   ],
   "source": [
    "isinstance(pt2, tuple)"
   ]
  },
  {
   "cell_type": "code",
   "execution_count": 19,
   "id": "972369f6-eacd-4017-aef2-31b841b99193",
   "metadata": {},
   "outputs": [
    {
     "name": "stdout",
     "output_type": "stream",
     "text": [
      "can't set attribute\n"
     ]
    }
   ],
   "source": [
    "try:\n",
    "    pt2.x = 22\n",
    "except AttributeError as e:\n",
    "    print(e)"
   ]
  },
  {
   "cell_type": "code",
   "execution_count": 20,
   "id": "320edd06-f78b-4e45-91c9-7b9d745358d8",
   "metadata": {},
   "outputs": [],
   "source": [
    "pt1 = Point2D(10, 20)"
   ]
  },
  {
   "cell_type": "code",
   "execution_count": 21,
   "id": "bf7adfdd-e7f2-4060-bf80-d8e587961519",
   "metadata": {},
   "outputs": [],
   "source": [
    "pt2 = Point2D(10, 20)"
   ]
  },
  {
   "cell_type": "code",
   "execution_count": 22,
   "id": "f2f67002-64c6-468f-ab70-ebedc91465b3",
   "metadata": {},
   "outputs": [
    {
     "data": {
      "text/plain": [
       "False"
      ]
     },
     "execution_count": 22,
     "metadata": {},
     "output_type": "execute_result"
    }
   ],
   "source": [
    "pt1 is pt2"
   ]
  },
  {
   "cell_type": "code",
   "execution_count": 23,
   "id": "a2443379-d632-41ce-af0f-6311289d0591",
   "metadata": {},
   "outputs": [
    {
     "data": {
      "text/plain": [
       "True"
      ]
     },
     "execution_count": 23,
     "metadata": {},
     "output_type": "execute_result"
    }
   ],
   "source": [
    "pt1 == pt2  # __eq__ is defined by default by namedtuple"
   ]
  },
  {
   "cell_type": "code",
   "execution_count": 24,
   "id": "393cff9d-14bd-40dd-a482-87cba68dc292",
   "metadata": {},
   "outputs": [
    {
     "data": {
      "text/plain": [
       "20"
      ]
     },
     "execution_count": 24,
     "metadata": {},
     "output_type": "execute_result"
    }
   ],
   "source": [
    "max(pt1)  # __iter__ is implemented"
   ]
  },
  {
   "cell_type": "code",
   "execution_count": 25,
   "id": "d3be6f91-1bae-4d83-94d9-4a22bee1b67b",
   "metadata": {},
   "outputs": [
    {
     "name": "stdout",
     "output_type": "stream",
     "text": [
      "Field names cannot start with an underscore: '_ssn'\n"
     ]
    }
   ],
   "source": [
    "# underscore names are not allowed\n",
    "try:\n",
    "    person = namedtuple(\"Person\", (\"age name _ssn\"))\n",
    "except ValueError as e:\n",
    "    print(e)"
   ]
  },
  {
   "cell_type": "code",
   "execution_count": 26,
   "id": "a7428d6b-a7e2-472b-a8a3-f132447365bf",
   "metadata": {},
   "outputs": [],
   "source": [
    "person = namedtuple(\"Person\", (\"age name _ssn\"), rename=True)"
   ]
  },
  {
   "cell_type": "code",
   "execution_count": 27,
   "id": "26326991-031b-4f4e-9c54-d8b385cb4b6b",
   "metadata": {},
   "outputs": [
    {
     "data": {
      "text/plain": [
       "('age', 'name', '_2')"
      ]
     },
     "execution_count": 27,
     "metadata": {},
     "output_type": "execute_result"
    }
   ],
   "source": [
    "person._fields"
   ]
  },
  {
   "cell_type": "code",
   "execution_count": 28,
   "id": "1fb23c0a-d5d5-40fd-98e7-4ad204ece6fd",
   "metadata": {},
   "outputs": [
    {
     "data": {
      "text/plain": [
       "('x', 'y')"
      ]
     },
     "execution_count": 28,
     "metadata": {},
     "output_type": "execute_result"
    }
   ],
   "source": [
    "Point2D._fields"
   ]
  },
  {
   "cell_type": "code",
   "execution_count": 29,
   "id": "80b0ca12-879c-4b1a-a939-0a2a02c9f1b2",
   "metadata": {},
   "outputs": [
    {
     "data": {
      "text/plain": [
       "{'x': 10, 'y': 20}"
      ]
     },
     "execution_count": 29,
     "metadata": {},
     "output_type": "execute_result"
    }
   ],
   "source": [
    "pt2._asdict()"
   ]
  },
  {
   "cell_type": "code",
   "execution_count": 30,
   "id": "cf7a2814-c593-4220-89dd-a74cc9628f13",
   "metadata": {},
   "outputs": [],
   "source": [
    "# modifing and extening named tuples"
   ]
  },
  {
   "cell_type": "code",
   "execution_count": 31,
   "id": "5517f040-5c3d-4cdb-8a8d-cfd3f9276e84",
   "metadata": {},
   "outputs": [],
   "source": [
    "Stock = namedtuple(\"Stock\", \"symbol year month day open high low close\")"
   ]
  },
  {
   "cell_type": "code",
   "execution_count": 32,
   "id": "2862e5c4-d967-4fc3-9c16-ed0677e416ba",
   "metadata": {},
   "outputs": [],
   "source": [
    "djia = Stock(\"DJIA\", 2018, 1, 25, 26_313, 26_458, 26_260, 26_393)"
   ]
  },
  {
   "cell_type": "code",
   "execution_count": 33,
   "id": "d0288d40-2d36-4eed-86c7-4de89e0f706f",
   "metadata": {},
   "outputs": [
    {
     "data": {
      "text/plain": [
       "Stock(symbol='DJIA', year=2018, month=1, day=25, open=26313, high=26458, low=26260, close=26393)"
      ]
     },
     "execution_count": 33,
     "metadata": {},
     "output_type": "execute_result"
    }
   ],
   "source": [
    "djia"
   ]
  },
  {
   "cell_type": "code",
   "execution_count": 34,
   "id": "d5c50c15-4543-4c44-a461-e18f97741850",
   "metadata": {},
   "outputs": [],
   "source": [
    "*values, close = djia"
   ]
  },
  {
   "cell_type": "code",
   "execution_count": 35,
   "id": "bb5c1ddb-a202-48f8-b788-03c45d64c287",
   "metadata": {},
   "outputs": [
    {
     "data": {
      "text/plain": [
       "(['DJIA', 2018, 1, 25, 26313, 26458, 26260], 26393)"
      ]
     },
     "execution_count": 35,
     "metadata": {},
     "output_type": "execute_result"
    }
   ],
   "source": [
    "values, close"
   ]
  },
  {
   "cell_type": "code",
   "execution_count": 36,
   "id": "773f3a00-3ce0-4d96-94de-d1462378c3a2",
   "metadata": {},
   "outputs": [],
   "source": [
    "values.append(26350)"
   ]
  },
  {
   "cell_type": "code",
   "execution_count": 37,
   "id": "5a100c63-d4b4-45e6-ae4b-dcced18de411",
   "metadata": {},
   "outputs": [
    {
     "data": {
      "text/plain": [
       "Stock(symbol='DJIA', year=2018, month=1, day=25, open=26313, high=26458, low=26260, close=26350)"
      ]
     },
     "execution_count": 37,
     "metadata": {},
     "output_type": "execute_result"
    }
   ],
   "source": [
    "Stock(*values)"
   ]
  },
  {
   "cell_type": "code",
   "execution_count": 38,
   "id": "981c7864-15f2-4e1c-b4ab-cb5ebddf7479",
   "metadata": {},
   "outputs": [],
   "source": [
    "dija = djia._replace(year=2020, month=2)  # creates new object"
   ]
  },
  {
   "cell_type": "code",
   "execution_count": 39,
   "id": "500ea73f-ccfb-43fe-ad58-063071d3ce60",
   "metadata": {},
   "outputs": [
    {
     "data": {
      "text/plain": [
       "Stock(symbol='DJIA', year=2020, month=2, day=25, open=26313, high=26458, low=26260, close=26393)"
      ]
     },
     "execution_count": 39,
     "metadata": {},
     "output_type": "execute_result"
    }
   ],
   "source": [
    "dija"
   ]
  },
  {
   "cell_type": "code",
   "execution_count": 40,
   "id": "8df31ce8-602e-4ef9-8ba4-60f6ef6cc444",
   "metadata": {},
   "outputs": [],
   "source": [
    "dija = Stock._make(dija)"
   ]
  },
  {
   "cell_type": "code",
   "execution_count": 41,
   "id": "a5af00fa-1ca8-422a-a74a-340134fcf898",
   "metadata": {},
   "outputs": [
    {
     "data": {
      "text/plain": [
       "Stock(symbol='DJIA', year=2020, month=2, day=25, open=26313, high=26458, low=26260, close=26393)"
      ]
     },
     "execution_count": 41,
     "metadata": {},
     "output_type": "execute_result"
    }
   ],
   "source": [
    "dija"
   ]
  },
  {
   "cell_type": "code",
   "execution_count": 42,
   "id": "197d3030-cb93-41d3-bd84-fac55f6a3983",
   "metadata": {},
   "outputs": [
    {
     "data": {
      "text/plain": [
       "('x', 'y')"
      ]
     },
     "execution_count": 42,
     "metadata": {},
     "output_type": "execute_result"
    }
   ],
   "source": [
    "Point2D._fields"
   ]
  },
  {
   "cell_type": "code",
   "execution_count": 43,
   "id": "f9d0f861-c4bc-4135-8e51-ffa8c971da3d",
   "metadata": {},
   "outputs": [],
   "source": [
    "Point3D = namedtuple(\"Point3D\", Point2D._fields + (\"z\",))"
   ]
  },
  {
   "cell_type": "code",
   "execution_count": 44,
   "id": "38fedc68-b264-480d-a90e-44ee7dc01219",
   "metadata": {},
   "outputs": [
    {
     "data": {
      "text/plain": [
       "('x', 'y', 'z')"
      ]
     },
     "execution_count": 44,
     "metadata": {},
     "output_type": "execute_result"
    }
   ],
   "source": [
    "Point3D._fields"
   ]
  },
  {
   "cell_type": "code",
   "execution_count": 45,
   "id": "e40f9ba2-1a08-4bbf-9ce0-fe05b8a925d4",
   "metadata": {},
   "outputs": [],
   "source": [
    "pt3d = Point3D(*pt2, 100)"
   ]
  },
  {
   "cell_type": "code",
   "execution_count": 46,
   "id": "983a8052-fa67-4768-9957-8c5e9907bb13",
   "metadata": {},
   "outputs": [
    {
     "data": {
      "text/plain": [
       "Point3D(x=10, y=20, z=100)"
      ]
     },
     "execution_count": 46,
     "metadata": {},
     "output_type": "execute_result"
    }
   ],
   "source": [
    "pt3d"
   ]
  },
  {
   "cell_type": "code",
   "execution_count": 47,
   "id": "64153302-4312-467c-875e-a4f3a8a6e6cd",
   "metadata": {},
   "outputs": [
    {
     "name": "stdout",
     "output_type": "stream",
     "text": [
      "Help on class Point3D in module __main__:\n",
      "\n",
      "class Point3D(builtins.tuple)\n",
      " |  Point3D(x, y, z)\n",
      " |\n",
      " |  Point3D(x, y, z)\n",
      " |\n",
      " |  Method resolution order:\n",
      " |      Point3D\n",
      " |      builtins.tuple\n",
      " |      builtins.object\n",
      " |\n",
      " |  Methods defined here:\n",
      " |\n",
      " |  __getnewargs__(self) from collections.Point3D\n",
      " |      Return self as a plain tuple.  Used by copy and pickle.\n",
      " |\n",
      " |  __repr__(self) from collections.Point3D\n",
      " |      Return a nicely formatted representation string\n",
      " |\n",
      " |  _asdict(self) from collections.Point3D\n",
      " |      Return a new dict which maps field names to their values.\n",
      " |\n",
      " |  _replace(self, /, **kwds) from collections.Point3D\n",
      " |      Return a new Point3D object replacing specified fields with new values\n",
      " |\n",
      " |  ----------------------------------------------------------------------\n",
      " |  Class methods defined here:\n",
      " |\n",
      " |  _make(iterable) from collections.Point3D\n",
      " |      Make a new Point3D object from a sequence or iterable\n",
      " |\n",
      " |  ----------------------------------------------------------------------\n",
      " |  Static methods defined here:\n",
      " |\n",
      " |  __new__(_cls, x, y, z) from namedtuple_Point3D.Point3D\n",
      " |      Create new instance of Point3D(x, y, z)\n",
      " |\n",
      " |  ----------------------------------------------------------------------\n",
      " |  Data descriptors defined here:\n",
      " |\n",
      " |  x\n",
      " |      Alias for field number 0\n",
      " |\n",
      " |  y\n",
      " |      Alias for field number 1\n",
      " |\n",
      " |  z\n",
      " |      Alias for field number 2\n",
      " |\n",
      " |  ----------------------------------------------------------------------\n",
      " |  Data and other attributes defined here:\n",
      " |\n",
      " |  __match_args__ = ('x', 'y', 'z')\n",
      " |\n",
      " |  _field_defaults = {}\n",
      " |\n",
      " |  _fields = ('x', 'y', 'z')\n",
      " |\n",
      " |  ----------------------------------------------------------------------\n",
      " |  Methods inherited from builtins.tuple:\n",
      " |\n",
      " |  __add__(self, value, /)\n",
      " |      Return self+value.\n",
      " |\n",
      " |  __contains__(self, key, /)\n",
      " |      Return bool(key in self).\n",
      " |\n",
      " |  __eq__(self, value, /)\n",
      " |      Return self==value.\n",
      " |\n",
      " |  __ge__(self, value, /)\n",
      " |      Return self>=value.\n",
      " |\n",
      " |  __getattribute__(self, name, /)\n",
      " |      Return getattr(self, name).\n",
      " |\n",
      " |  __getitem__(self, key, /)\n",
      " |      Return self[key].\n",
      " |\n",
      " |  __gt__(self, value, /)\n",
      " |      Return self>value.\n",
      " |\n",
      " |  __hash__(self, /)\n",
      " |      Return hash(self).\n",
      " |\n",
      " |  __iter__(self, /)\n",
      " |      Implement iter(self).\n",
      " |\n",
      " |  __le__(self, value, /)\n",
      " |      Return self<=value.\n",
      " |\n",
      " |  __len__(self, /)\n",
      " |      Return len(self).\n",
      " |\n",
      " |  __lt__(self, value, /)\n",
      " |      Return self<value.\n",
      " |\n",
      " |  __mul__(self, value, /)\n",
      " |      Return self*value.\n",
      " |\n",
      " |  __ne__(self, value, /)\n",
      " |      Return self!=value.\n",
      " |\n",
      " |  __rmul__(self, value, /)\n",
      " |      Return value*self.\n",
      " |\n",
      " |  count(self, value, /)\n",
      " |      Return number of occurrences of value.\n",
      " |\n",
      " |  index(self, value, start=0, stop=9223372036854775807, /)\n",
      " |      Return first index of value.\n",
      " |\n",
      " |      Raises ValueError if the value is not present.\n",
      " |\n",
      " |  ----------------------------------------------------------------------\n",
      " |  Class methods inherited from builtins.tuple:\n",
      " |\n",
      " |  __class_getitem__(...)\n",
      " |      See PEP 585\n",
      "\n"
     ]
    }
   ],
   "source": [
    "help(Point3D)"
   ]
  },
  {
   "cell_type": "code",
   "execution_count": 48,
   "id": "87622546-6d68-410a-bc88-25b9d70ebde7",
   "metadata": {},
   "outputs": [],
   "source": [
    "Point3D.__doc__ = \"Custom docstring for the class\""
   ]
  },
  {
   "cell_type": "code",
   "execution_count": 49,
   "id": "f7371317-ff5f-47a6-b7ab-5c57b1158c75",
   "metadata": {},
   "outputs": [],
   "source": [
    "Point3D.x.__doc__ = \"Custom docstring for the attr\""
   ]
  },
  {
   "cell_type": "code",
   "execution_count": 50,
   "id": "ab2708c3-9d81-45a1-aeb7-6f3ae0af0edf",
   "metadata": {},
   "outputs": [
    {
     "name": "stdout",
     "output_type": "stream",
     "text": [
      "Help on class Point3D in module __main__:\n",
      "\n",
      "class Point3D(builtins.tuple)\n",
      " |  Point3D(x, y, z)\n",
      " |\n",
      " |  Custom docstring for the class\n",
      " |\n",
      " |  Method resolution order:\n",
      " |      Point3D\n",
      " |      builtins.tuple\n",
      " |      builtins.object\n",
      " |\n",
      " |  Methods defined here:\n",
      " |\n",
      " |  __getnewargs__(self) from collections.Point3D\n",
      " |      Return self as a plain tuple.  Used by copy and pickle.\n",
      " |\n",
      " |  __repr__(self) from collections.Point3D\n",
      " |      Return a nicely formatted representation string\n",
      " |\n",
      " |  _asdict(self) from collections.Point3D\n",
      " |      Return a new dict which maps field names to their values.\n",
      " |\n",
      " |  _replace(self, /, **kwds) from collections.Point3D\n",
      " |      Return a new Point3D object replacing specified fields with new values\n",
      " |\n",
      " |  ----------------------------------------------------------------------\n",
      " |  Class methods defined here:\n",
      " |\n",
      " |  _make(iterable) from collections.Point3D\n",
      " |      Make a new Point3D object from a sequence or iterable\n",
      " |\n",
      " |  ----------------------------------------------------------------------\n",
      " |  Static methods defined here:\n",
      " |\n",
      " |  __new__(_cls, x, y, z) from namedtuple_Point3D.Point3D\n",
      " |      Create new instance of Point3D(x, y, z)\n",
      " |\n",
      " |  ----------------------------------------------------------------------\n",
      " |  Data descriptors defined here:\n",
      " |\n",
      " |  x\n",
      " |      Custom docstring for the attr\n",
      " |\n",
      " |  y\n",
      " |      Alias for field number 1\n",
      " |\n",
      " |  z\n",
      " |      Alias for field number 2\n",
      " |\n",
      " |  ----------------------------------------------------------------------\n",
      " |  Data and other attributes defined here:\n",
      " |\n",
      " |  __match_args__ = ('x', 'y', 'z')\n",
      " |\n",
      " |  _field_defaults = {}\n",
      " |\n",
      " |  _fields = ('x', 'y', 'z')\n",
      " |\n",
      " |  ----------------------------------------------------------------------\n",
      " |  Methods inherited from builtins.tuple:\n",
      " |\n",
      " |  __add__(self, value, /)\n",
      " |      Return self+value.\n",
      " |\n",
      " |  __contains__(self, key, /)\n",
      " |      Return bool(key in self).\n",
      " |\n",
      " |  __eq__(self, value, /)\n",
      " |      Return self==value.\n",
      " |\n",
      " |  __ge__(self, value, /)\n",
      " |      Return self>=value.\n",
      " |\n",
      " |  __getattribute__(self, name, /)\n",
      " |      Return getattr(self, name).\n",
      " |\n",
      " |  __getitem__(self, key, /)\n",
      " |      Return self[key].\n",
      " |\n",
      " |  __gt__(self, value, /)\n",
      " |      Return self>value.\n",
      " |\n",
      " |  __hash__(self, /)\n",
      " |      Return hash(self).\n",
      " |\n",
      " |  __iter__(self, /)\n",
      " |      Implement iter(self).\n",
      " |\n",
      " |  __le__(self, value, /)\n",
      " |      Return self<=value.\n",
      " |\n",
      " |  __len__(self, /)\n",
      " |      Return len(self).\n",
      " |\n",
      " |  __lt__(self, value, /)\n",
      " |      Return self<value.\n",
      " |\n",
      " |  __mul__(self, value, /)\n",
      " |      Return self*value.\n",
      " |\n",
      " |  __ne__(self, value, /)\n",
      " |      Return self!=value.\n",
      " |\n",
      " |  __rmul__(self, value, /)\n",
      " |      Return value*self.\n",
      " |\n",
      " |  count(self, value, /)\n",
      " |      Return number of occurrences of value.\n",
      " |\n",
      " |  index(self, value, start=0, stop=9223372036854775807, /)\n",
      " |      Return first index of value.\n",
      " |\n",
      " |      Raises ValueError if the value is not present.\n",
      " |\n",
      " |  ----------------------------------------------------------------------\n",
      " |  Class methods inherited from builtins.tuple:\n",
      " |\n",
      " |  __class_getitem__(...)\n",
      " |      See PEP 585\n",
      "\n"
     ]
    }
   ],
   "source": [
    "help(Point3D)"
   ]
  },
  {
   "cell_type": "code",
   "execution_count": 51,
   "id": "b304de81-ca48-4000-b8c2-f02925ff16f5",
   "metadata": {},
   "outputs": [],
   "source": [
    "# passing default values - prototype method\n",
    "Vector2D = namedtuple(\"Vector2D\", \"x1 y1 x2 y2 origin_x origin_y\")"
   ]
  },
  {
   "cell_type": "code",
   "execution_count": 52,
   "id": "13ac243b-2660-4fed-bd86-a0321dafe0b8",
   "metadata": {},
   "outputs": [
    {
     "data": {
      "text/plain": [
       "('x1', 'y1', 'x2', 'y2', 'origin_x', 'origin_y')"
      ]
     },
     "execution_count": 52,
     "metadata": {},
     "output_type": "execute_result"
    }
   ],
   "source": [
    "Vector2D._fields"
   ]
  },
  {
   "cell_type": "code",
   "execution_count": 53,
   "id": "5a2f22e2-b06d-4bb5-95cc-8b37c6c064c6",
   "metadata": {},
   "outputs": [],
   "source": [
    "v1 = Vector2D(0,0,10,10,0,0)"
   ]
  },
  {
   "cell_type": "code",
   "execution_count": 54,
   "id": "393c2267-190d-4b83-9d60-902e6b3e6481",
   "metadata": {},
   "outputs": [],
   "source": [
    "# set default values to the origin values"
   ]
  },
  {
   "cell_type": "code",
   "execution_count": 55,
   "id": "1114ef38-ac4c-4d12-8183-2bf30209cdf8",
   "metadata": {},
   "outputs": [],
   "source": [
    "vector_zero = Vector2D(0,0,0,0,0,0)"
   ]
  },
  {
   "cell_type": "code",
   "execution_count": 56,
   "id": "225f4cda-1e8e-4d01-9fbe-cf3e52c4a57c",
   "metadata": {},
   "outputs": [
    {
     "data": {
      "text/plain": [
       "Vector2D(x1=0, y1=0, x2=0, y2=0, origin_x=0, origin_y=0)"
      ]
     },
     "execution_count": 56,
     "metadata": {},
     "output_type": "execute_result"
    }
   ],
   "source": [
    "vector_zero  # just an instance with default values, now we can use to to create other vectors"
   ]
  },
  {
   "cell_type": "code",
   "execution_count": 57,
   "id": "cc33d409-41b5-4444-8b7b-cfb474a4d8c9",
   "metadata": {},
   "outputs": [],
   "source": [
    "v2 = vector_zero._replace(x1=10, y1=10, x2=20, y2=20)"
   ]
  },
  {
   "cell_type": "code",
   "execution_count": 58,
   "id": "f432cca8-dfae-4401-abc3-4654f7202ffa",
   "metadata": {},
   "outputs": [
    {
     "data": {
      "text/plain": [
       "Vector2D(x1=10, y1=10, x2=20, y2=20, origin_x=0, origin_y=0)"
      ]
     },
     "execution_count": 58,
     "metadata": {},
     "output_type": "execute_result"
    }
   ],
   "source": [
    "v2"
   ]
  },
  {
   "cell_type": "code",
   "execution_count": 59,
   "id": "8a765c55-83ea-4866-8f93-28aa42641997",
   "metadata": {},
   "outputs": [],
   "source": [
    "def func(a, b=10, c=20):\n",
    "    print(a,b,c)"
   ]
  },
  {
   "cell_type": "code",
   "execution_count": 60,
   "id": "9664fa3b-2f6e-4205-929a-3aff628476ed",
   "metadata": {},
   "outputs": [
    {
     "data": {
      "text/plain": [
       "(10, 20)"
      ]
     },
     "execution_count": 60,
     "metadata": {},
     "output_type": "execute_result"
    }
   ],
   "source": [
    "func.__defaults__"
   ]
  },
  {
   "cell_type": "code",
   "execution_count": 61,
   "id": "579e175c-7015-498f-9ece-ecb6976d308b",
   "metadata": {},
   "outputs": [],
   "source": [
    "func.__defaults__ = (100, 200, 300)"
   ]
  },
  {
   "cell_type": "code",
   "execution_count": 62,
   "id": "e732892b-0169-4c20-8c47-4295513983cc",
   "metadata": {},
   "outputs": [
    {
     "name": "stdout",
     "output_type": "stream",
     "text": [
      "100 200 300\n"
     ]
    },
    {
     "data": {
      "text/plain": [
       "(None, (100, 200, 300))"
      ]
     },
     "execution_count": 62,
     "metadata": {},
     "output_type": "execute_result"
    }
   ],
   "source": [
    "func(), func.__defaults__"
   ]
  },
  {
   "cell_type": "code",
   "execution_count": 63,
   "id": "85e71d61-00fd-45f9-86a2-a65d9f0e8a8e",
   "metadata": {},
   "outputs": [],
   "source": [
    "Vector2D.__new__.__defaults__"
   ]
  },
  {
   "cell_type": "code",
   "execution_count": 64,
   "id": "7947a913-0c57-47a5-975b-34de8ca5afdb",
   "metadata": {},
   "outputs": [],
   "source": [
    "Vector2D.__new__.__defaults__ = (0, 0)  # defaults for last two args"
   ]
  },
  {
   "cell_type": "code",
   "execution_count": 65,
   "id": "60ff32d9-972d-4e4e-8ff0-2a5cabae4025",
   "metadata": {},
   "outputs": [
    {
     "data": {
      "text/plain": [
       "(0, 0)"
      ]
     },
     "execution_count": 65,
     "metadata": {},
     "output_type": "execute_result"
    }
   ],
   "source": [
    "Vector2D.__new__.__defaults__"
   ]
  },
  {
   "cell_type": "code",
   "execution_count": 66,
   "id": "dc043970-b474-4f4e-a6bc-515c9b3a3079",
   "metadata": {},
   "outputs": [],
   "source": [
    "v1 = Vector2D(10,10,20,20)"
   ]
  },
  {
   "cell_type": "code",
   "execution_count": 67,
   "id": "2af636ba-f173-46cc-9ba5-bcfc8ef765cd",
   "metadata": {},
   "outputs": [
    {
     "data": {
      "text/plain": [
       "Vector2D(x1=10, y1=10, x2=20, y2=20, origin_x=0, origin_y=0)"
      ]
     },
     "execution_count": 67,
     "metadata": {},
     "output_type": "execute_result"
    }
   ],
   "source": [
    "v1"
   ]
  },
  {
   "cell_type": "code",
   "execution_count": 68,
   "id": "02e08a50-5ff3-43e9-b9f1-d0ec7456328b",
   "metadata": {},
   "outputs": [],
   "source": [
    "# returning multiple values as named tuple\n",
    "from random import randint, random\n",
    "from collections import namedtuple"
   ]
  },
  {
   "cell_type": "code",
   "execution_count": 69,
   "id": "9fd33440-4867-4ff0-a3d3-0f0c9a842aba",
   "metadata": {},
   "outputs": [],
   "source": [
    "def random_color():\n",
    "    red = randint(0, 255)\n",
    "    blue = randint(0, 255)\n",
    "    green = randint(0, 255)\n",
    "    alpha = round(random(), 2)\n",
    "    return red, green, blue, alpha"
   ]
  },
  {
   "cell_type": "code",
   "execution_count": 70,
   "id": "e2c24c2a-8820-44e4-bf8e-afcbd74f9838",
   "metadata": {},
   "outputs": [
    {
     "name": "stdout",
     "output_type": "stream",
     "text": [
      "(178, 185, 51, 0.42)\n"
     ]
    }
   ],
   "source": [
    "print(random_color())"
   ]
  },
  {
   "cell_type": "code",
   "execution_count": 71,
   "id": "dc89efc0-bc02-4f5d-aa93-14b5b4d5ae89",
   "metadata": {},
   "outputs": [
    {
     "name": "stdout",
     "output_type": "stream",
     "text": [
      "(30, 39, 213, 0.41)\n"
     ]
    }
   ],
   "source": [
    "print(random_color())"
   ]
  },
  {
   "cell_type": "code",
   "execution_count": 72,
   "id": "c2afdc2a-e055-4a4d-9499-84481c03c04a",
   "metadata": {},
   "outputs": [
    {
     "name": "stdout",
     "output_type": "stream",
     "text": [
      "(14, 29, 224, 0.32)\n"
     ]
    }
   ],
   "source": [
    "print(random_color())"
   ]
  },
  {
   "cell_type": "code",
   "execution_count": 73,
   "id": "27f33e43-49b4-4fa2-8770-704dc9df88eb",
   "metadata": {},
   "outputs": [
    {
     "name": "stdout",
     "output_type": "stream",
     "text": [
      "(149, 167, 87, 0.9)\n"
     ]
    }
   ],
   "source": [
    "print(random_color())"
   ]
  },
  {
   "cell_type": "code",
   "execution_count": 74,
   "id": "eecb16d6-bb9b-4bd0-a7a6-6a744b870a97",
   "metadata": {},
   "outputs": [],
   "source": [
    "Color = namedtuple(\"Color\", \"red blue green alpha\")"
   ]
  },
  {
   "cell_type": "code",
   "execution_count": 75,
   "id": "7ed2c946-e10f-455c-947f-74b01bd74cfa",
   "metadata": {},
   "outputs": [],
   "source": [
    "def random_color():\n",
    "    red = randint(0, 255)\n",
    "    blue = randint(0, 255)\n",
    "    green = randint(0, 255)\n",
    "    alpha = round(random(), 2)\n",
    "    return Color(red, green, blue, alpha)"
   ]
  },
  {
   "cell_type": "code",
   "execution_count": 76,
   "id": "c38792cb-ccb4-4f90-903a-9884c68d8ebb",
   "metadata": {},
   "outputs": [
    {
     "name": "stdout",
     "output_type": "stream",
     "text": [
      "Color(red=133, blue=247, green=165, alpha=0.58)\n"
     ]
    }
   ],
   "source": [
    "print(random_color())"
   ]
  },
  {
   "cell_type": "code",
   "execution_count": 77,
   "id": "93b53a14-a797-4c55-be2e-70ee03da9141",
   "metadata": {},
   "outputs": [],
   "source": [
    "# named tuple as a dict"
   ]
  },
  {
   "cell_type": "code",
   "execution_count": 78,
   "id": "b5a4e8dd-1797-4f8c-9341-ef6c7fdb92b5",
   "metadata": {},
   "outputs": [],
   "source": [
    "data_dict = dict(key1=100, key2=200, key3=300)\n",
    "Data = namedtuple(\"Data\", data_dict.keys())  # in python3.6 it's fine as key order is preserved and guaranteed"
   ]
  },
  {
   "cell_type": "code",
   "execution_count": 79,
   "id": "13f22b3d-4730-4424-8ede-c9ee95ae4348",
   "metadata": {},
   "outputs": [
    {
     "data": {
      "text/plain": [
       "('key1', 'key2', 'key3')"
      ]
     },
     "execution_count": 79,
     "metadata": {},
     "output_type": "execute_result"
    }
   ],
   "source": [
    "Data._fields"
   ]
  },
  {
   "cell_type": "code",
   "execution_count": 80,
   "id": "b508bc62-9d9d-4d5e-bf6a-634dc7843243",
   "metadata": {},
   "outputs": [],
   "source": [
    "d1 = Data(*data_dict.values())"
   ]
  },
  {
   "cell_type": "code",
   "execution_count": 81,
   "id": "8338f2b6-8009-4bae-9225-94937ac1ff00",
   "metadata": {},
   "outputs": [
    {
     "data": {
      "text/plain": [
       "Data(key1=100, key2=200, key3=300)"
      ]
     },
     "execution_count": 81,
     "metadata": {},
     "output_type": "execute_result"
    }
   ],
   "source": [
    "d1"
   ]
  },
  {
   "cell_type": "code",
   "execution_count": 82,
   "id": "e2e6c9b6-42d9-4f1b-bdad-c366cfe05414",
   "metadata": {},
   "outputs": [
    {
     "data": {
      "text/plain": [
       "Data(key1=100, key2=200, key3=300)"
      ]
     },
     "execution_count": 82,
     "metadata": {},
     "output_type": "execute_result"
    }
   ],
   "source": [
    "Data(**data_dict)"
   ]
  },
  {
   "cell_type": "code",
   "execution_count": 83,
   "id": "ea742b01-1b38-4293-a0dd-e447933d02da",
   "metadata": {},
   "outputs": [],
   "source": [
    "data_list = [\n",
    "    {\"key2\": 2, \"key1\": 1},\n",
    "    {\"key1\": 1, \"key2\": 4},\n",
    "    {\"key1\": 5, \"key2\": 6, \"key3\": 7},\n",
    "    {\"key2\": 100},\n",
    "]\n"
   ]
  },
  {
   "cell_type": "code",
   "execution_count": 84,
   "id": "fcba4b84-70e1-48bd-8a2c-a2af1a94de4f",
   "metadata": {},
   "outputs": [],
   "source": [
    "keys = set(key for dict_ in data_list for key in dict_.keys())"
   ]
  },
  {
   "cell_type": "code",
   "execution_count": 85,
   "id": "782a499d-50df-42e0-b498-17e323cfcfb2",
   "metadata": {},
   "outputs": [
    {
     "data": {
      "text/plain": [
       "{'key1', 'key2', 'key3'}"
      ]
     },
     "execution_count": 85,
     "metadata": {},
     "output_type": "execute_result"
    }
   ],
   "source": [
    "keys"
   ]
  },
  {
   "cell_type": "code",
   "execution_count": 86,
   "id": "f332f43c-0a20-4b71-bdc9-fe9a90a1568a",
   "metadata": {},
   "outputs": [],
   "source": [
    "Struct = namedtuple(\"Struct\", sorted(keys))"
   ]
  },
  {
   "cell_type": "code",
   "execution_count": 87,
   "id": "590f6c2b-18b2-40df-80fa-9f84ea581983",
   "metadata": {},
   "outputs": [
    {
     "data": {
      "text/plain": [
       "('key1', 'key2', 'key3')"
      ]
     },
     "execution_count": 87,
     "metadata": {},
     "output_type": "execute_result"
    }
   ],
   "source": [
    "Struct._fields"
   ]
  },
  {
   "cell_type": "code",
   "execution_count": 88,
   "id": "97eabbd9-3e4c-4664-ae6e-051f223407e0",
   "metadata": {},
   "outputs": [],
   "source": [
    "Struct.__new__.__defaults__ = (None,) * len(Struct._fields)"
   ]
  },
  {
   "cell_type": "code",
   "execution_count": 89,
   "id": "2e870444-8780-4e9b-ba38-4620ecb184d8",
   "metadata": {},
   "outputs": [
    {
     "data": {
      "text/plain": [
       "Struct(key1=None, key2=None, key3=None)"
      ]
     },
     "execution_count": 89,
     "metadata": {},
     "output_type": "execute_result"
    }
   ],
   "source": [
    "Struct()"
   ]
  },
  {
   "cell_type": "code",
   "execution_count": 90,
   "id": "dd3ae845-2070-4f7f-8b6f-1028c6c5309f",
   "metadata": {},
   "outputs": [],
   "source": [
    "tuple_list = [Struct(**row) for row in data_list]"
   ]
  },
  {
   "cell_type": "code",
   "execution_count": 91,
   "id": "a6e49587-fd9d-4663-9f09-be728936ff77",
   "metadata": {},
   "outputs": [
    {
     "data": {
      "text/plain": [
       "[Struct(key1=1, key2=2, key3=None),\n",
       " Struct(key1=1, key2=4, key3=None),\n",
       " Struct(key1=5, key2=6, key3=7),\n",
       " Struct(key1=None, key2=100, key3=None)]"
      ]
     },
     "execution_count": 91,
     "metadata": {},
     "output_type": "execute_result"
    }
   ],
   "source": [
    "tuple_list"
   ]
  },
  {
   "cell_type": "code",
   "execution_count": 92,
   "id": "515f483e-f435-45c0-8f2a-e169b16c3509",
   "metadata": {},
   "outputs": [],
   "source": [
    "def tuplify_dicts(dicts: list[dict]) -> list[tuple]:\n",
    "    keys = {key for dict_ in dicts for key in dict_.keys()}\n",
    "    Struct = namedtuple(\"Struct\", keys, rename=True)\n",
    "    print(Struct._fields)\n",
    "    Struct.__new__.__defaults__ = (None,) * len(Struct._fields)\n",
    "    return [Struct(**row) for row in data_list]"
   ]
  },
  {
   "cell_type": "code",
   "execution_count": 93,
   "id": "979d6f7c-589f-492e-a954-37824086e303",
   "metadata": {},
   "outputs": [
    {
     "name": "stdout",
     "output_type": "stream",
     "text": [
      "('key1', 'key2', 'key3')\n"
     ]
    },
    {
     "data": {
      "text/plain": [
       "[Struct(key1=1, key2=2, key3=None),\n",
       " Struct(key1=1, key2=4, key3=None),\n",
       " Struct(key1=5, key2=6, key3=7),\n",
       " Struct(key1=None, key2=100, key3=None)]"
      ]
     },
     "execution_count": 93,
     "metadata": {},
     "output_type": "execute_result"
    }
   ],
   "source": [
    "tuplify_dicts(data_list)"
   ]
  },
  {
   "cell_type": "code",
   "execution_count": 94,
   "id": "8000c771-a77c-4b01-a701-31d7c3f68510",
   "metadata": {},
   "outputs": [],
   "source": [
    "data_list = [\n",
    "    {\"key2\": 2, \"key1\": 1},\n",
    "    {\"key1\": 1, \"key2\": 4},\n",
    "    {\"key1\": 5, \"key2\": 6, \"key3\": 7},\n",
    "    {\"key2\": 100, \"another_key\": \"test\", \"_invalid_namedtuple_name\": \"abcd\"},\n",
    "]"
   ]
  },
  {
   "cell_type": "code",
   "execution_count": 95,
   "id": "c1540d4d-2eb0-4ae8-b83e-f524d5170084",
   "metadata": {},
   "outputs": [
    {
     "name": "stdout",
     "output_type": "stream",
     "text": [
      "('key2', 'key3', 'another_key', 'key1', '_4')\n",
      "Struct.__new__() got an unexpected keyword argument '_invalid_namedtuple_name'\n"
     ]
    }
   ],
   "source": [
    "# watch out for invalid field names! Clean the dict if required\n",
    "try:\n",
    "    tuplify_dicts(data_list)\n",
    "except TypeError as e:\n",
    "    print(e)"
   ]
  },
  {
   "cell_type": "code",
   "execution_count": null,
   "id": "73a4c6c2-d388-4b21-89ee-2a98b6dc3bda",
   "metadata": {},
   "outputs": [],
   "source": []
  }
 ],
 "metadata": {
  "kernelspec": {
   "display_name": "Python 3 (ipykernel)",
   "language": "python",
   "name": "python3"
  },
  "language_info": {
   "codemirror_mode": {
    "name": "ipython",
    "version": 3
   },
   "file_extension": ".py",
   "mimetype": "text/x-python",
   "name": "python",
   "nbconvert_exporter": "python",
   "pygments_lexer": "ipython3",
   "version": "3.12.3"
  }
 },
 "nbformat": 4,
 "nbformat_minor": 5
}
