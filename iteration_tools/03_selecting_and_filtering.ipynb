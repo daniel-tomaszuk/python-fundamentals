{
 "cells": [
  {
   "cell_type": "code",
   "execution_count": 1,
   "id": "b82229cc-8361-4d2b-9c2c-c294f6edc96b",
   "metadata": {},
   "outputs": [],
   "source": [
    "def gen_cubes(n):\n",
    "    for i in range(n):\n",
    "        print(\"yielding\", i)\n",
    "        yield i ** 3\n",
    "\n",
    "\n",
    "def is_odd(x):\n",
    "    return x % 2 == 1\n",
    "\n",
    "\n",
    "def is_even(x):\n",
    "    return x % 2 == 0"
   ]
  },
  {
   "cell_type": "code",
   "execution_count": 2,
   "id": "43ad8c96-b44a-4d27-bc46-420f5a666330",
   "metadata": {},
   "outputs": [],
   "source": [
    "filtered = filter(is_odd, gen_cubes(10))"
   ]
  },
  {
   "cell_type": "code",
   "execution_count": 3,
   "id": "d80571be-c5d0-4e42-954e-8fe857991ee3",
   "metadata": {},
   "outputs": [
    {
     "name": "stdout",
     "output_type": "stream",
     "text": [
      "yielding 0\n",
      "yielding 1\n",
      "yielding 2\n",
      "yielding 3\n"
     ]
    },
    {
     "data": {
      "text/plain": [
       "(1, 27)"
      ]
     },
     "execution_count": 3,
     "metadata": {},
     "output_type": "execute_result"
    }
   ],
   "source": [
    "next(filtered), next(filtered)"
   ]
  },
  {
   "cell_type": "code",
   "execution_count": 4,
   "id": "6d1b754f-8831-4f94-8c44-59623e4ff3a7",
   "metadata": {},
   "outputs": [
    {
     "name": "stdout",
     "output_type": "stream",
     "text": [
      "yielding 4\n",
      "yielding 5\n",
      "yielding 6\n",
      "yielding 7\n",
      "yielding 8\n",
      "yielding 9\n"
     ]
    },
    {
     "data": {
      "text/plain": [
       "[125, 343, 729]"
      ]
     },
     "execution_count": 4,
     "metadata": {},
     "output_type": "execute_result"
    }
   ],
   "source": [
    "list(filtered)"
   ]
  },
  {
   "cell_type": "code",
   "execution_count": 5,
   "id": "8bfe5a03-98c7-429a-bb5e-0bfe297506dd",
   "metadata": {},
   "outputs": [
    {
     "name": "stdout",
     "output_type": "stream",
     "text": [
      "yielding 0\n",
      "yielding 1\n",
      "yielding 2\n",
      "yielding 3\n",
      "yielding 4\n",
      "yielding 5\n",
      "yielding 6\n",
      "yielding 7\n",
      "yielding 8\n",
      "yielding 9\n"
     ]
    },
    {
     "data": {
      "text/plain": [
       "[0, 8, 64, 216, 512]"
      ]
     },
     "execution_count": 5,
     "metadata": {},
     "output_type": "execute_result"
    }
   ],
   "source": [
    "filtered = filter(is_even, gen_cubes(10))\n",
    "list(filtered)"
   ]
  },
  {
   "cell_type": "code",
   "execution_count": 6,
   "id": "183a2cf2-b1fb-45b6-aa7f-92f56bc803cf",
   "metadata": {},
   "outputs": [
    {
     "name": "stdout",
     "output_type": "stream",
     "text": [
      "yielding 0\n",
      "yielding 1\n",
      "yielding 2\n",
      "yielding 3\n",
      "yielding 4\n",
      "yielding 5\n",
      "yielding 6\n",
      "yielding 7\n",
      "yielding 8\n",
      "yielding 9\n"
     ]
    },
    {
     "data": {
      "text/plain": [
       "[0, 8, 64, 216, 512]"
      ]
     },
     "execution_count": 6,
     "metadata": {},
     "output_type": "execute_result"
    }
   ],
   "source": [
    "from itertools import filterfalse\n",
    "\n",
    "\n",
    "filtered = filterfalse(is_odd, gen_cubes(10))\n",
    "list(filtered)"
   ]
  },
  {
   "cell_type": "markdown",
   "id": "9cc2db0e-898e-4a85-88a8-442145470132",
   "metadata": {},
   "source": [
    "### Dropwhile, takewhile"
   ]
  },
  {
   "cell_type": "code",
   "execution_count": 7,
   "id": "8375f982-95db-4563-a047-6bb4651ee2a0",
   "metadata": {},
   "outputs": [],
   "source": [
    "from itertools import dropwhile, takewhile\n",
    "from math import sin, pi\n",
    "\n",
    "\n",
    "def sine_wave(n):\n",
    "    start = 0\n",
    "    max_ = 2 * pi\n",
    "    step = (max_ - start) / (n - 1)\n",
    "\n",
    "    for _ in range(n):\n",
    "        yield round(sin(start), 2)\n",
    "        start += step\n"
   ]
  },
  {
   "cell_type": "code",
   "execution_count": 8,
   "id": "b3b98fb7-388e-4d5a-b863-9a3d92084814",
   "metadata": {},
   "outputs": [
    {
     "data": {
      "text/plain": [
       "[0.0,\n",
       " 0.32,\n",
       " 0.61,\n",
       " 0.84,\n",
       " 0.97,\n",
       " 1.0,\n",
       " 0.92,\n",
       " 0.74,\n",
       " 0.48,\n",
       " 0.16,\n",
       " -0.16,\n",
       " -0.48,\n",
       " -0.74,\n",
       " -0.92,\n",
       " -1.0,\n",
       " -0.97,\n",
       " -0.84,\n",
       " -0.61,\n",
       " -0.32,\n",
       " -0.0]"
      ]
     },
     "execution_count": 8,
     "metadata": {},
     "output_type": "execute_result"
    }
   ],
   "source": [
    "list(sine_wave(20))"
   ]
  },
  {
   "cell_type": "code",
   "execution_count": 9,
   "id": "4e981f28-55b3-4612-b3f3-d48a1a301a9d",
   "metadata": {},
   "outputs": [],
   "source": [
    "# takes everything untill predicate is filled, then stops\n",
    "tw = takewhile(lambda x: 0 <= x < 1, sine_wave(20))  # takes everything that is between <0, 1), then STOPS"
   ]
  },
  {
   "cell_type": "code",
   "execution_count": 10,
   "id": "4e36e24f-7ea8-4b10-b53a-ddf1bee8695b",
   "metadata": {},
   "outputs": [
    {
     "data": {
      "text/plain": [
       "(0.0, 0.32, [0.61, 0.84, 0.97])"
      ]
     },
     "execution_count": 10,
     "metadata": {},
     "output_type": "execute_result"
    }
   ],
   "source": [
    "next(tw), next(tw), list(tw)"
   ]
  },
  {
   "cell_type": "code",
   "execution_count": 11,
   "id": "fb0c12d2-f275-4842-a0cc-ae3b63342a98",
   "metadata": {},
   "outputs": [],
   "source": [
    "# starts yielding values first time condition is NOT met, then iterates without taking condition into account\n",
    "dw = dropwhile(lambda x: abs(x) < 0.95, sine_wave(20))  "
   ]
  },
  {
   "cell_type": "code",
   "execution_count": 12,
   "id": "de705063-0898-4594-91f1-cb8bd6806ae9",
   "metadata": {},
   "outputs": [
    {
     "data": {
      "text/plain": [
       "(0.97,\n",
       " 1.0,\n",
       " [0.92,\n",
       "  0.74,\n",
       "  0.48,\n",
       "  0.16,\n",
       "  -0.16,\n",
       "  -0.48,\n",
       "  -0.74,\n",
       "  -0.92,\n",
       "  -1.0,\n",
       "  -0.97,\n",
       "  -0.84,\n",
       "  -0.61,\n",
       "  -0.32,\n",
       "  -0.0])"
      ]
     },
     "execution_count": 12,
     "metadata": {},
     "output_type": "execute_result"
    }
   ],
   "source": [
    "next(dw), next(dw), list(dw)"
   ]
  },
  {
   "cell_type": "markdown",
   "id": "bbeb0bfd-b614-41de-a120-17e05a28a4b5",
   "metadata": {},
   "source": [
    "#### Compress function"
   ]
  },
  {
   "cell_type": "code",
   "execution_count": 13,
   "id": "bf531f69-704b-4ec9-89be-57e0d156f709",
   "metadata": {},
   "outputs": [],
   "source": [
    "from itertools import compress\n",
    "\n",
    "data =      [\"a\", \"b\",   \"c\",  \"d\", \"e\"]\n",
    "selectors = [True, False, None, 1]# None\n",
    "\n",
    "result = compress(data, selectors)  # maps data into selectors, returns only data that is mapped to thruthy selector"
   ]
  },
  {
   "cell_type": "code",
   "execution_count": 14,
   "id": "65539985-7550-4e9e-8cf4-8a111578dae1",
   "metadata": {},
   "outputs": [
    {
     "data": {
      "text/plain": [
       "('a', 'd', [])"
      ]
     },
     "execution_count": 14,
     "metadata": {},
     "output_type": "execute_result"
    }
   ],
   "source": [
    "next(result), next(result), list(result)"
   ]
  },
  {
   "cell_type": "code",
   "execution_count": null,
   "id": "b0499546-63f6-4ef3-ac73-b25451004a4d",
   "metadata": {},
   "outputs": [],
   "source": []
  }
 ],
 "metadata": {
  "kernelspec": {
   "display_name": "Python 3 (ipykernel)",
   "language": "python",
   "name": "python3"
  },
  "language_info": {
   "codemirror_mode": {
    "name": "ipython",
    "version": 3
   },
   "file_extension": ".py",
   "mimetype": "text/x-python",
   "name": "python",
   "nbconvert_exporter": "python",
   "pygments_lexer": "ipython3",
   "version": "3.12.3"
  }
 },
 "nbformat": 4,
 "nbformat_minor": 5
}
