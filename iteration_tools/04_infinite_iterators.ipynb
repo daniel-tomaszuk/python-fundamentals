{
 "cells": [
  {
   "cell_type": "code",
   "execution_count": 1,
   "id": "6eb8dc1a-ac18-4c66-9f4d-99155b1d0371",
   "metadata": {},
   "outputs": [],
   "source": [
    "from decimal import Decimal\n",
    "from itertools import count, cycle, repeat, islice\n"
   ]
  },
  {
   "cell_type": "markdown",
   "id": "ca49ded0-dbac-488f-8070-797a2d5984f6",
   "metadata": {},
   "source": [
    "### count"
   ]
  },
  {
   "cell_type": "code",
   "execution_count": 2,
   "id": "4067cc04-9e84-4eba-9b53-dbf993f0e4cd",
   "metadata": {},
   "outputs": [
    {
     "data": {
      "text/plain": [
       "[10, 11, 12, 13, 14]"
      ]
     },
     "execution_count": 2,
     "metadata": {},
     "output_type": "execute_result"
    }
   ],
   "source": [
    "g = count(10)  # creates infinite iterator, starts with 10, step 1 by default\n",
    "list(islice(g, 5))"
   ]
  },
  {
   "cell_type": "code",
   "execution_count": 3,
   "id": "99db31cb-ea27-47f6-86ad-8cdbe1cd0775",
   "metadata": {},
   "outputs": [
    {
     "data": {
      "text/plain": [
       "[1, 1.5, 2.0, 2.5, 3.0]"
      ]
     },
     "execution_count": 3,
     "metadata": {},
     "output_type": "execute_result"
    }
   ],
   "source": [
    "g = count(1, 0.5)  # allows non integer steps!\n",
    "list(islice(g,5))"
   ]
  },
  {
   "cell_type": "code",
   "execution_count": 4,
   "id": "d964d9fd-943f-4c43-8a68-81f06518a7e8",
   "metadata": {},
   "outputs": [
    {
     "data": {
      "text/plain": [
       "[(1+1j), (2+3j), (3+5j), (4+7j), (5+9j)]"
      ]
     },
     "execution_count": 4,
     "metadata": {},
     "output_type": "execute_result"
    }
   ],
   "source": [
    "g = count(1+1j, 1+2j)\n",
    "list(islice(g, 5))"
   ]
  },
  {
   "cell_type": "code",
   "execution_count": 5,
   "id": "25616322-7e8b-4c66-87b7-96185a351c6b",
   "metadata": {},
   "outputs": [
    {
     "name": "stdout",
     "output_type": "stream",
     "text": [
      "Help on class count in module itertools:\n",
      "\n",
      "class count(builtins.object)\n",
      " |  count(start=0, step=1)\n",
      " |\n",
      " |  Return a count object whose .__next__() method returns consecutive values.\n",
      " |\n",
      " |  Equivalent to:\n",
      " |      def count(firstval=0, step=1):\n",
      " |          x = firstval\n",
      " |          while 1:\n",
      " |              yield x\n",
      " |              x += step\n",
      " |\n",
      " |  Methods defined here:\n",
      " |\n",
      " |  __getattribute__(self, name, /)\n",
      " |      Return getattr(self, name).\n",
      " |\n",
      " |  __iter__(self, /)\n",
      " |      Implement iter(self).\n",
      " |\n",
      " |  __next__(self, /)\n",
      " |      Implement next(self).\n",
      " |\n",
      " |  __reduce__(...)\n",
      " |      Return state information for pickling.\n",
      " |\n",
      " |  __repr__(self, /)\n",
      " |      Return repr(self).\n",
      " |\n",
      " |  ----------------------------------------------------------------------\n",
      " |  Static methods defined here:\n",
      " |\n",
      " |  __new__(*args, **kwargs)\n",
      " |      Create and return a new object.  See help(type) for accurate signature.\n",
      "\n"
     ]
    }
   ],
   "source": [
    "help(count)"
   ]
  },
  {
   "cell_type": "code",
   "execution_count": 6,
   "id": "7ca24d13-739a-443c-af7a-c2cb26ea08a7",
   "metadata": {},
   "outputs": [],
   "source": [
    "g = count(Decimal('0'), Decimal('0.1'))"
   ]
  },
  {
   "cell_type": "code",
   "execution_count": 7,
   "id": "83737a62-e2c8-4a45-a226-4fbcc7f5032c",
   "metadata": {},
   "outputs": [
    {
     "data": {
      "text/plain": [
       "[Decimal('0'), Decimal('0.1'), Decimal('0.2'), Decimal('0.3'), Decimal('0.4')]"
      ]
     },
     "execution_count": 7,
     "metadata": {},
     "output_type": "execute_result"
    }
   ],
   "source": [
    "list(islice(g, 5))"
   ]
  },
  {
   "cell_type": "markdown",
   "id": "7bc5ef7c-b2c0-4adc-8dfa-6fcbe798ce61",
   "metadata": {},
   "source": [
    "### cycle"
   ]
  },
  {
   "cell_type": "code",
   "execution_count": 8,
   "id": "813ed8e9-1f6d-402f-b643-d4adb7ed98b8",
   "metadata": {},
   "outputs": [
    {
     "data": {
      "text/plain": [
       "['red', 'green', 'blue', 'red', 'green', 'blue', 'red', 'green', 'blue', 'red']"
      ]
     },
     "execution_count": 8,
     "metadata": {},
     "output_type": "execute_result"
    }
   ],
   "source": [
    "g = cycle((\"red\", \"green\", \"blue\"))\n",
    "list(islice(g, 10))"
   ]
  },
  {
   "cell_type": "code",
   "execution_count": 9,
   "id": "5b29f530-c855-4587-bc9a-dc7eabeb4b4e",
   "metadata": {},
   "outputs": [],
   "source": [
    "def colors():\n",
    "    while True:\n",
    "        yield \"red\"\n",
    "        yield \"green\"\n",
    "        yield \"blue\"\n",
    "\n",
    "c = colors()"
   ]
  },
  {
   "cell_type": "code",
   "execution_count": 10,
   "id": "119b4639-8746-43e6-a846-4040119fac18",
   "metadata": {},
   "outputs": [
    {
     "data": {
      "text/plain": [
       "('red', 'green', 'blue', 'red')"
      ]
     },
     "execution_count": 10,
     "metadata": {},
     "output_type": "execute_result"
    }
   ],
   "source": [
    "next(c), next(c), next(c), next(c)"
   ]
  },
  {
   "cell_type": "code",
   "execution_count": 11,
   "id": "8f581087-5dc6-4028-89b4-0270d288ee23",
   "metadata": {},
   "outputs": [
    {
     "data": {
      "text/plain": [
       "['red', 'green', 'blue', 'red', 'green', 'blue', 'red', 'green', 'blue', 'red']"
      ]
     },
     "execution_count": 11,
     "metadata": {},
     "output_type": "execute_result"
    }
   ],
   "source": [
    "def colors():\n",
    "    yield \"red\"\n",
    "    yield \"green\"\n",
    "    yield \"blue\"\n",
    "\n",
    "c = colors()\n",
    "g = cycle(c)\n",
    "list(islice(g, 10))"
   ]
  },
  {
   "cell_type": "code",
   "execution_count": 12,
   "id": "1252adf7-6fd1-45b2-a0ce-8bd8db790831",
   "metadata": {},
   "outputs": [
    {
     "data": {
      "text/plain": [
       "[Card(rank='Q', suit='Spades'),\n",
       " Card(rank='K', suit='Spades'),\n",
       " Card(rank='A', suit='Spades'),\n",
       " Card(rank='2', suit='Hearts'),\n",
       " Card(rank='3', suit='Hearts'),\n",
       " Card(rank='4', suit='Hearts'),\n",
       " Card(rank='5', suit='Hearts'),\n",
       " Card(rank='6', suit='Hearts'),\n",
       " Card(rank='7', suit='Hearts'),\n",
       " Card(rank='8', suit='Hearts')]"
      ]
     },
     "execution_count": 12,
     "metadata": {},
     "output_type": "execute_result"
    }
   ],
   "source": [
    "from collections import namedtuple\n",
    "\n",
    "Card = namedtuple(\"Card\", \"rank suit\")\n",
    "\n",
    "def card_deck():\n",
    "    ranks = tuple(str(num) for num in range(2, 11)) + tuple(\"JQKA\")\n",
    "    suits = tuple((\"Spades\", \"Hearts\", \"Diamond\", \"Clubs\"))\n",
    "    for suit in suits:\n",
    "        for rank in ranks:\n",
    "            yield Card(rank, suit)\n",
    "\n",
    "list(islice(card_deck(), 10, 20))"
   ]
  },
  {
   "cell_type": "code",
   "execution_count": 13,
   "id": "247ebe32-6582-4404-8ee5-3ab7c0b9eb66",
   "metadata": {},
   "outputs": [],
   "source": [
    "# we can deal cards to 4 players\n",
    "hands = [list() for _ in range(4)]\n",
    "hand_index = 0\n",
    "for card in card_deck():\n",
    "    hand_index %= 4\n",
    "    hands[hand_index].append(card)\n",
    "    hand_index += 1"
   ]
  },
  {
   "cell_type": "code",
   "execution_count": 14,
   "id": "c60a72a0-d6c1-4ccb-9cdb-2a8319808c67",
   "metadata": {},
   "outputs": [
    {
     "data": {
      "text/plain": [
       "[[Card(rank='2', suit='Spades'),\n",
       "  Card(rank='6', suit='Spades'),\n",
       "  Card(rank='10', suit='Spades'),\n",
       "  Card(rank='A', suit='Spades'),\n",
       "  Card(rank='5', suit='Hearts'),\n",
       "  Card(rank='9', suit='Hearts'),\n",
       "  Card(rank='K', suit='Hearts'),\n",
       "  Card(rank='4', suit='Diamond'),\n",
       "  Card(rank='8', suit='Diamond'),\n",
       "  Card(rank='Q', suit='Diamond'),\n",
       "  Card(rank='3', suit='Clubs'),\n",
       "  Card(rank='7', suit='Clubs'),\n",
       "  Card(rank='J', suit='Clubs')],\n",
       " [Card(rank='3', suit='Spades'),\n",
       "  Card(rank='7', suit='Spades'),\n",
       "  Card(rank='J', suit='Spades'),\n",
       "  Card(rank='2', suit='Hearts'),\n",
       "  Card(rank='6', suit='Hearts'),\n",
       "  Card(rank='10', suit='Hearts'),\n",
       "  Card(rank='A', suit='Hearts'),\n",
       "  Card(rank='5', suit='Diamond'),\n",
       "  Card(rank='9', suit='Diamond'),\n",
       "  Card(rank='K', suit='Diamond'),\n",
       "  Card(rank='4', suit='Clubs'),\n",
       "  Card(rank='8', suit='Clubs'),\n",
       "  Card(rank='Q', suit='Clubs')],\n",
       " [Card(rank='4', suit='Spades'),\n",
       "  Card(rank='8', suit='Spades'),\n",
       "  Card(rank='Q', suit='Spades'),\n",
       "  Card(rank='3', suit='Hearts'),\n",
       "  Card(rank='7', suit='Hearts'),\n",
       "  Card(rank='J', suit='Hearts'),\n",
       "  Card(rank='2', suit='Diamond'),\n",
       "  Card(rank='6', suit='Diamond'),\n",
       "  Card(rank='10', suit='Diamond'),\n",
       "  Card(rank='A', suit='Diamond'),\n",
       "  Card(rank='5', suit='Clubs'),\n",
       "  Card(rank='9', suit='Clubs'),\n",
       "  Card(rank='K', suit='Clubs')],\n",
       " [Card(rank='5', suit='Spades'),\n",
       "  Card(rank='9', suit='Spades'),\n",
       "  Card(rank='K', suit='Spades'),\n",
       "  Card(rank='4', suit='Hearts'),\n",
       "  Card(rank='8', suit='Hearts'),\n",
       "  Card(rank='Q', suit='Hearts'),\n",
       "  Card(rank='3', suit='Diamond'),\n",
       "  Card(rank='7', suit='Diamond'),\n",
       "  Card(rank='J', suit='Diamond'),\n",
       "  Card(rank='2', suit='Clubs'),\n",
       "  Card(rank='6', suit='Clubs'),\n",
       "  Card(rank='10', suit='Clubs'),\n",
       "  Card(rank='A', suit='Clubs')]]"
      ]
     },
     "execution_count": 14,
     "metadata": {},
     "output_type": "execute_result"
    }
   ],
   "source": [
    "hands"
   ]
  },
  {
   "cell_type": "code",
   "execution_count": 15,
   "id": "f7f317f6-7393-4ab7-b06c-4fde7c458fcb",
   "metadata": {},
   "outputs": [
    {
     "data": {
      "text/plain": [
       "[3, 0, 1, 2, 3, 0, 1]"
      ]
     },
     "execution_count": 15,
     "metadata": {},
     "output_type": "execute_result"
    }
   ],
   "source": [
    "index_cycle = cycle(range(4))\n",
    "list(islice(index_cycle, 3, 10))"
   ]
  },
  {
   "cell_type": "code",
   "execution_count": 16,
   "id": "6ecf0263-8c35-449a-8a5c-ed4f4db421b1",
   "metadata": {},
   "outputs": [],
   "source": [
    "hands = [list() for _ in range(4)]\n",
    "index_cycle = cycle(range(4))\n",
    "for card in card_deck():\n",
    "    hands[next(index_cycle)].append(card)"
   ]
  },
  {
   "cell_type": "code",
   "execution_count": 17,
   "id": "5b8f29e1-7578-471c-99b1-41776ffe115e",
   "metadata": {},
   "outputs": [
    {
     "data": {
      "text/plain": [
       "[[Card(rank='2', suit='Spades'),\n",
       "  Card(rank='6', suit='Spades'),\n",
       "  Card(rank='10', suit='Spades'),\n",
       "  Card(rank='A', suit='Spades'),\n",
       "  Card(rank='5', suit='Hearts'),\n",
       "  Card(rank='9', suit='Hearts'),\n",
       "  Card(rank='K', suit='Hearts'),\n",
       "  Card(rank='4', suit='Diamond'),\n",
       "  Card(rank='8', suit='Diamond'),\n",
       "  Card(rank='Q', suit='Diamond'),\n",
       "  Card(rank='3', suit='Clubs'),\n",
       "  Card(rank='7', suit='Clubs'),\n",
       "  Card(rank='J', suit='Clubs')],\n",
       " [Card(rank='3', suit='Spades'),\n",
       "  Card(rank='7', suit='Spades'),\n",
       "  Card(rank='J', suit='Spades'),\n",
       "  Card(rank='2', suit='Hearts'),\n",
       "  Card(rank='6', suit='Hearts'),\n",
       "  Card(rank='10', suit='Hearts'),\n",
       "  Card(rank='A', suit='Hearts'),\n",
       "  Card(rank='5', suit='Diamond'),\n",
       "  Card(rank='9', suit='Diamond'),\n",
       "  Card(rank='K', suit='Diamond'),\n",
       "  Card(rank='4', suit='Clubs'),\n",
       "  Card(rank='8', suit='Clubs'),\n",
       "  Card(rank='Q', suit='Clubs')],\n",
       " [Card(rank='4', suit='Spades'),\n",
       "  Card(rank='8', suit='Spades'),\n",
       "  Card(rank='Q', suit='Spades'),\n",
       "  Card(rank='3', suit='Hearts'),\n",
       "  Card(rank='7', suit='Hearts'),\n",
       "  Card(rank='J', suit='Hearts'),\n",
       "  Card(rank='2', suit='Diamond'),\n",
       "  Card(rank='6', suit='Diamond'),\n",
       "  Card(rank='10', suit='Diamond'),\n",
       "  Card(rank='A', suit='Diamond'),\n",
       "  Card(rank='5', suit='Clubs'),\n",
       "  Card(rank='9', suit='Clubs'),\n",
       "  Card(rank='K', suit='Clubs')],\n",
       " [Card(rank='5', suit='Spades'),\n",
       "  Card(rank='9', suit='Spades'),\n",
       "  Card(rank='K', suit='Spades'),\n",
       "  Card(rank='4', suit='Hearts'),\n",
       "  Card(rank='8', suit='Hearts'),\n",
       "  Card(rank='Q', suit='Hearts'),\n",
       "  Card(rank='3', suit='Diamond'),\n",
       "  Card(rank='7', suit='Diamond'),\n",
       "  Card(rank='J', suit='Diamond'),\n",
       "  Card(rank='2', suit='Clubs'),\n",
       "  Card(rank='6', suit='Clubs'),\n",
       "  Card(rank='10', suit='Clubs'),\n",
       "  Card(rank='A', suit='Clubs')]]"
      ]
     },
     "execution_count": 17,
     "metadata": {},
     "output_type": "execute_result"
    }
   ],
   "source": [
    "hands"
   ]
  },
  {
   "cell_type": "code",
   "execution_count": 18,
   "id": "0d83e2ae-357c-4f86-b62e-5021de46b607",
   "metadata": {},
   "outputs": [],
   "source": [
    "hands = [list() for _ in range(4)]\n",
    "hands_cycle = cycle(hands)\n",
    "for card in card_deck():\n",
    "    next(hands_cycle).append(card)"
   ]
  },
  {
   "cell_type": "code",
   "execution_count": 19,
   "id": "1e7ce7a0-a8c3-4c81-af66-ab1b654cb2af",
   "metadata": {},
   "outputs": [
    {
     "data": {
      "text/plain": [
       "[[Card(rank='2', suit='Spades'),\n",
       "  Card(rank='6', suit='Spades'),\n",
       "  Card(rank='10', suit='Spades'),\n",
       "  Card(rank='A', suit='Spades'),\n",
       "  Card(rank='5', suit='Hearts'),\n",
       "  Card(rank='9', suit='Hearts'),\n",
       "  Card(rank='K', suit='Hearts'),\n",
       "  Card(rank='4', suit='Diamond'),\n",
       "  Card(rank='8', suit='Diamond'),\n",
       "  Card(rank='Q', suit='Diamond'),\n",
       "  Card(rank='3', suit='Clubs'),\n",
       "  Card(rank='7', suit='Clubs'),\n",
       "  Card(rank='J', suit='Clubs')],\n",
       " [Card(rank='3', suit='Spades'),\n",
       "  Card(rank='7', suit='Spades'),\n",
       "  Card(rank='J', suit='Spades'),\n",
       "  Card(rank='2', suit='Hearts'),\n",
       "  Card(rank='6', suit='Hearts'),\n",
       "  Card(rank='10', suit='Hearts'),\n",
       "  Card(rank='A', suit='Hearts'),\n",
       "  Card(rank='5', suit='Diamond'),\n",
       "  Card(rank='9', suit='Diamond'),\n",
       "  Card(rank='K', suit='Diamond'),\n",
       "  Card(rank='4', suit='Clubs'),\n",
       "  Card(rank='8', suit='Clubs'),\n",
       "  Card(rank='Q', suit='Clubs')],\n",
       " [Card(rank='4', suit='Spades'),\n",
       "  Card(rank='8', suit='Spades'),\n",
       "  Card(rank='Q', suit='Spades'),\n",
       "  Card(rank='3', suit='Hearts'),\n",
       "  Card(rank='7', suit='Hearts'),\n",
       "  Card(rank='J', suit='Hearts'),\n",
       "  Card(rank='2', suit='Diamond'),\n",
       "  Card(rank='6', suit='Diamond'),\n",
       "  Card(rank='10', suit='Diamond'),\n",
       "  Card(rank='A', suit='Diamond'),\n",
       "  Card(rank='5', suit='Clubs'),\n",
       "  Card(rank='9', suit='Clubs'),\n",
       "  Card(rank='K', suit='Clubs')],\n",
       " [Card(rank='5', suit='Spades'),\n",
       "  Card(rank='9', suit='Spades'),\n",
       "  Card(rank='K', suit='Spades'),\n",
       "  Card(rank='4', suit='Hearts'),\n",
       "  Card(rank='8', suit='Hearts'),\n",
       "  Card(rank='Q', suit='Hearts'),\n",
       "  Card(rank='3', suit='Diamond'),\n",
       "  Card(rank='7', suit='Diamond'),\n",
       "  Card(rank='J', suit='Diamond'),\n",
       "  Card(rank='2', suit='Clubs'),\n",
       "  Card(rank='6', suit='Clubs'),\n",
       "  Card(rank='10', suit='Clubs'),\n",
       "  Card(rank='A', suit='Clubs')]]"
      ]
     },
     "execution_count": 19,
     "metadata": {},
     "output_type": "execute_result"
    }
   ],
   "source": [
    "hands"
   ]
  },
  {
   "cell_type": "markdown",
   "id": "c54663bb-891a-4c58-9fe2-85a77dd54a0f",
   "metadata": {},
   "source": [
    "### repeat"
   ]
  },
  {
   "cell_type": "code",
   "execution_count": 20,
   "id": "317e0049-d3b5-4c9b-b239-ea8a630a215b",
   "metadata": {},
   "outputs": [
    {
     "name": "stdout",
     "output_type": "stream",
     "text": [
      "spam\n",
      "spam\n",
      "spam\n",
      "spam\n",
      "spam\n"
     ]
    }
   ],
   "source": [
    "g = repeat(\"spam\")  # creates infinite iterator\n",
    "for _ in range(5):\n",
    "    print(next(g))"
   ]
  },
  {
   "cell_type": "code",
   "execution_count": 21,
   "id": "cb8d38da-e37f-449d-a33f-a74122fa22bf",
   "metadata": {},
   "outputs": [
    {
     "data": {
      "text/plain": [
       "['spam', 'spam', 'spam', 'spam']"
      ]
     },
     "execution_count": 21,
     "metadata": {},
     "output_type": "execute_result"
    }
   ],
   "source": [
    "g = repeat(\"spam\", 4)  # creates finite iterator with 4 elements\n",
    "list(g)"
   ]
  },
  {
   "cell_type": "code",
   "execution_count": 22,
   "id": "3e417c80-d561-4420-b304-a5551891b86d",
   "metadata": {},
   "outputs": [],
   "source": [
    "g = repeat([1,2,3,4,5], 3)"
   ]
  },
  {
   "cell_type": "code",
   "execution_count": 23,
   "id": "fb7ef838-37aa-419b-9c0c-56f1e4fd6d49",
   "metadata": {},
   "outputs": [
    {
     "data": {
      "text/plain": [
       "[[1, 2, 3, 4, 5], [1, 2, 3, 4, 5], [1, 2, 3, 4, 5]]"
      ]
     },
     "execution_count": 23,
     "metadata": {},
     "output_type": "execute_result"
    }
   ],
   "source": [
    "list(g)"
   ]
  },
  {
   "cell_type": "code",
   "execution_count": 24,
   "id": "17fc471c-fcf4-4fb1-907a-dfea9f01c6ea",
   "metadata": {},
   "outputs": [],
   "source": [
    "g = repeat([1,2,3,4,5], 3)\n",
    "next(g).append(42)  # BEVARE - every list gets mutated!! in fact it's the same list"
   ]
  },
  {
   "cell_type": "code",
   "execution_count": 25,
   "id": "4e2d8785-5be7-4fa5-afad-0764ca04c9a8",
   "metadata": {},
   "outputs": [
    {
     "data": {
      "text/plain": [
       "[[1, 2, 3, 4, 5, 42], [1, 2, 3, 4, 5, 42]]"
      ]
     },
     "execution_count": 25,
     "metadata": {},
     "output_type": "execute_result"
    }
   ],
   "source": [
    "list(g)"
   ]
  },
  {
   "cell_type": "code",
   "execution_count": null,
   "id": "72011827-e287-4ecd-9938-7e5514b887ad",
   "metadata": {},
   "outputs": [],
   "source": []
  }
 ],
 "metadata": {
  "kernelspec": {
   "display_name": "Python 3 (ipykernel)",
   "language": "python",
   "name": "python3"
  },
  "language_info": {
   "codemirror_mode": {
    "name": "ipython",
    "version": 3
   },
   "file_extension": ".py",
   "mimetype": "text/x-python",
   "name": "python",
   "nbconvert_exporter": "python",
   "pygments_lexer": "ipython3",
   "version": "3.12.3"
  }
 },
 "nbformat": 4,
 "nbformat_minor": 5
}
