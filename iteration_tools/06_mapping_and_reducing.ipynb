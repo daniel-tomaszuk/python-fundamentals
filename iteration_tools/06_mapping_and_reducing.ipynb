{
 "cells": [
  {
   "cell_type": "code",
   "execution_count": 1,
   "id": "eb7b365a-3624-46c5-aa2e-67b5ee601426",
   "metadata": {},
   "outputs": [],
   "source": [
    "maps = map(lambda x: x ** 2, range(5))"
   ]
  },
  {
   "cell_type": "code",
   "execution_count": 2,
   "id": "5cc88988-3763-4e91-b632-c342a5fee996",
   "metadata": {},
   "outputs": [
    {
     "data": {
      "text/plain": [
       "<map at 0x10a971ff0>"
      ]
     },
     "execution_count": 2,
     "metadata": {},
     "output_type": "execute_result"
    }
   ],
   "source": [
    "maps"
   ]
  },
  {
   "cell_type": "code",
   "execution_count": 3,
   "id": "66b3750b-2c22-4933-a1ad-add410346635",
   "metadata": {},
   "outputs": [
    {
     "data": {
      "text/plain": [
       "True"
      ]
     },
     "execution_count": 3,
     "metadata": {},
     "output_type": "execute_result"
    }
   ],
   "source": [
    "iter(maps) is maps  # it's an iterator"
   ]
  },
  {
   "cell_type": "code",
   "execution_count": 4,
   "id": "e8efa5ad-4a18-4a35-b43f-ae629fe0b18f",
   "metadata": {},
   "outputs": [
    {
     "data": {
      "text/plain": [
       "[0, 1, 4, 9, 16]"
      ]
     },
     "execution_count": 4,
     "metadata": {},
     "output_type": "execute_result"
    }
   ],
   "source": [
    "list(maps)"
   ]
  },
  {
   "cell_type": "code",
   "execution_count": 5,
   "id": "834b2571-6351-4411-8c6f-e12a4f9d1728",
   "metadata": {},
   "outputs": [],
   "source": [
    "def add(t):\n",
    "    # add first and second element of the given sequence\n",
    "    return t[0] + t[1]"
   ]
  },
  {
   "cell_type": "code",
   "execution_count": 6,
   "id": "495ad09e-80f6-4b1a-86ea-ca6f49f94adb",
   "metadata": {},
   "outputs": [],
   "source": [
    "m = map(add, ([1,2,3], (4,5), range(10, 20)))"
   ]
  },
  {
   "cell_type": "code",
   "execution_count": 7,
   "id": "231d0f75-b3e3-49f0-b0dc-d9813f8d02d7",
   "metadata": {},
   "outputs": [
    {
     "data": {
      "text/plain": [
       "(3, 9, [21])"
      ]
     },
     "execution_count": 7,
     "metadata": {},
     "output_type": "execute_result"
    }
   ],
   "source": [
    "next(m), next(m), list(m)"
   ]
  },
  {
   "cell_type": "code",
   "execution_count": 8,
   "id": "66d33185-63ef-4e2f-885b-e58258610845",
   "metadata": {},
   "outputs": [
    {
     "data": {
      "text/plain": [
       "(112, 224, [336, 448, 560])"
      ]
     },
     "execution_count": 8,
     "metadata": {},
     "output_type": "execute_result"
    }
   ],
   "source": [
    "def add(x, y):\n",
    "    return x + y\n",
    "\n",
    "\n",
    "m = map(add, [1,2,3,4,5,67,7,8], [111,222,333,444,555])\n",
    "next(m), next(m), list(m)"
   ]
  },
  {
   "cell_type": "code",
   "execution_count": 9,
   "id": "97230c94-0bba-43e2-92ca-6e22fef63ebd",
   "metadata": {},
   "outputs": [
    {
     "name": "stdout",
     "output_type": "stream",
     "text": [
      "add() missing 1 required positional argument: 'y'\n"
     ]
    }
   ],
   "source": [
    "try:\n",
    "    # we would need to unpack every element and then add \n",
    "    list(map(add, [(0,0), [1,1],range(2,4)]))\n",
    "except TypeError as e:\n",
    "    print(e)"
   ]
  },
  {
   "cell_type": "code",
   "execution_count": 10,
   "id": "f0884a94-a2b5-49e1-83dc-e85568caf4a9",
   "metadata": {},
   "outputs": [
    {
     "data": {
      "text/plain": [
       "[0, 2, 5]"
      ]
     },
     "execution_count": 10,
     "metadata": {},
     "output_type": "execute_result"
    }
   ],
   "source": [
    "# we can use starmap instead\n",
    "from itertools import starmap\n",
    "\n",
    "# starmap will unpack each element and use the passed function\n",
    "list(starmap(add, [(0,0),[1,1],range(2,4)]))"
   ]
  },
  {
   "cell_type": "code",
   "execution_count": 11,
   "id": "63437dca-1de1-43dd-b3e0-dc822d780f06",
   "metadata": {},
   "outputs": [
    {
     "data": {
      "text/plain": [
       "24"
      ]
     },
     "execution_count": 11,
     "metadata": {},
     "output_type": "execute_result"
    }
   ],
   "source": [
    "from functools import reduce\n",
    "\n",
    "reduce(lambda prev_el, next_el: prev_el*next_el, [1,2,3,4])"
   ]
  },
  {
   "cell_type": "code",
   "execution_count": 12,
   "id": "6c811429-cecc-4a0c-b6c2-bf9c1d909016",
   "metadata": {},
   "outputs": [
    {
     "data": {
      "text/plain": [
       "240"
      ]
     },
     "execution_count": 12,
     "metadata": {},
     "output_type": "execute_result"
    }
   ],
   "source": [
    "reduce(lambda prev_el, next_el: prev_el*next_el, [1,2,3,4], 10)   # 10 as a start value (at first position)"
   ]
  },
  {
   "cell_type": "code",
   "execution_count": 13,
   "id": "c277941e-3f2e-4aa7-89c2-13ada2af41ce",
   "metadata": {},
   "outputs": [],
   "source": [
    "# sum function that yield intermediate results\n",
    "# a bit like rolling sum / prefix sum\n",
    "def sum_(iterable):\n",
    "    iter_ = iter(iterable)\n",
    "    acc = next(iter_)\n",
    "    yield acc\n",
    "    for item in iter_:\n",
    "        acc += item\n",
    "        yield acc"
   ]
  },
  {
   "cell_type": "code",
   "execution_count": 14,
   "id": "6487f6d2-5f2e-4c1f-bc6e-44a4619e6787",
   "metadata": {},
   "outputs": [
    {
     "name": "stdout",
     "output_type": "stream",
     "text": [
      "10\n",
      "21\n",
      "33\n",
      "46\n",
      "60\n",
      "75\n",
      "91\n",
      "108\n",
      "126\n",
      "145\n"
     ]
    }
   ],
   "source": [
    "for item in sum_(range(10, 20)):\n",
    "    print(item)"
   ]
  },
  {
   "cell_type": "code",
   "execution_count": 15,
   "id": "871e4e79-c66a-4bb6-a496-76f826ad8747",
   "metadata": {},
   "outputs": [],
   "source": [
    "def running_reduce(fn, iterable, start=None):\n",
    "    it = iter(iterable)\n",
    "    start = start if start is not None else next(it)\n",
    "    acc = start\n",
    "    yield acc\n",
    "\n",
    "    for item in it:\n",
    "        acc = fn(acc, item)\n",
    "        yield acc\n"
   ]
  },
  {
   "cell_type": "code",
   "execution_count": 16,
   "id": "004f07c5-5c85-40f2-aa87-d913b5227f9a",
   "metadata": {},
   "outputs": [
    {
     "data": {
      "text/plain": [
       "[10, 30, 60]"
      ]
     },
     "execution_count": 16,
     "metadata": {},
     "output_type": "execute_result"
    }
   ],
   "source": [
    "list(running_reduce(lambda x, y: x + y, [10, 20, 30]))"
   ]
  },
  {
   "cell_type": "code",
   "execution_count": 17,
   "id": "023cef6f-6398-4a99-98ea-5d235eb1b16d",
   "metadata": {},
   "outputs": [
    {
     "data": {
      "text/plain": [
       "[50, 60, 80, 110]"
      ]
     },
     "execution_count": 17,
     "metadata": {},
     "output_type": "execute_result"
    }
   ],
   "source": [
    "list(running_reduce(lambda x, y: x + y, [10, 20, 30], start=50))"
   ]
  },
  {
   "cell_type": "code",
   "execution_count": 18,
   "id": "71bee231-a343-452f-a084-9f14b2f3a2b6",
   "metadata": {},
   "outputs": [
    {
     "data": {
      "text/plain": [
       "[50, 60, 80, 110]"
      ]
     },
     "execution_count": 18,
     "metadata": {},
     "output_type": "execute_result"
    }
   ],
   "source": [
    "import operator \n",
    "\n",
    "list(running_reduce(operator.add, [10, 20, 30], start=50))"
   ]
  },
  {
   "cell_type": "code",
   "execution_count": 19,
   "id": "e604ba89-1429-4279-b3d8-7762ea58f65f",
   "metadata": {},
   "outputs": [
    {
     "data": {
      "text/plain": [
       "[3, 6, 30, 240, 2640, 36960, 628320]"
      ]
     },
     "execution_count": 19,
     "metadata": {},
     "output_type": "execute_result"
    }
   ],
   "source": [
    "list(running_reduce(operator.mul, range(2,20,3), start=3))"
   ]
  },
  {
   "cell_type": "code",
   "execution_count": 20,
   "id": "f2607ce6-bb35-4920-8a42-a2af30f4da01",
   "metadata": {},
   "outputs": [
    {
     "data": {
      "text/plain": [
       "[10, 30, 60]"
      ]
     },
     "execution_count": 20,
     "metadata": {},
     "output_type": "execute_result"
    }
   ],
   "source": [
    "# we can use accumulate function to get similar results\n",
    "from itertools import accumulate\n",
    "\n",
    "list(accumulate([10,20,30]))  # addition by default"
   ]
  },
  {
   "cell_type": "code",
   "execution_count": 21,
   "id": "de1aba4b-f07c-4af2-9149-3000d288d69b",
   "metadata": {},
   "outputs": [
    {
     "data": {
      "text/plain": [
       "[10, 200, 6000]"
      ]
     },
     "execution_count": 21,
     "metadata": {},
     "output_type": "execute_result"
    }
   ],
   "source": [
    "list(accumulate([10,20,30], operator.mul))  # addition by default"
   ]
  },
  {
   "cell_type": "code",
   "execution_count": 22,
   "id": "a7c52e75-d5ff-4b2e-a03c-e7b39fc92226",
   "metadata": {},
   "outputs": [
    {
     "data": {
      "text/plain": [
       "[10, 1, 2, 3, 4, 5, 6]"
      ]
     },
     "execution_count": 22,
     "metadata": {},
     "output_type": "execute_result"
    }
   ],
   "source": [
    "from itertools import chain\n",
    "\n",
    "start_value = [10]\n",
    "rest_of_values = [1,2,3,4,5,6]\n",
    "\n",
    "\n",
    "list(chain(start_value, rest_of_values))"
   ]
  },
  {
   "cell_type": "code",
   "execution_count": 23,
   "id": "18c0c857-3055-4a02-abfb-ffce22c6c383",
   "metadata": {},
   "outputs": [
    {
     "data": {
      "text/plain": [
       "[10, 9, 7, 4, 0, -5, -11]"
      ]
     },
     "execution_count": 23,
     "metadata": {},
     "output_type": "execute_result"
    }
   ],
   "source": [
    "list(accumulate(chain(start_value, rest_of_values), operator.sub))"
   ]
  },
  {
   "cell_type": "code",
   "execution_count": null,
   "id": "510536a5-c525-4282-8215-d76380d1d4e2",
   "metadata": {},
   "outputs": [],
   "source": []
  }
 ],
 "metadata": {
  "kernelspec": {
   "display_name": "Python 3 (ipykernel)",
   "language": "python",
   "name": "python3"
  },
  "language_info": {
   "codemirror_mode": {
    "name": "ipython",
    "version": 3
   },
   "file_extension": ".py",
   "mimetype": "text/x-python",
   "name": "python",
   "nbconvert_exporter": "python",
   "pygments_lexer": "ipython3",
   "version": "3.12.3"
  }
 },
 "nbformat": 4,
 "nbformat_minor": 5
}
