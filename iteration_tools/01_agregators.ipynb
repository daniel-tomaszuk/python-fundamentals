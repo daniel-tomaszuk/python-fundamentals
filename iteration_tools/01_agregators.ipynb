{
 "cells": [
  {
   "cell_type": "code",
   "execution_count": 1,
   "id": "225b35fd-6851-4633-9af1-7ce45f9bf563",
   "metadata": {},
   "outputs": [],
   "source": [
    "def squares(n):\n",
    "    for i in range(n):\n",
    "        yield i ** 2"
   ]
  },
  {
   "cell_type": "code",
   "execution_count": 2,
   "id": "a00a93de-305c-429a-8db0-f05b374f1022",
   "metadata": {},
   "outputs": [
    {
     "data": {
      "text/plain": [
       "[0, 1, 4, 9, 16]"
      ]
     },
     "execution_count": 2,
     "metadata": {},
     "output_type": "execute_result"
    }
   ],
   "source": [
    "list(squares(5))"
   ]
  },
  {
   "cell_type": "code",
   "execution_count": 3,
   "id": "731ad6f7-1c78-49f9-a87a-d4305b0bd4ba",
   "metadata": {},
   "outputs": [
    {
     "data": {
      "text/plain": [
       "(0, 16, 30)"
      ]
     },
     "execution_count": 3,
     "metadata": {},
     "output_type": "execute_result"
    }
   ],
   "source": [
    "min(squares(5)), max(squares(5)), sum(squares(5))  # each of these functions is consuming the generator!"
   ]
  },
  {
   "cell_type": "code",
   "execution_count": 4,
   "id": "de874110-5633-4a00-8ca7-cec870f3a541",
   "metadata": {},
   "outputs": [
    {
     "data": {
      "text/plain": [
       "81"
      ]
     },
     "execution_count": 4,
     "metadata": {},
     "output_type": "execute_result"
    }
   ],
   "source": [
    "sq = squares(10)\n",
    "max(sq)"
   ]
  },
  {
   "cell_type": "code",
   "execution_count": 5,
   "id": "b6a25ef3-ef26-432a-8d85-08cd578fe0e0",
   "metadata": {},
   "outputs": [
    {
     "data": {
      "text/plain": [
       "([], True)"
      ]
     },
     "execution_count": 5,
     "metadata": {},
     "output_type": "execute_result"
    }
   ],
   "source": [
    "list(sq), bool(sq)"
   ]
  },
  {
   "cell_type": "code",
   "execution_count": 6,
   "id": "ed4510a2-adac-452b-a11c-10bbaa1126af",
   "metadata": {},
   "outputs": [],
   "source": [
    "class Person:\n",
    "    pass"
   ]
  },
  {
   "cell_type": "code",
   "execution_count": 7,
   "id": "ce52de72-602c-4206-9506-034e53f7b3f9",
   "metadata": {},
   "outputs": [
    {
     "data": {
      "text/plain": [
       "True"
      ]
     },
     "execution_count": 7,
     "metadata": {},
     "output_type": "execute_result"
    }
   ],
   "source": [
    "p = Person()\n",
    "bool(p)  # __bool__ is checked or __len__ is checked"
   ]
  },
  {
   "cell_type": "code",
   "execution_count": 8,
   "id": "648f6e95-40ac-4340-94db-bda144f8c22d",
   "metadata": {},
   "outputs": [],
   "source": [
    "class Person:\n",
    "    def __bool__(self):\n",
    "        return True\n",
    "\n",
    "    def __len__(self):\n",
    "        return 0"
   ]
  },
  {
   "cell_type": "code",
   "execution_count": 9,
   "id": "d7a8d90e-7076-48a8-8e75-e3f5a06fb360",
   "metadata": {},
   "outputs": [
    {
     "data": {
      "text/plain": [
       "True"
      ]
     },
     "execution_count": 9,
     "metadata": {},
     "output_type": "execute_result"
    }
   ],
   "source": [
    "p = Person()\n",
    "bool(p) # __bool__ (if it exists) has priority over __len__, if none present, return True"
   ]
  },
  {
   "cell_type": "code",
   "execution_count": 10,
   "id": "6dab0124-eda4-455d-865c-bcc1d7d42d6d",
   "metadata": {},
   "outputs": [],
   "source": [
    "class MySeq:\n",
    "    def __init__(self, n):\n",
    "        self.n = n\n",
    "\n",
    "    def __len__(self):\n",
    "        return self.n\n",
    "\n",
    "    def __getitem__(self):\n",
    "        pass\n"
   ]
  },
  {
   "cell_type": "code",
   "execution_count": 11,
   "id": "f9940552-6ecd-45bb-9951-33b1d39f8154",
   "metadata": {},
   "outputs": [
    {
     "data": {
      "text/plain": [
       "False"
      ]
     },
     "execution_count": 11,
     "metadata": {},
     "output_type": "execute_result"
    }
   ],
   "source": [
    "my_seq = MySeq(0)\n",
    "bool(my_seq)"
   ]
  },
  {
   "cell_type": "code",
   "execution_count": 12,
   "id": "da78c0e6-afdc-4d54-ac7d-61121d440253",
   "metadata": {},
   "outputs": [
    {
     "data": {
      "text/plain": [
       "True"
      ]
     },
     "execution_count": 12,
     "metadata": {},
     "output_type": "execute_result"
    }
   ],
   "source": [
    "my_seq = MySeq(10)\n",
    "bool(my_seq)"
   ]
  },
  {
   "cell_type": "code",
   "execution_count": 13,
   "id": "e7a889b7-a842-40f2-acfa-352a0d9e40e0",
   "metadata": {},
   "outputs": [
    {
     "data": {
      "text/plain": [
       "False"
      ]
     },
     "execution_count": 13,
     "metadata": {},
     "output_type": "execute_result"
    }
   ],
   "source": [
    "any([0,\"\",None,()])"
   ]
  },
  {
   "cell_type": "code",
   "execution_count": 14,
   "id": "9e576a3e-affb-4241-93b8-ea8e87bebdec",
   "metadata": {},
   "outputs": [
    {
     "data": {
      "text/plain": [
       "(True, True)"
      ]
     },
     "execution_count": 14,
     "metadata": {},
     "output_type": "execute_result"
    }
   ],
   "source": [
    "any([0,\"\",None,1]), any([0,\"\",None,[0,0,0,0]])"
   ]
  },
  {
   "cell_type": "code",
   "execution_count": 15,
   "id": "3abc5053-7627-479e-b18a-c81a622e94f1",
   "metadata": {},
   "outputs": [
    {
     "data": {
      "text/plain": [
       "True"
      ]
     },
     "execution_count": 15,
     "metadata": {},
     "output_type": "execute_result"
    }
   ],
   "source": [
    "all([1,2,3,4,\"hi\"])"
   ]
  },
  {
   "cell_type": "code",
   "execution_count": 16,
   "id": "da58bab5-77d1-415b-bcab-9862abfc5caa",
   "metadata": {},
   "outputs": [
    {
     "data": {
      "text/plain": [
       "False"
      ]
     },
     "execution_count": 16,
     "metadata": {},
     "output_type": "execute_result"
    }
   ],
   "source": [
    "all([1,2,3,4,\"hi\", None])"
   ]
  },
  {
   "cell_type": "markdown",
   "id": "fb690d62-fc96-4092-a071-d2f69f621aa8",
   "metadata": {},
   "source": [
    "#### Example1\n",
    "Is this value a number?"
   ]
  },
  {
   "cell_type": "code",
   "execution_count": 17,
   "id": "7371fb2b-6ca8-44d5-8e84-e62c17b4a80f",
   "metadata": {},
   "outputs": [
    {
     "data": {
      "text/plain": [
       "(True, True, True, True)"
      ]
     },
     "execution_count": 17,
     "metadata": {},
     "output_type": "execute_result"
    }
   ],
   "source": [
    "from decimal import Decimal\n",
    "from numbers import Number\n",
    "\n",
    "\n",
    "isinstance(10, Number), isinstance(10.5, Number), isinstance(10+1j, Number), isinstance(Decimal(0.1), Number)"
   ]
  },
  {
   "cell_type": "code",
   "execution_count": 18,
   "id": "0e65ebd3-8ce6-4459-b9e2-e7edc70437f1",
   "metadata": {},
   "outputs": [
    {
     "data": {
      "text/plain": [
       "False"
      ]
     },
     "execution_count": 18,
     "metadata": {},
     "output_type": "execute_result"
    }
   ],
   "source": [
    "isinstance(\"11.25\", Number)"
   ]
  },
  {
   "cell_type": "code",
   "execution_count": 19,
   "id": "5c29bcbc-1605-4b60-910a-362a0e581cf7",
   "metadata": {},
   "outputs": [
    {
     "data": {
      "text/plain": [
       "True"
      ]
     },
     "execution_count": 19,
     "metadata": {},
     "output_type": "execute_result"
    }
   ],
   "source": [
    "l = [10,20,30,40]\n",
    "\n",
    "all(isinstance(el, Number) for el in l)"
   ]
  },
  {
   "cell_type": "code",
   "execution_count": 20,
   "id": "fcd5f991-88d4-40c5-82ca-b7bf43b2a87b",
   "metadata": {},
   "outputs": [
    {
     "data": {
      "text/plain": [
       "False"
      ]
     },
     "execution_count": 20,
     "metadata": {},
     "output_type": "execute_result"
    }
   ],
   "source": [
    "l = [10,20,30,40,\"abcd\"]\n",
    "\n",
    "all(isinstance(el, Number) for el in l)"
   ]
  },
  {
   "cell_type": "code",
   "execution_count": 21,
   "id": "bbf8154d-3567-4399-ae8f-26a5327ccbc3",
   "metadata": {},
   "outputs": [
    {
     "data": {
      "text/plain": [
       "True"
      ]
     },
     "execution_count": 21,
     "metadata": {},
     "output_type": "execute_result"
    }
   ],
   "source": [
    "all(l)  # checks truthines"
   ]
  },
  {
   "cell_type": "markdown",
   "id": "ff83f765-c862-4f2c-a798-944be5fbb821",
   "metadata": {},
   "source": [
    "#### Example 2\n",
    "Check if file row passes given conditions"
   ]
  },
  {
   "cell_type": "code",
   "execution_count": 22,
   "id": "ab5a439a-09fe-4b00-be54-9bee02258f0b",
   "metadata": {},
   "outputs": [
    {
     "name": "stdout",
     "output_type": "stream",
     "text": [
      "11 Alfa Romeo\n",
      "13 Aston Martin\n",
      "5 Audi\n",
      "8 Bentley\n",
      "5 Benz\n",
      "4 BMW\n",
      "8 Bugatti\n",
      "9 Cadillac\n",
      "10 Chevrolet\n",
      "9 Chrysler\n",
      "8 Citroen\n",
      "9 Corvette\n",
      "4 DAF\n",
      "6 Dacia\n",
      "7 Daewoo\n",
      "9 Daihatsu\n",
      "7 Datsun\n",
      "10 De Lorean\n",
      "5 Dino\n",
      "5 Dodge"
     ]
    }
   ],
   "source": [
    "with open(\"car_brands.txt\") as f:\n",
    "    for row in f:\n",
    "        print(len(row), row, end=\"\")"
   ]
  },
  {
   "cell_type": "code",
   "execution_count": 23,
   "id": "f04b413a-78ce-4336-89ab-6c58a7abcba6",
   "metadata": {},
   "outputs": [
    {
     "data": {
      "text/plain": [
       "True"
      ]
     },
     "execution_count": 23,
     "metadata": {},
     "output_type": "execute_result"
    }
   ],
   "source": [
    "with open(\"car_brands.txt\") as f:\n",
    "    result = all(map(lambda row: len(row) >= 4, f))\n",
    "result"
   ]
  },
  {
   "cell_type": "code",
   "execution_count": 24,
   "id": "9382b5ab-27fa-458e-ba9a-9a36d913bce6",
   "metadata": {},
   "outputs": [
    {
     "data": {
      "text/plain": [
       "True"
      ]
     },
     "execution_count": 24,
     "metadata": {},
     "output_type": "execute_result"
    }
   ],
   "source": [
    "with open(\"car_brands.txt\") as f:\n",
    "    result = any(map(lambda row: len(row) > 10, f))\n",
    "result"
   ]
  },
  {
   "cell_type": "code",
   "execution_count": 25,
   "id": "b5417940-bbad-4678-a9ff-2aec0069e6ce",
   "metadata": {},
   "outputs": [
    {
     "data": {
      "text/plain": [
       "False"
      ]
     },
     "execution_count": 25,
     "metadata": {},
     "output_type": "execute_result"
    }
   ],
   "source": [
    "with open(\"car_brands.txt\") as f:\n",
    "    result = any(map(lambda row: len(row) > 13, f))\n",
    "result"
   ]
  },
  {
   "cell_type": "code",
   "execution_count": 26,
   "id": "88f8cda1-6a7b-4a4c-81df-41f481032176",
   "metadata": {},
   "outputs": [
    {
     "data": {
      "text/plain": [
       "True"
      ]
     },
     "execution_count": 26,
     "metadata": {},
     "output_type": "execute_result"
    }
   ],
   "source": [
    "with open(\"car_brands.txt\") as f:\n",
    "    result = all(len(row) >= 4 for row in f)\n",
    "result"
   ]
  },
  {
   "cell_type": "code",
   "execution_count": null,
   "id": "434576b0-2cc4-42fe-97ca-91f886967569",
   "metadata": {},
   "outputs": [],
   "source": []
  }
 ],
 "metadata": {
  "kernelspec": {
   "display_name": "Python 3 (ipykernel)",
   "language": "python",
   "name": "python3"
  },
  "language_info": {
   "codemirror_mode": {
    "name": "ipython",
    "version": 3
   },
   "file_extension": ".py",
   "mimetype": "text/x-python",
   "name": "python",
   "nbconvert_exporter": "python",
   "pygments_lexer": "ipython3",
   "version": "3.12.3"
  }
 },
 "nbformat": 4,
 "nbformat_minor": 5
}
