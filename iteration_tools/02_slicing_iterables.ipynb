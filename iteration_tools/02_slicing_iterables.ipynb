{
 "cells": [
  {
   "cell_type": "markdown",
   "id": "cb24f722-5fca-45a3-af6e-fee36ea22cda",
   "metadata": {},
   "source": [
    "#### itertools.islice\n",
    "It's possible to slice general iterators / iterables.\n",
    "\n",
    "`islice` returns a lazy iterator"
   ]
  },
  {
   "cell_type": "code",
   "execution_count": 1,
   "id": "6e6f228a-92cf-45dd-aa16-31c55ec06e5c",
   "metadata": {},
   "outputs": [],
   "source": [
    "import math\n",
    "\n",
    "\n",
    "def fact(n):\n",
    "    for i in range(n):\n",
    "        yield math.factorial(i)"
   ]
  },
  {
   "cell_type": "code",
   "execution_count": 2,
   "id": "30ef94ce-a2a8-474f-bf1f-b2647238d7f3",
   "metadata": {},
   "outputs": [],
   "source": [
    "facts = fact(100)"
   ]
  },
  {
   "cell_type": "code",
   "execution_count": 3,
   "id": "1b344274-1471-44dc-b020-ecf059d9e8a3",
   "metadata": {},
   "outputs": [
    {
     "name": "stdout",
     "output_type": "stream",
     "text": [
      "'generator' object is not subscriptable\n"
     ]
    }
   ],
   "source": [
    "try:\n",
    "    facts[0:10]  # direct slicing of iterators is not allowed\n",
    "except TypeError as e:\n",
    "    print(e)"
   ]
  },
  {
   "cell_type": "code",
   "execution_count": 4,
   "id": "a12d9ddf-dd14-4ed9-b638-7a3043983935",
   "metadata": {},
   "outputs": [],
   "source": [
    "def slice_(iterator, start, stop):\n",
    "    for _ in range(0, start):\n",
    "        next(iterator)\n",
    "\n",
    "    for _ in range(start, stop):\n",
    "        yield next(iterator)"
   ]
  },
  {
   "cell_type": "code",
   "execution_count": 5,
   "id": "af990977-a79f-49fe-a2ee-9e88a375a38f",
   "metadata": {},
   "outputs": [
    {
     "data": {
      "text/plain": [
       "[1307674368000, 20922789888000, 355687428096000, 6402373705728000]"
      ]
     },
     "execution_count": 5,
     "metadata": {},
     "output_type": "execute_result"
    }
   ],
   "source": [
    "list(slice_(fact(100), 15, 19))"
   ]
  },
  {
   "cell_type": "code",
   "execution_count": 6,
   "id": "a99f46f9-89bb-4fcc-b450-b301921b64ce",
   "metadata": {},
   "outputs": [
    {
     "data": {
      "text/plain": [
       "[6, 24, 120, 720, 5040, 40320, 362880]"
      ]
     },
     "execution_count": 6,
     "metadata": {},
     "output_type": "execute_result"
    }
   ],
   "source": [
    "list(slice_(fact(100), 3, 10))"
   ]
  },
  {
   "cell_type": "code",
   "execution_count": 7,
   "id": "388f06d8-22b1-4302-ad6e-980887d70359",
   "metadata": {},
   "outputs": [
    {
     "data": {
      "text/plain": [
       "[6, 24, 120, 720, 5040, 40320, 362880]"
      ]
     },
     "execution_count": 7,
     "metadata": {},
     "output_type": "execute_result"
    }
   ],
   "source": [
    "from itertools import islice\n",
    "\n",
    "list(islice(fact(100), 3, 10))"
   ]
  },
  {
   "cell_type": "code",
   "execution_count": 8,
   "id": "84a3873a-e781-43a1-9658-3d257a1b10be",
   "metadata": {},
   "outputs": [
    {
     "name": "stdout",
     "output_type": "stream",
     "text": [
      "Help on class islice in module itertools:\n",
      "\n",
      "class islice(builtins.object)\n",
      " |  islice(iterable, stop) --> islice object\n",
      " |  islice(iterable, start, stop[, step]) --> islice object\n",
      " |\n",
      " |  Return an iterator whose next() method returns selected values from an\n",
      " |  iterable.  If start is specified, will skip all preceding elements;\n",
      " |  otherwise, start defaults to zero.  Step defaults to one.  If\n",
      " |  specified as another value, step determines how many values are\n",
      " |  skipped between successive calls.  Works like a slice() on a list\n",
      " |  but returns an iterator.\n",
      " |\n",
      " |  Methods defined here:\n",
      " |\n",
      " |  __getattribute__(self, name, /)\n",
      " |      Return getattr(self, name).\n",
      " |\n",
      " |  __iter__(self, /)\n",
      " |      Implement iter(self).\n",
      " |\n",
      " |  __next__(self, /)\n",
      " |      Implement next(self).\n",
      " |\n",
      " |  __reduce__(...)\n",
      " |      Return state information for pickling.\n",
      " |\n",
      " |  __setstate__(...)\n",
      " |      Set state information for unpickling.\n",
      " |\n",
      " |  ----------------------------------------------------------------------\n",
      " |  Static methods defined here:\n",
      " |\n",
      " |  __new__(*args, **kwargs)\n",
      " |      Create and return a new object.  See help(type) for accurate signature.\n",
      "\n"
     ]
    }
   ],
   "source": [
    "help(islice)"
   ]
  },
  {
   "cell_type": "code",
   "execution_count": 9,
   "id": "052931be-4269-4613-8d80-ea8e622ef349",
   "metadata": {},
   "outputs": [
    {
     "data": {
      "text/plain": [
       "[1, 1, 2, 6, 24]"
      ]
     },
     "execution_count": 9,
     "metadata": {},
     "output_type": "execute_result"
    }
   ],
   "source": [
    "list(islice(fact(100), 5))  # get first 5 elements"
   ]
  },
  {
   "cell_type": "code",
   "execution_count": 10,
   "id": "003fd4cf-5b47-496e-a2b9-fb42d3c1eb27",
   "metadata": {},
   "outputs": [
    {
     "data": {
      "text/plain": [
       "[6,\n",
       " 120,\n",
       " 5040,\n",
       " 362880,\n",
       " 39916800,\n",
       " 6227020800,\n",
       " 1307674368000,\n",
       " 355687428096000,\n",
       " 121645100408832000]"
      ]
     },
     "execution_count": 10,
     "metadata": {},
     "output_type": "execute_result"
    }
   ],
   "source": [
    "list(islice(fact(100), 3, 20, 2))"
   ]
  },
  {
   "cell_type": "code",
   "execution_count": 11,
   "id": "7b1861b8-7734-4665-885d-408674788a11",
   "metadata": {},
   "outputs": [],
   "source": [
    "def factorials():\n",
    "    index_ = 0\n",
    "    while True:\n",
    "        yield math.factorial(index_)\n",
    "        index_ += 1"
   ]
  },
  {
   "cell_type": "code",
   "execution_count": 12,
   "id": "9497f389-5106-4128-af85-4e746e036926",
   "metadata": {},
   "outputs": [
    {
     "data": {
      "text/plain": [
       "[15882455415227429404253703127090772871724410234473563207581748318444567162948183030959960131517678520479243672638179990208521148623422266876757623911219200000000000000000000000000,\n",
       " 197450685722107402353682037275992488341277868034975337796656295094902858969771811440894224355027779366597957338237853638272334919686385621811850780464277094400000000000000000000000000,\n",
       " 2543559733472187557120132004189335234812341496026552301496526393412538629248600474981599398141467853800514886431180030568224218435400019580180261753940817530060800000000000000000000000000]"
      ]
     },
     "execution_count": 12,
     "metadata": {},
     "output_type": "execute_result"
    }
   ],
   "source": [
    "list(islice(factorials(), 110, 116, 2))"
   ]
  },
  {
   "cell_type": "code",
   "execution_count": 13,
   "id": "d5062232-af7e-4893-b217-4e6465a5c1a4",
   "metadata": {},
   "outputs": [
    {
     "data": {
      "text/plain": [
       "(2543559733472187557120132004189335234812341496026552301496526393412538629248600474981599398141467853800514886431180030568224218435400019580180261753940817530060800000000000000000000000000,\n",
       " [])"
      ]
     },
     "execution_count": 13,
     "metadata": {},
     "output_type": "execute_result"
    }
   ],
   "source": [
    "# islice returns an iterator, it will be consumed when used\n",
    "sl = islice(factorials(), 110, 116, 2)\n",
    "max(sl), list(sl)"
   ]
  },
  {
   "cell_type": "code",
   "execution_count": null,
   "id": "ee5a4d52-4033-40f5-bdc0-8da6fd37aa56",
   "metadata": {},
   "outputs": [],
   "source": []
  }
 ],
 "metadata": {
  "kernelspec": {
   "display_name": "Python 3 (ipykernel)",
   "language": "python",
   "name": "python3"
  },
  "language_info": {
   "codemirror_mode": {
    "name": "ipython",
    "version": 3
   },
   "file_extension": ".py",
   "mimetype": "text/x-python",
   "name": "python",
   "nbconvert_exporter": "python",
   "pygments_lexer": "ipython3",
   "version": "3.12.3"
  }
 },
 "nbformat": 4,
 "nbformat_minor": 5
}
