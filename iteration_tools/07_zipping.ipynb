{
 "cells": [
  {
   "cell_type": "code",
   "execution_count": 1,
   "id": "f67c24ce-1e20-4bbf-87bf-7e9db660f7b7",
   "metadata": {},
   "outputs": [],
   "source": [
    "l1 = [1,2,3,4,5]\n",
    "l2 = [1,2,3,4]\n",
    "l3 = [1,2,3]"
   ]
  },
  {
   "cell_type": "code",
   "execution_count": 2,
   "id": "c50acd25-8fea-429c-9c3f-21500b8ac1cf",
   "metadata": {},
   "outputs": [
    {
     "data": {
      "text/plain": [
       "<zip at 0x108751b40>"
      ]
     },
     "execution_count": 2,
     "metadata": {},
     "output_type": "execute_result"
    }
   ],
   "source": [
    "results = zip(l1, l2, l3)\n",
    "results"
   ]
  },
  {
   "cell_type": "code",
   "execution_count": 3,
   "id": "aa18f14a-6d21-4d58-98ad-ea8ee8a1eb2f",
   "metadata": {},
   "outputs": [
    {
     "data": {
      "text/plain": [
       "True"
      ]
     },
     "execution_count": 3,
     "metadata": {},
     "output_type": "execute_result"
    }
   ],
   "source": [
    "results is iter(results)"
   ]
  },
  {
   "cell_type": "code",
   "execution_count": 4,
   "id": "babcf06a-5b00-4eb1-94c2-f40df74b8cc5",
   "metadata": {},
   "outputs": [
    {
     "data": {
      "text/plain": [
       "True"
      ]
     },
     "execution_count": 4,
     "metadata": {},
     "output_type": "execute_result"
    }
   ],
   "source": [
    "\"__next__\" in dir(results)"
   ]
  },
  {
   "cell_type": "code",
   "execution_count": 5,
   "id": "cd7a2c3c-9f28-4361-9de2-25fb6b12ab8e",
   "metadata": {},
   "outputs": [
    {
     "data": {
      "text/plain": [
       "[(1, 1, 1), (2, 2, 2), (3, 3, 3)]"
      ]
     },
     "execution_count": 5,
     "metadata": {},
     "output_type": "execute_result"
    }
   ],
   "source": [
    "list(results)"
   ]
  },
  {
   "cell_type": "code",
   "execution_count": 6,
   "id": "c5ea9012-30cb-4ca0-834c-8ae6e648ac9f",
   "metadata": {},
   "outputs": [],
   "source": [
    "def integer(n):\n",
    "    for i in range(n):\n",
    "        yield i\n",
    "\n",
    "\n",
    "def squares(n):\n",
    "    for i in range(n):\n",
    "        yield i ** 2\n",
    "\n",
    "\n",
    "def cubes(n):\n",
    "    for i in range(n):\n",
    "        yield i ** 3"
   ]
  },
  {
   "cell_type": "code",
   "execution_count": 7,
   "id": "287aefe0-a4c4-4024-948a-d170c11987ae",
   "metadata": {},
   "outputs": [
    {
     "data": {
      "text/plain": [
       "[(0, 0, 0), (1, 1, 1), (2, 4, 8), (3, 9, 27)]"
      ]
     },
     "execution_count": 7,
     "metadata": {},
     "output_type": "execute_result"
    }
   ],
   "source": [
    "iter1 = integer(6)\n",
    "iter2 = squares(5)\n",
    "iter3 = cubes(4)\n",
    "\n",
    "list(zip(iter1, iter2, iter3))"
   ]
  },
  {
   "cell_type": "code",
   "execution_count": 8,
   "id": "b88ac1a8-57a8-45d8-882e-c3fbc4f752e7",
   "metadata": {},
   "outputs": [
    {
     "name": "stdout",
     "output_type": "stream",
     "text": [
      "Help on class zip_longest in module itertools:\n",
      "\n",
      "class zip_longest(builtins.object)\n",
      " |  zip_longest(iter1 [,iter2 [...]], [fillvalue=None]) --> zip_longest object\n",
      " |\n",
      " |  Return a zip_longest object whose .__next__() method returns a tuple where\n",
      " |  the i-th element comes from the i-th iterable argument.  The .__next__()\n",
      " |  method continues until the longest iterable in the argument sequence\n",
      " |  is exhausted and then it raises StopIteration.  When the shorter iterables\n",
      " |  are exhausted, the fillvalue is substituted in their place.  The fillvalue\n",
      " |  defaults to None or can be specified by a keyword argument.\n",
      " |\n",
      " |  Methods defined here:\n",
      " |\n",
      " |  __getattribute__(self, name, /)\n",
      " |      Return getattr(self, name).\n",
      " |\n",
      " |  __iter__(self, /)\n",
      " |      Implement iter(self).\n",
      " |\n",
      " |  __next__(self, /)\n",
      " |      Implement next(self).\n",
      " |\n",
      " |  __reduce__(...)\n",
      " |      Return state information for pickling.\n",
      " |\n",
      " |  __setstate__(...)\n",
      " |      Set state information for unpickling.\n",
      " |\n",
      " |  ----------------------------------------------------------------------\n",
      " |  Static methods defined here:\n",
      " |\n",
      " |  __new__(*args, **kwargs)\n",
      " |      Create and return a new object.  See help(type) for accurate signature.\n",
      "\n"
     ]
    }
   ],
   "source": [
    "from itertools import zip_longest\n",
    "\n",
    "help(zip_longest)"
   ]
  },
  {
   "cell_type": "code",
   "execution_count": 9,
   "id": "d0ee76f3-c225-4672-bd4b-e2c03ac36334",
   "metadata": {},
   "outputs": [
    {
     "data": {
      "text/plain": [
       "[(1, 1, 1),\n",
       " (2, 2, 2),\n",
       " (3, 3, 3),\n",
       " (4, 4, 'My default'),\n",
       " (5, 'My default', 'My default')]"
      ]
     },
     "execution_count": 9,
     "metadata": {},
     "output_type": "execute_result"
    }
   ],
   "source": [
    "l1 = [1,2,3,4,5]\n",
    "l2 = [1,2,3,4]\n",
    "l3 = [1,2,3]\n",
    "\n",
    "list(zip_longest(l1, l2, l3, fillvalue=\"My default\"))"
   ]
  },
  {
   "cell_type": "code",
   "execution_count": 10,
   "id": "a81ac0cb-0071-47b7-a907-502103b6b1e3",
   "metadata": {},
   "outputs": [],
   "source": [
    "def squares():\n",
    "    i = 0 \n",
    "    while True:\n",
    "        yield i ** 2\n",
    "        i += 1\n",
    "\n",
    "\n",
    "def cubes():\n",
    "    i = 0\n",
    "    while True:\n",
    "        yield i ** 3\n",
    "        i += 1"
   ]
  },
  {
   "cell_type": "code",
   "execution_count": 11,
   "id": "4636a1bb-bf4a-41fe-98fc-43ce7625f419",
   "metadata": {},
   "outputs": [],
   "source": [
    "iter1 = squares()\n",
    "iter2 = cubes()"
   ]
  },
  {
   "cell_type": "code",
   "execution_count": 12,
   "id": "4e484363-ab8a-4505-91c3-0c6f01faa653",
   "metadata": {},
   "outputs": [
    {
     "data": {
      "text/plain": [
       "[(0, 0, 0),\n",
       " (1, 1, 1),\n",
       " (2, 4, 8),\n",
       " (3, 9, 27),\n",
       " (4, 16, 64),\n",
       " (5, 25, 125),\n",
       " (6, 36, 216),\n",
       " (7, 49, 343),\n",
       " (8, 64, 512),\n",
       " (9, 81, 729)]"
      ]
     },
     "execution_count": 12,
     "metadata": {},
     "output_type": "execute_result"
    }
   ],
   "source": [
    "list(zip(range(10), iter1, iter2))  # trick with infinite iterators - just pass something that is finite"
   ]
  },
  {
   "cell_type": "code",
   "execution_count": null,
   "id": "51098a4e-9709-4ce4-ab7c-4d7f2ec7a26b",
   "metadata": {},
   "outputs": [],
   "source": []
  }
 ],
 "metadata": {
  "kernelspec": {
   "display_name": "Python 3 (ipykernel)",
   "language": "python",
   "name": "python3"
  },
  "language_info": {
   "codemirror_mode": {
    "name": "ipython",
    "version": 3
   },
   "file_extension": ".py",
   "mimetype": "text/x-python",
   "name": "python",
   "nbconvert_exporter": "python",
   "pygments_lexer": "ipython3",
   "version": "3.12.3"
  }
 },
 "nbformat": 4,
 "nbformat_minor": 5
}
