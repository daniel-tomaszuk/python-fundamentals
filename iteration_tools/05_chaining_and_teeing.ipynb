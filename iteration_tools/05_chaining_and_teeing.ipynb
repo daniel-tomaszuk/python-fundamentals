{
 "cells": [
  {
   "cell_type": "code",
   "execution_count": 1,
   "id": "8f423f55-4609-4a54-bc11-b93d89691683",
   "metadata": {},
   "outputs": [
    {
     "name": "stdout",
     "output_type": "stream",
     "text": [
      "0\n",
      "1\n",
      "4\n",
      "9\n",
      "16\n",
      "25\n",
      "36\n",
      "49\n",
      "64\n",
      "81\n",
      "100\n",
      "121\n"
     ]
    }
   ],
   "source": [
    "l1 = (i ** 2 for i in range(4))\n",
    "l2 = (i ** 2 for i in range(4, 8))\n",
    "l3 = (i ** 2 for i in range(8, 12))\n",
    "\n",
    "for gen in (l1, l2, l3):\n",
    "    for item in gen:\n",
    "        print(item)"
   ]
  },
  {
   "cell_type": "code",
   "execution_count": 2,
   "id": "d0829691-2fad-4e00-ac9b-31f832cadb7f",
   "metadata": {},
   "outputs": [],
   "source": [
    "def chain_iterables(*iterables):\n",
    "    for iterable in iterables:\n",
    "        yield from iterable"
   ]
  },
  {
   "cell_type": "code",
   "execution_count": 3,
   "id": "c14c66d9-589d-40b0-8685-a26a69fd9a20",
   "metadata": {},
   "outputs": [
    {
     "name": "stdout",
     "output_type": "stream",
     "text": [
      "0\n",
      "1\n",
      "4\n",
      "9\n",
      "16\n",
      "25\n",
      "36\n",
      "49\n",
      "64\n",
      "81\n",
      "100\n",
      "121\n"
     ]
    }
   ],
   "source": [
    "l1 = (i ** 2 for i in range(4))\n",
    "l2 = (i ** 2 for i in range(4, 8))\n",
    "l3 = (i ** 2 for i in range(8, 12))\n",
    "\n",
    "for item in chain_iterables(l1, l2, l3):\n",
    "    print(item)"
   ]
  },
  {
   "cell_type": "code",
   "execution_count": 4,
   "id": "be2f1a29-1ece-4ebd-a915-1374ba675aa6",
   "metadata": {},
   "outputs": [
    {
     "name": "stdout",
     "output_type": "stream",
     "text": [
      "0\n",
      "1\n",
      "4\n",
      "9\n",
      "16\n",
      "25\n",
      "36\n",
      "49\n",
      "64\n",
      "81\n",
      "100\n",
      "121\n"
     ]
    }
   ],
   "source": [
    "from itertools import chain\n",
    "\n",
    "l1 = (i ** 2 for i in range(4))\n",
    "l2 = (i ** 2 for i in range(4, 8))\n",
    "l3 = (i ** 2 for i in range(8, 12))\n",
    "\n",
    "for item in chain(l1, l2, l3):\n",
    "    print(item)"
   ]
  },
  {
   "cell_type": "code",
   "execution_count": 5,
   "id": "505ea274-ff22-48dd-b4d8-74cf61afadf1",
   "metadata": {},
   "outputs": [
    {
     "name": "stdout",
     "output_type": "stream",
     "text": [
      "<generator object <genexpr> at 0x1129a0a00>\n",
      "<generator object <genexpr> at 0x1129a06c0>\n",
      "<generator object <genexpr> at 0x1129a0520>\n"
     ]
    }
   ],
   "source": [
    "# do not do this!\n",
    "\n",
    "l1 = (i ** 2 for i in range(4))\n",
    "l2 = (i ** 2 for i in range(4, 8))\n",
    "l3 = (i ** 2 for i in range(8, 12))\n",
    "\n",
    "gen_list = [l1, l2, l3]\n",
    "for item in chain(gen_list):\n",
    "    print(item)\n"
   ]
  },
  {
   "cell_type": "code",
   "execution_count": 6,
   "id": "fb651db1-a1b2-4533-bc07-e8c7b40b4cf4",
   "metadata": {},
   "outputs": [
    {
     "name": "stdout",
     "output_type": "stream",
     "text": [
      "0\n",
      "1\n",
      "4\n",
      "9\n",
      "16\n",
      "25\n",
      "36\n",
      "49\n",
      "64\n",
      "81\n",
      "100\n",
      "121\n"
     ]
    }
   ],
   "source": [
    "# we can unpack, but unpacking is eager, not lazy\n",
    "l1 = (i ** 2 for i in range(4))\n",
    "l2 = (i ** 2 for i in range(4, 8))\n",
    "l3 = (i ** 2 for i in range(8, 12))\n",
    "\n",
    "gen_list = [l1, l2, l3]\n",
    "for item in chain(*gen_list):\n",
    "    print(item)"
   ]
  },
  {
   "cell_type": "code",
   "execution_count": 7,
   "id": "2ffb06e5-b982-470e-989c-2f9080f449ff",
   "metadata": {},
   "outputs": [],
   "source": [
    "def squares():\n",
    "    yield (i ** 2 for i in range(4))\n",
    "    print(\"end 1\")\n",
    "    \n",
    "    yield (i ** 2 for i in range(4, 8))\n",
    "    print(\"end 2\")\n",
    "    \n",
    "    yield (i ** 2 for i in range(8, 12))\n",
    "    print(\"end 3\")"
   ]
  },
  {
   "cell_type": "code",
   "execution_count": 8,
   "id": "c84a2d53-6697-4b92-aba0-2e558d6159d1",
   "metadata": {},
   "outputs": [
    {
     "name": "stdout",
     "output_type": "stream",
     "text": [
      "end 1\n",
      "end 2\n",
      "end 3\n",
      "0\n",
      "1\n",
      "4\n",
      "9\n",
      "16\n",
      "25\n",
      "36\n",
      "49\n",
      "64\n",
      "81\n",
      "100\n",
      "121\n"
     ]
    }
   ],
   "source": [
    "for item in chain(*squares()):  # unpacking is eager!\n",
    "    print(item)"
   ]
  },
  {
   "cell_type": "code",
   "execution_count": 9,
   "id": "4f1457b6-4217-4b43-8276-17a79b0a937f",
   "metadata": {},
   "outputs": [],
   "source": [
    "c = chain.from_iterable(squares())  # unapcks lazily"
   ]
  },
  {
   "cell_type": "code",
   "execution_count": 10,
   "id": "161785dc-7fd7-4b33-91bf-3c6ef11a0db6",
   "metadata": {},
   "outputs": [
    {
     "name": "stdout",
     "output_type": "stream",
     "text": [
      "0\n",
      "1\n",
      "4\n",
      "9\n",
      "end 1\n",
      "16\n",
      "25\n",
      "36\n",
      "49\n",
      "end 2\n",
      "64\n",
      "81\n",
      "100\n",
      "121\n",
      "end 3\n"
     ]
    }
   ],
   "source": [
    "for item in c:\n",
    "    print(item)"
   ]
  },
  {
   "cell_type": "code",
   "execution_count": 11,
   "id": "e24e240b-fa67-49c1-bd3d-47ecb08fd39a",
   "metadata": {},
   "outputs": [],
   "source": [
    "def squares():\n",
    "    yield (i ** 2 for i in range(4))\n",
    "    print(\"end 1\")\n",
    "    \n",
    "    yield (i ** 2 for i in range(4, 8))\n",
    "    print(\"end 2\")\n",
    "    \n",
    "    yield (i ** 2 for i in range(8, 12))\n",
    "    print(\"end 3\")\n",
    "\n",
    "def chain_from_iterable(iterable):\n",
    "    for item in iterable:\n",
    "        yield from item\n",
    "    "
   ]
  },
  {
   "cell_type": "code",
   "execution_count": 12,
   "id": "73d1650f-22ca-47cb-a1e1-81d0b046714e",
   "metadata": {},
   "outputs": [
    {
     "name": "stdout",
     "output_type": "stream",
     "text": [
      "0\n",
      "1\n",
      "4\n",
      "9\n",
      "end 1\n",
      "16\n",
      "25\n",
      "36\n",
      "49\n",
      "end 2\n",
      "64\n",
      "81\n",
      "100\n",
      "121\n",
      "end 3\n"
     ]
    }
   ],
   "source": [
    "for item in chain_from_iterable(squares()):\n",
    "    print(item)"
   ]
  },
  {
   "cell_type": "markdown",
   "id": "7662bf7d-01b7-4ae8-9790-2c25f7cd23e3",
   "metadata": {},
   "source": [
    "### tee -> create a copy of an iterator!"
   ]
  },
  {
   "cell_type": "code",
   "execution_count": 13,
   "id": "3b876aec-59c9-4b16-abf9-05d7c01f3c0b",
   "metadata": {},
   "outputs": [],
   "source": [
    "from itertools import tee"
   ]
  },
  {
   "cell_type": "code",
   "execution_count": 14,
   "id": "571f93bd-945f-47ae-b302-69c14136dd9d",
   "metadata": {},
   "outputs": [
    {
     "name": "stdout",
     "output_type": "stream",
     "text": [
      "Help on built-in function tee in module itertools:\n",
      "\n",
      "tee(iterable, n=2, /)\n",
      "    Returns a tuple of n independent iterators.\n",
      "\n"
     ]
    }
   ],
   "source": [
    "help(tee)"
   ]
  },
  {
   "cell_type": "code",
   "execution_count": 15,
   "id": "8fa5e69f-fdee-4e45-8b62-f33f8d96b2e6",
   "metadata": {},
   "outputs": [],
   "source": [
    "def squares(n):\n",
    "    for i in range(n):\n",
    "        yield i ** 2"
   ]
  },
  {
   "cell_type": "code",
   "execution_count": 16,
   "id": "befe1eb4-54a1-4905-ad09-c3b1f0854dac",
   "metadata": {},
   "outputs": [],
   "source": [
    "gen = squares(10)\n",
    "iters = tee(gen, 3)"
   ]
  },
  {
   "cell_type": "code",
   "execution_count": 17,
   "id": "4d23d571-8747-42ea-8b41-ed4675fade77",
   "metadata": {},
   "outputs": [
    {
     "data": {
      "text/plain": [
       "(<itertools._tee at 0x1129b2280>,\n",
       " <itertools._tee at 0x1129b2300>,\n",
       " <itertools._tee at 0x1129b23c0>)"
      ]
     },
     "execution_count": 17,
     "metadata": {},
     "output_type": "execute_result"
    }
   ],
   "source": [
    "iters  # 3 different copies of the iterator"
   ]
  },
  {
   "cell_type": "code",
   "execution_count": 18,
   "id": "b2955c8e-cc0c-480b-96e3-7f4f3bf6fd23",
   "metadata": {},
   "outputs": [],
   "source": [
    "iter1, iter2, iter3 = iters"
   ]
  },
  {
   "cell_type": "code",
   "execution_count": 19,
   "id": "1e5dcad3-a25c-429a-9505-28e007688799",
   "metadata": {},
   "outputs": [
    {
     "data": {
      "text/plain": [
       "(False, False, False)"
      ]
     },
     "execution_count": 19,
     "metadata": {},
     "output_type": "execute_result"
    }
   ],
   "source": [
    "iter1 is iter2, iter2 is iter3, iter1 is iter3"
   ]
  },
  {
   "cell_type": "code",
   "execution_count": 20,
   "id": "172315b1-f999-4d59-a77c-c57f67a24188",
   "metadata": {},
   "outputs": [
    {
     "data": {
      "text/plain": [
       "(0, 1, 4)"
      ]
     },
     "execution_count": 20,
     "metadata": {},
     "output_type": "execute_result"
    }
   ],
   "source": [
    "next(iter1), next(iter1), next(iter1)"
   ]
  },
  {
   "cell_type": "code",
   "execution_count": 21,
   "id": "a6c465ec-a391-4baa-b8a1-9f578ec77097",
   "metadata": {},
   "outputs": [
    {
     "data": {
      "text/plain": [
       "(0, 0)"
      ]
     },
     "execution_count": 21,
     "metadata": {},
     "output_type": "execute_result"
    }
   ],
   "source": [
    "next(iter2), next(iter3)"
   ]
  },
  {
   "cell_type": "code",
   "execution_count": 22,
   "id": "51f92a8c-59a8-4ed6-bcf7-89975579d051",
   "metadata": {},
   "outputs": [],
   "source": [
    "l = [1,2,3,4]\n",
    "lists = tee(l, 2)"
   ]
  },
  {
   "cell_type": "code",
   "execution_count": 23,
   "id": "5a468ecd-2e29-4f97-812d-9dc51bbcdf7d",
   "metadata": {},
   "outputs": [
    {
     "data": {
      "text/plain": [
       "(<itertools._tee at 0x1129c67c0>, <itertools._tee at 0x1129c6540>)"
      ]
     },
     "execution_count": 23,
     "metadata": {},
     "output_type": "execute_result"
    }
   ],
   "source": [
    "lists  # tee returns iterators"
   ]
  },
  {
   "cell_type": "code",
   "execution_count": 24,
   "id": "8af9b895-fb67-4cd3-9fcb-abda0acb243e",
   "metadata": {},
   "outputs": [
    {
     "data": {
      "text/plain": [
       "([1, 2, 3, 4], [1, 2, 3, 4])"
      ]
     },
     "execution_count": 24,
     "metadata": {},
     "output_type": "execute_result"
    }
   ],
   "source": [
    "list(lists[0]), list(lists[1])"
   ]
  },
  {
   "cell_type": "code",
   "execution_count": 25,
   "id": "305fa0a7-22a7-41e1-800d-c5a0637b9a28",
   "metadata": {},
   "outputs": [
    {
     "data": {
      "text/plain": [
       "([], [])"
      ]
     },
     "execution_count": 25,
     "metadata": {},
     "output_type": "execute_result"
    }
   ],
   "source": [
    "list(lists[0]), list(lists[1])  # iterators got consumed"
   ]
  },
  {
   "cell_type": "code",
   "execution_count": 26,
   "id": "01b6f0d4-0700-4ee4-a25d-f71d23e5fbc8",
   "metadata": {},
   "outputs": [
    {
     "data": {
      "text/plain": [
       "True"
      ]
     },
     "execution_count": 26,
     "metadata": {},
     "output_type": "execute_result"
    }
   ],
   "source": [
    "lists[0] is lists[0].__iter__()  # tee returns iterators"
   ]
  },
  {
   "cell_type": "code",
   "execution_count": null,
   "id": "750530b2-db3d-4caf-b6c8-ea7223504bab",
   "metadata": {},
   "outputs": [],
   "source": []
  }
 ],
 "metadata": {
  "kernelspec": {
   "display_name": "Python 3 (ipykernel)",
   "language": "python",
   "name": "python3"
  },
  "language_info": {
   "codemirror_mode": {
    "name": "ipython",
    "version": 3
   },
   "file_extension": ".py",
   "mimetype": "text/x-python",
   "name": "python",
   "nbconvert_exporter": "python",
   "pygments_lexer": "ipython3",
   "version": "3.12.3"
  }
 },
 "nbformat": 4,
 "nbformat_minor": 5
}
