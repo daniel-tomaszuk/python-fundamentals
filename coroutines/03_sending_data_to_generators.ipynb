{
 "cells": [
  {
   "cell_type": "markdown",
   "id": "30a527d0-18e6-4fb7-9587-639616963c59",
   "metadata": {},
   "source": [
    "### Sending to Generators\n",
    "Requires generator to be primed (in a suspended state) before sending data into it"
   ]
  },
  {
   "cell_type": "code",
   "execution_count": 1,
   "id": "8568c810-5dae-4a17-8945-6e63a991c88a",
   "metadata": {},
   "outputs": [],
   "source": [
    "from inspect import getgeneratorstate as gs\n",
    "\n",
    "\n",
    "def echo():\n",
    "    while True:\n",
    "        received = yield\n",
    "        print(f\"Echo: {received}\")"
   ]
  },
  {
   "cell_type": "code",
   "execution_count": 2,
   "id": "dd4bad46-51de-47fa-81c9-4295d237495f",
   "metadata": {},
   "outputs": [
    {
     "data": {
      "text/plain": [
       "'GEN_CREATED'"
      ]
     },
     "execution_count": 2,
     "metadata": {},
     "output_type": "execute_result"
    }
   ],
   "source": [
    "e = echo()\n",
    "gs(e)"
   ]
  },
  {
   "cell_type": "code",
   "execution_count": 3,
   "id": "901f39d7-d695-47f3-aeee-b22d9cdd434e",
   "metadata": {},
   "outputs": [
    {
     "name": "stdout",
     "output_type": "stream",
     "text": [
      "can't send non-None value to a just-started generator\n"
     ]
    }
   ],
   "source": [
    "try:\n",
    "    e.send(\"test\")  # generator hasn't run yet, it's not possible to send values into it\n",
    "except TypeError as exc:\n",
    "    print(exc)"
   ]
  },
  {
   "cell_type": "code",
   "execution_count": 4,
   "id": "0bd3963c-747c-4b31-9a17-15b9f8265c97",
   "metadata": {},
   "outputs": [
    {
     "data": {
      "text/plain": [
       "'GEN_CREATED'"
      ]
     },
     "execution_count": 4,
     "metadata": {},
     "output_type": "execute_result"
    }
   ],
   "source": [
    "gs(e)"
   ]
  },
  {
   "cell_type": "code",
   "execution_count": 5,
   "id": "ee6dae18-dd53-4df2-a6e0-c8475e7b3192",
   "metadata": {},
   "outputs": [],
   "source": [
    "next(e)"
   ]
  },
  {
   "cell_type": "code",
   "execution_count": 6,
   "id": "0f5c80cf-09a8-4697-a8ee-73fa848aef4e",
   "metadata": {},
   "outputs": [
    {
     "name": "stdout",
     "output_type": "stream",
     "text": [
      "Echo: Hi there!\n"
     ]
    }
   ],
   "source": [
    "e.send(\"Hi there!\")"
   ]
  },
  {
   "cell_type": "code",
   "execution_count": 7,
   "id": "7ef5a075-854e-4f32-995d-762e59a90d1b",
   "metadata": {},
   "outputs": [
    {
     "data": {
      "text/plain": [
       "'GEN_SUSPENDED'"
      ]
     },
     "execution_count": 7,
     "metadata": {},
     "output_type": "execute_result"
    }
   ],
   "source": [
    "gs(e)"
   ]
  },
  {
   "cell_type": "code",
   "execution_count": 8,
   "id": "d5c79937-e290-4df8-a53a-e065fb1eaa0a",
   "metadata": {},
   "outputs": [
    {
     "name": "stdout",
     "output_type": "stream",
     "text": [
      "Echo: Sending into generator!\n"
     ]
    }
   ],
   "source": [
    "e.send(\"Sending into generator!\")"
   ]
  },
  {
   "cell_type": "code",
   "execution_count": 9,
   "id": "4584b5dd-8bba-4968-af0b-bdfcecc09d68",
   "metadata": {},
   "outputs": [
    {
     "name": "stdout",
     "output_type": "stream",
     "text": [
      "Help on built-in function send:\n",
      "\n",
      "send(...) method of builtins.generator instance\n",
      "    send(arg) -> send 'arg' into generator,\n",
      "    return next yielded value or raise StopIteration.\n",
      "\n"
     ]
    }
   ],
   "source": [
    "help(e.send)"
   ]
  },
  {
   "cell_type": "code",
   "execution_count": 10,
   "id": "d82c9bf6-d11f-4b75-a3e1-3e214c6ca280",
   "metadata": {},
   "outputs": [],
   "source": [
    "def squares(n):\n",
    "    for i in range(n):\n",
    "        yield i ** 2"
   ]
  },
  {
   "cell_type": "code",
   "execution_count": 11,
   "id": "550eaa3b-1299-477a-8408-63a24e6289f7",
   "metadata": {},
   "outputs": [],
   "source": [
    "s = squares(10)"
   ]
  },
  {
   "cell_type": "code",
   "execution_count": 12,
   "id": "c7e975ed-12d8-4244-bfee-8d5e3aaa3e76",
   "metadata": {},
   "outputs": [
    {
     "data": {
      "text/plain": [
       "(0, 1, 4)"
      ]
     },
     "execution_count": 12,
     "metadata": {},
     "output_type": "execute_result"
    }
   ],
   "source": [
    "next(s), next(s), next(s)"
   ]
  },
  {
   "cell_type": "code",
   "execution_count": 13,
   "id": "83833935-26b0-4a1f-8f75-d31be52ca48c",
   "metadata": {},
   "outputs": [
    {
     "data": {
      "text/plain": [
       "9"
      ]
     },
     "execution_count": 13,
     "metadata": {},
     "output_type": "execute_result"
    }
   ],
   "source": [
    "s.send(11)  # send value doesn't have to be assigned to anything"
   ]
  },
  {
   "cell_type": "code",
   "execution_count": 14,
   "id": "3b99c698-668e-457e-b0e8-64ee7f6ae82c",
   "metadata": {},
   "outputs": [],
   "source": [
    "def echo():\n",
    "    while True:\n",
    "        received = yield\n",
    "        print(f\"Echo: {received}\")\n",
    "\n",
    "e = echo()"
   ]
  },
  {
   "cell_type": "code",
   "execution_count": 15,
   "id": "30a363e1-9173-40d4-a662-c959da4b43d2",
   "metadata": {},
   "outputs": [],
   "source": [
    "e.send(None)  # it's fine to send `None`!"
   ]
  },
  {
   "cell_type": "code",
   "execution_count": 16,
   "id": "86998694-06af-46c8-bc9c-a4c53cdee85a",
   "metadata": {},
   "outputs": [
    {
     "data": {
      "text/plain": [
       "'GEN_SUSPENDED'"
      ]
     },
     "execution_count": 16,
     "metadata": {},
     "output_type": "execute_result"
    }
   ],
   "source": [
    "gs(e)"
   ]
  },
  {
   "cell_type": "code",
   "execution_count": 17,
   "id": "6bbbb09b-9a99-4078-95fb-795b4f9ab140",
   "metadata": {},
   "outputs": [
    {
     "name": "stdout",
     "output_type": "stream",
     "text": [
      "Echo: real value\n"
     ]
    }
   ],
   "source": [
    "e.send(\"real value\")"
   ]
  },
  {
   "cell_type": "code",
   "execution_count": 18,
   "id": "a091d333-e9fb-446f-ab69-b7f5f6b9b9ed",
   "metadata": {},
   "outputs": [],
   "source": [
    "def squares(n):\n",
    "    for i in range(n):\n",
    "        received = yield i ** 2\n",
    "        print(\"Received\", received)"
   ]
  },
  {
   "cell_type": "code",
   "execution_count": 19,
   "id": "81d5ef37-354e-4836-9024-ef0df986642b",
   "metadata": {},
   "outputs": [],
   "source": [
    "s = squares(5)"
   ]
  },
  {
   "cell_type": "code",
   "execution_count": 20,
   "id": "1b5fae7b-c423-4eff-9e3a-22e4a93a6442",
   "metadata": {},
   "outputs": [
    {
     "data": {
      "text/plain": [
       "0"
      ]
     },
     "execution_count": 20,
     "metadata": {},
     "output_type": "execute_result"
    }
   ],
   "source": [
    "next(s)"
   ]
  },
  {
   "cell_type": "code",
   "execution_count": 21,
   "id": "2cbf91a0-1fde-4ce5-938f-b8510c2b39e7",
   "metadata": {},
   "outputs": [
    {
     "name": "stdout",
     "output_type": "stream",
     "text": [
      "Received 11\n"
     ]
    },
    {
     "data": {
      "text/plain": [
       "1"
      ]
     },
     "execution_count": 21,
     "metadata": {},
     "output_type": "execute_result"
    }
   ],
   "source": [
    "s.send(11)"
   ]
  },
  {
   "cell_type": "code",
   "execution_count": 22,
   "id": "53667bcf-aa22-4539-8827-f1defd84f690",
   "metadata": {},
   "outputs": [
    {
     "name": "stdout",
     "output_type": "stream",
     "text": [
      "Received 12\n"
     ]
    },
    {
     "data": {
      "text/plain": [
       "4"
      ]
     },
     "execution_count": 22,
     "metadata": {},
     "output_type": "execute_result"
    }
   ],
   "source": [
    "s.send(12)"
   ]
  },
  {
   "cell_type": "code",
   "execution_count": 23,
   "id": "b4a8fba3-1689-4cbb-a741-8fc30087d214",
   "metadata": {},
   "outputs": [
    {
     "name": "stdout",
     "output_type": "stream",
     "text": [
      "Received None\n"
     ]
    },
    {
     "data": {
      "text/plain": [
       "9"
      ]
     },
     "execution_count": 23,
     "metadata": {},
     "output_type": "execute_result"
    }
   ],
   "source": [
    "s.send(None)"
   ]
  },
  {
   "cell_type": "code",
   "execution_count": 24,
   "id": "d25b44ed-fb43-4037-9567-ad729f32f71b",
   "metadata": {},
   "outputs": [
    {
     "name": "stdout",
     "output_type": "stream",
     "text": [
      "Received test\n"
     ]
    },
    {
     "data": {
      "text/plain": [
       "16"
      ]
     },
     "execution_count": 24,
     "metadata": {},
     "output_type": "execute_result"
    }
   ],
   "source": [
    "s.send(\"test\")"
   ]
  },
  {
   "cell_type": "code",
   "execution_count": 25,
   "id": "31ade7d9-50c3-4f6c-a908-cc5e602c0333",
   "metadata": {},
   "outputs": [
    {
     "name": "stdout",
     "output_type": "stream",
     "text": [
      "Received 12345\n",
      "Stop Iteration exception!\n",
      "\n"
     ]
    }
   ],
   "source": [
    "try:\n",
    "    s.send(\"12345\")\n",
    "except StopIteration as e:\n",
    "    print(\"Stop Iteration exception!\")\n",
    "    print(e)"
   ]
  },
  {
   "cell_type": "code",
   "execution_count": 26,
   "id": "1984e74f-a423-4a94-856e-23fd9f150cce",
   "metadata": {},
   "outputs": [],
   "source": [
    "def echo(max_times):\n",
    "    for _ in range(max_times):\n",
    "        received = yield\n",
    "        print(\"Echo:\", received)\n",
    "    print(\"max times reached\")\n"
   ]
  },
  {
   "cell_type": "code",
   "execution_count": 27,
   "id": "5f8a8044-f9a9-4d6f-9699-4cba15c1baca",
   "metadata": {},
   "outputs": [],
   "source": [
    "e = echo(3)"
   ]
  },
  {
   "cell_type": "code",
   "execution_count": 28,
   "id": "c1dc9531-5d97-402c-813f-629bf57b6098",
   "metadata": {},
   "outputs": [],
   "source": [
    "next(e)"
   ]
  },
  {
   "cell_type": "code",
   "execution_count": 29,
   "id": "e8232c57-d00c-4a89-9d9c-2459ea331b08",
   "metadata": {},
   "outputs": [
    {
     "name": "stdout",
     "output_type": "stream",
     "text": [
      "Echo: 1\n"
     ]
    }
   ],
   "source": [
    "e.send(1)"
   ]
  },
  {
   "cell_type": "code",
   "execution_count": 30,
   "id": "4a351dca-34a7-4a88-9e8f-b79d4b6fb4ca",
   "metadata": {},
   "outputs": [
    {
     "name": "stdout",
     "output_type": "stream",
     "text": [
      "Echo: 2\n"
     ]
    }
   ],
   "source": [
    "e.send(2)"
   ]
  },
  {
   "cell_type": "code",
   "execution_count": 31,
   "id": "6eedb0d1-52c7-4a57-8fab-85db871826ff",
   "metadata": {},
   "outputs": [
    {
     "name": "stdout",
     "output_type": "stream",
     "text": [
      "Echo: 3\n",
      "max times reached\n",
      "\n"
     ]
    }
   ],
   "source": [
    "try:\n",
    "    e.send(3)\n",
    "except StopIteration as exc:\n",
    "    print(exc)"
   ]
  },
  {
   "cell_type": "code",
   "execution_count": 32,
   "id": "91b49f37-aa7d-4051-8ae4-0ecdf456bc19",
   "metadata": {},
   "outputs": [],
   "source": [
    "def averager():\n",
    "    total = 0\n",
    "    count = 0\n",
    "    def inner(value):\n",
    "        nonlocal total, count\n",
    "        total += value\n",
    "        count += 1\n",
    "        return total / count\n",
    "    return inner\n"
   ]
  },
  {
   "cell_type": "code",
   "execution_count": 33,
   "id": "732e63e7-c966-45e8-bf48-b27841e6dca9",
   "metadata": {},
   "outputs": [],
   "source": [
    "def running_averages(iterable):\n",
    "    avg = averager()\n",
    "    for value in iterable:\n",
    "        running_avg = avg(value)\n",
    "        print(running_avg)\n"
   ]
  },
  {
   "cell_type": "code",
   "execution_count": 34,
   "id": "64541f64-e6c6-4e57-aed4-146297718cc2",
   "metadata": {},
   "outputs": [
    {
     "name": "stdout",
     "output_type": "stream",
     "text": [
      "1.0\n",
      "1.5\n",
      "2.0\n",
      "2.5\n",
      "3.0\n"
     ]
    }
   ],
   "source": [
    "running_averages([1,2,3,4,5])"
   ]
  },
  {
   "cell_type": "code",
   "execution_count": 35,
   "id": "4151f1af-2c08-4208-bd86-3f8f596183f6",
   "metadata": {},
   "outputs": [],
   "source": [
    "def running_averager():\n",
    "    total = 0\n",
    "    count = 0\n",
    "    running_avg = None\n",
    "    while True:\n",
    "        value = yield running_avg\n",
    "        count += 1\n",
    "        total += value\n",
    "        running_avg = total / count"
   ]
  },
  {
   "cell_type": "code",
   "execution_count": 36,
   "id": "4e9f6df6-309f-402b-a6fa-ffcde189a44d",
   "metadata": {},
   "outputs": [],
   "source": [
    "ra = running_averager()\n",
    "next(ra)"
   ]
  },
  {
   "cell_type": "code",
   "execution_count": 37,
   "id": "9d1ae94d-7bdb-4ef2-996a-591cdc9d0129",
   "metadata": {},
   "outputs": [
    {
     "data": {
      "text/plain": [
       "10.0"
      ]
     },
     "execution_count": 37,
     "metadata": {},
     "output_type": "execute_result"
    }
   ],
   "source": [
    "ra.send(10)"
   ]
  },
  {
   "cell_type": "code",
   "execution_count": 38,
   "id": "1960eb1f-667b-4454-9e7d-2d77fdedc600",
   "metadata": {},
   "outputs": [
    {
     "data": {
      "text/plain": [
       "6.0"
      ]
     },
     "execution_count": 38,
     "metadata": {},
     "output_type": "execute_result"
    }
   ],
   "source": [
    "ra.send(2)"
   ]
  },
  {
   "cell_type": "code",
   "execution_count": 39,
   "id": "e056f9b2-42c6-4de3-98af-da32abc14a22",
   "metadata": {},
   "outputs": [
    {
     "data": {
      "text/plain": [
       "15.0"
      ]
     },
     "execution_count": 39,
     "metadata": {},
     "output_type": "execute_result"
    }
   ],
   "source": [
    "ra.send(33)"
   ]
  },
  {
   "cell_type": "code",
   "execution_count": 40,
   "id": "50cd62b6-cb3d-41a0-be97-a34dd6a5b8c0",
   "metadata": {},
   "outputs": [
    {
     "data": {
      "text/plain": [
       "10.75"
      ]
     },
     "execution_count": 40,
     "metadata": {},
     "output_type": "execute_result"
    }
   ],
   "source": [
    "ra.send(-2)"
   ]
  },
  {
   "cell_type": "code",
   "execution_count": 41,
   "id": "cf049726-a2af-44f9-a5fc-562acc3823e4",
   "metadata": {},
   "outputs": [],
   "source": [
    "def running_averages(iterable):\n",
    "    averager = running_averager()\n",
    "    next(averager)\n",
    "    for v in iterable:\n",
    "        running_average = averager.send(v)\n",
    "        print(running_average)\n",
    "        "
   ]
  },
  {
   "cell_type": "code",
   "execution_count": 42,
   "id": "705f1399-f9a0-4cfb-9539-fa882b58818e",
   "metadata": {},
   "outputs": [
    {
     "name": "stdout",
     "output_type": "stream",
     "text": [
      "1.0\n",
      "1.5\n",
      "2.0\n",
      "2.5\n",
      "3.0\n",
      "3.5\n",
      "4.0\n",
      "4.5\n",
      "5.0\n"
     ]
    }
   ],
   "source": [
    "running_averages([1,2,3,4,5,6,7,8,9])"
   ]
  },
  {
   "cell_type": "code",
   "execution_count": null,
   "id": "848a5158-2f95-45c2-bf3e-d223abec8635",
   "metadata": {},
   "outputs": [],
   "source": []
  }
 ],
 "metadata": {
  "kernelspec": {
   "display_name": "Python 3 (ipykernel)",
   "language": "python",
   "name": "python3"
  },
  "language_info": {
   "codemirror_mode": {
    "name": "ipython",
    "version": 3
   },
   "file_extension": ".py",
   "mimetype": "text/x-python",
   "name": "python",
   "nbconvert_exporter": "python",
   "pygments_lexer": "ipython3",
   "version": "3.12.3"
  }
 },
 "nbformat": 4,
 "nbformat_minor": 5
}
