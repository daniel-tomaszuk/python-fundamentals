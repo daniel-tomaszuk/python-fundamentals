{
 "cells": [
  {
   "cell_type": "markdown",
   "id": "bd1d2187-667a-4ab9-878d-8c6d4f991f5e",
   "metadata": {},
   "source": [
    "### Generator states\n",
    "CREATED, RUNNING, SUSPENDED, CLOSED"
   ]
  },
  {
   "cell_type": "code",
   "execution_count": 1,
   "id": "89d8c048-0129-4fa2-ac45-a958729a0f1f",
   "metadata": {},
   "outputs": [
    {
     "name": "stdout",
     "output_type": "stream",
     "text": [
      "Help on function getgeneratorstate in module inspect:\n",
      "\n",
      "getgeneratorstate(generator)\n",
      "    Get current state of a generator-iterator.\n",
      "\n",
      "    Possible states are:\n",
      "      GEN_CREATED: Waiting to start execution.\n",
      "      GEN_RUNNING: Currently being executed by the interpreter.\n",
      "      GEN_SUSPENDED: Currently suspended at a yield expression.\n",
      "      GEN_CLOSED: Execution has completed.\n",
      "\n"
     ]
    }
   ],
   "source": [
    "import inspect\n",
    "\n",
    "help(inspect.getgeneratorstate)"
   ]
  },
  {
   "cell_type": "code",
   "execution_count": 2,
   "id": "fb286820-cebc-459a-8256-f521bb9276d0",
   "metadata": {},
   "outputs": [],
   "source": [
    "def gen(s):\n",
    "    for c in s:\n",
    "        yield c\n"
   ]
  },
  {
   "cell_type": "code",
   "execution_count": 3,
   "id": "9684bdab-505d-42eb-b46d-603c2eedf47e",
   "metadata": {},
   "outputs": [
    {
     "data": {
      "text/plain": [
       "'GEN_CREATED'"
      ]
     },
     "execution_count": 3,
     "metadata": {},
     "output_type": "execute_result"
    }
   ],
   "source": [
    "g = gen(\"abc\")\n",
    "\n",
    "inspect.getgeneratorstate(g)"
   ]
  },
  {
   "cell_type": "code",
   "execution_count": 4,
   "id": "0f407c8f-f94f-4e59-a508-09e19f240f61",
   "metadata": {},
   "outputs": [
    {
     "data": {
      "text/plain": [
       "'a'"
      ]
     },
     "execution_count": 4,
     "metadata": {},
     "output_type": "execute_result"
    }
   ],
   "source": [
    "next(g)"
   ]
  },
  {
   "cell_type": "code",
   "execution_count": 5,
   "id": "79fc4724-69da-4a48-8974-996c47542d8d",
   "metadata": {},
   "outputs": [
    {
     "data": {
      "text/plain": [
       "'GEN_SUSPENDED'"
      ]
     },
     "execution_count": 5,
     "metadata": {},
     "output_type": "execute_result"
    }
   ],
   "source": [
    "inspect.getgeneratorstate(g)"
   ]
  },
  {
   "cell_type": "code",
   "execution_count": 6,
   "id": "95aa95ab-58c3-45ad-b196-92d6e27fcf1b",
   "metadata": {},
   "outputs": [
    {
     "data": {
      "text/plain": [
       "'b'"
      ]
     },
     "execution_count": 6,
     "metadata": {},
     "output_type": "execute_result"
    }
   ],
   "source": [
    "next(g)"
   ]
  },
  {
   "cell_type": "code",
   "execution_count": 7,
   "id": "083eb367-978c-439c-8fa7-f38f94c3a5a2",
   "metadata": {},
   "outputs": [
    {
     "data": {
      "text/plain": [
       "'GEN_SUSPENDED'"
      ]
     },
     "execution_count": 7,
     "metadata": {},
     "output_type": "execute_result"
    }
   ],
   "source": [
    "inspect.getgeneratorstate(g)"
   ]
  },
  {
   "cell_type": "code",
   "execution_count": 8,
   "id": "ef59aded-86de-4335-a9cb-6a300ca69672",
   "metadata": {},
   "outputs": [
    {
     "data": {
      "text/plain": [
       "'c'"
      ]
     },
     "execution_count": 8,
     "metadata": {},
     "output_type": "execute_result"
    }
   ],
   "source": [
    "next(g)"
   ]
  },
  {
   "cell_type": "code",
   "execution_count": 9,
   "id": "3ee29a06-8c5f-43f4-a83c-cd1e4380fd3c",
   "metadata": {},
   "outputs": [
    {
     "data": {
      "text/plain": [
       "[]"
      ]
     },
     "execution_count": 9,
     "metadata": {},
     "output_type": "execute_result"
    }
   ],
   "source": [
    "list(g)"
   ]
  },
  {
   "cell_type": "code",
   "execution_count": 10,
   "id": "e3bd518e-ef92-4f68-aadc-b7a34f63e4ac",
   "metadata": {},
   "outputs": [
    {
     "data": {
      "text/plain": [
       "'GEN_CLOSED'"
      ]
     },
     "execution_count": 10,
     "metadata": {},
     "output_type": "execute_result"
    }
   ],
   "source": [
    "inspect.getgeneratorstate(g)"
   ]
  },
  {
   "cell_type": "code",
   "execution_count": 11,
   "id": "58c003cd-ce96-4ad5-8c75-7728f94a0d7b",
   "metadata": {},
   "outputs": [],
   "source": [
    "def gen(s):\n",
    "    for c in s:\n",
    "        print(inspect.getgeneratorstate(global_gen))\n",
    "        yield c\n",
    "\n",
    "global_gen = gen(\"abc\")"
   ]
  },
  {
   "cell_type": "code",
   "execution_count": 12,
   "id": "94de3ee2-9199-426a-b79d-dc11ef472dee",
   "metadata": {},
   "outputs": [
    {
     "name": "stdout",
     "output_type": "stream",
     "text": [
      "GEN_RUNNING\n"
     ]
    },
    {
     "data": {
      "text/plain": [
       "'a'"
      ]
     },
     "execution_count": 12,
     "metadata": {},
     "output_type": "execute_result"
    }
   ],
   "source": [
    "next(global_gen)"
   ]
  },
  {
   "cell_type": "code",
   "execution_count": 13,
   "id": "1ea5e262-fcdd-4020-acee-25f59740923c",
   "metadata": {},
   "outputs": [
    {
     "name": "stdout",
     "output_type": "stream",
     "text": [
      "GEN_RUNNING\n",
      "GEN_RUNNING\n"
     ]
    },
    {
     "data": {
      "text/plain": [
       "['b', 'c']"
      ]
     },
     "execution_count": 13,
     "metadata": {},
     "output_type": "execute_result"
    }
   ],
   "source": [
    "list(global_gen)"
   ]
  },
  {
   "cell_type": "code",
   "execution_count": null,
   "id": "ca92db26-3c16-41c6-b014-e1efcbc1e4ba",
   "metadata": {},
   "outputs": [],
   "source": []
  }
 ],
 "metadata": {
  "kernelspec": {
   "display_name": "Python 3 (ipykernel)",
   "language": "python",
   "name": "python3"
  },
  "language_info": {
   "codemirror_mode": {
    "name": "ipython",
    "version": 3
   },
   "file_extension": ".py",
   "mimetype": "text/x-python",
   "name": "python",
   "nbconvert_exporter": "python",
   "pygments_lexer": "ipython3",
   "version": "3.12.3"
  }
 },
 "nbformat": 4,
 "nbformat_minor": 5
}
