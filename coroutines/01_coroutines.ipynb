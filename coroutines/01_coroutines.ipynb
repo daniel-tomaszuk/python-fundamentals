{
 "cells": [
  {
   "cell_type": "code",
   "execution_count": 1,
   "id": "29d146da-0e04-4732-8277-a188d0fb33aa",
   "metadata": {},
   "outputs": [],
   "source": [
    "from collections import deque\n",
    "\n",
    "\n",
    "dq = deque([1,2,3,4,5,6,7])"
   ]
  },
  {
   "cell_type": "code",
   "execution_count": 2,
   "id": "d861d81c-5a5f-475a-9e94-633297e4aa34",
   "metadata": {},
   "outputs": [
    {
     "data": {
      "text/plain": [
       "deque([1, 2, 3, 4, 5, 6, 7])"
      ]
     },
     "execution_count": 2,
     "metadata": {},
     "output_type": "execute_result"
    }
   ],
   "source": [
    "dq"
   ]
  },
  {
   "cell_type": "code",
   "execution_count": 3,
   "id": "3b333336-a742-4488-8083-54eaef90c68c",
   "metadata": {},
   "outputs": [
    {
     "data": {
      "text/plain": [
       "['__add__',\n",
       " '__class__',\n",
       " '__class_getitem__',\n",
       " '__contains__',\n",
       " '__copy__',\n",
       " '__delattr__',\n",
       " '__delitem__',\n",
       " '__dir__',\n",
       " '__doc__',\n",
       " '__eq__',\n",
       " '__format__',\n",
       " '__ge__',\n",
       " '__getattribute__',\n",
       " '__getitem__',\n",
       " '__getstate__',\n",
       " '__gt__',\n",
       " '__hash__',\n",
       " '__iadd__',\n",
       " '__imul__',\n",
       " '__init__',\n",
       " '__init_subclass__',\n",
       " '__iter__',\n",
       " '__le__',\n",
       " '__len__',\n",
       " '__lt__',\n",
       " '__module__',\n",
       " '__mul__',\n",
       " '__ne__',\n",
       " '__new__',\n",
       " '__reduce__',\n",
       " '__reduce_ex__',\n",
       " '__repr__',\n",
       " '__reversed__',\n",
       " '__rmul__',\n",
       " '__setattr__',\n",
       " '__setitem__',\n",
       " '__sizeof__',\n",
       " '__str__',\n",
       " '__subclasshook__',\n",
       " 'append',\n",
       " 'appendleft',\n",
       " 'clear',\n",
       " 'copy',\n",
       " 'count',\n",
       " 'extend',\n",
       " 'extendleft',\n",
       " 'index',\n",
       " 'insert',\n",
       " 'maxlen',\n",
       " 'pop',\n",
       " 'popleft',\n",
       " 'remove',\n",
       " 'reverse',\n",
       " 'rotate']"
      ]
     },
     "execution_count": 3,
     "metadata": {},
     "output_type": "execute_result"
    }
   ],
   "source": [
    "dir(dq)"
   ]
  },
  {
   "cell_type": "code",
   "execution_count": 4,
   "id": "f8ccf19a-1d8e-4ea9-bdcc-d6a0e984584f",
   "metadata": {},
   "outputs": [],
   "source": [
    "dq.append(100)"
   ]
  },
  {
   "cell_type": "code",
   "execution_count": 5,
   "id": "9a77bc2a-5031-4138-b542-dd36265207d8",
   "metadata": {},
   "outputs": [
    {
     "data": {
      "text/plain": [
       "deque([1, 2, 3, 4, 5, 6, 7, 100])"
      ]
     },
     "execution_count": 5,
     "metadata": {},
     "output_type": "execute_result"
    }
   ],
   "source": [
    "dq"
   ]
  },
  {
   "cell_type": "code",
   "execution_count": 6,
   "id": "90c2cda5-5462-4a02-90b5-592769b8cdb2",
   "metadata": {},
   "outputs": [],
   "source": [
    "dq.appendleft(-100)"
   ]
  },
  {
   "cell_type": "code",
   "execution_count": 7,
   "id": "435068a2-632e-4706-8889-fb2bb619f8d6",
   "metadata": {},
   "outputs": [
    {
     "data": {
      "text/plain": [
       "deque([-100, 1, 2, 3, 4, 5, 6, 7, 100])"
      ]
     },
     "execution_count": 7,
     "metadata": {},
     "output_type": "execute_result"
    }
   ],
   "source": [
    "dq"
   ]
  },
  {
   "cell_type": "code",
   "execution_count": 8,
   "id": "2fe3e395-b9f0-42d5-8d0a-cc1c381b90b6",
   "metadata": {},
   "outputs": [
    {
     "data": {
      "text/plain": [
       "100"
      ]
     },
     "execution_count": 8,
     "metadata": {},
     "output_type": "execute_result"
    }
   ],
   "source": [
    "dq.pop()"
   ]
  },
  {
   "cell_type": "code",
   "execution_count": 9,
   "id": "38909b07-2759-4703-bd0f-6ff1ba9f637f",
   "metadata": {},
   "outputs": [
    {
     "data": {
      "text/plain": [
       "-100"
      ]
     },
     "execution_count": 9,
     "metadata": {},
     "output_type": "execute_result"
    }
   ],
   "source": [
    "dq.popleft()"
   ]
  },
  {
   "cell_type": "code",
   "execution_count": 10,
   "id": "49047e37-762e-4644-ab1e-cd653f6cf884",
   "metadata": {},
   "outputs": [
    {
     "data": {
      "text/plain": [
       "7"
      ]
     },
     "execution_count": 10,
     "metadata": {},
     "output_type": "execute_result"
    }
   ],
   "source": [
    "len(dq)"
   ]
  },
  {
   "cell_type": "code",
   "execution_count": 11,
   "id": "33c07d41-0324-4986-a3d8-052edbbce86b",
   "metadata": {},
   "outputs": [],
   "source": [
    "dq.maxlen"
   ]
  },
  {
   "cell_type": "code",
   "execution_count": 12,
   "id": "c55dd345-efc4-49c0-a2e5-3f300cb03385",
   "metadata": {},
   "outputs": [
    {
     "data": {
      "text/plain": [
       "5"
      ]
     },
     "execution_count": 12,
     "metadata": {},
     "output_type": "execute_result"
    }
   ],
   "source": [
    "dq = deque([1,2,3,4], maxlen=5)\n",
    "dq.maxlen"
   ]
  },
  {
   "cell_type": "code",
   "execution_count": 13,
   "id": "0c4b8bb4-3079-40e5-ab42-f1b5619aa8ed",
   "metadata": {},
   "outputs": [],
   "source": [
    "dq.append(10)"
   ]
  },
  {
   "cell_type": "code",
   "execution_count": 14,
   "id": "433ae85d-c788-476e-bbad-edd04672ba41",
   "metadata": {},
   "outputs": [],
   "source": [
    "dq.append(100)  # first element got removed"
   ]
  },
  {
   "cell_type": "code",
   "execution_count": 15,
   "id": "236d7338-5666-4a71-b377-ec59e56a1f0c",
   "metadata": {},
   "outputs": [
    {
     "data": {
      "text/plain": [
       "deque([2, 3, 4, 10, 100], maxlen=5)"
      ]
     },
     "execution_count": 15,
     "metadata": {},
     "output_type": "execute_result"
    }
   ],
   "source": [
    "dq"
   ]
  },
  {
   "cell_type": "code",
   "execution_count": 16,
   "id": "6881b5b3-6b6c-418e-90ad-e805c3cbd31a",
   "metadata": {},
   "outputs": [],
   "source": [
    "dq.appendleft(-100)  # last element got removed"
   ]
  },
  {
   "cell_type": "code",
   "execution_count": 17,
   "id": "2187c498-8273-4e92-ac4b-ea198139a150",
   "metadata": {},
   "outputs": [
    {
     "data": {
      "text/plain": [
       "deque([-100, 2, 3, 4, 10], maxlen=5)"
      ]
     },
     "execution_count": 17,
     "metadata": {},
     "output_type": "execute_result"
    }
   ],
   "source": [
    "dq"
   ]
  },
  {
   "cell_type": "markdown",
   "id": "7dc7e44f-2d22-4bf8-86f6-afd330211f18",
   "metadata": {},
   "source": [
    "#### Producer / Consumer pattern"
   ]
  },
  {
   "cell_type": "code",
   "execution_count": 18,
   "id": "6c984e13-57b5-467d-a803-b81df15bf41d",
   "metadata": {},
   "outputs": [],
   "source": [
    "def produce_elements(dq):\n",
    "    for i in range(1, 11):\n",
    "        dq.appendleft(i)\n",
    "\n",
    "\n",
    "def consume_elements(dq):\n",
    "    while len(dq):\n",
    "        item = dq.pop()\n",
    "        print(\"consuming the item\", item)\n",
    "        "
   ]
  },
  {
   "cell_type": "code",
   "execution_count": 19,
   "id": "1f4e301b-a4c8-41c5-9aa8-0862dd73c2b0",
   "metadata": {},
   "outputs": [],
   "source": [
    "def coordinator():\n",
    "    dq = deque()\n",
    "    produce_elements(dq)\n",
    "    consume_elements(dq)"
   ]
  },
  {
   "cell_type": "code",
   "execution_count": 20,
   "id": "34ad568d-09ad-48d3-b252-0508b7eff084",
   "metadata": {},
   "outputs": [
    {
     "name": "stdout",
     "output_type": "stream",
     "text": [
      "consuming the item 1\n",
      "consuming the item 2\n",
      "consuming the item 3\n",
      "consuming the item 4\n",
      "consuming the item 5\n",
      "consuming the item 6\n",
      "consuming the item 7\n",
      "consuming the item 8\n",
      "consuming the item 9\n",
      "consuming the item 10\n"
     ]
    }
   ],
   "source": [
    "coordinator()"
   ]
  },
  {
   "cell_type": "code",
   "execution_count": 21,
   "id": "595bcf88-ccab-4a83-b19e-62e9e3a09085",
   "metadata": {},
   "outputs": [],
   "source": [
    "# we don't want to wait untill stream of data ends, maybe stream is infinite?\n",
    "# we can use generators to process data in batches"
   ]
  },
  {
   "cell_type": "code",
   "execution_count": 22,
   "id": "61dc93d9-298d-48c0-9dbb-78624a7765be",
   "metadata": {},
   "outputs": [],
   "source": [
    "def produce_elements(dq, n):\n",
    "    for i in range(1, n):\n",
    "        dq.appendleft(i)  # FIFO queue\n",
    "        if len(dq) == dq.maxlen:\n",
    "            print(f\"queue is full, producing pausing on {i}, yielding control\")\n",
    "            yield\n",
    "\n",
    "\n",
    "def consume_elements(dq):\n",
    "    while True:\n",
    "        while len(dq) > 0:\n",
    "            print(\"consuming \", dq.pop())\n",
    "        print(\"consumed all available elements, yielding control\")\n",
    "        yield\n",
    "\n",
    "\n",
    "def coordinator():\n",
    "    dq = deque(maxlen=10)\n",
    "    producer = produce_elements(dq, 36)\n",
    "    consumer = consume_elements(dq)\n",
    "\n",
    "    while True:  # wait untill producer raises StopIteration\n",
    "        try:\n",
    "            print(\"producing...\")\n",
    "            next(producer)\n",
    "        except StopIteration:\n",
    "            # producer has no more data\n",
    "            print(\"BREAK\")\n",
    "            break\n",
    "        finally:\n",
    "            # even in break occured, we need to check the queue\n",
    "            next(consumer)\n"
   ]
  },
  {
   "cell_type": "code",
   "execution_count": 23,
   "id": "f60a84f7-4610-4d7c-bf5d-e714837b70d1",
   "metadata": {},
   "outputs": [
    {
     "name": "stdout",
     "output_type": "stream",
     "text": [
      "producing...\n",
      "queue is full, producing pausing on 10, yielding control\n",
      "consuming  1\n",
      "consuming  2\n",
      "consuming  3\n",
      "consuming  4\n",
      "consuming  5\n",
      "consuming  6\n",
      "consuming  7\n",
      "consuming  8\n",
      "consuming  9\n",
      "consuming  10\n",
      "consumed all available elements, yielding control\n",
      "producing...\n",
      "queue is full, producing pausing on 20, yielding control\n",
      "consuming  11\n",
      "consuming  12\n",
      "consuming  13\n",
      "consuming  14\n",
      "consuming  15\n",
      "consuming  16\n",
      "consuming  17\n",
      "consuming  18\n",
      "consuming  19\n",
      "consuming  20\n",
      "consumed all available elements, yielding control\n",
      "producing...\n",
      "queue is full, producing pausing on 30, yielding control\n",
      "consuming  21\n",
      "consuming  22\n",
      "consuming  23\n",
      "consuming  24\n",
      "consuming  25\n",
      "consuming  26\n",
      "consuming  27\n",
      "consuming  28\n",
      "consuming  29\n",
      "consuming  30\n",
      "consumed all available elements, yielding control\n",
      "producing...\n",
      "BREAK\n",
      "consuming  31\n",
      "consuming  32\n",
      "consuming  33\n",
      "consuming  34\n",
      "consuming  35\n",
      "consumed all available elements, yielding control\n"
     ]
    }
   ],
   "source": [
    "coordinator()"
   ]
  },
  {
   "cell_type": "code",
   "execution_count": null,
   "id": "053ada3a-343f-46f1-b510-010b388dba6f",
   "metadata": {},
   "outputs": [],
   "source": []
  }
 ],
 "metadata": {
  "kernelspec": {
   "display_name": "Python 3 (ipykernel)",
   "language": "python",
   "name": "python3"
  },
  "language_info": {
   "codemirror_mode": {
    "name": "ipython",
    "version": 3
   },
   "file_extension": ".py",
   "mimetype": "text/x-python",
   "name": "python",
   "nbconvert_exporter": "python",
   "pygments_lexer": "ipython3",
   "version": "3.12.3"
  }
 },
 "nbformat": 4,
 "nbformat_minor": 5
}
