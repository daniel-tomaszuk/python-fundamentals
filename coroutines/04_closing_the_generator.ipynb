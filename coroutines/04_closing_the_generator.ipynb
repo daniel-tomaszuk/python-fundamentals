{
 "cells": [
  {
   "cell_type": "code",
   "execution_count": 1,
   "id": "6e82951c-c171-43c3-bd26-e2957f7a8fa0",
   "metadata": {},
   "outputs": [],
   "source": [
    "import itertools\n",
    "import csv\n",
    "from inspect import getgeneratorstate as gs\n",
    "\n",
    "\n",
    "def parse_file(f_name):\n",
    "    print(\"opening file\")\n",
    "    f = open(f_name)\n",
    "    try:\n",
    "        dialect = csv.Sniffer().sniff(f.read(500))\n",
    "        f.seek(0)\n",
    "        reader = csv.reader(f, dialect=dialect)\n",
    "        for row in reader:\n",
    "            yield row\n",
    "    finally:\n",
    "        print(\"closing file\")\n",
    "        f.close()\n"
   ]
  },
  {
   "cell_type": "code",
   "execution_count": 2,
   "id": "e6bb8a00-c0ea-456f-9c33-85781ba3e57e",
   "metadata": {},
   "outputs": [
    {
     "name": "stdout",
     "output_type": "stream",
     "text": [
      "opening file\n",
      "['Car', 'MPG', 'Cylinders', 'Displacement', 'Horsepower', 'Weight', 'Acceleration', 'Model', 'Origin']\n",
      "['Chevrolet Chevelle Malibu', '18.0', '8', '307.0', '130.0', '3504.', '12.0', '70', 'US']\n",
      "['Buick Skylark 320', '15.0', '8', '350.0', '165.0', '3693.', '11.5', '70', 'US']\n",
      "['Plymouth Satellite', '18.0', '8', '318.0', '150.0', '3436.', '11.0', '70', 'US']\n",
      "['AMC Rebel SST', '16.0', '8', '304.0', '150.0', '3433.', '12.0', '70', 'US']\n",
      "['Ford Torino', '17.0', '8', '302.0', '140.0', '3449.', '10.5', '70', 'US']\n",
      "['Ford Galaxie 500', '15.0', '8', '429.0', '198.0', '4341.', '10.0', '70', 'US']\n",
      "['Chevrolet Impala', '14.0', '8', '454.0', '220.0', '4354.', '9.0', '70', 'US']\n",
      "['Plymouth Fury iii', '14.0', '8', '440.0', '215.0', '4312.', '8.5', '70', 'US']\n",
      "['Pontiac Catalina', '14.0', '8', '455.0', '225.0', '4425.', '10.0', '70', 'US']\n"
     ]
    }
   ],
   "source": [
    "parser = parse_file(\"cars.csv\")\n",
    "for row in itertools.islice(parser, 10):\n",
    "    print(row)"
   ]
  },
  {
   "cell_type": "code",
   "execution_count": 3,
   "id": "52c203fa-b4c6-47dd-8ab6-3366eac8cd79",
   "metadata": {},
   "outputs": [],
   "source": [
    "# file is still open! what if we want to stop iterating and close the file"
   ]
  },
  {
   "cell_type": "code",
   "execution_count": 4,
   "id": "840e9a79-774f-4833-8c00-02cf440b8e6a",
   "metadata": {},
   "outputs": [
    {
     "name": "stdout",
     "output_type": "stream",
     "text": [
      "closing file\n"
     ]
    }
   ],
   "source": [
    "parser.close()  # causes GeneratorExit exception"
   ]
  },
  {
   "cell_type": "code",
   "execution_count": 5,
   "id": "6dd518ca-9053-4192-b322-c8ca196377ae",
   "metadata": {},
   "outputs": [],
   "source": [
    "def parse_file(f_name):\n",
    "    print(\"opening file\")\n",
    "    f = open(f_name)\n",
    "    try:\n",
    "        dialect = csv.Sniffer().sniff(f.read(500))\n",
    "        f.seek(0)\n",
    "        reader = csv.reader(f, dialect=dialect)\n",
    "        for row in reader:\n",
    "            yield row\n",
    "    except Exception as e:\n",
    "        print(\"Got an exception!\", str(e))\n",
    "\n",
    "    except GeneratorExit:  # it's a different type than Exception! (does not inherit from it)\n",
    "        print(\"GeeneratorExit exception\")\n",
    "        \n",
    "    finally:\n",
    "        print(\"closing file\")\n",
    "        f.close()\n",
    "    "
   ]
  },
  {
   "cell_type": "code",
   "execution_count": 6,
   "id": "a61b8d98-9214-4966-b0e4-4831712941aa",
   "metadata": {},
   "outputs": [
    {
     "name": "stdout",
     "output_type": "stream",
     "text": [
      "opening file\n",
      "['Car', 'MPG', 'Cylinders', 'Displacement', 'Horsepower', 'Weight', 'Acceleration', 'Model', 'Origin']\n",
      "['Chevrolet Chevelle Malibu', '18.0', '8', '307.0', '130.0', '3504.', '12.0', '70', 'US']\n",
      "['Buick Skylark 320', '15.0', '8', '350.0', '165.0', '3693.', '11.5', '70', 'US']\n",
      "['Plymouth Satellite', '18.0', '8', '318.0', '150.0', '3436.', '11.0', '70', 'US']\n",
      "['AMC Rebel SST', '16.0', '8', '304.0', '150.0', '3433.', '12.0', '70', 'US']\n",
      "['Ford Torino', '17.0', '8', '302.0', '140.0', '3449.', '10.5', '70', 'US']\n",
      "['Ford Galaxie 500', '15.0', '8', '429.0', '198.0', '4341.', '10.0', '70', 'US']\n",
      "['Chevrolet Impala', '14.0', '8', '454.0', '220.0', '4354.', '9.0', '70', 'US']\n",
      "['Plymouth Fury iii', '14.0', '8', '440.0', '215.0', '4312.', '8.5', '70', 'US']\n",
      "['Pontiac Catalina', '14.0', '8', '455.0', '225.0', '4425.', '10.0', '70', 'US']\n"
     ]
    }
   ],
   "source": [
    "parser = parse_file(\"cars.csv\")\n",
    "for row in itertools.islice(parser, 10):\n",
    "    print(row)"
   ]
  },
  {
   "cell_type": "code",
   "execution_count": 7,
   "id": "5eb597e6-aa40-4f96-8c8f-9569c28588f5",
   "metadata": {},
   "outputs": [
    {
     "name": "stdout",
     "output_type": "stream",
     "text": [
      "GeeneratorExit exception\n",
      "closing file\n"
     ]
    }
   ],
   "source": [
    "parser.close()"
   ]
  },
  {
   "cell_type": "code",
   "execution_count": 8,
   "id": "5161cd13-53ec-468c-b6eb-10331de6b0f4",
   "metadata": {},
   "outputs": [],
   "source": [
    "def parse_file(f_name):\n",
    "    print(\"opening file\")\n",
    "    f = open(f_name)\n",
    "    try:\n",
    "        dialect = csv.Sniffer().sniff(f.read(500))\n",
    "        f.seek(0)\n",
    "        next(f)  # skip the header\n",
    "        reader = csv.reader(f, dialect=dialect)\n",
    "        for row in reader:\n",
    "            try:\n",
    "                yield row\n",
    "            except GeneratorExit:\n",
    "                print(\"ignoring call to close the generator... ;)\")   \n",
    "    finally:\n",
    "        print(\"closing file\")\n",
    "        f.close()"
   ]
  },
  {
   "cell_type": "code",
   "execution_count": 9,
   "id": "32590d77-bfc0-4c9b-9e55-9023297209e8",
   "metadata": {},
   "outputs": [
    {
     "name": "stdout",
     "output_type": "stream",
     "text": [
      "opening file\n",
      "['Chevrolet Chevelle Malibu', '18.0', '8', '307.0', '130.0', '3504.', '12.0', '70', 'US']\n",
      "['Buick Skylark 320', '15.0', '8', '350.0', '165.0', '3693.', '11.5', '70', 'US']\n",
      "['Plymouth Satellite', '18.0', '8', '318.0', '150.0', '3436.', '11.0', '70', 'US']\n",
      "['AMC Rebel SST', '16.0', '8', '304.0', '150.0', '3433.', '12.0', '70', 'US']\n",
      "['Ford Torino', '17.0', '8', '302.0', '140.0', '3449.', '10.5', '70', 'US']\n",
      "['Ford Galaxie 500', '15.0', '8', '429.0', '198.0', '4341.', '10.0', '70', 'US']\n",
      "['Chevrolet Impala', '14.0', '8', '454.0', '220.0', '4354.', '9.0', '70', 'US']\n",
      "['Plymouth Fury iii', '14.0', '8', '440.0', '215.0', '4312.', '8.5', '70', 'US']\n",
      "['Pontiac Catalina', '14.0', '8', '455.0', '225.0', '4425.', '10.0', '70', 'US']\n",
      "['AMC Ambassador DPL', '15.0', '8', '390.0', '190.0', '3850.', '8.5', '70', 'US']\n"
     ]
    }
   ],
   "source": [
    "parser = parse_file(\"cars.csv\")\n",
    "for row in itertools.islice(parser, 10):\n",
    "    print(row)"
   ]
  },
  {
   "cell_type": "code",
   "execution_count": 10,
   "id": "251b1354-60aa-42c9-9a1d-5d6a398628c4",
   "metadata": {},
   "outputs": [
    {
     "name": "stdout",
     "output_type": "stream",
     "text": [
      "ignoring call to close the generator... ;)\n",
      "generator ignored GeneratorExit\n"
     ]
    }
   ],
   "source": [
    "try:\n",
    "    parser.close()\n",
    "except RuntimeError as e:\n",
    "    print(e)"
   ]
  },
  {
   "cell_type": "code",
   "execution_count": 11,
   "id": "5ca14c6f-2b0a-4321-b360-ca2b9caafb60",
   "metadata": {},
   "outputs": [],
   "source": [
    "def parse_file(f_name):\n",
    "    print(\"opening file\")\n",
    "    f = open(f_name)\n",
    "    try:\n",
    "        dialect = csv.Sniffer().sniff(f.read(500))\n",
    "        f.seek(0)\n",
    "        next(f)  # skip the header\n",
    "        reader = csv.reader(f, dialect=dialect)\n",
    "        for row in reader:\n",
    "            try:\n",
    "                yield row\n",
    "            except GeneratorExit as e:\n",
    "                print(\"Closing the generator!\")   \n",
    "                raise e\n",
    "    finally:\n",
    "        print(\"closing file\")\n",
    "        f.close()"
   ]
  },
  {
   "cell_type": "code",
   "execution_count": 12,
   "id": "5453cd7d-0103-40d6-a952-75cb35e6c8c8",
   "metadata": {},
   "outputs": [
    {
     "name": "stderr",
     "output_type": "stream",
     "text": [
      "Exception ignored in: <generator object parse_file at 0x10c221a80>\n",
      "Traceback (most recent call last):\n",
      "  File \"/var/folders/54/lrgwxr353tj57qmbtt2jwqdm0000gn/T/ipykernel_13063/2989750746.py\", line 1, in <module>\n",
      "RuntimeError: generator ignored GeneratorExit\n"
     ]
    },
    {
     "name": "stdout",
     "output_type": "stream",
     "text": [
      "ignoring call to close the generator... ;)\n",
      "opening file\n",
      "['Chevrolet Chevelle Malibu', '18.0', '8', '307.0', '130.0', '3504.', '12.0', '70', 'US']\n",
      "['Buick Skylark 320', '15.0', '8', '350.0', '165.0', '3693.', '11.5', '70', 'US']\n",
      "['Plymouth Satellite', '18.0', '8', '318.0', '150.0', '3436.', '11.0', '70', 'US']\n",
      "['AMC Rebel SST', '16.0', '8', '304.0', '150.0', '3433.', '12.0', '70', 'US']\n",
      "['Ford Torino', '17.0', '8', '302.0', '140.0', '3449.', '10.5', '70', 'US']\n",
      "['Ford Galaxie 500', '15.0', '8', '429.0', '198.0', '4341.', '10.0', '70', 'US']\n",
      "['Chevrolet Impala', '14.0', '8', '454.0', '220.0', '4354.', '9.0', '70', 'US']\n",
      "['Plymouth Fury iii', '14.0', '8', '440.0', '215.0', '4312.', '8.5', '70', 'US']\n",
      "['Pontiac Catalina', '14.0', '8', '455.0', '225.0', '4425.', '10.0', '70', 'US']\n",
      "['AMC Ambassador DPL', '15.0', '8', '390.0', '190.0', '3850.', '8.5', '70', 'US']\n"
     ]
    }
   ],
   "source": [
    "parser = parse_file(\"cars.csv\")\n",
    "for row in itertools.islice(parser, 10):\n",
    "    print(row)"
   ]
  },
  {
   "cell_type": "code",
   "execution_count": 13,
   "id": "6b7f7657-8d04-4d94-8303-263d31adeba0",
   "metadata": {},
   "outputs": [
    {
     "name": "stdout",
     "output_type": "stream",
     "text": [
      "Closing the generator!\n",
      "closing file\n"
     ]
    }
   ],
   "source": [
    "parser.close()"
   ]
  },
  {
   "cell_type": "code",
   "execution_count": 14,
   "id": "2e4bfb84-3076-45db-97bc-7bd1150a1d63",
   "metadata": {},
   "outputs": [],
   "source": [
    "def parse_file(f_name):\n",
    "    print(\"opening file\")\n",
    "    f = open(f_name)\n",
    "    try:\n",
    "        dialect = csv.Sniffer().sniff(f.read(500))\n",
    "        f.seek(0)\n",
    "        next(f)  # skip the header\n",
    "        reader = csv.reader(f, dialect=dialect)\n",
    "        for row in reader:\n",
    "            try:\n",
    "                yield row\n",
    "            except GeneratorExit as e:\n",
    "                print(\"Closing the generator!\")   \n",
    "                return  # returning is fine as well\n",
    "    finally:\n",
    "        print(\"closing file\")\n",
    "        f.close()"
   ]
  },
  {
   "cell_type": "code",
   "execution_count": 15,
   "id": "3456f703-3758-4c54-8324-a2d616e2f070",
   "metadata": {},
   "outputs": [
    {
     "name": "stdout",
     "output_type": "stream",
     "text": [
      "opening file\n",
      "['Chevrolet Chevelle Malibu', '18.0', '8', '307.0', '130.0', '3504.', '12.0', '70', 'US']\n",
      "['Buick Skylark 320', '15.0', '8', '350.0', '165.0', '3693.', '11.5', '70', 'US']\n",
      "['Plymouth Satellite', '18.0', '8', '318.0', '150.0', '3436.', '11.0', '70', 'US']\n",
      "['AMC Rebel SST', '16.0', '8', '304.0', '150.0', '3433.', '12.0', '70', 'US']\n",
      "['Ford Torino', '17.0', '8', '302.0', '140.0', '3449.', '10.5', '70', 'US']\n",
      "['Ford Galaxie 500', '15.0', '8', '429.0', '198.0', '4341.', '10.0', '70', 'US']\n",
      "['Chevrolet Impala', '14.0', '8', '454.0', '220.0', '4354.', '9.0', '70', 'US']\n",
      "['Plymouth Fury iii', '14.0', '8', '440.0', '215.0', '4312.', '8.5', '70', 'US']\n",
      "['Pontiac Catalina', '14.0', '8', '455.0', '225.0', '4425.', '10.0', '70', 'US']\n",
      "['AMC Ambassador DPL', '15.0', '8', '390.0', '190.0', '3850.', '8.5', '70', 'US']\n"
     ]
    }
   ],
   "source": [
    "parser = parse_file(\"cars.csv\")\n",
    "for row in itertools.islice(parser, 10):\n",
    "    print(row)"
   ]
  },
  {
   "cell_type": "code",
   "execution_count": 16,
   "id": "20acdcbc-82e6-45b9-9f61-81d7f62ad758",
   "metadata": {},
   "outputs": [
    {
     "name": "stdout",
     "output_type": "stream",
     "text": [
      "Closing the generator!\n",
      "closing file\n"
     ]
    }
   ],
   "source": [
    "parser.close()"
   ]
  },
  {
   "cell_type": "code",
   "execution_count": 17,
   "id": "81f7c81e-27c4-440c-b57b-c4fcab3dcd55",
   "metadata": {},
   "outputs": [],
   "source": [
    "def save_to_db():\n",
    "    print(\"starting new transaction\")\n",
    "    while True:\n",
    "        try:\n",
    "            data = yield\n",
    "            print(\"Sending data to the DB...\", str(data))\n",
    "        except GeneratorExit:\n",
    "            print(\"commiting transaction...\")\n",
    "            raise \n"
   ]
  },
  {
   "cell_type": "code",
   "execution_count": 18,
   "id": "281a09fb-9665-4694-aa1c-933a12f1fc79",
   "metadata": {},
   "outputs": [
    {
     "name": "stdout",
     "output_type": "stream",
     "text": [
      "starting new transaction\n"
     ]
    }
   ],
   "source": [
    "trans = save_to_db()\n",
    "next(trans)"
   ]
  },
  {
   "cell_type": "code",
   "execution_count": 19,
   "id": "106cf92e-da21-4f0f-a23e-faabc6a98744",
   "metadata": {},
   "outputs": [
    {
     "name": "stdout",
     "output_type": "stream",
     "text": [
      "Sending data to the DB... data 1\n"
     ]
    }
   ],
   "source": [
    "trans.send(\"data 1\")"
   ]
  },
  {
   "cell_type": "code",
   "execution_count": 20,
   "id": "11952012-243c-4473-9be4-e631de212a68",
   "metadata": {},
   "outputs": [
    {
     "name": "stdout",
     "output_type": "stream",
     "text": [
      "Sending data to the DB... data 2\n"
     ]
    }
   ],
   "source": [
    "trans.send(\"data 2\")"
   ]
  },
  {
   "cell_type": "code",
   "execution_count": 21,
   "id": "d2b79844-27b5-4e5d-a305-8ebb56bde4c5",
   "metadata": {},
   "outputs": [
    {
     "name": "stdout",
     "output_type": "stream",
     "text": [
      "commiting transaction...\n"
     ]
    }
   ],
   "source": [
    "trans.close()"
   ]
  },
  {
   "cell_type": "code",
   "execution_count": 22,
   "id": "920ef521-5769-4217-9d91-6a5bd071ba73",
   "metadata": {},
   "outputs": [],
   "source": [
    "def save_to_db():\n",
    "    print(\"starting new transaction\")\n",
    "    while True:\n",
    "        try:\n",
    "            data = yield\n",
    "            print(\"Sending data to the DB...\", int(data))\n",
    "        except GeneratorExit:\n",
    "            print(\"commiting the transaction...\")\n",
    "            return\n",
    "        except Exception:\n",
    "            print(\"aborting the transaction...\")\n",
    "            return\n",
    "             \n"
   ]
  },
  {
   "cell_type": "code",
   "execution_count": 23,
   "id": "7cd289bf-08f4-476f-a573-1286383c9d07",
   "metadata": {},
   "outputs": [
    {
     "name": "stdout",
     "output_type": "stream",
     "text": [
      "starting new transaction\n"
     ]
    }
   ],
   "source": [
    "trans = save_to_db()\n",
    "next(trans)"
   ]
  },
  {
   "cell_type": "code",
   "execution_count": 24,
   "id": "e7ea2419-e8b3-496e-b424-27cdecf2aaff",
   "metadata": {},
   "outputs": [
    {
     "name": "stdout",
     "output_type": "stream",
     "text": [
      "Sending data to the DB... 1\n"
     ]
    }
   ],
   "source": [
    "trans.send(\"1\")"
   ]
  },
  {
   "cell_type": "code",
   "execution_count": 25,
   "id": "6b7099ba-6ff5-48d3-ac4d-6402f3947242",
   "metadata": {},
   "outputs": [
    {
     "name": "stdout",
     "output_type": "stream",
     "text": [
      "aborting the transaction...\n"
     ]
    }
   ],
   "source": [
    "try:\n",
    "    trans.send(\"abc\")\n",
    "except StopIteration:\n",
    "    pass"
   ]
  },
  {
   "cell_type": "code",
   "execution_count": 26,
   "id": "8c9b43ff-6151-4003-b3b2-f7d1ee237714",
   "metadata": {},
   "outputs": [
    {
     "data": {
      "text/plain": [
       "'GEN_CLOSED'"
      ]
     },
     "execution_count": 26,
     "metadata": {},
     "output_type": "execute_result"
    }
   ],
   "source": [
    "gs(trans)"
   ]
  },
  {
   "cell_type": "code",
   "execution_count": 27,
   "id": "61993376-2c2b-4d70-961e-2bfbe5891601",
   "metadata": {},
   "outputs": [],
   "source": [
    "class TransactionAborted(Exception):\n",
    "    pass\n",
    "\n",
    "\n",
    "def save_to_db():\n",
    "    print(\"starting new transaction\")\n",
    "    is_aborted = False\n",
    "    e = None\n",
    "    try:\n",
    "        while True:\n",
    "            data = yield\n",
    "            print(\"Sending data to the DB...\", int(data))\n",
    "    except Exception as exc:\n",
    "        is_aborted = True\n",
    "        raise TransactionAborted(str(exc)) from None   # from None to remove the traceback\n",
    "    finally:\n",
    "        if is_aborted:\n",
    "            print(\"aborting the transaction...\")\n",
    "        else:\n",
    "            print(\"commiting the transaction...\")\n"
   ]
  },
  {
   "cell_type": "code",
   "execution_count": 28,
   "id": "c3506b50-b654-49a9-a666-b0327c20bc0e",
   "metadata": {},
   "outputs": [
    {
     "name": "stdout",
     "output_type": "stream",
     "text": [
      "starting new transaction\n"
     ]
    }
   ],
   "source": [
    "trans = save_to_db()\n",
    "next(trans)"
   ]
  },
  {
   "cell_type": "code",
   "execution_count": 29,
   "id": "d3d9477e-c7de-4fd8-9381-7cf8c129a4d5",
   "metadata": {},
   "outputs": [
    {
     "name": "stdout",
     "output_type": "stream",
     "text": [
      "Sending data to the DB... 1\n"
     ]
    }
   ],
   "source": [
    "trans.send(\"1\")"
   ]
  },
  {
   "cell_type": "code",
   "execution_count": 30,
   "id": "f8140b82-1be2-4175-87fe-5c26b9a08e70",
   "metadata": {},
   "outputs": [
    {
     "name": "stdout",
     "output_type": "stream",
     "text": [
      "Sending data to the DB... 2\n"
     ]
    }
   ],
   "source": [
    "trans.send(\"2\")"
   ]
  },
  {
   "cell_type": "code",
   "execution_count": 31,
   "id": "f4822ff9-3761-4d7e-acdf-57dabf09d1fa",
   "metadata": {},
   "outputs": [
    {
     "name": "stdout",
     "output_type": "stream",
     "text": [
      "commiting the transaction...\n"
     ]
    }
   ],
   "source": [
    "trans.close()"
   ]
  },
  {
   "cell_type": "code",
   "execution_count": 32,
   "id": "1920e36e-11ce-4371-9d86-a87b72b6350e",
   "metadata": {},
   "outputs": [
    {
     "name": "stdout",
     "output_type": "stream",
     "text": [
      "starting new transaction\n"
     ]
    }
   ],
   "source": [
    "trans = save_to_db()\n",
    "next(trans)"
   ]
  },
  {
   "cell_type": "code",
   "execution_count": 33,
   "id": "f7302e8c-7f07-453b-b755-4ee23432f8bc",
   "metadata": {},
   "outputs": [
    {
     "name": "stdout",
     "output_type": "stream",
     "text": [
      "Sending data to the DB... 1\n"
     ]
    }
   ],
   "source": [
    "trans.send(\"1\")"
   ]
  },
  {
   "cell_type": "code",
   "execution_count": 34,
   "id": "e37ba522-06ae-4370-b9c3-ed215593ce89",
   "metadata": {},
   "outputs": [
    {
     "name": "stdout",
     "output_type": "stream",
     "text": [
      "aborting the transaction...\n"
     ]
    },
    {
     "ename": "TransactionAborted",
     "evalue": "invalid literal for int() with base 10: 'abcd'",
     "output_type": "error",
     "traceback": [
      "\u001b[0;31m---------------------------------------------------------------------------\u001b[0m",
      "\u001b[0;31mTransactionAborted\u001b[0m                        Traceback (most recent call last)",
      "Cell \u001b[0;32mIn[34], line 1\u001b[0m\n\u001b[0;32m----> 1\u001b[0m \u001b[43mtrans\u001b[49m\u001b[38;5;241;43m.\u001b[39;49m\u001b[43msend\u001b[49m\u001b[43m(\u001b[49m\u001b[38;5;124;43m\"\u001b[39;49m\u001b[38;5;124;43mabcd\u001b[39;49m\u001b[38;5;124;43m\"\u001b[39;49m\u001b[43m)\u001b[49m\n",
      "Cell \u001b[0;32mIn[27], line 15\u001b[0m, in \u001b[0;36msave_to_db\u001b[0;34m()\u001b[0m\n\u001b[1;32m     13\u001b[0m \u001b[38;5;28;01mexcept\u001b[39;00m \u001b[38;5;167;01mException\u001b[39;00m \u001b[38;5;28;01mas\u001b[39;00m exc:\n\u001b[1;32m     14\u001b[0m     is_aborted \u001b[38;5;241m=\u001b[39m \u001b[38;5;28;01mTrue\u001b[39;00m\n\u001b[0;32m---> 15\u001b[0m     \u001b[38;5;28;01mraise\u001b[39;00m TransactionAborted(\u001b[38;5;28mstr\u001b[39m(exc)) \u001b[38;5;28;01mfrom\u001b[39;00m \u001b[38;5;28;01mNone\u001b[39;00m   \u001b[38;5;66;03m# from None to remove the traceback\u001b[39;00m\n\u001b[1;32m     16\u001b[0m \u001b[38;5;28;01mfinally\u001b[39;00m:\n\u001b[1;32m     17\u001b[0m     \u001b[38;5;28;01mif\u001b[39;00m is_aborted:\n",
      "\u001b[0;31mTransactionAborted\u001b[0m: invalid literal for int() with base 10: 'abcd'"
     ]
    }
   ],
   "source": [
    "trans.send(\"abcd\")"
   ]
  },
  {
   "cell_type": "code",
   "execution_count": null,
   "id": "f7e18f05-2b3d-4dfe-98ca-3a4fec817f37",
   "metadata": {},
   "outputs": [],
   "source": []
  }
 ],
 "metadata": {
  "kernelspec": {
   "display_name": "Python 3 (ipykernel)",
   "language": "python",
   "name": "python3"
  },
  "language_info": {
   "codemirror_mode": {
    "name": "ipython",
    "version": 3
   },
   "file_extension": ".py",
   "mimetype": "text/x-python",
   "name": "python",
   "nbconvert_exporter": "python",
   "pygments_lexer": "ipython3",
   "version": "3.12.3"
  }
 },
 "nbformat": 4,
 "nbformat_minor": 5
}
