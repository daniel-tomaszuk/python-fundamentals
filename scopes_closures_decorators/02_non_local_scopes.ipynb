{
 "cells": [
  {
   "cell_type": "code",
   "execution_count": 1,
   "id": "7e111fef-e80b-4669-96f8-a9f83e688cd6",
   "metadata": {},
   "outputs": [],
   "source": [
    "def outer_func():\n",
    "    x = \"hello\"\n",
    "\n",
    "    def inner_func():\n",
    "        print(x)\n",
    "\n",
    "    inner_func()\n",
    "        "
   ]
  },
  {
   "cell_type": "code",
   "execution_count": 2,
   "id": "c775b0a7-037e-4fa4-b9ba-cf4cf94122bb",
   "metadata": {},
   "outputs": [
    {
     "name": "stdout",
     "output_type": "stream",
     "text": [
      "hello\n"
     ]
    }
   ],
   "source": [
    "outer_func()"
   ]
  },
  {
   "cell_type": "code",
   "execution_count": 3,
   "id": "954f8882-8b9a-4897-972f-0abdd6a80afa",
   "metadata": {},
   "outputs": [],
   "source": [
    "def outer_func():\n",
    "    x = \"hello\"\n",
    "\n",
    "    def inner1():\n",
    "        def inner2():\n",
    "            print(x)\n",
    "        inner2()\n",
    "    inner1()\n"
   ]
  },
  {
   "cell_type": "code",
   "execution_count": 4,
   "id": "c2391b33-1c60-483d-920a-a19e858cb273",
   "metadata": {},
   "outputs": [
    {
     "name": "stdout",
     "output_type": "stream",
     "text": [
      "hello\n"
     ]
    }
   ],
   "source": [
    "outer_func()"
   ]
  },
  {
   "cell_type": "code",
   "execution_count": 5,
   "id": "14740fef-6ce5-416a-9f2b-9af27101c56e",
   "metadata": {},
   "outputs": [],
   "source": [
    "def outer_func():\n",
    "    x = \"hello\"\n",
    "\n",
    "    def inner1():\n",
    "        x = \"hi\"\n",
    "        print(\"innter\", x)\n",
    "    inner1()\n",
    "    print(\"outer\", x)"
   ]
  },
  {
   "cell_type": "code",
   "execution_count": 6,
   "id": "0efe2557-990e-4c31-9bc5-6df75ae8cee0",
   "metadata": {},
   "outputs": [
    {
     "name": "stdout",
     "output_type": "stream",
     "text": [
      "innter hi\n",
      "outer hello\n"
     ]
    }
   ],
   "source": [
    "outer_func()"
   ]
  },
  {
   "cell_type": "code",
   "execution_count": 7,
   "id": "93f014de-1de5-4f0c-9ea9-90ac8d1c3b4e",
   "metadata": {},
   "outputs": [],
   "source": [
    "def outer_func():\n",
    "    x = \"hello\"\n",
    "\n",
    "    def inner1():\n",
    "        nonlocal x\n",
    "        x = \"hi\"\n",
    "        print(\"innter\", x)\n",
    "    print(\"outer x (before)\", x)\n",
    "    inner1()\n",
    "    print(\"outer x (after)\", x)"
   ]
  },
  {
   "cell_type": "code",
   "execution_count": 8,
   "id": "a50083a2-6d0f-4ce0-9ed4-aab917984602",
   "metadata": {},
   "outputs": [
    {
     "name": "stdout",
     "output_type": "stream",
     "text": [
      "outer x (before) hello\n",
      "innter hi\n",
      "outer x (after) hi\n"
     ]
    }
   ],
   "source": [
    "outer_func()"
   ]
  },
  {
   "cell_type": "code",
   "execution_count": 9,
   "id": "841f8a35-73c8-40d6-b15c-a4e07d18eed7",
   "metadata": {},
   "outputs": [],
   "source": [
    "def outer():\n",
    "    x = \"hello\"\n",
    "    def inner1():\n",
    "        print(\"inner1 taken from non local\", x)\n",
    "        def inner2():\n",
    "            nonlocal x\n",
    "            x = \"python\"\n",
    "        inner2()\n",
    "    inner1()\n",
    "    print(x)"
   ]
  },
  {
   "cell_type": "code",
   "execution_count": 10,
   "id": "aae0f8d3-09bb-4f0d-826d-f4c047ec175a",
   "metadata": {},
   "outputs": [
    {
     "name": "stdout",
     "output_type": "stream",
     "text": [
      "inner1 taken from non local hello\n",
      "python\n"
     ]
    }
   ],
   "source": [
    "outer()"
   ]
  },
  {
   "cell_type": "code",
   "execution_count": 11,
   "id": "529c9a13-8de8-4f63-adef-de4362385c3a",
   "metadata": {},
   "outputs": [],
   "source": [
    "def outer():\n",
    "    x = \"hello\"\n",
    "    def inner1():\n",
    "        nonlocal x\n",
    "        x = \"hi\"\n",
    "        def inner2():\n",
    "            nonlocal x\n",
    "            x = \"python\"\n",
    "        inner2()\n",
    "    inner1()\n",
    "    print(x)"
   ]
  },
  {
   "cell_type": "code",
   "execution_count": 12,
   "id": "b437f7b7-5723-4703-b16f-1811f171a4cc",
   "metadata": {},
   "outputs": [
    {
     "name": "stdout",
     "output_type": "stream",
     "text": [
      "python\n"
     ]
    }
   ],
   "source": [
    "outer()"
   ]
  },
  {
   "cell_type": "code",
   "execution_count": 13,
   "id": "fca51c8a-bf0f-43e8-828c-30935eb03f8c",
   "metadata": {},
   "outputs": [
    {
     "ename": "SyntaxError",
     "evalue": "no binding for nonlocal 'x' found (4031421203.py, line 8)",
     "output_type": "error",
     "traceback": [
      "\u001b[0;36m  Cell \u001b[0;32mIn[13], line 8\u001b[0;36m\u001b[0m\n\u001b[0;31m    nonlocal x  # to fix should be changed to global\u001b[0m\n\u001b[0m    ^\u001b[0m\n\u001b[0;31mSyntaxError\u001b[0m\u001b[0;31m:\u001b[0m no binding for nonlocal 'x' found\n"
     ]
    }
   ],
   "source": [
    "x = \"python\"\n",
    "\n",
    "def outer():\n",
    "    global x\n",
    "    x = \"month\"\n",
    "\n",
    "    def inner1():\n",
    "        nonlocal x  # to fix should be changed to global\n",
    "        x = \"hello\"\n",
    "    print(x)\n"
   ]
  },
  {
   "cell_type": "code",
   "execution_count": null,
   "id": "a32033da-d35b-48c9-aa17-9317af5dd3a6",
   "metadata": {},
   "outputs": [],
   "source": []
  }
 ],
 "metadata": {
  "kernelspec": {
   "display_name": "Python 3 (ipykernel)",
   "language": "python",
   "name": "python3"
  },
  "language_info": {
   "codemirror_mode": {
    "name": "ipython",
    "version": 3
   },
   "file_extension": ".py",
   "mimetype": "text/x-python",
   "name": "python",
   "nbconvert_exporter": "python",
   "pygments_lexer": "ipython3",
   "version": "3.12.3"
  }
 },
 "nbformat": 4,
 "nbformat_minor": 5
}
