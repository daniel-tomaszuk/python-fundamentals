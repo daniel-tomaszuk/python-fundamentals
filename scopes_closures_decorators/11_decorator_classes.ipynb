{
 "cells": [
  {
   "cell_type": "code",
   "execution_count": 1,
   "id": "34a230a7-e767-477c-a499-2a7601c846b9",
   "metadata": {},
   "outputs": [],
   "source": [
    "def my_dec(a, b):\n",
    "    def dec(fn):\n",
    "        def inner(*args, **kwargs):\n",
    "            print(f\"Decorated function called a={a}, b={b}\")\n",
    "            return fn(*args, **kwargs)\n",
    "        return inner\n",
    "    return dec\n"
   ]
  },
  {
   "cell_type": "code",
   "execution_count": 2,
   "id": "28c5f030-146d-4b80-9eb6-c2b3232a5a2b",
   "metadata": {},
   "outputs": [],
   "source": [
    "@my_dec(10, 20)\n",
    "def my_func(s):\n",
    "    print(f\"Hello {s}\")\n"
   ]
  },
  {
   "cell_type": "code",
   "execution_count": 3,
   "id": "a990be2f-b891-4e7c-ad6c-5cfa6cd15cbb",
   "metadata": {},
   "outputs": [
    {
     "name": "stdout",
     "output_type": "stream",
     "text": [
      "Decorated function called a=10, b=20\n",
      "Hello test\n"
     ]
    }
   ],
   "source": [
    "my_func(\"test\")"
   ]
  },
  {
   "cell_type": "code",
   "execution_count": 4,
   "id": "a6c7e79f-7914-4fe0-9858-ff830e722931",
   "metadata": {},
   "outputs": [],
   "source": [
    "class MyClass:\n",
    "    def __init__(self, a, b):\n",
    "        self.a = a\n",
    "        self.b = b\n",
    "\n",
    "    def __call__(self, *args, **kwargs):\n",
    "        print(f\"{type(self).__name__} called with args={args}, kwargs={kwargs}\")"
   ]
  },
  {
   "cell_type": "code",
   "execution_count": 5,
   "id": "0f10272b-52cc-4ba8-8bd8-e7cf900565c2",
   "metadata": {},
   "outputs": [],
   "source": [
    "obj = MyClass(100, 200)"
   ]
  },
  {
   "cell_type": "code",
   "execution_count": 6,
   "id": "afd9fff4-87cc-4c69-920f-036a7bb7e060",
   "metadata": {},
   "outputs": [
    {
     "name": "stdout",
     "output_type": "stream",
     "text": [
      "MyClass called with args=('test',), kwargs={}\n"
     ]
    }
   ],
   "source": [
    "obj(\"test\")"
   ]
  },
  {
   "cell_type": "code",
   "execution_count": 7,
   "id": "f8903ca6-8216-4bbb-a09b-a39959f50475",
   "metadata": {},
   "outputs": [],
   "source": [
    "class MyClass:\n",
    "    def __init__(self, a, b):\n",
    "        self.a = a\n",
    "        self.b = b\n",
    "\n",
    "    def __call__(self, fn):\n",
    "        def inner(*args, **kwargs):\n",
    "            print(f\"Decorated function called a={self.a}, b={self.b}\")\n",
    "            return fn(*args, **kwargs)\n",
    "        return inner\n",
    "        "
   ]
  },
  {
   "cell_type": "code",
   "execution_count": 8,
   "id": "57112e47-1809-4ca3-bb1c-b2aaa0c911fa",
   "metadata": {},
   "outputs": [],
   "source": [
    "@MyClass(10, 20)\n",
    "def my_func(s):\n",
    "    print(f\"Hello {s}\")"
   ]
  },
  {
   "cell_type": "code",
   "execution_count": 9,
   "id": "118c4297-07f5-4314-a553-dcc468df677a",
   "metadata": {},
   "outputs": [
    {
     "name": "stdout",
     "output_type": "stream",
     "text": [
      "Decorated function called a=10, b=20\n",
      "Hello test\n"
     ]
    }
   ],
   "source": [
    "my_func(\"test\")"
   ]
  },
  {
   "cell_type": "code",
   "execution_count": 10,
   "id": "50411626-d9bd-424e-8d27-1242a35c182e",
   "metadata": {},
   "outputs": [],
   "source": [
    "def my_func(s):\n",
    "    print(f\"Hello {s}\")"
   ]
  },
  {
   "cell_type": "code",
   "execution_count": 11,
   "id": "40a6d658-74ed-4215-afb0-0b87d8925f69",
   "metadata": {},
   "outputs": [],
   "source": [
    "my_func = MyClass(30, 40)(my_func)"
   ]
  },
  {
   "cell_type": "code",
   "execution_count": 12,
   "id": "b2e57c5c-01a0-4ac6-b802-106bb480209e",
   "metadata": {},
   "outputs": [
    {
     "name": "stdout",
     "output_type": "stream",
     "text": [
      "Decorated function called a=30, b=40\n",
      "Hello xyz\n"
     ]
    }
   ],
   "source": [
    "my_func(\"xyz\")"
   ]
  },
  {
   "cell_type": "code",
   "execution_count": null,
   "id": "0cff0546-1c40-4e36-8f00-f08e4851412e",
   "metadata": {},
   "outputs": [],
   "source": []
  }
 ],
 "metadata": {
  "kernelspec": {
   "display_name": "Python 3 (ipykernel)",
   "language": "python",
   "name": "python3"
  },
  "language_info": {
   "codemirror_mode": {
    "name": "ipython",
    "version": 3
   },
   "file_extension": ".py",
   "mimetype": "text/x-python",
   "name": "python",
   "nbconvert_exporter": "python",
   "pygments_lexer": "ipython3",
   "version": "3.12.3"
  }
 },
 "nbformat": 4,
 "nbformat_minor": 5
}
