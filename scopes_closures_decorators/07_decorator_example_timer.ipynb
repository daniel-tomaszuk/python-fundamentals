{
 "cells": [
  {
   "cell_type": "code",
   "execution_count": 1,
   "id": "410d6bd2-f385-4c59-bf0a-4f6274586c4b",
   "metadata": {},
   "outputs": [],
   "source": [
    "def timed(fn):\n",
    "    from functools import wraps\n",
    "    from time import perf_counter\n",
    "\n",
    "    @wraps(fn)\n",
    "    def inner(*args, **kwargs):\n",
    "        start = perf_counter()\n",
    "        result = fn(*args, **kwargs)\n",
    "        end = perf_counter()\n",
    "        elapsed = end - start\n",
    "\n",
    "        args_ = [str(a) for a in args]\n",
    "        kwargs_ = [f\"{k}={v}\" for k, v in kwargs.items()]\n",
    "        all_args = args_ + kwargs_\n",
    "        args_str = \",\".join(args_)\n",
    "        kwargs_str = \",\".join(kwargs_)\n",
    "        print(\"{0}({1}) took {2:.6f}s to run\".format(fn.__name__, args_str, elapsed))\n",
    "        return result\n",
    "    return inner\n"
   ]
  },
  {
   "cell_type": "code",
   "execution_count": 2,
   "id": "2456b2c2-847f-4eaa-b0c2-7146606928de",
   "metadata": {},
   "outputs": [],
   "source": [
    "@timed\n",
    "def fib(n):\n",
    "    nums = [1, 1]\n",
    "    cache = {}\n",
    "    def fib_digit(n):\n",
    "        if n <= 0 or n == 1 or n == 2:\n",
    "            return 1\n",
    "\n",
    "        key = (n - 2, n - 1)\n",
    "        x = cache.get(key)\n",
    "        if not x:\n",
    "            x = fib_digit(n - 2) + fib_digit(n - 1)\n",
    "            cache[key] = x\n",
    "            nums.append(x)\n",
    "        return x\n",
    "\n",
    "    fib_digit(n)\n"
   ]
  },
  {
   "cell_type": "code",
   "execution_count": 3,
   "id": "9e6af271-99f0-4ef4-8d3b-c8538ab4d378",
   "metadata": {},
   "outputs": [
    {
     "name": "stdout",
     "output_type": "stream",
     "text": [
      "fib(5000) took 0.008057s to run\n"
     ]
    }
   ],
   "source": [
    "fib(5000)"
   ]
  },
  {
   "cell_type": "code",
   "execution_count": 4,
   "id": "5e9c806f-a65c-4992-b567-99a7f8c93876",
   "metadata": {},
   "outputs": [],
   "source": [
    "@timed\n",
    "def calc_recursive_fib(n):\n",
    "    \"\"\"Calculate nth fib number\"\"\"\n",
    "    if n <= 2:\n",
    "        return 1\n",
    "    else:\n",
    "        return calc_recursive_fib(n - 2) + calc_recursive_fib(n - 1)"
   ]
  },
  {
   "cell_type": "code",
   "execution_count": 5,
   "id": "ef74ddb3-87e3-4f25-9cf8-f9b73a62b850",
   "metadata": {},
   "outputs": [
    {
     "name": "stdout",
     "output_type": "stream",
     "text": [
      "calc_recursive_fib(2) took 0.000000s to run\n",
      "calc_recursive_fib(1) took 0.000000s to run\n",
      "calc_recursive_fib(2) took 0.000001s to run\n",
      "calc_recursive_fib(3) took 0.000049s to run\n",
      "calc_recursive_fib(4) took 0.000706s to run\n",
      "calc_recursive_fib(1) took 0.000000s to run\n",
      "calc_recursive_fib(2) took 0.000000s to run\n",
      "calc_recursive_fib(3) took 0.000014s to run\n",
      "calc_recursive_fib(2) took 0.000000s to run\n",
      "calc_recursive_fib(1) took 0.000000s to run\n",
      "calc_recursive_fib(2) took 0.000000s to run\n",
      "calc_recursive_fib(3) took 0.000014s to run\n",
      "calc_recursive_fib(4) took 0.000029s to run\n",
      "calc_recursive_fib(5) took 0.000055s to run\n",
      "calc_recursive_fib(6) took 0.000776s to run\n"
     ]
    },
    {
     "data": {
      "text/plain": [
       "8"
      ]
     },
     "execution_count": 5,
     "metadata": {},
     "output_type": "execute_result"
    }
   ],
   "source": [
    "calc_recursive_fib(6)  # each call is being timed, not realy what we want"
   ]
  },
  {
   "cell_type": "code",
   "execution_count": 6,
   "id": "e4046c28-e003-4494-976f-01b8089c4a23",
   "metadata": {},
   "outputs": [],
   "source": [
    "@timed\n",
    "def fib_recursive(n):\n",
    "    \"\"\"Calculate nth fib number\"\"\"\n",
    "    def calc_recursive_fib(n):\n",
    "        \"\"\"Calculate nth fib number\"\"\"\n",
    "        if n <= 2:\n",
    "            return 1\n",
    "        else:\n",
    "            return calc_recursive_fib(n - 2) + calc_recursive_fib(n - 1)\n",
    "    return calc_recursive_fib(n)\n"
   ]
  },
  {
   "cell_type": "code",
   "execution_count": 7,
   "id": "161bce85-5b27-4015-a2f5-f4305af89ccb",
   "metadata": {},
   "outputs": [
    {
     "name": "stdout",
     "output_type": "stream",
     "text": [
      "fib_recursive(6) took 0.000004s to run\n"
     ]
    },
    {
     "data": {
      "text/plain": [
       "8"
      ]
     },
     "execution_count": 7,
     "metadata": {},
     "output_type": "execute_result"
    }
   ],
   "source": [
    "fib_recursive(6)"
   ]
  },
  {
   "cell_type": "code",
   "execution_count": 8,
   "id": "c348e45c-ffd5-4e39-bf0b-0caa472f3d94",
   "metadata": {},
   "outputs": [
    {
     "name": "stdout",
     "output_type": "stream",
     "text": [
      "fib_recursive(20) took 0.000917s to run\n"
     ]
    },
    {
     "data": {
      "text/plain": [
       "6765"
      ]
     },
     "execution_count": 8,
     "metadata": {},
     "output_type": "execute_result"
    }
   ],
   "source": [
    "fib_recursive(20)"
   ]
  },
  {
   "cell_type": "code",
   "execution_count": 9,
   "id": "435a6712-8c23-45f5-8c37-15aef1ca4e4b",
   "metadata": {},
   "outputs": [
    {
     "name": "stdout",
     "output_type": "stream",
     "text": [
      "fib_recursive(25) took 0.014268s to run\n"
     ]
    },
    {
     "data": {
      "text/plain": [
       "75025"
      ]
     },
     "execution_count": 9,
     "metadata": {},
     "output_type": "execute_result"
    }
   ],
   "source": [
    "fib_recursive(25)"
   ]
  },
  {
   "cell_type": "code",
   "execution_count": 10,
   "id": "e896e354-1d79-4528-9115-a403c3ac2d0e",
   "metadata": {},
   "outputs": [
    {
     "name": "stdout",
     "output_type": "stream",
     "text": [
      "fib_recursive(30) took 0.128678s to run\n"
     ]
    },
    {
     "data": {
      "text/plain": [
       "832040"
      ]
     },
     "execution_count": 10,
     "metadata": {},
     "output_type": "execute_result"
    }
   ],
   "source": [
    "fib_recursive(30)"
   ]
  },
  {
   "cell_type": "code",
   "execution_count": 11,
   "id": "3bd94eb2-ef5c-4605-995e-f642cf601af3",
   "metadata": {},
   "outputs": [
    {
     "name": "stdout",
     "output_type": "stream",
     "text": [
      "fib_recursive(35) took 1.319673s to run\n"
     ]
    },
    {
     "data": {
      "text/plain": [
       "9227465"
      ]
     },
     "execution_count": 11,
     "metadata": {},
     "output_type": "execute_result"
    }
   ],
   "source": [
    "fib_recursive(35)"
   ]
  },
  {
   "cell_type": "code",
   "execution_count": 12,
   "id": "a9ca6aca-a707-4ff7-bd1d-f02f543133a6",
   "metadata": {},
   "outputs": [],
   "source": [
    "@timed\n",
    "def fib_loop(n):\n",
    "    fib_1 = 1\n",
    "    fib_2 = 1\n",
    "    for i in range(3, n + 1):\n",
    "        # tmp = fib_2\n",
    "        # fib_2 = fib_1 + fib_2\n",
    "        # fib_1 = tmp\n",
    "        fib_1, fib_2 = fib_2, fib_1 + fib_2\n",
    "    return fib_2\n"
   ]
  },
  {
   "cell_type": "code",
   "execution_count": 13,
   "id": "2bfa175b-ded5-48a9-bb9e-075a7cd1e4e3",
   "metadata": {},
   "outputs": [
    {
     "name": "stdout",
     "output_type": "stream",
     "text": [
      "fib_loop(6) took 0.000002s to run\n"
     ]
    },
    {
     "data": {
      "text/plain": [
       "8"
      ]
     },
     "execution_count": 13,
     "metadata": {},
     "output_type": "execute_result"
    }
   ],
   "source": [
    "fib_loop(6)"
   ]
  },
  {
   "cell_type": "code",
   "execution_count": 14,
   "id": "65633f6e-9bbd-434a-9670-6030a580f71a",
   "metadata": {},
   "outputs": [
    {
     "name": "stdout",
     "output_type": "stream",
     "text": [
      "fib_loop(20) took 0.000011s to run\n"
     ]
    },
    {
     "data": {
      "text/plain": [
       "6765"
      ]
     },
     "execution_count": 14,
     "metadata": {},
     "output_type": "execute_result"
    }
   ],
   "source": [
    "fib_loop(20)"
   ]
  },
  {
   "cell_type": "code",
   "execution_count": 15,
   "id": "7bd66fb5-1a97-41ca-962c-f52c5a0cf71c",
   "metadata": {},
   "outputs": [
    {
     "name": "stdout",
     "output_type": "stream",
     "text": [
      "fib_loop(36) took 0.000004s to run\n"
     ]
    },
    {
     "data": {
      "text/plain": [
       "14930352"
      ]
     },
     "execution_count": 15,
     "metadata": {},
     "output_type": "execute_result"
    }
   ],
   "source": [
    "fib_loop(36)"
   ]
  },
  {
   "cell_type": "code",
   "execution_count": 16,
   "id": "caa3e0f7-4880-4549-8df6-0258b6661a64",
   "metadata": {},
   "outputs": [
    {
     "name": "stdout",
     "output_type": "stream",
     "text": [
      "fib_loop(100) took 0.000012s to run\n"
     ]
    },
    {
     "data": {
      "text/plain": [
       "354224848179261915075"
      ]
     },
     "execution_count": 16,
     "metadata": {},
     "output_type": "execute_result"
    }
   ],
   "source": [
    "fib_loop(100)"
   ]
  },
  {
   "cell_type": "code",
   "execution_count": 17,
   "id": "be8dc0ed-f883-4309-b333-cce7f2526fef",
   "metadata": {},
   "outputs": [],
   "source": [
    "from functools import reduce\n",
    "\n",
    "@timed\n",
    "def fib_reduce(n):\n",
    "    initial = (1, 0)\n",
    "    fib_n = reduce(lambda prev, n: (prev[0] + prev[1], prev[0]), range(n-1), initial)\n",
    "    return fib_n[0]\n"
   ]
  },
  {
   "cell_type": "code",
   "execution_count": 18,
   "id": "e99ce13d-fdc6-4cfb-bfce-ae7317c18a9c",
   "metadata": {},
   "outputs": [
    {
     "name": "stdout",
     "output_type": "stream",
     "text": [
      "fib_reduce(1) took 0.000003s to run\n"
     ]
    },
    {
     "data": {
      "text/plain": [
       "1"
      ]
     },
     "execution_count": 18,
     "metadata": {},
     "output_type": "execute_result"
    }
   ],
   "source": [
    "fib_reduce(1)"
   ]
  },
  {
   "cell_type": "code",
   "execution_count": 19,
   "id": "050b57dd-ed3a-4a82-83c4-a7c0ee11d6b5",
   "metadata": {},
   "outputs": [
    {
     "name": "stdout",
     "output_type": "stream",
     "text": [
      "fib_reduce(20) took 0.000682s to run\n"
     ]
    },
    {
     "data": {
      "text/plain": [
       "6765"
      ]
     },
     "execution_count": 19,
     "metadata": {},
     "output_type": "execute_result"
    }
   ],
   "source": [
    "fib_reduce(20)"
   ]
  },
  {
   "cell_type": "code",
   "execution_count": 20,
   "id": "8a21badb-0ea1-4404-aa74-ae8ce27a27c3",
   "metadata": {},
   "outputs": [
    {
     "name": "stdout",
     "output_type": "stream",
     "text": [
      "fib_reduce(100) took 0.000028s to run\n"
     ]
    },
    {
     "data": {
      "text/plain": [
       "354224848179261915075"
      ]
     },
     "execution_count": 20,
     "metadata": {},
     "output_type": "execute_result"
    }
   ],
   "source": [
    "fib_reduce(100)"
   ]
  },
  {
   "cell_type": "code",
   "execution_count": 21,
   "id": "c5bbf2f9-72c5-4398-9afa-f823765d4da5",
   "metadata": {},
   "outputs": [
    {
     "name": "stdout",
     "output_type": "stream",
     "text": [
      "fib_reduce(500) took 0.000077s to run\n"
     ]
    },
    {
     "data": {
      "text/plain": [
       "139423224561697880139724382870407283950070256587697307264108962948325571622863290691557658876222521294125"
      ]
     },
     "execution_count": 21,
     "metadata": {},
     "output_type": "execute_result"
    }
   ],
   "source": [
    "fib_reduce(500)"
   ]
  },
  {
   "cell_type": "code",
   "execution_count": 22,
   "id": "40dac565-0457-4e37-a1ba-f7512f125c2c",
   "metadata": {},
   "outputs": [
    {
     "name": "stdout",
     "output_type": "stream",
     "text": [
      "fib_loop(500) took 0.000033s to run\n"
     ]
    },
    {
     "data": {
      "text/plain": [
       "139423224561697880139724382870407283950070256587697307264108962948325571622863290691557658876222521294125"
      ]
     },
     "execution_count": 22,
     "metadata": {},
     "output_type": "execute_result"
    }
   ],
   "source": [
    "fib_loop(500)"
   ]
  },
  {
   "cell_type": "code",
   "execution_count": null,
   "id": "3b6babbd-d947-4582-8035-23277c3a9963",
   "metadata": {},
   "outputs": [],
   "source": []
  }
 ],
 "metadata": {
  "kernelspec": {
   "display_name": "Python 3 (ipykernel)",
   "language": "python",
   "name": "python3"
  },
  "language_info": {
   "codemirror_mode": {
    "name": "ipython",
    "version": 3
   },
   "file_extension": ".py",
   "mimetype": "text/x-python",
   "name": "python",
   "nbconvert_exporter": "python",
   "pygments_lexer": "ipython3",
   "version": "3.12.3"
  }
 },
 "nbformat": 4,
 "nbformat_minor": 5
}
