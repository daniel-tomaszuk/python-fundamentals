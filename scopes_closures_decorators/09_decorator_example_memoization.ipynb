{
 "cells": [
  {
   "cell_type": "code",
   "execution_count": 1,
   "id": "72b7cfad-b8d4-44c7-81e0-6b65ee566002",
   "metadata": {},
   "outputs": [],
   "source": [
    "# memoization = cache"
   ]
  },
  {
   "cell_type": "code",
   "execution_count": 2,
   "id": "ec2eda03-e384-4d3a-ad5c-ceb00b88ec6f",
   "metadata": {},
   "outputs": [],
   "source": [
    "def fib_recursion(n):\n",
    "    print(f\"Calculating fib for {n}\")\n",
    "    if n <= 2:\n",
    "        return 1\n",
    "    return fib_recursion(n - 2) + fib_recursion(n - 1)\n"
   ]
  },
  {
   "cell_type": "code",
   "execution_count": 3,
   "id": "23312dce-aa6d-4688-aa1f-fd2e0114883e",
   "metadata": {},
   "outputs": [
    {
     "name": "stdout",
     "output_type": "stream",
     "text": [
      "Calculating fib for 10\n",
      "Calculating fib for 8\n",
      "Calculating fib for 6\n",
      "Calculating fib for 4\n",
      "Calculating fib for 2\n",
      "Calculating fib for 3\n",
      "Calculating fib for 1\n",
      "Calculating fib for 2\n",
      "Calculating fib for 5\n",
      "Calculating fib for 3\n",
      "Calculating fib for 1\n",
      "Calculating fib for 2\n",
      "Calculating fib for 4\n",
      "Calculating fib for 2\n",
      "Calculating fib for 3\n",
      "Calculating fib for 1\n",
      "Calculating fib for 2\n",
      "Calculating fib for 7\n",
      "Calculating fib for 5\n",
      "Calculating fib for 3\n",
      "Calculating fib for 1\n",
      "Calculating fib for 2\n",
      "Calculating fib for 4\n",
      "Calculating fib for 2\n",
      "Calculating fib for 3\n",
      "Calculating fib for 1\n",
      "Calculating fib for 2\n",
      "Calculating fib for 6\n",
      "Calculating fib for 4\n",
      "Calculating fib for 2\n",
      "Calculating fib for 3\n",
      "Calculating fib for 1\n",
      "Calculating fib for 2\n",
      "Calculating fib for 5\n",
      "Calculating fib for 3\n",
      "Calculating fib for 1\n",
      "Calculating fib for 2\n",
      "Calculating fib for 4\n",
      "Calculating fib for 2\n",
      "Calculating fib for 3\n",
      "Calculating fib for 1\n",
      "Calculating fib for 2\n",
      "Calculating fib for 9\n",
      "Calculating fib for 7\n",
      "Calculating fib for 5\n",
      "Calculating fib for 3\n",
      "Calculating fib for 1\n",
      "Calculating fib for 2\n",
      "Calculating fib for 4\n",
      "Calculating fib for 2\n",
      "Calculating fib for 3\n",
      "Calculating fib for 1\n",
      "Calculating fib for 2\n",
      "Calculating fib for 6\n",
      "Calculating fib for 4\n",
      "Calculating fib for 2\n",
      "Calculating fib for 3\n",
      "Calculating fib for 1\n",
      "Calculating fib for 2\n",
      "Calculating fib for 5\n",
      "Calculating fib for 3\n",
      "Calculating fib for 1\n",
      "Calculating fib for 2\n",
      "Calculating fib for 4\n",
      "Calculating fib for 2\n",
      "Calculating fib for 3\n",
      "Calculating fib for 1\n",
      "Calculating fib for 2\n",
      "Calculating fib for 8\n",
      "Calculating fib for 6\n",
      "Calculating fib for 4\n",
      "Calculating fib for 2\n",
      "Calculating fib for 3\n",
      "Calculating fib for 1\n",
      "Calculating fib for 2\n",
      "Calculating fib for 5\n",
      "Calculating fib for 3\n",
      "Calculating fib for 1\n",
      "Calculating fib for 2\n",
      "Calculating fib for 4\n",
      "Calculating fib for 2\n",
      "Calculating fib for 3\n",
      "Calculating fib for 1\n",
      "Calculating fib for 2\n",
      "Calculating fib for 7\n",
      "Calculating fib for 5\n",
      "Calculating fib for 3\n",
      "Calculating fib for 1\n",
      "Calculating fib for 2\n",
      "Calculating fib for 4\n",
      "Calculating fib for 2\n",
      "Calculating fib for 3\n",
      "Calculating fib for 1\n",
      "Calculating fib for 2\n",
      "Calculating fib for 6\n",
      "Calculating fib for 4\n",
      "Calculating fib for 2\n",
      "Calculating fib for 3\n",
      "Calculating fib for 1\n",
      "Calculating fib for 2\n",
      "Calculating fib for 5\n",
      "Calculating fib for 3\n",
      "Calculating fib for 1\n",
      "Calculating fib for 2\n",
      "Calculating fib for 4\n",
      "Calculating fib for 2\n",
      "Calculating fib for 3\n",
      "Calculating fib for 1\n",
      "Calculating fib for 2\n"
     ]
    },
    {
     "data": {
      "text/plain": [
       "55"
      ]
     },
     "execution_count": 3,
     "metadata": {},
     "output_type": "execute_result"
    }
   ],
   "source": [
    "fib_recursion(10)  # a lot of calls"
   ]
  },
  {
   "cell_type": "code",
   "execution_count": 4,
   "id": "9d073e52-70a1-4821-ac0f-b18771ee4976",
   "metadata": {},
   "outputs": [],
   "source": [
    "class Fib:\n",
    "    def __init__(self):\n",
    "        self.cache = {1: 1, 2: 1}\n",
    "\n",
    "    def fib(self, n):\n",
    "        if n not in self.cache:\n",
    "            print(f\"Calculating fib for {n}\")\n",
    "            val = self.fib(n - 1) + self.fib(n - 2)\n",
    "            self.cache[n] = val\n",
    "            return val\n",
    "        return self.cache[n]\n"
   ]
  },
  {
   "cell_type": "code",
   "execution_count": 5,
   "id": "30238cca-868e-4b26-828a-a3ed75574d1c",
   "metadata": {},
   "outputs": [
    {
     "name": "stdout",
     "output_type": "stream",
     "text": [
      "Calculating fib for 10\n",
      "Calculating fib for 9\n",
      "Calculating fib for 8\n",
      "Calculating fib for 7\n",
      "Calculating fib for 6\n",
      "Calculating fib for 5\n",
      "Calculating fib for 4\n",
      "Calculating fib for 3\n"
     ]
    },
    {
     "data": {
      "text/plain": [
       "55"
      ]
     },
     "execution_count": 5,
     "metadata": {},
     "output_type": "execute_result"
    }
   ],
   "source": [
    "f = Fib()\n",
    "f.fib(10)"
   ]
  },
  {
   "cell_type": "code",
   "execution_count": 6,
   "id": "ac3fe3c7-e14c-450b-905b-6711dac56587",
   "metadata": {},
   "outputs": [
    {
     "name": "stdout",
     "output_type": "stream",
     "text": [
      "Calculating fib for 100\n",
      "Calculating fib for 99\n",
      "Calculating fib for 98\n",
      "Calculating fib for 97\n",
      "Calculating fib for 96\n",
      "Calculating fib for 95\n",
      "Calculating fib for 94\n",
      "Calculating fib for 93\n",
      "Calculating fib for 92\n",
      "Calculating fib for 91\n",
      "Calculating fib for 90\n",
      "Calculating fib for 89\n",
      "Calculating fib for 88\n",
      "Calculating fib for 87\n",
      "Calculating fib for 86\n",
      "Calculating fib for 85\n",
      "Calculating fib for 84\n",
      "Calculating fib for 83\n",
      "Calculating fib for 82\n",
      "Calculating fib for 81\n",
      "Calculating fib for 80\n",
      "Calculating fib for 79\n",
      "Calculating fib for 78\n",
      "Calculating fib for 77\n",
      "Calculating fib for 76\n",
      "Calculating fib for 75\n",
      "Calculating fib for 74\n",
      "Calculating fib for 73\n",
      "Calculating fib for 72\n",
      "Calculating fib for 71\n",
      "Calculating fib for 70\n",
      "Calculating fib for 69\n",
      "Calculating fib for 68\n",
      "Calculating fib for 67\n",
      "Calculating fib for 66\n",
      "Calculating fib for 65\n",
      "Calculating fib for 64\n",
      "Calculating fib for 63\n",
      "Calculating fib for 62\n",
      "Calculating fib for 61\n",
      "Calculating fib for 60\n",
      "Calculating fib for 59\n",
      "Calculating fib for 58\n",
      "Calculating fib for 57\n",
      "Calculating fib for 56\n",
      "Calculating fib for 55\n",
      "Calculating fib for 54\n",
      "Calculating fib for 53\n",
      "Calculating fib for 52\n",
      "Calculating fib for 51\n",
      "Calculating fib for 50\n",
      "Calculating fib for 49\n",
      "Calculating fib for 48\n",
      "Calculating fib for 47\n",
      "Calculating fib for 46\n",
      "Calculating fib for 45\n",
      "Calculating fib for 44\n",
      "Calculating fib for 43\n",
      "Calculating fib for 42\n",
      "Calculating fib for 41\n",
      "Calculating fib for 40\n",
      "Calculating fib for 39\n",
      "Calculating fib for 38\n",
      "Calculating fib for 37\n",
      "Calculating fib for 36\n",
      "Calculating fib for 35\n",
      "Calculating fib for 34\n",
      "Calculating fib for 33\n",
      "Calculating fib for 32\n",
      "Calculating fib for 31\n",
      "Calculating fib for 30\n",
      "Calculating fib for 29\n",
      "Calculating fib for 28\n",
      "Calculating fib for 27\n",
      "Calculating fib for 26\n",
      "Calculating fib for 25\n",
      "Calculating fib for 24\n",
      "Calculating fib for 23\n",
      "Calculating fib for 22\n",
      "Calculating fib for 21\n",
      "Calculating fib for 20\n",
      "Calculating fib for 19\n",
      "Calculating fib for 18\n",
      "Calculating fib for 17\n",
      "Calculating fib for 16\n",
      "Calculating fib for 15\n",
      "Calculating fib for 14\n",
      "Calculating fib for 13\n",
      "Calculating fib for 12\n",
      "Calculating fib for 11\n"
     ]
    },
    {
     "data": {
      "text/plain": [
       "354224848179261915075"
      ]
     },
     "execution_count": 6,
     "metadata": {},
     "output_type": "execute_result"
    }
   ],
   "source": [
    "f.fib(100)"
   ]
  },
  {
   "cell_type": "code",
   "execution_count": 7,
   "id": "b67a9d85-e88f-49fc-b8ef-65787d495bd6",
   "metadata": {},
   "outputs": [],
   "source": [
    "def fib():\n",
    "    cache = {1: 1, 2: 1}\n",
    "\n",
    "    def calc(n):\n",
    "        if n not in cache:\n",
    "            print(f\"Calculating fib for {n}\")\n",
    "            val = calc(n - 1) + calc(n - 2)\n",
    "            cache[n] = val\n",
    "            return val\n",
    "        return cache[n]\n",
    "    return calc"
   ]
  },
  {
   "cell_type": "code",
   "execution_count": 8,
   "id": "b847ebfc-475b-4546-a238-d91c38a8e56b",
   "metadata": {},
   "outputs": [
    {
     "name": "stdout",
     "output_type": "stream",
     "text": [
      "Calculating fib for 5\n",
      "Calculating fib for 4\n",
      "Calculating fib for 3\n"
     ]
    },
    {
     "data": {
      "text/plain": [
       "5"
      ]
     },
     "execution_count": 8,
     "metadata": {},
     "output_type": "execute_result"
    }
   ],
   "source": [
    "f = fib()\n",
    "f(5)"
   ]
  },
  {
   "cell_type": "code",
   "execution_count": 9,
   "id": "3be9067a-fcc1-4c7f-a652-dca0735705f1",
   "metadata": {},
   "outputs": [
    {
     "name": "stdout",
     "output_type": "stream",
     "text": [
      "Calculating fib for 6\n"
     ]
    },
    {
     "data": {
      "text/plain": [
       "8"
      ]
     },
     "execution_count": 9,
     "metadata": {},
     "output_type": "execute_result"
    }
   ],
   "source": [
    "f(6)  # no need to calculate previos values now"
   ]
  },
  {
   "cell_type": "code",
   "execution_count": 10,
   "id": "b6dd311e-9fbb-4256-9564-9e86521080fd",
   "metadata": {},
   "outputs": [
    {
     "name": "stdout",
     "output_type": "stream",
     "text": [
      "Calculating fib for 10\n",
      "Calculating fib for 9\n",
      "Calculating fib for 8\n",
      "Calculating fib for 7\n"
     ]
    },
    {
     "data": {
      "text/plain": [
       "55"
      ]
     },
     "execution_count": 10,
     "metadata": {},
     "output_type": "execute_result"
    }
   ],
   "source": [
    "f(10)"
   ]
  },
  {
   "cell_type": "code",
   "execution_count": 11,
   "id": "f61b253a-1080-44c9-b90b-fcd8f97a7eca",
   "metadata": {},
   "outputs": [
    {
     "data": {
      "text/plain": [
       "34"
      ]
     },
     "execution_count": 11,
     "metadata": {},
     "output_type": "execute_result"
    }
   ],
   "source": [
    "f(9)"
   ]
  },
  {
   "cell_type": "code",
   "execution_count": 12,
   "id": "1099db23-0d3d-4965-aa57-608afc840ce1",
   "metadata": {},
   "outputs": [],
   "source": [
    "from functools import wraps\n",
    "\n",
    "def cache(fn):\n",
    "    cache = {}\n",
    "\n",
    "    @wraps(fn)\n",
    "    def inner(*args, **kwargs):\n",
    "        cache_key = str(fn.__qualname__) + str(args) + str(kwargs)\n",
    "        print(\"CACHE KEY:\", cache_key)\n",
    "        if cache_key not in cache:\n",
    "            print(\"CACHE MISS\")\n",
    "            result = fn(*args, **kwargs)\n",
    "            cache[cache_key] = result\n",
    "        return cache[cache_key]\n",
    "    return inner"
   ]
  },
  {
   "cell_type": "code",
   "execution_count": 13,
   "id": "e07d499e-2852-4272-98f0-ac5dbe35deb3",
   "metadata": {},
   "outputs": [],
   "source": [
    "@cache\n",
    "def my_func_1(*args, **kwargs):\n",
    "    pass\n",
    "\n",
    "@cache\n",
    "def my_func_2(*args, **kwargs):\n",
    "    pass\n"
   ]
  },
  {
   "cell_type": "code",
   "execution_count": 14,
   "id": "5d977248-95a8-4841-9a51-d68439176b35",
   "metadata": {},
   "outputs": [
    {
     "name": "stdout",
     "output_type": "stream",
     "text": [
      "CACHE KEY: my_func_1('a', 'b', 'c'){'d': 'd'}\n",
      "CACHE MISS\n"
     ]
    }
   ],
   "source": [
    "my_func_1(\"a\", \"b\", \"c\", d=\"d\")"
   ]
  },
  {
   "cell_type": "code",
   "execution_count": 15,
   "id": "e093445a-b449-4b14-897f-0472c0776234",
   "metadata": {},
   "outputs": [
    {
     "name": "stdout",
     "output_type": "stream",
     "text": [
      "CACHE KEY: my_func_1('a', 'b', 'c'){'d': 'd'}\n"
     ]
    }
   ],
   "source": [
    "my_func_1(\"a\", \"b\", \"c\", d=\"d\")"
   ]
  },
  {
   "cell_type": "code",
   "execution_count": 16,
   "id": "68769851-1b27-4772-9b13-4206b68f1fa3",
   "metadata": {},
   "outputs": [
    {
     "name": "stdout",
     "output_type": "stream",
     "text": [
      "CACHE KEY: my_func_1('a', 'b', 'x'){'d': 'd'}\n",
      "CACHE MISS\n"
     ]
    }
   ],
   "source": [
    "my_func_1(\"a\", \"b\", \"x\", d=\"d\")"
   ]
  },
  {
   "cell_type": "code",
   "execution_count": 17,
   "id": "0c4cbe88-8744-437b-90df-dd2b2423a033",
   "metadata": {},
   "outputs": [
    {
     "name": "stdout",
     "output_type": "stream",
     "text": [
      "CACHE KEY: my_func_2('a', 'b', 'x'){'d': 'd'}\n",
      "CACHE MISS\n"
     ]
    }
   ],
   "source": [
    "my_func_2(\"a\", \"b\", \"x\", d=\"d\")"
   ]
  },
  {
   "cell_type": "code",
   "execution_count": 18,
   "id": "426aa01c-789e-442e-b2b8-b5ebf82b2b79",
   "metadata": {},
   "outputs": [
    {
     "name": "stdout",
     "output_type": "stream",
     "text": [
      "CACHE KEY: my_func_2('a', 'b', 'x'){'d': 'd'}\n"
     ]
    }
   ],
   "source": [
    "my_func_2(\"a\", \"b\", \"x\", d=\"d\")"
   ]
  },
  {
   "cell_type": "code",
   "execution_count": null,
   "id": "c90de038-50f1-4331-9aad-01cf628ce67d",
   "metadata": {},
   "outputs": [],
   "source": []
  }
 ],
 "metadata": {
  "kernelspec": {
   "display_name": "Python 3 (ipykernel)",
   "language": "python",
   "name": "python3"
  },
  "language_info": {
   "codemirror_mode": {
    "name": "ipython",
    "version": 3
   },
   "file_extension": ".py",
   "mimetype": "text/x-python",
   "name": "python",
   "nbconvert_exporter": "python",
   "pygments_lexer": "ipython3",
   "version": "3.12.3"
  }
 },
 "nbformat": 4,
 "nbformat_minor": 5
}
