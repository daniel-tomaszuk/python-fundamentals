{
 "cells": [
  {
   "cell_type": "code",
   "execution_count": 1,
   "id": "868676be-4692-460f-9d1f-e299d6146e52",
   "metadata": {},
   "outputs": [],
   "source": [
    "# how to parametrize decorators, for example wraps(fn)"
   ]
  },
  {
   "cell_type": "code",
   "execution_count": 2,
   "id": "6bb851ae-2636-412e-897f-2d301922d42c",
   "metadata": {},
   "outputs": [],
   "source": [
    "def timed(fn):\n",
    "    # count is hardcoded, which is not ideal\n",
    "    from time import perf_counter\n",
    "\n",
    "    def inner(*args, **kwargs):\n",
    "        total_elapsed = 0\n",
    "        count = 10\n",
    "        for i in range(count):\n",
    "            start = perf_counter()\n",
    "            \n",
    "            result = fn(*args, **kwargs)\n",
    "            end = perf_counter()\n",
    "            total_elapsed += end - start\n",
    "        print(\"Avg run time: {0:.6f}s\".format(total_elapsed / count))\n",
    "        return result\n",
    "    return inner\n",
    "\n",
    "\n",
    "def calc_fib_recursive(n):\n",
    "    if n <= 2:\n",
    "        return 1\n",
    "    return calc_fib_recursive(n - 2) + calc_fib_recursive(n - 1)\n",
    "\n",
    "\n",
    "def fib(n):\n",
    "    return calc_fib_recursive(n)\n",
    "\n",
    "# manual decorator\n",
    "fib = timed(fib)"
   ]
  },
  {
   "cell_type": "code",
   "execution_count": 3,
   "id": "b7013d77-74cd-4326-ab89-9099e697341f",
   "metadata": {},
   "outputs": [
    {
     "name": "stdout",
     "output_type": "stream",
     "text": [
      "Avg run time: 0.009479s\n"
     ]
    },
    {
     "data": {
      "text/plain": [
       "75025"
      ]
     },
     "execution_count": 3,
     "metadata": {},
     "output_type": "execute_result"
    }
   ],
   "source": [
    "fib(25)"
   ]
  },
  {
   "cell_type": "code",
   "execution_count": 4,
   "id": "95941a42-c6b5-4e5d-a000-ceebce8e5e32",
   "metadata": {},
   "outputs": [],
   "source": [
    "from functools import wraps\n",
    "\n",
    "\n",
    "def timed(reps=5):\n",
    "    \"\"\"Docs timed\"\"\"\n",
    "\n",
    "    def decorator(fn):   \n",
    "        \"\"\"Docs decorator\"\"\"\n",
    "        from time import perf_counter\n",
    "\n",
    "        @wraps(fn)\n",
    "        def inner(*args, **kwargs):\n",
    "            \"\"\"Docs inner\"\"\"\n",
    "            total_elapsed = 0\n",
    "            count = reps\n",
    "            for i in range(count):\n",
    "                start = perf_counter()\n",
    "                \n",
    "                result = fn(*args, **kwargs)\n",
    "                end = perf_counter()\n",
    "                total_elapsed += end - start\n",
    "            print(\"Avg run time: {0:.6f}s ({1} reps)\".format(total_elapsed / count, reps))\n",
    "            return result\n",
    "        return inner\n",
    "    return decorator\n",
    "\n",
    "\n",
    "def calc_fib_recursive(n):\n",
    "    if n <= 2:\n",
    "        return 1\n",
    "    return calc_fib_recursive(n - 2) + calc_fib_recursive(n - 1)\n",
    "\n",
    "\n",
    "def fib(n):\n",
    "    return calc_fib_recursive(n)\n",
    "\n",
    "# manual decorator for 5 repetitions\n",
    "fib = timed(5)(fib)"
   ]
  },
  {
   "cell_type": "code",
   "execution_count": 5,
   "id": "ff6887a2-2de4-4f64-b30f-2a713da5b223",
   "metadata": {},
   "outputs": [
    {
     "name": "stdout",
     "output_type": "stream",
     "text": [
      "Avg run time: 0.011346s (5 reps)\n"
     ]
    },
    {
     "data": {
      "text/plain": [
       "75025"
      ]
     },
     "execution_count": 5,
     "metadata": {},
     "output_type": "execute_result"
    }
   ],
   "source": [
    "fib(25)"
   ]
  },
  {
   "cell_type": "code",
   "execution_count": 6,
   "id": "bb35e671-e0e4-4697-b165-f62941a688fe",
   "metadata": {},
   "outputs": [
    {
     "name": "stdout",
     "output_type": "stream",
     "text": [
      "Help on function timed in module __main__:\n",
      "\n",
      "timed(reps=5)\n",
      "    Docs timed\n",
      "\n"
     ]
    }
   ],
   "source": [
    "help(timed)"
   ]
  },
  {
   "cell_type": "code",
   "execution_count": 7,
   "id": "ba26dbf5-0242-412f-b068-a98be56302cb",
   "metadata": {},
   "outputs": [],
   "source": [
    "@timed(20)\n",
    "def fib(n):\n",
    "    return calc_fib_recursive(n)"
   ]
  },
  {
   "cell_type": "code",
   "execution_count": 8,
   "id": "f56befa8-bf54-4124-8624-1574facd9e1a",
   "metadata": {},
   "outputs": [
    {
     "name": "stdout",
     "output_type": "stream",
     "text": [
      "Avg run time: 0.107433s (20 reps)\n"
     ]
    },
    {
     "data": {
      "text/plain": [
       "832040"
      ]
     },
     "execution_count": 8,
     "metadata": {},
     "output_type": "execute_result"
    }
   ],
   "source": [
    "fib(30)"
   ]
  },
  {
   "cell_type": "code",
   "execution_count": 9,
   "id": "306755dc-989d-4035-b730-0a37bfdbac57",
   "metadata": {},
   "outputs": [
    {
     "data": {
      "text/plain": [
       "(<cell at 0x112a70b20: function object at 0x112a7e700>,\n",
       " <cell at 0x112a72950: builtin_function_or_method object at 0x10f6a9fd0>,\n",
       " <cell at 0x112a72200: int object at 0x110a64fe0>)"
      ]
     },
     "execution_count": 9,
     "metadata": {},
     "output_type": "execute_result"
    }
   ],
   "source": [
    "fib.__closure__"
   ]
  },
  {
   "cell_type": "code",
   "execution_count": 10,
   "id": "af754fe8-596f-4870-9247-e4488caab6ac",
   "metadata": {},
   "outputs": [
    {
     "data": {
      "text/plain": [
       "('fn', 'perf_counter', 'reps')"
      ]
     },
     "execution_count": 10,
     "metadata": {},
     "output_type": "execute_result"
    }
   ],
   "source": [
    "fib.__code__.co_freevars"
   ]
  },
  {
   "cell_type": "code",
   "execution_count": null,
   "id": "70cc9310-454f-4666-a7e7-d92578a41c5d",
   "metadata": {},
   "outputs": [],
   "source": []
  }
 ],
 "metadata": {
  "kernelspec": {
   "display_name": "Python 3 (ipykernel)",
   "language": "python",
   "name": "python3"
  },
  "language_info": {
   "codemirror_mode": {
    "name": "ipython",
    "version": 3
   },
   "file_extension": ".py",
   "mimetype": "text/x-python",
   "name": "python",
   "nbconvert_exporter": "python",
   "pygments_lexer": "ipython3",
   "version": "3.12.3"
  }
 },
 "nbformat": 4,
 "nbformat_minor": 5
}
