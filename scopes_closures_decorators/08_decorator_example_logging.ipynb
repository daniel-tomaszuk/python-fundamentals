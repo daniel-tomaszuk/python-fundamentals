{
 "cells": [
  {
   "cell_type": "code",
   "execution_count": 1,
   "id": "d3dd350b-baa8-4432-afaf-da64e77ce7d0",
   "metadata": {},
   "outputs": [],
   "source": [
    "def logged(fn):\n",
    "    from functools import wraps\n",
    "    from datetime import datetime, timezone\n",
    "\n",
    "    @wraps(fn)\n",
    "    def inner(*args, **kwargs):\n",
    "        current_dt = datetime.now(timezone.utc)\n",
    "        result = fn(*args, **kwargs)\n",
    "        print(\"{0}: called {1}\".format(current_dt, fn.__name__))\n",
    "        return result\n",
    "    return inner\n"
   ]
  },
  {
   "cell_type": "code",
   "execution_count": 2,
   "id": "5258c559-0b97-4127-815f-9203b031c99e",
   "metadata": {},
   "outputs": [],
   "source": [
    "@logged\n",
    "def func_1():\n",
    "    pass\n",
    "\n",
    "@logged\n",
    "def func_2():\n",
    "    pass\n"
   ]
  },
  {
   "cell_type": "code",
   "execution_count": 3,
   "id": "5432bedd-e49d-4bdf-8b7a-325454e33184",
   "metadata": {},
   "outputs": [
    {
     "name": "stdout",
     "output_type": "stream",
     "text": [
      "2024-07-13 12:55:40.241065+00:00: called func_1\n"
     ]
    }
   ],
   "source": [
    "func_1()"
   ]
  },
  {
   "cell_type": "code",
   "execution_count": 4,
   "id": "c7950b53-2404-4097-9ce9-df1e94a2e196",
   "metadata": {},
   "outputs": [
    {
     "name": "stdout",
     "output_type": "stream",
     "text": [
      "2024-07-13 12:55:40.258803+00:00: called func_2\n"
     ]
    }
   ],
   "source": [
    "func_2()"
   ]
  },
  {
   "cell_type": "code",
   "execution_count": 5,
   "id": "8512d501-822b-440e-8999-303d994bc749",
   "metadata": {},
   "outputs": [],
   "source": [
    "def timed(fn):\n",
    "    from functools import wraps\n",
    "    from time import perf_counter\n",
    "\n",
    "    @wraps(fn)\n",
    "    def inner(*args, **kwargs):\n",
    "        start = perf_counter()\n",
    "        result = fn(*args, **kwargs)\n",
    "        end = perf_counter()\n",
    "        elapsed = end - start\n",
    "\n",
    "        args_ = [str(a) for a in args]\n",
    "        kwargs_ = [f\"{k}={v}\" for k, v in kwargs.items()]\n",
    "        all_args = args_ + kwargs_\n",
    "        args_str = \",\".join(args_)\n",
    "        kwargs_str = \",\".join(kwargs_)\n",
    "        print(\"{0}({1}) took {2:.6f}s to run\".format(fn.__name__, args_str, elapsed))\n",
    "        return result\n",
    "    return inner"
   ]
  },
  {
   "cell_type": "code",
   "execution_count": 6,
   "id": "a4a8c3b1-0f37-49e6-aaee-22bac20028bd",
   "metadata": {},
   "outputs": [],
   "source": [
    "from functools import reduce\n",
    "from operator import mul\n",
    "\n",
    "@logged\n",
    "@timed\n",
    "def fact(n):\n",
    "    initial = 1\n",
    "    return reduce(mul, range(1, n + 1))\n"
   ]
  },
  {
   "cell_type": "code",
   "execution_count": 7,
   "id": "7f53ed98-90a8-474a-9e35-f5d5c58a6416",
   "metadata": {},
   "outputs": [
    {
     "name": "stdout",
     "output_type": "stream",
     "text": [
      "fact(3) took 0.000004s to run\n",
      "2024-07-13 12:55:40.298461+00:00: called fact\n"
     ]
    },
    {
     "data": {
      "text/plain": [
       "6"
      ]
     },
     "execution_count": 7,
     "metadata": {},
     "output_type": "execute_result"
    }
   ],
   "source": [
    "fact(3)"
   ]
  },
  {
   "cell_type": "code",
   "execution_count": 8,
   "id": "ec28278c-48f8-4ba5-812d-55598597193f",
   "metadata": {},
   "outputs": [
    {
     "name": "stdout",
     "output_type": "stream",
     "text": [
      "fact(5) took 0.000005s to run\n",
      "2024-07-13 12:55:40.314090+00:00: called fact\n"
     ]
    },
    {
     "data": {
      "text/plain": [
       "120"
      ]
     },
     "execution_count": 8,
     "metadata": {},
     "output_type": "execute_result"
    }
   ],
   "source": [
    "fact(5)"
   ]
  },
  {
   "cell_type": "code",
   "execution_count": 9,
   "id": "5c1b520e-d600-431e-bb8c-1321c0ec9d5f",
   "metadata": {},
   "outputs": [
    {
     "name": "stdout",
     "output_type": "stream",
     "text": [
      "fact(22) took 0.000006s to run\n",
      "2024-07-13 12:55:40.326376+00:00: called fact\n"
     ]
    },
    {
     "data": {
      "text/plain": [
       "1124000727777607680000"
      ]
     },
     "execution_count": 9,
     "metadata": {},
     "output_type": "execute_result"
    }
   ],
   "source": [
    "fact(22)"
   ]
  },
  {
   "cell_type": "code",
   "execution_count": 10,
   "id": "0c77cf3e-fabf-476b-8ccd-c0c6c99179ce",
   "metadata": {},
   "outputs": [
    {
     "data": {
      "text/plain": [
       "(<cell at 0x10af5c4f0: type object at 0x108374ba8>,\n",
       " <cell at 0x10af4ad40: function object at 0x10af5b6a0>,\n",
       " <cell at 0x10af5c520: type object at 0x108374868>)"
      ]
     },
     "execution_count": 10,
     "metadata": {},
     "output_type": "execute_result"
    }
   ],
   "source": [
    "fact.__closure__"
   ]
  },
  {
   "cell_type": "code",
   "execution_count": 11,
   "id": "c4f4a429-2fd8-4180-a042-97809e49450d",
   "metadata": {},
   "outputs": [
    {
     "data": {
      "text/plain": [
       "('datetime', 'fn', 'timezone')"
      ]
     },
     "execution_count": 11,
     "metadata": {},
     "output_type": "execute_result"
    }
   ],
   "source": [
    "fact.__code__.co_freevars"
   ]
  },
  {
   "cell_type": "code",
   "execution_count": 12,
   "id": "b43f78ac-586a-4e7e-a262-4f249b10e493",
   "metadata": {},
   "outputs": [
    {
     "name": "stdout",
     "output_type": "stream",
     "text": [
      "outer dec_3\n",
      "outer dec_2\n",
      "outer dec_1\n"
     ]
    }
   ],
   "source": [
    "def dec_1(fn):\n",
    "    def inner(*args, **kwargs):\n",
    "        print(\"inner dec_1\")\n",
    "        return fn(*args, **kwargs)\n",
    "    print(\"outer dec_1\")\n",
    "    return inner\n",
    "\n",
    "def dec_2(fn):\n",
    "    def inner(*args, **kwargs):\n",
    "        print(\"inner dec_2\")\n",
    "        return fn(*args, **kwargs)\n",
    "    print(\"outer dec_2\")\n",
    "    return inner\n",
    "\n",
    "def dec_3(fn):\n",
    "    def inner(*args, **kwargs):\n",
    "        print(\"inner dec_3\")\n",
    "        return fn(*args, **kwargs)\n",
    "    print(\"outer dec_3\")\n",
    "    return inner\n",
    "\n",
    "@dec_1\n",
    "@dec_2\n",
    "@dec_3\n",
    "def my_func():\n",
    "    return \"My func!\"\n"
   ]
  },
  {
   "cell_type": "code",
   "execution_count": 13,
   "id": "c60c1f5e-05f3-4ad7-98a0-4233079ed001",
   "metadata": {},
   "outputs": [
    {
     "name": "stdout",
     "output_type": "stream",
     "text": [
      "inner dec_1\n",
      "inner dec_2\n",
      "inner dec_3\n"
     ]
    },
    {
     "data": {
      "text/plain": [
       "'My func!'"
      ]
     },
     "execution_count": 13,
     "metadata": {},
     "output_type": "execute_result"
    }
   ],
   "source": [
    "my_func()"
   ]
  },
  {
   "cell_type": "code",
   "execution_count": 14,
   "id": "298e79ff-0c67-4b1d-957b-add91044aa5d",
   "metadata": {},
   "outputs": [
    {
     "data": {
      "text/plain": [
       "(<cell at 0x10af5e9e0: function object at 0x10af7cc20>,)"
      ]
     },
     "execution_count": 14,
     "metadata": {},
     "output_type": "execute_result"
    }
   ],
   "source": [
    "my_func.__closure__"
   ]
  },
  {
   "cell_type": "code",
   "execution_count": null,
   "id": "e3d3b3ae-7051-4386-aae9-5ee203d80399",
   "metadata": {},
   "outputs": [],
   "source": []
  }
 ],
 "metadata": {
  "kernelspec": {
   "display_name": "Python 3 (ipykernel)",
   "language": "python",
   "name": "python3"
  },
  "language_info": {
   "codemirror_mode": {
    "name": "ipython",
    "version": 3
   },
   "file_extension": ".py",
   "mimetype": "text/x-python",
   "name": "python",
   "nbconvert_exporter": "python",
   "pygments_lexer": "ipython3",
   "version": "3.12.3"
  }
 },
 "nbformat": 4,
 "nbformat_minor": 5
}
