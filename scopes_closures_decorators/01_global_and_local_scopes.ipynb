{
 "cells": [
  {
   "cell_type": "code",
   "execution_count": 3,
   "id": "c15dac7c-b7a3-450d-a1a2-8bc93c77eb27",
   "metadata": {},
   "outputs": [],
   "source": [
    "a = 10\n",
    "\n",
    "def my_func(n):\n",
    "    print(\"global a:\", a)\n",
    "    c = a ** 2\n",
    "    return c"
   ]
  },
  {
   "cell_type": "code",
   "execution_count": 4,
   "id": "124f8fb5-1a50-4470-9ed4-6caf27aab32a",
   "metadata": {},
   "outputs": [
    {
     "name": "stdout",
     "output_type": "stream",
     "text": [
      "global a: 10\n"
     ]
    },
    {
     "data": {
      "text/plain": [
       "100"
      ]
     },
     "execution_count": 4,
     "metadata": {},
     "output_type": "execute_result"
    }
   ],
   "source": [
    "my_func(2)"
   ]
  },
  {
   "cell_type": "code",
   "execution_count": 7,
   "id": "8f5fbf02-beec-42e6-ae96-515f18f6abfa",
   "metadata": {},
   "outputs": [],
   "source": [
    "def my_func(n):\n",
    "    a = 20  # creates localvariable that maskas `a` from global var\n",
    "    print(\"a\", a)\n",
    "    c = a ** n \n",
    "    return c"
   ]
  },
  {
   "cell_type": "code",
   "execution_count": 8,
   "id": "358052d0-4d97-481d-af59-40684f8010f1",
   "metadata": {},
   "outputs": [
    {
     "name": "stdout",
     "output_type": "stream",
     "text": [
      "10\n",
      "a 20\n"
     ]
    },
    {
     "data": {
      "text/plain": [
       "400"
      ]
     },
     "execution_count": 8,
     "metadata": {},
     "output_type": "execute_result"
    }
   ],
   "source": [
    "print(a)\n",
    "my_func(2)"
   ]
  },
  {
   "cell_type": "code",
   "execution_count": 9,
   "id": "e1a1d6db-192a-41b9-876d-e79205d14400",
   "metadata": {},
   "outputs": [],
   "source": [
    "def my_func(n):\n",
    "    global a  # now we can modify global a\n",
    "    a = 20  \n",
    "    print(\"a\", a)\n",
    "    c = a ** n \n",
    "    return c"
   ]
  },
  {
   "cell_type": "code",
   "execution_count": 10,
   "id": "f3c44307-222d-4bc3-be2e-542636d87bf8",
   "metadata": {},
   "outputs": [
    {
     "name": "stdout",
     "output_type": "stream",
     "text": [
      "10\n"
     ]
    }
   ],
   "source": [
    "print(a)"
   ]
  },
  {
   "cell_type": "code",
   "execution_count": 11,
   "id": "3de05fd0-522e-4a06-97d2-715f3e0895e4",
   "metadata": {},
   "outputs": [
    {
     "name": "stdout",
     "output_type": "stream",
     "text": [
      "a 20\n"
     ]
    },
    {
     "data": {
      "text/plain": [
       "400"
      ]
     },
     "execution_count": 11,
     "metadata": {},
     "output_type": "execute_result"
    }
   ],
   "source": [
    "my_func(2)"
   ]
  },
  {
   "cell_type": "code",
   "execution_count": 12,
   "id": "3fe3e9e5-0e94-4841-bf5c-a3a09d11b321",
   "metadata": {},
   "outputs": [
    {
     "name": "stdout",
     "output_type": "stream",
     "text": [
      "20\n"
     ]
    }
   ],
   "source": [
    "print(a)"
   ]
  },
  {
   "cell_type": "code",
   "execution_count": 13,
   "id": "caf489c2-4794-4acd-8a25-c8adc4dfb71f",
   "metadata": {},
   "outputs": [],
   "source": [
    "def my_func():\n",
    "    global var\n",
    "    var = \"Hi\"\n",
    "    "
   ]
  },
  {
   "cell_type": "code",
   "execution_count": 16,
   "id": "1cc8508c-558f-4148-8461-b3b0f171a347",
   "metadata": {},
   "outputs": [
    {
     "name": "stdout",
     "output_type": "stream",
     "text": [
      "name 'var' is not defined\n"
     ]
    }
   ],
   "source": [
    "try:\n",
    "    print(var)\n",
    "except NameError as e:\n",
    "    print(e)"
   ]
  },
  {
   "cell_type": "code",
   "execution_count": 19,
   "id": "7d19c91e-414d-4aa9-9f4a-face65baa45e",
   "metadata": {},
   "outputs": [],
   "source": [
    "my_func()  # assigns value to gloval var"
   ]
  },
  {
   "cell_type": "code",
   "execution_count": 20,
   "id": "ca650e29-1063-47fe-81e8-0795b2ced5f4",
   "metadata": {},
   "outputs": [
    {
     "name": "stdout",
     "output_type": "stream",
     "text": [
      "Hi\n"
     ]
    }
   ],
   "source": [
    "print(var)"
   ]
  },
  {
   "cell_type": "code",
   "execution_count": 21,
   "id": "093cc93c-f698-49ff-b9eb-bb52da8aa059",
   "metadata": {},
   "outputs": [
    {
     "name": "stdout",
     "output_type": "stream",
     "text": [
      "global a: 1234\n"
     ]
    }
   ],
   "source": [
    "a = 10\n",
    "def my_func():\n",
    "    global a\n",
    "    a = 1234\n",
    "    print(\"global a:\", a)\n",
    "\n",
    "my_func()"
   ]
  },
  {
   "cell_type": "code",
   "execution_count": 26,
   "id": "c7085f1c-6a87-41d4-8990-f10af98c5174",
   "metadata": {},
   "outputs": [],
   "source": [
    "a = 10\n",
    "\n",
    "def my_func():\n",
    "    # tricky ;)\n",
    "    print(\"a from outer scope\", a)\n",
    "    a = \"hello\"  # at complie time interpreter creates scope where this var `a` is local\n",
    "    print(\"a from local scope\", a)"
   ]
  },
  {
   "cell_type": "code",
   "execution_count": 25,
   "id": "ae302e80-dce4-4b19-8729-833275b9dfcd",
   "metadata": {},
   "outputs": [
    {
     "name": "stdout",
     "output_type": "stream",
     "text": [
      "<class 'UnboundLocalError'> cannot access local variable 'a' where it is not associated with a value\n"
     ]
    }
   ],
   "source": [
    "try:\n",
    "    my_func()\n",
    "except UnboundLocalError as e:\n",
    "    print(type(e), e)"
   ]
  },
  {
   "cell_type": "code",
   "execution_count": 27,
   "id": "e9c66e11-4b31-47cb-a64a-92006d86d594",
   "metadata": {},
   "outputs": [
    {
     "name": "stdout",
     "output_type": "stream",
     "text": [
      "100\n"
     ]
    }
   ],
   "source": [
    "f = lambda n: print(a ** n)\n",
    "f(2)"
   ]
  },
  {
   "cell_type": "code",
   "execution_count": 28,
   "id": "0cba888c-64da-43bf-bb02-111f6925ac48",
   "metadata": {},
   "outputs": [
    {
     "data": {
      "text/plain": [
       "'My custom print: test'"
      ]
     },
     "execution_count": 28,
     "metadata": {},
     "output_type": "execute_result"
    }
   ],
   "source": [
    "print = lambda x: f\"My custom print: {x}\"\n",
    "\n",
    "print(\"test\")"
   ]
  },
  {
   "cell_type": "code",
   "execution_count": 29,
   "id": "8d76b159-cafa-468a-a891-adc2b225be07",
   "metadata": {},
   "outputs": [],
   "source": [
    "del print"
   ]
  },
  {
   "cell_type": "code",
   "execution_count": 30,
   "id": "5fa0758b-9570-4600-8345-8beb65772369",
   "metadata": {},
   "outputs": [
    {
     "name": "stdout",
     "output_type": "stream",
     "text": [
      "Works again!\n"
     ]
    }
   ],
   "source": [
    "print(\"Works again!\")"
   ]
  },
  {
   "cell_type": "code",
   "execution_count": 32,
   "id": "d58a535a-d3ba-4344-808b-af67fb06ce1d",
   "metadata": {},
   "outputs": [
    {
     "name": "stdout",
     "output_type": "stream",
     "text": [
      "9 18\n"
     ]
    }
   ],
   "source": [
    "for i in range(10):\n",
    "    x = 2 * i\n",
    "\n",
    "print(i, x)"
   ]
  },
  {
   "cell_type": "code",
   "execution_count": null,
   "id": "bbb7b7bd-954e-454a-857d-fd5eb9cf4df1",
   "metadata": {},
   "outputs": [],
   "source": []
  }
 ],
 "metadata": {
  "kernelspec": {
   "display_name": "Python 3 (ipykernel)",
   "language": "python",
   "name": "python3"
  },
  "language_info": {
   "codemirror_mode": {
    "name": "ipython",
    "version": 3
   },
   "file_extension": ".py",
   "mimetype": "text/x-python",
   "name": "python",
   "nbconvert_exporter": "python",
   "pygments_lexer": "ipython3",
   "version": "3.12.3"
  }
 },
 "nbformat": 4,
 "nbformat_minor": 5
}
