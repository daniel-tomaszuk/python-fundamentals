{
 "cells": [
  {
   "cell_type": "code",
   "execution_count": 1,
   "id": "fd246b23-ca0b-4a26-8638-9306fe0da507",
   "metadata": {},
   "outputs": [],
   "source": [
    "class Averager:\n",
    "    def __init__(self):\n",
    "        self.numbers = []\n",
    "\n",
    "    def add(self, number):\n",
    "        self.numbers.append(number)\n",
    "        total = sum(self.numbers)\n",
    "        return total / len(self.numbers)\n"
   ]
  },
  {
   "cell_type": "code",
   "execution_count": 2,
   "id": "8fa0bc73-0027-4897-98f6-8949f927dc1d",
   "metadata": {},
   "outputs": [
    {
     "data": {
      "text/plain": [
       "15.0"
      ]
     },
     "execution_count": 2,
     "metadata": {},
     "output_type": "execute_result"
    }
   ],
   "source": [
    "a = Averager()\n",
    "\n",
    "a.add(10)\n",
    "a.add(20)"
   ]
  },
  {
   "cell_type": "code",
   "execution_count": 3,
   "id": "0af925ab-7fd5-4508-8d30-fb2dfd118130",
   "metadata": {},
   "outputs": [
    {
     "data": {
      "text/plain": [
       "11.333333333333334"
      ]
     },
     "execution_count": 3,
     "metadata": {},
     "output_type": "execute_result"
    }
   ],
   "source": [
    "a.add(4)"
   ]
  },
  {
   "cell_type": "code",
   "execution_count": 4,
   "id": "b49e8f78-ec99-4e10-997c-c82a53381ad8",
   "metadata": {},
   "outputs": [],
   "source": [
    "def averager():\n",
    "    numbers = []\n",
    "    def add(number):\n",
    "        numbers.append(number)\n",
    "        total = sum(numbers)\n",
    "        return total / len(numbers)\n",
    "    return add\n"
   ]
  },
  {
   "cell_type": "code",
   "execution_count": 5,
   "id": "801f369b-d63e-4825-8777-f449a6ce990e",
   "metadata": {},
   "outputs": [
    {
     "data": {
      "text/plain": [
       "10.0"
      ]
     },
     "execution_count": 5,
     "metadata": {},
     "output_type": "execute_result"
    }
   ],
   "source": [
    "a1 = averager()\n",
    "a1(10)"
   ]
  },
  {
   "cell_type": "code",
   "execution_count": 6,
   "id": "ea36050c-6226-4c70-b0b9-74dbfed9076d",
   "metadata": {},
   "outputs": [
    {
     "data": {
      "text/plain": [
       "15.0"
      ]
     },
     "execution_count": 6,
     "metadata": {},
     "output_type": "execute_result"
    }
   ],
   "source": [
    "a1(20)"
   ]
  },
  {
   "cell_type": "code",
   "execution_count": 7,
   "id": "4d4f49fc-e8fd-458e-ae6e-89fd96b8e5bd",
   "metadata": {},
   "outputs": [
    {
     "data": {
      "text/plain": [
       "20.0"
      ]
     },
     "execution_count": 7,
     "metadata": {},
     "output_type": "execute_result"
    }
   ],
   "source": [
    "a1(30)"
   ]
  },
  {
   "cell_type": "code",
   "execution_count": 8,
   "id": "12a1b86f-5635-4177-a06c-17c45e05b1ea",
   "metadata": {},
   "outputs": [
    {
     "data": {
      "text/plain": [
       "5.0"
      ]
     },
     "execution_count": 8,
     "metadata": {},
     "output_type": "execute_result"
    }
   ],
   "source": [
    "b1 = averager()\n",
    "b1(5)"
   ]
  },
  {
   "cell_type": "code",
   "execution_count": 9,
   "id": "01b67c95-8279-4718-8f42-326640d93555",
   "metadata": {},
   "outputs": [
    {
     "data": {
      "text/plain": [
       "3.5"
      ]
     },
     "execution_count": 9,
     "metadata": {},
     "output_type": "execute_result"
    }
   ],
   "source": [
    "b1(2)"
   ]
  },
  {
   "cell_type": "code",
   "execution_count": 10,
   "id": "2365fbfe-a07a-462e-b649-668b6ac9dc17",
   "metadata": {},
   "outputs": [
    {
     "data": {
      "text/plain": [
       "((<cell at 0x105d0c160: list object at 0x105cf3440>,),\n",
       " (<cell at 0x105d0d9c0: list object at 0x105ce9e80>,))"
      ]
     },
     "execution_count": 10,
     "metadata": {},
     "output_type": "execute_result"
    }
   ],
   "source": [
    "a1.__closure__, b1.__closure__"
   ]
  },
  {
   "cell_type": "code",
   "execution_count": 11,
   "id": "18226294-58ba-46fb-b8ad-f282d41ccc23",
   "metadata": {},
   "outputs": [],
   "source": [
    "def averager():\n",
    "    total = 0\n",
    "    count = 0\n",
    "    def add(number):\n",
    "        nonlocal total\n",
    "        nonlocal count \n",
    "\n",
    "        total += number\n",
    "        count += 1\n",
    "        return total / count\n",
    "    return add"
   ]
  },
  {
   "cell_type": "code",
   "execution_count": 12,
   "id": "4be816e7-d3b6-4c4b-8976-7a5d3ea295a3",
   "metadata": {},
   "outputs": [
    {
     "data": {
      "text/plain": [
       "10.0"
      ]
     },
     "execution_count": 12,
     "metadata": {},
     "output_type": "execute_result"
    }
   ],
   "source": [
    "a = averager()\n",
    "a(10)"
   ]
  },
  {
   "cell_type": "code",
   "execution_count": 13,
   "id": "d8d1e20e-450d-4da3-a1f6-549a7c1311b2",
   "metadata": {},
   "outputs": [
    {
     "data": {
      "text/plain": [
       "15.0"
      ]
     },
     "execution_count": 13,
     "metadata": {},
     "output_type": "execute_result"
    }
   ],
   "source": [
    "a(20)"
   ]
  },
  {
   "cell_type": "code",
   "execution_count": 14,
   "id": "c5157218-91f2-4235-96c4-a5217a6acb49",
   "metadata": {},
   "outputs": [
    {
     "data": {
      "text/plain": [
       "(<cell at 0x105d0ec20: int object at 0x103d0ada0>,\n",
       " <cell at 0x105d0e530: int object at 0x103d0b120>)"
      ]
     },
     "execution_count": 14,
     "metadata": {},
     "output_type": "execute_result"
    }
   ],
   "source": [
    "a.__closure__"
   ]
  },
  {
   "cell_type": "code",
   "execution_count": 15,
   "id": "d8a82bf8-de51-402d-b0a3-fb4d71f9c6ce",
   "metadata": {},
   "outputs": [
    {
     "data": {
      "text/plain": [
       "100.0"
      ]
     },
     "execution_count": 15,
     "metadata": {},
     "output_type": "execute_result"
    }
   ],
   "source": [
    "b = averager()\n",
    "b(100)"
   ]
  },
  {
   "cell_type": "code",
   "execution_count": 16,
   "id": "61ec256c-2cfb-4c10-8c77-ffc1e9d57819",
   "metadata": {},
   "outputs": [
    {
     "data": {
      "text/plain": [
       "150.0"
      ]
     },
     "execution_count": 16,
     "metadata": {},
     "output_type": "execute_result"
    }
   ],
   "source": [
    "b(200)"
   ]
  },
  {
   "cell_type": "code",
   "execution_count": 17,
   "id": "88728111-4b9f-4dce-833d-0597d58ec216",
   "metadata": {},
   "outputs": [
    {
     "data": {
      "text/plain": [
       "(<cell at 0x105d0fbb0: int object at 0x103d0ada0>,\n",
       " <cell at 0x105d0f6d0: int object at 0x105cb9d10>)"
      ]
     },
     "execution_count": 17,
     "metadata": {},
     "output_type": "execute_result"
    }
   ],
   "source": [
    "b.__closure__"
   ]
  },
  {
   "cell_type": "code",
   "execution_count": 18,
   "id": "d56620b7-9f4e-41c8-98a7-77b57cae4130",
   "metadata": {},
   "outputs": [
    {
     "data": {
      "text/plain": [
       "10.0"
      ]
     },
     "execution_count": 18,
     "metadata": {},
     "output_type": "execute_result"
    }
   ],
   "source": [
    "a(0)"
   ]
  },
  {
   "cell_type": "code",
   "execution_count": 19,
   "id": "c8bd1a97-4ae8-4883-9a61-98422257e78d",
   "metadata": {},
   "outputs": [
    {
     "data": {
      "text/plain": [
       "(<cell at 0x105d0ec20: int object at 0x103d0adc0>,\n",
       " <cell at 0x105d0e530: int object at 0x103d0b120>)"
      ]
     },
     "execution_count": 19,
     "metadata": {},
     "output_type": "execute_result"
    }
   ],
   "source": [
    "a.__closure__"
   ]
  },
  {
   "cell_type": "code",
   "execution_count": 20,
   "id": "b66c23ca-b18b-4136-9036-759b760b25ee",
   "metadata": {},
   "outputs": [
    {
     "data": {
      "text/plain": [
       "(<cell at 0x105d0fbb0: int object at 0x103d0ada0>,\n",
       " <cell at 0x105d0f6d0: int object at 0x105cb9d10>)"
      ]
     },
     "execution_count": 20,
     "metadata": {},
     "output_type": "execute_result"
    }
   ],
   "source": [
    "b.__closure__"
   ]
  },
  {
   "cell_type": "code",
   "execution_count": 21,
   "id": "d893d3ec-46f2-4fde-bbdc-f2483121b187",
   "metadata": {},
   "outputs": [],
   "source": [
    "from time import perf_counter\n",
    "\n",
    "\n",
    "class Timer:\n",
    "    def __init__(self):\n",
    "        self.start = perf_counter()\n",
    "\n",
    "    def poll(self):\n",
    "        return perf_counter() - self.start\n",
    "\n",
    "    def __call__(self):\n",
    "        return self.poll()\n"
   ]
  },
  {
   "cell_type": "code",
   "execution_count": 30,
   "id": "769debe5-5d4f-4c73-ab57-4413a80dbb2c",
   "metadata": {},
   "outputs": [],
   "source": [
    "t1 = Timer()"
   ]
  },
  {
   "cell_type": "code",
   "execution_count": 31,
   "id": "12001a59-6b3b-44da-a540-c4ec48567a0c",
   "metadata": {},
   "outputs": [
    {
     "data": {
      "text/plain": [
       "2.027980361000118"
      ]
     },
     "execution_count": 31,
     "metadata": {},
     "output_type": "execute_result"
    }
   ],
   "source": [
    "t1.poll()"
   ]
  },
  {
   "cell_type": "code",
   "execution_count": 32,
   "id": "3717bcd4-856b-407c-b9b6-7b5f466f1d60",
   "metadata": {},
   "outputs": [
    {
     "data": {
      "text/plain": [
       "4.579383668999981"
      ]
     },
     "execution_count": 32,
     "metadata": {},
     "output_type": "execute_result"
    }
   ],
   "source": [
    "t1.poll()"
   ]
  },
  {
   "cell_type": "code",
   "execution_count": 33,
   "id": "06843b7c-ec3d-40ad-a195-12ce9cb22044",
   "metadata": {},
   "outputs": [
    {
     "data": {
      "text/plain": [
       "7.162360243999956"
      ]
     },
     "execution_count": 33,
     "metadata": {},
     "output_type": "execute_result"
    }
   ],
   "source": [
    "t1()"
   ]
  },
  {
   "cell_type": "code",
   "execution_count": 34,
   "id": "ff8c035c-fb9e-4d34-9141-5e27a3879892",
   "metadata": {},
   "outputs": [],
   "source": [
    "def timer():\n",
    "    start = perf_counter()\n",
    "\n",
    "    def poll():\n",
    "        return perf_counter() - start\n",
    "    return poll\n"
   ]
  },
  {
   "cell_type": "code",
   "execution_count": 35,
   "id": "d9eb50dc-4672-4b07-8ddc-f8e580762c29",
   "metadata": {},
   "outputs": [],
   "source": [
    "t2 = timer()"
   ]
  },
  {
   "cell_type": "code",
   "execution_count": 36,
   "id": "cb35d83e-1232-4ada-a168-66360a76f4ae",
   "metadata": {},
   "outputs": [
    {
     "data": {
      "text/plain": [
       "1.8299531119998846"
      ]
     },
     "execution_count": 36,
     "metadata": {},
     "output_type": "execute_result"
    }
   ],
   "source": [
    "t2()"
   ]
  },
  {
   "cell_type": "code",
   "execution_count": 37,
   "id": "67f2071a-751d-4af8-a023-bbbe5dfa41f4",
   "metadata": {},
   "outputs": [
    {
     "data": {
      "text/plain": [
       "4.309356360000038"
      ]
     },
     "execution_count": 37,
     "metadata": {},
     "output_type": "execute_result"
    }
   ],
   "source": [
    "t2()"
   ]
  }
 ],
 "metadata": {
  "kernelspec": {
   "display_name": "Python 3 (ipykernel)",
   "language": "python",
   "name": "python3"
  },
  "language_info": {
   "codemirror_mode": {
    "name": "ipython",
    "version": 3
   },
   "file_extension": ".py",
   "mimetype": "text/x-python",
   "name": "python",
   "nbconvert_exporter": "python",
   "pygments_lexer": "ipython3",
   "version": "3.12.3"
  }
 },
 "nbformat": 4,
 "nbformat_minor": 5
}
