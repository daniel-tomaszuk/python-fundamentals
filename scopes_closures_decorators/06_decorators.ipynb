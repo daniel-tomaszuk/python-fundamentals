{
 "cells": [
  {
   "cell_type": "code",
   "execution_count": 1,
   "id": "2e7ed3a3-d115-4743-b1fc-0f2140d9059d",
   "metadata": {},
   "outputs": [],
   "source": [
    "def counter(fn):\n",
    "    count = 0\n",
    "\n",
    "    def inner(*args, **kwargs):\n",
    "        \"\"\"inner function of a counter\"\"\"\n",
    "        nonlocal count\n",
    "        count += 1\n",
    "        print(f\"Founction ID {id(fn)}: {fn.__name__} was called {count} times\")\n",
    "        return fn(*args, **kwargs)\n",
    "    return inner"
   ]
  },
  {
   "cell_type": "code",
   "execution_count": 2,
   "id": "bdcf6d24-ed76-40a5-a6bc-49f66f6f82c2",
   "metadata": {},
   "outputs": [],
   "source": [
    "def add(a: int, b: int) -> int:\n",
    "    \"\"\"Adds two values\"\"\"\n",
    "    return a + b\n",
    "    "
   ]
  },
  {
   "cell_type": "code",
   "execution_count": 3,
   "id": "e009615f-2a3a-46e1-bfb3-40eae0b8a682",
   "metadata": {},
   "outputs": [
    {
     "name": "stdout",
     "output_type": "stream",
     "text": [
      "4485097696\n",
      "Help on function add in module __main__:\n",
      "\n",
      "add(a: int, b: int) -> int\n",
      "    Adds two values\n",
      "\n"
     ]
    }
   ],
   "source": [
    "print(id(add))\n",
    "help(add)"
   ]
  },
  {
   "cell_type": "code",
   "execution_count": 4,
   "id": "b315773b-c939-4019-bcd0-b0ffcfe50f4e",
   "metadata": {},
   "outputs": [],
   "source": [
    "add = counter(add)"
   ]
  },
  {
   "cell_type": "code",
   "execution_count": 5,
   "id": "6191666b-3008-4997-a33a-9fc05504ff5d",
   "metadata": {},
   "outputs": [
    {
     "name": "stdout",
     "output_type": "stream",
     "text": [
      "4485099456\n",
      "Help on function inner in module __main__:\n",
      "\n",
      "inner(*args, **kwargs)\n",
      "    inner function of a counter\n",
      "\n"
     ]
    }
   ],
   "source": [
    "print(id(add))\n",
    "help(add)  # all meta data has been lost, now it's data of inner"
   ]
  },
  {
   "cell_type": "code",
   "execution_count": 6,
   "id": "aa8b0292-71c8-4f3f-a1f6-0f0191d3bfee",
   "metadata": {},
   "outputs": [
    {
     "name": "stdout",
     "output_type": "stream",
     "text": [
      "Founction ID 4485097696: add was called 1 times\n"
     ]
    },
    {
     "data": {
      "text/plain": [
       "30"
      ]
     },
     "execution_count": 6,
     "metadata": {},
     "output_type": "execute_result"
    }
   ],
   "source": [
    "add(10, 20)"
   ]
  },
  {
   "cell_type": "code",
   "execution_count": 7,
   "id": "29b10e20-9088-4efb-a101-9e36496e1270",
   "metadata": {},
   "outputs": [
    {
     "name": "stdout",
     "output_type": "stream",
     "text": [
      "Founction ID 4485097696: add was called 2 times\n"
     ]
    },
    {
     "data": {
      "text/plain": [
       "7"
      ]
     },
     "execution_count": 7,
     "metadata": {},
     "output_type": "execute_result"
    }
   ],
   "source": [
    "add(5, 2)"
   ]
  },
  {
   "cell_type": "code",
   "execution_count": 8,
   "id": "d437f79a-15b4-4b71-a5d7-72ca60b16357",
   "metadata": {},
   "outputs": [],
   "source": [
    "def mult(a: int, b:int, c: int = 1):\n",
    "    \"\"\"Multiply values\"\"\"\n",
    "    return a * b * c"
   ]
  },
  {
   "cell_type": "code",
   "execution_count": 9,
   "id": "f4065012-415b-44ef-8b6b-da173bdb6130",
   "metadata": {},
   "outputs": [],
   "source": [
    "mult = counter(mult)"
   ]
  },
  {
   "cell_type": "code",
   "execution_count": 10,
   "id": "769c17cd-1d06-4f63-8429-245ea5703177",
   "metadata": {},
   "outputs": [
    {
     "name": "stdout",
     "output_type": "stream",
     "text": [
      "Founction ID 4485219328: mult was called 1 times\n"
     ]
    },
    {
     "data": {
      "text/plain": [
       "24"
      ]
     },
     "execution_count": 10,
     "metadata": {},
     "output_type": "execute_result"
    }
   ],
   "source": [
    "mult(2, 3, 4)"
   ]
  },
  {
   "cell_type": "code",
   "execution_count": 11,
   "id": "a8135575-4908-40f3-9841-cdee0f5c5fa9",
   "metadata": {},
   "outputs": [
    {
     "name": "stdout",
     "output_type": "stream",
     "text": [
      "Help on function inner in module __main__:\n",
      "\n",
      "inner(*args, **kwargs)\n",
      "    inner function of a counter\n",
      "\n"
     ]
    }
   ],
   "source": [
    "help(mult)"
   ]
  },
  {
   "cell_type": "code",
   "execution_count": 12,
   "id": "edd5eb3a-4acd-4020-9df4-a8f3f11e00a7",
   "metadata": {},
   "outputs": [],
   "source": [
    "@counter\n",
    "def my_func(s: str, i: int) -> str:\n",
    "    \"\"\"Multiply a string\"\"\"\n",
    "    return s * i"
   ]
  },
  {
   "cell_type": "code",
   "execution_count": 13,
   "id": "be039141-88dd-4784-a9ac-7bd8c648d2ca",
   "metadata": {},
   "outputs": [
    {
     "name": "stdout",
     "output_type": "stream",
     "text": [
      "Help on function inner in module __main__:\n",
      "\n",
      "inner(*args, **kwargs)\n",
      "    inner function of a counter\n",
      "\n"
     ]
    }
   ],
   "source": [
    "help(my_func)  # same old inner"
   ]
  },
  {
   "cell_type": "code",
   "execution_count": 14,
   "id": "ff89a070-033f-4d08-bedf-1989e3b52f5a",
   "metadata": {},
   "outputs": [
    {
     "name": "stdout",
     "output_type": "stream",
     "text": [
      "Founction ID 4485221888: my_func was called 1 times\n"
     ]
    },
    {
     "data": {
      "text/plain": [
       "'aa'"
      ]
     },
     "execution_count": 14,
     "metadata": {},
     "output_type": "execute_result"
    }
   ],
   "source": [
    "my_func(\"a\", 2)"
   ]
  },
  {
   "cell_type": "code",
   "execution_count": 15,
   "id": "49df1845-525f-4b14-9ffb-ea73806a08fa",
   "metadata": {},
   "outputs": [],
   "source": [
    "from functools import wraps\n",
    "\n",
    "def counter(fn):\n",
    "    count = 0\n",
    "\n",
    "    @wraps(fn)\n",
    "    def inner(*args, **kwargs):\n",
    "        \"\"\"inner function of a counter\"\"\"\n",
    "        nonlocal count\n",
    "        count += 1\n",
    "        print(f\"Founction ID {id(fn)}: {fn.__name__} was called {count} times\")\n",
    "        return fn(*args, **kwargs)\n",
    "    return inner\n"
   ]
  },
  {
   "cell_type": "code",
   "execution_count": 16,
   "id": "2c502426-8380-46cc-af6e-9bd76f9d15d7",
   "metadata": {},
   "outputs": [],
   "source": [
    "@counter\n",
    "def my_func(s: str, i: int) -> str:\n",
    "    \"\"\"Multiply a string\"\"\"\n",
    "    return s * i"
   ]
  },
  {
   "cell_type": "code",
   "execution_count": 17,
   "id": "39cb71da-c97d-4062-bc1b-a0ff3f9f17a9",
   "metadata": {},
   "outputs": [
    {
     "name": "stdout",
     "output_type": "stream",
     "text": [
      "Help on function my_func in module __main__:\n",
      "\n",
      "my_func(s: str, i: int) -> str\n",
      "    Multiply a string\n",
      "\n"
     ]
    }
   ],
   "source": [
    "help(my_func)  # fixed! Now decorated function has metadata of function that was being decorated"
   ]
  },
  {
   "cell_type": "code",
   "execution_count": 18,
   "id": "77a07a6b-b3e5-4d6f-9341-601bd6c61ebf",
   "metadata": {},
   "outputs": [
    {
     "data": {
      "text/plain": [
       "(<cell at 0x10b56ae30: int object at 0x109567d60>,\n",
       " <cell at 0x10b483040: function object at 0x10b5718a0>)"
      ]
     },
     "execution_count": 18,
     "metadata": {},
     "output_type": "execute_result"
    }
   ],
   "source": [
    "my_func.__closure__"
   ]
  },
  {
   "cell_type": "code",
   "execution_count": null,
   "id": "3197e68d-8d2a-4f25-9284-d5c208ad1715",
   "metadata": {},
   "outputs": [],
   "source": []
  }
 ],
 "metadata": {
  "kernelspec": {
   "display_name": "Python 3 (ipykernel)",
   "language": "python",
   "name": "python3"
  },
  "language_info": {
   "codemirror_mode": {
    "name": "ipython",
    "version": 3
   },
   "file_extension": ".py",
   "mimetype": "text/x-python",
   "name": "python",
   "nbconvert_exporter": "python",
   "pygments_lexer": "ipython3",
   "version": "3.12.3"
  }
 },
 "nbformat": 4,
 "nbformat_minor": 5
}
