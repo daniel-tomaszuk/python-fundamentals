{
 "cells": [
  {
   "cell_type": "code",
   "execution_count": 1,
   "id": "156b2c20-ba3f-458d-b793-9cf023a705b1",
   "metadata": {},
   "outputs": [],
   "source": [
    "from fractions import Fraction"
   ]
  },
  {
   "cell_type": "code",
   "execution_count": 2,
   "id": "6f0e1744-4c10-47bb-bb6c-da886977fa42",
   "metadata": {},
   "outputs": [
    {
     "data": {
      "text/plain": [
       "3"
      ]
     },
     "execution_count": 2,
     "metadata": {},
     "output_type": "execute_result"
    }
   ],
   "source": [
    "f = Fraction(2, 3)\n",
    "f.denominator"
   ]
  },
  {
   "cell_type": "code",
   "execution_count": 3,
   "id": "aff39604-9991-4b9f-95b4-9c33de86ac1f",
   "metadata": {},
   "outputs": [
    {
     "data": {
      "text/plain": [
       "2"
      ]
     },
     "execution_count": 3,
     "metadata": {},
     "output_type": "execute_result"
    }
   ],
   "source": [
    "f.numerator"
   ]
  },
  {
   "cell_type": "code",
   "execution_count": 4,
   "id": "dfd4a721-d9ae-422c-ae65-74b3947763b9",
   "metadata": {},
   "outputs": [],
   "source": [
    "Fraction.speak = lambda self, s: f\"Fraction speaks with {s}\""
   ]
  },
  {
   "cell_type": "code",
   "execution_count": 5,
   "id": "622e30b1-6579-412d-84b6-bb512ca3cb75",
   "metadata": {},
   "outputs": [
    {
     "data": {
      "text/plain": [
       "'Fraction speaks with Hi!'"
      ]
     },
     "execution_count": 5,
     "metadata": {},
     "output_type": "execute_result"
    }
   ],
   "source": [
    "f.speak(\"Hi!\")"
   ]
  },
  {
   "cell_type": "code",
   "execution_count": 6,
   "id": "2bacc75a-f57b-4a3b-a18c-64ccdbf932c2",
   "metadata": {},
   "outputs": [],
   "source": [
    "Fraction.is_integral = lambda self: self.denominator == 1 or self.numerator == self.denominator "
   ]
  },
  {
   "cell_type": "code",
   "execution_count": 7,
   "id": "42fd47d8-d236-40db-bb96-3ddc0486ea98",
   "metadata": {},
   "outputs": [
    {
     "data": {
      "text/plain": [
       "False"
      ]
     },
     "execution_count": 7,
     "metadata": {},
     "output_type": "execute_result"
    }
   ],
   "source": [
    "f = Fraction(2, 9)\n",
    "f.is_integral()"
   ]
  },
  {
   "cell_type": "code",
   "execution_count": 8,
   "id": "67c2aca5-4164-4094-a9be-6583539ee9bc",
   "metadata": {},
   "outputs": [
    {
     "data": {
      "text/plain": [
       "True"
      ]
     },
     "execution_count": 8,
     "metadata": {},
     "output_type": "execute_result"
    }
   ],
   "source": [
    "f = Fraction(10, 10)\n",
    "f.is_integral()"
   ]
  },
  {
   "cell_type": "code",
   "execution_count": 9,
   "id": "3961f84e-f7d9-4eb4-8096-2855574c2111",
   "metadata": {},
   "outputs": [],
   "source": [
    "def dec_speak(cls):\n",
    "    cls.speak = lambda self, message: f\"{type(self).__name__} says: {message}\"\n",
    "    return cls\n",
    "    "
   ]
  },
  {
   "cell_type": "code",
   "execution_count": 10,
   "id": "823c01e6-8867-4854-86e3-9f8e558640fd",
   "metadata": {},
   "outputs": [],
   "source": [
    "Fraction = dec_speak(Fraction)"
   ]
  },
  {
   "cell_type": "code",
   "execution_count": 11,
   "id": "c5145500-3fcf-4cea-b57c-e233247b8c3b",
   "metadata": {},
   "outputs": [
    {
     "data": {
      "text/plain": [
       "'Fraction says: Hello!'"
      ]
     },
     "execution_count": 11,
     "metadata": {},
     "output_type": "execute_result"
    }
   ],
   "source": [
    "f = Fraction(1, 2)\n",
    "f.speak(\"Hello!\")"
   ]
  },
  {
   "cell_type": "code",
   "execution_count": 12,
   "id": "2a289f69-ca4d-4ae4-acfb-25501a64d573",
   "metadata": {},
   "outputs": [],
   "source": [
    "class Person:\n",
    "    pass\n"
   ]
  },
  {
   "cell_type": "code",
   "execution_count": 13,
   "id": "6de67366-a9d8-4a92-b889-a09b6dbb43ce",
   "metadata": {},
   "outputs": [
    {
     "data": {
      "text/plain": [
       "\"Person says: It's alive!\""
      ]
     },
     "execution_count": 13,
     "metadata": {},
     "output_type": "execute_result"
    }
   ],
   "source": [
    "Person = dec_speak(Person)\n",
    "p = Person()\n",
    "p.speak(\"It's alive!\")"
   ]
  },
  {
   "cell_type": "code",
   "execution_count": 14,
   "id": "da229a26-b952-4acf-a338-a5b9ead62034",
   "metadata": {},
   "outputs": [],
   "source": [
    "from datetime import datetime, timezone\n",
    "\n",
    "def debug_info(cls):\n",
    "\n",
    "    def info(self):\n",
    "        result = []\n",
    "        result.append(f\"Time: {datetime.now(timezone.utc)}\")\n",
    "        result.append(f\"ID: {hex(id(self))}\")\n",
    "        result.append(f\"Class: {type(self).__name__}\")\n",
    "        result.append(\", \".join(f\"{k}: {v}\" for k, v in vars(self).items()))\n",
    "        return result\n",
    "\n",
    "    cls.debug = info\n",
    "    return cls"
   ]
  },
  {
   "cell_type": "code",
   "execution_count": 15,
   "id": "e7a90c6d-4897-4789-9171-3af14256f70e",
   "metadata": {},
   "outputs": [],
   "source": [
    "@debug_info\n",
    "class Person:\n",
    "    def __init__(self, name, birth_year):\n",
    "        self.name = name\n",
    "        self.birth_year = birth_year\n",
    "\n",
    "    def say_hi():\n",
    "        return \"Hello there!\""
   ]
  },
  {
   "cell_type": "code",
   "execution_count": 16,
   "id": "a69c878e-085f-4425-9038-8bf71c91b863",
   "metadata": {},
   "outputs": [],
   "source": [
    "p = Person(\"Bob\", 1991)"
   ]
  },
  {
   "cell_type": "code",
   "execution_count": 17,
   "id": "9d920b43-1754-4520-b99c-cfbeeb779a69",
   "metadata": {},
   "outputs": [
    {
     "data": {
      "text/plain": [
       "['Time: 2024-07-15 14:54:22.846505+00:00',\n",
       " 'ID: 0x104043530',\n",
       " 'Class: Person',\n",
       " 'name: Bob, birth_year: 1991']"
      ]
     },
     "execution_count": 17,
     "metadata": {},
     "output_type": "execute_result"
    }
   ],
   "source": [
    "p.debug()"
   ]
  },
  {
   "cell_type": "code",
   "execution_count": 18,
   "id": "054c0e27-6c7f-43c7-92d5-3f9231233a86",
   "metadata": {},
   "outputs": [],
   "source": [
    "@debug_info\n",
    "class Car:\n",
    "    def __init__(self, make, model, production_year, top_speed):\n",
    "        self.make = make\n",
    "        self.model = model\n",
    "        self.production_year = production_year\n",
    "        self.top_speed = top_speed\n",
    "        self._speed = 0\n",
    "\n",
    "    @property\n",
    "    def speed(self):\n",
    "        return self._speed\n",
    "\n",
    "    @speed.setter\n",
    "    def speed(self, new_speed):\n",
    "        if new_speed > self.top_speed:\n",
    "            raise ValueError(f\"Speed can not exceed top speed of {self.top_speed}\")\n",
    "        self._speed = new_speed"
   ]
  },
  {
   "cell_type": "code",
   "execution_count": 19,
   "id": "e6e647bc-5281-43b8-97d0-361c1c18a1ea",
   "metadata": {},
   "outputs": [],
   "source": [
    "fav_car = Car(\"Ford\", \"Model T\", 1908, 45)"
   ]
  },
  {
   "cell_type": "code",
   "execution_count": 20,
   "id": "e79026bf-41cd-408e-ba0d-6e73c9d38986",
   "metadata": {},
   "outputs": [
    {
     "data": {
      "text/plain": [
       "['Time: 2024-07-15 14:54:22.882691+00:00',\n",
       " 'ID: 0x1040607a0',\n",
       " 'Class: Car',\n",
       " 'make: Ford, model: Model T, production_year: 1908, top_speed: 45, _speed: 0']"
      ]
     },
     "execution_count": 20,
     "metadata": {},
     "output_type": "execute_result"
    }
   ],
   "source": [
    "fav_car.debug()"
   ]
  },
  {
   "cell_type": "code",
   "execution_count": 21,
   "id": "f24d3115-eb07-4f52-a618-47d47fc02886",
   "metadata": {},
   "outputs": [],
   "source": [
    "fav_car.speed = 30"
   ]
  },
  {
   "cell_type": "code",
   "execution_count": 22,
   "id": "33a90a50-a436-435a-a6c9-b4c7a85a75a5",
   "metadata": {},
   "outputs": [
    {
     "data": {
      "text/plain": [
       "['Time: 2024-07-15 14:54:22.911346+00:00',\n",
       " 'ID: 0x1040607a0',\n",
       " 'Class: Car',\n",
       " 'make: Ford, model: Model T, production_year: 1908, top_speed: 45, _speed: 30']"
      ]
     },
     "execution_count": 22,
     "metadata": {},
     "output_type": "execute_result"
    }
   ],
   "source": [
    "fav_car.debug()"
   ]
  },
  {
   "cell_type": "code",
   "execution_count": 23,
   "id": "bf1d190c-31cb-4142-b134-7f9d08851a48",
   "metadata": {},
   "outputs": [
    {
     "name": "stdout",
     "output_type": "stream",
     "text": [
      "<class 'ValueError'> Speed can not exceed top speed of 45\n"
     ]
    }
   ],
   "source": [
    "try:\n",
    "    fav_car.speed = 50\n",
    "except ValueError as e:\n",
    "    print(type(e), e)"
   ]
  },
  {
   "cell_type": "code",
   "execution_count": 24,
   "id": "5de0139b-c768-4e51-965a-d3879a4eb375",
   "metadata": {},
   "outputs": [],
   "source": [
    "class Point:\n",
    "    def __init__(self, x, y):\n",
    "        self.x = x\n",
    "        self.y = y\n",
    "\n",
    "    def __abs__(self):\n",
    "        return (self.x ** 2 + self.y ** 2) ** 0.5\n",
    "\n",
    "    def __repr__(self):\n",
    "        return f\"{type(self).__name__} x={self.x}, y={self.y}\""
   ]
  },
  {
   "cell_type": "code",
   "execution_count": 25,
   "id": "1b654b9c-9eec-470f-8c2d-3659527c0262",
   "metadata": {},
   "outputs": [],
   "source": [
    "p1 = Point(2, 3)\n",
    "p2 = Point(3, 2)"
   ]
  },
  {
   "cell_type": "code",
   "execution_count": 26,
   "id": "e0602567-35ec-4a5d-b65f-745902937afc",
   "metadata": {},
   "outputs": [
    {
     "data": {
      "text/plain": [
       "(3.605551275463989, 3.605551275463989)"
      ]
     },
     "execution_count": 26,
     "metadata": {},
     "output_type": "execute_result"
    }
   ],
   "source": [
    "abs(p1), abs(p2)"
   ]
  },
  {
   "cell_type": "code",
   "execution_count": 27,
   "id": "b9d3a108-4af4-4e52-aa77-aa94ffb1a100",
   "metadata": {},
   "outputs": [
    {
     "data": {
      "text/plain": [
       "False"
      ]
     },
     "execution_count": 27,
     "metadata": {},
     "output_type": "execute_result"
    }
   ],
   "source": [
    "p1 == p2"
   ]
  },
  {
   "cell_type": "code",
   "execution_count": 28,
   "id": "24eae394-f281-47c6-ac86-2e5bdd1e1285",
   "metadata": {},
   "outputs": [],
   "source": [
    "from functools import total_ordering\n",
    "\n",
    "@total_ordering\n",
    "class Point:\n",
    "    def __init__(self, x, y):\n",
    "        self.x = x\n",
    "        self.y = y\n",
    "\n",
    "    def __abs__(self):\n",
    "        return (self.x ** 2 + self.y ** 2) ** 0.5\n",
    "\n",
    "    def __repr__(self):\n",
    "        return f\"{type(self).__name__} x={self.x}, y={self.y}\"\n",
    "\n",
    "    def __eg__(self, other):\n",
    "        if isinstance(other, type(self)):\n",
    "            return self.x == other.x and self.y == other.y\n",
    "        return False\n",
    "\n",
    "    def __lt__(self, other):\n",
    "        if isinstance(other, type(self)):\n",
    "            return abs(self) < abs(other)\n",
    "        return NotImplemented"
   ]
  },
  {
   "cell_type": "code",
   "execution_count": 29,
   "id": "7976e5f9-0fc3-4124-a916-0364c56e3059",
   "metadata": {},
   "outputs": [],
   "source": [
    "p1 = Point(2, 3)\n",
    "p2 = Point(3, 2)\n",
    "p3 = Point(2, 3)"
   ]
  },
  {
   "cell_type": "code",
   "execution_count": 30,
   "id": "a4307c7f-25ee-456c-ada4-8c50a87e3c54",
   "metadata": {},
   "outputs": [
    {
     "data": {
      "text/plain": [
       "False"
      ]
     },
     "execution_count": 30,
     "metadata": {},
     "output_type": "execute_result"
    }
   ],
   "source": [
    "p1 == p2"
   ]
  },
  {
   "cell_type": "code",
   "execution_count": 31,
   "id": "41933467-ad76-4141-a812-680b8d4ef16e",
   "metadata": {},
   "outputs": [
    {
     "data": {
      "text/plain": [
       "False"
      ]
     },
     "execution_count": 31,
     "metadata": {},
     "output_type": "execute_result"
    }
   ],
   "source": [
    "p1 == p3"
   ]
  },
  {
   "cell_type": "code",
   "execution_count": 32,
   "id": "2b319c61-5d29-48c3-8240-5e0ea1be26ab",
   "metadata": {},
   "outputs": [
    {
     "data": {
      "text/plain": [
       "True"
      ]
     },
     "execution_count": 32,
     "metadata": {},
     "output_type": "execute_result"
    }
   ],
   "source": [
    "p1 > p3"
   ]
  },
  {
   "cell_type": "code",
   "execution_count": 33,
   "id": "d53e530c-c69b-40e0-9977-d6de7cbc2993",
   "metadata": {},
   "outputs": [],
   "source": [
    "p4 = Point(1, 1)"
   ]
  },
  {
   "cell_type": "code",
   "execution_count": 34,
   "id": "f824b913-ecd7-4317-9ecb-6c37c61f676c",
   "metadata": {},
   "outputs": [
    {
     "data": {
      "text/plain": [
       "True"
      ]
     },
     "execution_count": 34,
     "metadata": {},
     "output_type": "execute_result"
    }
   ],
   "source": [
    "p4 < p1"
   ]
  },
  {
   "cell_type": "code",
   "execution_count": 35,
   "id": "33f5885c-8000-4a07-93e4-210cf81317ec",
   "metadata": {},
   "outputs": [
    {
     "data": {
      "text/plain": [
       "True"
      ]
     },
     "execution_count": 35,
     "metadata": {},
     "output_type": "execute_result"
    }
   ],
   "source": [
    "p4 <= p1"
   ]
  },
  {
   "cell_type": "code",
   "execution_count": null,
   "id": "0cf48c8d-84ed-4386-944d-533686d46fc4",
   "metadata": {},
   "outputs": [],
   "source": []
  }
 ],
 "metadata": {
  "kernelspec": {
   "display_name": "Python 3 (ipykernel)",
   "language": "python",
   "name": "python3"
  },
  "language_info": {
   "codemirror_mode": {
    "name": "ipython",
    "version": 3
   },
   "file_extension": ".py",
   "mimetype": "text/x-python",
   "name": "python",
   "nbconvert_exporter": "python",
   "pygments_lexer": "ipython3",
   "version": "3.12.3"
  }
 },
 "nbformat": 4,
 "nbformat_minor": 5
}
