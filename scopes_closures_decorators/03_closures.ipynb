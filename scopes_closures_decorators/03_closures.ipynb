{
 "cells": [
  {
   "cell_type": "code",
   "execution_count": 1,
   "id": "b017b266-f794-41b5-af69-6afe7204551f",
   "metadata": {},
   "outputs": [],
   "source": [
    "# Consider such code\n",
    "def my_func():\n",
    "    inner_functs = []\n",
    "    for i in range(5):\n",
    "        def inner():\n",
    "            return f\"Hi from inner, my index is {i}\"\n",
    "        inner_functs.append(inner)\n",
    "    return inner_functs\n"
   ]
  },
  {
   "cell_type": "code",
   "execution_count": 2,
   "id": "63653baa-19c3-490c-9eae-12cbec76c593",
   "metadata": {},
   "outputs": [
    {
     "name": "stdout",
     "output_type": "stream",
     "text": [
      "Hi from inner, my index is 4\n",
      "Hi from inner, my index is 4\n",
      "Hi from inner, my index is 4\n",
      "Hi from inner, my index is 4\n",
      "Hi from inner, my index is 4\n"
     ]
    }
   ],
   "source": [
    "# a bit unexpected - each function uses last value from i. Why is that?\n",
    "inner_functs = my_func()\n",
    "for i in range(5):\n",
    "    print(inner_functs[i]())\n",
    "\n",
    "# it's because inner function is a closure, it's returned as a function and additional variables that it needs to run from my_func scope\n",
    "# my_func scope doesn't exist when inner is called, but it has this additional variable i that it can access\n",
    "# variable i has only one value - last value from before my_func scope got destroyed\n",
    "# Python is doing that by using `cell` and \"double-hop\" through cell to the actual value\n",
    "# check docs: https://docs.python.org/3/c-api/cell.html \n",
    "\n",
    "# basically \n",
    "# cell = function + free variables"
   ]
  },
  {
   "cell_type": "code",
   "execution_count": 3,
   "id": "b405909d-54a8-4719-a323-981c0a0758bd",
   "metadata": {},
   "outputs": [
    {
     "data": {
      "text/plain": [
       "(('i',), (<cell at 0x1035ebaf0: int object at 0x1015f8de0>,))"
      ]
     },
     "execution_count": 3,
     "metadata": {},
     "output_type": "execute_result"
    }
   ],
   "source": [
    "# we can check free vars and a closure cell directly\n",
    "fn = inner_functs[0]\n",
    "fn.__code__.co_freevars, fn.__closure__"
   ]
  },
  {
   "cell_type": "code",
   "execution_count": 4,
   "id": "23d301fa-0312-4eef-9c6e-b8e26218705b",
   "metadata": {},
   "outputs": [
    {
     "data": {
      "text/plain": [
       "('i', (<cell at 0x1035ebaf0: int object at 0x1015f8de0>,))"
      ]
     },
     "execution_count": 4,
     "metadata": {},
     "output_type": "execute_result"
    }
   ],
   "source": [
    "fn.__code__.co_freevars[0], fn.__closure__"
   ]
  },
  {
   "cell_type": "code",
   "execution_count": 5,
   "id": "aae249c0-3feb-49b8-8a84-376ad8f6ae5a",
   "metadata": {},
   "outputs": [
    {
     "name": "stdout",
     "output_type": "stream",
     "text": [
      "Help on code object:\n",
      "\n",
      "class code(object)\n",
      " |  code(argcount, posonlyargcount, kwonlyargcount, nlocals, stacksize, flags, codestring, constants, names, varnames, filename, name, qualname, firstlineno, linetable, exceptiontable, freevars=(), cellvars=(), /)\n",
      " |\n",
      " |  Create a code object.  Not for the faint of heart.\n",
      " |\n",
      " |  Methods defined here:\n",
      " |\n",
      " |  __eq__(self, value, /)\n",
      " |      Return self==value.\n",
      " |\n",
      " |  __ge__(self, value, /)\n",
      " |      Return self>=value.\n",
      " |\n",
      " |  __getattribute__(self, name, /)\n",
      " |      Return getattr(self, name).\n",
      " |\n",
      " |  __gt__(self, value, /)\n",
      " |      Return self>value.\n",
      " |\n",
      " |  __hash__(self, /)\n",
      " |      Return hash(self).\n",
      " |\n",
      " |  __le__(self, value, /)\n",
      " |      Return self<=value.\n",
      " |\n",
      " |  __lt__(self, value, /)\n",
      " |      Return self<value.\n",
      " |\n",
      " |  __ne__(self, value, /)\n",
      " |      Return self!=value.\n",
      " |\n",
      " |  __repr__(self, /)\n",
      " |      Return repr(self).\n",
      " |\n",
      " |  __sizeof__(...)\n",
      " |      Size of object in memory, in bytes.\n",
      " |\n",
      " |  co_lines(...)\n",
      " |\n",
      " |  co_positions(...)\n",
      " |\n",
      " |  replace(self, /, **changes)\n",
      " |      Return a copy of the code object with new values for the specified fields.\n",
      " |\n",
      " |  ----------------------------------------------------------------------\n",
      " |  Static methods defined here:\n",
      " |\n",
      " |  __new__(*args, **kwargs)\n",
      " |      Create and return a new object.  See help(type) for accurate signature.\n",
      " |\n",
      " |  ----------------------------------------------------------------------\n",
      " |  Data descriptors defined here:\n",
      " |\n",
      " |  co_argcount\n",
      " |\n",
      " |  co_cellvars\n",
      " |\n",
      " |  co_code\n",
      " |\n",
      " |  co_consts\n",
      " |\n",
      " |  co_exceptiontable\n",
      " |\n",
      " |  co_filename\n",
      " |\n",
      " |  co_firstlineno\n",
      " |\n",
      " |  co_flags\n",
      " |\n",
      " |  co_freevars\n",
      " |\n",
      " |  co_kwonlyargcount\n",
      " |\n",
      " |  co_linetable\n",
      " |\n",
      " |  co_lnotab\n",
      " |\n",
      " |  co_name\n",
      " |\n",
      " |  co_names\n",
      " |\n",
      " |  co_nlocals\n",
      " |\n",
      " |  co_posonlyargcount\n",
      " |\n",
      " |  co_qualname\n",
      " |\n",
      " |  co_stacksize\n",
      " |\n",
      " |  co_varnames\n",
      "\n"
     ]
    }
   ],
   "source": [
    "help(fn.__code__)"
   ]
  },
  {
   "cell_type": "code",
   "execution_count": 6,
   "id": "027d674b-20d7-4eef-9264-dc9f3768e493",
   "metadata": {},
   "outputs": [],
   "source": [
    "def counter():\n",
    "    # a closure\n",
    "    count = 0\n",
    "    def inc():\n",
    "        nonlocal count\n",
    "        count += 1\n",
    "        return count\n",
    "    return inc"
   ]
  },
  {
   "cell_type": "code",
   "execution_count": 7,
   "id": "54162689-5902-4c51-b7a6-1d2bb20f669c",
   "metadata": {},
   "outputs": [],
   "source": [
    "fn = counter()"
   ]
  },
  {
   "cell_type": "code",
   "execution_count": 8,
   "id": "cfadbf3c-8a0c-4426-95f8-0c36391c16f3",
   "metadata": {},
   "outputs": [
    {
     "name": "stdout",
     "output_type": "stream",
     "text": [
      "1\n"
     ]
    }
   ],
   "source": [
    "print(fn())"
   ]
  },
  {
   "cell_type": "code",
   "execution_count": 9,
   "id": "4ad362c0-5b69-456b-9be7-d7f8a9ade590",
   "metadata": {},
   "outputs": [
    {
     "name": "stdout",
     "output_type": "stream",
     "text": [
      "2\n"
     ]
    }
   ],
   "source": [
    "print(fn())"
   ]
  },
  {
   "cell_type": "code",
   "execution_count": 10,
   "id": "8f2181c1-2b4f-4b76-aeda-3f79a431509c",
   "metadata": {},
   "outputs": [
    {
     "name": "stdout",
     "output_type": "stream",
     "text": [
      "3\n"
     ]
    }
   ],
   "source": [
    "print(fn())"
   ]
  },
  {
   "cell_type": "code",
   "execution_count": 11,
   "id": "7f1d0eb3-3c1b-4236-a084-3a6aca337966",
   "metadata": {},
   "outputs": [
    {
     "name": "stdout",
     "output_type": "stream",
     "text": [
      "4\n"
     ]
    }
   ],
   "source": [
    "print(fn())"
   ]
  },
  {
   "cell_type": "code",
   "execution_count": 12,
   "id": "00dc3981-64a7-4725-882b-4772f5909ccf",
   "metadata": {},
   "outputs": [
    {
     "name": "stdout",
     "output_type": "stream",
     "text": [
      "1\n",
      "2\n"
     ]
    }
   ],
   "source": [
    "# closures do not share memory, even if they are generated by the same func definition\n",
    "# used cells are different\n",
    "\n",
    "f1 = counter()\n",
    "f2 = counter()\n",
    "print(f1())\n",
    "print(f1())"
   ]
  },
  {
   "cell_type": "code",
   "execution_count": 13,
   "id": "75a6dad7-5152-4b0c-b9f1-32aa88375523",
   "metadata": {},
   "outputs": [
    {
     "name": "stdout",
     "output_type": "stream",
     "text": [
      "1\n",
      "2\n"
     ]
    }
   ],
   "source": [
    "print(f2())\n",
    "print(f2())"
   ]
  },
  {
   "cell_type": "code",
   "execution_count": 14,
   "id": "54fd4c09-28a6-4dc2-ac7e-4d0ff9115bc9",
   "metadata": {},
   "outputs": [],
   "source": [
    "def adder(n):\n",
    "    def inner(x):\n",
    "        return x + n\n",
    "    return inner\n"
   ]
  },
  {
   "cell_type": "code",
   "execution_count": 15,
   "id": "9c530120-6916-4895-a2fb-cb78f9955fd1",
   "metadata": {},
   "outputs": [],
   "source": [
    "# no shared scopes here\n",
    "a1 = adder(1)\n",
    "a2 = adder(2)\n",
    "a3 = adder(3)"
   ]
  },
  {
   "cell_type": "code",
   "execution_count": 16,
   "id": "24f4c7a2-cf14-45fe-a8a0-9ad919d3961f",
   "metadata": {},
   "outputs": [
    {
     "name": "stdout",
     "output_type": "stream",
     "text": [
      "11\n"
     ]
    }
   ],
   "source": [
    "print(a1(10))"
   ]
  },
  {
   "cell_type": "code",
   "execution_count": 17,
   "id": "06d052ae-95ff-494e-8a37-feca42d48725",
   "metadata": {},
   "outputs": [
    {
     "name": "stdout",
     "output_type": "stream",
     "text": [
      "22\n"
     ]
    }
   ],
   "source": [
    "print(a2(20))"
   ]
  },
  {
   "cell_type": "code",
   "execution_count": 18,
   "id": "ec184db0-725b-45fb-9087-893a8f811aa3",
   "metadata": {},
   "outputs": [
    {
     "name": "stdout",
     "output_type": "stream",
     "text": [
      "33\n"
     ]
    }
   ],
   "source": [
    "print(a3(30))"
   ]
  },
  {
   "cell_type": "code",
   "execution_count": 19,
   "id": "1cb59917-711d-40df-a244-0a40b88b76a0",
   "metadata": {},
   "outputs": [],
   "source": [
    "# the closure have different cells, but all of them point to the same value from outer scope - `n` in this case!\n",
    "\n",
    "adders = []\n",
    "for n in range(5):\n",
    "    # n is a free variable, this is a closure\n",
    "    adders.append(lambda x: x + n)"
   ]
  },
  {
   "cell_type": "code",
   "execution_count": 20,
   "id": "f700bac4-46da-4115-bbe9-1c71bc742226",
   "metadata": {},
   "outputs": [
    {
     "name": "stdout",
     "output_type": "stream",
     "text": [
      "4\n",
      "5\n",
      "6\n",
      "7\n",
      "8\n"
     ]
    }
   ],
   "source": [
    "# now all the cells to the same value, last value of y\n",
    "\n",
    "for y in range(5):\n",
    "    print(adders[y](y))"
   ]
  },
  {
   "cell_type": "code",
   "execution_count": 21,
   "id": "d047b027-740b-4c39-9223-22bdde68cf93",
   "metadata": {},
   "outputs": [],
   "source": [
    "def outer():\n",
    "    x = [1, 2, 3]\n",
    "    print(\"ID outer\", hex(id(x)))\n",
    "    def inner():\n",
    "        x = [1, 2, 3]\n",
    "        print(\"ID innder\", hex(id(x)))\n",
    "    return inner\n",
    "        "
   ]
  },
  {
   "cell_type": "code",
   "execution_count": 22,
   "id": "8edc060d-5c26-4180-b65a-088083ce565b",
   "metadata": {},
   "outputs": [
    {
     "name": "stdout",
     "output_type": "stream",
     "text": [
      "ID outer 0x103669c00\n"
     ]
    }
   ],
   "source": [
    "fn = outer()"
   ]
  },
  {
   "cell_type": "code",
   "execution_count": 23,
   "id": "9ab7f8d8-baa0-4f40-b2c9-eb8ebeddb057",
   "metadata": {},
   "outputs": [
    {
     "name": "stdout",
     "output_type": "stream",
     "text": [
      "ID innder 0x103669c00\n"
     ]
    }
   ],
   "source": [
    "fn()"
   ]
  },
  {
   "cell_type": "code",
   "execution_count": 24,
   "id": "fcafc088-2f36-4b01-9cbb-39a87855b67e",
   "metadata": {},
   "outputs": [],
   "source": [
    "def outer():\n",
    "    x = [1, 2, 3]\n",
    "    print(\"ID outer\", hex(id(x)))\n",
    "    def inner():\n",
    "        y = x\n",
    "        print(\"ID innder\", hex(id(y)))\n",
    "    return inner"
   ]
  },
  {
   "cell_type": "code",
   "execution_count": 25,
   "id": "64345a2a-6c77-4fb5-9241-6100a893e58f",
   "metadata": {},
   "outputs": [
    {
     "name": "stdout",
     "output_type": "stream",
     "text": [
      "ID outer 0x1035e6980\n"
     ]
    }
   ],
   "source": [
    "fn = outer()"
   ]
  },
  {
   "cell_type": "code",
   "execution_count": 26,
   "id": "5d908ef0-3b3d-4610-986c-894623959903",
   "metadata": {},
   "outputs": [
    {
     "name": "stdout",
     "output_type": "stream",
     "text": [
      "(<cell at 0x10366c1f0: list object at 0x1035e6980>,)\n",
      "ID innder 0x1035e6980\n"
     ]
    }
   ],
   "source": [
    "print(fn.__closure__)\n",
    "\n",
    "fn()"
   ]
  },
  {
   "cell_type": "code",
   "execution_count": null,
   "id": "a4e3e895-4499-4d45-9ae6-186236ca32a1",
   "metadata": {},
   "outputs": [],
   "source": []
  }
 ],
 "metadata": {
  "kernelspec": {
   "display_name": "Python 3 (ipykernel)",
   "language": "python",
   "name": "python3"
  },
  "language_info": {
   "codemirror_mode": {
    "name": "ipython",
    "version": 3
   },
   "file_extension": ".py",
   "mimetype": "text/x-python",
   "name": "python",
   "nbconvert_exporter": "python",
   "pygments_lexer": "ipython3",
   "version": "3.12.3"
  }
 },
 "nbformat": 4,
 "nbformat_minor": 5
}
