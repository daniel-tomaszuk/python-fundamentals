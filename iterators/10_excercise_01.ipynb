{
 "cells": [
  {
   "cell_type": "markdown",
   "id": "e0e93145-cc1d-477e-a6a8-f9c0394d9559",
   "metadata": {},
   "source": [
    "### Make polygon class lazy load values"
   ]
  },
  {
   "cell_type": "code",
   "execution_count": 1,
   "id": "db70569d-c50f-400e-b7d4-328b2f66d5b7",
   "metadata": {},
   "outputs": [],
   "source": [
    "# refactor the class so calculated properties are lazy\n",
    "# and shouldn't be recalculated more than once\n",
    "\n",
    "import math\n",
    "\n",
    "\n",
    "class Polygon:\n",
    "    \"\"\"\n",
    "    Implememnt strictly convex polygon. All sides have equal len and all angles are less than 180 deg\n",
    "    \"\"\"\n",
    "    def __init__(self, n: int, r: float):\n",
    "        \"\"\"\n",
    "        n: int - number of edges / vertices\n",
    "        r: circumradious \n",
    "        \"\"\"\n",
    "        if n <= 2 or r <= 0:\n",
    "            raise ValueError(\n",
    "                f\"{type(self).__name__} expects edges / vertices and circumradious values to be positive. Number of edges / vertices must be greater than 2.\"\n",
    "            )\n",
    "        self._n = n\n",
    "        self._r = r\n",
    "\n",
    "        # refactor:\n",
    "        self._interior_angle = None\n",
    "        self._edge_length = None\n",
    "        self._apothem = None\n",
    "        self._area = None\n",
    "        self._perimeter = None\n",
    "\n",
    "    @property\n",
    "    def edges(self):\n",
    "        return self._n\n",
    "\n",
    "    @property\n",
    "    def vertices(self):\n",
    "        return self._n\n",
    "\n",
    "    @property\n",
    "    def circumradious(self):\n",
    "        return self._r\n",
    "    \n",
    "    @property\n",
    "    def interior_angle(self):\n",
    "        \"\"\"\n",
    "        Interior angle = (n - 2) * 180 / n\n",
    "        \"\"\"\n",
    "        if self._interior_angle is None:\n",
    "            self._interior_angle = (self.edges - 2) * (180 / self.edges)\n",
    "        return self._interior_angle\n",
    "\n",
    "    @property\n",
    "    def edge_length(self):\n",
    "        \"\"\"\n",
    "        edge length: s = 2rsin(pi / n)\n",
    "        \"\"\"\n",
    "        if self._edge_length is None:\n",
    "            self._edge_length = 2 * self.circumradious * math.sin(math.pi / self.edges)\n",
    "        return self._edge_length\n",
    "\n",
    "    @property\n",
    "    def apothem(self):\n",
    "        \"\"\"\n",
    "        apothem a = rcos(pi / n)\n",
    "        \"\"\"\n",
    "        if self._apothem is None:\n",
    "            self._apothem = self.circumradious * math.cos(math.pi / self.edges)\n",
    "        return self._apothem\n",
    "\n",
    "    @property\n",
    "    def area(self):\n",
    "        \"\"\"\n",
    "        area = 0.5 * edges_count * edge_length * apothem\n",
    "        \"\"\"\n",
    "        if self._area is None:\n",
    "            self._area = 0.5 * self.edges * self.edge_length * self.apothem\n",
    "        return self._area\n",
    "\n",
    "    @property\n",
    "    def perimeter(self):\n",
    "        \"\"\"\n",
    "        perimater = n * s\n",
    "        \"\"\"\n",
    "        if self._perimeter is None:\n",
    "            self._perimeter = self.edges * self.edge_length\n",
    "        return self._perimeter\n",
    "        \n",
    "    def __repr__(self):\n",
    "        return f\"{type(self).__name__}({self.edges},{self.circumradious})\"\n",
    "\n",
    "    def __eq__(self, other: \"Polygon\") -> bool:\n",
    "        return self.edges == other.edges and self.circumradious == other.circumradious\n",
    "\n",
    "    def __gt__(self, other: \"Polygon\") -> bool:\n",
    "        return self.edges == other.edges"
   ]
  },
  {
   "cell_type": "code",
   "execution_count": 2,
   "id": "060fda0f-f12f-452a-9a01-7302d0b623f9",
   "metadata": {},
   "outputs": [],
   "source": [
    "# refactor Polygons sequence to be an iterable, evaluate properties lazily\n",
    "\n",
    "\n",
    "class Polygons:\n",
    "    def __init__(self, max_vertices: int, circumradious: float):\n",
    "        if max_vertices <= 2 or circumradious <= 0:\n",
    "            raise ValueError(\n",
    "                \"Polygons sequence must be initialized with max vertices greater than 2 and circumradious grater than 0.\"\n",
    "            )\n",
    "        \n",
    "        self.max_vertices = max_vertices\n",
    "        self.circumradious = circumradious\n",
    "    \n",
    "    @property\n",
    "    def max_efficiency_polygon(self):\n",
    "        polygons = list(iter(self))\n",
    "        return sorted(polygons, key=lambda p: p.area / p.perimeter, reverse=True)[0]\n",
    "\n",
    "    #def __getitem__(self, s: int | slice):\n",
    "    #    return self.polygons[s]\n",
    "\n",
    "    def __len__(self):\n",
    "        return self.max_vertices - 2\n",
    "\n",
    "    def __repr__(self):\n",
    "        return f\"{type(self).__name__}({self.max_vertices},{self.circumradious})\"\n",
    "\n",
    "    def __iter__(self):\n",
    "        return self.PolygonsIter(self.max_vertices, self.circumradious) \n",
    "\n",
    "\n",
    "    class PolygonsIter:\n",
    "        def __init__(self, max_vertices, circumradious):\n",
    "            if max_vertices <= 2 or circumradious <= 0:\n",
    "                raise ValueError(\n",
    "                    \"Polygons sequence must be initialized with max vertices greater than 2 and circumradious grater than 0.\"\n",
    "                )\n",
    "            self.max_vertices = max_vertices\n",
    "            self.circumradious = circumradious\n",
    "            self._i = 3\n",
    "\n",
    "        def __iter__(self):\n",
    "            return self\n",
    "\n",
    "        def __next__(self):\n",
    "            if self._i > self.max_vertices:\n",
    "                raise StopIteration\n",
    "\n",
    "            p = Polygon(self._i, self.circumradious)\n",
    "            self._i += 1\n",
    "            return p\n"
   ]
  },
  {
   "cell_type": "code",
   "execution_count": 3,
   "id": "54b5f140-7b41-4b84-89df-b186a4b37ad5",
   "metadata": {},
   "outputs": [
    {
     "data": {
      "text/plain": [
       "[Polygon(3,1),\n",
       " Polygon(4,1),\n",
       " Polygon(5,1),\n",
       " Polygon(6,1),\n",
       " Polygon(7,1),\n",
       " Polygon(8,1),\n",
       " Polygon(9,1),\n",
       " Polygon(10,1)]"
      ]
     },
     "execution_count": 3,
     "metadata": {},
     "output_type": "execute_result"
    }
   ],
   "source": [
    "pp = Polygons(10, 1)\n",
    "list(pp)"
   ]
  },
  {
   "cell_type": "code",
   "execution_count": 4,
   "id": "cd75c30d-cb61-4a08-8e14-9e8002b5fb44",
   "metadata": {},
   "outputs": [
    {
     "name": "stdout",
     "output_type": "stream",
     "text": [
      "Polygon(3,1)\n",
      "Polygon(4,1)\n",
      "Polygon(5,1)\n",
      "Polygon(6,1)\n",
      "Polygon(7,1)\n",
      "Polygon(8,1)\n",
      "Polygon(9,1)\n",
      "Polygon(10,1)\n"
     ]
    }
   ],
   "source": [
    "for p in Polygons(10, 1):\n",
    "    print(p)"
   ]
  },
  {
   "cell_type": "code",
   "execution_count": 5,
   "id": "c31146db-671f-4031-a763-645e3116396e",
   "metadata": {},
   "outputs": [
    {
     "data": {
      "text/plain": [
       "<__main__.Polygons.PolygonsIter at 0x1079a5040>"
      ]
     },
     "execution_count": 5,
     "metadata": {},
     "output_type": "execute_result"
    }
   ],
   "source": [
    "iter(Polygons(3,1))"
   ]
  },
  {
   "cell_type": "code",
   "execution_count": 6,
   "id": "10eb490d-ab77-40c0-9dc6-d4a11597a226",
   "metadata": {},
   "outputs": [
    {
     "name": "stdout",
     "output_type": "stream",
     "text": [
      "3.141592653569122\n"
     ]
    }
   ],
   "source": [
    "max_ = Polygons(1_000_000,1).max_efficiency_polygon\n",
    "print(max_.area)"
   ]
  },
  {
   "cell_type": "code",
   "execution_count": null,
   "id": "4ec4650d-d646-4198-ab62-b69a30ebed86",
   "metadata": {},
   "outputs": [],
   "source": []
  }
 ],
 "metadata": {
  "kernelspec": {
   "display_name": "Python 3 (ipykernel)",
   "language": "python",
   "name": "python3"
  },
  "language_info": {
   "codemirror_mode": {
    "name": "ipython",
    "version": 3
   },
   "file_extension": ".py",
   "mimetype": "text/x-python",
   "name": "python",
   "nbconvert_exporter": "python",
   "pygments_lexer": "ipython3",
   "version": "3.12.3"
  }
 },
 "nbformat": 4,
 "nbformat_minor": 5
}
