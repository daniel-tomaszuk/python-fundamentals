{
 "cells": [
  {
   "cell_type": "code",
   "execution_count": 1,
   "id": "d0e0dceb-b91d-454d-811a-e2a918bc652d",
   "metadata": {},
   "outputs": [],
   "source": [
    "def counter():\n",
    "    i = 0\n",
    "    def inc():\n",
    "        nonlocal i\n",
    "        i  += 1\n",
    "        return i\n",
    "    return inc\n"
   ]
  },
  {
   "cell_type": "code",
   "execution_count": 2,
   "id": "9a5c6d35-e5ce-4771-ba18-c1a8274427c7",
   "metadata": {},
   "outputs": [
    {
     "data": {
      "text/plain": [
       "(1, 2, 3, 4)"
      ]
     },
     "execution_count": 2,
     "metadata": {},
     "output_type": "execute_result"
    }
   ],
   "source": [
    "c = counter()\n",
    "c(), c(), c(), c()"
   ]
  },
  {
   "cell_type": "code",
   "execution_count": 3,
   "id": "eeefdc3a-0994-4dbc-a247-aef5d142ca73",
   "metadata": {},
   "outputs": [
    {
     "name": "stdout",
     "output_type": "stream",
     "text": [
      "Help on built-in function iter in module builtins:\n",
      "\n",
      "iter(...)\n",
      "    Get an iterator from an object.\n",
      "\n",
      "    In the first form, the argument must supply its own iterator, or be a sequence.\n",
      "    In the second form, the callable is called until it returns the sentinel.\n",
      "\n"
     ]
    }
   ],
   "source": [
    "help(iter)  # not very helpfull... but it's possible to pass sentinel value (in a second form)"
   ]
  },
  {
   "cell_type": "code",
   "execution_count": 4,
   "id": "87c27199-a8c5-4594-8ede-ec5352bc905c",
   "metadata": {},
   "outputs": [],
   "source": [
    "class CounterInterator:\n",
    "    def __init__(self, counter_callable):\n",
    "        self.counter_callable = counter_callable\n",
    "\n",
    "    def __iter__(self):\n",
    "        return self\n",
    "\n",
    "    def __next__(self):\n",
    "        return self.counter_callable()\n"
   ]
  },
  {
   "cell_type": "code",
   "execution_count": 5,
   "id": "d29498c2-363a-4046-8a86-558f6d36087c",
   "metadata": {},
   "outputs": [],
   "source": [
    "counter_ = counter()\n",
    "counter_iterator = CounterInterator(counter_)"
   ]
  },
  {
   "cell_type": "code",
   "execution_count": 6,
   "id": "d908f4a3-e60a-4753-949b-65eb2fad8ab4",
   "metadata": {},
   "outputs": [
    {
     "name": "stdout",
     "output_type": "stream",
     "text": [
      "1\n",
      "2\n",
      "3\n",
      "4\n",
      "5\n"
     ]
    }
   ],
   "source": [
    "for _ in range(5):\n",
    "    print(next(counter_iterator))"
   ]
  },
  {
   "cell_type": "code",
   "execution_count": 7,
   "id": "1a98488c-562f-4da0-92df-39544322f1f3",
   "metadata": {},
   "outputs": [],
   "source": [
    "class CounterInterator:\n",
    "    def __init__(self, counter_callable, sentinel):\n",
    "        self.counter_callable = counter_callable\n",
    "        self.sentinel = sentinel\n",
    "\n",
    "    def __iter__(self):\n",
    "        return self\n",
    "\n",
    "    def __next__(self):\n",
    "        r = self.counter_callable()\n",
    "        if r == self.sentinel:\n",
    "            raise StopIteration\n",
    "        return r"
   ]
  },
  {
   "cell_type": "code",
   "execution_count": 8,
   "id": "f3266da7-4d63-4bde-98ea-180bedd81dc4",
   "metadata": {},
   "outputs": [],
   "source": [
    "counter_ = counter()\n",
    "counter_iterator = CounterInterator(counter_, 12)"
   ]
  },
  {
   "cell_type": "code",
   "execution_count": 9,
   "id": "ea3ed319-21e2-4079-966a-4f278fa4cfb8",
   "metadata": {},
   "outputs": [
    {
     "data": {
      "text/plain": [
       "[1, 2, 3, 4, 5, 6, 7, 8, 9, 10, 11]"
      ]
     },
     "execution_count": 9,
     "metadata": {},
     "output_type": "execute_result"
    }
   ],
   "source": [
    "list(counter_iterator)"
   ]
  },
  {
   "cell_type": "code",
   "execution_count": 10,
   "id": "a6faf9df-4cbb-4f8e-9499-db4cead878a9",
   "metadata": {},
   "outputs": [
    {
     "data": {
      "text/plain": [
       "(13, 14)"
      ]
     },
     "execution_count": 10,
     "metadata": {},
     "output_type": "execute_result"
    }
   ],
   "source": [
    "next(counter_iterator), next(counter_iterator)  # still possible to iterate"
   ]
  },
  {
   "cell_type": "code",
   "execution_count": 11,
   "id": "7e890fe9-1465-4e0d-b163-b13e143ee7fd",
   "metadata": {},
   "outputs": [],
   "source": [
    "class CounterInterator:\n",
    "    def __init__(self, counter_callable, sentinel):\n",
    "        self.counter_callable = counter_callable\n",
    "        self.sentinel = sentinel\n",
    "        self.is_consumed = False\n",
    "\n",
    "    def __iter__(self):\n",
    "        return self\n",
    "\n",
    "    def __next__(self):\n",
    "        if self.is_consumed:\n",
    "            raise StopIteration\n",
    "\n",
    "        r = self.counter_callable()\n",
    "        if r == self.sentinel:\n",
    "            self.is_consumed = True\n",
    "            raise StopIteration\n",
    "        return r\n"
   ]
  },
  {
   "cell_type": "code",
   "execution_count": 12,
   "id": "71084098-7b38-4dfc-9b89-3ada9b9b7cf9",
   "metadata": {},
   "outputs": [
    {
     "data": {
      "text/plain": [
       "[1, 2, 3, 4, 5, 6, 7, 8, 9, 10, 11]"
      ]
     },
     "execution_count": 12,
     "metadata": {},
     "output_type": "execute_result"
    }
   ],
   "source": [
    "counter_ = counter()\n",
    "counter_iterator = CounterInterator(counter_, 12)\n",
    "list(counter_iterator)"
   ]
  },
  {
   "cell_type": "code",
   "execution_count": 13,
   "id": "41ccbe40-5062-4d19-b991-e05903ec4793",
   "metadata": {},
   "outputs": [
    {
     "name": "stdout",
     "output_type": "stream",
     "text": [
      "\n"
     ]
    }
   ],
   "source": [
    "try:\n",
    "    print(next(counter_iterator))\n",
    "    print(next(counter_iterator))\n",
    "    print(next(counter_iterator))\n",
    "except StopIteration as e:\n",
    "    print(e)"
   ]
  },
  {
   "cell_type": "code",
   "execution_count": 14,
   "id": "86889066-7066-4e81-9709-09c0e1031f56",
   "metadata": {},
   "outputs": [],
   "source": [
    "class CallableInterator:\n",
    "    def __init__(self, callable_, sentinel):\n",
    "        self.callable_ = callable_\n",
    "        self.sentinel = sentinel\n",
    "        self.is_consumed = False\n",
    "\n",
    "    def __iter__(self):\n",
    "        return self\n",
    "\n",
    "    def __next__(self):\n",
    "        if self.is_consumed:\n",
    "            raise StopIteration\n",
    "\n",
    "        r = self.callable_()\n",
    "        if r == self.sentinel:\n",
    "            self.is_consumed = True\n",
    "            raise StopIteration\n",
    "        return r"
   ]
  },
  {
   "cell_type": "code",
   "execution_count": 15,
   "id": "a5a2825e-0017-42c3-bab6-bfde1bd46781",
   "metadata": {},
   "outputs": [
    {
     "data": {
      "text/plain": [
       "[1, 2, 3, 4, 5, 6, 7, 8, 9, 10, 11, 12, 13, 14]"
      ]
     },
     "execution_count": 15,
     "metadata": {},
     "output_type": "execute_result"
    }
   ],
   "source": [
    "counter_ = counter()\n",
    "counter_iterator = CallableInterator(counter_, 15)\n",
    "list(counter_iterator)"
   ]
  },
  {
   "cell_type": "code",
   "execution_count": 16,
   "id": "4e125297-e06b-4ca8-956f-3f639333cb17",
   "metadata": {},
   "outputs": [
    {
     "data": {
      "text/plain": [
       "[1, 2, 3, 4]"
      ]
     },
     "execution_count": 16,
     "metadata": {},
     "output_type": "execute_result"
    }
   ],
   "source": [
    "counter_ = counter()\n",
    "counter_iter = iter(counter_, 5)\n",
    "list(counter_iter)"
   ]
  },
  {
   "cell_type": "code",
   "execution_count": 17,
   "id": "0e34dd1f-8f3a-44a3-b3ff-cfd7676c78e3",
   "metadata": {},
   "outputs": [
    {
     "data": {
      "text/plain": [
       "['aaa', 'aaaa', 'aaaaa', 'aaaaaa', 'aaaaaaa', 'aaaaaaaa', 'aaaaaaaaa']"
      ]
     },
     "execution_count": 17,
     "metadata": {},
     "output_type": "execute_result"
    }
   ],
   "source": [
    "def concat_a(s: str = \"\"):\n",
    "    def run():\n",
    "        nonlocal s\n",
    "        s += \"a\"\n",
    "        return s\n",
    "\n",
    "    return run\n",
    "\n",
    "func_ = concat_a(\"aa\")\n",
    "counter_iter = iter(func_, \"a\" * 10)\n",
    "list(counter_iter)"
   ]
  },
  {
   "cell_type": "markdown",
   "id": "d1776692-47c3-4bac-a079-e77b211f8048",
   "metadata": {},
   "source": [
    "### Delegating iterators"
   ]
  },
  {
   "cell_type": "code",
   "execution_count": 18,
   "id": "efd22b20-2800-4732-a45f-81d032306e5a",
   "metadata": {},
   "outputs": [],
   "source": [
    "from collections import namedtuple\n",
    "\n",
    "\n",
    "Person = namedtuple(\"Person\", \"first last\")\n",
    "\n",
    "\n",
    "class PersonNames:\n",
    "    def __init__(self, persons: list[Person]):\n",
    "        try:\n",
    "            self._persons =  [\n",
    "                person.first.capitalize() \n",
    "                + \" \" + person.last.capitalize()\n",
    "                for person  in persons\n",
    "            ]\n",
    "        except (TypeError, AttributeError) as e:\n",
    "            print(e)\n",
    "            self._persons = []\n",
    "        \n",
    "        "
   ]
  },
  {
   "cell_type": "code",
   "execution_count": 19,
   "id": "833be768-7a97-46d2-93cc-f0832cb34fbc",
   "metadata": {},
   "outputs": [],
   "source": [
    "persons = [\n",
    "    Person(\"mikeL\", \"palIn\"),\n",
    "    Person(\"Bob\", \"Man\"),\n",
    "    Person(\"spidEr\", \"man\"),\n",
    "    Person(\"bAt\", \"mAN\"),\n",
    "]"
   ]
  },
  {
   "cell_type": "code",
   "execution_count": 20,
   "id": "804fa683-505d-4bb0-beae-9516f7c9d676",
   "metadata": {},
   "outputs": [],
   "source": [
    "persons_names = PersonNames(persons)"
   ]
  },
  {
   "cell_type": "code",
   "execution_count": 21,
   "id": "98890fb1-b8fc-4e73-ab98-91c6c9651491",
   "metadata": {},
   "outputs": [
    {
     "data": {
      "text/plain": [
       "['Mikel Palin', 'Bob Man', 'Spider Man', 'Bat Man']"
      ]
     },
     "execution_count": 21,
     "metadata": {},
     "output_type": "execute_result"
    }
   ],
   "source": [
    "persons_names._persons"
   ]
  },
  {
   "cell_type": "code",
   "execution_count": 22,
   "id": "e252e29d-0c15-4fb7-bdf3-2af82a398932",
   "metadata": {},
   "outputs": [],
   "source": [
    "from collections import namedtuple\n",
    "\n",
    "\n",
    "Person = namedtuple(\"Person\", \"first last\")\n",
    "\n",
    "\n",
    "class PersonNames:\n",
    "    def __init__(self, persons: list[Person]):\n",
    "        try:\n",
    "            self._persons =  [\n",
    "                person.first.capitalize() \n",
    "                + \" \" + person.last.capitalize()\n",
    "                for person  in persons\n",
    "            ]\n",
    "        except (TypeError, AttributeError) as e:\n",
    "            print(e)\n",
    "            self._persons = []\n",
    "        \n",
    "\n",
    "    def __iter__(self):\n",
    "        return iter(self._persons)   # we can delegate creation of iterator"
   ]
  },
  {
   "cell_type": "code",
   "execution_count": 23,
   "id": "97c86676-40bb-496e-bcbb-abae7aaeb6ea",
   "metadata": {},
   "outputs": [
    {
     "data": {
      "text/plain": [
       "['Mikel Palin', 'Bob Man', 'Spider Man', 'Bat Man']"
      ]
     },
     "execution_count": 23,
     "metadata": {},
     "output_type": "execute_result"
    }
   ],
   "source": [
    "persons = [\n",
    "    Person(\"mikeL\", \"palIn\"),\n",
    "    Person(\"Bob\", \"Man\"),\n",
    "    Person(\"spidEr\", \"man\"),\n",
    "    Person(\"bAt\", \"mAN\"),\n",
    "]\n",
    "persons_names = PersonNames(persons)\n",
    "list(persons_names)"
   ]
  },
  {
   "cell_type": "code",
   "execution_count": null,
   "id": "8dfd29c7-9527-40d6-9950-67f2a1c40c09",
   "metadata": {},
   "outputs": [],
   "source": []
  }
 ],
 "metadata": {
  "kernelspec": {
   "display_name": "Python 3 (ipykernel)",
   "language": "python",
   "name": "python3"
  },
  "language_info": {
   "codemirror_mode": {
    "name": "ipython",
    "version": 3
   },
   "file_extension": ".py",
   "mimetype": "text/x-python",
   "name": "python",
   "nbconvert_exporter": "python",
   "pygments_lexer": "ipython3",
   "version": "3.12.3"
  }
 },
 "nbformat": 4,
 "nbformat_minor": 5
}
