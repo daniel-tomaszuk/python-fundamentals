{
 "cells": [
  {
   "cell_type": "markdown",
   "id": "c6f23f7c-5b40-4045-949b-9381462389c6",
   "metadata": {},
   "source": [
    "### Lazy Iterables"
   ]
  },
  {
   "cell_type": "code",
   "execution_count": 1,
   "id": "5d0332e9-a98c-42b1-ac3f-1fd6ad381b0f",
   "metadata": {},
   "outputs": [],
   "source": [
    "import math\n",
    "\n",
    "class Circle:\n",
    "    def __init__(self, r):\n",
    "        self.radius = r\n",
    "\n",
    "    @property\n",
    "    def radius(self):\n",
    "        return self._radius\n",
    "\n",
    "    @radius.setter\n",
    "    def radius(self, r):\n",
    "        self._radius = r\n",
    "        self.area = math.pi * (r ** 2)"
   ]
  },
  {
   "cell_type": "code",
   "execution_count": 2,
   "id": "a1bd7ab0-eb19-4579-ad9d-2c8edf6da722",
   "metadata": {},
   "outputs": [
    {
     "data": {
      "text/plain": [
       "(1, 3.141592653589793)"
      ]
     },
     "execution_count": 2,
     "metadata": {},
     "output_type": "execute_result"
    }
   ],
   "source": [
    "c = Circle(1)\n",
    "c.radius, c.area"
   ]
  },
  {
   "cell_type": "code",
   "execution_count": 3,
   "id": "c99fdb15-3285-4da6-8c10-de37febfb171",
   "metadata": {},
   "outputs": [],
   "source": [
    "import math\n",
    "\n",
    "class Circle:\n",
    "    def __init__(self, r):\n",
    "        self.radius = r\n",
    "\n",
    "    @property\n",
    "    def radius(self):\n",
    "        return self._radius\n",
    "\n",
    "    @radius.setter\n",
    "    def radius(self, r):\n",
    "        self._radius = r\n",
    "\n",
    "    @property\n",
    "    def area(self):\n",
    "        return math.pi * (self.radius ** 2)\n",
    "\n"
   ]
  },
  {
   "cell_type": "code",
   "execution_count": 4,
   "id": "ae62cd85-9528-4363-8252-72fa2f4aaba2",
   "metadata": {},
   "outputs": [],
   "source": [
    "c = Circle(3.14)"
   ]
  },
  {
   "cell_type": "code",
   "execution_count": 5,
   "id": "827e4ab8-ab53-4729-9a2b-9e57002941cc",
   "metadata": {},
   "outputs": [
    {
     "data": {
      "text/plain": [
       "30.974846927333925"
      ]
     },
     "execution_count": 5,
     "metadata": {},
     "output_type": "execute_result"
    }
   ],
   "source": [
    "c.area"
   ]
  },
  {
   "cell_type": "code",
   "execution_count": 6,
   "id": "972722e8-f716-4f76-93b4-55af8ab2d31e",
   "metadata": {},
   "outputs": [],
   "source": [
    "class Circle:\n",
    "    def __init__(self, r):\n",
    "        self.radius = r\n",
    "        self._area = None\n",
    "\n",
    "    @property\n",
    "    def radius(self):\n",
    "        return self._radius\n",
    "\n",
    "    @radius.setter\n",
    "    def radius(self, r):\n",
    "        self._radius = r\n",
    "        self._area = None\n",
    "\n",
    "    @property\n",
    "    def area(self):\n",
    "        if self._area is None:\n",
    "            print(\"Calculating area..\")\n",
    "            self._area = math.pi * (self.radius ** 2)\n",
    "        return self._area"
   ]
  },
  {
   "cell_type": "code",
   "execution_count": 7,
   "id": "b8c82121-641b-43d8-b5df-ffd02bcfaa9b",
   "metadata": {},
   "outputs": [],
   "source": [
    "c = Circle(1)"
   ]
  },
  {
   "cell_type": "code",
   "execution_count": 8,
   "id": "1045c0ce-5d88-4d1f-a1d0-82759c5ee833",
   "metadata": {},
   "outputs": [
    {
     "name": "stdout",
     "output_type": "stream",
     "text": [
      "Calculating area..\n"
     ]
    },
    {
     "data": {
      "text/plain": [
       "3.141592653589793"
      ]
     },
     "execution_count": 8,
     "metadata": {},
     "output_type": "execute_result"
    }
   ],
   "source": [
    "c.area"
   ]
  },
  {
   "cell_type": "code",
   "execution_count": 9,
   "id": "8ba59a02-2f5b-4aae-9fe3-df2e19970b32",
   "metadata": {},
   "outputs": [
    {
     "data": {
      "text/plain": [
       "3.141592653589793"
      ]
     },
     "execution_count": 9,
     "metadata": {},
     "output_type": "execute_result"
    }
   ],
   "source": [
    "c.area"
   ]
  },
  {
   "cell_type": "code",
   "execution_count": 10,
   "id": "3f790fe6-0cb6-4513-a167-98311d2295de",
   "metadata": {},
   "outputs": [],
   "source": [
    "c.radius = 10"
   ]
  },
  {
   "cell_type": "code",
   "execution_count": 11,
   "id": "0e3f23c6-8fa2-4071-8aeb-a5497278b6a1",
   "metadata": {},
   "outputs": [
    {
     "name": "stdout",
     "output_type": "stream",
     "text": [
      "Calculating area..\n"
     ]
    },
    {
     "data": {
      "text/plain": [
       "314.1592653589793"
      ]
     },
     "execution_count": 11,
     "metadata": {},
     "output_type": "execute_result"
    }
   ],
   "source": [
    "c.area"
   ]
  },
  {
   "cell_type": "code",
   "execution_count": 12,
   "id": "d489af4e-5221-453c-8aff-4d10875c42f5",
   "metadata": {},
   "outputs": [
    {
     "data": {
      "text/plain": [
       "314.1592653589793"
      ]
     },
     "execution_count": 12,
     "metadata": {},
     "output_type": "execute_result"
    }
   ],
   "source": [
    "c.area"
   ]
  },
  {
   "cell_type": "code",
   "execution_count": 13,
   "id": "b595ccbb-55e7-42be-8f29-e8de613cae52",
   "metadata": {},
   "outputs": [],
   "source": [
    "class Factorials:\n",
    "\n",
    "    def __iter__(self):\n",
    "        return self.FactIter()\n",
    "\n",
    "    class FactIter:\n",
    "        def __init__(self):\n",
    "            self.i = 0\n",
    "\n",
    "        def __iter__(self):\n",
    "            return self\n",
    "\n",
    "        def __next__(self):\n",
    "            result = math.factorial(self.i)\n",
    "            self.i += 1\n",
    "            return result"
   ]
  },
  {
   "cell_type": "code",
   "execution_count": 14,
   "id": "2a906a34-6f99-46e0-8816-4577dc006be7",
   "metadata": {},
   "outputs": [],
   "source": [
    "f = Factorials()\n",
    "f_iter = iter(f)"
   ]
  },
  {
   "cell_type": "code",
   "execution_count": 15,
   "id": "6de1a771-6e85-4041-bbcb-627bc6b95547",
   "metadata": {},
   "outputs": [
    {
     "data": {
      "text/plain": [
       "(1, 1, 2, 6, 24)"
      ]
     },
     "execution_count": 15,
     "metadata": {},
     "output_type": "execute_result"
    }
   ],
   "source": [
    "next(f_iter), next(f_iter), next(f_iter), next(f_iter), next(f_iter)"
   ]
  },
  {
   "cell_type": "code",
   "execution_count": null,
   "id": "d6f06298-4ffe-4526-befe-a6f7fc5fc501",
   "metadata": {},
   "outputs": [],
   "source": []
  }
 ],
 "metadata": {
  "kernelspec": {
   "display_name": "Python 3 (ipykernel)",
   "language": "python",
   "name": "python3"
  },
  "language_info": {
   "codemirror_mode": {
    "name": "ipython",
    "version": 3
   },
   "file_extension": ".py",
   "mimetype": "text/x-python",
   "name": "python",
   "nbconvert_exporter": "python",
   "pygments_lexer": "ipython3",
   "version": "3.12.3"
  }
 },
 "nbformat": 4,
 "nbformat_minor": 5
}
