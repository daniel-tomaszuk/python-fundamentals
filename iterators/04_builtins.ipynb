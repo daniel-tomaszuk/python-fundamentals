{
 "cells": [
  {
   "cell_type": "code",
   "execution_count": 1,
   "id": "3bf7763f-d258-483c-95bd-9ba652c02f71",
   "metadata": {},
   "outputs": [],
   "source": [
    "x = range(10)"
   ]
  },
  {
   "cell_type": "code",
   "execution_count": 2,
   "id": "23dba1cc-4093-4665-ab77-a6b8886589f4",
   "metadata": {},
   "outputs": [
    {
     "data": {
      "text/plain": [
       "([0, 1, 2, 3, 4, 5, 6, 7, 8, 9], [0, 1, 2, 3, 4, 5, 6, 7, 8, 9])"
      ]
     },
     "execution_count": 2,
     "metadata": {},
     "output_type": "execute_result"
    }
   ],
   "source": [
    "list(x), list(x)  # it's an iterable"
   ]
  },
  {
   "cell_type": "code",
   "execution_count": 3,
   "id": "d2ed9a3c-015e-4c49-ae60-7ecd0bef8a8e",
   "metadata": {},
   "outputs": [
    {
     "data": {
      "text/plain": [
       "(True, False)"
      ]
     },
     "execution_count": 3,
     "metadata": {},
     "output_type": "execute_result"
    }
   ],
   "source": [
    "\"__iter__\" in dir(x), \"__next__\" in dir(x)"
   ]
  },
  {
   "cell_type": "code",
   "execution_count": 4,
   "id": "bc9d0a16-5526-463b-bda5-18e595821e98",
   "metadata": {},
   "outputs": [
    {
     "data": {
      "text/plain": [
       "([(1, 'a'), (2, 'b'), (3, 'c')], [], [])"
      ]
     },
     "execution_count": 4,
     "metadata": {},
     "output_type": "execute_result"
    }
   ],
   "source": [
    "z = zip((1,2,3), \"abc\")  # it's an iterator\n",
    "list(z), list(z), list(z)"
   ]
  },
  {
   "cell_type": "code",
   "execution_count": 5,
   "id": "a52741c4-271a-4704-bb0b-128876872d52",
   "metadata": {},
   "outputs": [
    {
     "name": "stdout",
     "output_type": "stream",
     "text": [
      "<class '_io.TextIOWrapper'>\n",
      "True\n",
      "True\n",
      "['_CHUNK_SIZE', '__class__', '__del__', '__delattr__', '__dict__', '__dir__', '__doc__', '__enter__', '__eq__', '__exit__', '__format__', '__ge__', '__getattribute__', '__getstate__', '__gt__', '__hash__', '__init__', '__init_subclass__', '__iter__', '__le__', '__lt__', '__module__', '__ne__', '__new__', '__next__', '__reduce__', '__reduce_ex__', '__repr__', '__setattr__', '__sizeof__', '__str__', '__subclasshook__', '_checkClosed', '_checkReadable', '_checkSeekable', '_checkWritable', '_finalizing', 'buffer', 'close', 'closed', 'detach', 'encoding', 'errors', 'fileno', 'flush', 'isatty', 'line_buffering', 'mode', 'name', 'newlines', 'read', 'readable', 'readline', 'readlines', 'reconfigure', 'seek', 'seekable', 'tell', 'truncate', 'writable', 'write', 'write_through', 'writelines']\n"
     ]
    }
   ],
   "source": [
    "with open(\"cars.csv\") as f:  # it's an iterator\n",
    "    print(type(f))\n",
    "    print(\"__iter__\" in dir(f))\n",
    "    print(\"__next__\" in dir(f))\n",
    "    print(dir(f))\n"
   ]
  },
  {
   "cell_type": "code",
   "execution_count": 6,
   "id": "9b6d8723-bce3-47c8-88a6-6ec831864a62",
   "metadata": {},
   "outputs": [
    {
     "name": "stdout",
     "output_type": "stream",
     "text": [
      "-------\n",
      "[]\n",
      "[]\n"
     ]
    }
   ],
   "source": [
    "with open(\"cars.csv\") as f:  # it's an iterator\n",
    "    list(f)\n",
    "    print(\"-------\")\n",
    "    print(list(f))\n",
    "    print(list(f))\n",
    "    "
   ]
  },
  {
   "cell_type": "code",
   "execution_count": 7,
   "id": "9c3dc099-77cc-495e-82c2-a4d85189d8b9",
   "metadata": {},
   "outputs": [
    {
     "name": "stdout",
     "output_type": "stream",
     "text": [
      "{'Europe', 'Japan', 'US'}\n"
     ]
    }
   ],
   "source": [
    "# load data row by row, not whole file at once\n",
    "origins = set()\n",
    "with open(\"cars.csv\") as f:  # it's an iterator\n",
    "    headers = next(f)\n",
    "    data_types = next(f)\n",
    "    while True:\n",
    "        try:\n",
    "            origin = next(f).strip(\"\\n\").split(\";\")[-1]\n",
    "        except StopIteration:\n",
    "            break\n",
    "        origins.add(origin)\n",
    "print(origins)\n",
    "        "
   ]
  },
  {
   "cell_type": "code",
   "execution_count": 8,
   "id": "8c1f79db-7fdc-4c8c-86bf-08c12c421d5d",
   "metadata": {},
   "outputs": [
    {
     "data": {
      "text/plain": [
       "True"
      ]
     },
     "execution_count": 8,
     "metadata": {},
     "output_type": "execute_result"
    }
   ],
   "source": [
    "e = enumerate(\"abcds\")\n",
    "iter(e) is e  # is an iterator"
   ]
  },
  {
   "cell_type": "code",
   "execution_count": 9,
   "id": "3cd488e5-33ce-4c8c-adf1-6ff350aae2fd",
   "metadata": {},
   "outputs": [
    {
     "data": {
      "text/plain": [
       "([(0, 'a'), (1, 'b'), (2, 'c'), (3, 'd'), (4, 's')], [])"
      ]
     },
     "execution_count": 9,
     "metadata": {},
     "output_type": "execute_result"
    }
   ],
   "source": [
    "list(e), list(e)"
   ]
  },
  {
   "cell_type": "code",
   "execution_count": 10,
   "id": "e1e1f161-4be3-4d01-8de0-faeb4bc68484",
   "metadata": {},
   "outputs": [
    {
     "data": {
      "text/plain": [
       "(['a', 'b', 'c'], ['a', 'b', 'c'], False)"
      ]
     },
     "execution_count": 10,
     "metadata": {},
     "output_type": "execute_result"
    }
   ],
   "source": [
    "k = {\"a\": 1, \"b\": 2, \"c\": 3}.keys()\n",
    "list(k), list(k), iter(k) is k"
   ]
  },
  {
   "cell_type": "code",
   "execution_count": null,
   "id": "faa14f00-de67-4d5e-9c9e-9e8887892319",
   "metadata": {},
   "outputs": [],
   "source": []
  }
 ],
 "metadata": {
  "kernelspec": {
   "display_name": "Python 3 (ipykernel)",
   "language": "python",
   "name": "python3"
  },
  "language_info": {
   "codemirror_mode": {
    "name": "ipython",
    "version": 3
   },
   "file_extension": ".py",
   "mimetype": "text/x-python",
   "name": "python",
   "nbconvert_exporter": "python",
   "pygments_lexer": "ipython3",
   "version": "3.12.3"
  }
 },
 "nbformat": 4,
 "nbformat_minor": 5
}
