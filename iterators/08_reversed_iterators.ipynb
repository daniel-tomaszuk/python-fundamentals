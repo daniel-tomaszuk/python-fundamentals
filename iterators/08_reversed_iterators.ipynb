{
 "cells": [
  {
   "cell_type": "markdown",
   "id": "e572843d-e76e-4acc-8a0f-5ecea91b2f42",
   "metadata": {},
   "source": [
    "### Reversed iterators and `__reverse__` method\n",
    "- `reverse()`  function looks for `__reverse__`, then `__getitem__`, then raises an exception "
   ]
  },
  {
   "cell_type": "code",
   "execution_count": 1,
   "id": "44d54111-ebb0-4f07-858e-d24338f780a6",
   "metadata": {},
   "outputs": [],
   "source": [
    "from collections import namedtuple\n",
    "\n",
    "\n",
    "Card = namedtuple(\"Card\", \"rank suit\")\n",
    "\n",
    "\n",
    "class CardDeck:\n",
    "    _SUITS = (\"Spades\",\"Hearts\",\"Diamonds\",\"Clubs\")\n",
    "    _RANKS = tuple(range(2,11)) + tuple(\"JQKA\")\n",
    "\n",
    "    def __init__(self):\n",
    "        self.length = len(self._SUITS) * len(self._RANKS)\n",
    "\n",
    "    def __len__(self):\n",
    "        return self.length\n",
    "\n",
    "    def __iter__(self):\n",
    "        return self.CardDeckIterator(self.length)\n",
    "\n",
    "    class CardDeckIterator:\n",
    "        def __init__(self, length):\n",
    "            self.length = length\n",
    "            self.i = 0\n",
    "\n",
    "        def __iter__(self):\n",
    "            return self\n",
    "\n",
    "        def __next__(self):\n",
    "            if self.i >= self.length:\n",
    "                raise StopIteration\n",
    "            suit = CardDeck._SUITS[self.i // len(CardDeck._RANKS)]\n",
    "            rank = CardDeck._RANKS[self.i % len(CardDeck._RANKS)]\n",
    "            self.i += 1\n",
    "            return Card(rank, suit)\n",
    "            "
   ]
  },
  {
   "cell_type": "code",
   "execution_count": 2,
   "id": "c4c3b126-0de8-4ba5-bf77-a6e261382450",
   "metadata": {},
   "outputs": [
    {
     "data": {
      "text/plain": [
       "(52,\n",
       " [Card(rank=2, suit='Spades'),\n",
       "  Card(rank=3, suit='Spades'),\n",
       "  Card(rank=4, suit='Spades'),\n",
       "  Card(rank=5, suit='Spades'),\n",
       "  Card(rank=6, suit='Spades'),\n",
       "  Card(rank=7, suit='Spades'),\n",
       "  Card(rank=8, suit='Spades'),\n",
       "  Card(rank=9, suit='Spades'),\n",
       "  Card(rank=10, suit='Spades'),\n",
       "  Card(rank='J', suit='Spades'),\n",
       "  Card(rank='Q', suit='Spades'),\n",
       "  Card(rank='K', suit='Spades'),\n",
       "  Card(rank='A', suit='Spades'),\n",
       "  Card(rank=2, suit='Hearts'),\n",
       "  Card(rank=3, suit='Hearts'),\n",
       "  Card(rank=4, suit='Hearts'),\n",
       "  Card(rank=5, suit='Hearts'),\n",
       "  Card(rank=6, suit='Hearts'),\n",
       "  Card(rank=7, suit='Hearts'),\n",
       "  Card(rank=8, suit='Hearts'),\n",
       "  Card(rank=9, suit='Hearts'),\n",
       "  Card(rank=10, suit='Hearts'),\n",
       "  Card(rank='J', suit='Hearts'),\n",
       "  Card(rank='Q', suit='Hearts'),\n",
       "  Card(rank='K', suit='Hearts'),\n",
       "  Card(rank='A', suit='Hearts'),\n",
       "  Card(rank=2, suit='Diamonds'),\n",
       "  Card(rank=3, suit='Diamonds'),\n",
       "  Card(rank=4, suit='Diamonds'),\n",
       "  Card(rank=5, suit='Diamonds'),\n",
       "  Card(rank=6, suit='Diamonds'),\n",
       "  Card(rank=7, suit='Diamonds'),\n",
       "  Card(rank=8, suit='Diamonds'),\n",
       "  Card(rank=9, suit='Diamonds'),\n",
       "  Card(rank=10, suit='Diamonds'),\n",
       "  Card(rank='J', suit='Diamonds'),\n",
       "  Card(rank='Q', suit='Diamonds'),\n",
       "  Card(rank='K', suit='Diamonds'),\n",
       "  Card(rank='A', suit='Diamonds'),\n",
       "  Card(rank=2, suit='Clubs'),\n",
       "  Card(rank=3, suit='Clubs'),\n",
       "  Card(rank=4, suit='Clubs'),\n",
       "  Card(rank=5, suit='Clubs'),\n",
       "  Card(rank=6, suit='Clubs'),\n",
       "  Card(rank=7, suit='Clubs'),\n",
       "  Card(rank=8, suit='Clubs'),\n",
       "  Card(rank=9, suit='Clubs'),\n",
       "  Card(rank=10, suit='Clubs'),\n",
       "  Card(rank='J', suit='Clubs'),\n",
       "  Card(rank='Q', suit='Clubs'),\n",
       "  Card(rank='K', suit='Clubs'),\n",
       "  Card(rank='A', suit='Clubs')])"
      ]
     },
     "execution_count": 2,
     "metadata": {},
     "output_type": "execute_result"
    }
   ],
   "source": [
    "cd = CardDeck()\n",
    "len(cd), list(cd)"
   ]
  },
  {
   "cell_type": "code",
   "execution_count": 3,
   "id": "c37aab47-3c34-4555-98b0-453363bb0ecc",
   "metadata": {},
   "outputs": [],
   "source": [
    "# now how to get last few elements without evaluating the whole list?"
   ]
  },
  {
   "cell_type": "code",
   "execution_count": 4,
   "id": "994e47b3-d08c-4863-b932-423da37d3679",
   "metadata": {},
   "outputs": [],
   "source": [
    "from collections import namedtuple\n",
    "\n",
    "\n",
    "Card = namedtuple(\"Card\", \"rank suit\")\n",
    "\n",
    "\n",
    "class CardDeck:\n",
    "    _SUITS = (\"Spades\",\"Hearts\",\"Diamonds\",\"Clubs\")\n",
    "    _RANKS = tuple(range(2,11)) + tuple(\"JQKA\")\n",
    "\n",
    "    def __init__(self):\n",
    "        self.length = len(self._SUITS) * len(self._RANKS)\n",
    "\n",
    "    def __len__(self):\n",
    "        return self.length\n",
    "\n",
    "    def __reversed__(self):\n",
    "        return self.CardDeckIterator(self.length, reverse=True)\n",
    "\n",
    "    def __iter__(self):\n",
    "        return self.CardDeckIterator(self.length)\n",
    "\n",
    "    class CardDeckIterator:\n",
    "        def __init__(self, length: int, reverse: bool = False):\n",
    "            self.length = length\n",
    "            self.i = 0\n",
    "            self.reverse = reverse\n",
    "\n",
    "        def __iter__(self):\n",
    "            return self\n",
    "\n",
    "        def __next__(self):\n",
    "            if self.i >= self.length:\n",
    "                raise StopIteration\n",
    "\n",
    "            index_ = self.i if not self.reverse else self.length - 1 - self.i\n",
    "            suit = CardDeck._SUITS[index_ // len(CardDeck._RANKS)]\n",
    "            rank = CardDeck._RANKS[index_ % len(CardDeck._RANKS)]\n",
    "            self.i += 1\n",
    "            return Card(rank, suit)\n"
   ]
  },
  {
   "cell_type": "code",
   "execution_count": 5,
   "id": "df99e724-ff2a-4f58-b11b-571ec466d8ec",
   "metadata": {},
   "outputs": [],
   "source": [
    "reversed_cd = reversed(CardDeck())"
   ]
  },
  {
   "cell_type": "code",
   "execution_count": 6,
   "id": "c46df79c-353d-49d6-8ba9-52f79e731236",
   "metadata": {},
   "outputs": [
    {
     "data": {
      "text/plain": [
       "[Card(rank='A', suit='Clubs'),\n",
       " Card(rank='K', suit='Clubs'),\n",
       " Card(rank='Q', suit='Clubs'),\n",
       " Card(rank='J', suit='Clubs'),\n",
       " Card(rank=10, suit='Clubs')]"
      ]
     },
     "execution_count": 6,
     "metadata": {},
     "output_type": "execute_result"
    }
   ],
   "source": [
    "list(reversed_cd)[0:5]  # __reversed__ is used to get the rerversed iterator"
   ]
  },
  {
   "cell_type": "markdown",
   "id": "76e1f438-4649-4024-bfa7-cd6c620236e0",
   "metadata": {},
   "source": [
    "### Sequences"
   ]
  },
  {
   "cell_type": "code",
   "execution_count": 7,
   "id": "03dacf3a-b316-46eb-b7e8-296f628142f0",
   "metadata": {},
   "outputs": [],
   "source": [
    "class Squares:\n",
    "    def __init__(self, length):\n",
    "        self.length = length\n",
    "        self.squares = [i ** 2 for i in range(length)]\n",
    "\n",
    "    def __len__(self):\n",
    "        return len(self.squares)\n",
    "\n",
    "    def __getitem__(self, s):\n",
    "        return self.squares[s]"
   ]
  },
  {
   "cell_type": "code",
   "execution_count": 8,
   "id": "6842b892-d6e3-4bf9-9d3b-48e5b75bc873",
   "metadata": {},
   "outputs": [
    {
     "data": {
      "text/plain": [
       "[0, 1, 4, 9, 16]"
      ]
     },
     "execution_count": 8,
     "metadata": {},
     "output_type": "execute_result"
    }
   ],
   "source": [
    "list(Squares(5))"
   ]
  },
  {
   "cell_type": "code",
   "execution_count": 9,
   "id": "a54b9132-3589-4e37-9d9f-259e4d008399",
   "metadata": {},
   "outputs": [
    {
     "data": {
      "text/plain": [
       "[16, 9, 4, 1, 0]"
      ]
     },
     "execution_count": 9,
     "metadata": {},
     "output_type": "execute_result"
    }
   ],
   "source": [
    "list(reversed(Squares(5)))  # !! works out of the box ->  __len__ is required"
   ]
  },
  {
   "cell_type": "code",
   "execution_count": 10,
   "id": "058ea9a3-0edd-45aa-8740-5a1f3ae88e8a",
   "metadata": {},
   "outputs": [],
   "source": [
    "class Squares:\n",
    "    def __init__(self, length):\n",
    "        self.length = length\n",
    "        self.squares = [i ** 2 for i in range(length)]\n",
    "\n",
    "    def __len__(self):\n",
    "        return len(self.squares)\n",
    "\n",
    "    def __getitem__(self, s):\n",
    "        return self.squares[s]\n",
    "\n",
    "    def __reversed__(self):\n",
    "        print(\"__reversed__ called\")\n",
    "        return \"Hello from __reversed__\"\n"
   ]
  },
  {
   "cell_type": "code",
   "execution_count": 11,
   "id": "f9210307-6de6-4978-8ac7-85cd285356fd",
   "metadata": {},
   "outputs": [
    {
     "name": "stdout",
     "output_type": "stream",
     "text": [
      "__reversed__ called\n"
     ]
    },
    {
     "data": {
      "text/plain": [
       "['H',\n",
       " 'e',\n",
       " 'l',\n",
       " 'l',\n",
       " 'o',\n",
       " ' ',\n",
       " 'f',\n",
       " 'r',\n",
       " 'o',\n",
       " 'm',\n",
       " ' ',\n",
       " '_',\n",
       " '_',\n",
       " 'r',\n",
       " 'e',\n",
       " 'v',\n",
       " 'e',\n",
       " 'r',\n",
       " 's',\n",
       " 'e',\n",
       " 'd',\n",
       " '_',\n",
       " '_']"
      ]
     },
     "execution_count": 11,
     "metadata": {},
     "output_type": "execute_result"
    }
   ],
   "source": [
    "list(reversed(Squares(2)))"
   ]
  },
  {
   "cell_type": "code",
   "execution_count": null,
   "id": "18900426-afa9-4077-8f71-7cb420017e1c",
   "metadata": {},
   "outputs": [],
   "source": []
  }
 ],
 "metadata": {
  "kernelspec": {
   "display_name": "Python 3 (ipykernel)",
   "language": "python",
   "name": "python3"
  },
  "language_info": {
   "codemirror_mode": {
    "name": "ipython",
    "version": 3
   },
   "file_extension": ".py",
   "mimetype": "text/x-python",
   "name": "python",
   "nbconvert_exporter": "python",
   "pygments_lexer": "ipython3",
   "version": "3.12.3"
  }
 },
 "nbformat": 4,
 "nbformat_minor": 5
}
