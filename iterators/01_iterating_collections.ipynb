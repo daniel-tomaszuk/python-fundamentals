{
 "cells": [
  {
   "cell_type": "code",
   "execution_count": 1,
   "id": "3284a707-a159-4956-8c7c-8a0665bf14cb",
   "metadata": {},
   "outputs": [
    {
     "name": "stdout",
     "output_type": "stream",
     "text": [
      "x\n",
      "y\n",
      "b\n",
      "c\n",
      "d\n"
     ]
    }
   ],
   "source": [
    "s =  [\"x\", \"y\", \"b\", \"c\", \"d\"]\n",
    "for el in s:\n",
    "    print(el)"
   ]
  },
  {
   "cell_type": "code",
   "execution_count": 2,
   "id": "a9d91388-81cb-47c3-b5b6-8ca9ddd811fa",
   "metadata": {},
   "outputs": [],
   "source": [
    "class Squares:\n",
    "    def __init__(self):\n",
    "        self.i = 0\n",
    "\n",
    "    def next_(self):\n",
    "        r = self.i  ** 2\n",
    "        self.i  += 1\n",
    "        return r"
   ]
  },
  {
   "cell_type": "code",
   "execution_count": 3,
   "id": "37bc8cbd-0c2d-476d-a9b9-b6cb518381b5",
   "metadata": {},
   "outputs": [
    {
     "name": "stdout",
     "output_type": "stream",
     "text": [
      "0\n",
      "1\n",
      "4\n",
      "9\n",
      "16\n"
     ]
    }
   ],
   "source": [
    "sq = Squares()\n",
    "for _ in range(5):\n",
    "    print(sq.next_())"
   ]
  },
  {
   "cell_type": "code",
   "execution_count": 4,
   "id": "bb1e563f-ccd5-47bc-b51f-0e66c9e3e7a7",
   "metadata": {},
   "outputs": [],
   "source": [
    "class Squares:\n",
    "    def __init__(self, max_: int):\n",
    "        self.i = 0\n",
    "        self.max_ = max_\n",
    "\n",
    "    def __len__(self):\n",
    "        return self.max_\n",
    "\n",
    "    def next_(self):\n",
    "        if self.i >= len(self):\n",
    "            raise StopIteration\n",
    "        r = self.i  ** 2\n",
    "        self.i  += 1\n",
    "        return r"
   ]
  },
  {
   "cell_type": "code",
   "execution_count": 5,
   "id": "f99cdb25-a2ee-4947-bafc-2ecede10ff7d",
   "metadata": {},
   "outputs": [
    {
     "name": "stdout",
     "output_type": "stream",
     "text": [
      "0\n",
      "1\n",
      "4\n",
      "9\n",
      "\n"
     ]
    }
   ],
   "source": [
    "sq = Squares(4)\n",
    "for _ in range(5):\n",
    "    try:\n",
    "        print(sq.next_())\n",
    "    except StopIteration as e:\n",
    "        print(e)"
   ]
  },
  {
   "cell_type": "code",
   "execution_count": 6,
   "id": "4e97e657-4826-4fe9-be18-820cf94e6444",
   "metadata": {},
   "outputs": [],
   "source": [
    "class Squares:\n",
    "    def __init__(self, max_: int):\n",
    "        self.i = 0\n",
    "        self.max_ = max_\n",
    "\n",
    "    def __len__(self):\n",
    "        return self.max_\n",
    "\n",
    "    def __next__(self):\n",
    "        if self.i >= len(self):\n",
    "            raise StopIteration\n",
    "        r = self.i  ** 2\n",
    "        self.i  += 1\n",
    "        return r"
   ]
  },
  {
   "cell_type": "code",
   "execution_count": 7,
   "id": "8dbbf799-86f3-40ac-9e78-16846bc2d089",
   "metadata": {},
   "outputs": [
    {
     "name": "stdout",
     "output_type": "stream",
     "text": [
      "0\n",
      "1\n",
      "4\n",
      "9\n",
      "\n"
     ]
    }
   ],
   "source": [
    "sq = Squares(4)\n",
    "for _ in range(5):\n",
    "    try:\n",
    "        print(next(sq))\n",
    "    except StopIteration as e:\n",
    "        print(e)\n"
   ]
  },
  {
   "cell_type": "code",
   "execution_count": 8,
   "id": "ce7961fd-fc14-44d0-90d5-e43d6934334f",
   "metadata": {},
   "outputs": [],
   "source": [
    "import random\n",
    "\n",
    "\n",
    "class  RandomNumbers:\n",
    "    def __init__(self, length, *, range_min:  int  = 0, range_max: int =  10):\n",
    "        self.length = length\n",
    "        self.range_min = range_min\n",
    "        self.range_max = range_max\n",
    "        self.num_requested = 0\n",
    "\n",
    "    def __len__(self):\n",
    "        return self.length\n",
    "\n",
    "    def __next__(self):\n",
    "        if self.num_requested >=  self.length:\n",
    "            raise StopIteration\n",
    "        self.num_requested += 1\n",
    "        return random.randint(self.range_min, self.range_max)\n"
   ]
  },
  {
   "cell_type": "code",
   "execution_count": 9,
   "id": "e75b500c-5640-4080-9138-0fc13574b0fe",
   "metadata": {},
   "outputs": [
    {
     "name": "stdout",
     "output_type": "stream",
     "text": [
      "9\n",
      "1\n",
      "2\n",
      "9\n",
      "6\n"
     ]
    }
   ],
   "source": [
    "rn = RandomNumbers(5)\n",
    "while True:\n",
    "    try:\n",
    "        print(next(rn))\n",
    "    except StopIteration:\n",
    "        break"
   ]
  },
  {
   "cell_type": "code",
   "execution_count": null,
   "id": "f49cd9c3-2a34-4ea2-afe9-39b05c5f09ce",
   "metadata": {},
   "outputs": [],
   "source": []
  }
 ],
 "metadata": {
  "kernelspec": {
   "display_name": "Python 3 (ipykernel)",
   "language": "python",
   "name": "python3"
  },
  "language_info": {
   "codemirror_mode": {
    "name": "ipython",
    "version": 3
   },
   "file_extension": ".py",
   "mimetype": "text/x-python",
   "name": "python",
   "nbconvert_exporter": "python",
   "pygments_lexer": "ipython3",
   "version": "3.12.3"
  }
 },
 "nbformat": 4,
 "nbformat_minor": 5
}
