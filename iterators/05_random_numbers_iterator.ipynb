{
 "cells": [
  {
   "cell_type": "code",
   "execution_count": 1,
   "id": "a833e70a-c790-40bd-90b4-e75c1aedf95a",
   "metadata": {},
   "outputs": [],
   "source": [
    "import random\n",
    "\n",
    "random.seed(0)\n",
    "\n",
    "\n",
    "class RandomInts:\n",
    "    def __init__(self, length, *, seed=0, lower=0, upper=10):\n",
    "        self.length = length\n",
    "        self.seed = seed\n",
    "        self.lower = lower\n",
    "        self.upper = upper\n",
    "\n",
    "    def __len__(self):\n",
    "        return self.length\n",
    "\n",
    "    def __iter__(self):\n",
    "        return self.RandomIntIter(self.length, seed=self.seed, lower=self.lower, upper=self.upper)\n",
    "\n",
    "    \n",
    "    class RandomIntIter:\n",
    "        def __init__(self, length, *, seed, lower, upper):\n",
    "            self.length = length\n",
    "            self.lower = lower\n",
    "            self.upper = upper\n",
    "            self.num_requests = 0\n",
    "            random.seed(seed)\n",
    "\n",
    "        def __iter__(self):\n",
    "            return self\n",
    "\n",
    "        def __next__(self):\n",
    "            if self.num_requests >= self.length:\n",
    "                raise StopIteration\n",
    "\n",
    "            self.num_requests += 1\n",
    "            return random.randint(self.lower, self.upper)\n"
   ]
  },
  {
   "cell_type": "code",
   "execution_count": 2,
   "id": "0c5f835f-7f38-4bbd-aba4-de9cd8d91a88",
   "metadata": {},
   "outputs": [
    {
     "data": {
      "text/plain": [
       "[6, 6, 0, 4, 8, 7, 6, 4, 7, 5]"
      ]
     },
     "execution_count": 2,
     "metadata": {},
     "output_type": "execute_result"
    }
   ],
   "source": [
    "randoms =  RandomInts(10)\n",
    "list(randoms)"
   ]
  },
  {
   "cell_type": "code",
   "execution_count": 3,
   "id": "70a350a9-73db-4070-aff5-f04748250d4b",
   "metadata": {},
   "outputs": [
    {
     "data": {
      "text/plain": [
       "[6, 6, 0, 4, 8, 7, 6, 4, 7, 5]"
      ]
     },
     "execution_count": 3,
     "metadata": {},
     "output_type": "execute_result"
    }
   ],
   "source": [
    "list(randoms)"
   ]
  },
  {
   "cell_type": "code",
   "execution_count": 4,
   "id": "c3ac26ba-de2c-42c7-99d5-613309e41bad",
   "metadata": {},
   "outputs": [
    {
     "data": {
      "text/plain": [
       "([3, 7, 2, 9, 5, 6, 6, 2, 2, 4], [3, 3, 10, 10, 0, 2, 8, 5, 5, 1])"
      ]
     },
     "execution_count": 4,
     "metadata": {},
     "output_type": "execute_result"
    }
   ],
   "source": [
    "randoms =  RandomInts(10, seed=None)\n",
    "list(randoms), list(randoms)"
   ]
  },
  {
   "cell_type": "code",
   "execution_count": null,
   "id": "12d28fc6-7645-41e2-8b73-282fc8a65a72",
   "metadata": {},
   "outputs": [],
   "source": []
  }
 ],
 "metadata": {
  "kernelspec": {
   "display_name": "Python 3 (ipykernel)",
   "language": "python",
   "name": "python3"
  },
  "language_info": {
   "codemirror_mode": {
    "name": "ipython",
    "version": 3
   },
   "file_extension": ".py",
   "mimetype": "text/x-python",
   "name": "python",
   "nbconvert_exporter": "python",
   "pygments_lexer": "ipython3",
   "version": "3.12.3"
  }
 },
 "nbformat": 4,
 "nbformat_minor": 5
}
