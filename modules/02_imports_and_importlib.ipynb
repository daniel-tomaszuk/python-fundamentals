{
 "cells": [
  {
   "cell_type": "code",
   "execution_count": 1,
   "id": "70e09f81-2f64-4630-a723-2ce230e97faf",
   "metadata": {},
   "outputs": [],
   "source": [
    "import sys"
   ]
  },
  {
   "cell_type": "code",
   "execution_count": 2,
   "id": "5ce4b033-227d-40ae-ac82-a07822b35046",
   "metadata": {},
   "outputs": [
    {
     "data": {
      "text/plain": [
       "<module 'sys' (built-in)>"
      ]
     },
     "execution_count": 2,
     "metadata": {},
     "output_type": "execute_result"
    }
   ],
   "source": [
    "sys"
   ]
  },
  {
   "cell_type": "code",
   "execution_count": 3,
   "id": "9e509304-25ae-4a70-af59-8fcd68d5cc62",
   "metadata": {},
   "outputs": [
    {
     "data": {
      "text/plain": [
       "<module 'importlib' from '/Library/Frameworks/Python.framework/Versions/3.12/lib/python3.12/importlib/__init__.py'>"
      ]
     },
     "execution_count": 3,
     "metadata": {},
     "output_type": "execute_result"
    }
   ],
   "source": [
    "import importlib\n",
    "importlib"
   ]
  },
  {
   "cell_type": "code",
   "execution_count": 4,
   "id": "22eaa873-fe65-4879-a5b5-771cab333b0f",
   "metadata": {},
   "outputs": [
    {
     "data": {
      "text/plain": [
       "<module 'math' from '/Library/Frameworks/Python.framework/Versions/3.12/lib/python3.12/lib-dynload/math.cpython-312-darwin.so'>"
      ]
     },
     "execution_count": 4,
     "metadata": {},
     "output_type": "execute_result"
    }
   ],
   "source": [
    "importlib.import_module(\"math\")"
   ]
  },
  {
   "cell_type": "code",
   "execution_count": 5,
   "id": "4e7f6344-96e6-4c99-97be-9cd281f9fa47",
   "metadata": {},
   "outputs": [
    {
     "name": "stdout",
     "output_type": "stream",
     "text": [
      "name 'math' is not defined\n"
     ]
    }
   ],
   "source": [
    "# won't work, we don't have a handle to the imported module\n",
    "try:\n",
    "    math.sqrt\n",
    "except NameError as e:\n",
    "    print(e)"
   ]
  },
  {
   "cell_type": "code",
   "execution_count": 6,
   "id": "9a488a08-92c0-4266-8f9c-369385d581cd",
   "metadata": {},
   "outputs": [
    {
     "data": {
      "text/plain": [
       "True"
      ]
     },
     "execution_count": 6,
     "metadata": {},
     "output_type": "execute_result"
    }
   ],
   "source": [
    "\"math\" in sys.modules"
   ]
  },
  {
   "cell_type": "code",
   "execution_count": 7,
   "id": "aa9ea1dc-2e18-4b4a-b5a6-6ebe331256b1",
   "metadata": {},
   "outputs": [],
   "source": [
    "math = sys.modules[\"math\"]"
   ]
  },
  {
   "cell_type": "code",
   "execution_count": 8,
   "id": "88002e16-8dcf-4d53-af94-36c140d680ed",
   "metadata": {},
   "outputs": [
    {
     "data": {
      "text/plain": [
       "<module 'math' from '/Library/Frameworks/Python.framework/Versions/3.12/lib/python3.12/lib-dynload/math.cpython-312-darwin.so'>"
      ]
     },
     "execution_count": 8,
     "metadata": {},
     "output_type": "execute_result"
    }
   ],
   "source": [
    "math"
   ]
  },
  {
   "cell_type": "code",
   "execution_count": 9,
   "id": "f89cc5bd-63c2-42a2-933a-eb951a7d23a5",
   "metadata": {},
   "outputs": [],
   "source": [
    "math2 = importlib.import_module(\"math\")"
   ]
  },
  {
   "cell_type": "code",
   "execution_count": 10,
   "id": "751d3695-b977-41b2-8c77-f0ac51ff8953",
   "metadata": {},
   "outputs": [
    {
     "data": {
      "text/plain": [
       "True"
      ]
     },
     "execution_count": 10,
     "metadata": {},
     "output_type": "execute_result"
    }
   ],
   "source": [
    "math2 is math"
   ]
  },
  {
   "cell_type": "code",
   "execution_count": 11,
   "id": "1c9e131c-0bd8-4b4f-94a5-d6b205874157",
   "metadata": {},
   "outputs": [
    {
     "data": {
      "text/plain": [
       "True"
      ]
     },
     "execution_count": 11,
     "metadata": {},
     "output_type": "execute_result"
    }
   ],
   "source": [
    "\"math2\" in globals()"
   ]
  },
  {
   "cell_type": "code",
   "execution_count": 12,
   "id": "0e91098a-6244-42b1-bacd-cbaa878c2688",
   "metadata": {},
   "outputs": [
    {
     "data": {
      "text/plain": [
       "1.4142135623730951"
      ]
     },
     "execution_count": 12,
     "metadata": {},
     "output_type": "execute_result"
    }
   ],
   "source": [
    "math2.sqrt(2)"
   ]
  },
  {
   "cell_type": "code",
   "execution_count": 13,
   "id": "99efef83-db39-4cb1-995f-8ea0d5a1c0f3",
   "metadata": {},
   "outputs": [],
   "source": [
    "# importer = finder + loader"
   ]
  },
  {
   "cell_type": "code",
   "execution_count": 14,
   "id": "1f1e5559-479b-45de-823e-a9aed4b842cf",
   "metadata": {},
   "outputs": [
    {
     "data": {
      "text/plain": [
       "ModuleSpec(name='math', loader=<_frozen_importlib_external.ExtensionFileLoader object at 0x1040f8500>, origin='/Library/Frameworks/Python.framework/Versions/3.12/lib/python3.12/lib-dynload/math.cpython-312-darwin.so')"
      ]
     },
     "execution_count": 14,
     "metadata": {},
     "output_type": "execute_result"
    }
   ],
   "source": [
    "math.__spec__  # info from the finder"
   ]
  },
  {
   "cell_type": "code",
   "execution_count": 15,
   "id": "03678575-cfa8-43e0-ae33-f37f091a5d1c",
   "metadata": {},
   "outputs": [
    {
     "data": {
      "text/plain": [
       "[<_distutils_hack.DistutilsMetaFinder at 0x103fec2c0>,\n",
       " <_virtualenv._Finder at 0x103fbaf30>,\n",
       " _frozen_importlib.BuiltinImporter,\n",
       " _frozen_importlib.FrozenImporter,\n",
       " _frozen_importlib_external.PathFinder,\n",
       " <six._SixMetaPathImporter at 0x1059b8140>]"
      ]
     },
     "execution_count": 15,
     "metadata": {},
     "output_type": "execute_result"
    }
   ],
   "source": [
    "sys.meta_path"
   ]
  },
  {
   "cell_type": "code",
   "execution_count": 16,
   "id": "707f4795-90a9-40ef-b46a-8e2622cbd311",
   "metadata": {},
   "outputs": [],
   "source": [
    "# python goes thorough each importer / finder and asks if it knows given module name\n",
    "# then the module is loaded"
   ]
  },
  {
   "cell_type": "code",
   "execution_count": 17,
   "id": "32004c45-569d-4ca1-8fea-14bbfead02cd",
   "metadata": {},
   "outputs": [
    {
     "data": {
      "text/plain": [
       "ModuleSpec(name='decimal', loader=<_frozen_importlib_external.SourceFileLoader object at 0x105996660>, origin='/Library/Frameworks/Python.framework/Versions/3.12/lib/python3.12/decimal.py')"
      ]
     },
     "execution_count": 17,
     "metadata": {},
     "output_type": "execute_result"
    }
   ],
   "source": [
    "importlib.util.find_spec('decimal')"
   ]
  },
  {
   "cell_type": "code",
   "execution_count": 18,
   "id": "02c313f6-8569-450e-9097-478e5865730f",
   "metadata": {},
   "outputs": [],
   "source": [
    "with open(\"module_importlib_1.py\", \"w\") as code_file:\n",
    "    code_file.write(\"print('running module_importlib_1.py')\\n\")\n",
    "    code_file.write(\"a=100\\n\")"
   ]
  },
  {
   "cell_type": "code",
   "execution_count": 19,
   "id": "e078fd3f-fbcf-46b3-992a-b17d0a95be6c",
   "metadata": {},
   "outputs": [
    {
     "data": {
      "text/plain": [
       "ModuleSpec(name='module_importlib_1', loader=<_frozen_importlib_external.SourceFileLoader object at 0x10737cbf0>, origin='/Users/d.tomaszuk/workbench/python-fundamentals/python-fundamentals/modules/module_importlib_1.py')"
      ]
     },
     "execution_count": 19,
     "metadata": {},
     "output_type": "execute_result"
    }
   ],
   "source": [
    "importlib.util.find_spec(\"module_importlib_1\")"
   ]
  },
  {
   "cell_type": "code",
   "execution_count": 20,
   "id": "6bd787ba-73ad-4490-99f4-169f58253ac2",
   "metadata": {},
   "outputs": [
    {
     "name": "stdout",
     "output_type": "stream",
     "text": [
      "running module_importlib_1.py\n"
     ]
    }
   ],
   "source": [
    "import module_importlib_1"
   ]
  },
  {
   "cell_type": "code",
   "execution_count": 21,
   "id": "8cb80ce3-587e-4b86-8266-e7f47880f8cc",
   "metadata": {},
   "outputs": [
    {
     "data": {
      "text/plain": [
       "True"
      ]
     },
     "execution_count": 21,
     "metadata": {},
     "output_type": "execute_result"
    }
   ],
   "source": [
    "\"module_importlib_1\" in globals()"
   ]
  },
  {
   "cell_type": "code",
   "execution_count": 22,
   "id": "ea3228a5-87e9-45c8-ac28-a5364cc0396d",
   "metadata": {},
   "outputs": [
    {
     "data": {
      "text/plain": [
       "100"
      ]
     },
     "execution_count": 22,
     "metadata": {},
     "output_type": "execute_result"
    }
   ],
   "source": [
    "module_importlib_1.a"
   ]
  }
 ],
 "metadata": {
  "kernelspec": {
   "display_name": "Python 3 (ipykernel)",
   "language": "python",
   "name": "python3"
  },
  "language_info": {
   "codemirror_mode": {
    "name": "ipython",
    "version": 3
   },
   "file_extension": ".py",
   "mimetype": "text/x-python",
   "name": "python",
   "nbconvert_exporter": "python",
   "pygments_lexer": "ipython3",
   "version": "3.12.3"
  }
 },
 "nbformat": 4,
 "nbformat_minor": 5
}
