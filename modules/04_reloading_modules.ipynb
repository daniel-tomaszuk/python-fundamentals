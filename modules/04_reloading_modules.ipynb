{
 "cells": [
  {
   "cell_type": "code",
   "execution_count": 1,
   "id": "652ae131-bace-4bb9-939f-8b88c54e3dd2",
   "metadata": {},
   "outputs": [],
   "source": [
    "# module reload, can be done, NOT SAFE!\n",
    "\n",
    "import os\n",
    "\n",
    "def create_module_file(module_name, **kwargs):\n",
    "    \"\"\"\n",
    "    Create a module file named `module_name`.py\n",
    "    Module will have a single function that will\n",
    "    print out the kwargs.\n",
    "    \"\"\"\n",
    "    module_file_name = f\"{module_name}.py\"\n",
    "    module_rel_file_path = module_file_name\n",
    "    module_abs_file_path = os.path.abspath(module_rel_file_path)\n",
    "\n",
    "    with open(module_abs_file_path, \"w\") as f:\n",
    "        f.write(f\"# {module_name}.py\\n\\n\")\n",
    "        f.write(f\"print('running {module_file_name}...')\\n\\n\")\n",
    "        f.write(f\"def print_values():\\n\")\n",
    "        for key, value in kwargs.items():\n",
    "            f.write(f\"\\tprint('{str(key)}', '{str(value)}')\\n\")\n"
   ]
  },
  {
   "cell_type": "code",
   "execution_count": 2,
   "id": "8b2918cd-f679-4e7e-948a-2ea26c064528",
   "metadata": {},
   "outputs": [],
   "source": [
    "create_module_file(\"reloading_modules_1\", k1=10, k2=20)"
   ]
  },
  {
   "cell_type": "code",
   "execution_count": 3,
   "id": "ea65e922-1092-46dc-9238-f33680885e6c",
   "metadata": {},
   "outputs": [
    {
     "name": "stdout",
     "output_type": "stream",
     "text": [
      "running reloading_modules_1.py...\n"
     ]
    }
   ],
   "source": [
    "import reloading_modules_1"
   ]
  },
  {
   "cell_type": "code",
   "execution_count": 4,
   "id": "4f28bcb4-e229-438d-a563-3fee8b5019f2",
   "metadata": {},
   "outputs": [
    {
     "name": "stdout",
     "output_type": "stream",
     "text": [
      "k1 10\n",
      "k2 20\n"
     ]
    }
   ],
   "source": [
    "reloading_modules_1.print_values()"
   ]
  },
  {
   "cell_type": "code",
   "execution_count": 5,
   "id": "58db274f-4462-430b-a818-0da58e296371",
   "metadata": {},
   "outputs": [
    {
     "name": "stdout",
     "output_type": "stream",
     "text": [
      "k1 10\n",
      "k2 20\n"
     ]
    }
   ],
   "source": [
    "reloading_modules_1.print_values()"
   ]
  },
  {
   "cell_type": "code",
   "execution_count": 6,
   "id": "f998cd8f-35cd-4424-963d-1898cb8d32c3",
   "metadata": {},
   "outputs": [],
   "source": [
    "# create new version of the module\n",
    "create_module_file(\"reloading_modules_1\", k1=10, k2=20, k3=\"abcd\")"
   ]
  },
  {
   "cell_type": "code",
   "execution_count": 7,
   "id": "30786fdc-9dff-4420-9b98-7dc5284ea021",
   "metadata": {},
   "outputs": [
    {
     "name": "stdout",
     "output_type": "stream",
     "text": [
      "k1 10\n",
      "k2 20\n"
     ]
    }
   ],
   "source": [
    "# old values are still returned\n",
    "reloading_modules_1.print_values()"
   ]
  },
  {
   "cell_type": "code",
   "execution_count": 8,
   "id": "a01a5be7-0654-4a95-811a-f052a7e8aaef",
   "metadata": {},
   "outputs": [
    {
     "name": "stdout",
     "output_type": "stream",
     "text": [
      "k1 10\n",
      "k2 20\n"
     ]
    }
   ],
   "source": [
    "import reloading_modules_1   # this wont reload the module as it's already loaded\n",
    "\n",
    "reloading_modules_1.print_values()"
   ]
  },
  {
   "cell_type": "code",
   "execution_count": 9,
   "id": "5b74c488-589b-4189-8d4d-110b879a4d21",
   "metadata": {},
   "outputs": [
    {
     "data": {
      "text/plain": [
       "True"
      ]
     },
     "execution_count": 9,
     "metadata": {},
     "output_type": "execute_result"
    }
   ],
   "source": [
    "import sys\n",
    "\n",
    "\"reloading_modules_1\" in sys.modules"
   ]
  },
  {
   "cell_type": "code",
   "execution_count": 10,
   "id": "1de96e20-e4ca-475b-bd88-dcd8f8923b66",
   "metadata": {},
   "outputs": [],
   "source": [
    "del sys.modules[\"reloading_modules_1\"]"
   ]
  },
  {
   "cell_type": "code",
   "execution_count": 11,
   "id": "ae3944e0-fa6f-4901-9a36-cbfb283171fc",
   "metadata": {},
   "outputs": [
    {
     "name": "stdout",
     "output_type": "stream",
     "text": [
      "running reloading_modules_1.py...\n"
     ]
    }
   ],
   "source": [
    "import reloading_modules_1"
   ]
  },
  {
   "cell_type": "code",
   "execution_count": 12,
   "id": "65040036-84de-4552-a602-7b6a92097d1f",
   "metadata": {},
   "outputs": [
    {
     "name": "stdout",
     "output_type": "stream",
     "text": [
      "k1 10\n",
      "k2 20\n",
      "k3 abcd\n"
     ]
    }
   ],
   "source": [
    "# module got reloaded with new values\n",
    "reloading_modules_1.print_values()"
   ]
  },
  {
   "cell_type": "code",
   "execution_count": 13,
   "id": "675b0073-84fd-43f4-ba30-b3683a538438",
   "metadata": {},
   "outputs": [],
   "source": [
    "# this works here, but old imports in other modules wont be fixed\n",
    "# and will still hold old module"
   ]
  },
  {
   "cell_type": "code",
   "execution_count": 14,
   "id": "8e834a28-5c3f-44ca-a2ad-f3fa2e9df563",
   "metadata": {},
   "outputs": [
    {
     "name": "stdout",
     "output_type": "stream",
     "text": [
      "running reloading_modules_1.py...\n"
     ]
    },
    {
     "data": {
      "text/plain": [
       "<module 'reloading_modules_1' from '/Users/d.tomaszuk/workbench/python-fundamentals/python-fundamentals/modules/reloading_modules_1.py'>"
      ]
     },
     "execution_count": 14,
     "metadata": {},
     "output_type": "execute_result"
    }
   ],
   "source": [
    "import importlib\n",
    "\n",
    "# this will reload the module without changing the memory address\n",
    "importlib.reload(reloading_modules_1)"
   ]
  },
  {
   "cell_type": "code",
   "execution_count": 15,
   "id": "322984a6-25c5-4204-bb1e-915c8a9503df",
   "metadata": {},
   "outputs": [],
   "source": [
    "create_module_file(\"reloading_modules_2\", module_num=2)"
   ]
  },
  {
   "cell_type": "code",
   "execution_count": 16,
   "id": "c3f39200-cf94-4a90-8f93-3aef3477359b",
   "metadata": {},
   "outputs": [
    {
     "name": "stdout",
     "output_type": "stream",
     "text": [
      "running reloading_modules_2.py...\n",
      "module_num 2\n"
     ]
    }
   ],
   "source": [
    "from reloading_modules_2 import print_values\n",
    "\n",
    "print_values()"
   ]
  },
  {
   "cell_type": "code",
   "execution_count": 17,
   "id": "19732be5-2268-44b3-911f-4b0083998457",
   "metadata": {},
   "outputs": [],
   "source": [
    "create_module_file(\"reloading_modules_2\", module_num=2, more_info=\"a\")"
   ]
  },
  {
   "cell_type": "code",
   "execution_count": 18,
   "id": "e52dc08e-02d3-4985-8897-4b4ed309ad80",
   "metadata": {},
   "outputs": [
    {
     "name": "stdout",
     "output_type": "stream",
     "text": [
      "module_num 2\n"
     ]
    }
   ],
   "source": [
    "print_values()  # needs reloading"
   ]
  },
  {
   "cell_type": "code",
   "execution_count": 19,
   "id": "3111dcf0-b7e7-4236-a366-3621583dae8e",
   "metadata": {},
   "outputs": [
    {
     "name": "stdout",
     "output_type": "stream",
     "text": [
      "module print_values not in sys.modules\n"
     ]
    }
   ],
   "source": [
    "try:\n",
    "    # import lib can only import whole module\n",
    "    importlib.reload(print_values)\n",
    "except ImportError as e:\n",
    "    print(e)"
   ]
  },
  {
   "cell_type": "code",
   "execution_count": 20,
   "id": "7affaaac-e122-4c32-a8f5-1e02f6b82c6c",
   "metadata": {},
   "outputs": [
    {
     "data": {
      "text/plain": [
       "False"
      ]
     },
     "execution_count": 20,
     "metadata": {},
     "output_type": "execute_result"
    }
   ],
   "source": [
    "# so import reloading_modules_2..\n",
    "# but there is no reloading_modules_2 in our globlas!\n",
    "\"reloading_modules_2\" in globals()"
   ]
  },
  {
   "cell_type": "code",
   "execution_count": 21,
   "id": "a9542570-54dd-48eb-b4d5-ced28598a802",
   "metadata": {},
   "outputs": [
    {
     "name": "stdout",
     "output_type": "stream",
     "text": [
      "name 'reloading_modules_2' is not defined\n"
     ]
    }
   ],
   "source": [
    "# reloading is not possible\n",
    "try:\n",
    "    importlib.reload(reloading_modules_2)\n",
    "except NameError as e:\n",
    "    print(e)\n"
   ]
  },
  {
   "cell_type": "code",
   "execution_count": 22,
   "id": "588d337c-4303-4e18-9641-494e6dc809e4",
   "metadata": {},
   "outputs": [
    {
     "name": "stdout",
     "output_type": "stream",
     "text": [
      "running reloading_modules_2.py...\n"
     ]
    },
    {
     "data": {
      "text/plain": [
       "<module 'reloading_modules_2' from '/Users/d.tomaszuk/workbench/python-fundamentals/python-fundamentals/modules/reloading_modules_2.py'>"
      ]
     },
     "execution_count": 22,
     "metadata": {},
     "output_type": "execute_result"
    }
   ],
   "source": [
    "import reloading_modules_2\n",
    "\n",
    "importlib.reload(reloading_modules_2)\n"
   ]
  },
  {
   "cell_type": "code",
   "execution_count": 23,
   "id": "81fe6d6a-862c-4ae1-a179-a3024a7e0e7e",
   "metadata": {},
   "outputs": [
    {
     "name": "stdout",
     "output_type": "stream",
     "text": [
      "module_num 2\n",
      "more_info a\n"
     ]
    }
   ],
   "source": [
    "reloading_modules_2.print_values()"
   ]
  },
  {
   "cell_type": "code",
   "execution_count": 24,
   "id": "382d0b74-0368-431a-b0ba-607844ae2555",
   "metadata": {},
   "outputs": [
    {
     "name": "stdout",
     "output_type": "stream",
     "text": [
      "module_num 2\n"
     ]
    }
   ],
   "source": [
    "print_values()  # still old values!"
   ]
  },
  {
   "cell_type": "code",
   "execution_count": 25,
   "id": "636906b2-adcc-4245-b18c-bb8702d030ae",
   "metadata": {},
   "outputs": [],
   "source": [
    "print_values = sys.modules[\"reloading_modules_2\"].print_values"
   ]
  },
  {
   "cell_type": "code",
   "execution_count": 26,
   "id": "9efdd6d2-4752-469a-a950-8ddf2342b95c",
   "metadata": {},
   "outputs": [
    {
     "name": "stdout",
     "output_type": "stream",
     "text": [
      "module_num 2\n",
      "more_info a\n"
     ]
    }
   ],
   "source": [
    "print_values()"
   ]
  },
  {
   "cell_type": "code",
   "execution_count": null,
   "id": "3e791c4d-5e52-4321-b66b-eea55f25fded",
   "metadata": {},
   "outputs": [],
   "source": []
  }
 ],
 "metadata": {
  "kernelspec": {
   "display_name": "Python 3 (ipykernel)",
   "language": "python",
   "name": "python3"
  },
  "language_info": {
   "codemirror_mode": {
    "name": "ipython",
    "version": 3
   },
   "file_extension": ".py",
   "mimetype": "text/x-python",
   "name": "python",
   "nbconvert_exporter": "python",
   "pygments_lexer": "ipython3",
   "version": "3.12.3"
  }
 },
 "nbformat": 4,
 "nbformat_minor": 5
}
