{
 "cells": [
  {
   "cell_type": "code",
   "execution_count": 1,
   "id": "cdd0ad01-7071-4745-bed9-ff03de5dfc3b",
   "metadata": {},
   "outputs": [],
   "source": [
    "import structuring_packages.common.validators.json"
   ]
  },
  {
   "cell_type": "code",
   "execution_count": 2,
   "id": "0e562ff7-5a3c-4090-88ff-d1797d001fe2",
   "metadata": {},
   "outputs": [],
   "source": [
    "structuring_packages.common.validators.json.is_json(\"{}\")"
   ]
  },
  {
   "cell_type": "code",
   "execution_count": 3,
   "id": "3302fc78-7285-465f-88fd-7bbae930b8a4",
   "metadata": {},
   "outputs": [
    {
     "data": {
      "text/plain": [
       "{'__name__': '__main__',\n",
       " '__doc__': 'Automatically created module for IPython interactive environment',\n",
       " '__package__': None,\n",
       " '__loader__': None,\n",
       " '__spec__': None,\n",
       " '__builtin__': <module 'builtins' (built-in)>,\n",
       " '__builtins__': <module 'builtins' (built-in)>,\n",
       " '_ih': ['',\n",
       "  'import structuring_packages.common.validators.json',\n",
       "  'structuring_packages.common.validators.json.is_json(\"{}\")',\n",
       "  'globals()'],\n",
       " '_oh': {},\n",
       " '_dh': [PosixPath('/Users/d.tomaszuk/workbench/python-fundamentals/python-fundamentals/modules')],\n",
       " 'In': ['',\n",
       "  'import structuring_packages.common.validators.json',\n",
       "  'structuring_packages.common.validators.json.is_json(\"{}\")',\n",
       "  'globals()'],\n",
       " 'Out': {},\n",
       " 'get_ipython': <bound method InteractiveShell.get_ipython of <ipykernel.zmqshell.ZMQInteractiveShell object at 0x1037667e0>>,\n",
       " 'exit': <IPython.core.autocall.ZMQExitAutocall at 0x1037078f0>,\n",
       " 'quit': <IPython.core.autocall.ZMQExitAutocall at 0x1037078f0>,\n",
       " 'open': <function _io.open(file, mode='r', buffering=-1, encoding=None, errors=None, newline=None, closefd=True, opener=None)>,\n",
       " '_': '',\n",
       " '__': '',\n",
       " '___': '',\n",
       " '__session__': '/Users/d.tomaszuk/workbench/python-fundamentals/python-fundamentals/modules/06_structuring_packages.ipynb',\n",
       " '_i': 'structuring_packages.common.validators.json.is_json(\"{}\")',\n",
       " '_ii': 'import structuring_packages.common.validators.json',\n",
       " '_iii': '',\n",
       " '_i1': 'import structuring_packages.common.validators.json',\n",
       " 'structuring_packages': <module 'structuring_packages' from '/Users/d.tomaszuk/workbench/python-fundamentals/python-fundamentals/modules/structuring_packages/__init__.py'>,\n",
       " '_i2': 'structuring_packages.common.validators.json.is_json(\"{}\")',\n",
       " '_i3': 'globals()'}"
      ]
     },
     "execution_count": 3,
     "metadata": {},
     "output_type": "execute_result"
    }
   ],
   "source": [
    "globals()"
   ]
  },
  {
   "cell_type": "code",
   "execution_count": 4,
   "id": "a0719a4f-3eb0-4b91-93cb-023ab48deb69",
   "metadata": {},
   "outputs": [
    {
     "name": "stdout",
     "output_type": "stream",
     "text": [
      "__name__\n",
      "__doc__\n",
      "__package__\n",
      "__loader__\n",
      "__spec__\n",
      "__path__\n",
      "__file__\n",
      "__cached__\n",
      "__builtins__\n",
      "common\n"
     ]
    }
   ],
   "source": [
    "for k in structuring_packages.__dict__.keys():\n",
    "    print(k)"
   ]
  },
  {
   "cell_type": "code",
   "execution_count": 5,
   "id": "cc69b737-2272-42fb-af63-4490d32fd56c",
   "metadata": {},
   "outputs": [
    {
     "name": "stdout",
     "output_type": "stream",
     "text": [
      "__name__\n",
      "__doc__\n",
      "__package__\n",
      "__loader__\n",
      "__spec__\n",
      "__path__\n",
      "__file__\n",
      "__cached__\n",
      "__builtins__\n",
      "validators\n"
     ]
    }
   ],
   "source": [
    "for k in structuring_packages.common.__dict__.keys():\n",
    "    print(k)"
   ]
  },
  {
   "cell_type": "code",
   "execution_count": 6,
   "id": "f9da0e2d-3a8f-4301-b233-d1401010eeb1",
   "metadata": {},
   "outputs": [
    {
     "name": "stdout",
     "output_type": "stream",
     "text": [
      "__name__\n",
      "__doc__\n",
      "__package__\n",
      "__loader__\n",
      "__spec__\n",
      "__path__\n",
      "__file__\n",
      "__cached__\n",
      "__builtins__\n",
      "json\n"
     ]
    }
   ],
   "source": [
    "for k in structuring_packages.common.validators.__dict__.keys():\n",
    "    print(k)"
   ]
  },
  {
   "cell_type": "code",
   "execution_count": 7,
   "id": "5bf0e3d0-659c-45ab-9938-fcb4b77abb4f",
   "metadata": {},
   "outputs": [
    {
     "name": "stdout",
     "output_type": "stream",
     "text": [
      "__name__\n",
      "__doc__\n",
      "__package__\n",
      "__loader__\n",
      "__spec__\n",
      "__file__\n",
      "__cached__\n",
      "__builtins__\n",
      "is_json\n",
      "json_helper_1\n",
      "json_helper_2\n"
     ]
    }
   ],
   "source": [
    "for k in structuring_packages.common.validators.json.__dict__.keys():\n",
    "    print(k)"
   ]
  },
  {
   "cell_type": "code",
   "execution_count": 8,
   "id": "1452772d-0bd6-401a-96ea-929776b52081",
   "metadata": {},
   "outputs": [],
   "source": [
    "# it's also possible to import directly from zip files!\n",
    "# we nned to add zipped file into sys.path"
   ]
  },
  {
   "cell_type": "code",
   "execution_count": 9,
   "id": "b7f8912d-2b3d-44db-aa9e-bed187350999",
   "metadata": {},
   "outputs": [],
   "source": [
    "import sys\n",
    "sys.path.append(\"./common_zipped.zip\")"
   ]
  },
  {
   "cell_type": "code",
   "execution_count": 10,
   "id": "6a996c94-456b-4062-b9cc-42f5cdb37f7d",
   "metadata": {},
   "outputs": [
    {
     "name": "stdout",
     "output_type": "stream",
     "text": [
      "['/Library/Frameworks/Python.framework/Versions/3.12/lib/python312.zip', '/Library/Frameworks/Python.framework/Versions/3.12/lib/python3.12', '/Library/Frameworks/Python.framework/Versions/3.12/lib/python3.12/lib-dynload', '', '/Users/d.tomaszuk/workbench/python-fundamentals/venv/lib/python3.12/site-packages', './common_zipped.zip']\n"
     ]
    }
   ],
   "source": [
    "print(sys.path)"
   ]
  },
  {
   "cell_type": "code",
   "execution_count": 11,
   "id": "b5ee5e11-b647-444e-b669-35be0d9acb9f",
   "metadata": {},
   "outputs": [],
   "source": [
    "import common_zipped"
   ]
  },
  {
   "cell_type": "code",
   "execution_count": 12,
   "id": "3126c55b-09f8-481c-81c1-91e542328a22",
   "metadata": {},
   "outputs": [],
   "source": [
    "from common_zipped import validators as zipped_validators"
   ]
  },
  {
   "cell_type": "code",
   "execution_count": 13,
   "id": "f8bce4de-8239-431e-804f-5f84c8810fd0",
   "metadata": {},
   "outputs": [
    {
     "data": {
      "text/plain": [
       "ModuleSpec(name='common_zipped.validators', loader=<zipimporter object \"./common_zipped.zip/common_zipped/\">, origin='./common_zipped.zip/common_zipped/validators/__init__.py', submodule_search_locations=['./common_zipped.zip/common_zipped/validators'])"
      ]
     },
     "execution_count": 13,
     "metadata": {},
     "output_type": "execute_result"
    }
   ],
   "source": [
    "zipped_validators.__spec__  # uses zip importer!"
   ]
  },
  {
   "cell_type": "code",
   "execution_count": null,
   "id": "a5d6ff69-88be-488e-9907-bc7bbffd550f",
   "metadata": {},
   "outputs": [],
   "source": []
  }
 ],
 "metadata": {
  "kernelspec": {
   "display_name": "Python 3 (ipykernel)",
   "language": "python",
   "name": "python3"
  },
  "language_info": {
   "codemirror_mode": {
    "name": "ipython",
    "version": 3
   },
   "file_extension": ".py",
   "mimetype": "text/x-python",
   "name": "python",
   "nbconvert_exporter": "python",
   "pygments_lexer": "ipython3",
   "version": "3.12.3"
  }
 },
 "nbformat": 4,
 "nbformat_minor": 5
}
