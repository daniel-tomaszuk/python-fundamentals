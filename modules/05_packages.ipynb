{
 "cells": [
  {
   "cell_type": "code",
   "execution_count": null,
   "id": "af25c45f-a4d4-459b-8fb9-04c4d7dfc7fe",
   "metadata": {},
   "outputs": [],
   "source": [
    "import sys\n",
    "import packages.module1"
   ]
  },
  {
   "cell_type": "code",
   "execution_count": null,
   "id": "572e8bcf-cb8a-4220-9a94-06e9e50c2721",
   "metadata": {},
   "outputs": [],
   "source": [
    "\"module1\" in sys.modules, \"packages\" in sys.modules"
   ]
  },
  {
   "cell_type": "code",
   "execution_count": null,
   "id": "04a39667-675e-48c6-addd-90d83687e3da",
   "metadata": {},
   "outputs": [],
   "source": [
    "packages.module1.value"
   ]
  },
  {
   "cell_type": "code",
   "execution_count": null,
   "id": "da9349b8-fc18-4341-ba7c-2ec47c4934ae",
   "metadata": {},
   "outputs": [],
   "source": [
    "import packages.pack1"
   ]
  },
  {
   "cell_type": "code",
   "execution_count": null,
   "id": "8b6ba3aa-e506-4ad8-8b46-b53608135b0b",
   "metadata": {},
   "outputs": [],
   "source": [
    "packages.pack1"
   ]
  },
  {
   "cell_type": "code",
   "execution_count": null,
   "id": "f411add2-a03a-40e2-95ad-34328ba669e6",
   "metadata": {},
   "outputs": [],
   "source": [
    "packages.pack1.__spec__"
   ]
  },
  {
   "cell_type": "code",
   "execution_count": null,
   "id": "2b461d25-8f6e-49db-a104-dd8163574aa0",
   "metadata": {},
   "outputs": [],
   "source": [
    "packages.pack1.__package__"
   ]
  },
  {
   "cell_type": "code",
   "execution_count": null,
   "id": "bfb44732-efbe-4a6f-bbda-60aa610c6962",
   "metadata": {},
   "outputs": [],
   "source": [
    "packages.module1.__package__"
   ]
  },
  {
   "cell_type": "code",
   "execution_count": null,
   "id": "2e4ad140-58a2-4b87-813e-2c8ab4e46d54",
   "metadata": {},
   "outputs": [],
   "source": [
    "# __path__ is only for packages, not modules\n",
    "try:\n",
    "    packages.module1.__path__\n",
    "except AttributeError as e:\n",
    "    print(e)"
   ]
  },
  {
   "cell_type": "code",
   "execution_count": null,
   "id": "397a2666-ae4e-4865-a132-588975e328d2",
   "metadata": {},
   "outputs": [],
   "source": [
    "packages.pack1.__path__"
   ]
  },
  {
   "cell_type": "code",
   "execution_count": null,
   "id": "5751d6ff-ec8f-4af9-8e50-d13b677657cc",
   "metadata": {},
   "outputs": [],
   "source": [
    "packages.module1.__file__"
   ]
  },
  {
   "cell_type": "code",
   "execution_count": null,
   "id": "13d3891f-08e9-48cb-b19a-65cea3167c1d",
   "metadata": {},
   "outputs": [],
   "source": [
    "packages.pack1.__file__  # gives __init__ file of the package"
   ]
  },
  {
   "cell_type": "code",
   "execution_count": null,
   "id": "09c4d3d2-f52d-41cc-bd88-c593604de1db",
   "metadata": {},
   "outputs": [],
   "source": [
    "del sys.modules[\"packages.pack1\"]"
   ]
  },
  {
   "cell_type": "code",
   "execution_count": null,
   "id": "ca3abbdb-56b2-411b-995e-ea3d64d4c2fa",
   "metadata": {},
   "outputs": [],
   "source": [
    "import packages.pack1"
   ]
  },
  {
   "cell_type": "code",
   "execution_count": null,
   "id": "acac49c5-8b06-4e8b-b645-2e3077abd0ff",
   "metadata": {},
   "outputs": [],
   "source": [
    "packages.pack1.value"
   ]
  },
  {
   "cell_type": "code",
   "execution_count": null,
   "id": "24f2778e-ab28-4519-97cc-8ae6384e0dd9",
   "metadata": {},
   "outputs": [],
   "source": [
    "type(packages.pack1), type(packages.module1)"
   ]
  },
  {
   "cell_type": "code",
   "execution_count": null,
   "id": "28ca83e8-634f-4b3c-b63d-b4149523f044",
   "metadata": {},
   "outputs": [],
   "source": [
    "import packages.pack1.pack1_1"
   ]
  },
  {
   "cell_type": "code",
   "execution_count": null,
   "id": "fdd5ae63-9a41-476b-abbe-ba3f9a5a6cac",
   "metadata": {},
   "outputs": [],
   "source": [
    "packages.pack1.pack1_1.value"
   ]
  },
  {
   "cell_type": "code",
   "execution_count": null,
   "id": "fd0a95b5-da30-407c-b867-fb0a8292b385",
   "metadata": {},
   "outputs": [],
   "source": [
    "packages.pack1.pack1_1.__spec__"
   ]
  },
  {
   "cell_type": "code",
   "execution_count": null,
   "id": "94113f29-e05c-49f5-ba89-93af842cb200",
   "metadata": {},
   "outputs": [],
   "source": [
    "packages.pack1.pack1_1.__path__"
   ]
  },
  {
   "cell_type": "code",
   "execution_count": null,
   "id": "67270010-c94b-4e2a-b91a-c6887024741e",
   "metadata": {},
   "outputs": [],
   "source": [
    "packages.pack1.pack1_1.__file__"
   ]
  },
  {
   "cell_type": "code",
   "execution_count": null,
   "id": "78b0e5dd-1060-407a-adc7-6760c29be0de",
   "metadata": {},
   "outputs": [],
   "source": [
    "del sys.modules[\"packages\"]\n",
    "del sys.modules[\"packages.module1\"]\n",
    "del sys.modules[\"packages.pack1\"]\n",
    "del sys.modules[\"packages.pack1.pack1_1\"]"
   ]
  },
  {
   "cell_type": "code",
   "execution_count": null,
   "id": "66583c57-9087-4b12-9129-3ab4f9eff135",
   "metadata": {},
   "outputs": [],
   "source": [
    "# every package along the way needs to be imported\n",
    "import packages.pack1.pack1_1"
   ]
  },
  {
   "cell_type": "code",
   "execution_count": null,
   "id": "4e386f9d-0115-4d1d-81b0-16baade2cf0b",
   "metadata": {},
   "outputs": [],
   "source": [
    "packages.pack1.pack1_1.value"
   ]
  },
  {
   "cell_type": "code",
   "execution_count": null,
   "id": "1a30161d-f4b2-4a9e-9733-0de0dd08cdf8",
   "metadata": {},
   "outputs": [],
   "source": [
    "from packages.pack1 import pack1_1  # this just creates a label that point to the same place as packages.pack1.pack1_1"
   ]
  },
  {
   "cell_type": "code",
   "execution_count": null,
   "id": "555c5ff3-a666-424b-8cab-cdcbfd80bd75",
   "metadata": {},
   "outputs": [],
   "source": [
    "id(pack1_1) == id(packages.pack1.pack1_1)"
   ]
  },
  {
   "cell_type": "code",
   "execution_count": null,
   "id": "d96591ff-68bc-42ad-981f-a9fda45a9ff2",
   "metadata": {},
   "outputs": [],
   "source": [
    "import packages.pack1.module1"
   ]
  },
  {
   "cell_type": "code",
   "execution_count": null,
   "id": "f3bc35c4-b442-4f84-a112-037a7b19427b",
   "metadata": {},
   "outputs": [],
   "source": [
    "import packages.pack1.pack1_1.module1_1a"
   ]
  },
  {
   "cell_type": "code",
   "execution_count": null,
   "id": "b78a22c0-549e-4e08-ae80-a59e61a3acdc",
   "metadata": {},
   "outputs": [],
   "source": [
    "import packages.pack1.pack1_1.module1_1b"
   ]
  },
  {
   "cell_type": "code",
   "execution_count": null,
   "id": "3d9950da-7c2a-4966-a27f-a66ed1b36646",
   "metadata": {},
   "outputs": [],
   "source": [
    "try:\n",
    "    # this is not a package!\n",
    "    import packages.pack1.pack1_1.module1_1b.__path__\n",
    "except ModuleNotFoundError as e:\n",
    "    print(e)"
   ]
  },
  {
   "cell_type": "code",
   "execution_count": null,
   "id": "7415548a-344e-40a4-84d2-e118736016d7",
   "metadata": {},
   "outputs": [],
   "source": []
  }
 ],
 "metadata": {
  "kernelspec": {
   "display_name": "Python 3 (ipykernel)",
   "language": "python",
   "name": "python3"
  },
  "language_info": {
   "codemirror_mode": {
    "name": "ipython",
    "version": 3
   },
   "file_extension": ".py",
   "mimetype": "text/x-python",
   "name": "python",
   "nbconvert_exporter": "python",
   "pygments_lexer": "ipython3",
   "version": "3.12.3"
  }
 },
 "nbformat": 4,
 "nbformat_minor": 5
}
